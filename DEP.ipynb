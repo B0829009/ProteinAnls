{
 "cells": [
  {
   "cell_type": "markdown",
   "metadata": {
    "colab_type": "text",
    "id": "view-in-github"
   },
   "source": [
    "<a href=\"https://colab.research.google.com/github/B0829009/pa/blob/main/DEP.ipynb\" target=\"_parent\"><img src=\"https://colab.research.google.com/assets/colab-badge.svg\" alt=\"Open In Colab\"/></a>"
   ]
  },
  {
   "cell_type": "markdown",
   "metadata": {
    "id": "h3iSZem3_XaV"
   },
   "source": [
    "# **connect to drive**"
   ]
  },
  {
   "cell_type": "code",
   "execution_count": 1,
   "metadata": {
    "colab": {
     "base_uri": "https://localhost:8080/"
    },
    "id": "yQQEkCa6-mBm",
    "outputId": "25c96e05-90a7-4054-89fd-d7256c2a1954"
   },
   "outputs": [
    {
     "ename": "SyntaxError",
     "evalue": "invalid syntax (<ipython-input-1-985945873782>, line 1)",
     "output_type": "error",
     "traceback": [
      "\u001b[1;36m  File \u001b[1;32m\"<ipython-input-1-985945873782>\"\u001b[1;36m, line \u001b[1;32m1\u001b[0m\n\u001b[1;33m    from google.colab import drivefrom google.colab import drive\u001b[0m\n\u001b[1;37m                                       ^\u001b[0m\n\u001b[1;31mSyntaxError\u001b[0m\u001b[1;31m:\u001b[0m invalid syntax\n"
     ]
    }
   ],
   "source": [
    "from google.colab import drive\n",
    "\n",
    "drivePath = '/content/drive'\n",
    "\n",
    "drive.mount(drivePath)"
   ]
  },
  {
   "cell_type": "markdown",
   "metadata": {
    "id": "NJ8JsiLxdod0"
   },
   "source": [
    "#library"
   ]
  },
  {
   "cell_type": "code",
   "execution_count": null,
   "metadata": {},
   "outputs": [],
   "source": [
    "%reload_ext rpy2.ipython"
   ]
  },
  {
   "cell_type": "code",
   "execution_count": null,
   "metadata": {},
   "outputs": [],
   "source": [
    "%%R\n",
    "lib_loc <- \"/content/drive/MyDrive/Colab_Notebooks/r_lib\" #library location"
   ]
  },
  {
   "cell_type": "code",
   "execution_count": null,
   "metadata": {
    "colab": {
     "base_uri": "https://localhost:8080/"
    },
    "id": "00cGl2Hednqk",
    "outputId": "be87e202-e875-4baf-f12f-2e76120818d9"
   },
   "outputs": [
    {
     "name": "stdout",
     "output_type": "stream",
     "text": [
      "\r\n",
      "0% [Working]\r\n",
      "            \r\n",
      "Get:1 http://ppa.launchpad.net/c2d4u.team/c2d4u4.0+/ubuntu bionic InRelease [15.9 kB]\n",
      "\r\n",
      "0% [Connecting to archive.ubuntu.com (91.189.88.142)] [Connecting to security.u\r\n",
      "0% [Connecting to archive.ubuntu.com (91.189.88.142)] [Connecting to security.u\r\n",
      "                                                                               \r\n",
      "Hit:2 http://archive.ubuntu.com/ubuntu bionic InRelease\n",
      "\r\n",
      "0% [Waiting for headers] [Connecting to security.ubuntu.com (91.189.91.38)] [Co\r\n",
      "0% [1 InRelease gpgv 15.9 kB] [Waiting for headers] [Connecting to security.ubu\r\n",
      "                                                                               \r\n",
      "Get:3 http://archive.ubuntu.com/ubuntu bionic-updates InRelease [88.7 kB]\n",
      "\r\n",
      "0% [1 InRelease gpgv 15.9 kB] [3 InRelease 15.6 kB/88.7 kB 18%] [Connecting to \r\n",
      "                                                                               \r\n",
      "Hit:4 http://ppa.launchpad.net/cran/libgit2/ubuntu bionic InRelease\n",
      "\r\n",
      "0% [1 InRelease gpgv 15.9 kB] [3 InRelease 15.6 kB/88.7 kB 18%] [Connecting to \r\n",
      "                                                                               \r\n",
      "Get:5 https://cloud.r-project.org/bin/linux/ubuntu bionic-cran40/ InRelease [3,626 B]\n",
      "\r\n",
      "0% [1 InRelease gpgv 15.9 kB] [3 InRelease 15.6 kB/88.7 kB 18%] [Connecting to \r\n",
      "0% [1 InRelease gpgv 15.9 kB] [3 InRelease 15.6 kB/88.7 kB 18%] [Connecting to \r\n",
      "                                                                               \r\n",
      "Hit:6 http://ppa.launchpad.net/deadsnakes/ppa/ubuntu bionic InRelease\n",
      "\r\n",
      "0% [1 InRelease gpgv 15.9 kB] [3 InRelease 69.2 kB/88.7 kB 78%] [Connecting to \r\n",
      "0% [1 InRelease gpgv 15.9 kB] [Connecting to security.ubuntu.com (91.189.91.38)\r\n",
      "                                                                               \r\n",
      "Get:7 http://archive.ubuntu.com/ubuntu bionic-backports InRelease [74.6 kB]\n",
      "Hit:8 http://ppa.launchpad.net/graphics-drivers/ppa/ubuntu bionic InRelease\n",
      "Get:9 http://security.ubuntu.com/ubuntu bionic-security InRelease [88.7 kB]\n",
      "Ign:10 https://developer.download.nvidia.com/compute/cuda/repos/ubuntu1804/x86_64  InRelease\n",
      "Get:11 http://ppa.launchpad.net/c2d4u.team/c2d4u4.0+/ubuntu bionic/main Sources [1,813 kB]\n",
      "Ign:12 https://developer.download.nvidia.com/compute/machine-learning/repos/ubuntu1804/x86_64  InRelease\n",
      "Get:13 https://developer.download.nvidia.com/compute/cuda/repos/ubuntu1804/x86_64  Release [696 B]\n",
      "Hit:14 https://developer.download.nvidia.com/compute/machine-learning/repos/ubuntu1804/x86_64  Release\n",
      "Get:15 https://developer.download.nvidia.com/compute/cuda/repos/ubuntu1804/x86_64  Release.gpg [836 B]\n",
      "Get:16 http://ppa.launchpad.net/c2d4u.team/c2d4u4.0+/ubuntu bionic/main amd64 Packages [928 kB]\n",
      "Get:17 https://cloud.r-project.org/bin/linux/ubuntu bionic-cran40/ Packages [73.0 kB]\n",
      "Get:18 http://archive.ubuntu.com/ubuntu bionic-updates/multiverse amd64 Packages [34.5 kB]\n",
      "Get:19 http://archive.ubuntu.com/ubuntu bionic-updates/restricted amd64 Packages [697 kB]\n",
      "Get:20 http://archive.ubuntu.com/ubuntu bionic-updates/main amd64 Packages [2,864 kB]\n",
      "Get:21 http://archive.ubuntu.com/ubuntu bionic-updates/universe amd64 Packages [2,218 kB]\n",
      "Get:23 https://developer.download.nvidia.com/compute/cuda/repos/ubuntu1804/x86_64  Packages [808 kB]\n",
      "Get:24 http://security.ubuntu.com/ubuntu bionic-security/universe amd64 Packages [1,439 kB]\n",
      "Get:25 http://security.ubuntu.com/ubuntu bionic-security/restricted amd64 Packages [665 kB]\n",
      "Get:26 http://security.ubuntu.com/ubuntu bionic-security/main amd64 Packages [2,426 kB]\n",
      "Get:27 http://security.ubuntu.com/ubuntu bionic-security/multiverse amd64 Packages [26.8 kB]\n",
      "Fetched 14.3 MB in 3s (4,953 kB/s)\n",
      "Reading package lists... Done\n",
      "Reading package lists... Done\n",
      "Building dependency tree       \n",
      "Reading state information... Done\n",
      "The following additional packages will be installed:\n",
      "  r-cran-gmm r-cran-mvtnorm r-cran-sandwich r-cran-zoo\n",
      "The following NEW packages will be installed:\n",
      "  r-cran-gmm r-cran-mvtnorm r-cran-sandwich r-cran-tmvtnorm r-cran-zoo\n",
      "0 upgraded, 5 newly installed, 0 to remove and 55 not upgraded.\n",
      "Need to get 4,742 kB of archives.\n",
      "After this operation, 5,682 kB of additional disk space will be used.\n",
      "Get:1 http://ppa.launchpad.net/c2d4u.team/c2d4u4.0+/ubuntu bionic/main amd64 r-cran-zoo amd64 1.8-9-1cran1.1804.0 [1,004 kB]\n",
      "Get:2 http://ppa.launchpad.net/c2d4u.team/c2d4u4.0+/ubuntu bionic/main amd64 r-cran-sandwich all 3.0-1-1cran1.1804.0 [1,474 kB]\n",
      "Get:3 http://ppa.launchpad.net/c2d4u.team/c2d4u4.0+/ubuntu bionic/main amd64 r-cran-gmm amd64 1.6-6-1cran1.1804.0 [1,423 kB]\n",
      "Get:4 http://ppa.launchpad.net/c2d4u.team/c2d4u4.0+/ubuntu bionic/main amd64 r-cran-mvtnorm amd64 1.1-3-1cran1.1804.0 [222 kB]\n",
      "Get:5 http://ppa.launchpad.net/c2d4u.team/c2d4u4.0+/ubuntu bionic/main amd64 r-cran-tmvtnorm amd64 1.4-10-1cran2.1804.0 [621 kB]\n",
      "Fetched 4,742 kB in 0s (10.3 MB/s)\n",
      "Selecting previously unselected package r-cran-zoo.\n",
      "(Reading database ... 155219 files and directories currently installed.)\n",
      "Preparing to unpack .../r-cran-zoo_1.8-9-1cran1.1804.0_amd64.deb ...\n",
      "Unpacking r-cran-zoo (1.8-9-1cran1.1804.0) ...\n",
      "Selecting previously unselected package r-cran-sandwich.\n",
      "Preparing to unpack .../r-cran-sandwich_3.0-1-1cran1.1804.0_all.deb ...\n",
      "Unpacking r-cran-sandwich (3.0-1-1cran1.1804.0) ...\n",
      "Selecting previously unselected package r-cran-gmm.\n",
      "Preparing to unpack .../r-cran-gmm_1.6-6-1cran1.1804.0_amd64.deb ...\n",
      "Unpacking r-cran-gmm (1.6-6-1cran1.1804.0) ...\n",
      "Selecting previously unselected package r-cran-mvtnorm.\n",
      "Preparing to unpack .../r-cran-mvtnorm_1.1-3-1cran1.1804.0_amd64.deb ...\n",
      "Unpacking r-cran-mvtnorm (1.1-3-1cran1.1804.0) ...\n",
      "Selecting previously unselected package r-cran-tmvtnorm.\n",
      "Preparing to unpack .../r-cran-tmvtnorm_1.4-10-1cran2.1804.0_amd64.deb ...\n",
      "Unpacking r-cran-tmvtnorm (1.4-10-1cran2.1804.0) ...\n",
      "Setting up r-cran-zoo (1.8-9-1cran1.1804.0) ...\n",
      "Setting up r-cran-mvtnorm (1.1-3-1cran1.1804.0) ...\n",
      "Setting up r-cran-sandwich (3.0-1-1cran1.1804.0) ...\n",
      "Setting up r-cran-gmm (1.6-6-1cran1.1804.0) ...\n",
      "Setting up r-cran-tmvtnorm (1.4-10-1cran2.1804.0) ...\n"
     ]
    }
   ],
   "source": [
    "!apt-get update\n",
    "!apt-get install r-cran-tmvtnorm"
   ]
  },
  {
   "cell_type": "code",
   "execution_count": null,
   "metadata": {
    "colab": {
     "base_uri": "https://localhost:8080/"
    },
    "id": "LHyoqHpkduwD",
    "outputId": "9d3a8949-7747-4499-f95e-e1f27c2ca884"
   },
   "outputs": [
    {
     "name": "stderr",
     "output_type": "stream",
     "text": [
      "R[write to console]: \n",
      "Attaching package: ‘dplyr’\n",
      "\n",
      "\n",
      "R[write to console]: The following objects are masked from ‘package:stats’:\n",
      "\n",
      "    filter, lag\n",
      "\n",
      "\n",
      "R[write to console]: The following objects are masked from ‘package:base’:\n",
      "\n",
      "    intersect, setdiff, setequal, union\n",
      "\n",
      "\n",
      "R[write to console]: \n",
      "Attaching package: ‘gridExtra’\n",
      "\n",
      "\n",
      "R[write to console]: The following object is masked from ‘package:dplyr’:\n",
      "\n",
      "    combine\n",
      "\n",
      "\n",
      "R[write to console]: Loading required package: ggplot2\n",
      "\n"
     ]
    }
   ],
   "source": [
    "%%R\n",
    "library(DEP, lib=lib_loc)\n",
    "library(\"dplyr\")\n",
    "library(gridExtra,lib=lib_loc)\n",
    "library(fdrtool,lib=lib_loc)\n",
    "library(ggrepel,lib=lib_loc)"
   ]
  },
  {
   "cell_type": "markdown",
   "metadata": {
    "id": "OYVHWo7EgRlk"
   },
   "source": [
    "#widgets"
   ]
  },
  {
   "cell_type": "markdown",
   "metadata": {
    "id": "8bz5xuiWghSk"
   },
   "source": [
    "generate_checkbox(description, id)"
   ]
  },
  {
   "cell_type": "code",
   "execution_count": null,
   "metadata": {
    "id": "-yoCqJa9gpuI"
   },
   "outputs": [],
   "source": [
    "import ipywidgets as widgets\n",
    "\n",
    "#checkbox\n",
    "def generate_checkbox(description, id):\n",
    "  check_box = widgets.Checkbox(\n",
    "        value=False, #預設\n",
    "        description=description,\n",
    "        disabled=False, #愈愈\n",
    "        indent=False, \n",
    "  )\n",
    "  def on_checkbox_change(change):\n",
    "    experimental_design.at[id, 'state'] = check_box.value\n",
    "    if(check_box.value):\n",
    "        experimental_design.at[id, 'label'] = df_colname[id-1]\n",
    "    \n",
    "    #print(check_box.value)\n",
    "  display(check_box)\n",
    "  check_box.observe(on_checkbox_change, names=\"value\")\n"
   ]
  },
  {
   "cell_type": "markdown",
   "metadata": {
    "id": "7beJcjQhgizO"
   },
   "source": [
    "generate_text(id, placeholder)"
   ]
  },
  {
   "cell_type": "code",
   "execution_count": null,
   "metadata": {
    "id": "sHn5fLqBgvoH"
   },
   "outputs": [],
   "source": [
    "#text\n",
    "def generate_text(id, placeholder):\n",
    "\n",
    "  text = widgets.Text(\n",
    "      value='',\n",
    "      #placeholder=placeholder,\n",
    "      description=placeholder,\n",
    "      disabled=False,\n",
    "      layout = widgets.Layout(height=\"30px\", width=\"35%\")\n",
    "  )\n",
    "  def on_text_change(change):\n",
    "    experimental_design.at[id, placeholder] = text.value\n",
    "    #print(experimental_design)\n",
    "\n",
    "  display(text)\n",
    "  text.observe(on_text_change, names=\"value\")\n"
   ]
  },
  {
   "cell_type": "markdown",
   "metadata": {
    "id": "FStNRGUdgVLc"
   },
   "source": [
    "generate_button(count,description)\n"
   ]
  },
  {
   "cell_type": "code",
   "execution_count": null,
   "metadata": {
    "id": "6BR5y0Qrk3CJ"
   },
   "outputs": [],
   "source": [
    "def generate_button(count,description):\n",
    "  button = widgets.Button(description=description)\n",
    "  output = widgets.Output()\n",
    "  display(button, output)\n",
    "  def on_button_clicked(b):\n",
    "      with output:\n",
    "          if(count):\n",
    "            print(\"save to experimental_design.csv\")\n",
    "            \n",
    "            temp = experimental_design[(experimental_design.state != \"False\")]\n",
    "            temp = temp.drop(\"state\", axis=1)\n",
    "            temp.to_csv(\"experimental_design.csv\", index=False)\n",
    "          else :\n",
    "              temp = experimental_design[(experimental_design.state != \"False\")]\n",
    "              print(temp)\n",
    "              generate_button(1,\"check again\")\n",
    "  button.on_click(on_button_clicked)"
   ]
  },
  {
   "cell_type": "markdown",
   "metadata": {
    "id": "_2c-2Uq2iH5o"
   },
   "source": [
    "#選擇檔案"
   ]
  },
  {
   "cell_type": "code",
   "execution_count": null,
   "metadata": {
    "colab": {
     "base_uri": "https://localhost:8080/",
     "height": 75,
     "resources": {
      "http://localhost:8080/nbextensions/google.colab/files.js": {
       "data": "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",
       "headers": [
        [
         "content-type",
         "application/javascript"
        ]
       ],
       "ok": true,
       "status": 200,
       "status_text": ""
      }
     }
    },
    "id": "W9_JPa9_NOlN",
    "outputId": "f13805e3-b9f1-47cf-fbf1-01aa7b0e60ac"
   },
   "outputs": [
    {
     "data": {
      "text/html": [
       "\n",
       "     <input type=\"file\" id=\"files-2a9fd8d2-e399-4b14-a5cf-b019cfa8cbef\" name=\"files[]\" multiple disabled\n",
       "        style=\"border:none\" />\n",
       "     <output id=\"result-2a9fd8d2-e399-4b14-a5cf-b019cfa8cbef\">\n",
       "      Upload widget is only available when the cell has been executed in the\n",
       "      current browser session. Please rerun this cell to enable.\n",
       "      </output>\n",
       "      <script src=\"/nbextensions/google.colab/files.js\"></script> "
      ],
      "text/plain": [
       "<IPython.core.display.HTML object>"
      ]
     },
     "metadata": {},
     "output_type": "display_data"
    },
    {
     "name": "stdout",
     "output_type": "stream",
     "text": [
      "Saving proteinGroups_mouse_LA.txt to proteinGroups_mouse_LA.txt\n"
     ]
    }
   ],
   "source": [
    "#上傳檔案到colab\n",
    "from google.colab import files\n",
    "from rpy2.robjects import r\n",
    "import rpy2.robjects as robjects\n",
    "\n",
    "file=files.upload()\n",
    "\n",
    "if (file):\n",
    "  filename = next(iter(file))\n",
    "  if (filename.count(\".txt\") | filename.count(\".csv\")):  \n",
    "    r = robjects.r\n",
    "    r.assign('filename', filename) #將檔案名稱python -> R\n",
    "  else :\n",
    "    print(\"請再次執行此儲存格，並選擇.csv或.txt檔\")\n",
    "#else if ()\n",
    "else:\n",
    "  print(\"請再次執行此儲存格，並選擇一個檔案\")"
   ]
  },
  {
   "cell_type": "markdown",
   "metadata": {
    "id": "gT6BKJ7hNOlM"
   },
   "source": [
    "#DEP data"
   ]
  },
  {
   "cell_type": "code",
   "execution_count": null,
   "metadata": {
    "colab": {
     "base_uri": "https://localhost:8080/"
    },
    "id": "4vlxvW_sNOlN",
    "outputId": "82eb6f2f-e80a-46ad-b5e8-72ec5fdeb134"
   },
   "outputs": [
    {
     "name": "stdout",
     "output_type": "stream",
     "text": [
      "file's row * column = 3920 74 \n",
      "**colnames: \n",
      " [1] \"Protein.IDs\"                         \n",
      " [2] \"Majority.protein.IDs\"                \n",
      " [3] \"Peptide.counts..all.\"                \n",
      " [4] \"Peptide.counts..razor.unique.\"       \n",
      " [5] \"Peptide.counts..unique.\"             \n",
      " [6] \"Protein.names\"                       \n",
      " [7] \"Gene.names\"                          \n",
      " [8] \"Fasta.headers\"                       \n",
      " [9] \"Number.of.proteins\"                  \n",
      "[10] \"Peptides\"                            \n",
      "[11] \"Razor...unique.peptides\"             \n",
      "[12] \"Unique.peptides\"                     \n",
      "[13] \"Sequence.coverage....\"               \n",
      "[14] \"Unique...razor.sequence.coverage....\"\n",
      "[15] \"Unique.sequence.coverage....\"        \n",
      "[16] \"Mol..weight..kDa.\"                   \n",
      "[17] \"Sequence.length\"                     \n",
      "[18] \"Sequence.lengths\"                    \n",
      "[19] \"Fraction.average\"                    \n",
      "[20] \"Fraction.1\"                          \n",
      "[21] \"Fraction.2\"                          \n",
      "[22] \"Fraction.3\"                          \n",
      "[23] \"Fraction.4\"                          \n",
      "[24] \"Fraction.5\"                          \n",
      "[25] \"Fraction.6\"                          \n",
      "[26] \"Fraction.7\"                          \n",
      "[27] \"Fraction.8\"                          \n",
      "[28] \"Q.value\"                             \n",
      "[29] \"Score\"                               \n",
      "[30] \"Reporter.intensity.corrected.1\"      \n",
      "[31] \"Reporter.intensity.corrected.2\"      \n",
      "[32] \"Reporter.intensity.corrected.3\"      \n",
      "[33] \"Reporter.intensity.corrected.4\"      \n",
      "[34] \"Reporter.intensity.corrected.5\"      \n",
      "[35] \"Reporter.intensity.corrected.6\"      \n",
      "[36] \"Reporter.intensity.corrected.7\"      \n",
      "[37] \"Reporter.intensity.corrected.8\"      \n",
      "[38] \"Reporter.intensity.corrected.9\"      \n",
      "[39] \"Reporter.intensity.corrected.10\"     \n",
      "[40] \"Reporter.intensity.1\"                \n",
      "[41] \"Reporter.intensity.2\"                \n",
      "[42] \"Reporter.intensity.3\"                \n",
      "[43] \"Reporter.intensity.4\"                \n",
      "[44] \"Reporter.intensity.5\"                \n",
      "[45] \"Reporter.intensity.6\"                \n",
      "[46] \"Reporter.intensity.7\"                \n",
      "[47] \"Reporter.intensity.8\"                \n",
      "[48] \"Reporter.intensity.9\"                \n",
      "[49] \"Reporter.intensity.10\"               \n",
      "[50] \"Reporter.intensity.count.1\"          \n",
      "[51] \"Reporter.intensity.count.2\"          \n",
      "[52] \"Reporter.intensity.count.3\"          \n",
      "[53] \"Reporter.intensity.count.4\"          \n",
      "[54] \"Reporter.intensity.count.5\"          \n",
      "[55] \"Reporter.intensity.count.6\"          \n",
      "[56] \"Reporter.intensity.count.7\"          \n",
      "[57] \"Reporter.intensity.count.8\"          \n",
      "[58] \"Reporter.intensity.count.9\"          \n",
      "[59] \"Reporter.intensity.count.10\"         \n",
      "[60] \"Intensity\"                           \n",
      "[61] \"MS.MS.count\"                         \n",
      "[62] \"Only.identified.by.site\"             \n",
      "[63] \"Reverse\"                             \n",
      "[64] \"Potential.contaminant\"               \n",
      "[65] \"id\"                                  \n",
      "[66] \"Peptide.IDs\"                         \n",
      "[67] \"Peptide.is.razor\"                    \n",
      "[68] \"Mod..peptide.IDs\"                    \n",
      "[69] \"Evidence.IDs\"                        \n",
      "[70] \"MS.MS.IDs\"                           \n",
      "[71] \"Best.MS.MS\"                          \n",
      "[72] \"Oxidation..M..site.IDs\"              \n",
      "[73] \"Oxidation..M..site.positions\"        \n",
      "[74] \"Taxonomy.IDs\"                        \n",
      "               Protein.IDs     Majority.protein.IDs Peptide.counts..all.\n",
      "1          A2A432;A2A432-2          A2A432;A2A432-2                13;12\n",
      "2                   A2A5N8                   A2A5N8                    1\n",
      "3            A2A5R2;G3X9K3            A2A5R2;G3X9K3                  5;3\n",
      "4 A2A8U2;A2A8U2-3;A2A8U2-2 A2A8U2;A2A8U2-3;A2A8U2-2                4;4;3\n",
      "5          A2A8Z1-2;A2A8Z1          A2A8Z1-2;A2A8Z1                  5;4\n",
      "6                   A2ADY9                   A2ADY9                    4\n",
      "  Peptide.counts..razor.unique. Peptide.counts..unique.\n",
      "1                         13;12                     9;9\n",
      "2                             1                       1\n",
      "3                           5;3                     5;3\n",
      "4                         4;4;3                   4;4;3\n",
      "5                           5;4                     5;4\n",
      "6                             4                       4\n",
      "                                                                                                            Protein.names\n",
      "1                                                                                                               Cullin-4B\n",
      "2                                                                           Lethal(3)malignant brain tumor-like protein 1\n",
      "3 Brefeldin A-inhibited guanine nucleotide-exchange protein 2;Brefeldin A-inhibited guanine nucleotide-exchange protein 1\n",
      "4                                                                                               Transmembrane protein 201\n",
      "5                                                                             Oxysterol-binding protein-related protein 9\n",
      "6                                                                                                  Protein DDI1 homolog 2\n",
      "       Gene.names\n",
      "1           Cul4b\n",
      "2         L3mbtl1\n",
      "3 Arfgef2;Arfgef1\n",
      "4         Tmem201\n",
      "5          Osbpl9\n",
      "6            Ddi2\n",
      "                                                                                                                                                                                                                                                     Fasta.headers\n",
      "1                                                                                                     sp|A2A432|CUL4B_MOUSE Cullin-4B OS=Mus musculus OX=10090 GN=Cul4b PE=1 SV=1;sp|A2A432-2|CUL4B_MOUSE Isoform 2 of Cullin-4B OS=Mus musculus OX=10090 GN=Cul4b\n",
      "2                                                                                                                                                sp|A2A5N8|LMBL1_MOUSE Lethal(3)malignant brain tumor-like protein 1 OS=Mus musculus OX=10090 GN=L3mbtl1 PE=2 SV=1\n",
      "3    sp|A2A5R2|BIG2_MOUSE Brefeldin A-inhibited guanine nucleotide-exchange protein 2 OS=Mus musculus OX=10090 GN=Arfgef2 PE=1 SV=1;sp|G3X9K3|BIG1_MOUSE Brefeldin A-inhibited guanine nucleotide-exchange protein 1 OS=Mus musculus OX=10090 GN=Arfgef1 PE=1 SV=1\n",
      "4 sp|A2A8U2|TM201_MOUSE Transmembrane protein 201 OS=Mus musculus OX=10090 GN=Tmem201 PE=1 SV=1;sp|A2A8U2-3|TM201_MOUSE Isoform 3 of Transmembrane protein 201 OS=Mus musculus OX=10090 GN=Tmem201;sp|A2A8U2-2|TM201_MOUSE Isoform 2 of Transmembrane protein 201 \n",
      "5                               sp|A2A8Z1-2|OSBL9_MOUSE Isoform 2 of Oxysterol-binding protein-related protein 9 OS=Mus musculus OX=10090 GN=Osbpl9;sp|A2A8Z1|OSBL9_MOUSE Oxysterol-binding protein-related protein 9 OS=Mus musculus OX=10090 GN=Osbpl9 PE=1 SV=1\n",
      "6                                                                                                                                                                           sp|A2ADY9|DDI2_MOUSE Protein DDI1 homolog 2 OS=Mus musculus OX=10090 GN=Ddi2 PE=1 SV=1\n",
      "  Number.of.proteins Peptides Razor...unique.peptides Unique.peptides\n",
      "1                  2       13                      13               9\n",
      "2                  1        1                       1               1\n",
      "3                  2        5                       5               5\n",
      "4                  3        4                       4               4\n",
      "5                  2        5                       5               5\n",
      "6                  1        4                       4               4\n",
      "  Sequence.coverage.... Unique...razor.sequence.coverage....\n",
      "1                  14.5                                 14.5\n",
      "2                   2.1                                  2.1\n",
      "3                   3.7                                  3.7\n",
      "4                   8.1                                  8.1\n",
      "5                   9.7                                  9.7\n",
      "6                  14.0                                 14.0\n",
      "  Unique.sequence.coverage.... Mol..weight..kDa. Sequence.length\n",
      "1                         10.3           110.700             970\n",
      "2                          2.1            91.780             826\n",
      "3                          3.7           202.240            1792\n",
      "4                          8.1            72.499             664\n",
      "5                          9.7            71.527             639\n",
      "6                         14.0            44.590             399\n",
      "  Sequence.lengths Fraction.average Fraction.1 Fraction.2 Fraction.3 Fraction.4\n",
      "1          970;941             4.19          4          2          2         NA\n",
      "2              826             3.00         NA         NA          1         NA\n",
      "3        1792;1846             6.00         NA         NA         NA          2\n",
      "4      664;634;392             3.00          1          1          1         NA\n",
      "5          639;736             5.83          1         NA         NA          1\n",
      "6              399             4.25         NA         NA          2         NA\n",
      "  Fraction.5 Fraction.6 Fraction.7 Fraction.8 Q.value   Score\n",
      "1          1          3          2          2       0 68.5210\n",
      "2         NA         NA         NA         NA       1 -2.0000\n",
      "3          1         NA          1          2       0  8.8494\n",
      "4         NA          1         NA         NA       0 10.8890\n",
      "5         NA         NA          2          2       0 16.0020\n",
      "6          1          1         NA         NA       0  5.6186\n",
      "  Reporter.intensity.corrected.1 Reporter.intensity.corrected.2\n",
      "1                        49004.0                       24298000\n",
      "2                         1750.4                        1023300\n",
      "3                        10328.0                        7592300\n",
      "4                        30222.0                        2992500\n",
      "5                        50390.0                       13072000\n",
      "6                        11455.0                        5538700\n",
      "  Reporter.intensity.corrected.3 Reporter.intensity.corrected.4\n",
      "1                       38067000                       35929000\n",
      "2                         461560                         757320\n",
      "3                        7454000                        8919000\n",
      "4                        5018300                        4416700\n",
      "5                       19275000                       19864000\n",
      "6                        7150000                        8452200\n",
      "  Reporter.intensity.corrected.5 Reporter.intensity.corrected.6\n",
      "1                       27685000                         400760\n",
      "2                        1064400                              0\n",
      "3                        7761900                         121310\n",
      "4                        3447500                          22632\n",
      "5                       12992000                         126820\n",
      "6                        5566900                          31509\n",
      "  Reporter.intensity.corrected.7 Reporter.intensity.corrected.8\n",
      "1                       37362000                       37228000\n",
      "2                         659440                         611210\n",
      "3                        8100700                        8544700\n",
      "4                        4273500                        5254400\n",
      "5                       17933000                       14947000\n",
      "6                        5752900                        6785500\n",
      "  Reporter.intensity.corrected.9 Reporter.intensity.corrected.10\n",
      "1                       47715000                        54464000\n",
      "2                         502460                          569740\n",
      "3                       11424000                        12256000\n",
      "4                        5422100                         7107300\n",
      "5                       26253000                        28951000\n",
      "6                        8119900                         9398700\n",
      "  Reporter.intensity.1 Reporter.intensity.2 Reporter.intensity.3\n",
      "1             209360.0             22818000             36192000\n",
      "2               4243.3               954670               449780\n",
      "3              25478.0              7110800              7122000\n",
      "4              43771.0              2810200              4769800\n",
      "5             151880.0             12281000             18312000\n",
      "6              32452.0              5203600              6803700\n",
      "  Reporter.intensity.4 Reporter.intensity.5 Reporter.intensity.6\n",
      "1             35050000             28789000              3445400\n",
      "2               775710              1033200                39638\n",
      "3              8815400              7837900               854350\n",
      "4              4308300              3590900               399530\n",
      "5             19352000             13596000              1750300\n",
      "6              8230700              5718400               661790\n",
      "  Reporter.intensity.7 Reporter.intensity.8 Reporter.intensity.9\n",
      "1             38068000             37009000             45962000\n",
      "2               691700               594750               493730\n",
      "3              8381600              8488500             10973000\n",
      "4              4368100              5198000              5223900\n",
      "5             18363000             14906000             25192000\n",
      "6              5955500              6726800              7799300\n",
      "  Reporter.intensity.10 Reporter.intensity.count.1 Reporter.intensity.count.2\n",
      "1              51944000                         11                         16\n",
      "2                551280                          1                          1\n",
      "3              11695000                          1                          5\n",
      "4               6792600                          2                          3\n",
      "5              27439000                          5                          8\n",
      "6               8976700                          2                          3\n",
      "  Reporter.intensity.count.3 Reporter.intensity.count.4\n",
      "1                         16                         16\n",
      "2                          1                          1\n",
      "3                          5                          5\n",
      "4                          3                          3\n",
      "5                          8                          8\n",
      "6                          3                          3\n",
      "  Reporter.intensity.count.5 Reporter.intensity.count.6\n",
      "1                         16                          8\n",
      "2                          1                          0\n",
      "3                          5                          4\n",
      "4                          3                          1\n",
      "5                          8                          5\n",
      "6                          3                          1\n",
      "  Reporter.intensity.count.7 Reporter.intensity.count.8\n",
      "1                         16                         16\n",
      "2                          1                          1\n",
      "3                          5                          5\n",
      "4                          3                          3\n",
      "5                          8                          7\n",
      "6                          3                          3\n",
      "  Reporter.intensity.count.9 Reporter.intensity.count.10  Intensity MS.MS.count\n",
      "1                         16                          16 2556900000          16\n",
      "2                          1                           1  135760000           1\n",
      "3                          5                           5  693780000           6\n",
      "4                          3                           3  399000000           4\n",
      "5                          8                           8  921950000           8\n",
      "6                          3                           3  502150000           4\n",
      "  Only.identified.by.site Reverse Potential.contaminant id\n",
      "1                                                        0\n",
      "2                       +                                1\n",
      "3                                                        2\n",
      "4                                                        3\n",
      "5                                                        4\n",
      "6                                                        5\n",
      "                                                               Peptide.IDs\n",
      "1 870;4868;7017;7168;10962;12850;15408;16518;20035;20454;22074;23850;23920\n",
      "2                                                                    15561\n",
      "3                                             9659;13242;15496;25256;27626\n",
      "4                                                     1727;4477;5492;22241\n",
      "5                                              1719;4963;12971;26856;27384\n",
      "6                                                   6783;11564;14834;21954\n",
      "                                                  Peptide.is.razor\n",
      "1 True;True;True;True;True;True;True;True;True;True;True;True;True\n",
      "2                                                             True\n",
      "3                                         True;True;True;True;True\n",
      "4                                              True;True;True;True\n",
      "5                                         True;True;True;True;True\n",
      "6                                              True;True;True;True\n",
      "                                                          Mod..peptide.IDs\n",
      "1 895;5009;7207;7367;11263;13228;15852;17002;20733;21165;22838;24675;24747\n",
      "2                                                                    16009\n",
      "3                                             9925;13627;15943;26134;28582\n",
      "4                                                     1774;4614;5648;23012\n",
      "5                                              1766;5108;13352;27797;28338\n",
      "6                                                   6968;11891;15262;22715\n",
      "                                                                                  Evidence.IDs\n",
      "1 1905;1906;1907;10789;15401;15751;24111;28330;34007;34008;36550;44121;45035;48760;52501;52644\n",
      "2                                                                                        34321\n",
      "3                                                          21164;29272;29273;34169;55736;61180\n",
      "4                                                                        3878;9991;12114;49095\n",
      "5                                                            3860;3861;10984;28591;59568;60710\n",
      "6                                                                      14961;25442;32531;48519\n",
      "                                                                                      MS.MS.IDs\n",
      "1 1873;1874;10537;15092;15451;23582;27684;33269;33270;35754;43124;44021;47575;51269;51270;51413\n",
      "2                                                                                         33577\n",
      "3                                                           20710;28594;33432;54507;54508;59859\n",
      "4                                                                         3840;9766;11886;47904\n",
      "5                                                 3826;3827;10740;10741;27932;27933;58252;59392\n",
      "6                                                                       14655;24894;31830;47355\n",
      "                                                                    Best.MS.MS\n",
      "1 1873;10537;15092;15451;23582;27684;33269;35754;43124;44021;47575;51269;51413\n",
      "2                                                                        33577\n",
      "3                                                20710;28594;33432;54507;59859\n",
      "4                                                        3840;9766;11886;47904\n",
      "5                                                 3827;10741;27932;58252;59392\n",
      "6                                                      14655;24894;31830;47355\n",
      "  Oxidation..M..site.IDs Oxidation..M..site.positions Taxonomy.IDs\n",
      "1                                                            -1;-1\n",
      "2                      0                          116           -1\n",
      "3                                                            -1;-1\n",
      "4                      1                          591     -1;-1;-1\n",
      "5                                                            -1;-1\n",
      "6                                                               -1\n"
     ]
    }
   ],
   "source": [
    "%%R\n",
    "# Loading a package required for data handling\n",
    "library(\"dplyr\")\n",
    "library(stringr)\n",
    "\n",
    "# The data is provided with the package\n",
    "file_type <- str_extract_all(filename,'\\\\b(.txt|.csv)\\\\b') #確認檔案為csv還是txt\n",
    "if (file_type == \".csv\"){\n",
    "  data <- read.csv(file = filename, header=TRUE  ,fileEncoding =\"UTF-8\")  \n",
    "}\n",
    "else {\n",
    "   data <- read.csv(file = filename, header=TRUE ,sep=\"\\t\" ,fileEncoding =\"UTF-8\") \n",
    "}\n",
    "\n",
    "cat(\"file's row  column =\", dim(data), \"\\n\")\n",
    "#cat(\"**colnames: \\n\")\n",
    "#print(colnames(data))\n",
    "\n",
    "if ( \"Reverse\" %in% names(data) ){\n",
    "  data <- filter(data, Reverse != \"+\")  \n",
    "}\n",
    "if ( \"Potential.contaminant\" %in% names(data) ){\n",
    "  data <- filter(data, Potential.contaminant != \"+\") \n",
    "}\n",
    "# We filter for contaminant proteins and decoy database hits, which are indicated by \"+\" in the columns \"Potential.contaminants\" and \"Reverse\", respectively. \n",
    "\n",
    "#print(head(data))"
   ]
  },
  {
   "cell_type": "code",
   "execution_count": null,
   "metadata": {
    "id": "0rEIxkoVg-DO"
   },
   "outputs": [],
   "source": [
    "%%R\n",
    "df <- data[ , grepl( \"Reporter.intensity.corrected\" , names( data) )] \n",
    "conditionColumn <- colnames(df)\n",
    "print(conditionColumn)\n",
    "condition <- gsub(\"Reporter.intensity.corrected.[0-9]+.\", \"\", conditionColumn)\n",
    "condition <- unique(condition)\n",
    "print(condition)\n",
    "\n",
    "numCondition <- length(condition)\n",
    "print(numCondition)\n"
   ]
  },
  {
   "cell_type": "code",
   "execution_count": null,
   "metadata": {},
   "outputs": [],
   "source": [
    "%%R\n",
    "cat(\"condition: \", conditionName)\n",
    "\n",
    "df <- data[ , grepl( \"Reporter.intensity.corrected\" , names( data) )]\n",
    "df <- df[, grepl(conditionName, names(df))]\n",
    "\n",
    "df = log2(df)\n",
    "colname <- colnames(df)\n",
    "numColname <- length(colname)\n",
    "\n",
    "draw_hist <- function(id) {\n",
    "  hist(x=df[,id], \n",
    "      breaks=25,\n",
    "      xlim=c(0,max(df)),\n",
    "      main=colname[id], # 圖片的名稱\n",
    "      xlab=\"\", \n",
    "      ylab=\"\"\n",
    "      )\n",
    "}"
   ]
  },
  {
   "cell_type": "markdown",
   "metadata": {
    "id": "_Vm7tjKxn0TU"
   },
   "source": [
    "#experimental_design"
   ]
  },
  {
   "cell_type": "code",
   "execution_count": null,
   "metadata": {
    "colab": {
     "base_uri": "https://localhost:8080/",
     "height": 1000,
     "referenced_widgets": [
      "116b0c778cbf40a8a3b2a3fa2c06167b",
      "9fae51e797894bd1aa87216c90d5eed3",
      "94463ce9082b400185dca27a8e0c6278",
      "06b7dcc305d0452b8e314717a8b6a634",
      "96ed49f393ee47fe97532bc7693a514b",
      "5743037256114d27a20f2f6fbed74d91",
      "560b8a3c124d4610b7f3a9b1c72fc0cc",
      "28b17fd136d34bbca13bf6a504a13799",
      "c195dd988bb044419b755ee8fad66db7",
      "105f9235d1094f24b83405c9a22afc87",
      "c0f2376565b44b3087a86f0691a572b1",
      "6aa5d0c939f24700b9ac8e6800089d7a",
      "f49984a04e4e4c94b416c95360a8f739",
      "60546bdef0ab491da625dfd00637b1cb",
      "adf766f580a04576a4d8a3b8ca8a7885",
      "0c95c2a1c85f465a9cca699c760900a5",
      "2f638026bcad45dd8a4e45bdcbf11a0e",
      "af6315ad49f248d8ba7ee541f2d3bf76",
      "07c366a5de0f4580ae8e6b6bd17d7f9c",
      "20c7cb293b8e41189aca94d1e8f55184",
      "0fdfd37970194704b20065bff6d084fa",
      "2dc783216dbb4be49b3c93b05f689283",
      "b961ba1fb6414dcf9ff48d40a34e4acd",
      "46f7e67fd9b64be1b5f05d1dc9e838f8",
      "4f0e00fbb2cd48afa3ba8e73cdec94a5",
      "b97672a15f0e414590a4acd8fac35b03",
      "84a6efb6f49b4b51a957f2beea616318",
      "a7cdaa4dc36d407caa7033ac6ba01439",
      "797d62df34de44368179e1d8163a63e7",
      "e0023e4872df4bc28b7610849310ce0e",
      "9c22ef26001948ddb185034f38f4f093",
      "f03bf73e656e4c83a5e4a6f549c54736",
      "8b0fcc12d8504f1d9ef2e3607bb67022",
      "7f004884412043f088600ef1b3058b2e",
      "7c4d56ecbb2a40c2b1b34783edbedf7c",
      "e60ec3d5228a4ff9b347a05725f1e890",
      "1830d08a495c461abdae7fcd6249914d",
      "bb3a395792784cd4b176faa257f6ed8c",
      "c3ef860191f94118b99e3139b3541c6b",
      "0d01c87d236d495287e6bbee281595f9",
      "4f779e892985486b8578a638d8eaefa0",
      "eaaccc4340174220af3c24557b917cb7",
      "51eea2d9c33c442b8d10dbacc077bfe1",
      "475b91d3babe45b0a452b178aaef8a54",
      "42756f15c8b94219aa2a23522b5d5d90",
      "9fc6780d3ba74586a951bb7dd6e5e8d1",
      "9362c3b22af241b5acecf698ca509214",
      "7ea524c8bec8446f9625ae7bffe39b4e",
      "d15088bb61354690ac3dfa9b97bb5328",
      "814cb460bd5242969fdc551a5e6a2cac",
      "7fe3dcfd5010433d9e735cd971196330",
      "35a4c65eeb0e4828abcb4d4f4a40b5a6",
      "0d54ec0882f145098c9724d85e2d8c9e",
      "d251f42f39264fa5bbf247d1247e8be6",
      "9ecfcf0ed19947ffa4bf3c492d2bd9da",
      "e2a54da50106482cba7d8b6e74c18f85",
      "e3b632b9b9f94e2484d065ed217c1d26",
      "aa35d1a643b141e9bd8b7e5a93ed6599",
      "58ed89bc0e8f43f09b1c253308195147",
      "32c70c070dac4b13a008af26b06e01fa",
      "2d427c73519148d68ec67dc5b1a28134",
      "1fd38f28c4d2428e962abb2b53273a87",
      "f82ca8e7dec44e93b491487c1d643510",
      "2bee56612bfb45238ebfc97363038a99",
      "3edce6f0ff4f46a39f6633ece60b457b",
      "a94436ff02724cf2a5261c41eaee2df8",
      "9a8985d10c214f6c8d5ce7b236d403b3",
      "d5d64e611f7b45c69f9b5d5c4f15376c",
      "86e6d8a9b6c541a091b4506e5ef4c1ac",
      "6a5c7482b4104ff681dab644c4efc800",
      "82704058d379449b937ec481ebdc8ef3",
      "07b761e4757345a189b7836eeb3ac4fe",
      "4d93b2506dda4035947741a7a29ce585",
      "f766125731984384bfcdd7fe57ad2866",
      "22bc6a39ec2e457880c01e435f507315",
      "fe175e7e0f5c444389f132109980f71c",
      "d491e2143ae7498b833056e73ae6415b",
      "aa35115a1afa4c0f9b374e3b8e06e0b8",
      "e5d687c11e4e45548b0152864634f151",
      "1d9755dc8de642d09081d181bb954cc6",
      "3f6ca2b5daff45fb99731b6e20e0a610",
      "7caace780bc3432dbab0e5bf2c2813ce",
      "b2850d213dcf4aedb753cf1e170bf7c6",
      "e03d69e6b5fc48a3b7925b35d10cbf98",
      "c4fec63cc60a4528b643b63e3317f809",
      "12e2be33543d49f69b67b80f3f506c16",
      "f82428ab4f5444d7823aa3508760478d",
      "066a10ff9e4a41c094895dfb5ee1eda2",
      "cf3771f9b03942c099b29a8853e0f4a8",
      "d9af00867ef04aa08c3ce05fe779b58f",
      "c84c18de6f1f476ca017b8ab3160d3bd",
      "8fdc27b3c2794ce8b321e9305d229df1",
      "93bdf48fcac0465c9078416795d916bd",
      "56f55133bcc24d60a8572a92cddb26a8",
      "b9c41512cb9441aba514f8f03f6ee323",
      "a586616a27d24918b4576d5eedeff387",
      "1f8cf694f25946b28e9e0e2f17d1a264",
      "191dda40bbaf470e950e463d0cdd1439",
      "9d634c905ed84f65b2f42fa179abd7e4",
      "796f0df3a99545a2b660ef66f66356ca"
     ]
    },
    "id": "tY2zicX6JFxP",
    "outputId": "efc2c50b-fa98-446b-ec64-9a8b2ffd8f2a"
   },
   "outputs": [
    {
     "data": {
      "application/vnd.jupyter.widget-view+json": {
       "model_id": "116b0c778cbf40a8a3b2a3fa2c06167b",
       "version_major": 2,
       "version_minor": 0
      },
      "text/plain": [
       "Checkbox(value=False, description='Reporter.intensity.corrected.1', indent=False)"
      ]
     },
     "metadata": {},
     "output_type": "display_data"
    },
    {
     "data": {
      "application/vnd.jupyter.widget-view+json": {
       "model_id": "06b7dcc305d0452b8e314717a8b6a634",
       "version_major": 2,
       "version_minor": 0
      },
      "text/plain": [
       "Text(value='', description='condition', layout=Layout(height='30px', width='35%'))"
      ]
     },
     "metadata": {},
     "output_type": "display_data"
    },
    {
     "data": {
      "application/vnd.jupyter.widget-view+json": {
       "model_id": "560b8a3c124d4610b7f3a9b1c72fc0cc",
       "version_major": 2,
       "version_minor": 0
      },
      "text/plain": [
       "Text(value='', description='replicate', layout=Layout(height='30px', width='35%'))"
      ]
     },
     "metadata": {},
     "output_type": "display_data"
    },
    {
     "data": {
      "image/png": "[encoded data removed]"
     },
     "metadata": {},
     "output_type": "display_data"
    },
    {
     "data": {
      "application/vnd.jupyter.widget-view+json": {
       "model_id": "105f9235d1094f24b83405c9a22afc87",
       "version_major": 2,
       "version_minor": 0
      },
      "text/plain": [
       "Checkbox(value=False, description='Reporter.intensity.corrected.2', indent=False)"
      ]
     },
     "metadata": {},
     "output_type": "display_data"
    },
    {
     "data": {
      "application/vnd.jupyter.widget-view+json": {
       "model_id": "f49984a04e4e4c94b416c95360a8f739",
       "version_major": 2,
       "version_minor": 0
      },
      "text/plain": [
       "Text(value='', description='condition', layout=Layout(height='30px', width='35%'))"
      ]
     },
     "metadata": {},
     "output_type": "display_data"
    },
    {
     "data": {
      "application/vnd.jupyter.widget-view+json": {
       "model_id": "0c95c2a1c85f465a9cca699c760900a5",
       "version_major": 2,
       "version_minor": 0
      },
      "text/plain": [
       "Text(value='', description='replicate', layout=Layout(height='30px', width='35%'))"
      ]
     },
     "metadata": {},
     "output_type": "display_data"
    },
    {
     "data": {
      "image/png": "[encoded data removed]"
     },
     "metadata": {},
     "output_type": "display_data"
    },
    {
     "data": {
      "application/vnd.jupyter.widget-view+json": {
       "model_id": "07c366a5de0f4580ae8e6b6bd17d7f9c",
       "version_major": 2,
       "version_minor": 0
      },
      "text/plain": [
       "Checkbox(value=False, description='Reporter.intensity.corrected.3', indent=False)"
      ]
     },
     "metadata": {},
     "output_type": "display_data"
    },
    {
     "data": {
      "application/vnd.jupyter.widget-view+json": {
       "model_id": "2dc783216dbb4be49b3c93b05f689283",
       "version_major": 2,
       "version_minor": 0
      },
      "text/plain": [
       "Text(value='', description='condition', layout=Layout(height='30px', width='35%'))"
      ]
     },
     "metadata": {},
     "output_type": "display_data"
    },
    {
     "data": {
      "application/vnd.jupyter.widget-view+json": {
       "model_id": "4f0e00fbb2cd48afa3ba8e73cdec94a5",
       "version_major": 2,
       "version_minor": 0
      },
      "text/plain": [
       "Text(value='', description='replicate', layout=Layout(height='30px', width='35%'))"
      ]
     },
     "metadata": {},
     "output_type": "display_data"
    },
    {
     "data": {
      "image/png": "[encoded data removed]"
     },
     "metadata": {},
     "output_type": "display_data"
    },
    {
     "data": {
      "application/vnd.jupyter.widget-view+json": {
       "model_id": "a7cdaa4dc36d407caa7033ac6ba01439",
       "version_major": 2,
       "version_minor": 0
      },
      "text/plain": [
       "Checkbox(value=False, description='Reporter.intensity.corrected.4', indent=False)"
      ]
     },
     "metadata": {},
     "output_type": "display_data"
    },
    {
     "data": {
      "application/vnd.jupyter.widget-view+json": {
       "model_id": "9c22ef26001948ddb185034f38f4f093",
       "version_major": 2,
       "version_minor": 0
      },
      "text/plain": [
       "Text(value='', description='condition', layout=Layout(height='30px', width='35%'))"
      ]
     },
     "metadata": {},
     "output_type": "display_data"
    },
    {
     "data": {
      "application/vnd.jupyter.widget-view+json": {
       "model_id": "7f004884412043f088600ef1b3058b2e",
       "version_major": 2,
       "version_minor": 0
      },
      "text/plain": [
       "Text(value='', description='replicate', layout=Layout(height='30px', width='35%'))"
      ]
     },
     "metadata": {},
     "output_type": "display_data"
    },
    {
     "data": {
      "image/png": "[encoded data removed]"
     },
     "metadata": {},
     "output_type": "display_data"
    },
    {
     "data": {
      "application/vnd.jupyter.widget-view+json": {
       "model_id": "1830d08a495c461abdae7fcd6249914d",
       "version_major": 2,
       "version_minor": 0
      },
      "text/plain": [
       "Checkbox(value=False, description='Reporter.intensity.corrected.5', indent=False)"
      ]
     },
     "metadata": {},
     "output_type": "display_data"
    },
    {
     "data": {
      "application/vnd.jupyter.widget-view+json": {
       "model_id": "0d01c87d236d495287e6bbee281595f9",
       "version_major": 2,
       "version_minor": 0
      },
      "text/plain": [
       "Text(value='', description='condition', layout=Layout(height='30px', width='35%'))"
      ]
     },
     "metadata": {},
     "output_type": "display_data"
    },
    {
     "data": {
      "application/vnd.jupyter.widget-view+json": {
       "model_id": "51eea2d9c33c442b8d10dbacc077bfe1",
       "version_major": 2,
       "version_minor": 0
      },
      "text/plain": [
       "Text(value='', description='replicate', layout=Layout(height='30px', width='35%'))"
      ]
     },
     "metadata": {},
     "output_type": "display_data"
    },
    {
     "data": {
      "image/png": "[encoded data removed]"
     },
     "metadata": {},
     "output_type": "display_data"
    },
    {
     "data": {
      "application/vnd.jupyter.widget-view+json": {
       "model_id": "9fc6780d3ba74586a951bb7dd6e5e8d1",
       "version_major": 2,
       "version_minor": 0
      },
      "text/plain": [
       "Checkbox(value=False, description='Reporter.intensity.corrected.6', indent=False)"
      ]
     },
     "metadata": {},
     "output_type": "display_data"
    },
    {
     "data": {
      "application/vnd.jupyter.widget-view+json": {
       "model_id": "d15088bb61354690ac3dfa9b97bb5328",
       "version_major": 2,
       "version_minor": 0
      },
      "text/plain": [
       "Text(value='', description='condition', layout=Layout(height='30px', width='35%'))"
      ]
     },
     "metadata": {},
     "output_type": "display_data"
    },
    {
     "data": {
      "application/vnd.jupyter.widget-view+json": {
       "model_id": "35a4c65eeb0e4828abcb4d4f4a40b5a6",
       "version_major": 2,
       "version_minor": 0
      },
      "text/plain": [
       "Text(value='', description='replicate', layout=Layout(height='30px', width='35%'))"
      ]
     },
     "metadata": {},
     "output_type": "display_data"
    },
    {
     "data": {
      "image/png": "[encoded data removed]"
     },
     "metadata": {},
     "output_type": "display_data"
    },
    {
     "data": {
      "application/vnd.jupyter.widget-view+json": {
       "model_id": "9ecfcf0ed19947ffa4bf3c492d2bd9da",
       "version_major": 2,
       "version_minor": 0
      },
      "text/plain": [
       "Checkbox(value=False, description='Reporter.intensity.corrected.7', indent=False)"
      ]
     },
     "metadata": {},
     "output_type": "display_data"
    },
    {
     "data": {
      "application/vnd.jupyter.widget-view+json": {
       "model_id": "aa35d1a643b141e9bd8b7e5a93ed6599",
       "version_major": 2,
       "version_minor": 0
      },
      "text/plain": [
       "Text(value='', description='condition', layout=Layout(height='30px', width='35%'))"
      ]
     },
     "metadata": {},
     "output_type": "display_data"
    },
    {
     "data": {
      "application/vnd.jupyter.widget-view+json": {
       "model_id": "2d427c73519148d68ec67dc5b1a28134",
       "version_major": 2,
       "version_minor": 0
      },
      "text/plain": [
       "Text(value='', description='replicate', layout=Layout(height='30px', width='35%'))"
      ]
     },
     "metadata": {},
     "output_type": "display_data"
    },
    {
     "data": {
      "image/png": "[encoded data removed]"
     },
     "metadata": {},
     "output_type": "display_data"
    },
    {
     "data": {
      "application/vnd.jupyter.widget-view+json": {
       "model_id": "2bee56612bfb45238ebfc97363038a99",
       "version_major": 2,
       "version_minor": 0
      },
      "text/plain": [
       "Checkbox(value=False, description='Reporter.intensity.corrected.8', indent=False)"
      ]
     },
     "metadata": {},
     "output_type": "display_data"
    },
    {
     "data": {
      "application/vnd.jupyter.widget-view+json": {
       "model_id": "9a8985d10c214f6c8d5ce7b236d403b3",
       "version_major": 2,
       "version_minor": 0
      },
      "text/plain": [
       "Text(value='', description='condition', layout=Layout(height='30px', width='35%'))"
      ]
     },
     "metadata": {},
     "output_type": "display_data"
    },
    {
     "data": {
      "application/vnd.jupyter.widget-view+json": {
       "model_id": "6a5c7482b4104ff681dab644c4efc800",
       "version_major": 2,
       "version_minor": 0
      },
      "text/plain": [
       "Text(value='', description='replicate', layout=Layout(height='30px', width='35%'))"
      ]
     },
     "metadata": {},
     "output_type": "display_data"
    },
    {
     "data": {
      "image/png": "[encoded data removed]"
     },
     "metadata": {},
     "output_type": "display_data"
    },
    {
     "data": {
      "application/vnd.jupyter.widget-view+json": {
       "model_id": "4d93b2506dda4035947741a7a29ce585",
       "version_major": 2,
       "version_minor": 0
      },
      "text/plain": [
       "Checkbox(value=False, description='Reporter.intensity.corrected.9', indent=False)"
      ]
     },
     "metadata": {},
     "output_type": "display_data"
    },
    {
     "data": {
      "application/vnd.jupyter.widget-view+json": {
       "model_id": "fe175e7e0f5c444389f132109980f71c",
       "version_major": 2,
       "version_minor": 0
      },
      "text/plain": [
       "Text(value='', description='condition', layout=Layout(height='30px', width='35%'))"
      ]
     },
     "metadata": {},
     "output_type": "display_data"
    },
    {
     "data": {
      "application/vnd.jupyter.widget-view+json": {
       "model_id": "e5d687c11e4e45548b0152864634f151",
       "version_major": 2,
       "version_minor": 0
      },
      "text/plain": [
       "Text(value='', description='replicate', layout=Layout(height='30px', width='35%'))"
      ]
     },
     "metadata": {},
     "output_type": "display_data"
    },
    {
     "data": {
      "image/png": "[encoded data removed]"
     },
     "metadata": {},
     "output_type": "display_data"
    },
    {
     "data": {
      "application/vnd.jupyter.widget-view+json": {
       "model_id": "7caace780bc3432dbab0e5bf2c2813ce",
       "version_major": 2,
       "version_minor": 0
      },
      "text/plain": [
       "Checkbox(value=False, description='Reporter.intensity.corrected.10', indent=False)"
      ]
     },
     "metadata": {},
     "output_type": "display_data"
    },
    {
     "data": {
      "application/vnd.jupyter.widget-view+json": {
       "model_id": "c4fec63cc60a4528b643b63e3317f809",
       "version_major": 2,
       "version_minor": 0
      },
      "text/plain": [
       "Text(value='', description='condition', layout=Layout(height='30px', width='35%'))"
      ]
     },
     "metadata": {},
     "output_type": "display_data"
    },
    {
     "data": {
      "application/vnd.jupyter.widget-view+json": {
       "model_id": "066a10ff9e4a41c094895dfb5ee1eda2",
       "version_major": 2,
       "version_minor": 0
      },
      "text/plain": [
       "Text(value='', description='replicate', layout=Layout(height='30px', width='35%'))"
      ]
     },
     "metadata": {},
     "output_type": "display_data"
    },
    {
     "data": {
      "image/png": "[encoded data removed]"
     },
     "metadata": {},
     "output_type": "display_data"
    },
    {
     "data": {
      "application/vnd.jupyter.widget-view+json": {
       "model_id": "c84c18de6f1f476ca017b8ab3160d3bd",
       "version_major": 2,
       "version_minor": 0
      },
      "text/plain": [
       "Button(description='OK', style=ButtonStyle())"
      ]
     },
     "metadata": {},
     "output_type": "display_data"
    },
    {
     "data": {
      "application/vnd.jupyter.widget-view+json": {
       "model_id": "56f55133bcc24d60a8572a92cddb26a8",
       "version_major": 2,
       "version_minor": 0
      },
      "text/plain": [
       "Output()"
      ]
     },
     "metadata": {},
     "output_type": "display_data"
    }
   ],
   "source": [
    "import pandas as pd\n",
    "df_colname_py = robjects.r('colname')\n",
    "df_ncol_py = robjects.r('numColname')\n",
    "experimental_design = pd.DataFrame(columns=['state','label','condition','replicate'], index=range(10)).fillna(\"False\")\n",
    "\n",
    "\n",
    "for i in range(0,df_ncol_py[0]):  \n",
    "  generate_checkbox(df_colname_py[i], i+1)\n",
    "  generate_text(i+1,\"condition\")\n",
    "  generate_text(i+1,\"replicate\")\n",
    "  r.assign('id', i+1) #將檔案名稱python -> R\n",
    "  %R draw_hist(id)\n",
    "\n",
    "generate_button(0, \"OK\")"
   ]
  },
  {
   "cell_type": "markdown",
   "metadata": {
    "id": "ucxFLdaefIfW"
   },
   "source": [
    "#make se"
   ]
  },
  {
   "cell_type": "code",
   "execution_count": null,
   "metadata": {
    "colab": {
     "base_uri": "https://localhost:8080/"
    },
    "id": "il0s_hnWo7yU",
    "outputId": "44ecf4c3-28da-4c00-e86e-cc8c871c4842"
   },
   "outputs": [
    {
     "name": "stdout",
     "output_type": "stream",
     "text": [
      "Are there any duplicated gene names?  TRUE \n",
      "# A tibble: 21 × 2\n",
      "   Gene.names frequency\n",
      "   <chr>          <int>\n",
      " 1 \"\"                42\n",
      " 2 \"Cav1\"             2\n",
      " 3 \"Cnbp\"             2\n",
      " 4 \"Cux1\"             2\n",
      " 5 \"Eef1d\"            2\n",
      " 6 \"H2-K1\"            2\n",
      " 7 \"Hmga1\"            2\n",
      " 8 \"Hnrnpa3\"          2\n",
      " 9 \"Hnrnpk\"           2\n",
      "10 \"Ikbip\"            2\n",
      "# … with 11 more rows\n"
     ]
    }
   ],
   "source": [
    "%%R\n",
    "# Are there any duplicated gene names?\n",
    "cat('Are there any duplicated gene names? ', data$Gene.names %>% duplicated() %>% any(), \"\\n\")\n",
    "\n",
    "if ( data$Gene.names %>% duplicated() %>% any() ){\n",
    "   # Make a table of duplicated gene names\n",
    "  print(data %>% group_by(Gene.names) %>% summarize(frequency = n()) %>% \n",
    "    arrange(desc(frequency)) %>% filter(frequency > 1))\n",
    "  \n",
    "  \n",
    "}\n",
    "# Make unique names using the annotation in the \"Gene.names\" column as primary names and the annotation in \"Protein.IDs\" as name for those that do not have an gene name.\n",
    "data_unique <- make_unique(data, \"Gene.names\", \"Protein.IDs\", delim = \";\")\n"
   ]
  },
  {
   "cell_type": "code",
   "execution_count": null,
   "metadata": {
    "colab": {
     "base_uri": "https://localhost:8080/"
    },
    "id": "2B3gKxtro7yU",
    "outputId": "f4448c96-b794-4f7f-e917-d0b1a0636ace"
   },
   "outputs": [
    {
     "name": "stdout",
     "output_type": "stream",
     "text": [
      "class: SummarizedExperiment \n",
      "dim: 3818 8 \n",
      "metadata(0):\n",
      "assays(1): ''\n",
      "rownames(3818): Cul4b L3mbtl1 ... Sart1 Itpr2\n",
      "rowData names(66): Protein.IDs Majority.protein.IDs ... name ID\n",
      "colnames(8): DMSO_1 DMSO_2 ... LA_3 LA_4\n",
      "colData names(4): label ID condition replicate\n"
     ]
    }
   ],
   "source": [
    "%%R\n",
    "# Generate a SummarizedExperiment object using an experimental design\n",
    "LFQ_columns <- grep(\"Reporter.intensity.corrected.\", colnames(data_unique)) # get LFQ column numbers\n",
    "\n",
    "#experimental_design <- UbiLength_ExpDesign\n",
    "experimental_design <- read.csv('/content/experimental_design.csv',header=TRUE ,fileEncoding =\"UTF-8\")\n",
    "experimental_design$label = gsub(\" \", \".\", experimental_design$label)\n",
    "\n",
    "data_se <- make_se(data_unique, LFQ_columns, experimental_design)\n",
    "# Generate a SummarizedExperiment object by parsing condition information from the column names\n",
    "LFQ_columns <- grep(\"Reporter.intensity.corrected.\", colnames(data_unique)) # get LFQ column numbers\n",
    "data_se_parsed <- make_se_parse(data_unique, LFQ_columns)\n",
    "\n",
    "# Let's have a look at the SummarizedExperiment object\n",
    "data_se"
   ]
  },
  {
   "cell_type": "markdown",
   "metadata": {
    "id": "hmmXGALxsbdB"
   },
   "source": [
    "#10 Filter on missing values "
   ]
  },
  {
   "cell_type": "code",
   "execution_count": null,
   "metadata": {
    "colab": {
     "base_uri": "https://localhost:8080/"
    },
    "id": "1rAw3q8-sbdG",
    "outputId": "d16e45ec-6d67-48d3-d0d9-25ea119101ab"
   },
   "outputs": [
    {
     "name": "stdout",
     "output_type": "stream",
     "text": [
      "  samples proteins\n",
      "1       0       69\n",
      "2       6        1\n",
      "3       7        9\n",
      "4       8     3739\n"
     ]
    }
   ],
   "source": [
    "%%R\n",
    "plot_frequency(data_se, plot= FALSE)"
   ]
  },
  {
   "cell_type": "code",
   "execution_count": null,
   "metadata": {
    "colab": {
     "base_uri": "https://localhost:8080/",
     "height": 497
    },
    "id": "Eyx8SPdRsbdG",
    "outputId": "7b657b16-cc44-4813-b762-65889f5ad8e9"
   },
   "outputs": [
    {
     "data": {
      "image/png": "[encoded data removed]"
     },
     "metadata": {},
     "output_type": "display_data"
    }
   ],
   "source": [
    "%%R\n",
    "# Plot a barplot of the protein identification overlap between samples\n",
    "pic10_1 <- plot_frequency(data_se, plot= TRUE)\n",
    "print(pic10_1)"
   ]
  },
  {
   "cell_type": "code",
   "execution_count": null,
   "metadata": {
    "colab": {
     "base_uri": "https://localhost:8080/",
     "height": 497
    },
    "id": "hV915Ym9sbdH",
    "outputId": "04c7324c-8678-440b-efd4-82d0586a0f3e"
   },
   "outputs": [
    {
     "data": {
      "image/png": "[encoded data removed]"
     },
     "metadata": {},
     "output_type": "display_data"
    }
   ],
   "source": [
    "%%R\n",
    "# Filter for proteins that are identified in all replicates of at least one condition\n",
    "data_filt <- filter_missval(data_se, thr = 4) #讓使用者選0~4(重複)\n",
    "\n",
    "# Less stringent filtering:\n",
    "# Filter for proteins that are identified in 2 out of 3 replicates of at least one condition\n",
    "data_filt2 <- filter_missval(data_se, thr = 1)\n",
    "\n",
    "# Plot a barplot of the number of identified proteins per samples\n",
    "pic10_2 <- plot_numbers(data_filt, plot=TRUE)\n",
    "print(pic10_2)"
   ]
  },
  {
   "cell_type": "code",
   "execution_count": null,
   "metadata": {
    "colab": {
     "base_uri": "https://localhost:8080/",
     "height": 497
    },
    "id": "bh8nxGfDsbdH",
    "outputId": "2cd06be6-225c-4e23-907f-4cccbc00d2eb"
   },
   "outputs": [
    {
     "data": {
      "image/png": "[encoded data removed]"
     },
     "metadata": {},
     "output_type": "display_data"
    }
   ],
   "source": [
    "%%R\n",
    "# Plot a barplot of the protein identification overlap between samples\n",
    "pic10_3 <- plot_coverage(data_filt)\n",
    "print(pic10_3)"
   ]
  },
  {
   "cell_type": "markdown",
   "metadata": {
    "id": "58T2LqzTe20t"
   },
   "source": [
    "#11 Normalization "
   ]
  },
  {
   "cell_type": "code",
   "execution_count": null,
   "metadata": {
    "colab": {
     "base_uri": "https://localhost:8080/"
    },
    "id": "pN7TYzSNJotq",
    "outputId": "e5cf8cf3-da17-430d-924c-2072d80372d4"
   },
   "outputs": [
    {
     "name": "stderr",
     "output_type": "stream",
     "text": [
      "R[write to console]: vsn2: 3818 x 8 matrix (1 stratum). \n",
      "\n",
      "R[write to console]: Please use 'meanSdPlot' to verify the fit.\n",
      "\n"
     ]
    }
   ],
   "source": [
    "%%R\n",
    "# Normalize the data\n",
    "data_norm <- normalize_vsn(data_filt)"
   ]
  },
  {
   "cell_type": "code",
   "execution_count": null,
   "metadata": {
    "colab": {
     "base_uri": "https://localhost:8080/",
     "height": 565
    },
    "id": "Ejilzc5GRWCv",
    "outputId": "c6d219ea-4226-4ded-9e46-f5a477728080"
   },
   "outputs": [
    {
     "name": "stderr",
     "output_type": "stream",
     "text": [
      "R[write to console]: vsn2: 3818 x 8 matrix (1 stratum). \n",
      "\n",
      "R[write to console]: Please use 'meanSdPlot' to verify the fit.\n",
      "\n"
     ]
    },
    {
     "data": {
      "image/png": "[encoded data removed]"
     },
     "metadata": {},
     "output_type": "display_data"
    }
   ],
   "source": [
    "%%R\n",
    "# Normalize the data\n",
    "data_norm <- normalize_vsn(data_filt)\n",
    "\n",
    "# Visualize normalization by boxplots for all samples before and after normalization\n",
    "pic11_1 <- plot_normalization(data_filt, data_norm)\n",
    "print(pic11_1)"
   ]
  },
  {
   "cell_type": "markdown",
   "metadata": {
    "id": "aGUobJP7e7_U"
   },
   "source": [
    "#12 Impute data for missing values "
   ]
  },
  {
   "cell_type": "code",
   "execution_count": null,
   "metadata": {
    "colab": {
     "base_uri": "https://localhost:8080/"
    },
    "id": "fWEjiQm9key_",
    "outputId": "3b346503-5e7a-473b-cccd-f71965182c3a"
   },
   "outputs": [
    {
     "data": {
      "image/png": "[encoded data removed]"
     },
     "metadata": {},
     "output_type": "display_data"
    },
    {
     "data": {
      "image/png": "[encoded data removed]"
     },
     "metadata": {},
     "output_type": "display_data"
    }
   ],
   "source": [
    "%%R\n",
    "# Plot a heatmap of proteins with missing values\n",
    "pic12_1 <- plot_missval(data_filt)\n",
    "print(pic12_1)"
   ]
  },
  {
   "cell_type": "code",
   "execution_count": null,
   "metadata": {
    "colab": {
     "base_uri": "https://localhost:8080/"
    },
    "id": "t1bM21JARjGA",
    "outputId": "7d8e6ddc-e91a-4472-c51a-5464899fe92c"
   },
   "outputs": [
    {
     "name": "stdout",
     "output_type": "stream",
     "text": [
      "TableGrob (2 x 1) \"arrange\": 2 grobs\n",
      "  z     cells    name           grob\n",
      "1 1 (1-1,1-1) arrange gtable[layout]\n",
      "2 2 (2-2,1-1) arrange gtable[layout]\n"
     ]
    },
    {
     "data": {
      "image/png": "[encoded data removed]"
     },
     "metadata": {},
     "output_type": "display_data"
    }
   ],
   "source": [
    "%%R\n",
    "# Plot intensity distributions and cumulative fraction of proteins with and without missing values\n",
    "pic12_2 <- plot_detect(data_filt)\n",
    "print(pic12_2)"
   ]
  },
  {
   "cell_type": "code",
   "execution_count": null,
   "metadata": {
    "colab": {
     "base_uri": "https://localhost:8080/"
    },
    "id": "PdZ9zq6TRmWY",
    "outputId": "01fee44c-f8f0-41fb-e47b-15f82c0db774"
   },
   "outputs": [
    {
     "name": "stdout",
     "output_type": "stream",
     "text": [
      "[1] 0.1109143\n",
      "Cluster size 3749 broken into 1950 1799 \n",
      "Cluster size 1950 broken into 1224 726 \n",
      "Done cluster 1224 \n",
      "Done cluster 726 \n",
      "Done cluster 1950 \n",
      "Cluster size 1799 broken into 1138 661 \n",
      "Done cluster 1138 \n",
      "Done cluster 661 \n",
      "Done cluster 1799 \n"
     ]
    },
    {
     "data": {
      "image/png": "[encoded data removed]"
     },
     "metadata": {},
     "output_type": "display_data"
    }
   ],
   "source": [
    "%%R\n",
    "# All possible imputation methods are printed in an error, if an invalid function name is given.\n",
    "#impute(data_norm, fun = \"\")\n",
    "\n",
    "# Impute missing data using random draws from a Gaussian distribution centered around a minimal value (for MNAR)\n",
    "data_imp <- impute(data_norm, fun = \"MinProb\", q = 0.01)\n",
    "\n",
    "# Impute missing data using random draws from a manually defined left-shifted Gaussian distribution (for MNAR)\n",
    "data_imp_man <- impute(data_norm, fun = \"man\", shift = 1.8, scale = 0.3)\n",
    "\n",
    "# Impute missing data using the k-nearest neighbour approach (for MAR)\n",
    "data_imp_knn <- impute(data_norm, fun = \"knn\", rowmax = 0.9)\n",
    "\n",
    "# Plot intensity distributions before and after imputation\n",
    "pic12_3 <- plot_imputation(data_norm, data_imp)\n",
    "print(pic12_3)"
   ]
  },
  {
   "cell_type": "code",
   "execution_count": null,
   "metadata": {
    "colab": {
     "base_uri": "https://localhost:8080/"
    },
    "id": "uAOY6oC9u9y6",
    "outputId": "85ab47de-3c8e-4e23-8767-2832eeec5f9c"
   },
   "outputs": [
    {
     "name": "stderr",
     "output_type": "stream",
     "text": [
      "R[write to console]: Tested contrasts: DMSO_vs_LA\n",
      "\n",
      "R[write to console]: Tested contrasts: DMSO_vs_LA\n",
      "\n"
     ]
    }
   ],
   "source": [
    "%%R\n",
    "# Differential enrichment analysis  based on linear models and empherical Bayes statistics\n",
    "\n",
    "# Test every sample versus control\n",
    "data_diff <- test_diff(data_imp, type = \"control\", control = \"LA\") #LA:要讓使用者可以輸入\n",
    "\n",
    "# Test all possible comparisons of samples\n",
    "data_diff_all_contrasts <- test_diff(data_imp, type = \"all\")\n"
   ]
  },
  {
   "cell_type": "code",
   "execution_count": null,
   "metadata": {
    "colab": {
     "base_uri": "https://localhost:8080/"
    },
    "id": "c6BPBwIsfQ51",
    "outputId": "ac912b79-e5af-4881-f49a-9df81ede6cab"
   },
   "outputs": [
    {
     "name": "stderr",
     "output_type": "stream",
     "text": [
      "R[write to console]: Tested contrasts: DMSO_vs_LA\n",
      "\n"
     ]
    },
    {
     "name": "stdout",
     "output_type": "stream",
     "text": [
      "class: SummarizedExperiment \n",
      "dim: 3818 8 \n",
      "metadata(0):\n",
      "assays(1): ''\n",
      "rownames(3818): Aaas Aacs ... Zyx Zzef1\n",
      "rowData names(73): name Protein.IDs ... DMSO_vs_LA_p.adj\n",
      "  DMSO_vs_LA_p.val\n",
      "colnames(8): DMSO_1 DMSO_2 ... LA_3 LA_4\n",
      "colData names(4): label ID condition replicate\n"
     ]
    }
   ],
   "source": [
    "%%R\n",
    "# Test manually defined comparisons\n",
    "data_diff_manual <- test_diff(data_imp, type = \"manual\", #manual() 兩個\n",
    "                              test = c(\"DMSO_vs_LA\"))  #要讓使用者可以輸入 conditionA*conditionB ()\n",
    "data_diff_manual"
   ]
  },
  {
   "cell_type": "code",
   "execution_count": null,
   "metadata": {
    "colab": {
     "base_uri": "https://localhost:8080/"
    },
    "id": "vF3U9huvfShV",
    "outputId": "e76ce399-bcef-451d-b844-28d495ad08a2"
   },
   "outputs": [
    {
     "name": "stdout",
     "output_type": "stream",
     "text": [
      "[1] \"DMSO_1\" \"DMSO_2\" \"DMSO_3\" \"DMSO_4\" \"LA_1\"   \"LA_2\"   \"LA_3\"   \"LA_4\"  \n"
     ]
    }
   ],
   "source": [
    "%%R\n",
    "# Denote significant proteins based on user defined cutoffs\n",
    "dep <- add_rejections(data_diff, alpha = 1, lfc = log2(1.5)) #alpha、lfc調整\n",
    "head(dep)\n",
    "typeof(dep)\n",
    "colnames(dep)"
   ]
  },
  {
   "cell_type": "markdown",
   "metadata": {
    "id": "ZxFYLeeQfZd8"
   },
   "source": [
    "#13 PCA plot   "
   ]
  },
  {
   "cell_type": "code",
   "execution_count": null,
   "metadata": {
    "colab": {
     "base_uri": "https://localhost:8080/"
    },
    "id": "G_e1KkcJfXXe",
    "outputId": "2970dcdc-a906-4a2b-f6cc-508b2d57731a"
   },
   "outputs": [
    {
     "data": {
      "image/png": "[encoded data removed]"
     },
     "metadata": {},
     "output_type": "display_data"
    }
   ],
   "source": [
    "%%R\n",
    "pic13_1 <- plot_pca(dep, x = 1, y = 2, n = 500, point_size = 4)\n",
    "print(pic13_1)"
   ]
  },
  {
   "cell_type": "markdown",
   "metadata": {
    "id": "5qYCtZqyfea0"
   },
   "source": [
    "#14 Correlation matrix "
   ]
  },
  {
   "cell_type": "code",
   "execution_count": null,
   "metadata": {
    "colab": {
     "base_uri": "https://localhost:8080/"
    },
    "id": "0CdyXXIHnxgo",
    "outputId": "cfdd548a-6301-4053-fc0e-caec5caf9ce3"
   },
   "outputs": [
    {
     "name": "stdout",
     "output_type": "stream",
     "text": [
      "class: SummarizedExperiment \n",
      "dim: 6 8 \n",
      "metadata(0):\n",
      "assays(1): ''\n",
      "rownames(6): Aaas Aacs ... Aars Aars2\n",
      "rowData names(75): name Protein.IDs ... significant\n",
      "  DMSO_vs_LA_significant\n",
      "colnames(8): DMSO_1 DMSO_2 ... LA_3 LA_4\n",
      "colData names(4): label ID condition replicate\n"
     ]
    }
   ],
   "source": [
    "%%R\n",
    "colnames(dep)\n",
    "head(dep)\n"
   ]
  },
  {
   "cell_type": "code",
   "execution_count": null,
   "metadata": {
    "colab": {
     "base_uri": "https://localhost:8080/"
    },
    "id": "OfG4hLAyfvaE",
    "outputId": "e19f2072-89d9-48a5-a704-03dd0ea3027f"
   },
   "outputs": [
    {
     "data": {
      "image/png": "[encoded data removed]"
     },
     "metadata": {},
     "output_type": "display_data"
    },
    {
     "data": {
      "image/png": "[encoded data removed]"
     },
     "metadata": {},
     "output_type": "display_data"
    }
   ],
   "source": [
    "%%R\n",
    "# Plot the Pearson correlation matrix\n",
    "pic14_1 <- plot_cor(dep, significant = FALSE, lower = 0.9, upper = 1, pal = \"Reds\")\n",
    "print(pic14_1)"
   ]
  },
  {
   "cell_type": "markdown",
   "metadata": {
    "id": "FtpwADcDfejz"
   },
   "source": [
    "#15 Heatmap of all significant proteins"
   ]
  },
  {
   "cell_type": "code",
   "execution_count": null,
   "metadata": {
    "colab": {
     "base_uri": "https://localhost:8080/"
    },
    "id": "xOTUgulsfzoN",
    "outputId": "a5a65577-7d9b-4a29-ff45-eb3c8885b177"
   },
   "outputs": [
    {
     "data": {
      "image/png": "[encoded data removed]"
     },
     "metadata": {},
     "output_type": "display_data"
    },
    {
     "data": {
      "image/png": "[encoded data removed]"
     },
     "metadata": {},
     "output_type": "display_data"
    }
   ],
   "source": [
    "%%R\n",
    "# Plot a heatmap of all significant proteins with the data centered per protein\n",
    "pic15_1 <- plot_heatmap(dep, type = \"centered\", kmeans = TRUE, \n",
    "             k = 6, col_limit = 4, show_row_names = FALSE,\n",
    "             indicate = c(\"condition\", \"replicate\"))\n",
    "print(pic15_1)"
   ]
  },
  {
   "cell_type": "code",
   "execution_count": null,
   "metadata": {
    "colab": {
     "base_uri": "https://localhost:8080/"
    },
    "id": "-iPFHZScf2sd",
    "outputId": "d8aca9cb-5440-4a9a-87d1-6f733841a9da"
   },
   "outputs": [
    {
     "data": {
      "image/png": "[encoded data removed]"
     },
     "metadata": {},
     "output_type": "display_data"
    },
    {
     "data": {
      "image/png": "[encoded data removed]"
     },
     "metadata": {},
     "output_type": "display_data"
    }
   ],
   "source": [
    "%%R\n",
    "# Plot a heatmap of all significant proteins (rows) and the tested contrasts (columns)\n",
    "pic15_2 <- plot_heatmap(dep, type = \"contrast\", kmeans = TRUE, \n",
    "             k = 6, col_limit = 10, show_row_names = FALSE)\n",
    "print(pic15_2)"
   ]
  },
  {
   "cell_type": "markdown",
   "metadata": {
    "id": "Dkx3acvtfepU"
   },
   "source": [
    "#16 Volcano plots of specific cotrasts "
   ]
  },
  {
   "cell_type": "code",
   "execution_count": null,
   "metadata": {
    "colab": {
     "base_uri": "https://localhost:8080/"
    },
    "id": "YpkwbZuIf5SV",
    "outputId": "150cbce2-2a00-45c1-8391-5a1d0a9e3921"
   },
   "outputs": [
    {
     "data": {
      "image/png": "[encoded data removed]"
     },
     "metadata": {},
     "output_type": "display_data"
    }
   ],
   "source": [
    "%%R\n",
    "# Plot a volcano plot for the contrast \"Ubi6 vs Ctrl\"\"\n",
    "pic16_1 <- plot_volcano(dep, contrast = \"DMSO_vs_LA\", label_size = 2, add_names = TRUE) #變數\n",
    "print(pic16_1)"
   ]
  },
  {
   "cell_type": "markdown",
   "metadata": {
    "id": "cuISwCNrfesN"
   },
   "source": [
    "#17 Barplots of a protein of interest "
   ]
  },
  {
   "cell_type": "code",
   "execution_count": null,
   "metadata": {
    "colab": {
     "base_uri": "https://localhost:8080/"
    },
    "id": "E1yWGUjdf70m",
    "outputId": "89615736-0cee-4249-a3bc-4001f3e340cd"
   },
   "outputs": [
    {
     "data": {
      "image/png": "[encoded data removed]"
     },
     "metadata": {},
     "output_type": "display_data"
    }
   ],
   "source": [
    "%%R\n",
    "# Plot a barplot for USP15 and IKBKG\n",
    "pic17_1 <- plot_single(dep, proteins = c(\"Rps16\", \"Eif2b4\"))  #Rps16 Eif2b4要給使用者輸入  #\tproteins: Character, The name(s) of the protein(s) to plot.\n",
    "print(pic17_1)"
   ]
  },
  {
   "cell_type": "code",
   "execution_count": null,
   "metadata": {
    "colab": {
     "base_uri": "https://localhost:8080/"
    },
    "id": "4gCn4LcDf-yy",
    "outputId": "a31eb2f3-525e-4eaa-f134-91f2d3cb684a"
   },
   "outputs": [
    {
     "data": {
      "image/png": "[encoded data removed]"
     },
     "metadata": {},
     "output_type": "display_data"
    }
   ],
   "source": [
    "%%R\n",
    "# Plot a barplot for the protein USP15 with the data centered\n",
    "pic17_2 <- plot_single(dep, proteins = \"Eif2b4\", type = \"centered\") #要給使用者輸入\n",
    "print(pic17_2)"
   ]
  },
  {
   "cell_type": "markdown",
   "metadata": {
    "id": "Sk4_ofgBfevb"
   },
   "source": [
    "#18 Frequency plot of significant proteins and overlap of conditions \n",
    "\n",
    "\n",
    "\n",
    " "
   ]
  },
  {
   "cell_type": "code",
   "execution_count": null,
   "metadata": {
    "colab": {
     "base_uri": "https://localhost:8080/",
     "height": 1000
    },
    "id": "0gA4s5Y-gBEF",
    "outputId": "02e3b556-2e8e-4d7c-f73d-2ff2f2350fa5"
   },
   "outputs": [
    {
     "name": "stderr",
     "output_type": "stream",
     "text": [
      "R[write to console]: Error in apply(mat, 1, function(x) { : dim(X) must have a positive length\n",
      "\n",
      "R[write to console]: In addition: \n",
      "R[write to console]: Warning messages:\n",
      "\n",
      "R[write to console]: 1: \n",
      "R[write to console]: In vsnSample(v) :\n",
      "R[write to console]: \n",
      " \n",
      "R[write to console]:  69 rows were removed since they contained only NA elements.\n",
      "\n",
      "R[write to console]: 2: \n",
      "R[write to console]: In vsnSample(v) :\n",
      "R[write to console]: \n",
      " \n",
      "R[write to console]:  69 rows were removed since they contained only NA elements.\n",
      "\n",
      "R[write to console]: 3: Removed 69 row(s) containing missing values (geom_path). \n",
      "\n",
      "R[write to console]: 4: \n",
      "R[write to console]: In knnimp(x, k, maxmiss = rowmax, maxp = maxp) :\n",
      "R[write to console]: \n",
      " \n",
      "R[write to console]:  69 rows with more than 90 % entries missing;\n",
      " mean imputation used for these rows\n",
      "\n",
      "R[write to console]: 5: Removed 69 row(s) containing missing values (geom_path). \n",
      "\n",
      "R[write to console]: 6: \n",
      "R[write to console]: In knnimp(x, k, maxmiss = rowmax, maxp = maxp) :\n",
      "R[write to console]: \n",
      " \n",
      "R[write to console]:  69 rows with more than 90 % entries missing;\n",
      " mean imputation used for these rows\n",
      "\n",
      "R[write to console]: 7: Use of `pca_df[[indicate[1]]]` is discouraged. Use `.data[[indicate[1]]]` instead. \n",
      "\n",
      "R[write to console]: 8: Use of `pca_df[[indicate[2]]]` is discouraged. Use `.data[[indicate[2]]]` instead. \n",
      "\n"
     ]
    },
    {
     "name": "stdout",
     "output_type": "stream",
     "text": [
      "\n",
      "Error in apply(mat, 1, function(x) { : dim(X) must have a positive length\n"
     ]
    },
    {
     "ename": "RInterpreterError",
     "evalue": "ignored",
     "output_type": "error",
     "traceback": [
      "\u001b[0;31m---------------------------------------------------------------------------\u001b[0m",
      "\u001b[0;31mRRuntimeError\u001b[0m                             Traceback (most recent call last)",
      "\u001b[0;32m/usr/local/lib/python3.7/dist-packages/rpy2/ipython/rmagic.py\u001b[0m in \u001b[0;36meval\u001b[0;34m(self, code)\u001b[0m\n\u001b[1;32m    267\u001b[0m                 \u001b[0;31m# Need the newline in case the last line in code is a comment.\u001b[0m\u001b[0;34m\u001b[0m\u001b[0;34m\u001b[0m\u001b[0;34m\u001b[0m\u001b[0m\n\u001b[0;32m--> 268\u001b[0;31m                 \u001b[0mvalue\u001b[0m\u001b[0;34m,\u001b[0m \u001b[0mvisible\u001b[0m \u001b[0;34m=\u001b[0m \u001b[0mro\u001b[0m\u001b[0;34m.\u001b[0m\u001b[0mr\u001b[0m\u001b[0;34m(\u001b[0m\u001b[0;34m\"withVisible({%s\\n})\"\u001b[0m \u001b[0;34m%\u001b[0m \u001b[0mcode\u001b[0m\u001b[0;34m)\u001b[0m\u001b[0;34m\u001b[0m\u001b[0;34m\u001b[0m\u001b[0m\n\u001b[0m\u001b[1;32m    269\u001b[0m             \u001b[0;32mexcept\u001b[0m \u001b[0;34m(\u001b[0m\u001b[0mri\u001b[0m\u001b[0;34m.\u001b[0m\u001b[0membedded\u001b[0m\u001b[0;34m.\u001b[0m\u001b[0mRRuntimeError\u001b[0m\u001b[0;34m,\u001b[0m \u001b[0mValueError\u001b[0m\u001b[0;34m)\u001b[0m \u001b[0;32mas\u001b[0m \u001b[0mexception\u001b[0m\u001b[0;34m:\u001b[0m\u001b[0;34m\u001b[0m\u001b[0;34m\u001b[0m\u001b[0m\n",
      "\u001b[0;32m/usr/local/lib/python3.7/dist-packages/rpy2/robjects/__init__.py\u001b[0m in \u001b[0;36m__call__\u001b[0;34m(self, string)\u001b[0m\n\u001b[1;32m    437\u001b[0m         \u001b[0mp\u001b[0m \u001b[0;34m=\u001b[0m \u001b[0mrinterface\u001b[0m\u001b[0;34m.\u001b[0m\u001b[0mparse\u001b[0m\u001b[0;34m(\u001b[0m\u001b[0mstring\u001b[0m\u001b[0;34m)\u001b[0m\u001b[0;34m\u001b[0m\u001b[0;34m\u001b[0m\u001b[0m\n\u001b[0;32m--> 438\u001b[0;31m         \u001b[0mres\u001b[0m \u001b[0;34m=\u001b[0m \u001b[0mself\u001b[0m\u001b[0;34m.\u001b[0m\u001b[0meval\u001b[0m\u001b[0;34m(\u001b[0m\u001b[0mp\u001b[0m\u001b[0;34m)\u001b[0m\u001b[0;34m\u001b[0m\u001b[0;34m\u001b[0m\u001b[0m\n\u001b[0m\u001b[1;32m    439\u001b[0m         \u001b[0;32mreturn\u001b[0m \u001b[0mconversion\u001b[0m\u001b[0;34m.\u001b[0m\u001b[0mrpy2py\u001b[0m\u001b[0;34m(\u001b[0m\u001b[0mres\u001b[0m\u001b[0;34m)\u001b[0m\u001b[0;34m\u001b[0m\u001b[0;34m\u001b[0m\u001b[0m\n",
      "\u001b[0;32m/usr/local/lib/python3.7/dist-packages/rpy2/robjects/functions.py\u001b[0m in \u001b[0;36m__call__\u001b[0;34m(self, *args, **kwargs)\u001b[0m\n\u001b[1;32m    198\u001b[0m         return (super(SignatureTranslatedFunction, self)\n\u001b[0;32m--> 199\u001b[0;31m                 .__call__(*args, **kwargs))\n\u001b[0m\u001b[1;32m    200\u001b[0m \u001b[0;34m\u001b[0m\u001b[0m\n",
      "\u001b[0;32m/usr/local/lib/python3.7/dist-packages/rpy2/robjects/functions.py\u001b[0m in \u001b[0;36m__call__\u001b[0;34m(self, *args, **kwargs)\u001b[0m\n\u001b[1;32m    124\u001b[0m                 \u001b[0mnew_kwargs\u001b[0m\u001b[0;34m[\u001b[0m\u001b[0mk\u001b[0m\u001b[0;34m]\u001b[0m \u001b[0;34m=\u001b[0m \u001b[0mconversion\u001b[0m\u001b[0;34m.\u001b[0m\u001b[0mpy2rpy\u001b[0m\u001b[0;34m(\u001b[0m\u001b[0mv\u001b[0m\u001b[0;34m)\u001b[0m\u001b[0;34m\u001b[0m\u001b[0;34m\u001b[0m\u001b[0m\n\u001b[0;32m--> 125\u001b[0;31m         \u001b[0mres\u001b[0m \u001b[0;34m=\u001b[0m \u001b[0msuper\u001b[0m\u001b[0;34m(\u001b[0m\u001b[0mFunction\u001b[0m\u001b[0;34m,\u001b[0m \u001b[0mself\u001b[0m\u001b[0;34m)\u001b[0m\u001b[0;34m.\u001b[0m\u001b[0m__call__\u001b[0m\u001b[0;34m(\u001b[0m\u001b[0;34m*\u001b[0m\u001b[0mnew_args\u001b[0m\u001b[0;34m,\u001b[0m \u001b[0;34m**\u001b[0m\u001b[0mnew_kwargs\u001b[0m\u001b[0;34m)\u001b[0m\u001b[0;34m\u001b[0m\u001b[0;34m\u001b[0m\u001b[0m\n\u001b[0m\u001b[1;32m    126\u001b[0m         \u001b[0mres\u001b[0m \u001b[0;34m=\u001b[0m \u001b[0mconversion\u001b[0m\u001b[0;34m.\u001b[0m\u001b[0mrpy2py\u001b[0m\u001b[0;34m(\u001b[0m\u001b[0mres\u001b[0m\u001b[0;34m)\u001b[0m\u001b[0;34m\u001b[0m\u001b[0;34m\u001b[0m\u001b[0m\n",
      "\u001b[0;32m/usr/local/lib/python3.7/dist-packages/rpy2/rinterface_lib/conversion.py\u001b[0m in \u001b[0;36m_\u001b[0;34m(*args, **kwargs)\u001b[0m\n\u001b[1;32m     44\u001b[0m     \u001b[0;32mdef\u001b[0m \u001b[0m_\u001b[0m\u001b[0;34m(\u001b[0m\u001b[0;34m*\u001b[0m\u001b[0margs\u001b[0m\u001b[0;34m,\u001b[0m \u001b[0;34m**\u001b[0m\u001b[0mkwargs\u001b[0m\u001b[0;34m)\u001b[0m\u001b[0;34m:\u001b[0m\u001b[0;34m\u001b[0m\u001b[0;34m\u001b[0m\u001b[0m\n\u001b[0;32m---> 45\u001b[0;31m         \u001b[0mcdata\u001b[0m \u001b[0;34m=\u001b[0m \u001b[0mfunction\u001b[0m\u001b[0;34m(\u001b[0m\u001b[0;34m*\u001b[0m\u001b[0margs\u001b[0m\u001b[0;34m,\u001b[0m \u001b[0;34m**\u001b[0m\u001b[0mkwargs\u001b[0m\u001b[0;34m)\u001b[0m\u001b[0;34m\u001b[0m\u001b[0;34m\u001b[0m\u001b[0m\n\u001b[0m\u001b[1;32m     46\u001b[0m         \u001b[0;31m# TODO: test cdata is of the expected CType\u001b[0m\u001b[0;34m\u001b[0m\u001b[0;34m\u001b[0m\u001b[0;34m\u001b[0m\u001b[0m\n",
      "\u001b[0;32m/usr/local/lib/python3.7/dist-packages/rpy2/rinterface.py\u001b[0m in \u001b[0;36m__call__\u001b[0;34m(self, *args, **kwargs)\u001b[0m\n\u001b[1;32m    679\u001b[0m             \u001b[0;32mif\u001b[0m \u001b[0merror_occured\u001b[0m\u001b[0;34m[\u001b[0m\u001b[0;36m0\u001b[0m\u001b[0;34m]\u001b[0m\u001b[0;34m:\u001b[0m\u001b[0;34m\u001b[0m\u001b[0;34m\u001b[0m\u001b[0m\n\u001b[0;32m--> 680\u001b[0;31m                 \u001b[0;32mraise\u001b[0m \u001b[0membedded\u001b[0m\u001b[0;34m.\u001b[0m\u001b[0mRRuntimeError\u001b[0m\u001b[0;34m(\u001b[0m\u001b[0m_rinterface\u001b[0m\u001b[0;34m.\u001b[0m\u001b[0m_geterrmessage\u001b[0m\u001b[0;34m(\u001b[0m\u001b[0;34m)\u001b[0m\u001b[0;34m)\u001b[0m\u001b[0;34m\u001b[0m\u001b[0;34m\u001b[0m\u001b[0m\n\u001b[0m\u001b[1;32m    681\u001b[0m         \u001b[0;32mreturn\u001b[0m \u001b[0mres\u001b[0m\u001b[0;34m\u001b[0m\u001b[0;34m\u001b[0m\u001b[0m\n",
      "\u001b[0;31mRRuntimeError\u001b[0m: Error in apply(mat, 1, function(x) { : dim(X) must have a positive length\n",
      "\nDuring handling of the above exception, another exception occurred:\n",
      "\u001b[0;31mRInterpreterError\u001b[0m                         Traceback (most recent call last)",
      "\u001b[0;32m<ipython-input-46-831bc568d163>\u001b[0m in \u001b[0;36m<module>\u001b[0;34m()\u001b[0m\n\u001b[0;32m----> 1\u001b[0;31m \u001b[0mget_ipython\u001b[0m\u001b[0;34m(\u001b[0m\u001b[0;34m)\u001b[0m\u001b[0;34m.\u001b[0m\u001b[0mrun_cell_magic\u001b[0m\u001b[0;34m(\u001b[0m\u001b[0;34m'R'\u001b[0m\u001b[0;34m,\u001b[0m \u001b[0;34m''\u001b[0m\u001b[0;34m,\u001b[0m \u001b[0;34m'# Plot a frequency plot of significant proteins for the different conditions\\npic18_1 <- plot_cond(dep)\\nprint(pic18_1)'\u001b[0m\u001b[0;34m)\u001b[0m\u001b[0;34m\u001b[0m\u001b[0;34m\u001b[0m\u001b[0m\n\u001b[0m",
      "\u001b[0;32m/usr/local/lib/python3.7/dist-packages/IPython/core/interactiveshell.py\u001b[0m in \u001b[0;36mrun_cell_magic\u001b[0;34m(self, magic_name, line, cell)\u001b[0m\n\u001b[1;32m   2115\u001b[0m             \u001b[0mmagic_arg_s\u001b[0m \u001b[0;34m=\u001b[0m \u001b[0mself\u001b[0m\u001b[0;34m.\u001b[0m\u001b[0mvar_expand\u001b[0m\u001b[0;34m(\u001b[0m\u001b[0mline\u001b[0m\u001b[0;34m,\u001b[0m \u001b[0mstack_depth\u001b[0m\u001b[0;34m)\u001b[0m\u001b[0;34m\u001b[0m\u001b[0;34m\u001b[0m\u001b[0m\n\u001b[1;32m   2116\u001b[0m             \u001b[0;32mwith\u001b[0m \u001b[0mself\u001b[0m\u001b[0;34m.\u001b[0m\u001b[0mbuiltin_trap\u001b[0m\u001b[0;34m:\u001b[0m\u001b[0;34m\u001b[0m\u001b[0;34m\u001b[0m\u001b[0m\n\u001b[0;32m-> 2117\u001b[0;31m                 \u001b[0mresult\u001b[0m \u001b[0;34m=\u001b[0m \u001b[0mfn\u001b[0m\u001b[0;34m(\u001b[0m\u001b[0mmagic_arg_s\u001b[0m\u001b[0;34m,\u001b[0m \u001b[0mcell\u001b[0m\u001b[0;34m)\u001b[0m\u001b[0;34m\u001b[0m\u001b[0;34m\u001b[0m\u001b[0m\n\u001b[0m\u001b[1;32m   2118\u001b[0m             \u001b[0;32mreturn\u001b[0m \u001b[0mresult\u001b[0m\u001b[0;34m\u001b[0m\u001b[0;34m\u001b[0m\u001b[0m\n\u001b[1;32m   2119\u001b[0m \u001b[0;34m\u001b[0m\u001b[0m\n",
      "\u001b[0;32m<decorator-gen-119>\u001b[0m in \u001b[0;36mR\u001b[0;34m(self, line, cell, local_ns)\u001b[0m\n",
      "\u001b[0;32m/usr/local/lib/python3.7/dist-packages/IPython/core/magic.py\u001b[0m in \u001b[0;36m<lambda>\u001b[0;34m(f, *a, **k)\u001b[0m\n\u001b[1;32m    186\u001b[0m     \u001b[0;31m# but it's overkill for just that one bit of state.\u001b[0m\u001b[0;34m\u001b[0m\u001b[0;34m\u001b[0m\u001b[0;34m\u001b[0m\u001b[0m\n\u001b[1;32m    187\u001b[0m     \u001b[0;32mdef\u001b[0m \u001b[0mmagic_deco\u001b[0m\u001b[0;34m(\u001b[0m\u001b[0marg\u001b[0m\u001b[0;34m)\u001b[0m\u001b[0;34m:\u001b[0m\u001b[0;34m\u001b[0m\u001b[0;34m\u001b[0m\u001b[0m\n\u001b[0;32m--> 188\u001b[0;31m         \u001b[0mcall\u001b[0m \u001b[0;34m=\u001b[0m \u001b[0;32mlambda\u001b[0m \u001b[0mf\u001b[0m\u001b[0;34m,\u001b[0m \u001b[0;34m*\u001b[0m\u001b[0ma\u001b[0m\u001b[0;34m,\u001b[0m \u001b[0;34m**\u001b[0m\u001b[0mk\u001b[0m\u001b[0;34m:\u001b[0m \u001b[0mf\u001b[0m\u001b[0;34m(\u001b[0m\u001b[0;34m*\u001b[0m\u001b[0ma\u001b[0m\u001b[0;34m,\u001b[0m \u001b[0;34m**\u001b[0m\u001b[0mk\u001b[0m\u001b[0;34m)\u001b[0m\u001b[0;34m\u001b[0m\u001b[0;34m\u001b[0m\u001b[0m\n\u001b[0m\u001b[1;32m    189\u001b[0m \u001b[0;34m\u001b[0m\u001b[0m\n\u001b[1;32m    190\u001b[0m         \u001b[0;32mif\u001b[0m \u001b[0mcallable\u001b[0m\u001b[0;34m(\u001b[0m\u001b[0marg\u001b[0m\u001b[0;34m)\u001b[0m\u001b[0;34m:\u001b[0m\u001b[0;34m\u001b[0m\u001b[0;34m\u001b[0m\u001b[0m\n",
      "\u001b[0;32m/usr/local/lib/python3.7/dist-packages/rpy2/ipython/rmagic.py\u001b[0m in \u001b[0;36mR\u001b[0;34m(self, line, cell, local_ns)\u001b[0m\n\u001b[1;32m    781\u001b[0m             \u001b[0;32mif\u001b[0m \u001b[0;32mnot\u001b[0m \u001b[0me\u001b[0m\u001b[0;34m.\u001b[0m\u001b[0mstdout\u001b[0m\u001b[0;34m.\u001b[0m\u001b[0mendswith\u001b[0m\u001b[0;34m(\u001b[0m\u001b[0me\u001b[0m\u001b[0;34m.\u001b[0m\u001b[0merr\u001b[0m\u001b[0;34m)\u001b[0m\u001b[0;34m:\u001b[0m\u001b[0;34m\u001b[0m\u001b[0;34m\u001b[0m\u001b[0m\n\u001b[1;32m    782\u001b[0m                 \u001b[0mprint\u001b[0m\u001b[0;34m(\u001b[0m\u001b[0me\u001b[0m\u001b[0;34m.\u001b[0m\u001b[0merr\u001b[0m\u001b[0;34m)\u001b[0m\u001b[0;34m\u001b[0m\u001b[0;34m\u001b[0m\u001b[0m\n\u001b[0;32m--> 783\u001b[0;31m             \u001b[0;32mraise\u001b[0m \u001b[0me\u001b[0m\u001b[0;34m\u001b[0m\u001b[0;34m\u001b[0m\u001b[0m\n\u001b[0m\u001b[1;32m    784\u001b[0m         \u001b[0;32mfinally\u001b[0m\u001b[0;34m:\u001b[0m\u001b[0;34m\u001b[0m\u001b[0;34m\u001b[0m\u001b[0m\n\u001b[1;32m    785\u001b[0m             \u001b[0;32mif\u001b[0m \u001b[0mself\u001b[0m\u001b[0;34m.\u001b[0m\u001b[0mdevice\u001b[0m \u001b[0;32min\u001b[0m \u001b[0;34m[\u001b[0m\u001b[0;34m'png'\u001b[0m\u001b[0;34m,\u001b[0m \u001b[0;34m'svg'\u001b[0m\u001b[0;34m]\u001b[0m\u001b[0;34m:\u001b[0m\u001b[0;34m\u001b[0m\u001b[0;34m\u001b[0m\u001b[0m\n",
      "\u001b[0;32m/usr/local/lib/python3.7/dist-packages/rpy2/ipython/rmagic.py\u001b[0m in \u001b[0;36mR\u001b[0;34m(self, line, cell, local_ns)\u001b[0m\n\u001b[1;32m    761\u001b[0m                     \u001b[0mreturn_output\u001b[0m \u001b[0;34m=\u001b[0m \u001b[0;32mFalse\u001b[0m\u001b[0;34m\u001b[0m\u001b[0;34m\u001b[0m\u001b[0m\n\u001b[1;32m    762\u001b[0m             \u001b[0;32melse\u001b[0m\u001b[0;34m:\u001b[0m\u001b[0;34m\u001b[0m\u001b[0;34m\u001b[0m\u001b[0m\n\u001b[0;32m--> 763\u001b[0;31m                 \u001b[0mtext_result\u001b[0m\u001b[0;34m,\u001b[0m \u001b[0mresult\u001b[0m\u001b[0;34m,\u001b[0m \u001b[0mvisible\u001b[0m \u001b[0;34m=\u001b[0m \u001b[0mself\u001b[0m\u001b[0;34m.\u001b[0m\u001b[0meval\u001b[0m\u001b[0;34m(\u001b[0m\u001b[0mcode\u001b[0m\u001b[0;34m)\u001b[0m\u001b[0;34m\u001b[0m\u001b[0;34m\u001b[0m\u001b[0m\n\u001b[0m\u001b[1;32m    764\u001b[0m                 \u001b[0mtext_output\u001b[0m \u001b[0;34m+=\u001b[0m \u001b[0mtext_result\u001b[0m\u001b[0;34m\u001b[0m\u001b[0;34m\u001b[0m\u001b[0m\n\u001b[1;32m    765\u001b[0m                 \u001b[0;32mif\u001b[0m \u001b[0mvisible\u001b[0m\u001b[0;34m:\u001b[0m\u001b[0;34m\u001b[0m\u001b[0;34m\u001b[0m\u001b[0m\n",
      "\u001b[0;32m/usr/local/lib/python3.7/dist-packages/rpy2/ipython/rmagic.py\u001b[0m in \u001b[0;36meval\u001b[0;34m(self, code)\u001b[0m\n\u001b[1;32m    271\u001b[0m                 \u001b[0mwarning_or_other_msg\u001b[0m \u001b[0;34m=\u001b[0m \u001b[0mself\u001b[0m\u001b[0;34m.\u001b[0m\u001b[0mflush\u001b[0m\u001b[0;34m(\u001b[0m\u001b[0;34m)\u001b[0m\u001b[0;34m\u001b[0m\u001b[0;34m\u001b[0m\u001b[0m\n\u001b[1;32m    272\u001b[0m                 raise RInterpreterError(code, str(exception),\n\u001b[0;32m--> 273\u001b[0;31m                                         warning_or_other_msg)\n\u001b[0m\u001b[1;32m    274\u001b[0m             \u001b[0mtext_output\u001b[0m \u001b[0;34m=\u001b[0m \u001b[0mself\u001b[0m\u001b[0;34m.\u001b[0m\u001b[0mflush\u001b[0m\u001b[0;34m(\u001b[0m\u001b[0;34m)\u001b[0m\u001b[0;34m\u001b[0m\u001b[0;34m\u001b[0m\u001b[0m\n\u001b[1;32m    275\u001b[0m             \u001b[0;32mreturn\u001b[0m \u001b[0mtext_output\u001b[0m\u001b[0;34m,\u001b[0m \u001b[0mvalue\u001b[0m\u001b[0;34m,\u001b[0m \u001b[0mvisible\u001b[0m\u001b[0;34m[\u001b[0m\u001b[0;36m0\u001b[0m\u001b[0;34m]\u001b[0m\u001b[0;34m\u001b[0m\u001b[0;34m\u001b[0m\u001b[0m\n",
      "\u001b[0;31mRInterpreterError\u001b[0m: Failed to parse and evaluate line '# Plot a frequency plot of significant proteins for the different conditions\\npic18_1 <- plot_cond(dep)\\nprint(pic18_1)'.\nR error message: 'Error in apply(mat, 1, function(x) { : dim(X) must have a positive length'"
     ]
    }
   ],
   "source": [
    "%%R\n",
    "# Plot a frequency plot of significant proteins for the different conditions\n",
    "pic18_1 <- plot_cond(dep)\n",
    "print(pic18_1)"
   ]
  },
  {
   "cell_type": "code",
   "execution_count": null,
   "metadata": {
    "colab": {
     "base_uri": "https://localhost:8080/"
    },
    "id": "4juTMMWCxfN8",
    "outputId": "f2c74cbb-9546-4d7c-81eb-4309de262464"
   },
   "outputs": [
    {
     "name": "stdout",
     "output_type": "stream",
     "text": [
      "[1] 34\n"
     ]
    }
   ],
   "source": [
    "%%R\n",
    "# Generate a results table\n",
    "data_results <- get_results(dep)\n",
    "\n",
    "# Number of significant proteins\n",
    "data_results %>% filter(significant) %>% nrow()"
   ]
  },
  {
   "cell_type": "code",
   "execution_count": null,
   "metadata": {
    "colab": {
     "base_uri": "https://localhost:8080/"
    },
    "id": "QZANuzF4xjEs",
    "outputId": "328ab9a1-9c10-47fe-d892-5052c20737c2"
   },
   "outputs": [
    {
     "name": "stdout",
     "output_type": "stream",
     "text": [
      "[1] \"name\"                   \"ID\"                     \"DMSO_vs_LA_p.val\"      \n",
      "[4] \"DMSO_vs_LA_p.adj\"       \"significant\"            \"DMSO_vs_LA_significant\"\n",
      "[7] \"DMSO_vs_LA_ratio\"       \"DMSO_centered\"          \"LA_centered\"           \n"
     ]
    }
   ],
   "source": [
    "%%R\n",
    "# Column names of the results table\n",
    "colnames(data_results)"
   ]
  },
  {
   "cell_type": "code",
   "execution_count": null,
   "metadata": {
    "id": "KIWf3Jzk0xt8"
   },
   "outputs": [],
   "source": [
    "%%R\n",
    "write.csv(data_results,\"dep_output.csv\", row.names = FALSE, quote=F)"
   ]
  },
  {
   "cell_type": "markdown",
   "metadata": {
    "id": "0u4fkLU4feyV"
   },
   "source": [
    "#19 LFQ-based DEP analysis (不確定) "
   ]
  },
  {
   "cell_type": "code",
   "execution_count": null,
   "metadata": {
    "id": "vg4VrFKogZB2"
   },
   "outputs": [],
   "source": [
    "%%R\n",
    "# The data is provided with the package \n",
    "data <- read.csv('/content/proteinGroups_mouse_LA.txt', header=TRUE , sep=\"\\t\",fileEncoding =\"UTF-8\")\n",
    "experimental_design <- read.csv('/content/drive/MyDrive/Colab_Notebooks/exp_design_LA.csv',header=TRUE ,fileEncoding =\"UTF-8\")\n",
    "\n",
    "\n",
    "# The wrapper function performs the full analysis\n",
    "data_results <- LFQ( data, experimental_design, fun = \"MinProb\", \n",
    "            type = \"control\", control = \"LA\", \n",
    "            #filter = c(\"significant\"),\n",
    "            name=\"Gene.names\", ids= \"Protein.IDs\", alpha = 0.05, lfc = 1)"
   ]
  },
  {
   "cell_type": "code",
   "execution_count": null,
   "metadata": {
    "id": "eKkIJi5iggqS"
   },
   "outputs": [],
   "source": [
    "%%R\n",
    "# See all objects saved within the results object\n",
    "names(data_results)"
   ]
  },
  {
   "cell_type": "code",
   "execution_count": null,
   "metadata": {
    "id": "Y8ZpEMpJglqZ"
   },
   "outputs": [],
   "source": [
    "%%R\n",
    "# Extract the results table\n",
    "results_table <- data_results$results\n",
    "\n",
    "# Number of significant proteins\n",
    "results_table %>% filter(significant) %>% nrow()"
   ]
  },
  {
   "cell_type": "code",
   "execution_count": null,
   "metadata": {
    "id": "EhQ0nsFGgFgm"
   },
   "outputs": [],
   "source": [
    "%%R\n",
    "# Extract the sign object\n",
    "full_data <- data_results$dep\n",
    "\n",
    "# Use the full data to generate a heatmap\n",
    "pic19_1 <- plot_heatmap(full_data, type = \"contrast\", kmeans = TRUE, \n",
    "             k = 6, col_limit = 4, show_row_names = FALSE)\n",
    "print(pic19_1)"
   ]
  },
  {
   "cell_type": "markdown",
   "metadata": {
    "id": "z3E0uLMZeT4m"
   },
   "source": [
    "#DEP data"
   ]
  },
  {
   "cell_type": "code",
   "execution_count": null,
   "metadata": {
    "colab": {
     "base_uri": "https://localhost:8080/",
     "height": 75,
     "resources": {
      "http://localhost:8080/nbextensions/google.colab/files.js": {
       "data": "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",
       "headers": [
        [
         "content-type",
         "application/javascript"
        ]
       ],
       "ok": true,
       "status": 200,
       "status_text": ""
      }
     }
    },
    "id": "hR1r2r092cfj",
    "outputId": "1e4deb20-552a-4a73-8971-f5263dc8a7fc"
   },
   "outputs": [
    {
     "data": {
      "text/html": [
       "\n",
       "     <input type=\"file\" id=\"files-42b7523e-b4c8-4f85-a391-35ddb87f06d7\" name=\"files[]\" multiple disabled\n",
       "        style=\"border:none\" />\n",
       "     <output id=\"result-42b7523e-b4c8-4f85-a391-35ddb87f06d7\">\n",
       "      Upload widget is only available when the cell has been executed in the\n",
       "      current browser session. Please rerun this cell to enable.\n",
       "      </output>\n",
       "      <script src=\"/nbextensions/google.colab/files.js\"></script> "
      ],
      "text/plain": [
       "<IPython.core.display.HTML object>"
      ]
     },
     "metadata": {},
     "output_type": "display_data"
    },
    {
     "name": "stdout",
     "output_type": "stream",
     "text": [
      "Saving proteinGroups_mouse_LA.txt to proteinGroups_mouse_LA.txt\n"
     ]
    }
   ],
   "source": [
    "#上傳檔案到colab\n",
    "from google.colab import files\n",
    "from rpy2.robjects import r\n",
    "import rpy2.robjects as robjects\n",
    "\n",
    "file=files.upload()\n",
    "\n",
    "if (file):\n",
    "  filename = next(iter(file))\n",
    "  if (filename.count(\".txt\") | filename.count(\".csv\")):  \n",
    "    r = robjects.r\n",
    "    r.assign('filename', filename) #將檔案名稱python -> R\n",
    "  else :\n",
    "    print(\"請再次執行此儲存格，並選擇.csv或.txt檔\")\n",
    "#else if ()\n",
    "else:\n",
    "  print(\"請再次執行此儲存格，並選擇一個檔案\")"
   ]
  },
  {
   "cell_type": "code",
   "execution_count": null,
   "metadata": {
    "colab": {
     "base_uri": "https://localhost:8080/"
    },
    "id": "R55oVh9fQ7uU",
    "outputId": "e680e8f0-f9d8-462b-db22-9113d2c01fec"
   },
   "outputs": [
    {
     "name": "stdout",
     "output_type": "stream",
     "text": [
      "file's row * column = 3920 74 \n",
      "**colnames: \n",
      " [1] \"Protein.IDs\"                         \n",
      " [2] \"Majority.protein.IDs\"                \n",
      " [3] \"Peptide.counts..all.\"                \n",
      " [4] \"Peptide.counts..razor.unique.\"       \n",
      " [5] \"Peptide.counts..unique.\"             \n",
      " [6] \"Protein.names\"                       \n",
      " [7] \"Gene.names\"                          \n",
      " [8] \"Fasta.headers\"                       \n",
      " [9] \"Number.of.proteins\"                  \n",
      "[10] \"Peptides\"                            \n",
      "[11] \"Razor...unique.peptides\"             \n",
      "[12] \"Unique.peptides\"                     \n",
      "[13] \"Sequence.coverage....\"               \n",
      "[14] \"Unique...razor.sequence.coverage....\"\n",
      "[15] \"Unique.sequence.coverage....\"        \n",
      "[16] \"Mol..weight..kDa.\"                   \n",
      "[17] \"Sequence.length\"                     \n",
      "[18] \"Sequence.lengths\"                    \n",
      "[19] \"Fraction.average\"                    \n",
      "[20] \"Fraction.1\"                          \n",
      "[21] \"Fraction.2\"                          \n",
      "[22] \"Fraction.3\"                          \n",
      "[23] \"Fraction.4\"                          \n",
      "[24] \"Fraction.5\"                          \n",
      "[25] \"Fraction.6\"                          \n",
      "[26] \"Fraction.7\"                          \n",
      "[27] \"Fraction.8\"                          \n",
      "[28] \"Q.value\"                             \n",
      "[29] \"Score\"                               \n",
      "[30] \"Reporter.intensity.corrected.1\"      \n",
      "[31] \"Reporter.intensity.corrected.2\"      \n",
      "[32] \"Reporter.intensity.corrected.3\"      \n",
      "[33] \"Reporter.intensity.corrected.4\"      \n",
      "[34] \"Reporter.intensity.corrected.5\"      \n",
      "[35] \"Reporter.intensity.corrected.6\"      \n",
      "[36] \"Reporter.intensity.corrected.7\"      \n",
      "[37] \"Reporter.intensity.corrected.8\"      \n",
      "[38] \"Reporter.intensity.corrected.9\"      \n",
      "[39] \"Reporter.intensity.corrected.10\"     \n",
      "[40] \"Reporter.intensity.1\"                \n",
      "[41] \"Reporter.intensity.2\"                \n",
      "[42] \"Reporter.intensity.3\"                \n",
      "[43] \"Reporter.intensity.4\"                \n",
      "[44] \"Reporter.intensity.5\"                \n",
      "[45] \"Reporter.intensity.6\"                \n",
      "[46] \"Reporter.intensity.7\"                \n",
      "[47] \"Reporter.intensity.8\"                \n",
      "[48] \"Reporter.intensity.9\"                \n",
      "[49] \"Reporter.intensity.10\"               \n",
      "[50] \"Reporter.intensity.count.1\"          \n",
      "[51] \"Reporter.intensity.count.2\"          \n",
      "[52] \"Reporter.intensity.count.3\"          \n",
      "[53] \"Reporter.intensity.count.4\"          \n",
      "[54] \"Reporter.intensity.count.5\"          \n",
      "[55] \"Reporter.intensity.count.6\"          \n",
      "[56] \"Reporter.intensity.count.7\"          \n",
      "[57] \"Reporter.intensity.count.8\"          \n",
      "[58] \"Reporter.intensity.count.9\"          \n",
      "[59] \"Reporter.intensity.count.10\"         \n",
      "[60] \"Intensity\"                           \n",
      "[61] \"MS.MS.count\"                         \n",
      "[62] \"Only.identified.by.site\"             \n",
      "[63] \"Reverse\"                             \n",
      "[64] \"Potential.contaminant\"               \n",
      "[65] \"id\"                                  \n",
      "[66] \"Peptide.IDs\"                         \n",
      "[67] \"Peptide.is.razor\"                    \n",
      "[68] \"Mod..peptide.IDs\"                    \n",
      "[69] \"Evidence.IDs\"                        \n",
      "[70] \"MS.MS.IDs\"                           \n",
      "[71] \"Best.MS.MS\"                          \n",
      "[72] \"Oxidation..M..site.IDs\"              \n",
      "[73] \"Oxidation..M..site.positions\"        \n",
      "[74] \"Taxonomy.IDs\"                        \n",
      "               Protein.IDs     Majority.protein.IDs Peptide.counts..all.\n",
      "1          A2A432;A2A432-2          A2A432;A2A432-2                13;12\n",
      "2                   A2A5N8                   A2A5N8                    1\n",
      "3            A2A5R2;G3X9K3            A2A5R2;G3X9K3                  5;3\n",
      "4 A2A8U2;A2A8U2-3;A2A8U2-2 A2A8U2;A2A8U2-3;A2A8U2-2                4;4;3\n",
      "5          A2A8Z1-2;A2A8Z1          A2A8Z1-2;A2A8Z1                  5;4\n",
      "6                   A2ADY9                   A2ADY9                    4\n",
      "  Peptide.counts..razor.unique. Peptide.counts..unique.\n",
      "1                         13;12                     9;9\n",
      "2                             1                       1\n",
      "3                           5;3                     5;3\n",
      "4                         4;4;3                   4;4;3\n",
      "5                           5;4                     5;4\n",
      "6                             4                       4\n",
      "                                                                                                            Protein.names\n",
      "1                                                                                                               Cullin-4B\n",
      "2                                                                           Lethal(3)malignant brain tumor-like protein 1\n",
      "3 Brefeldin A-inhibited guanine nucleotide-exchange protein 2;Brefeldin A-inhibited guanine nucleotide-exchange protein 1\n",
      "4                                                                                               Transmembrane protein 201\n",
      "5                                                                             Oxysterol-binding protein-related protein 9\n",
      "6                                                                                                  Protein DDI1 homolog 2\n",
      "       Gene.names\n",
      "1           Cul4b\n",
      "2         L3mbtl1\n",
      "3 Arfgef2;Arfgef1\n",
      "4         Tmem201\n",
      "5          Osbpl9\n",
      "6            Ddi2\n",
      "                                                                                                                                                                                                                                                     Fasta.headers\n",
      "1                                                                                                     sp|A2A432|CUL4B_MOUSE Cullin-4B OS=Mus musculus OX=10090 GN=Cul4b PE=1 SV=1;sp|A2A432-2|CUL4B_MOUSE Isoform 2 of Cullin-4B OS=Mus musculus OX=10090 GN=Cul4b\n",
      "2                                                                                                                                                sp|A2A5N8|LMBL1_MOUSE Lethal(3)malignant brain tumor-like protein 1 OS=Mus musculus OX=10090 GN=L3mbtl1 PE=2 SV=1\n",
      "3    sp|A2A5R2|BIG2_MOUSE Brefeldin A-inhibited guanine nucleotide-exchange protein 2 OS=Mus musculus OX=10090 GN=Arfgef2 PE=1 SV=1;sp|G3X9K3|BIG1_MOUSE Brefeldin A-inhibited guanine nucleotide-exchange protein 1 OS=Mus musculus OX=10090 GN=Arfgef1 PE=1 SV=1\n",
      "4 sp|A2A8U2|TM201_MOUSE Transmembrane protein 201 OS=Mus musculus OX=10090 GN=Tmem201 PE=1 SV=1;sp|A2A8U2-3|TM201_MOUSE Isoform 3 of Transmembrane protein 201 OS=Mus musculus OX=10090 GN=Tmem201;sp|A2A8U2-2|TM201_MOUSE Isoform 2 of Transmembrane protein 201 \n",
      "5                               sp|A2A8Z1-2|OSBL9_MOUSE Isoform 2 of Oxysterol-binding protein-related protein 9 OS=Mus musculus OX=10090 GN=Osbpl9;sp|A2A8Z1|OSBL9_MOUSE Oxysterol-binding protein-related protein 9 OS=Mus musculus OX=10090 GN=Osbpl9 PE=1 SV=1\n",
      "6                                                                                                                                                                           sp|A2ADY9|DDI2_MOUSE Protein DDI1 homolog 2 OS=Mus musculus OX=10090 GN=Ddi2 PE=1 SV=1\n",
      "  Number.of.proteins Peptides Razor...unique.peptides Unique.peptides\n",
      "1                  2       13                      13               9\n",
      "2                  1        1                       1               1\n",
      "3                  2        5                       5               5\n",
      "4                  3        4                       4               4\n",
      "5                  2        5                       5               5\n",
      "6                  1        4                       4               4\n",
      "  Sequence.coverage.... Unique...razor.sequence.coverage....\n",
      "1                  14.5                                 14.5\n",
      "2                   2.1                                  2.1\n",
      "3                   3.7                                  3.7\n",
      "4                   8.1                                  8.1\n",
      "5                   9.7                                  9.7\n",
      "6                  14.0                                 14.0\n",
      "  Unique.sequence.coverage.... Mol..weight..kDa. Sequence.length\n",
      "1                         10.3           110.700             970\n",
      "2                          2.1            91.780             826\n",
      "3                          3.7           202.240            1792\n",
      "4                          8.1            72.499             664\n",
      "5                          9.7            71.527             639\n",
      "6                         14.0            44.590             399\n",
      "  Sequence.lengths Fraction.average Fraction.1 Fraction.2 Fraction.3 Fraction.4\n",
      "1          970;941             4.19          4          2          2         NA\n",
      "2              826             3.00         NA         NA          1         NA\n",
      "3        1792;1846             6.00         NA         NA         NA          2\n",
      "4      664;634;392             3.00          1          1          1         NA\n",
      "5          639;736             5.83          1         NA         NA          1\n",
      "6              399             4.25         NA         NA          2         NA\n",
      "  Fraction.5 Fraction.6 Fraction.7 Fraction.8 Q.value   Score\n",
      "1          1          3          2          2       0 68.5210\n",
      "2         NA         NA         NA         NA       1 -2.0000\n",
      "3          1         NA          1          2       0  8.8494\n",
      "4         NA          1         NA         NA       0 10.8890\n",
      "5         NA         NA          2          2       0 16.0020\n",
      "6          1          1         NA         NA       0  5.6186\n",
      "  Reporter.intensity.corrected.1 Reporter.intensity.corrected.2\n",
      "1                        49004.0                       24298000\n",
      "2                         1750.4                        1023300\n",
      "3                        10328.0                        7592300\n",
      "4                        30222.0                        2992500\n",
      "5                        50390.0                       13072000\n",
      "6                        11455.0                        5538700\n",
      "  Reporter.intensity.corrected.3 Reporter.intensity.corrected.4\n",
      "1                       38067000                       35929000\n",
      "2                         461560                         757320\n",
      "3                        7454000                        8919000\n",
      "4                        5018300                        4416700\n",
      "5                       19275000                       19864000\n",
      "6                        7150000                        8452200\n",
      "  Reporter.intensity.corrected.5 Reporter.intensity.corrected.6\n",
      "1                       27685000                         400760\n",
      "2                        1064400                              0\n",
      "3                        7761900                         121310\n",
      "4                        3447500                          22632\n",
      "5                       12992000                         126820\n",
      "6                        5566900                          31509\n",
      "  Reporter.intensity.corrected.7 Reporter.intensity.corrected.8\n",
      "1                       37362000                       37228000\n",
      "2                         659440                         611210\n",
      "3                        8100700                        8544700\n",
      "4                        4273500                        5254400\n",
      "5                       17933000                       14947000\n",
      "6                        5752900                        6785500\n",
      "  Reporter.intensity.corrected.9 Reporter.intensity.corrected.10\n",
      "1                       47715000                        54464000\n",
      "2                         502460                          569740\n",
      "3                       11424000                        12256000\n",
      "4                        5422100                         7107300\n",
      "5                       26253000                        28951000\n",
      "6                        8119900                         9398700\n",
      "  Reporter.intensity.1 Reporter.intensity.2 Reporter.intensity.3\n",
      "1             209360.0             22818000             36192000\n",
      "2               4243.3               954670               449780\n",
      "3              25478.0              7110800              7122000\n",
      "4              43771.0              2810200              4769800\n",
      "5             151880.0             12281000             18312000\n",
      "6              32452.0              5203600              6803700\n",
      "  Reporter.intensity.4 Reporter.intensity.5 Reporter.intensity.6\n",
      "1             35050000             28789000              3445400\n",
      "2               775710              1033200                39638\n",
      "3              8815400              7837900               854350\n",
      "4              4308300              3590900               399530\n",
      "5             19352000             13596000              1750300\n",
      "6              8230700              5718400               661790\n",
      "  Reporter.intensity.7 Reporter.intensity.8 Reporter.intensity.9\n",
      "1             38068000             37009000             45962000\n",
      "2               691700               594750               493730\n",
      "3              8381600              8488500             10973000\n",
      "4              4368100              5198000              5223900\n",
      "5             18363000             14906000             25192000\n",
      "6              5955500              6726800              7799300\n",
      "  Reporter.intensity.10 Reporter.intensity.count.1 Reporter.intensity.count.2\n",
      "1              51944000                         11                         16\n",
      "2                551280                          1                          1\n",
      "3              11695000                          1                          5\n",
      "4               6792600                          2                          3\n",
      "5              27439000                          5                          8\n",
      "6               8976700                          2                          3\n",
      "  Reporter.intensity.count.3 Reporter.intensity.count.4\n",
      "1                         16                         16\n",
      "2                          1                          1\n",
      "3                          5                          5\n",
      "4                          3                          3\n",
      "5                          8                          8\n",
      "6                          3                          3\n",
      "  Reporter.intensity.count.5 Reporter.intensity.count.6\n",
      "1                         16                          8\n",
      "2                          1                          0\n",
      "3                          5                          4\n",
      "4                          3                          1\n",
      "5                          8                          5\n",
      "6                          3                          1\n",
      "  Reporter.intensity.count.7 Reporter.intensity.count.8\n",
      "1                         16                         16\n",
      "2                          1                          1\n",
      "3                          5                          5\n",
      "4                          3                          3\n",
      "5                          8                          7\n",
      "6                          3                          3\n",
      "  Reporter.intensity.count.9 Reporter.intensity.count.10  Intensity MS.MS.count\n",
      "1                         16                          16 2556900000          16\n",
      "2                          1                           1  135760000           1\n",
      "3                          5                           5  693780000           6\n",
      "4                          3                           3  399000000           4\n",
      "5                          8                           8  921950000           8\n",
      "6                          3                           3  502150000           4\n",
      "  Only.identified.by.site Reverse Potential.contaminant id\n",
      "1                                                        0\n",
      "2                       +                                1\n",
      "3                                                        2\n",
      "4                                                        3\n",
      "5                                                        4\n",
      "6                                                        5\n",
      "                                                               Peptide.IDs\n",
      "1 870;4868;7017;7168;10962;12850;15408;16518;20035;20454;22074;23850;23920\n",
      "2                                                                    15561\n",
      "3                                             9659;13242;15496;25256;27626\n",
      "4                                                     1727;4477;5492;22241\n",
      "5                                              1719;4963;12971;26856;27384\n",
      "6                                                   6783;11564;14834;21954\n",
      "                                                  Peptide.is.razor\n",
      "1 True;True;True;True;True;True;True;True;True;True;True;True;True\n",
      "2                                                             True\n",
      "3                                         True;True;True;True;True\n",
      "4                                              True;True;True;True\n",
      "5                                         True;True;True;True;True\n",
      "6                                              True;True;True;True\n",
      "                                                          Mod..peptide.IDs\n",
      "1 895;5009;7207;7367;11263;13228;15852;17002;20733;21165;22838;24675;24747\n",
      "2                                                                    16009\n",
      "3                                             9925;13627;15943;26134;28582\n",
      "4                                                     1774;4614;5648;23012\n",
      "5                                              1766;5108;13352;27797;28338\n",
      "6                                                   6968;11891;15262;22715\n",
      "                                                                                  Evidence.IDs\n",
      "1 1905;1906;1907;10789;15401;15751;24111;28330;34007;34008;36550;44121;45035;48760;52501;52644\n",
      "2                                                                                        34321\n",
      "3                                                          21164;29272;29273;34169;55736;61180\n",
      "4                                                                        3878;9991;12114;49095\n",
      "5                                                            3860;3861;10984;28591;59568;60710\n",
      "6                                                                      14961;25442;32531;48519\n",
      "                                                                                      MS.MS.IDs\n",
      "1 1873;1874;10537;15092;15451;23582;27684;33269;33270;35754;43124;44021;47575;51269;51270;51413\n",
      "2                                                                                         33577\n",
      "3                                                           20710;28594;33432;54507;54508;59859\n",
      "4                                                                         3840;9766;11886;47904\n",
      "5                                                 3826;3827;10740;10741;27932;27933;58252;59392\n",
      "6                                                                       14655;24894;31830;47355\n",
      "                                                                    Best.MS.MS\n",
      "1 1873;10537;15092;15451;23582;27684;33269;35754;43124;44021;47575;51269;51413\n",
      "2                                                                        33577\n",
      "3                                                20710;28594;33432;54507;59859\n",
      "4                                                        3840;9766;11886;47904\n",
      "5                                                 3827;10741;27932;58252;59392\n",
      "6                                                      14655;24894;31830;47355\n",
      "  Oxidation..M..site.IDs Oxidation..M..site.positions Taxonomy.IDs\n",
      "1                                                            -1;-1\n",
      "2                      0                          116           -1\n",
      "3                                                            -1;-1\n",
      "4                      1                          591     -1;-1;-1\n",
      "5                                                            -1;-1\n",
      "6                                                               -1\n"
     ]
    }
   ],
   "source": [
    "%%R\n",
    "# Loading a package required for data handling\n",
    "library(\"dplyr\")\n",
    "library(stringr)\n",
    "\n",
    "# The data is provided with the package\n",
    "file_type <- str_extract_all(filename,'\\\\b(.txt|.csv)\\\\b') #確認檔案為csv還是txt\n",
    "if (file_type == \".csv\"){\n",
    "  data <- read.csv(file = filename, header=TRUE  ,fileEncoding =\"UTF-8\")  \n",
    "}\n",
    "else {\n",
    "   data <- read.csv(file = filename, header=TRUE ,sep=\"\\t\" ,fileEncoding =\"UTF-8\") \n",
    "}\n",
    "\n",
    "cat(\"file's row * column =\", dim(data), \"\\n\")\n",
    "cat(\"**colnames: \\n\")\n",
    "print(colnames(data))\n",
    "#print(head(data[,'Reporter.intensity.count.1']))\n",
    "#data$Reporter.intensity.count.[1:10] = 2^data$Reporter.intensity.count.[1:10]\n",
    "#data$Reporter.intensity.count[1-10] = 2^data$Reporter.intensity.count[1-10]\n",
    "\n",
    "\n",
    "\n",
    "if ( \"Reverse\" %in% names(data) ){\n",
    "  data <- filter(data, Reverse != \"+\")  \n",
    "}\n",
    "if ( \"Potential.contaminant\" %in% names(data) ){\n",
    "  data <- filter(data, Potential.contaminant != \"+\") \n",
    "}\n",
    "# We filter for contaminant proteins and decoy database hits, which are indicated by \"+\" in the columns \"Potential.contaminants\" and \"Reverse\", respectively. \n",
    "\n",
    "print(head(data))"
   ]
  },
  {
   "cell_type": "code",
   "execution_count": null,
   "metadata": {
    "colab": {
     "base_uri": "https://localhost:8080/"
    },
    "id": "s6j4h2VJDGsi",
    "outputId": "e5174195-eee9-4d4d-ed7e-e12d909d4d4c"
   },
   "outputs": [
    {
     "name": "stdout",
     "output_type": "stream",
     "text": [
      "Are there any duplicated gene names?  TRUE \n",
      "# A tibble: 21 × 2\n",
      "   Gene.names frequency\n",
      "   <chr>          <int>\n",
      " 1 \"\"                42\n",
      " 2 \"Cav1\"             2\n",
      " 3 \"Cnbp\"             2\n",
      " 4 \"Cux1\"             2\n",
      " 5 \"Eef1d\"            2\n",
      " 6 \"H2-K1\"            2\n",
      " 7 \"Hmga1\"            2\n",
      " 8 \"Hnrnpa3\"          2\n",
      " 9 \"Hnrnpk\"           2\n",
      "10 \"Ikbip\"            2\n",
      "# … with 11 more rows\n"
     ]
    }
   ],
   "source": [
    "%%R\n",
    "# Are there any duplicated gene names?\n",
    "cat('Are there any duplicated gene names? ', data$Gene.names %>% duplicated() %>% any(), \"\\n\")\n",
    "\n",
    "if ( data$Gene.names %>% duplicated() %>% any() ){\n",
    "   # Make a table of duplicated gene names\n",
    "  print(data %>% group_by(Gene.names) %>% summarize(frequency = n()) %>% \n",
    "    arrange(desc(frequency)) %>% filter(frequency > 1))\n",
    "  \n",
    "  \n",
    "}\n",
    "# Make unique names using the annotation in the \"Gene.names\" column as primary names and the annotation in \"Protein.IDs\" as name for those that do not have an gene name.\n",
    "data_unique <- make_unique(data, \"Gene.names\", \"Protein.IDs\", delim = \";\")\n"
   ]
  },
  {
   "cell_type": "code",
   "execution_count": null,
   "metadata": {
    "colab": {
     "base_uri": "https://localhost:8080/"
    },
    "id": "Lh3RrH-TCPvo",
    "outputId": "08843659-7ffd-47b5-acd9-46bec7b53d3c"
   },
   "outputs": [
    {
     "name": "stdout",
     "output_type": "stream",
     "text": [
      "class: SummarizedExperiment \n",
      "dim: 3818 8 \n",
      "metadata(0):\n",
      "assays(1): ''\n",
      "rownames(3818): Cul4b L3mbtl1 ... Sart1 Itpr2\n",
      "rowData names(66): Protein.IDs Majority.protein.IDs ... name ID\n",
      "colnames(8): DMSO_1 DMSO_2 ... LA_3 LA_4\n",
      "colData names(4): label ID condition replicate\n"
     ]
    }
   ],
   "source": [
    "%%R\n",
    "# Generate a SummarizedExperiment object using an experimental design\n",
    "LFQ_columns <- grep(\"Reporter.intensity.corrected.\", colnames(data_unique)) # get LFQ column numbers\n",
    "\n",
    "#experimental_design <- UbiLength_ExpDesign\n",
    "experimental_design <- read.csv('/content/drive/MyDrive/Colab_Notebooks/exp_design_LA.csv',header=TRUE ,fileEncoding =\"UTF-8\")\n",
    "experimental_design$label = gsub(\" \", \".\", experimental_design$label)\n",
    "\n",
    "data_se <- make_se(data_unique, LFQ_columns, experimental_design)\n",
    "# Generate a SummarizedExperiment object by parsing condition information from the column names\n",
    "LFQ_columns <- grep(\"Reporter.intensity.corrected.\", colnames(data_unique)) # get LFQ column numbers\n",
    "data_se_parsed <- make_se_parse(data_unique, LFQ_columns)\n",
    "\n",
    "# Let's have a look at the SummarizedExperiment object\n",
    "data_se"
   ]
  },
  {
   "cell_type": "code",
   "execution_count": null,
   "metadata": {
    "colab": {
     "base_uri": "https://localhost:8080/"
    },
    "id": "aekHS3OAZFts",
    "outputId": "13e4a705-80b8-45eb-cd08-298436c13b28"
   },
   "outputs": [
    {
     "name": "stdout",
     "output_type": "stream",
     "text": [
      "  samples proteins\n",
      "1       0       69\n",
      "2       6        1\n",
      "3       7        9\n",
      "4       8     3739\n"
     ]
    }
   ],
   "source": [
    "%%R\n",
    "plot_frequency(data_se, plot= FALSE)"
   ]
  },
  {
   "cell_type": "code",
   "execution_count": null,
   "metadata": {
    "colab": {
     "base_uri": "https://localhost:8080/",
     "height": 497
    },
    "id": "-5vdkchoRH90",
    "outputId": "aba89031-6ce5-42f9-9696-e71ef852c2ef"
   },
   "outputs": [
    {
     "data": {
      "image/png": "[encoded data removed]"
     },
     "metadata": {},
     "output_type": "display_data"
    }
   ],
   "source": [
    "%%R\n",
    "# Plot a barplot of the protein identification overlap between samples\n",
    "pic10_1 <- plot_frequency(data_se, plot= TRUE)\n",
    "print(pic10_1)"
   ]
  },
  {
   "cell_type": "code",
   "execution_count": null,
   "metadata": {
    "colab": {
     "base_uri": "https://localhost:8080/",
     "height": 497
    },
    "id": "OI1EtIwpRVzu",
    "outputId": "a79daf85-630e-4591-af8f-3ccd7ca38136"
   },
   "outputs": [
    {
     "data": {
      "image/png": "[encoded data removed]"
     },
     "metadata": {},
     "output_type": "display_data"
    }
   ],
   "source": [
    "%%R\n",
    "# Filter for proteins that are identified in all replicates of at least one condition\n",
    "data_filt <- filter_missval(data_se, thr = 4) #讓使用者選0~4(重複)\n",
    "\n",
    "# Less stringent filtering:\n",
    "# Filter for proteins that are identified in 2 out of 3 replicates of at least one condition\n",
    "data_filt2 <- filter_missval(data_se, thr = 1)\n",
    "\n",
    "# Plot a barplot of the number of identified proteins per samples\n",
    "pic10_2 <- plot_numbers(data_filt, plot=TRUE)\n",
    "print(pic10_2)"
   ]
  },
  {
   "cell_type": "code",
   "execution_count": null,
   "metadata": {
    "colab": {
     "base_uri": "https://localhost:8080/",
     "height": 497
    },
    "id": "lKcGDgqhjFjw",
    "outputId": "8c474d21-2e0b-438f-8dcb-7537f5ebb2e4"
   },
   "outputs": [
    {
     "data": {
      "image/png": "[encoded data removed]"
     },
     "metadata": {},
     "output_type": "display_data"
    }
   ],
   "source": [
    "%%R\n",
    "# Plot a barplot of the protein identification overlap between samples\n",
    "pic10_3 <- plot_coverage(data_filt)\n",
    "print(pic10_3)"
   ]
  }
 ],
 "metadata": {
  "colab": {
   "collapsed_sections": [
    "NJ8JsiLxdod0",
    "OYVHWo7EgRlk",
    "gT6BKJ7hNOlM",
    "ucxFLdaefIfW",
    "hmmXGALxsbdB",
    "aGUobJP7e7_U",
    "ZxFYLeeQfZd8",
    "5qYCtZqyfea0",
    "FtpwADcDfejz",
    "Dkx3acvtfepU",
    "cuISwCNrfesN",
    "z3E0uLMZeT4m"
   ],
   "include_colab_link": true,
   "name": "DEP.ipynb",
   "provenance": []
  },
  "kernelspec": {
   "display_name": "Python 3",
   "language": "python",
   "name": "python3"
  },
  "language_info": {
   "codemirror_mode": {
    "name": "ipython",
    "version": 3
   },
   "file_extension": ".py",
   "mimetype": "text/x-python",
   "name": "python",
   "nbconvert_exporter": "python",
   "pygments_lexer": "ipython3",
   "version": "3.8.8"
  },
  "widgets": {
   "application/vnd.jupyter.widget-state+json": {
    "066a10ff9e4a41c094895dfb5ee1eda2": {
     "model_module": "@jupyter-widgets/controls",
     "model_module_version": "1.5.0",
     "model_name": "TextModel",
     "state": {
      "_dom_classes": [],
      "_model_module": "@jupyter-widgets/controls",
      "_model_module_version": "1.5.0",
      "_model_name": "TextModel",
      "_view_count": null,
      "_view_module": "@jupyter-widgets/controls",
      "_view_module_version": "1.5.0",
      "_view_name": "TextView",
      "continuous_update": true,
      "description": "replicate",
      "description_tooltip": null,
      "disabled": false,
      "layout": "IPY_MODEL_d9af00867ef04aa08c3ce05fe779b58f",
      "placeholder": "​",
      "style": "IPY_MODEL_cf3771f9b03942c099b29a8853e0f4a8",
      "value": "4"
     }
    },
    "06b7dcc305d0452b8e314717a8b6a634": {
     "model_module": "@jupyter-widgets/controls",
     "model_module_version": "1.5.0",
     "model_name": "TextModel",
     "state": {
      "_dom_classes": [],
      "_model_module": "@jupyter-widgets/controls",
      "_model_module_version": "1.5.0",
      "_model_name": "TextModel",
      "_view_count": null,
      "_view_module": "@jupyter-widgets/controls",
      "_view_module_version": "1.5.0",
      "_view_name": "TextView",
      "continuous_update": true,
      "description": "condition",
      "description_tooltip": null,
      "disabled": false,
      "layout": "IPY_MODEL_5743037256114d27a20f2f6fbed74d91",
      "placeholder": "​",
      "style": "IPY_MODEL_96ed49f393ee47fe97532bc7693a514b",
      "value": ""
     }
    },
    "07b761e4757345a189b7836eeb3ac4fe": {
     "model_module": "@jupyter-widgets/base",
     "model_module_version": "1.2.0",
     "model_name": "LayoutModel",
     "state": {
      "_model_module": "@jupyter-widgets/base",
      "_model_module_version": "1.2.0",
      "_model_name": "LayoutModel",
      "_view_count": null,
      "_view_module": "@jupyter-widgets/base",
      "_view_module_version": "1.2.0",
      "_view_name": "LayoutView",
      "align_content": null,
      "align_items": null,
      "align_self": null,
      "border": null,
      "bottom": null,
      "display": null,
      "flex": null,
      "flex_flow": null,
      "grid_area": null,
      "grid_auto_columns": null,
      "grid_auto_flow": null,
      "grid_auto_rows": null,
      "grid_column": null,
      "grid_gap": null,
      "grid_row": null,
      "grid_template_areas": null,
      "grid_template_columns": null,
      "grid_template_rows": null,
      "height": "30px",
      "justify_content": null,
      "justify_items": null,
      "left": null,
      "margin": null,
      "max_height": null,
      "max_width": null,
      "min_height": null,
      "min_width": null,
      "object_fit": null,
      "object_position": null,
      "order": null,
      "overflow": null,
      "overflow_x": null,
      "overflow_y": null,
      "padding": null,
      "right": null,
      "top": null,
      "visibility": null,
      "width": "35%"
     }
    },
    "07c366a5de0f4580ae8e6b6bd17d7f9c": {
     "model_module": "@jupyter-widgets/controls",
     "model_module_version": "1.5.0",
     "model_name": "CheckboxModel",
     "state": {
      "_dom_classes": [],
      "_model_module": "@jupyter-widgets/controls",
      "_model_module_version": "1.5.0",
      "_model_name": "CheckboxModel",
      "_view_count": null,
      "_view_module": "@jupyter-widgets/controls",
      "_view_module_version": "1.5.0",
      "_view_name": "CheckboxView",
      "description": "Reporter.intensity.corrected.3",
      "description_tooltip": null,
      "disabled": false,
      "indent": false,
      "layout": "IPY_MODEL_0fdfd37970194704b20065bff6d084fa",
      "style": "IPY_MODEL_20c7cb293b8e41189aca94d1e8f55184",
      "value": true
     }
    },
    "0c95c2a1c85f465a9cca699c760900a5": {
     "model_module": "@jupyter-widgets/controls",
     "model_module_version": "1.5.0",
     "model_name": "TextModel",
     "state": {
      "_dom_classes": [],
      "_model_module": "@jupyter-widgets/controls",
      "_model_module_version": "1.5.0",
      "_model_name": "TextModel",
      "_view_count": null,
      "_view_module": "@jupyter-widgets/controls",
      "_view_module_version": "1.5.0",
      "_view_name": "TextView",
      "continuous_update": true,
      "description": "replicate",
      "description_tooltip": null,
      "disabled": false,
      "layout": "IPY_MODEL_af6315ad49f248d8ba7ee541f2d3bf76",
      "placeholder": "​",
      "style": "IPY_MODEL_2f638026bcad45dd8a4e45bdcbf11a0e",
      "value": "1"
     }
    },
    "0d01c87d236d495287e6bbee281595f9": {
     "model_module": "@jupyter-widgets/controls",
     "model_module_version": "1.5.0",
     "model_name": "TextModel",
     "state": {
      "_dom_classes": [],
      "_model_module": "@jupyter-widgets/controls",
      "_model_module_version": "1.5.0",
      "_model_name": "TextModel",
      "_view_count": null,
      "_view_module": "@jupyter-widgets/controls",
      "_view_module_version": "1.5.0",
      "_view_name": "TextView",
      "continuous_update": true,
      "description": "condition",
      "description_tooltip": null,
      "disabled": false,
      "layout": "IPY_MODEL_eaaccc4340174220af3c24557b917cb7",
      "placeholder": "​",
      "style": "IPY_MODEL_4f779e892985486b8578a638d8eaefa0",
      "value": "DMSO"
     }
    },
    "0d54ec0882f145098c9724d85e2d8c9e": {
     "model_module": "@jupyter-widgets/controls",
     "model_module_version": "1.5.0",
     "model_name": "DescriptionStyleModel",
     "state": {
      "_model_module": "@jupyter-widgets/controls",
      "_model_module_version": "1.5.0",
      "_model_name": "DescriptionStyleModel",
      "_view_count": null,
      "_view_module": "@jupyter-widgets/base",
      "_view_module_version": "1.2.0",
      "_view_name": "StyleView",
      "description_width": ""
     }
    },
    "0fdfd37970194704b20065bff6d084fa": {
     "model_module": "@jupyter-widgets/base",
     "model_module_version": "1.2.0",
     "model_name": "LayoutModel",
     "state": {
      "_model_module": "@jupyter-widgets/base",
      "_model_module_version": "1.2.0",
      "_model_name": "LayoutModel",
      "_view_count": null,
      "_view_module": "@jupyter-widgets/base",
      "_view_module_version": "1.2.0",
      "_view_name": "LayoutView",
      "align_content": null,
      "align_items": null,
      "align_self": null,
      "border": null,
      "bottom": null,
      "display": null,
      "flex": null,
      "flex_flow": null,
      "grid_area": null,
      "grid_auto_columns": null,
      "grid_auto_flow": null,
      "grid_auto_rows": null,
      "grid_column": null,
      "grid_gap": null,
      "grid_row": null,
      "grid_template_areas": null,
      "grid_template_columns": null,
      "grid_template_rows": null,
      "height": null,
      "justify_content": null,
      "justify_items": null,
      "left": null,
      "margin": null,
      "max_height": null,
      "max_width": null,
      "min_height": null,
      "min_width": null,
      "object_fit": null,
      "object_position": null,
      "order": null,
      "overflow": null,
      "overflow_x": null,
      "overflow_y": null,
      "padding": null,
      "right": null,
      "top": null,
      "visibility": null,
      "width": null
     }
    },
    "105f9235d1094f24b83405c9a22afc87": {
     "model_module": "@jupyter-widgets/controls",
     "model_module_version": "1.5.0",
     "model_name": "CheckboxModel",
     "state": {
      "_dom_classes": [],
      "_model_module": "@jupyter-widgets/controls",
      "_model_module_version": "1.5.0",
      "_model_name": "CheckboxModel",
      "_view_count": null,
      "_view_module": "@jupyter-widgets/controls",
      "_view_module_version": "1.5.0",
      "_view_name": "CheckboxView",
      "description": "Reporter.intensity.corrected.2",
      "description_tooltip": null,
      "disabled": false,
      "indent": false,
      "layout": "IPY_MODEL_6aa5d0c939f24700b9ac8e6800089d7a",
      "style": "IPY_MODEL_c0f2376565b44b3087a86f0691a572b1",
      "value": true
     }
    },
    "116b0c778cbf40a8a3b2a3fa2c06167b": {
     "model_module": "@jupyter-widgets/controls",
     "model_module_version": "1.5.0",
     "model_name": "CheckboxModel",
     "state": {
      "_dom_classes": [],
      "_model_module": "@jupyter-widgets/controls",
      "_model_module_version": "1.5.0",
      "_model_name": "CheckboxModel",
      "_view_count": null,
      "_view_module": "@jupyter-widgets/controls",
      "_view_module_version": "1.5.0",
      "_view_name": "CheckboxView",
      "description": "Reporter.intensity.corrected.1",
      "description_tooltip": null,
      "disabled": false,
      "indent": false,
      "layout": "IPY_MODEL_94463ce9082b400185dca27a8e0c6278",
      "style": "IPY_MODEL_9fae51e797894bd1aa87216c90d5eed3",
      "value": false
     }
    },
    "12e2be33543d49f69b67b80f3f506c16": {
     "model_module": "@jupyter-widgets/controls",
     "model_module_version": "1.5.0",
     "model_name": "DescriptionStyleModel",
     "state": {
      "_model_module": "@jupyter-widgets/controls",
      "_model_module_version": "1.5.0",
      "_model_name": "DescriptionStyleModel",
      "_view_count": null,
      "_view_module": "@jupyter-widgets/base",
      "_view_module_version": "1.2.0",
      "_view_name": "StyleView",
      "description_width": ""
     }
    },
    "1830d08a495c461abdae7fcd6249914d": {
     "model_module": "@jupyter-widgets/controls",
     "model_module_version": "1.5.0",
     "model_name": "CheckboxModel",
     "state": {
      "_dom_classes": [],
      "_model_module": "@jupyter-widgets/controls",
      "_model_module_version": "1.5.0",
      "_model_name": "CheckboxModel",
      "_view_count": null,
      "_view_module": "@jupyter-widgets/controls",
      "_view_module_version": "1.5.0",
      "_view_name": "CheckboxView",
      "description": "Reporter.intensity.corrected.5",
      "description_tooltip": null,
      "disabled": false,
      "indent": false,
      "layout": "IPY_MODEL_c3ef860191f94118b99e3139b3541c6b",
      "style": "IPY_MODEL_bb3a395792784cd4b176faa257f6ed8c",
      "value": true
     }
    },
    "191dda40bbaf470e950e463d0cdd1439": {
     "model_module": "@jupyter-widgets/base",
     "model_module_version": "1.2.0",
     "model_name": "LayoutModel",
     "state": {
      "_model_module": "@jupyter-widgets/base",
      "_model_module_version": "1.2.0",
      "_model_name": "LayoutModel",
      "_view_count": null,
      "_view_module": "@jupyter-widgets/base",
      "_view_module_version": "1.2.0",
      "_view_name": "LayoutView",
      "align_content": null,
      "align_items": null,
      "align_self": null,
      "border": null,
      "bottom": null,
      "display": null,
      "flex": null,
      "flex_flow": null,
      "grid_area": null,
      "grid_auto_columns": null,
      "grid_auto_flow": null,
      "grid_auto_rows": null,
      "grid_column": null,
      "grid_gap": null,
      "grid_row": null,
      "grid_template_areas": null,
      "grid_template_columns": null,
      "grid_template_rows": null,
      "height": null,
      "justify_content": null,
      "justify_items": null,
      "left": null,
      "margin": null,
      "max_height": null,
      "max_width": null,
      "min_height": null,
      "min_width": null,
      "object_fit": null,
      "object_position": null,
      "order": null,
      "overflow": null,
      "overflow_x": null,
      "overflow_y": null,
      "padding": null,
      "right": null,
      "top": null,
      "visibility": null,
      "width": null
     }
    },
    "1d9755dc8de642d09081d181bb954cc6": {
     "model_module": "@jupyter-widgets/controls",
     "model_module_version": "1.5.0",
     "model_name": "DescriptionStyleModel",
     "state": {
      "_model_module": "@jupyter-widgets/controls",
      "_model_module_version": "1.5.0",
      "_model_name": "DescriptionStyleModel",
      "_view_count": null,
      "_view_module": "@jupyter-widgets/base",
      "_view_module_version": "1.2.0",
      "_view_name": "StyleView",
      "description_width": ""
     }
    },
    "1f8cf694f25946b28e9e0e2f17d1a264": {
     "model_module": "@jupyter-widgets/controls",
     "model_module_version": "1.5.0",
     "model_name": "ButtonStyleModel",
     "state": {
      "_model_module": "@jupyter-widgets/controls",
      "_model_module_version": "1.5.0",
      "_model_name": "ButtonStyleModel",
      "_view_count": null,
      "_view_module": "@jupyter-widgets/base",
      "_view_module_version": "1.2.0",
      "_view_name": "StyleView",
      "button_color": null,
      "font_weight": ""
     }
    },
    "1fd38f28c4d2428e962abb2b53273a87": {
     "model_module": "@jupyter-widgets/controls",
     "model_module_version": "1.5.0",
     "model_name": "DescriptionStyleModel",
     "state": {
      "_model_module": "@jupyter-widgets/controls",
      "_model_module_version": "1.5.0",
      "_model_name": "DescriptionStyleModel",
      "_view_count": null,
      "_view_module": "@jupyter-widgets/base",
      "_view_module_version": "1.2.0",
      "_view_name": "StyleView",
      "description_width": ""
     }
    },
    "20c7cb293b8e41189aca94d1e8f55184": {
     "model_module": "@jupyter-widgets/controls",
     "model_module_version": "1.5.0",
     "model_name": "DescriptionStyleModel",
     "state": {
      "_model_module": "@jupyter-widgets/controls",
      "_model_module_version": "1.5.0",
      "_model_name": "DescriptionStyleModel",
      "_view_count": null,
      "_view_module": "@jupyter-widgets/base",
      "_view_module_version": "1.2.0",
      "_view_name": "StyleView",
      "description_width": ""
     }
    },
    "22bc6a39ec2e457880c01e435f507315": {
     "model_module": "@jupyter-widgets/base",
     "model_module_version": "1.2.0",
     "model_name": "LayoutModel",
     "state": {
      "_model_module": "@jupyter-widgets/base",
      "_model_module_version": "1.2.0",
      "_model_name": "LayoutModel",
      "_view_count": null,
      "_view_module": "@jupyter-widgets/base",
      "_view_module_version": "1.2.0",
      "_view_name": "LayoutView",
      "align_content": null,
      "align_items": null,
      "align_self": null,
      "border": null,
      "bottom": null,
      "display": null,
      "flex": null,
      "flex_flow": null,
      "grid_area": null,
      "grid_auto_columns": null,
      "grid_auto_flow": null,
      "grid_auto_rows": null,
      "grid_column": null,
      "grid_gap": null,
      "grid_row": null,
      "grid_template_areas": null,
      "grid_template_columns": null,
      "grid_template_rows": null,
      "height": null,
      "justify_content": null,
      "justify_items": null,
      "left": null,
      "margin": null,
      "max_height": null,
      "max_width": null,
      "min_height": null,
      "min_width": null,
      "object_fit": null,
      "object_position": null,
      "order": null,
      "overflow": null,
      "overflow_x": null,
      "overflow_y": null,
      "padding": null,
      "right": null,
      "top": null,
      "visibility": null,
      "width": null
     }
    },
    "28b17fd136d34bbca13bf6a504a13799": {
     "model_module": "@jupyter-widgets/controls",
     "model_module_version": "1.5.0",
     "model_name": "DescriptionStyleModel",
     "state": {
      "_model_module": "@jupyter-widgets/controls",
      "_model_module_version": "1.5.0",
      "_model_name": "DescriptionStyleModel",
      "_view_count": null,
      "_view_module": "@jupyter-widgets/base",
      "_view_module_version": "1.2.0",
      "_view_name": "StyleView",
      "description_width": ""
     }
    },
    "2bee56612bfb45238ebfc97363038a99": {
     "model_module": "@jupyter-widgets/controls",
     "model_module_version": "1.5.0",
     "model_name": "CheckboxModel",
     "state": {
      "_dom_classes": [],
      "_model_module": "@jupyter-widgets/controls",
      "_model_module_version": "1.5.0",
      "_model_name": "CheckboxModel",
      "_view_count": null,
      "_view_module": "@jupyter-widgets/controls",
      "_view_module_version": "1.5.0",
      "_view_name": "CheckboxView",
      "description": "Reporter.intensity.corrected.8",
      "description_tooltip": null,
      "disabled": false,
      "indent": false,
      "layout": "IPY_MODEL_a94436ff02724cf2a5261c41eaee2df8",
      "style": "IPY_MODEL_3edce6f0ff4f46a39f6633ece60b457b",
      "value": true
     }
    },
    "2d427c73519148d68ec67dc5b1a28134": {
     "model_module": "@jupyter-widgets/controls",
     "model_module_version": "1.5.0",
     "model_name": "TextModel",
     "state": {
      "_dom_classes": [],
      "_model_module": "@jupyter-widgets/controls",
      "_model_module_version": "1.5.0",
      "_model_name": "TextModel",
      "_view_count": null,
      "_view_module": "@jupyter-widgets/controls",
      "_view_module_version": "1.5.0",
      "_view_name": "TextView",
      "continuous_update": true,
      "description": "replicate",
      "description_tooltip": null,
      "disabled": false,
      "layout": "IPY_MODEL_f82ca8e7dec44e93b491487c1d643510",
      "placeholder": "​",
      "style": "IPY_MODEL_1fd38f28c4d2428e962abb2b53273a87",
      "value": "1"
     }
    },
    "2dc783216dbb4be49b3c93b05f689283": {
     "model_module": "@jupyter-widgets/controls",
     "model_module_version": "1.5.0",
     "model_name": "TextModel",
     "state": {
      "_dom_classes": [],
      "_model_module": "@jupyter-widgets/controls",
      "_model_module_version": "1.5.0",
      "_model_name": "TextModel",
      "_view_count": null,
      "_view_module": "@jupyter-widgets/controls",
      "_view_module_version": "1.5.0",
      "_view_name": "TextView",
      "continuous_update": true,
      "description": "condition",
      "description_tooltip": null,
      "disabled": false,
      "layout": "IPY_MODEL_46f7e67fd9b64be1b5f05d1dc9e838f8",
      "placeholder": "​",
      "style": "IPY_MODEL_b961ba1fb6414dcf9ff48d40a34e4acd",
      "value": "DMSO"
     }
    },
    "2f638026bcad45dd8a4e45bdcbf11a0e": {
     "model_module": "@jupyter-widgets/controls",
     "model_module_version": "1.5.0",
     "model_name": "DescriptionStyleModel",
     "state": {
      "_model_module": "@jupyter-widgets/controls",
      "_model_module_version": "1.5.0",
      "_model_name": "DescriptionStyleModel",
      "_view_count": null,
      "_view_module": "@jupyter-widgets/base",
      "_view_module_version": "1.2.0",
      "_view_name": "StyleView",
      "description_width": ""
     }
    },
    "32c70c070dac4b13a008af26b06e01fa": {
     "model_module": "@jupyter-widgets/base",
     "model_module_version": "1.2.0",
     "model_name": "LayoutModel",
     "state": {
      "_model_module": "@jupyter-widgets/base",
      "_model_module_version": "1.2.0",
      "_model_name": "LayoutModel",
      "_view_count": null,
      "_view_module": "@jupyter-widgets/base",
      "_view_module_version": "1.2.0",
      "_view_name": "LayoutView",
      "align_content": null,
      "align_items": null,
      "align_self": null,
      "border": null,
      "bottom": null,
      "display": null,
      "flex": null,
      "flex_flow": null,
      "grid_area": null,
      "grid_auto_columns": null,
      "grid_auto_flow": null,
      "grid_auto_rows": null,
      "grid_column": null,
      "grid_gap": null,
      "grid_row": null,
      "grid_template_areas": null,
      "grid_template_columns": null,
      "grid_template_rows": null,
      "height": "30px",
      "justify_content": null,
      "justify_items": null,
      "left": null,
      "margin": null,
      "max_height": null,
      "max_width": null,
      "min_height": null,
      "min_width": null,
      "object_fit": null,
      "object_position": null,
      "order": null,
      "overflow": null,
      "overflow_x": null,
      "overflow_y": null,
      "padding": null,
      "right": null,
      "top": null,
      "visibility": null,
      "width": "35%"
     }
    },
    "35a4c65eeb0e4828abcb4d4f4a40b5a6": {
     "model_module": "@jupyter-widgets/controls",
     "model_module_version": "1.5.0",
     "model_name": "TextModel",
     "state": {
      "_dom_classes": [],
      "_model_module": "@jupyter-widgets/controls",
      "_model_module_version": "1.5.0",
      "_model_name": "TextModel",
      "_view_count": null,
      "_view_module": "@jupyter-widgets/controls",
      "_view_module_version": "1.5.0",
      "_view_name": "TextView",
      "continuous_update": true,
      "description": "replicate",
      "description_tooltip": null,
      "disabled": false,
      "layout": "IPY_MODEL_d251f42f39264fa5bbf247d1247e8be6",
      "placeholder": "​",
      "style": "IPY_MODEL_0d54ec0882f145098c9724d85e2d8c9e",
      "value": ""
     }
    },
    "3edce6f0ff4f46a39f6633ece60b457b": {
     "model_module": "@jupyter-widgets/controls",
     "model_module_version": "1.5.0",
     "model_name": "DescriptionStyleModel",
     "state": {
      "_model_module": "@jupyter-widgets/controls",
      "_model_module_version": "1.5.0",
      "_model_name": "DescriptionStyleModel",
      "_view_count": null,
      "_view_module": "@jupyter-widgets/base",
      "_view_module_version": "1.2.0",
      "_view_name": "StyleView",
      "description_width": ""
     }
    },
    "3f6ca2b5daff45fb99731b6e20e0a610": {
     "model_module": "@jupyter-widgets/base",
     "model_module_version": "1.2.0",
     "model_name": "LayoutModel",
     "state": {
      "_model_module": "@jupyter-widgets/base",
      "_model_module_version": "1.2.0",
      "_model_name": "LayoutModel",
      "_view_count": null,
      "_view_module": "@jupyter-widgets/base",
      "_view_module_version": "1.2.0",
      "_view_name": "LayoutView",
      "align_content": null,
      "align_items": null,
      "align_self": null,
      "border": null,
      "bottom": null,
      "display": null,
      "flex": null,
      "flex_flow": null,
      "grid_area": null,
      "grid_auto_columns": null,
      "grid_auto_flow": null,
      "grid_auto_rows": null,
      "grid_column": null,
      "grid_gap": null,
      "grid_row": null,
      "grid_template_areas": null,
      "grid_template_columns": null,
      "grid_template_rows": null,
      "height": "30px",
      "justify_content": null,
      "justify_items": null,
      "left": null,
      "margin": null,
      "max_height": null,
      "max_width": null,
      "min_height": null,
      "min_width": null,
      "object_fit": null,
      "object_position": null,
      "order": null,
      "overflow": null,
      "overflow_x": null,
      "overflow_y": null,
      "padding": null,
      "right": null,
      "top": null,
      "visibility": null,
      "width": "35%"
     }
    },
    "42756f15c8b94219aa2a23522b5d5d90": {
     "model_module": "@jupyter-widgets/base",
     "model_module_version": "1.2.0",
     "model_name": "LayoutModel",
     "state": {
      "_model_module": "@jupyter-widgets/base",
      "_model_module_version": "1.2.0",
      "_model_name": "LayoutModel",
      "_view_count": null,
      "_view_module": "@jupyter-widgets/base",
      "_view_module_version": "1.2.0",
      "_view_name": "LayoutView",
      "align_content": null,
      "align_items": null,
      "align_self": null,
      "border": null,
      "bottom": null,
      "display": null,
      "flex": null,
      "flex_flow": null,
      "grid_area": null,
      "grid_auto_columns": null,
      "grid_auto_flow": null,
      "grid_auto_rows": null,
      "grid_column": null,
      "grid_gap": null,
      "grid_row": null,
      "grid_template_areas": null,
      "grid_template_columns": null,
      "grid_template_rows": null,
      "height": "30px",
      "justify_content": null,
      "justify_items": null,
      "left": null,
      "margin": null,
      "max_height": null,
      "max_width": null,
      "min_height": null,
      "min_width": null,
      "object_fit": null,
      "object_position": null,
      "order": null,
      "overflow": null,
      "overflow_x": null,
      "overflow_y": null,
      "padding": null,
      "right": null,
      "top": null,
      "visibility": null,
      "width": "35%"
     }
    },
    "46f7e67fd9b64be1b5f05d1dc9e838f8": {
     "model_module": "@jupyter-widgets/base",
     "model_module_version": "1.2.0",
     "model_name": "LayoutModel",
     "state": {
      "_model_module": "@jupyter-widgets/base",
      "_model_module_version": "1.2.0",
      "_model_name": "LayoutModel",
      "_view_count": null,
      "_view_module": "@jupyter-widgets/base",
      "_view_module_version": "1.2.0",
      "_view_name": "LayoutView",
      "align_content": null,
      "align_items": null,
      "align_self": null,
      "border": null,
      "bottom": null,
      "display": null,
      "flex": null,
      "flex_flow": null,
      "grid_area": null,
      "grid_auto_columns": null,
      "grid_auto_flow": null,
      "grid_auto_rows": null,
      "grid_column": null,
      "grid_gap": null,
      "grid_row": null,
      "grid_template_areas": null,
      "grid_template_columns": null,
      "grid_template_rows": null,
      "height": "30px",
      "justify_content": null,
      "justify_items": null,
      "left": null,
      "margin": null,
      "max_height": null,
      "max_width": null,
      "min_height": null,
      "min_width": null,
      "object_fit": null,
      "object_position": null,
      "order": null,
      "overflow": null,
      "overflow_x": null,
      "overflow_y": null,
      "padding": null,
      "right": null,
      "top": null,
      "visibility": null,
      "width": "35%"
     }
    },
    "475b91d3babe45b0a452b178aaef8a54": {
     "model_module": "@jupyter-widgets/controls",
     "model_module_version": "1.5.0",
     "model_name": "DescriptionStyleModel",
     "state": {
      "_model_module": "@jupyter-widgets/controls",
      "_model_module_version": "1.5.0",
      "_model_name": "DescriptionStyleModel",
      "_view_count": null,
      "_view_module": "@jupyter-widgets/base",
      "_view_module_version": "1.2.0",
      "_view_name": "StyleView",
      "description_width": ""
     }
    },
    "4d93b2506dda4035947741a7a29ce585": {
     "model_module": "@jupyter-widgets/controls",
     "model_module_version": "1.5.0",
     "model_name": "CheckboxModel",
     "state": {
      "_dom_classes": [],
      "_model_module": "@jupyter-widgets/controls",
      "_model_module_version": "1.5.0",
      "_model_name": "CheckboxModel",
      "_view_count": null,
      "_view_module": "@jupyter-widgets/controls",
      "_view_module_version": "1.5.0",
      "_view_name": "CheckboxView",
      "description": "Reporter.intensity.corrected.9",
      "description_tooltip": null,
      "disabled": false,
      "indent": false,
      "layout": "IPY_MODEL_22bc6a39ec2e457880c01e435f507315",
      "style": "IPY_MODEL_f766125731984384bfcdd7fe57ad2866",
      "value": true
     }
    },
    "4f0e00fbb2cd48afa3ba8e73cdec94a5": {
     "model_module": "@jupyter-widgets/controls",
     "model_module_version": "1.5.0",
     "model_name": "TextModel",
     "state": {
      "_dom_classes": [],
      "_model_module": "@jupyter-widgets/controls",
      "_model_module_version": "1.5.0",
      "_model_name": "TextModel",
      "_view_count": null,
      "_view_module": "@jupyter-widgets/controls",
      "_view_module_version": "1.5.0",
      "_view_name": "TextView",
      "continuous_update": true,
      "description": "replicate",
      "description_tooltip": null,
      "disabled": false,
      "layout": "IPY_MODEL_84a6efb6f49b4b51a957f2beea616318",
      "placeholder": "​",
      "style": "IPY_MODEL_b97672a15f0e414590a4acd8fac35b03",
      "value": "2"
     }
    },
    "4f779e892985486b8578a638d8eaefa0": {
     "model_module": "@jupyter-widgets/controls",
     "model_module_version": "1.5.0",
     "model_name": "DescriptionStyleModel",
     "state": {
      "_model_module": "@jupyter-widgets/controls",
      "_model_module_version": "1.5.0",
      "_model_name": "DescriptionStyleModel",
      "_view_count": null,
      "_view_module": "@jupyter-widgets/base",
      "_view_module_version": "1.2.0",
      "_view_name": "StyleView",
      "description_width": ""
     }
    },
    "51eea2d9c33c442b8d10dbacc077bfe1": {
     "model_module": "@jupyter-widgets/controls",
     "model_module_version": "1.5.0",
     "model_name": "TextModel",
     "state": {
      "_dom_classes": [],
      "_model_module": "@jupyter-widgets/controls",
      "_model_module_version": "1.5.0",
      "_model_name": "TextModel",
      "_view_count": null,
      "_view_module": "@jupyter-widgets/controls",
      "_view_module_version": "1.5.0",
      "_view_name": "TextView",
      "continuous_update": true,
      "description": "replicate",
      "description_tooltip": null,
      "disabled": false,
      "layout": "IPY_MODEL_42756f15c8b94219aa2a23522b5d5d90",
      "placeholder": "​",
      "style": "IPY_MODEL_475b91d3babe45b0a452b178aaef8a54",
      "value": "4"
     }
    },
    "560b8a3c124d4610b7f3a9b1c72fc0cc": {
     "model_module": "@jupyter-widgets/controls",
     "model_module_version": "1.5.0",
     "model_name": "TextModel",
     "state": {
      "_dom_classes": [],
      "_model_module": "@jupyter-widgets/controls",
      "_model_module_version": "1.5.0",
      "_model_name": "TextModel",
      "_view_count": null,
      "_view_module": "@jupyter-widgets/controls",
      "_view_module_version": "1.5.0",
      "_view_name": "TextView",
      "continuous_update": true,
      "description": "replicate",
      "description_tooltip": null,
      "disabled": false,
      "layout": "IPY_MODEL_c195dd988bb044419b755ee8fad66db7",
      "placeholder": "​",
      "style": "IPY_MODEL_28b17fd136d34bbca13bf6a504a13799",
      "value": ""
     }
    },
    "56f55133bcc24d60a8572a92cddb26a8": {
     "model_module": "@jupyter-widgets/output",
     "model_module_version": "1.0.0",
     "model_name": "OutputModel",
     "state": {
      "_dom_classes": [],
      "_model_module": "@jupyter-widgets/output",
      "_model_module_version": "1.0.0",
      "_model_name": "OutputModel",
      "_view_count": null,
      "_view_module": "@jupyter-widgets/output",
      "_view_module_version": "1.0.0",
      "_view_name": "OutputView",
      "layout": "IPY_MODEL_b9c41512cb9441aba514f8f03f6ee323",
      "msg_id": "",
      "outputs": [
       {
        "name": "stdout",
        "output_type": "stream",
        "text": [
         "   state                            label condition replicate\n",
         "2   True   Reporter.intensity.corrected.2      DMSO         1\n",
         "3   True   Reporter.intensity.corrected.3      DMSO         2\n",
         "4   True   Reporter.intensity.corrected.4      DMSO         3\n",
         "5   True   Reporter.intensity.corrected.5      DMSO         4\n",
         "7   True   Reporter.intensity.corrected.7        LA         1\n",
         "8   True   Reporter.intensity.corrected.8        LA         2\n",
         "9   True   Reporter.intensity.corrected.9        LA         3\n",
         "10  True  Reporter.intensity.corrected.10        LA         4\n"
        ]
       },
       {
        "data": {
         "application/vnd.jupyter.widget-view+json": {
          "model_id": "a586616a27d24918b4576d5eedeff387",
          "version_major": 2,
          "version_minor": 0
         },
         "text/plain": "Button(description='check again', style=ButtonStyle())"
        },
        "metadata": {},
        "output_type": "display_data"
       },
       {
        "data": {
         "application/vnd.jupyter.widget-view+json": {
          "model_id": "9d634c905ed84f65b2f42fa179abd7e4",
          "version_major": 2,
          "version_minor": 0
         },
         "text/plain": "Output()"
        },
        "metadata": {},
        "output_type": "display_data"
       }
      ]
     }
    },
    "5743037256114d27a20f2f6fbed74d91": {
     "model_module": "@jupyter-widgets/base",
     "model_module_version": "1.2.0",
     "model_name": "LayoutModel",
     "state": {
      "_model_module": "@jupyter-widgets/base",
      "_model_module_version": "1.2.0",
      "_model_name": "LayoutModel",
      "_view_count": null,
      "_view_module": "@jupyter-widgets/base",
      "_view_module_version": "1.2.0",
      "_view_name": "LayoutView",
      "align_content": null,
      "align_items": null,
      "align_self": null,
      "border": null,
      "bottom": null,
      "display": null,
      "flex": null,
      "flex_flow": null,
      "grid_area": null,
      "grid_auto_columns": null,
      "grid_auto_flow": null,
      "grid_auto_rows": null,
      "grid_column": null,
      "grid_gap": null,
      "grid_row": null,
      "grid_template_areas": null,
      "grid_template_columns": null,
      "grid_template_rows": null,
      "height": "30px",
      "justify_content": null,
      "justify_items": null,
      "left": null,
      "margin": null,
      "max_height": null,
      "max_width": null,
      "min_height": null,
      "min_width": null,
      "object_fit": null,
      "object_position": null,
      "order": null,
      "overflow": null,
      "overflow_x": null,
      "overflow_y": null,
      "padding": null,
      "right": null,
      "top": null,
      "visibility": null,
      "width": "35%"
     }
    },
    "58ed89bc0e8f43f09b1c253308195147": {
     "model_module": "@jupyter-widgets/controls",
     "model_module_version": "1.5.0",
     "model_name": "DescriptionStyleModel",
     "state": {
      "_model_module": "@jupyter-widgets/controls",
      "_model_module_version": "1.5.0",
      "_model_name": "DescriptionStyleModel",
      "_view_count": null,
      "_view_module": "@jupyter-widgets/base",
      "_view_module_version": "1.2.0",
      "_view_name": "StyleView",
      "description_width": ""
     }
    },
    "60546bdef0ab491da625dfd00637b1cb": {
     "model_module": "@jupyter-widgets/controls",
     "model_module_version": "1.5.0",
     "model_name": "DescriptionStyleModel",
     "state": {
      "_model_module": "@jupyter-widgets/controls",
      "_model_module_version": "1.5.0",
      "_model_name": "DescriptionStyleModel",
      "_view_count": null,
      "_view_module": "@jupyter-widgets/base",
      "_view_module_version": "1.2.0",
      "_view_name": "StyleView",
      "description_width": ""
     }
    },
    "6a5c7482b4104ff681dab644c4efc800": {
     "model_module": "@jupyter-widgets/controls",
     "model_module_version": "1.5.0",
     "model_name": "TextModel",
     "state": {
      "_dom_classes": [],
      "_model_module": "@jupyter-widgets/controls",
      "_model_module_version": "1.5.0",
      "_model_name": "TextModel",
      "_view_count": null,
      "_view_module": "@jupyter-widgets/controls",
      "_view_module_version": "1.5.0",
      "_view_name": "TextView",
      "continuous_update": true,
      "description": "replicate",
      "description_tooltip": null,
      "disabled": false,
      "layout": "IPY_MODEL_07b761e4757345a189b7836eeb3ac4fe",
      "placeholder": "​",
      "style": "IPY_MODEL_82704058d379449b937ec481ebdc8ef3",
      "value": "2"
     }
    },
    "6aa5d0c939f24700b9ac8e6800089d7a": {
     "model_module": "@jupyter-widgets/base",
     "model_module_version": "1.2.0",
     "model_name": "LayoutModel",
     "state": {
      "_model_module": "@jupyter-widgets/base",
      "_model_module_version": "1.2.0",
      "_model_name": "LayoutModel",
      "_view_count": null,
      "_view_module": "@jupyter-widgets/base",
      "_view_module_version": "1.2.0",
      "_view_name": "LayoutView",
      "align_content": null,
      "align_items": null,
      "align_self": null,
      "border": null,
      "bottom": null,
      "display": null,
      "flex": null,
      "flex_flow": null,
      "grid_area": null,
      "grid_auto_columns": null,
      "grid_auto_flow": null,
      "grid_auto_rows": null,
      "grid_column": null,
      "grid_gap": null,
      "grid_row": null,
      "grid_template_areas": null,
      "grid_template_columns": null,
      "grid_template_rows": null,
      "height": null,
      "justify_content": null,
      "justify_items": null,
      "left": null,
      "margin": null,
      "max_height": null,
      "max_width": null,
      "min_height": null,
      "min_width": null,
      "object_fit": null,
      "object_position": null,
      "order": null,
      "overflow": null,
      "overflow_x": null,
      "overflow_y": null,
      "padding": null,
      "right": null,
      "top": null,
      "visibility": null,
      "width": null
     }
    },
    "796f0df3a99545a2b660ef66f66356ca": {
     "model_module": "@jupyter-widgets/base",
     "model_module_version": "1.2.0",
     "model_name": "LayoutModel",
     "state": {
      "_model_module": "@jupyter-widgets/base",
      "_model_module_version": "1.2.0",
      "_model_name": "LayoutModel",
      "_view_count": null,
      "_view_module": "@jupyter-widgets/base",
      "_view_module_version": "1.2.0",
      "_view_name": "LayoutView",
      "align_content": null,
      "align_items": null,
      "align_self": null,
      "border": null,
      "bottom": null,
      "display": null,
      "flex": null,
      "flex_flow": null,
      "grid_area": null,
      "grid_auto_columns": null,
      "grid_auto_flow": null,
      "grid_auto_rows": null,
      "grid_column": null,
      "grid_gap": null,
      "grid_row": null,
      "grid_template_areas": null,
      "grid_template_columns": null,
      "grid_template_rows": null,
      "height": null,
      "justify_content": null,
      "justify_items": null,
      "left": null,
      "margin": null,
      "max_height": null,
      "max_width": null,
      "min_height": null,
      "min_width": null,
      "object_fit": null,
      "object_position": null,
      "order": null,
      "overflow": null,
      "overflow_x": null,
      "overflow_y": null,
      "padding": null,
      "right": null,
      "top": null,
      "visibility": null,
      "width": null
     }
    },
    "797d62df34de44368179e1d8163a63e7": {
     "model_module": "@jupyter-widgets/controls",
     "model_module_version": "1.5.0",
     "model_name": "DescriptionStyleModel",
     "state": {
      "_model_module": "@jupyter-widgets/controls",
      "_model_module_version": "1.5.0",
      "_model_name": "DescriptionStyleModel",
      "_view_count": null,
      "_view_module": "@jupyter-widgets/base",
      "_view_module_version": "1.2.0",
      "_view_name": "StyleView",
      "description_width": ""
     }
    },
    "7c4d56ecbb2a40c2b1b34783edbedf7c": {
     "model_module": "@jupyter-widgets/controls",
     "model_module_version": "1.5.0",
     "model_name": "DescriptionStyleModel",
     "state": {
      "_model_module": "@jupyter-widgets/controls",
      "_model_module_version": "1.5.0",
      "_model_name": "DescriptionStyleModel",
      "_view_count": null,
      "_view_module": "@jupyter-widgets/base",
      "_view_module_version": "1.2.0",
      "_view_name": "StyleView",
      "description_width": ""
     }
    },
    "7caace780bc3432dbab0e5bf2c2813ce": {
     "model_module": "@jupyter-widgets/controls",
     "model_module_version": "1.5.0",
     "model_name": "CheckboxModel",
     "state": {
      "_dom_classes": [],
      "_model_module": "@jupyter-widgets/controls",
      "_model_module_version": "1.5.0",
      "_model_name": "CheckboxModel",
      "_view_count": null,
      "_view_module": "@jupyter-widgets/controls",
      "_view_module_version": "1.5.0",
      "_view_name": "CheckboxView",
      "description": "Reporter.intensity.corrected.10",
      "description_tooltip": null,
      "disabled": false,
      "indent": false,
      "layout": "IPY_MODEL_e03d69e6b5fc48a3b7925b35d10cbf98",
      "style": "IPY_MODEL_b2850d213dcf4aedb753cf1e170bf7c6",
      "value": true
     }
    },
    "7ea524c8bec8446f9625ae7bffe39b4e": {
     "model_module": "@jupyter-widgets/base",
     "model_module_version": "1.2.0",
     "model_name": "LayoutModel",
     "state": {
      "_model_module": "@jupyter-widgets/base",
      "_model_module_version": "1.2.0",
      "_model_name": "LayoutModel",
      "_view_count": null,
      "_view_module": "@jupyter-widgets/base",
      "_view_module_version": "1.2.0",
      "_view_name": "LayoutView",
      "align_content": null,
      "align_items": null,
      "align_self": null,
      "border": null,
      "bottom": null,
      "display": null,
      "flex": null,
      "flex_flow": null,
      "grid_area": null,
      "grid_auto_columns": null,
      "grid_auto_flow": null,
      "grid_auto_rows": null,
      "grid_column": null,
      "grid_gap": null,
      "grid_row": null,
      "grid_template_areas": null,
      "grid_template_columns": null,
      "grid_template_rows": null,
      "height": null,
      "justify_content": null,
      "justify_items": null,
      "left": null,
      "margin": null,
      "max_height": null,
      "max_width": null,
      "min_height": null,
      "min_width": null,
      "object_fit": null,
      "object_position": null,
      "order": null,
      "overflow": null,
      "overflow_x": null,
      "overflow_y": null,
      "padding": null,
      "right": null,
      "top": null,
      "visibility": null,
      "width": null
     }
    },
    "7f004884412043f088600ef1b3058b2e": {
     "model_module": "@jupyter-widgets/controls",
     "model_module_version": "1.5.0",
     "model_name": "TextModel",
     "state": {
      "_dom_classes": [],
      "_model_module": "@jupyter-widgets/controls",
      "_model_module_version": "1.5.0",
      "_model_name": "TextModel",
      "_view_count": null,
      "_view_module": "@jupyter-widgets/controls",
      "_view_module_version": "1.5.0",
      "_view_name": "TextView",
      "continuous_update": true,
      "description": "replicate",
      "description_tooltip": null,
      "disabled": false,
      "layout": "IPY_MODEL_e60ec3d5228a4ff9b347a05725f1e890",
      "placeholder": "​",
      "style": "IPY_MODEL_7c4d56ecbb2a40c2b1b34783edbedf7c",
      "value": "3"
     }
    },
    "7fe3dcfd5010433d9e735cd971196330": {
     "model_module": "@jupyter-widgets/base",
     "model_module_version": "1.2.0",
     "model_name": "LayoutModel",
     "state": {
      "_model_module": "@jupyter-widgets/base",
      "_model_module_version": "1.2.0",
      "_model_name": "LayoutModel",
      "_view_count": null,
      "_view_module": "@jupyter-widgets/base",
      "_view_module_version": "1.2.0",
      "_view_name": "LayoutView",
      "align_content": null,
      "align_items": null,
      "align_self": null,
      "border": null,
      "bottom": null,
      "display": null,
      "flex": null,
      "flex_flow": null,
      "grid_area": null,
      "grid_auto_columns": null,
      "grid_auto_flow": null,
      "grid_auto_rows": null,
      "grid_column": null,
      "grid_gap": null,
      "grid_row": null,
      "grid_template_areas": null,
      "grid_template_columns": null,
      "grid_template_rows": null,
      "height": "30px",
      "justify_content": null,
      "justify_items": null,
      "left": null,
      "margin": null,
      "max_height": null,
      "max_width": null,
      "min_height": null,
      "min_width": null,
      "object_fit": null,
      "object_position": null,
      "order": null,
      "overflow": null,
      "overflow_x": null,
      "overflow_y": null,
      "padding": null,
      "right": null,
      "top": null,
      "visibility": null,
      "width": "35%"
     }
    },
    "814cb460bd5242969fdc551a5e6a2cac": {
     "model_module": "@jupyter-widgets/controls",
     "model_module_version": "1.5.0",
     "model_name": "DescriptionStyleModel",
     "state": {
      "_model_module": "@jupyter-widgets/controls",
      "_model_module_version": "1.5.0",
      "_model_name": "DescriptionStyleModel",
      "_view_count": null,
      "_view_module": "@jupyter-widgets/base",
      "_view_module_version": "1.2.0",
      "_view_name": "StyleView",
      "description_width": ""
     }
    },
    "82704058d379449b937ec481ebdc8ef3": {
     "model_module": "@jupyter-widgets/controls",
     "model_module_version": "1.5.0",
     "model_name": "DescriptionStyleModel",
     "state": {
      "_model_module": "@jupyter-widgets/controls",
      "_model_module_version": "1.5.0",
      "_model_name": "DescriptionStyleModel",
      "_view_count": null,
      "_view_module": "@jupyter-widgets/base",
      "_view_module_version": "1.2.0",
      "_view_name": "StyleView",
      "description_width": ""
     }
    },
    "84a6efb6f49b4b51a957f2beea616318": {
     "model_module": "@jupyter-widgets/base",
     "model_module_version": "1.2.0",
     "model_name": "LayoutModel",
     "state": {
      "_model_module": "@jupyter-widgets/base",
      "_model_module_version": "1.2.0",
      "_model_name": "LayoutModel",
      "_view_count": null,
      "_view_module": "@jupyter-widgets/base",
      "_view_module_version": "1.2.0",
      "_view_name": "LayoutView",
      "align_content": null,
      "align_items": null,
      "align_self": null,
      "border": null,
      "bottom": null,
      "display": null,
      "flex": null,
      "flex_flow": null,
      "grid_area": null,
      "grid_auto_columns": null,
      "grid_auto_flow": null,
      "grid_auto_rows": null,
      "grid_column": null,
      "grid_gap": null,
      "grid_row": null,
      "grid_template_areas": null,
      "grid_template_columns": null,
      "grid_template_rows": null,
      "height": "30px",
      "justify_content": null,
      "justify_items": null,
      "left": null,
      "margin": null,
      "max_height": null,
      "max_width": null,
      "min_height": null,
      "min_width": null,
      "object_fit": null,
      "object_position": null,
      "order": null,
      "overflow": null,
      "overflow_x": null,
      "overflow_y": null,
      "padding": null,
      "right": null,
      "top": null,
      "visibility": null,
      "width": "35%"
     }
    },
    "86e6d8a9b6c541a091b4506e5ef4c1ac": {
     "model_module": "@jupyter-widgets/base",
     "model_module_version": "1.2.0",
     "model_name": "LayoutModel",
     "state": {
      "_model_module": "@jupyter-widgets/base",
      "_model_module_version": "1.2.0",
      "_model_name": "LayoutModel",
      "_view_count": null,
      "_view_module": "@jupyter-widgets/base",
      "_view_module_version": "1.2.0",
      "_view_name": "LayoutView",
      "align_content": null,
      "align_items": null,
      "align_self": null,
      "border": null,
      "bottom": null,
      "display": null,
      "flex": null,
      "flex_flow": null,
      "grid_area": null,
      "grid_auto_columns": null,
      "grid_auto_flow": null,
      "grid_auto_rows": null,
      "grid_column": null,
      "grid_gap": null,
      "grid_row": null,
      "grid_template_areas": null,
      "grid_template_columns": null,
      "grid_template_rows": null,
      "height": "30px",
      "justify_content": null,
      "justify_items": null,
      "left": null,
      "margin": null,
      "max_height": null,
      "max_width": null,
      "min_height": null,
      "min_width": null,
      "object_fit": null,
      "object_position": null,
      "order": null,
      "overflow": null,
      "overflow_x": null,
      "overflow_y": null,
      "padding": null,
      "right": null,
      "top": null,
      "visibility": null,
      "width": "35%"
     }
    },
    "8b0fcc12d8504f1d9ef2e3607bb67022": {
     "model_module": "@jupyter-widgets/base",
     "model_module_version": "1.2.0",
     "model_name": "LayoutModel",
     "state": {
      "_model_module": "@jupyter-widgets/base",
      "_model_module_version": "1.2.0",
      "_model_name": "LayoutModel",
      "_view_count": null,
      "_view_module": "@jupyter-widgets/base",
      "_view_module_version": "1.2.0",
      "_view_name": "LayoutView",
      "align_content": null,
      "align_items": null,
      "align_self": null,
      "border": null,
      "bottom": null,
      "display": null,
      "flex": null,
      "flex_flow": null,
      "grid_area": null,
      "grid_auto_columns": null,
      "grid_auto_flow": null,
      "grid_auto_rows": null,
      "grid_column": null,
      "grid_gap": null,
      "grid_row": null,
      "grid_template_areas": null,
      "grid_template_columns": null,
      "grid_template_rows": null,
      "height": "30px",
      "justify_content": null,
      "justify_items": null,
      "left": null,
      "margin": null,
      "max_height": null,
      "max_width": null,
      "min_height": null,
      "min_width": null,
      "object_fit": null,
      "object_position": null,
      "order": null,
      "overflow": null,
      "overflow_x": null,
      "overflow_y": null,
      "padding": null,
      "right": null,
      "top": null,
      "visibility": null,
      "width": "35%"
     }
    },
    "8fdc27b3c2794ce8b321e9305d229df1": {
     "model_module": "@jupyter-widgets/controls",
     "model_module_version": "1.5.0",
     "model_name": "ButtonStyleModel",
     "state": {
      "_model_module": "@jupyter-widgets/controls",
      "_model_module_version": "1.5.0",
      "_model_name": "ButtonStyleModel",
      "_view_count": null,
      "_view_module": "@jupyter-widgets/base",
      "_view_module_version": "1.2.0",
      "_view_name": "StyleView",
      "button_color": null,
      "font_weight": ""
     }
    },
    "9362c3b22af241b5acecf698ca509214": {
     "model_module": "@jupyter-widgets/controls",
     "model_module_version": "1.5.0",
     "model_name": "DescriptionStyleModel",
     "state": {
      "_model_module": "@jupyter-widgets/controls",
      "_model_module_version": "1.5.0",
      "_model_name": "DescriptionStyleModel",
      "_view_count": null,
      "_view_module": "@jupyter-widgets/base",
      "_view_module_version": "1.2.0",
      "_view_name": "StyleView",
      "description_width": ""
     }
    },
    "93bdf48fcac0465c9078416795d916bd": {
     "model_module": "@jupyter-widgets/base",
     "model_module_version": "1.2.0",
     "model_name": "LayoutModel",
     "state": {
      "_model_module": "@jupyter-widgets/base",
      "_model_module_version": "1.2.0",
      "_model_name": "LayoutModel",
      "_view_count": null,
      "_view_module": "@jupyter-widgets/base",
      "_view_module_version": "1.2.0",
      "_view_name": "LayoutView",
      "align_content": null,
      "align_items": null,
      "align_self": null,
      "border": null,
      "bottom": null,
      "display": null,
      "flex": null,
      "flex_flow": null,
      "grid_area": null,
      "grid_auto_columns": null,
      "grid_auto_flow": null,
      "grid_auto_rows": null,
      "grid_column": null,
      "grid_gap": null,
      "grid_row": null,
      "grid_template_areas": null,
      "grid_template_columns": null,
      "grid_template_rows": null,
      "height": null,
      "justify_content": null,
      "justify_items": null,
      "left": null,
      "margin": null,
      "max_height": null,
      "max_width": null,
      "min_height": null,
      "min_width": null,
      "object_fit": null,
      "object_position": null,
      "order": null,
      "overflow": null,
      "overflow_x": null,
      "overflow_y": null,
      "padding": null,
      "right": null,
      "top": null,
      "visibility": null,
      "width": null
     }
    },
    "94463ce9082b400185dca27a8e0c6278": {
     "model_module": "@jupyter-widgets/base",
     "model_module_version": "1.2.0",
     "model_name": "LayoutModel",
     "state": {
      "_model_module": "@jupyter-widgets/base",
      "_model_module_version": "1.2.0",
      "_model_name": "LayoutModel",
      "_view_count": null,
      "_view_module": "@jupyter-widgets/base",
      "_view_module_version": "1.2.0",
      "_view_name": "LayoutView",
      "align_content": null,
      "align_items": null,
      "align_self": null,
      "border": null,
      "bottom": null,
      "display": null,
      "flex": null,
      "flex_flow": null,
      "grid_area": null,
      "grid_auto_columns": null,
      "grid_auto_flow": null,
      "grid_auto_rows": null,
      "grid_column": null,
      "grid_gap": null,
      "grid_row": null,
      "grid_template_areas": null,
      "grid_template_columns": null,
      "grid_template_rows": null,
      "height": null,
      "justify_content": null,
      "justify_items": null,
      "left": null,
      "margin": null,
      "max_height": null,
      "max_width": null,
      "min_height": null,
      "min_width": null,
      "object_fit": null,
      "object_position": null,
      "order": null,
      "overflow": null,
      "overflow_x": null,
      "overflow_y": null,
      "padding": null,
      "right": null,
      "top": null,
      "visibility": null,
      "width": null
     }
    },
    "96ed49f393ee47fe97532bc7693a514b": {
     "model_module": "@jupyter-widgets/controls",
     "model_module_version": "1.5.0",
     "model_name": "DescriptionStyleModel",
     "state": {
      "_model_module": "@jupyter-widgets/controls",
      "_model_module_version": "1.5.0",
      "_model_name": "DescriptionStyleModel",
      "_view_count": null,
      "_view_module": "@jupyter-widgets/base",
      "_view_module_version": "1.2.0",
      "_view_name": "StyleView",
      "description_width": ""
     }
    },
    "9a8985d10c214f6c8d5ce7b236d403b3": {
     "model_module": "@jupyter-widgets/controls",
     "model_module_version": "1.5.0",
     "model_name": "TextModel",
     "state": {
      "_dom_classes": [],
      "_model_module": "@jupyter-widgets/controls",
      "_model_module_version": "1.5.0",
      "_model_name": "TextModel",
      "_view_count": null,
      "_view_module": "@jupyter-widgets/controls",
      "_view_module_version": "1.5.0",
      "_view_name": "TextView",
      "continuous_update": true,
      "description": "condition",
      "description_tooltip": null,
      "disabled": false,
      "layout": "IPY_MODEL_86e6d8a9b6c541a091b4506e5ef4c1ac",
      "placeholder": "​",
      "style": "IPY_MODEL_d5d64e611f7b45c69f9b5d5c4f15376c",
      "value": "LA"
     }
    },
    "9c22ef26001948ddb185034f38f4f093": {
     "model_module": "@jupyter-widgets/controls",
     "model_module_version": "1.5.0",
     "model_name": "TextModel",
     "state": {
      "_dom_classes": [],
      "_model_module": "@jupyter-widgets/controls",
      "_model_module_version": "1.5.0",
      "_model_name": "TextModel",
      "_view_count": null,
      "_view_module": "@jupyter-widgets/controls",
      "_view_module_version": "1.5.0",
      "_view_name": "TextView",
      "continuous_update": true,
      "description": "condition",
      "description_tooltip": null,
      "disabled": false,
      "layout": "IPY_MODEL_8b0fcc12d8504f1d9ef2e3607bb67022",
      "placeholder": "​",
      "style": "IPY_MODEL_f03bf73e656e4c83a5e4a6f549c54736",
      "value": "DMSO"
     }
    },
    "9d634c905ed84f65b2f42fa179abd7e4": {
     "model_module": "@jupyter-widgets/output",
     "model_module_version": "1.0.0",
     "model_name": "OutputModel",
     "state": {
      "_dom_classes": [],
      "_model_module": "@jupyter-widgets/output",
      "_model_module_version": "1.0.0",
      "_model_name": "OutputModel",
      "_view_count": null,
      "_view_module": "@jupyter-widgets/output",
      "_view_module_version": "1.0.0",
      "_view_name": "OutputView",
      "layout": "IPY_MODEL_796f0df3a99545a2b660ef66f66356ca",
      "msg_id": "",
      "outputs": [
       {
        "name": "stdout",
        "output_type": "stream",
        "text": [
         "save to experimental_design.csv\n"
        ]
       }
      ]
     }
    },
    "9ecfcf0ed19947ffa4bf3c492d2bd9da": {
     "model_module": "@jupyter-widgets/controls",
     "model_module_version": "1.5.0",
     "model_name": "CheckboxModel",
     "state": {
      "_dom_classes": [],
      "_model_module": "@jupyter-widgets/controls",
      "_model_module_version": "1.5.0",
      "_model_name": "CheckboxModel",
      "_view_count": null,
      "_view_module": "@jupyter-widgets/controls",
      "_view_module_version": "1.5.0",
      "_view_name": "CheckboxView",
      "description": "Reporter.intensity.corrected.7",
      "description_tooltip": null,
      "disabled": false,
      "indent": false,
      "layout": "IPY_MODEL_e3b632b9b9f94e2484d065ed217c1d26",
      "style": "IPY_MODEL_e2a54da50106482cba7d8b6e74c18f85",
      "value": true
     }
    },
    "9fae51e797894bd1aa87216c90d5eed3": {
     "model_module": "@jupyter-widgets/controls",
     "model_module_version": "1.5.0",
     "model_name": "DescriptionStyleModel",
     "state": {
      "_model_module": "@jupyter-widgets/controls",
      "_model_module_version": "1.5.0",
      "_model_name": "DescriptionStyleModel",
      "_view_count": null,
      "_view_module": "@jupyter-widgets/base",
      "_view_module_version": "1.2.0",
      "_view_name": "StyleView",
      "description_width": ""
     }
    },
    "9fc6780d3ba74586a951bb7dd6e5e8d1": {
     "model_module": "@jupyter-widgets/controls",
     "model_module_version": "1.5.0",
     "model_name": "CheckboxModel",
     "state": {
      "_dom_classes": [],
      "_model_module": "@jupyter-widgets/controls",
      "_model_module_version": "1.5.0",
      "_model_name": "CheckboxModel",
      "_view_count": null,
      "_view_module": "@jupyter-widgets/controls",
      "_view_module_version": "1.5.0",
      "_view_name": "CheckboxView",
      "description": "Reporter.intensity.corrected.6",
      "description_tooltip": null,
      "disabled": false,
      "indent": false,
      "layout": "IPY_MODEL_7ea524c8bec8446f9625ae7bffe39b4e",
      "style": "IPY_MODEL_9362c3b22af241b5acecf698ca509214",
      "value": false
     }
    },
    "a586616a27d24918b4576d5eedeff387": {
     "model_module": "@jupyter-widgets/controls",
     "model_module_version": "1.5.0",
     "model_name": "ButtonModel",
     "state": {
      "_dom_classes": [],
      "_model_module": "@jupyter-widgets/controls",
      "_model_module_version": "1.5.0",
      "_model_name": "ButtonModel",
      "_view_count": null,
      "_view_module": "@jupyter-widgets/controls",
      "_view_module_version": "1.5.0",
      "_view_name": "ButtonView",
      "button_style": "",
      "description": "check again",
      "disabled": false,
      "icon": "",
      "layout": "IPY_MODEL_191dda40bbaf470e950e463d0cdd1439",
      "style": "IPY_MODEL_1f8cf694f25946b28e9e0e2f17d1a264",
      "tooltip": ""
     }
    },
    "a7cdaa4dc36d407caa7033ac6ba01439": {
     "model_module": "@jupyter-widgets/controls",
     "model_module_version": "1.5.0",
     "model_name": "CheckboxModel",
     "state": {
      "_dom_classes": [],
      "_model_module": "@jupyter-widgets/controls",
      "_model_module_version": "1.5.0",
      "_model_name": "CheckboxModel",
      "_view_count": null,
      "_view_module": "@jupyter-widgets/controls",
      "_view_module_version": "1.5.0",
      "_view_name": "CheckboxView",
      "description": "Reporter.intensity.corrected.4",
      "description_tooltip": null,
      "disabled": false,
      "indent": false,
      "layout": "IPY_MODEL_e0023e4872df4bc28b7610849310ce0e",
      "style": "IPY_MODEL_797d62df34de44368179e1d8163a63e7",
      "value": true
     }
    },
    "a94436ff02724cf2a5261c41eaee2df8": {
     "model_module": "@jupyter-widgets/base",
     "model_module_version": "1.2.0",
     "model_name": "LayoutModel",
     "state": {
      "_model_module": "@jupyter-widgets/base",
      "_model_module_version": "1.2.0",
      "_model_name": "LayoutModel",
      "_view_count": null,
      "_view_module": "@jupyter-widgets/base",
      "_view_module_version": "1.2.0",
      "_view_name": "LayoutView",
      "align_content": null,
      "align_items": null,
      "align_self": null,
      "border": null,
      "bottom": null,
      "display": null,
      "flex": null,
      "flex_flow": null,
      "grid_area": null,
      "grid_auto_columns": null,
      "grid_auto_flow": null,
      "grid_auto_rows": null,
      "grid_column": null,
      "grid_gap": null,
      "grid_row": null,
      "grid_template_areas": null,
      "grid_template_columns": null,
      "grid_template_rows": null,
      "height": null,
      "justify_content": null,
      "justify_items": null,
      "left": null,
      "margin": null,
      "max_height": null,
      "max_width": null,
      "min_height": null,
      "min_width": null,
      "object_fit": null,
      "object_position": null,
      "order": null,
      "overflow": null,
      "overflow_x": null,
      "overflow_y": null,
      "padding": null,
      "right": null,
      "top": null,
      "visibility": null,
      "width": null
     }
    },
    "aa35115a1afa4c0f9b374e3b8e06e0b8": {
     "model_module": "@jupyter-widgets/base",
     "model_module_version": "1.2.0",
     "model_name": "LayoutModel",
     "state": {
      "_model_module": "@jupyter-widgets/base",
      "_model_module_version": "1.2.0",
      "_model_name": "LayoutModel",
      "_view_count": null,
      "_view_module": "@jupyter-widgets/base",
      "_view_module_version": "1.2.0",
      "_view_name": "LayoutView",
      "align_content": null,
      "align_items": null,
      "align_self": null,
      "border": null,
      "bottom": null,
      "display": null,
      "flex": null,
      "flex_flow": null,
      "grid_area": null,
      "grid_auto_columns": null,
      "grid_auto_flow": null,
      "grid_auto_rows": null,
      "grid_column": null,
      "grid_gap": null,
      "grid_row": null,
      "grid_template_areas": null,
      "grid_template_columns": null,
      "grid_template_rows": null,
      "height": "30px",
      "justify_content": null,
      "justify_items": null,
      "left": null,
      "margin": null,
      "max_height": null,
      "max_width": null,
      "min_height": null,
      "min_width": null,
      "object_fit": null,
      "object_position": null,
      "order": null,
      "overflow": null,
      "overflow_x": null,
      "overflow_y": null,
      "padding": null,
      "right": null,
      "top": null,
      "visibility": null,
      "width": "35%"
     }
    },
    "aa35d1a643b141e9bd8b7e5a93ed6599": {
     "model_module": "@jupyter-widgets/controls",
     "model_module_version": "1.5.0",
     "model_name": "TextModel",
     "state": {
      "_dom_classes": [],
      "_model_module": "@jupyter-widgets/controls",
      "_model_module_version": "1.5.0",
      "_model_name": "TextModel",
      "_view_count": null,
      "_view_module": "@jupyter-widgets/controls",
      "_view_module_version": "1.5.0",
      "_view_name": "TextView",
      "continuous_update": true,
      "description": "condition",
      "description_tooltip": null,
      "disabled": false,
      "layout": "IPY_MODEL_32c70c070dac4b13a008af26b06e01fa",
      "placeholder": "​",
      "style": "IPY_MODEL_58ed89bc0e8f43f09b1c253308195147",
      "value": "LA"
     }
    },
    "adf766f580a04576a4d8a3b8ca8a7885": {
     "model_module": "@jupyter-widgets/base",
     "model_module_version": "1.2.0",
     "model_name": "LayoutModel",
     "state": {
      "_model_module": "@jupyter-widgets/base",
      "_model_module_version": "1.2.0",
      "_model_name": "LayoutModel",
      "_view_count": null,
      "_view_module": "@jupyter-widgets/base",
      "_view_module_version": "1.2.0",
      "_view_name": "LayoutView",
      "align_content": null,
      "align_items": null,
      "align_self": null,
      "border": null,
      "bottom": null,
      "display": null,
      "flex": null,
      "flex_flow": null,
      "grid_area": null,
      "grid_auto_columns": null,
      "grid_auto_flow": null,
      "grid_auto_rows": null,
      "grid_column": null,
      "grid_gap": null,
      "grid_row": null,
      "grid_template_areas": null,
      "grid_template_columns": null,
      "grid_template_rows": null,
      "height": "30px",
      "justify_content": null,
      "justify_items": null,
      "left": null,
      "margin": null,
      "max_height": null,
      "max_width": null,
      "min_height": null,
      "min_width": null,
      "object_fit": null,
      "object_position": null,
      "order": null,
      "overflow": null,
      "overflow_x": null,
      "overflow_y": null,
      "padding": null,
      "right": null,
      "top": null,
      "visibility": null,
      "width": "35%"
     }
    },
    "af6315ad49f248d8ba7ee541f2d3bf76": {
     "model_module": "@jupyter-widgets/base",
     "model_module_version": "1.2.0",
     "model_name": "LayoutModel",
     "state": {
      "_model_module": "@jupyter-widgets/base",
      "_model_module_version": "1.2.0",
      "_model_name": "LayoutModel",
      "_view_count": null,
      "_view_module": "@jupyter-widgets/base",
      "_view_module_version": "1.2.0",
      "_view_name": "LayoutView",
      "align_content": null,
      "align_items": null,
      "align_self": null,
      "border": null,
      "bottom": null,
      "display": null,
      "flex": null,
      "flex_flow": null,
      "grid_area": null,
      "grid_auto_columns": null,
      "grid_auto_flow": null,
      "grid_auto_rows": null,
      "grid_column": null,
      "grid_gap": null,
      "grid_row": null,
      "grid_template_areas": null,
      "grid_template_columns": null,
      "grid_template_rows": null,
      "height": "30px",
      "justify_content": null,
      "justify_items": null,
      "left": null,
      "margin": null,
      "max_height": null,
      "max_width": null,
      "min_height": null,
      "min_width": null,
      "object_fit": null,
      "object_position": null,
      "order": null,
      "overflow": null,
      "overflow_x": null,
      "overflow_y": null,
      "padding": null,
      "right": null,
      "top": null,
      "visibility": null,
      "width": "35%"
     }
    },
    "b2850d213dcf4aedb753cf1e170bf7c6": {
     "model_module": "@jupyter-widgets/controls",
     "model_module_version": "1.5.0",
     "model_name": "DescriptionStyleModel",
     "state": {
      "_model_module": "@jupyter-widgets/controls",
      "_model_module_version": "1.5.0",
      "_model_name": "DescriptionStyleModel",
      "_view_count": null,
      "_view_module": "@jupyter-widgets/base",
      "_view_module_version": "1.2.0",
      "_view_name": "StyleView",
      "description_width": ""
     }
    },
    "b961ba1fb6414dcf9ff48d40a34e4acd": {
     "model_module": "@jupyter-widgets/controls",
     "model_module_version": "1.5.0",
     "model_name": "DescriptionStyleModel",
     "state": {
      "_model_module": "@jupyter-widgets/controls",
      "_model_module_version": "1.5.0",
      "_model_name": "DescriptionStyleModel",
      "_view_count": null,
      "_view_module": "@jupyter-widgets/base",
      "_view_module_version": "1.2.0",
      "_view_name": "StyleView",
      "description_width": ""
     }
    },
    "b97672a15f0e414590a4acd8fac35b03": {
     "model_module": "@jupyter-widgets/controls",
     "model_module_version": "1.5.0",
     "model_name": "DescriptionStyleModel",
     "state": {
      "_model_module": "@jupyter-widgets/controls",
      "_model_module_version": "1.5.0",
      "_model_name": "DescriptionStyleModel",
      "_view_count": null,
      "_view_module": "@jupyter-widgets/base",
      "_view_module_version": "1.2.0",
      "_view_name": "StyleView",
      "description_width": ""
     }
    },
    "b9c41512cb9441aba514f8f03f6ee323": {
     "model_module": "@jupyter-widgets/base",
     "model_module_version": "1.2.0",
     "model_name": "LayoutModel",
     "state": {
      "_model_module": "@jupyter-widgets/base",
      "_model_module_version": "1.2.0",
      "_model_name": "LayoutModel",
      "_view_count": null,
      "_view_module": "@jupyter-widgets/base",
      "_view_module_version": "1.2.0",
      "_view_name": "LayoutView",
      "align_content": null,
      "align_items": null,
      "align_self": null,
      "border": null,
      "bottom": null,
      "display": null,
      "flex": null,
      "flex_flow": null,
      "grid_area": null,
      "grid_auto_columns": null,
      "grid_auto_flow": null,
      "grid_auto_rows": null,
      "grid_column": null,
      "grid_gap": null,
      "grid_row": null,
      "grid_template_areas": null,
      "grid_template_columns": null,
      "grid_template_rows": null,
      "height": null,
      "justify_content": null,
      "justify_items": null,
      "left": null,
      "margin": null,
      "max_height": null,
      "max_width": null,
      "min_height": null,
      "min_width": null,
      "object_fit": null,
      "object_position": null,
      "order": null,
      "overflow": null,
      "overflow_x": null,
      "overflow_y": null,
      "padding": null,
      "right": null,
      "top": null,
      "visibility": null,
      "width": null
     }
    },
    "bb3a395792784cd4b176faa257f6ed8c": {
     "model_module": "@jupyter-widgets/controls",
     "model_module_version": "1.5.0",
     "model_name": "DescriptionStyleModel",
     "state": {
      "_model_module": "@jupyter-widgets/controls",
      "_model_module_version": "1.5.0",
      "_model_name": "DescriptionStyleModel",
      "_view_count": null,
      "_view_module": "@jupyter-widgets/base",
      "_view_module_version": "1.2.0",
      "_view_name": "StyleView",
      "description_width": ""
     }
    },
    "c0f2376565b44b3087a86f0691a572b1": {
     "model_module": "@jupyter-widgets/controls",
     "model_module_version": "1.5.0",
     "model_name": "DescriptionStyleModel",
     "state": {
      "_model_module": "@jupyter-widgets/controls",
      "_model_module_version": "1.5.0",
      "_model_name": "DescriptionStyleModel",
      "_view_count": null,
      "_view_module": "@jupyter-widgets/base",
      "_view_module_version": "1.2.0",
      "_view_name": "StyleView",
      "description_width": ""
     }
    },
    "c195dd988bb044419b755ee8fad66db7": {
     "model_module": "@jupyter-widgets/base",
     "model_module_version": "1.2.0",
     "model_name": "LayoutModel",
     "state": {
      "_model_module": "@jupyter-widgets/base",
      "_model_module_version": "1.2.0",
      "_model_name": "LayoutModel",
      "_view_count": null,
      "_view_module": "@jupyter-widgets/base",
      "_view_module_version": "1.2.0",
      "_view_name": "LayoutView",
      "align_content": null,
      "align_items": null,
      "align_self": null,
      "border": null,
      "bottom": null,
      "display": null,
      "flex": null,
      "flex_flow": null,
      "grid_area": null,
      "grid_auto_columns": null,
      "grid_auto_flow": null,
      "grid_auto_rows": null,
      "grid_column": null,
      "grid_gap": null,
      "grid_row": null,
      "grid_template_areas": null,
      "grid_template_columns": null,
      "grid_template_rows": null,
      "height": "30px",
      "justify_content": null,
      "justify_items": null,
      "left": null,
      "margin": null,
      "max_height": null,
      "max_width": null,
      "min_height": null,
      "min_width": null,
      "object_fit": null,
      "object_position": null,
      "order": null,
      "overflow": null,
      "overflow_x": null,
      "overflow_y": null,
      "padding": null,
      "right": null,
      "top": null,
      "visibility": null,
      "width": "35%"
     }
    },
    "c3ef860191f94118b99e3139b3541c6b": {
     "model_module": "@jupyter-widgets/base",
     "model_module_version": "1.2.0",
     "model_name": "LayoutModel",
     "state": {
      "_model_module": "@jupyter-widgets/base",
      "_model_module_version": "1.2.0",
      "_model_name": "LayoutModel",
      "_view_count": null,
      "_view_module": "@jupyter-widgets/base",
      "_view_module_version": "1.2.0",
      "_view_name": "LayoutView",
      "align_content": null,
      "align_items": null,
      "align_self": null,
      "border": null,
      "bottom": null,
      "display": null,
      "flex": null,
      "flex_flow": null,
      "grid_area": null,
      "grid_auto_columns": null,
      "grid_auto_flow": null,
      "grid_auto_rows": null,
      "grid_column": null,
      "grid_gap": null,
      "grid_row": null,
      "grid_template_areas": null,
      "grid_template_columns": null,
      "grid_template_rows": null,
      "height": null,
      "justify_content": null,
      "justify_items": null,
      "left": null,
      "margin": null,
      "max_height": null,
      "max_width": null,
      "min_height": null,
      "min_width": null,
      "object_fit": null,
      "object_position": null,
      "order": null,
      "overflow": null,
      "overflow_x": null,
      "overflow_y": null,
      "padding": null,
      "right": null,
      "top": null,
      "visibility": null,
      "width": null
     }
    },
    "c4fec63cc60a4528b643b63e3317f809": {
     "model_module": "@jupyter-widgets/controls",
     "model_module_version": "1.5.0",
     "model_name": "TextModel",
     "state": {
      "_dom_classes": [],
      "_model_module": "@jupyter-widgets/controls",
      "_model_module_version": "1.5.0",
      "_model_name": "TextModel",
      "_view_count": null,
      "_view_module": "@jupyter-widgets/controls",
      "_view_module_version": "1.5.0",
      "_view_name": "TextView",
      "continuous_update": true,
      "description": "condition",
      "description_tooltip": null,
      "disabled": false,
      "layout": "IPY_MODEL_f82428ab4f5444d7823aa3508760478d",
      "placeholder": "​",
      "style": "IPY_MODEL_12e2be33543d49f69b67b80f3f506c16",
      "value": "LA"
     }
    },
    "c84c18de6f1f476ca017b8ab3160d3bd": {
     "model_module": "@jupyter-widgets/controls",
     "model_module_version": "1.5.0",
     "model_name": "ButtonModel",
     "state": {
      "_dom_classes": [],
      "_model_module": "@jupyter-widgets/controls",
      "_model_module_version": "1.5.0",
      "_model_name": "ButtonModel",
      "_view_count": null,
      "_view_module": "@jupyter-widgets/controls",
      "_view_module_version": "1.5.0",
      "_view_name": "ButtonView",
      "button_style": "",
      "description": "OK",
      "disabled": false,
      "icon": "",
      "layout": "IPY_MODEL_93bdf48fcac0465c9078416795d916bd",
      "style": "IPY_MODEL_8fdc27b3c2794ce8b321e9305d229df1",
      "tooltip": ""
     }
    },
    "cf3771f9b03942c099b29a8853e0f4a8": {
     "model_module": "@jupyter-widgets/controls",
     "model_module_version": "1.5.0",
     "model_name": "DescriptionStyleModel",
     "state": {
      "_model_module": "@jupyter-widgets/controls",
      "_model_module_version": "1.5.0",
      "_model_name": "DescriptionStyleModel",
      "_view_count": null,
      "_view_module": "@jupyter-widgets/base",
      "_view_module_version": "1.2.0",
      "_view_name": "StyleView",
      "description_width": ""
     }
    },
    "d15088bb61354690ac3dfa9b97bb5328": {
     "model_module": "@jupyter-widgets/controls",
     "model_module_version": "1.5.0",
     "model_name": "TextModel",
     "state": {
      "_dom_classes": [],
      "_model_module": "@jupyter-widgets/controls",
      "_model_module_version": "1.5.0",
      "_model_name": "TextModel",
      "_view_count": null,
      "_view_module": "@jupyter-widgets/controls",
      "_view_module_version": "1.5.0",
      "_view_name": "TextView",
      "continuous_update": true,
      "description": "condition",
      "description_tooltip": null,
      "disabled": false,
      "layout": "IPY_MODEL_7fe3dcfd5010433d9e735cd971196330",
      "placeholder": "​",
      "style": "IPY_MODEL_814cb460bd5242969fdc551a5e6a2cac",
      "value": ""
     }
    },
    "d251f42f39264fa5bbf247d1247e8be6": {
     "model_module": "@jupyter-widgets/base",
     "model_module_version": "1.2.0",
     "model_name": "LayoutModel",
     "state": {
      "_model_module": "@jupyter-widgets/base",
      "_model_module_version": "1.2.0",
      "_model_name": "LayoutModel",
      "_view_count": null,
      "_view_module": "@jupyter-widgets/base",
      "_view_module_version": "1.2.0",
      "_view_name": "LayoutView",
      "align_content": null,
      "align_items": null,
      "align_self": null,
      "border": null,
      "bottom": null,
      "display": null,
      "flex": null,
      "flex_flow": null,
      "grid_area": null,
      "grid_auto_columns": null,
      "grid_auto_flow": null,
      "grid_auto_rows": null,
      "grid_column": null,
      "grid_gap": null,
      "grid_row": null,
      "grid_template_areas": null,
      "grid_template_columns": null,
      "grid_template_rows": null,
      "height": "30px",
      "justify_content": null,
      "justify_items": null,
      "left": null,
      "margin": null,
      "max_height": null,
      "max_width": null,
      "min_height": null,
      "min_width": null,
      "object_fit": null,
      "object_position": null,
      "order": null,
      "overflow": null,
      "overflow_x": null,
      "overflow_y": null,
      "padding": null,
      "right": null,
      "top": null,
      "visibility": null,
      "width": "35%"
     }
    },
    "d491e2143ae7498b833056e73ae6415b": {
     "model_module": "@jupyter-widgets/controls",
     "model_module_version": "1.5.0",
     "model_name": "DescriptionStyleModel",
     "state": {
      "_model_module": "@jupyter-widgets/controls",
      "_model_module_version": "1.5.0",
      "_model_name": "DescriptionStyleModel",
      "_view_count": null,
      "_view_module": "@jupyter-widgets/base",
      "_view_module_version": "1.2.0",
      "_view_name": "StyleView",
      "description_width": ""
     }
    },
    "d5d64e611f7b45c69f9b5d5c4f15376c": {
     "model_module": "@jupyter-widgets/controls",
     "model_module_version": "1.5.0",
     "model_name": "DescriptionStyleModel",
     "state": {
      "_model_module": "@jupyter-widgets/controls",
      "_model_module_version": "1.5.0",
      "_model_name": "DescriptionStyleModel",
      "_view_count": null,
      "_view_module": "@jupyter-widgets/base",
      "_view_module_version": "1.2.0",
      "_view_name": "StyleView",
      "description_width": ""
     }
    },
    "d9af00867ef04aa08c3ce05fe779b58f": {
     "model_module": "@jupyter-widgets/base",
     "model_module_version": "1.2.0",
     "model_name": "LayoutModel",
     "state": {
      "_model_module": "@jupyter-widgets/base",
      "_model_module_version": "1.2.0",
      "_model_name": "LayoutModel",
      "_view_count": null,
      "_view_module": "@jupyter-widgets/base",
      "_view_module_version": "1.2.0",
      "_view_name": "LayoutView",
      "align_content": null,
      "align_items": null,
      "align_self": null,
      "border": null,
      "bottom": null,
      "display": null,
      "flex": null,
      "flex_flow": null,
      "grid_area": null,
      "grid_auto_columns": null,
      "grid_auto_flow": null,
      "grid_auto_rows": null,
      "grid_column": null,
      "grid_gap": null,
      "grid_row": null,
      "grid_template_areas": null,
      "grid_template_columns": null,
      "grid_template_rows": null,
      "height": "30px",
      "justify_content": null,
      "justify_items": null,
      "left": null,
      "margin": null,
      "max_height": null,
      "max_width": null,
      "min_height": null,
      "min_width": null,
      "object_fit": null,
      "object_position": null,
      "order": null,
      "overflow": null,
      "overflow_x": null,
      "overflow_y": null,
      "padding": null,
      "right": null,
      "top": null,
      "visibility": null,
      "width": "35%"
     }
    },
    "e0023e4872df4bc28b7610849310ce0e": {
     "model_module": "@jupyter-widgets/base",
     "model_module_version": "1.2.0",
     "model_name": "LayoutModel",
     "state": {
      "_model_module": "@jupyter-widgets/base",
      "_model_module_version": "1.2.0",
      "_model_name": "LayoutModel",
      "_view_count": null,
      "_view_module": "@jupyter-widgets/base",
      "_view_module_version": "1.2.0",
      "_view_name": "LayoutView",
      "align_content": null,
      "align_items": null,
      "align_self": null,
      "border": null,
      "bottom": null,
      "display": null,
      "flex": null,
      "flex_flow": null,
      "grid_area": null,
      "grid_auto_columns": null,
      "grid_auto_flow": null,
      "grid_auto_rows": null,
      "grid_column": null,
      "grid_gap": null,
      "grid_row": null,
      "grid_template_areas": null,
      "grid_template_columns": null,
      "grid_template_rows": null,
      "height": null,
      "justify_content": null,
      "justify_items": null,
      "left": null,
      "margin": null,
      "max_height": null,
      "max_width": null,
      "min_height": null,
      "min_width": null,
      "object_fit": null,
      "object_position": null,
      "order": null,
      "overflow": null,
      "overflow_x": null,
      "overflow_y": null,
      "padding": null,
      "right": null,
      "top": null,
      "visibility": null,
      "width": null
     }
    },
    "e03d69e6b5fc48a3b7925b35d10cbf98": {
     "model_module": "@jupyter-widgets/base",
     "model_module_version": "1.2.0",
     "model_name": "LayoutModel",
     "state": {
      "_model_module": "@jupyter-widgets/base",
      "_model_module_version": "1.2.0",
      "_model_name": "LayoutModel",
      "_view_count": null,
      "_view_module": "@jupyter-widgets/base",
      "_view_module_version": "1.2.0",
      "_view_name": "LayoutView",
      "align_content": null,
      "align_items": null,
      "align_self": null,
      "border": null,
      "bottom": null,
      "display": null,
      "flex": null,
      "flex_flow": null,
      "grid_area": null,
      "grid_auto_columns": null,
      "grid_auto_flow": null,
      "grid_auto_rows": null,
      "grid_column": null,
      "grid_gap": null,
      "grid_row": null,
      "grid_template_areas": null,
      "grid_template_columns": null,
      "grid_template_rows": null,
      "height": null,
      "justify_content": null,
      "justify_items": null,
      "left": null,
      "margin": null,
      "max_height": null,
      "max_width": null,
      "min_height": null,
      "min_width": null,
      "object_fit": null,
      "object_position": null,
      "order": null,
      "overflow": null,
      "overflow_x": null,
      "overflow_y": null,
      "padding": null,
      "right": null,
      "top": null,
      "visibility": null,
      "width": null
     }
    },
    "e2a54da50106482cba7d8b6e74c18f85": {
     "model_module": "@jupyter-widgets/controls",
     "model_module_version": "1.5.0",
     "model_name": "DescriptionStyleModel",
     "state": {
      "_model_module": "@jupyter-widgets/controls",
      "_model_module_version": "1.5.0",
      "_model_name": "DescriptionStyleModel",
      "_view_count": null,
      "_view_module": "@jupyter-widgets/base",
      "_view_module_version": "1.2.0",
      "_view_name": "StyleView",
      "description_width": ""
     }
    },
    "e3b632b9b9f94e2484d065ed217c1d26": {
     "model_module": "@jupyter-widgets/base",
     "model_module_version": "1.2.0",
     "model_name": "LayoutModel",
     "state": {
      "_model_module": "@jupyter-widgets/base",
      "_model_module_version": "1.2.0",
      "_model_name": "LayoutModel",
      "_view_count": null,
      "_view_module": "@jupyter-widgets/base",
      "_view_module_version": "1.2.0",
      "_view_name": "LayoutView",
      "align_content": null,
      "align_items": null,
      "align_self": null,
      "border": null,
      "bottom": null,
      "display": null,
      "flex": null,
      "flex_flow": null,
      "grid_area": null,
      "grid_auto_columns": null,
      "grid_auto_flow": null,
      "grid_auto_rows": null,
      "grid_column": null,
      "grid_gap": null,
      "grid_row": null,
      "grid_template_areas": null,
      "grid_template_columns": null,
      "grid_template_rows": null,
      "height": null,
      "justify_content": null,
      "justify_items": null,
      "left": null,
      "margin": null,
      "max_height": null,
      "max_width": null,
      "min_height": null,
      "min_width": null,
      "object_fit": null,
      "object_position": null,
      "order": null,
      "overflow": null,
      "overflow_x": null,
      "overflow_y": null,
      "padding": null,
      "right": null,
      "top": null,
      "visibility": null,
      "width": null
     }
    },
    "e5d687c11e4e45548b0152864634f151": {
     "model_module": "@jupyter-widgets/controls",
     "model_module_version": "1.5.0",
     "model_name": "TextModel",
     "state": {
      "_dom_classes": [],
      "_model_module": "@jupyter-widgets/controls",
      "_model_module_version": "1.5.0",
      "_model_name": "TextModel",
      "_view_count": null,
      "_view_module": "@jupyter-widgets/controls",
      "_view_module_version": "1.5.0",
      "_view_name": "TextView",
      "continuous_update": true,
      "description": "replicate",
      "description_tooltip": null,
      "disabled": false,
      "layout": "IPY_MODEL_3f6ca2b5daff45fb99731b6e20e0a610",
      "placeholder": "​",
      "style": "IPY_MODEL_1d9755dc8de642d09081d181bb954cc6",
      "value": "3"
     }
    },
    "e60ec3d5228a4ff9b347a05725f1e890": {
     "model_module": "@jupyter-widgets/base",
     "model_module_version": "1.2.0",
     "model_name": "LayoutModel",
     "state": {
      "_model_module": "@jupyter-widgets/base",
      "_model_module_version": "1.2.0",
      "_model_name": "LayoutModel",
      "_view_count": null,
      "_view_module": "@jupyter-widgets/base",
      "_view_module_version": "1.2.0",
      "_view_name": "LayoutView",
      "align_content": null,
      "align_items": null,
      "align_self": null,
      "border": null,
      "bottom": null,
      "display": null,
      "flex": null,
      "flex_flow": null,
      "grid_area": null,
      "grid_auto_columns": null,
      "grid_auto_flow": null,
      "grid_auto_rows": null,
      "grid_column": null,
      "grid_gap": null,
      "grid_row": null,
      "grid_template_areas": null,
      "grid_template_columns": null,
      "grid_template_rows": null,
      "height": "30px",
      "justify_content": null,
      "justify_items": null,
      "left": null,
      "margin": null,
      "max_height": null,
      "max_width": null,
      "min_height": null,
      "min_width": null,
      "object_fit": null,
      "object_position": null,
      "order": null,
      "overflow": null,
      "overflow_x": null,
      "overflow_y": null,
      "padding": null,
      "right": null,
      "top": null,
      "visibility": null,
      "width": "35%"
     }
    },
    "eaaccc4340174220af3c24557b917cb7": {
     "model_module": "@jupyter-widgets/base",
     "model_module_version": "1.2.0",
     "model_name": "LayoutModel",
     "state": {
      "_model_module": "@jupyter-widgets/base",
      "_model_module_version": "1.2.0",
      "_model_name": "LayoutModel",
      "_view_count": null,
      "_view_module": "@jupyter-widgets/base",
      "_view_module_version": "1.2.0",
      "_view_name": "LayoutView",
      "align_content": null,
      "align_items": null,
      "align_self": null,
      "border": null,
      "bottom": null,
      "display": null,
      "flex": null,
      "flex_flow": null,
      "grid_area": null,
      "grid_auto_columns": null,
      "grid_auto_flow": null,
      "grid_auto_rows": null,
      "grid_column": null,
      "grid_gap": null,
      "grid_row": null,
      "grid_template_areas": null,
      "grid_template_columns": null,
      "grid_template_rows": null,
      "height": "30px",
      "justify_content": null,
      "justify_items": null,
      "left": null,
      "margin": null,
      "max_height": null,
      "max_width": null,
      "min_height": null,
      "min_width": null,
      "object_fit": null,
      "object_position": null,
      "order": null,
      "overflow": null,
      "overflow_x": null,
      "overflow_y": null,
      "padding": null,
      "right": null,
      "top": null,
      "visibility": null,
      "width": "35%"
     }
    },
    "f03bf73e656e4c83a5e4a6f549c54736": {
     "model_module": "@jupyter-widgets/controls",
     "model_module_version": "1.5.0",
     "model_name": "DescriptionStyleModel",
     "state": {
      "_model_module": "@jupyter-widgets/controls",
      "_model_module_version": "1.5.0",
      "_model_name": "DescriptionStyleModel",
      "_view_count": null,
      "_view_module": "@jupyter-widgets/base",
      "_view_module_version": "1.2.0",
      "_view_name": "StyleView",
      "description_width": ""
     }
    },
    "f49984a04e4e4c94b416c95360a8f739": {
     "model_module": "@jupyter-widgets/controls",
     "model_module_version": "1.5.0",
     "model_name": "TextModel",
     "state": {
      "_dom_classes": [],
      "_model_module": "@jupyter-widgets/controls",
      "_model_module_version": "1.5.0",
      "_model_name": "TextModel",
      "_view_count": null,
      "_view_module": "@jupyter-widgets/controls",
      "_view_module_version": "1.5.0",
      "_view_name": "TextView",
      "continuous_update": true,
      "description": "condition",
      "description_tooltip": null,
      "disabled": false,
      "layout": "IPY_MODEL_adf766f580a04576a4d8a3b8ca8a7885",
      "placeholder": "​",
      "style": "IPY_MODEL_60546bdef0ab491da625dfd00637b1cb",
      "value": "DMSO"
     }
    },
    "f766125731984384bfcdd7fe57ad2866": {
     "model_module": "@jupyter-widgets/controls",
     "model_module_version": "1.5.0",
     "model_name": "DescriptionStyleModel",
     "state": {
      "_model_module": "@jupyter-widgets/controls",
      "_model_module_version": "1.5.0",
      "_model_name": "DescriptionStyleModel",
      "_view_count": null,
      "_view_module": "@jupyter-widgets/base",
      "_view_module_version": "1.2.0",
      "_view_name": "StyleView",
      "description_width": ""
     }
    },
    "f82428ab4f5444d7823aa3508760478d": {
     "model_module": "@jupyter-widgets/base",
     "model_module_version": "1.2.0",
     "model_name": "LayoutModel",
     "state": {
      "_model_module": "@jupyter-widgets/base",
      "_model_module_version": "1.2.0",
      "_model_name": "LayoutModel",
      "_view_count": null,
      "_view_module": "@jupyter-widgets/base",
      "_view_module_version": "1.2.0",
      "_view_name": "LayoutView",
      "align_content": null,
      "align_items": null,
      "align_self": null,
      "border": null,
      "bottom": null,
      "display": null,
      "flex": null,
      "flex_flow": null,
      "grid_area": null,
      "grid_auto_columns": null,
      "grid_auto_flow": null,
      "grid_auto_rows": null,
      "grid_column": null,
      "grid_gap": null,
      "grid_row": null,
      "grid_template_areas": null,
      "grid_template_columns": null,
      "grid_template_rows": null,
      "height": "30px",
      "justify_content": null,
      "justify_items": null,
      "left": null,
      "margin": null,
      "max_height": null,
      "max_width": null,
      "min_height": null,
      "min_width": null,
      "object_fit": null,
      "object_position": null,
      "order": null,
      "overflow": null,
      "overflow_x": null,
      "overflow_y": null,
      "padding": null,
      "right": null,
      "top": null,
      "visibility": null,
      "width": "35%"
     }
    },
    "f82ca8e7dec44e93b491487c1d643510": {
     "model_module": "@jupyter-widgets/base",
     "model_module_version": "1.2.0",
     "model_name": "LayoutModel",
     "state": {
      "_model_module": "@jupyter-widgets/base",
      "_model_module_version": "1.2.0",
      "_model_name": "LayoutModel",
      "_view_count": null,
      "_view_module": "@jupyter-widgets/base",
      "_view_module_version": "1.2.0",
      "_view_name": "LayoutView",
      "align_content": null,
      "align_items": null,
      "align_self": null,
      "border": null,
      "bottom": null,
      "display": null,
      "flex": null,
      "flex_flow": null,
      "grid_area": null,
      "grid_auto_columns": null,
      "grid_auto_flow": null,
      "grid_auto_rows": null,
      "grid_column": null,
      "grid_gap": null,
      "grid_row": null,
      "grid_template_areas": null,
      "grid_template_columns": null,
      "grid_template_rows": null,
      "height": "30px",
      "justify_content": null,
      "justify_items": null,
      "left": null,
      "margin": null,
      "max_height": null,
      "max_width": null,
      "min_height": null,
      "min_width": null,
      "object_fit": null,
      "object_position": null,
      "order": null,
      "overflow": null,
      "overflow_x": null,
      "overflow_y": null,
      "padding": null,
      "right": null,
      "top": null,
      "visibility": null,
      "width": "35%"
     }
    },
    "fe175e7e0f5c444389f132109980f71c": {
     "model_module": "@jupyter-widgets/controls",
     "model_module_version": "1.5.0",
     "model_name": "TextModel",
     "state": {
      "_dom_classes": [],
      "_model_module": "@jupyter-widgets/controls",
      "_model_module_version": "1.5.0",
      "_model_name": "TextModel",
      "_view_count": null,
      "_view_module": "@jupyter-widgets/controls",
      "_view_module_version": "1.5.0",
      "_view_name": "TextView",
      "continuous_update": true,
      "description": "condition",
      "description_tooltip": null,
      "disabled": false,
      "layout": "IPY_MODEL_aa35115a1afa4c0f9b374e3b8e06e0b8",
      "placeholder": "​",
      "style": "IPY_MODEL_d491e2143ae7498b833056e73ae6415b",
      "value": "LA"
     }
    }
   }
  }
 },
 "nbformat": 4,
 "nbformat_minor": 1
}
