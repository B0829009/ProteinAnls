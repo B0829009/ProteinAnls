{
  "cells": [
    {
      "cell_type": "markdown",
      "metadata": {
        "id": "h3iSZem3_XaV"
      },
      "source": [
        "# **connect to drive**"
      ]
    },
    {
      "cell_type": "code",
      "execution_count": null,
      "metadata": {
        "id": "yQQEkCa6-mBm",
        "colab": {
          "base_uri": "https://localhost:8080/"
        },
        "outputId": "826d1b15-84c5-4849-cc18-5efebeb14fc3"
      },
      "outputs": [
        {
          "output_type": "stream",
          "name": "stdout",
          "text": [
            "Mounted at /content/drive\n"
          ]
        }
      ],
      "source": [
        "from google.colab import drive\n",
        "\n",
        "drivePath = '/content/drive'\n",
        "\n",
        "drive.mount(drivePath)"
      ]
    },
    {
      "cell_type": "markdown",
      "metadata": {
        "id": "NJ8JsiLxdod0"
      },
      "source": [
        "#library"
      ]
    },
    {
      "cell_type": "code",
      "execution_count": null,
      "metadata": {
        "id": "qqgRU19l-0fO"
      },
      "outputs": [],
      "source": [
        "%reload_ext rpy2.ipython"
      ]
    },
    {
      "cell_type": "code",
      "execution_count": null,
      "metadata": {
        "id": "2tCeI1Ka-0kC",
        "colab": {
          "base_uri": "https://localhost:8080/"
        },
        "outputId": "68b49f17-645a-4529-c5a4-0ecdd692aa22"
      },
      "outputs": [
        {
          "output_type": "stream",
          "name": "stdout",
          "text": [
            "[1] \"/content/drive/MyDrive/Colab_Notebooks/r_lib\"\n"
          ]
        }
      ],
      "source": [
        "%%R\n",
        "lib_loc <- \"/content/drive/MyDrive/Colab_Notebooks/r_lib\"\n",
        "lib_loc"
      ]
    },
    {
      "cell_type": "code",
      "execution_count": null,
      "metadata": {
        "id": "00cGl2Hednqk",
        "colab": {
          "base_uri": "https://localhost:8080/"
        },
        "outputId": "88cc27cf-8373-4dbc-d3f1-cda24abaf0f7"
      },
      "outputs": [
        {
          "output_type": "stream",
          "name": "stdout",
          "text": [
            "Get:1 https://cloud.r-project.org/bin/linux/ubuntu bionic-cran40/ InRelease [3,626 B]\n",
            "Ign:2 https://developer.download.nvidia.com/compute/cuda/repos/ubuntu1804/x86_64  InRelease\n",
            "Ign:3 https://developer.download.nvidia.com/compute/machine-learning/repos/ubuntu1804/x86_64  InRelease\n",
            "Get:4 http://ppa.launchpad.net/c2d4u.team/c2d4u4.0+/ubuntu bionic InRelease [15.9 kB]\n",
            "Get:5 https://developer.download.nvidia.com/compute/cuda/repos/ubuntu1804/x86_64  Release [696 B]\n",
            "Hit:6 https://developer.download.nvidia.com/compute/machine-learning/repos/ubuntu1804/x86_64  Release\n",
            "Get:7 https://developer.download.nvidia.com/compute/cuda/repos/ubuntu1804/x86_64  Release.gpg [836 B]\n",
            "Hit:8 http://archive.ubuntu.com/ubuntu bionic InRelease\n",
            "Get:9 http://security.ubuntu.com/ubuntu bionic-security InRelease [88.7 kB]\n",
            "Get:10 http://archive.ubuntu.com/ubuntu bionic-updates InRelease [88.7 kB]\n",
            "Hit:11 http://ppa.launchpad.net/cran/libgit2/ubuntu bionic InRelease\n",
            "Get:13 http://ppa.launchpad.net/deadsnakes/ppa/ubuntu bionic InRelease [15.9 kB]\n",
            "Get:14 http://archive.ubuntu.com/ubuntu bionic-backports InRelease [74.6 kB]\n",
            "Get:15 https://developer.download.nvidia.com/compute/cuda/repos/ubuntu1804/x86_64  Packages [917 kB]\n",
            "Get:16 http://ppa.launchpad.net/graphics-drivers/ppa/ubuntu bionic InRelease [21.3 kB]\n",
            "Get:17 http://ppa.launchpad.net/c2d4u.team/c2d4u4.0+/ubuntu bionic/main Sources [1,826 kB]\n",
            "Get:18 http://security.ubuntu.com/ubuntu bionic-security/main amd64 Packages [2,565 kB]\n",
            "Get:19 http://archive.ubuntu.com/ubuntu bionic-updates/main amd64 Packages [3,004 kB]\n",
            "Get:20 http://ppa.launchpad.net/c2d4u.team/c2d4u4.0+/ubuntu bionic/main amd64 Packages [936 kB]\n",
            "Get:21 http://security.ubuntu.com/ubuntu bionic-security/universe amd64 Packages [1,470 kB]\n",
            "Get:22 http://security.ubuntu.com/ubuntu bionic-security/multiverse amd64 Packages [21.1 kB]\n",
            "Get:23 http://security.ubuntu.com/ubuntu bionic-security/restricted amd64 Packages [783 kB]\n",
            "Get:24 http://archive.ubuntu.com/ubuntu bionic-updates/restricted amd64 Packages [816 kB]\n",
            "Get:25 http://archive.ubuntu.com/ubuntu bionic-updates/universe amd64 Packages [2,248 kB]\n",
            "Get:26 http://archive.ubuntu.com/ubuntu bionic-updates/multiverse amd64 Packages [29.0 kB]\n",
            "Get:27 http://ppa.launchpad.net/deadsnakes/ppa/ubuntu bionic/main amd64 Packages [45.3 kB]\n",
            "Get:28 http://ppa.launchpad.net/graphics-drivers/ppa/ubuntu bionic/main amd64 Packages [42.8 kB]\n",
            "Fetched 15.0 MB in 4s (3,786 kB/s)\n",
            "Reading package lists... Done\n",
            "Reading package lists... Done\n",
            "Building dependency tree       \n",
            "Reading state information... Done\n",
            "The following packages were automatically installed and are no longer required:\n",
            "  cuda-command-line-tools-10-0 cuda-command-line-tools-10-1\n",
            "  cuda-command-line-tools-11-0 cuda-compiler-10-0 cuda-compiler-10-1\n",
            "  cuda-compiler-11-0 cuda-cuobjdump-10-0 cuda-cuobjdump-10-1\n",
            "  cuda-cuobjdump-11-0 cuda-cupti-10-0 cuda-cupti-10-1 cuda-cupti-11-0\n",
            "  cuda-cupti-dev-11-0 cuda-documentation-10-0 cuda-documentation-10-1\n",
            "  cuda-documentation-11-0 cuda-documentation-11-1 cuda-gdb-10-0 cuda-gdb-10-1\n",
            "  cuda-gdb-11-0 cuda-gpu-library-advisor-10-0 cuda-gpu-library-advisor-10-1\n",
            "  cuda-libraries-10-0 cuda-libraries-10-1 cuda-libraries-11-0\n",
            "  cuda-memcheck-10-0 cuda-memcheck-10-1 cuda-memcheck-11-0 cuda-nsight-10-0\n",
            "  cuda-nsight-10-1 cuda-nsight-11-0 cuda-nsight-11-1 cuda-nsight-compute-10-0\n",
            "  cuda-nsight-compute-10-1 cuda-nsight-compute-11-0 cuda-nsight-compute-11-1\n",
            "  cuda-nsight-systems-10-1 cuda-nsight-systems-11-0 cuda-nsight-systems-11-1\n",
            "  cuda-nvcc-10-0 cuda-nvcc-10-1 cuda-nvcc-11-0 cuda-nvdisasm-10-0\n",
            "  cuda-nvdisasm-10-1 cuda-nvdisasm-11-0 cuda-nvml-dev-10-0 cuda-nvml-dev-10-1\n",
            "  cuda-nvml-dev-11-0 cuda-nvprof-10-0 cuda-nvprof-10-1 cuda-nvprof-11-0\n",
            "  cuda-nvprune-10-0 cuda-nvprune-10-1 cuda-nvprune-11-0 cuda-nvtx-10-0\n",
            "  cuda-nvtx-10-1 cuda-nvtx-11-0 cuda-nvvp-10-0 cuda-nvvp-10-1 cuda-nvvp-11-0\n",
            "  cuda-nvvp-11-1 cuda-samples-10-0 cuda-samples-10-1 cuda-samples-11-0\n",
            "  cuda-samples-11-1 cuda-sanitizer-11-0 cuda-sanitizer-api-10-1\n",
            "  cuda-toolkit-10-0 cuda-toolkit-10-1 cuda-toolkit-11-0 cuda-toolkit-11-1\n",
            "  cuda-tools-10-0 cuda-tools-10-1 cuda-tools-11-0 cuda-tools-11-1\n",
            "  cuda-visual-tools-10-0 cuda-visual-tools-10-1 cuda-visual-tools-11-0\n",
            "  cuda-visual-tools-11-1 default-jre dkms freeglut3 freeglut3-dev\n",
            "  keyboard-configuration libargon2-0 libcap2 libcryptsetup12\n",
            "  libdevmapper1.02.1 libfontenc1 libidn11 libip4tc0 libjansson4\n",
            "  libnvidia-cfg1-510 libnvidia-common-460 libnvidia-common-510\n",
            "  libnvidia-extra-510 libnvidia-fbc1-510 libnvidia-gl-510 libpam-systemd\n",
            "  libpolkit-agent-1-0 libpolkit-backend-1-0 libpolkit-gobject-1-0 libxfont2\n",
            "  libxi-dev libxkbfile1 libxmu-dev libxmu-headers libxnvctrl0 libxtst6\n",
            "  nsight-compute-2020.2.1 nsight-compute-2022.1.0 nsight-systems-2020.3.2\n",
            "  nsight-systems-2020.3.4 nsight-systems-2021.5.2 nvidia-dkms-510\n",
            "  nvidia-kernel-common-510 nvidia-kernel-source-510 nvidia-modprobe\n",
            "  nvidia-settings openjdk-11-jre policykit-1 policykit-1-gnome python3-xkit\n",
            "  screen-resolution-extra systemd systemd-sysv udev x11-xkb-utils\n",
            "  xserver-common xserver-xorg-core-hwe-18.04 xserver-xorg-video-nvidia-510\n",
            "Use 'apt autoremove' to remove them.\n",
            "The following additional packages will be installed:\n",
            "  r-cran-gmm r-cran-mvtnorm r-cran-sandwich r-cran-zoo\n",
            "The following NEW packages will be installed:\n",
            "  r-cran-gmm r-cran-mvtnorm r-cran-sandwich r-cran-tmvtnorm r-cran-zoo\n",
            "0 upgraded, 5 newly installed, 0 to remove and 65 not upgraded.\n",
            "Need to get 4,742 kB of archives.\n",
            "After this operation, 5,682 kB of additional disk space will be used.\n",
            "Get:1 http://ppa.launchpad.net/c2d4u.team/c2d4u4.0+/ubuntu bionic/main amd64 r-cran-zoo amd64 1.8-9-1cran1.1804.0 [1,004 kB]\n",
            "Get:2 http://ppa.launchpad.net/c2d4u.team/c2d4u4.0+/ubuntu bionic/main amd64 r-cran-sandwich all 3.0-1-1cran1.1804.0 [1,474 kB]\n",
            "Get:3 http://ppa.launchpad.net/c2d4u.team/c2d4u4.0+/ubuntu bionic/main amd64 r-cran-gmm amd64 1.6-6-1cran1.1804.0 [1,423 kB]\n",
            "Get:4 http://ppa.launchpad.net/c2d4u.team/c2d4u4.0+/ubuntu bionic/main amd64 r-cran-mvtnorm amd64 1.1-3-1cran1.1804.0 [222 kB]\n",
            "Get:5 http://ppa.launchpad.net/c2d4u.team/c2d4u4.0+/ubuntu bionic/main amd64 r-cran-tmvtnorm amd64 1.4-10-1cran2.1804.0 [621 kB]\n",
            "Fetched 4,742 kB in 4s (1,098 kB/s)\n",
            "Selecting previously unselected package r-cran-zoo.\n",
            "(Reading database ... 155113 files and directories currently installed.)\n",
            "Preparing to unpack .../r-cran-zoo_1.8-9-1cran1.1804.0_amd64.deb ...\n",
            "Unpacking r-cran-zoo (1.8-9-1cran1.1804.0) ...\n",
            "Selecting previously unselected package r-cran-sandwich.\n",
            "Preparing to unpack .../r-cran-sandwich_3.0-1-1cran1.1804.0_all.deb ...\n",
            "Unpacking r-cran-sandwich (3.0-1-1cran1.1804.0) ...\n",
            "Selecting previously unselected package r-cran-gmm.\n",
            "Preparing to unpack .../r-cran-gmm_1.6-6-1cran1.1804.0_amd64.deb ...\n",
            "Unpacking r-cran-gmm (1.6-6-1cran1.1804.0) ...\n",
            "Selecting previously unselected package r-cran-mvtnorm.\n",
            "Preparing to unpack .../r-cran-mvtnorm_1.1-3-1cran1.1804.0_amd64.deb ...\n",
            "Unpacking r-cran-mvtnorm (1.1-3-1cran1.1804.0) ...\n",
            "Selecting previously unselected package r-cran-tmvtnorm.\n",
            "Preparing to unpack .../r-cran-tmvtnorm_1.4-10-1cran2.1804.0_amd64.deb ...\n",
            "Unpacking r-cran-tmvtnorm (1.4-10-1cran2.1804.0) ...\n",
            "Setting up r-cran-zoo (1.8-9-1cran1.1804.0) ...\n",
            "Setting up r-cran-mvtnorm (1.1-3-1cran1.1804.0) ...\n",
            "Setting up r-cran-sandwich (3.0-1-1cran1.1804.0) ...\n",
            "Setting up r-cran-gmm (1.6-6-1cran1.1804.0) ...\n",
            "Setting up r-cran-tmvtnorm (1.4-10-1cran2.1804.0) ...\n"
          ]
        }
      ],
      "source": [
        "!apt-get update\n",
        "!apt-get install r-cran-tmvtnorm"
      ]
    },
    {
      "cell_type": "code",
      "execution_count": null,
      "metadata": {
        "colab": {
          "base_uri": "https://localhost:8080/"
        },
        "id": "LHyoqHpkduwD",
        "outputId": "e0faa5da-bad3-4a6c-afcb-c2a25335006b"
      },
      "outputs": [
        {
          "output_type": "stream",
          "name": "stderr",
          "text": [
            "R[write to console]: \n",
            "Attaching package: ‘dplyr’\n",
            "\n",
            "\n",
            "R[write to console]: The following objects are masked from ‘package:stats’:\n",
            "\n",
            "    filter, lag\n",
            "\n",
            "\n",
            "R[write to console]: The following objects are masked from ‘package:base’:\n",
            "\n",
            "    intersect, setdiff, setequal, union\n",
            "\n",
            "\n",
            "R[write to console]: \n",
            "Attaching package: ‘gridExtra’\n",
            "\n",
            "\n",
            "R[write to console]: The following object is masked from ‘package:dplyr’:\n",
            "\n",
            "    combine\n",
            "\n",
            "\n",
            "R[write to console]: Loading required package: ggplot2\n",
            "\n"
          ]
        }
      ],
      "source": [
        "%%R\n",
        "library(DEP, lib=lib_loc)\n",
        "library(\"dplyr\")\n",
        "library(gridExtra,lib=lib_loc)\n",
        "library(fdrtool,lib=lib_loc)\n",
        "library(ggrepel,lib=lib_loc)"
      ]
    },
    {
      "cell_type": "markdown",
      "metadata": {
        "id": "OYVHWo7EgRlk"
      },
      "source": [
        "#widgets"
      ]
    },
    {
      "cell_type": "markdown",
      "metadata": {
        "id": "8bz5xuiWghSk"
      },
      "source": [
        "generate_checkbox(description, id)"
      ]
    },
    {
      "cell_type": "code",
      "execution_count": null,
      "metadata": {
        "id": "-yoCqJa9gpuI"
      },
      "outputs": [],
      "source": [
        "import ipywidgets as widgets\n",
        "\n",
        "#generate_checkbox(description, id)\n",
        "def generate_checkbox(description, id):\n",
        "  check_box = widgets.Checkbox(\n",
        "        value=False, \n",
        "        description=description,\n",
        "        disabled=False, \n",
        "        indent=False, \n",
        "  )\n",
        "  def on_checkbox_change(change):\n",
        "    \n",
        "    if(check_box.value):\n",
        "        experimental_design.at[id, 'state'] = \"True\"\n",
        "        experimental_design.at[id, 'label'] = df_colname_py[id-1]\n",
        "    else :\n",
        "        experimental_design.at[id, 'state'] = \"False\"\n",
        "    #print(check_box.value)\n",
        "  display(check_box)\n",
        "  check_box.observe(on_checkbox_change, names=\"value\")\n"
      ]
    },
    {
      "cell_type": "markdown",
      "metadata": {
        "id": "7beJcjQhgizO"
      },
      "source": [
        "generate_text(id, placeholder)"
      ]
    },
    {
      "cell_type": "code",
      "execution_count": null,
      "metadata": {
        "id": "sHn5fLqBgvoH"
      },
      "outputs": [],
      "source": [
        "#text\n",
        "def generate_text(id, placeholder):\n",
        "\n",
        "  text = widgets.Text(\n",
        "      value='',\n",
        "      #placeholder=placeholder,\n",
        "      description=placeholder,\n",
        "      disabled=False,\n",
        "      layout = widgets.Layout(height=\"30px\", width=\"35%\")\n",
        "  )\n",
        "  def on_text_change(change):\n",
        "    experimental_design.at[id, placeholder] = text.value\n",
        "    #print(experimental_design)\n",
        "\n",
        "  display(text)\n",
        "  text.observe(on_text_change, names=\"value\")\n"
      ]
    },
    {
      "cell_type": "markdown",
      "metadata": {
        "id": "FStNRGUdgVLc"
      },
      "source": [
        "generate_button(count,description)\n"
      ]
    },
    {
      "cell_type": "code",
      "execution_count": null,
      "metadata": {
        "id": "6BR5y0Qrk3CJ"
      },
      "outputs": [],
      "source": [
        "def generate_button(count,description):\n",
        "  button = widgets.Button(description=description)\n",
        "  output = widgets.Output()\n",
        "  display(button, output)\n",
        "  def on_button_clicked(b):\n",
        "      with output:\n",
        "          if(count):\n",
        "            print(\"save to experimental_design.csv\")\n",
        "            \n",
        "            temp = experimental_design[(experimental_design.state != \"False\")]\n",
        "            temp = temp.drop(\"state\", axis=1)\n",
        "            temp.to_csv(\"experimental_design.csv\", index=False)\n",
        "          else :\n",
        "              temp = experimental_design[(experimental_design.state != \"False\")]\n",
        "              print(temp)\n",
        "              generate_button(1,\"check again\")\n",
        "  button.on_click(on_button_clicked)"
      ]
    },
    {
      "cell_type": "markdown",
      "metadata": {
        "id": "_2c-2Uq2iH5o"
      },
      "source": [
        "#選擇檔案"
      ]
    },
    {
      "cell_type": "code",
      "execution_count": null,
      "metadata": {
        "colab": {
          "base_uri": "https://localhost:8080/",
          "height": 113,
          "resources": {
            "http://localhost:8080/nbextensions/google.colab/files.js": {
              "data": "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",
              "headers": [
                [
                  "content-type",
                  "application/javascript"
                ]
              ],
              "ok": true,
              "status": 200,
              "status_text": ""
            }
          }
        },
        "id": "W9_JPa9_NOlN",
        "outputId": "7642b29a-03ae-46b3-92b5-1c04c3efbe53"
      },
      "outputs": [
        {
          "output_type": "stream",
          "name": "stdout",
          "text": [
            "rm: cannot remove 'drive': Is a directory\n",
            "rm: cannot remove 'sample_data': Is a directory\n"
          ]
        },
        {
          "output_type": "display_data",
          "data": {
            "text/html": [
              "\n",
              "     <input type=\"file\" id=\"files-902ed999-ca53-4405-aadc-437efa8cf175\" name=\"files[]\" multiple disabled\n",
              "        style=\"border:none\" />\n",
              "     <output id=\"result-902ed999-ca53-4405-aadc-437efa8cf175\">\n",
              "      Upload widget is only available when the cell has been executed in the\n",
              "      current browser session. Please rerun this cell to enable.\n",
              "      </output>\n",
              "      <script src=\"/nbextensions/google.colab/files.js\"></script> "
            ],
            "text/plain": [
              "<IPython.core.display.HTML object>"
            ]
          },
          "metadata": {}
        },
        {
          "output_type": "stream",
          "name": "stdout",
          "text": [
            "Saving proteinGroups_HsinYuan_Rat.txt to proteinGroups_HsinYuan_Rat.txt\n"
          ]
        }
      ],
      "source": [
        "#上傳檔案到colab\n",
        "from google.colab import files\n",
        "from rpy2.robjects import r\n",
        "import rpy2.robjects as robjects\n",
        "\n",
        "!rm * -f #delete all temporary file \n",
        "file=files.upload()\n",
        "\n",
        "if (file):\n",
        "  filename = next(iter(file))\n",
        "  if (filename.count(\".txt\") | filename.count(\".csv\")): #可以接受檔名為 .txt 與 .csv 的檔案\n",
        "    r = robjects.r\n",
        "    r.assign('filename', filename) #將檔案名稱python -> R\n",
        "  else :\n",
        "    print(\"請再次執行此儲存格，並選擇.csv或.txt檔\")\n",
        "else:\n",
        "  print(\"請再次執行此儲存格，並選擇一個檔案\")"
      ]
    },
    {
      "cell_type": "markdown",
      "metadata": {
        "id": "gT6BKJ7hNOlM"
      },
      "source": [
        "#DEP data"
      ]
    },
    {
      "cell_type": "code",
      "execution_count": null,
      "metadata": {
        "colab": {
          "base_uri": "https://localhost:8080/"
        },
        "id": "4vlxvW_sNOlN",
        "outputId": "b2f05d32-0bda-4b3d-9031-ea4d1bde2239"
      },
      "outputs": [
        {
          "output_type": "stream",
          "name": "stdout",
          "text": [
            "file's row * column = 2291 122 \n",
            "**colnames: \n",
            "  [1] \"Protein.IDs\"                         \n",
            "  [2] \"Majority.protein.IDs\"                \n",
            "  [3] \"Peptide.counts..all.\"                \n",
            "  [4] \"Peptide.counts..razor.unique.\"       \n",
            "  [5] \"Peptide.counts..unique.\"             \n",
            "  [6] \"Protein.names\"                       \n",
            "  [7] \"Gene.names\"                          \n",
            "  [8] \"Fasta.headers\"                       \n",
            "  [9] \"Number.of.proteins\"                  \n",
            " [10] \"Peptides\"                            \n",
            " [11] \"Razor...unique.peptides\"             \n",
            " [12] \"Unique.peptides\"                     \n",
            " [13] \"Peptides.AGE\"                        \n",
            " [14] \"Peptides.FPS\"                        \n",
            " [15] \"Razor...unique.peptides.AGE\"         \n",
            " [16] \"Razor...unique.peptides.FPS\"         \n",
            " [17] \"Unique.peptides.AGE\"                 \n",
            " [18] \"Unique.peptides.FPS\"                 \n",
            " [19] \"Sequence.coverage....\"               \n",
            " [20] \"Unique...razor.sequence.coverage....\"\n",
            " [21] \"Unique.sequence.coverage....\"        \n",
            " [22] \"Mol..weight..kDa.\"                   \n",
            " [23] \"Sequence.length\"                     \n",
            " [24] \"Sequence.lengths\"                    \n",
            " [25] \"Fraction.average\"                    \n",
            " [26] \"Fraction.1\"                          \n",
            " [27] \"Fraction.2\"                          \n",
            " [28] \"Fraction.3\"                          \n",
            " [29] \"Fraction.4\"                          \n",
            " [30] \"Fraction.5\"                          \n",
            " [31] \"Fraction.6\"                          \n",
            " [32] \"Fraction.7\"                          \n",
            " [33] \"Fraction.8\"                          \n",
            " [34] \"Q.value\"                             \n",
            " [35] \"Score\"                               \n",
            " [36] \"Identification.type.AGE\"             \n",
            " [37] \"Identification.type.FPS\"             \n",
            " [38] \"Reporter.intensity.corrected.1.AGE\"  \n",
            " [39] \"Reporter.intensity.corrected.2.AGE\"  \n",
            " [40] \"Reporter.intensity.corrected.3.AGE\"  \n",
            " [41] \"Reporter.intensity.corrected.4.AGE\"  \n",
            " [42] \"Reporter.intensity.corrected.5.AGE\"  \n",
            " [43] \"Reporter.intensity.corrected.6.AGE\"  \n",
            " [44] \"Reporter.intensity.corrected.7.AGE\"  \n",
            " [45] \"Reporter.intensity.corrected.8.AGE\"  \n",
            " [46] \"Reporter.intensity.corrected.9.AGE\"  \n",
            " [47] \"Reporter.intensity.corrected.10.AGE\" \n",
            " [48] \"Reporter.intensity.corrected.11.AGE\" \n",
            " [49] \"Reporter.intensity.corrected.1.FPS\"  \n",
            " [50] \"Reporter.intensity.corrected.2.FPS\"  \n",
            " [51] \"Reporter.intensity.corrected.3.FPS\"  \n",
            " [52] \"Reporter.intensity.corrected.4.FPS\"  \n",
            " [53] \"Reporter.intensity.corrected.5.FPS\"  \n",
            " [54] \"Reporter.intensity.corrected.6.FPS\"  \n",
            " [55] \"Reporter.intensity.corrected.7.FPS\"  \n",
            " [56] \"Reporter.intensity.corrected.8.FPS\"  \n",
            " [57] \"Reporter.intensity.corrected.9.FPS\"  \n",
            " [58] \"Reporter.intensity.corrected.10.FPS\" \n",
            " [59] \"Reporter.intensity.corrected.11.FPS\" \n",
            " [60] \"Reporter.intensity.1.AGE\"            \n",
            " [61] \"Reporter.intensity.2.AGE\"            \n",
            " [62] \"Reporter.intensity.3.AGE\"            \n",
            " [63] \"Reporter.intensity.4.AGE\"            \n",
            " [64] \"Reporter.intensity.5.AGE\"            \n",
            " [65] \"Reporter.intensity.6.AGE\"            \n",
            " [66] \"Reporter.intensity.7.AGE\"            \n",
            " [67] \"Reporter.intensity.8.AGE\"            \n",
            " [68] \"Reporter.intensity.9.AGE\"            \n",
            " [69] \"Reporter.intensity.10.AGE\"           \n",
            " [70] \"Reporter.intensity.11.AGE\"           \n",
            " [71] \"Reporter.intensity.1.FPS\"            \n",
            " [72] \"Reporter.intensity.2.FPS\"            \n",
            " [73] \"Reporter.intensity.3.FPS\"            \n",
            " [74] \"Reporter.intensity.4.FPS\"            \n",
            " [75] \"Reporter.intensity.5.FPS\"            \n",
            " [76] \"Reporter.intensity.6.FPS\"            \n",
            " [77] \"Reporter.intensity.7.FPS\"            \n",
            " [78] \"Reporter.intensity.8.FPS\"            \n",
            " [79] \"Reporter.intensity.9.FPS\"            \n",
            " [80] \"Reporter.intensity.10.FPS\"           \n",
            " [81] \"Reporter.intensity.11.FPS\"           \n",
            " [82] \"Reporter.intensity.count.1.AGE\"      \n",
            " [83] \"Reporter.intensity.count.2.AGE\"      \n",
            " [84] \"Reporter.intensity.count.3.AGE\"      \n",
            " [85] \"Reporter.intensity.count.4.AGE\"      \n",
            " [86] \"Reporter.intensity.count.5.AGE\"      \n",
            " [87] \"Reporter.intensity.count.6.AGE\"      \n",
            " [88] \"Reporter.intensity.count.7.AGE\"      \n",
            " [89] \"Reporter.intensity.count.8.AGE\"      \n",
            " [90] \"Reporter.intensity.count.9.AGE\"      \n",
            " [91] \"Reporter.intensity.count.10.AGE\"     \n",
            " [92] \"Reporter.intensity.count.11.AGE\"     \n",
            " [93] \"Reporter.intensity.count.1.FPS\"      \n",
            " [94] \"Reporter.intensity.count.2.FPS\"      \n",
            " [95] \"Reporter.intensity.count.3.FPS\"      \n",
            " [96] \"Reporter.intensity.count.4.FPS\"      \n",
            " [97] \"Reporter.intensity.count.5.FPS\"      \n",
            " [98] \"Reporter.intensity.count.6.FPS\"      \n",
            " [99] \"Reporter.intensity.count.7.FPS\"      \n",
            "[100] \"Reporter.intensity.count.8.FPS\"      \n",
            "[101] \"Reporter.intensity.count.9.FPS\"      \n",
            "[102] \"Reporter.intensity.count.10.FPS\"     \n",
            "[103] \"Reporter.intensity.count.11.FPS\"     \n",
            "[104] \"Sequence.coverage.AGE....\"           \n",
            "[105] \"Sequence.coverage.FPS....\"           \n",
            "[106] \"Intensity\"                           \n",
            "[107] \"Intensity.AGE\"                       \n",
            "[108] \"Intensity.FPS\"                       \n",
            "[109] \"MS.MS.count\"                         \n",
            "[110] \"Only.identified.by.site\"             \n",
            "[111] \"Reverse\"                             \n",
            "[112] \"Potential.contaminant\"               \n",
            "[113] \"id\"                                  \n",
            "[114] \"Peptide.IDs\"                         \n",
            "[115] \"Peptide.is.razor\"                    \n",
            "[116] \"Mod..peptide.IDs\"                    \n",
            "[117] \"Evidence.IDs\"                        \n",
            "[118] \"MS.MS.IDs\"                           \n",
            "[119] \"Best.MS.MS\"                          \n",
            "[120] \"Oxidation..M..site.IDs\"              \n",
            "[121] \"Oxidation..M..site.positions\"        \n",
            "[122] \"Taxonomy.IDs\"                        \n",
            "        Protein.IDs Majority.protein.IDs Peptide.counts..all.\n",
            "1 A0A0G2JTR4;F1LXF1           A0A0G2JTR4                  6;1\n",
            "2        A0A0G2JV04           A0A0G2JV04                    3\n",
            "3        A0A0G2K2P5           A0A0G2K2P5                   27\n",
            "4            A0JPJ7               A0JPJ7                   16\n",
            "5            A0JPM9               A0JPM9                    9\n",
            "6            A0JPQ9               A0JPQ9                    4\n",
            "  Peptide.counts..razor.unique. Peptide.counts..unique.\n",
            "1                           6;1                     6;1\n",
            "2                             3                       3\n",
            "3                            27                      27\n",
            "4                            16                      16\n",
            "5                             9                       9\n",
            "6                             4                       4\n",
            "                                         Protein.names Gene.names\n",
            "1                                                                \n",
            "2                                                                \n",
            "3                                                                \n",
            "4                                    Obg-like ATPase 1       Ola1\n",
            "5 Eukaryotic translation initiation factor 3 subunit J      Eif3j\n",
            "6                Chitinase domain-containing protein 1      Chid1\n",
            "                                                                                                              Fasta.headers\n",
            "1     sp|A0A0G2JTR4|ABR_RAT Active breakpoint cluster region-related protein OS=Rattus norvegicus OX=10116 GN=Abr PE=1 SV=2\n",
            "2       sp|A0A0G2JV04|GGA3_RAT ADP-ribosylation factor-binding protein GGA3 OS=Rattus norvegicus OX=10116 GN=Gga3 PE=1 SV=1\n",
            "3                         sp|A0A0G2K2P5|ZO1_RAT Tight junction protein ZO-1 OS=Rattus norvegicus OX=10116 GN=Tjp1 PE=1 SV=1\n",
            "4                                      sp|A0JPJ7|OLA1_RAT Obg-like ATPase 1 OS=Rattus norvegicus OX=10116 GN=Ola1 PE=2 SV=1\n",
            "5 sp|A0JPM9|EIF3J_RAT Eukaryotic translation initiation factor 3 subunit J OS=Rattus norvegicus OX=10116 GN=Eif3j PE=1 SV=1\n",
            "6                sp|A0JPQ9|CHID1_RAT Chitinase domain-containing protein 1 OS=Rattus norvegicus OX=10116 GN=Chid1 PE=2 SV=2\n",
            "  Number.of.proteins Peptides Razor...unique.peptides Unique.peptides\n",
            "1                  2        6                       6               6\n",
            "2                  1        3                       3               3\n",
            "3                  1       27                      27              27\n",
            "4                  1       16                      16              16\n",
            "5                  1        9                       9               9\n",
            "6                  1        4                       4               4\n",
            "  Peptides.AGE Peptides.FPS Razor...unique.peptides.AGE\n",
            "1            6            3                           6\n",
            "2            3            3                           3\n",
            "3           24           25                          24\n",
            "4           13           15                          13\n",
            "5            8            9                           8\n",
            "6            2            4                           2\n",
            "  Razor...unique.peptides.FPS Unique.peptides.AGE Unique.peptides.FPS\n",
            "1                           3                   6                   3\n",
            "2                           3                   3                   3\n",
            "3                          25                  24                  25\n",
            "4                          15                  13                  15\n",
            "5                           9                   8                   9\n",
            "6                           4                   2                   4\n",
            "  Sequence.coverage.... Unique...razor.sequence.coverage....\n",
            "1                   9.9                                  9.9\n",
            "2                   4.5                                  4.5\n",
            "3                  21.6                                 21.6\n",
            "4                  49.0                                 49.0\n",
            "5                  47.5                                 47.5\n",
            "6                  12.5                                 12.5\n",
            "  Unique.sequence.coverage.... Mol..weight..kDa. Sequence.length\n",
            "1                          9.9            97.692             859\n",
            "2                          4.5            78.758             727\n",
            "3                         21.6           197.150            1765\n",
            "4                         49.0            44.535             396\n",
            "5                         47.5            29.187             259\n",
            "6                         12.5            44.874             393\n",
            "  Sequence.lengths Fraction.average Fraction.1 Fraction.2 Fraction.3 Fraction.4\n",
            "1         859;1062             5.57          2         NA          1         NA\n",
            "2              727             4.29          3          2         NA          2\n",
            "3             1765             3.98         16          9         12         15\n",
            "4              396             4.33         12          4         10          7\n",
            "5              259             3.09         11         13          8          4\n",
            "6              393             2.22          5          2         NA         NA\n",
            "  Fraction.5 Fraction.6 Fraction.7 Fraction.8 Q.value   Score\n",
            "1          3          2          2          4       0  53.863\n",
            "2          3         NA          2          2       0  17.827\n",
            "3          9          4          5         11       0 277.910\n",
            "4          3         NA          7         12       0 156.560\n",
            "5          1         NA          2          5       0 146.060\n",
            "6          1          1         NA         NA       0  64.592\n",
            "  Identification.type.AGE Identification.type.FPS\n",
            "1                By MS/MS                By MS/MS\n",
            "2                By MS/MS                By MS/MS\n",
            "3                By MS/MS                By MS/MS\n",
            "4                By MS/MS                By MS/MS\n",
            "5                By MS/MS                By MS/MS\n",
            "6                By MS/MS                By MS/MS\n",
            "  Reporter.intensity.corrected.1.AGE Reporter.intensity.corrected.2.AGE\n",
            "1                                  0                                  0\n",
            "2                            7074700                            7091600\n",
            "3                            5848100                           15410000\n",
            "4                           27483000                           34467000\n",
            "5                           16887000                           17952000\n",
            "6                                  0                                  0\n",
            "  Reporter.intensity.corrected.3.AGE Reporter.intensity.corrected.4.AGE\n",
            "1                                  0                                0.0\n",
            "2                              26476                                0.0\n",
            "3                             778560                            92235.0\n",
            "4                             311890                            70126.0\n",
            "5                             124690                             5509.4\n",
            "6                                  0                                0.0\n",
            "  Reporter.intensity.corrected.5.AGE Reporter.intensity.corrected.6.AGE\n",
            "1                                  0                                  0\n",
            "2                            6511800                            6909600\n",
            "3                           15826000                           28320000\n",
            "4                           34691000                           36309000\n",
            "5                           16586000                           15803000\n",
            "6                                  0                                  0\n",
            "  Reporter.intensity.corrected.7.AGE Reporter.intensity.corrected.8.AGE\n",
            "1                                  0                                  0\n",
            "2                            7801800                            8447700\n",
            "3                           31143000                           47157000\n",
            "4                           51045000                           50738000\n",
            "5                           20890000                           18815000\n",
            "6                                  0                                  0\n",
            "  Reporter.intensity.corrected.9.AGE Reporter.intensity.corrected.10.AGE\n",
            "1                                  0                                   0\n",
            "2                            5749900                             8107900\n",
            "3                           45007000                            47121000\n",
            "4                           46722000                            48610000\n",
            "5                           19977000                            18546000\n",
            "6                                  0                                   0\n",
            "  Reporter.intensity.corrected.11.AGE Reporter.intensity.corrected.1.FPS\n",
            "1                                   0                            2658000\n",
            "2                             6288700                            8265200\n",
            "3                            46679000                           17112000\n",
            "4                            47976000                           51699000\n",
            "5                            18568000                           12163000\n",
            "6                                   0                                  0\n",
            "  Reporter.intensity.corrected.2.FPS Reporter.intensity.corrected.3.FPS\n",
            "1                            2968900                              41936\n",
            "2                            7903400                              25990\n",
            "3                           18186000                             120030\n",
            "4                           49736000                             292160\n",
            "5                           11835000                              30458\n",
            "6                                  0                                  0\n",
            "  Reporter.intensity.corrected.4.FPS Reporter.intensity.corrected.5.FPS\n",
            "1                            3004600                              34137\n",
            "2                            7738500                              90027\n",
            "3                           16851000                             132680\n",
            "4                           45449000                             538440\n",
            "5                           11464000                             108810\n",
            "6                                  0                                  0\n",
            "  Reporter.intensity.corrected.6.FPS Reporter.intensity.corrected.7.FPS\n",
            "1                            3077900                            3165800\n",
            "2                           10910000                           10222000\n",
            "3                           22854000                           22882000\n",
            "4                           48300000                           46741000\n",
            "5                            9858100                           10490000\n",
            "6                                  0                                  0\n",
            "  Reporter.intensity.corrected.8.FPS Reporter.intensity.corrected.9.FPS\n",
            "1                            3256600                            3072900\n",
            "2                           10701000                           10343000\n",
            "3                           38080000                           37370000\n",
            "4                           50310000                           50706000\n",
            "5                           11929000                           11429000\n",
            "6                                  0                                  0\n",
            "  Reporter.intensity.corrected.10.FPS Reporter.intensity.corrected.11.FPS\n",
            "1                             4331200                             3605900\n",
            "2                            11791000                             9286400\n",
            "3                            47273000                            36897000\n",
            "4                            57170000                            44861000\n",
            "5                            12786000                            10786000\n",
            "6                                   0                                   0\n",
            "  Reporter.intensity.1.AGE Reporter.intensity.2.AGE Reporter.intensity.3.AGE\n",
            "1                        0                        0                        0\n",
            "2                  6587400                  6590200                   603330\n",
            "3                  5445800                 14322000                  1350200\n",
            "4                 25591000                 32030000                  2539000\n",
            "5                 15724000                 16684000                  1449900\n",
            "6                        0                        0                        0\n",
            "  Reporter.intensity.4.AGE Reporter.intensity.5.AGE Reporter.intensity.6.AGE\n",
            "1                        0                        0                        0\n",
            "2                   479130                  6277900                  6639100\n",
            "3                  1372300                 15264000                 27176000\n",
            "4                  2235600                 33422000                 35033000\n",
            "5                  1459800                 16016000                 15189000\n",
            "6                        0                        0                        0\n",
            "  Reporter.intensity.7.AGE Reporter.intensity.8.AGE Reporter.intensity.9.AGE\n",
            "1                        0                        0                        0\n",
            "2                  7782700                  8501200                  5958400\n",
            "3                 30722000                 46995000                 45240000\n",
            "4                 50788000                 50795000                 47766000\n",
            "5                 20936000                 18970000                 20313000\n",
            "6                        0                        0                        0\n",
            "  Reporter.intensity.10.AGE Reporter.intensity.11.AGE Reporter.intensity.1.FPS\n",
            "1                         0                         0                  2475100\n",
            "2                   7932600                   6049800                  7695400\n",
            "3                  46022000                  44978000                 15934000\n",
            "4                  47563000                  46242000                 48139000\n",
            "5                  18124000                  17956000                 11325000\n",
            "6                         0                         0                        0\n",
            "  Reporter.intensity.2.FPS Reporter.intensity.3.FPS Reporter.intensity.4.FPS\n",
            "1                  2770400                   222700                  3063800\n",
            "2                  7374100                   541910                  7953600\n",
            "3                 16964000                  1267800                 17191000\n",
            "4                 46393000                  3842000                 46567000\n",
            "5                 11042000                   861850                 11698000\n",
            "6                        0                        0                        0\n",
            "  Reporter.intensity.5.FPS Reporter.intensity.6.FPS Reporter.intensity.7.FPS\n",
            "1                   114000                  3135100                  3044600\n",
            "2                   339170                 10914000                  9842700\n",
            "3                   440450                 22950000                 22058000\n",
            "4                  1552200                 49074000                 45119000\n",
            "5                   366760                 10188000                 10127000\n",
            "6                        0                        0                        0\n",
            "  Reporter.intensity.8.FPS Reporter.intensity.9.FPS Reporter.intensity.10.FPS\n",
            "1                  3334200                  3149100                   4185800\n",
            "2                 10923000                 10479000                  11471000\n",
            "3                 38224000                 37366000                  45791000\n",
            "4                 51255000                 51204000                  55552000\n",
            "5                 12050000                 11563000                  12452000\n",
            "6                        0                        0                         0\n",
            "  Reporter.intensity.11.FPS Reporter.intensity.count.1.AGE\n",
            "1                   3461900                              0\n",
            "2                   8990900                              2\n",
            "3                  35608000                              2\n",
            "4                  43457000                              4\n",
            "5                  10425000                              2\n",
            "6                         0                              0\n",
            "  Reporter.intensity.count.2.AGE Reporter.intensity.count.3.AGE\n",
            "1                              0                              0\n",
            "2                              2                              2\n",
            "3                              3                              3\n",
            "4                              4                              3\n",
            "5                              2                              1\n",
            "6                              0                              0\n",
            "  Reporter.intensity.count.4.AGE Reporter.intensity.count.5.AGE\n",
            "1                              0                              0\n",
            "2                              0                              2\n",
            "3                              2                              3\n",
            "4                              1                              4\n",
            "5                              1                              2\n",
            "6                              0                              0\n",
            "  Reporter.intensity.count.6.AGE Reporter.intensity.count.7.AGE\n",
            "1                              0                              0\n",
            "2                              2                              2\n",
            "3                              5                              5\n",
            "4                              6                              6\n",
            "5                              2                              2\n",
            "6                              0                              0\n",
            "  Reporter.intensity.count.8.AGE Reporter.intensity.count.9.AGE\n",
            "1                              0                              0\n",
            "2                              2                              2\n",
            "3                              7                              7\n",
            "4                              6                              6\n",
            "5                              2                              2\n",
            "6                              0                              0\n",
            "  Reporter.intensity.count.10.AGE Reporter.intensity.count.11.AGE\n",
            "1                               0                               0\n",
            "2                               2                               2\n",
            "3                               7                               7\n",
            "4                               6                               6\n",
            "5                               2                               2\n",
            "6                               0                               0\n",
            "  Reporter.intensity.count.1.FPS Reporter.intensity.count.2.FPS\n",
            "1                              1                              1\n",
            "2                              3                              3\n",
            "3                              3                              3\n",
            "4                              6                              6\n",
            "5                              2                              2\n",
            "6                              0                              0\n",
            "  Reporter.intensity.count.3.FPS Reporter.intensity.count.4.FPS\n",
            "1                              1                              1\n",
            "2                              1                              3\n",
            "3                              2                              3\n",
            "4                              6                              6\n",
            "5                              1                              2\n",
            "6                              0                              0\n",
            "  Reporter.intensity.count.5.FPS Reporter.intensity.count.6.FPS\n",
            "1                              1                              1\n",
            "2                              3                              3\n",
            "3                              3                              5\n",
            "4                              6                              8\n",
            "5                              2                              2\n",
            "6                              0                              0\n",
            "  Reporter.intensity.count.7.FPS Reporter.intensity.count.8.FPS\n",
            "1                              1                              1\n",
            "2                              3                              3\n",
            "3                              5                              7\n",
            "4                              8                              8\n",
            "5                              2                              2\n",
            "6                              0                              0\n",
            "  Reporter.intensity.count.9.FPS Reporter.intensity.count.10.FPS\n",
            "1                              1                               1\n",
            "2                              3                               3\n",
            "3                              7                               7\n",
            "4                              8                               8\n",
            "5                              2                               2\n",
            "6                              0                               0\n",
            "  Reporter.intensity.count.11.FPS Sequence.coverage.AGE....\n",
            "1                               1                       9.9\n",
            "2                               3                       4.5\n",
            "3                               7                      19.0\n",
            "4                               8                      40.4\n",
            "5                               2                      39.0\n",
            "6                               0                       5.9\n",
            "  Sequence.coverage.FPS....  Intensity Intensity.AGE Intensity.FPS MS.MS.count\n",
            "1                       3.6 5.6230e+09    2.2871e+09    3.3359e+09          12\n",
            "2                       4.5 1.3575e+09    7.5912e+08    5.9841e+08           8\n",
            "3                      20.3 2.1167e+10    1.0784e+10    1.0383e+10          85\n",
            "4                      45.7 2.2423e+10    1.2815e+10    9.6072e+09          60\n",
            "5                      47.5 1.5586e+10    7.4333e+09    8.1528e+09          38\n",
            "6                      12.5 1.5637e+09    6.5869e+08    9.0502e+08           9\n",
            "  Only.identified.by.site Reverse Potential.contaminant id\n",
            "1                                                        0\n",
            "2                                                        1\n",
            "3                                                        2\n",
            "4                                                        3\n",
            "5                                                        4\n",
            "6                                                        5\n",
            "                                                                                                                                   Peptide.IDs\n",
            "1                                                                                                               1059;5945;6021;6034;8068;11452\n",
            "2                                                                                                                                260;3254;6677\n",
            "3 183;367;1203;1850;2115;2306;2383;2692;3055;3785;3856;3995;4832;4876;6121;6583;7499;9323;9721;11278;11623;12048;12142;13600;13688;14350;14642\n",
            "4                                                          413;1675;2989;3956;5067;5613;5667;5885;6290;7623;9079;10534;11411;11608;14260;14496\n",
            "5                                                                                                 0;1859;4764;6075;6373;7617;10144;12879;13535\n",
            "6                                                                                                                        277;11531;12458;14011\n",
            "                                                                                                                        Peptide.is.razor\n",
            "1                                                                                                          True;True;True;True;True;True\n",
            "2                                                                                                                         True;True;True\n",
            "3 True;True;True;True;True;True;True;True;True;True;True;True;True;True;True;True;True;True;True;True;True;True;True;True;True;True;True\n",
            "4                                                        True;True;True;True;True;True;True;True;True;True;True;True;True;True;True;True\n",
            "5                                                                                           True;True;True;True;True;True;True;True;True\n",
            "6                                                                                                                    True;True;True;True\n",
            "                                                                                                                               Mod..peptide.IDs\n",
            "1                                                                                                                1093;6135;6214;6227;8312;11852\n",
            "2                                                                                                                                 267;3354;6886\n",
            "3 186;378;1248;1912;2184;2380;2457;2777;3148;3904;3977;4119;4976;5023;6317;6788;7727;9667;10074;11675;12027;12468;12565;14069;14159;14835;15134\n",
            "4                                                           425;1733;3079;4080;5222;5785;5839;6070;6488;7854;9417;10906;11809;12011;14743;14983\n",
            "5                                                                                                  0;1921;4907;6270;6572;7848;10503;13320;13997\n",
            "6                                                                                                                         284;11932;12888;14488\n",
            "                                                                                                                                                                                                                                                                                                                                                                                                                                                                               Evidence.IDs\n",
            "1                                                                                                                                                                                                                                                                                                                                                                                                        5671;31823;31824;31825;31826;32277;32278;32279;32280;32281;32338;42567;59285;59286\n",
            "2                                                                                                                                                                                                                                                                                                                                                                                                          1485;1486;1487;17138;17139;17140;17141;17142;17143;35705;35706;35707;35708;35709\n",
            "3 1041;1042;2059;2060;2061;6461;6462;6463;6464;9953;9954;9955;11285;11286;12216;12602;12603;14182;14183;14184;16093;16094;20067;20068;20069;20070;20448;21198;21199;21200;21201;25553;25554;25790;25791;25792;25793;25794;25795;25796;25797;25798;25799;25800;32824;32825;32826;32827;35086;35087;35088;35089;35090;39876;39877;39878;39879;49242;50949;50950;58414;58415;58416;58417;60198;62545;62546;63243;63244;63245;71573;71574;71575;71576;72101;72102;72103;75379;75380;75381;77031\n",
            "4                                                                                                                                                       2281;2282;2283;2284;9031;9032;15631;15632;15633;15634;21010;21011;21012;21013;21014;26915;26916;26917;29993;29994;29995;29996;29997;29998;29999;30273;30274;31530;31531;31532;33678;33679;40483;40484;48133;54592;54593;54594;54595;54596;54597;54598;54599;59041;59042;59043;59044;59045;59046;59047;59048;59049;60007;74959;76202\n",
            "5                                                                                                                                                                                                                                      0;1;2;3;9982;9983;9984;25165;25166;25167;25168;25169;32606;32607;32608;32609;34096;34097;34098;34099;34100;34101;40457;40458;40459;40460;40461;40462;40463;52875;52876;67187;71191;71192;71193;71194;71195;71196;71197;71198;71199;71200;71201;71202\n",
            "6                                                                                                                                                                                                                                                                                                                                                                                                                                       1582;1583;59674;59675;59676;59677;59678;64844;73631\n",
            "                                                                                                                                                                                                                                                                                                                                                                                                                                                                                                        MS.MS.IDs\n",
            "1                                                                                                                                                                                                                                                                                                                                                                                                                                            6032;6033;6034;33634;33635;34095;34096;34097;34156;44727;62081;62082\n",
            "2                                                                                                                                                                                                                                                                                                                                                                                                                                                                  1627;18190;18191;18192;18193;18194;37815;37816\n",
            "3 1152;1153;2266;2267;2268;2269;2270;6820;6821;6822;6823;6824;6825;6826;10577;10578;10579;12033;12034;13021;13417;15129;15130;15131;15132;15133;17102;17103;17104;17105;21361;21362;21363;21364;21764;22541;22542;22543;22544;27037;27038;27263;27264;27265;27266;27267;27268;27269;27270;27271;34671;34672;34673;37133;37134;37135;37136;37137;37138;41960;41961;41962;51593;53374;61155;61156;61157;61158;61159;63054;65522;65523;66313;66314;75221;75222;75223;75799;75800;75801;75802;79238;79239;79240;80991\n",
            "4                                                                                                                                                2503;2504;2505;2506;2507;9571;9572;16622;16623;16624;16625;16626;22351;22352;22353;22354;22355;28488;28489;28490;31718;31719;31720;31721;31722;32035;32036;33331;33332;35567;35568;42590;42591;42592;42593;50427;57153;57154;57155;57156;57157;57158;57159;57160;57161;57162;61835;61836;61837;61838;61839;61840;61841;61842;61843;61844;61845;62814;78804;80103\n",
            "5                                                                                                                                                                                                                                                                                         0;1;2;10609;10610;26649;26650;26651;34438;34439;34440;34441;36023;36024;36025;36026;36027;36028;42569;42570;42571;42572;42573;55403;70520;70521;74784;74785;74786;74787;74788;74789;74790;74791;74792;74793;74794;74795\n",
            "6                                                                                                                                                                                                                                                                                                                                                                                                                                                             1739;1740;62477;62478;62479;62480;62481;67960;77407\n",
            "                                                                                                                                                      Best.MS.MS\n",
            "1                                                                                                                             6032;33634;34095;34156;44727;62081\n",
            "2                                                                                                                                               1627;18190;37816\n",
            "3 1153;2269;6826;10578;12033;13021;13417;15130;17105;21361;21764;22542;27037;27266;34671;37136;41960;51593;53374;61157;63054;65522;66313;75222;75799;79238;80991\n",
            "4                                                                  2503;9571;16624;22351;28490;31718;32035;33331;35568;42592;50427;57157;61835;62814;78804;80103\n",
            "5                                                                                                              1;10610;26651;34441;36025;42569;55403;70520;74790\n",
            "6                                                                                                                                         1739;62478;67960;77407\n",
            "  Oxidation..M..site.IDs Oxidation..M..site.positions Taxonomy.IDs\n",
            "1                                                            -1;-1\n",
            "2                                                               -1\n",
            "3                                                               -1\n",
            "4                                                               -1\n",
            "5                                                               -1\n",
            "6                                                               -1\n"
          ]
        }
      ],
      "source": [
        "%%R\n",
        "# Loading a package required for data handling\n",
        "library(\"dplyr\")\n",
        "library(stringr)\n",
        "\n",
        "# The data is provided with the package\n",
        "file_type <- str_extract_all(filename,'\\\\b(.txt|.csv)\\\\b') #確認檔案為csv還是txt\n",
        "if (file_type == \".csv\"){\n",
        "  data <- read.csv(file = filename, header=TRUE  ,fileEncoding =\"UTF-8\")  \n",
        "}\n",
        "else  {\n",
        "   data <- read.table(file = filename, header=TRUE ,sep=\"\\t\" ,fileEncoding =\"UTF-8\") \n",
        "}\n",
        "\n",
        "cat(\"file's row * column =\", dim(data), \"\\n\")\n",
        "cat(\"**colnames: \\n\")\n",
        "print(colnames(data))\n",
        "#print(head(data[,'Reporter.intensity.count.1']))\n",
        "#data$Reporter.intensity.count.[1:10] = 2^data$Reporter.intensity.count.[1:10]\n",
        "#data$Reporter.intensity.count[1-10] = 2^data$Reporter.intensity.count[1-10]\n",
        "\n",
        "\n",
        "if ( \"Reverse\" %in% names(data) ){\n",
        "  data <- filter(data, Reverse != \"+\")  \n",
        "}\n",
        "if ( \"Potential.contaminant\" %in% names(data) ){\n",
        "  data <- filter(data, Potential.contaminant != \"+\") \n",
        "}\n",
        "# We filter for contaminant proteins and decoy database hits, which are indicated by \"+\" in the columns \"Potential.contaminants\" and \"Reverse\", respectively. \n",
        "\n",
        "print(head(data))"
      ]
    },
    {
      "cell_type": "code",
      "execution_count": null,
      "metadata": {
        "colab": {
          "base_uri": "https://localhost:8080/"
        },
        "id": "CqKTV9XBxa9N",
        "outputId": "4f1a6ec7-f6ac-4de7-8bef-a92cea93dc25"
      },
      "outputs": [
        {
          "output_type": "stream",
          "name": "stdout",
          "text": [
            " [1] \"Reporter.intensity.corrected.1.AGE\"  \"Reporter.intensity.corrected.2.AGE\" \n",
            " [3] \"Reporter.intensity.corrected.3.AGE\"  \"Reporter.intensity.corrected.4.AGE\" \n",
            " [5] \"Reporter.intensity.corrected.5.AGE\"  \"Reporter.intensity.corrected.6.AGE\" \n",
            " [7] \"Reporter.intensity.corrected.7.AGE\"  \"Reporter.intensity.corrected.8.AGE\" \n",
            " [9] \"Reporter.intensity.corrected.9.AGE\"  \"Reporter.intensity.corrected.10.AGE\"\n",
            "[11] \"Reporter.intensity.corrected.11.AGE\" \"Reporter.intensity.corrected.1.FPS\" \n",
            "[13] \"Reporter.intensity.corrected.2.FPS\"  \"Reporter.intensity.corrected.3.FPS\" \n",
            "[15] \"Reporter.intensity.corrected.4.FPS\"  \"Reporter.intensity.corrected.5.FPS\" \n",
            "[17] \"Reporter.intensity.corrected.6.FPS\"  \"Reporter.intensity.corrected.7.FPS\" \n",
            "[19] \"Reporter.intensity.corrected.8.FPS\"  \"Reporter.intensity.corrected.9.FPS\" \n",
            "[21] \"Reporter.intensity.corrected.10.FPS\" \"Reporter.intensity.corrected.11.FPS\"\n",
            "[1] \"AGE\" \"FPS\"\n",
            "[1] 2\n"
          ]
        }
      ],
      "source": [
        "%%R\n",
        "df <- data[ , grepl( \"Reporter.intensity.corrected\" , names( data) )] \n",
        "conditionColumn <- colnames(df)\n",
        "print(conditionColumn)\n",
        "condition <- gsub(\"Reporter.intensity.corrected.[0-9]+.\", \"\", conditionColumn)\n",
        "condition <- unique(condition)\n",
        "print(condition)\n",
        "\n",
        "numCondition <- length(condition)\n",
        "print(numCondition)"
      ]
    },
    {
      "cell_type": "code",
      "execution_count": null,
      "metadata": {
        "colab": {
          "base_uri": "https://localhost:8080/",
          "height": 48,
          "referenced_widgets": [
            "866f8ee73fcd47fdbe71a435b55f9b45",
            "0ab58f1990234740a1305c72b4792a68",
            "b2edac0a0a7f4f79948563b3caee397b"
          ]
        },
        "id": "5vKQ7h5CxU-9",
        "outputId": "ea46db43-427d-4cde-b489-254b0f0b0c82"
      },
      "outputs": [
        {
          "output_type": "display_data",
          "data": {
            "application/vnd.jupyter.widget-view+json": {
              "model_id": "866f8ee73fcd47fdbe71a435b55f9b45",
              "version_minor": 0,
              "version_major": 2
            },
            "text/plain": [
              "Dropdown(description='Condition:', options=('AGE', 'FPS'), value='AGE')"
            ]
          },
          "metadata": {}
        }
      ],
      "source": [
        "import ipywidgets as widgets\n",
        "\n",
        "numCondition_py = robjects.r(\"numCondition\")\n",
        "condition_py = robjects.r(\"condition\")\n",
        "\n",
        "dropdownCondition = widgets.Dropdown(\n",
        "    options= condition_py,\n",
        "    value=condition_py[0],\n",
        "    description='Condition:',\n",
        "    disabled=False,\n",
        ")\n",
        "def on_dropdownCondition_change(change):\n",
        "    r.assign(\"conditionName\", change.new)\n",
        "    #print(change.new)\n",
        "    \n",
        "r.assign(\"conditionName\", condition_py[0])\n",
        "display(dropdownCondition)\n",
        "dropdownCondition.observe(on_dropdownCondition_change, names=\"value\")"
      ]
    },
    {
      "cell_type": "code",
      "execution_count": null,
      "metadata": {
        "colab": {
          "base_uri": "https://localhost:8080/"
        },
        "id": "0rEIxkoVg-DO",
        "outputId": "74717f63-9348-46c2-d36d-e7fc4a5c525c"
      },
      "outputs": [
        {
          "output_type": "stream",
          "name": "stdout",
          "text": [
            "condition:  AGE"
          ]
        }
      ],
      "source": [
        "%%R\n",
        "cat(\"condition: \", conditionName)\n",
        "\n",
        "df <- data[ , grepl( \"Reporter.intensity.corrected\" , names( data) )]\n",
        "df <- df[, grepl(conditionName, names(df))]\n",
        "\n",
        "df = log2(df)\n",
        "colname <- colnames(df)\n",
        "numColname <- length(colname)\n",
        "\n",
        "draw_hist <- function(id) {\n",
        "  hist(x=df[,id], \n",
        "      breaks=25,\n",
        "      xlim=c(0,max(df)),\n",
        "      main=colname[id], # 圖片的名稱\n",
        "      xlab=\"\", \n",
        "      ylab=\"\"\n",
        "      )\n",
        "}"
      ]
    },
    {
      "cell_type": "markdown",
      "metadata": {
        "id": "_Vm7tjKxn0TU"
      },
      "source": [
        "#experimental_design"
      ]
    },
    {
      "cell_type": "code",
      "execution_count": null,
      "metadata": {
        "colab": {
          "base_uri": "https://localhost:8080/",
          "height": 1000,
          "referenced_widgets": [
            "dcbaf26286f846ebb46f7240b4733870",
            "0c8c48db23e941889969dd80694a84f8",
            "dea4b7fa9df743ab8ef78f6c179431c5",
            "3560e7ed5ba446d8a0f5ea72f59ea753",
            "08a88236e9b64abf86e98db3f879d2b0",
            "8314482f3b434db88d36309de5c52510",
            "b615cf7bfa1a4e1c96257299c81c1f42",
            "3de006166b564610af3baf2dd2f94c72",
            "0bbdaddbfef0485f8f326ec8ff69f34c",
            "94a9f17906344ab1b94cc276eac4ca33",
            "188743a305f942dbbcf218427fe667fd",
            "e36fa45211c04a67b3f0e91a7406879e",
            "bc7aec297f354c5aa57a4b1f4fdb9912",
            "9b9d8209cc804bb19b3bb60dba1534a1",
            "f02f9b967c1b4028a878fa1ef1d6b4cd",
            "c115513c65d443df8f0e2c619e4a841b",
            "6fe5016788884e0da88f523f79ab71ee",
            "3cbac9c1d5db48bea8ae262ab737d787",
            "395655dae360415b83fd3983df8f34f1",
            "4b2b9c4dbe354bac939b343baaaef599",
            "fdf497e35a6f4b81ac58a5485512e524",
            "f23fd60812e440f7aaf35b087a437f61",
            "8de1ee7077504894800b2d9a664b7ed5",
            "04ef0a23fad94b269a6f0131e665fe14",
            "c6bc0ebd85f84686a00641194f2a3087",
            "5d875c55bba24cc1b010888a671c0f3b",
            "80d020dc3a894095945cdfbb36cac20b",
            "d9a75a665632460d850095f1034d039e",
            "d4130ace59124649a85d45685a660604",
            "19633c1b2e3548eb9b923352829842df",
            "eff9286dd8b44a14930573c3f891df0e",
            "b05adf525ec84758a14070316b319dc9",
            "0ce25f9585724c3ea767a1fe444426fe",
            "f79baa6cc2ff4cf7986fda0c3509b009",
            "af9f8a2f431c433da6bc028c4dc91a32",
            "1f472801093541d19d8be6458feeaa08",
            "8717334d554140ae8e25caa827c91742",
            "337e05e8aa6945acbd3e248e45095f41",
            "904caf9876154412bd40dc81f1251222",
            "8f9f5c54550b43aeb9f1d075583a0a48",
            "d08735976c9c44af988520cf795d5bf3",
            "07ee06de37bb458295b9623d60839060",
            "a21e045fb548431dab681dac6c2ef58e",
            "e680d05afd904c63809b640f7095cc4d",
            "5e2d3d4ba54d47e3b06df4dd977becfc",
            "4f86062eb97e4807b33002b21cfb1abb",
            "12101eca29e3477d835dbf5197cc2679",
            "cbc0147ab9b84007b4a77f75b87a7663",
            "cafb1407f1334e67935e9edb9289b025",
            "9c438cf8a921471ca643d0a38057a6a5",
            "9bc446d52f064dca83b08ece119cc38b",
            "74178f6105ab414dba89841696cc0475",
            "bf6d1ae589b9481a987a7968835ed54a",
            "e93332f19fd04495b979ea18816046e4",
            "a887d987f4db46d79cdcefb9c31cd484",
            "9328c7a21d914b1a98eb0e53bddea97f",
            "39091c16e851411ca1f92b883cac62e3",
            "67058b410187484ea8c2aab2091fa68e",
            "8bd00fe3f5e546678379fbd245151c52",
            "b6a6f1f791d74131966aea967a2aba57",
            "cf4433a9590d4b87b6bc4accb20cc1e1",
            "4b5b7890d96b45dc84eda4a970b85c38",
            "69940324d71140d6a4d757951b933f9a",
            "57fde35b33734fd1b2593eef789b9b40",
            "58f68cea27774536ac649b9d3245efca",
            "952986d6175448b08b0250f782dce9e5",
            "541d1811e29d4af1b7c030cef303f1eb",
            "9fa65efa5790469fbba8dd7509f5f8c0",
            "7749f579157e42ffa643c071bd212ae4",
            "e1ae402b79c44f1bb52242dfe0a70430",
            "a3d9df3d463247c99eb537c0ee049523",
            "d77e252c4f8c4c4796d7d24e18487144",
            "2cd7c821ce7042df95b23ea096ad9199",
            "752d2002387043c59e5adc8a196b49a4",
            "318a398606044cab9e0a52b078d5e8f2",
            "76700379dda14393aabac5925d353a65",
            "ac384391097f4cdf8d7ffe2bce5a4074",
            "35abdf78bf2c4bafb38eb47e66ea3bbc",
            "ce4b615de8ac48c4a157b868c7cdb9ed",
            "657f36b5de84436d8a767e4c2aaa4587",
            "35173245884d48f286b38c89dff8c23c",
            "f63b250eb41d46d2895208406fe75045",
            "5e10b34e88fc4f57a8a62558589a84c5",
            "a3832a6e844f4160a64fe09ed2c14b38",
            "084fdf0fda5c42d3aa46e6c8c80d0003",
            "6bf4d8e07a944716aab6b08e2b093927",
            "5918a58039cb4741b9788ceca1de47ae",
            "5e158831041b485eacec9f1bdf736995",
            "f165ce21e50449e4b9da7c26a64afcae",
            "4b803d9a548a4c7cae22715f04827e85",
            "62822aefbba44efba43716f25cfa05ff",
            "af450f043f724c638ebf8c531922e143",
            "767cc626b4f7462bbd642a0b0e938e20",
            "c32f4d28e0004ef4a2a137cc1b5484d5",
            "b40958bef9cb4f0b8f4fb82548007603",
            "4f48f1c2be144914bdd3e738152f837c",
            "97afd4804d3e4e789bd23878f013cb7f",
            "277d69d3ebf145a9914cf03043dc69f9",
            "5f89905675474afbbbcfe4426d83f618",
            "2b91e58d7b294128b11510c5b4e014d6",
            "52bdfe4e117e49c0836c883a19540091",
            "6c5cdd694db0414e835ca7902554c11e",
            "92eb5ae14cd64a039b0b8d03de47c3b7",
            "c3a18749ee6e4defb90e79fe878c8897",
            "a242e133780842328fbae3655587a4a6",
            "5e2d1e48ba604556bc4f202b3a184c62",
            "b1fcd1502204445f9e98d8c96df2f6b8",
            "b41374e649ae412bbe728fc799a6e305",
            "8f630aa5c00848e5bc99ffdb0330a40f"
          ]
        },
        "id": "tY2zicX6JFxP",
        "outputId": "ea9f1c10-d14b-4d49-a77a-fc6e092f25ca"
      },
      "outputs": [
        {
          "output_type": "display_data",
          "data": {
            "application/vnd.jupyter.widget-view+json": {
              "model_id": "dcbaf26286f846ebb46f7240b4733870",
              "version_minor": 0,
              "version_major": 2
            },
            "text/plain": [
              "Checkbox(value=False, description='Reporter.intensity.corrected.1.AGE', indent=False)"
            ]
          },
          "metadata": {}
        },
        {
          "output_type": "display_data",
          "data": {
            "application/vnd.jupyter.widget-view+json": {
              "model_id": "3560e7ed5ba446d8a0f5ea72f59ea753",
              "version_minor": 0,
              "version_major": 2
            },
            "text/plain": [
              "Text(value='', description='condition', layout=Layout(height='30px', width='35%'))"
            ]
          },
          "metadata": {}
        },
        {
          "output_type": "display_data",
          "data": {
            "application/vnd.jupyter.widget-view+json": {
              "model_id": "b615cf7bfa1a4e1c96257299c81c1f42",
              "version_minor": 0,
              "version_major": 2
            },
            "text/plain": [
              "Text(value='', description='replicate', layout=Layout(height='30px', width='35%'))"
            ]
          },
          "metadata": {}
        },
        {
          "output_type": "display_data",
          "data": {
            "image/png": "[encoded data removed]"
          },
          "metadata": {}
        },
        {
          "output_type": "display_data",
          "data": {
            "application/vnd.jupyter.widget-view+json": {
              "model_id": "94a9f17906344ab1b94cc276eac4ca33",
              "version_minor": 0,
              "version_major": 2
            },
            "text/plain": [
              "Checkbox(value=False, description='Reporter.intensity.corrected.2.AGE', indent=False)"
            ]
          },
          "metadata": {}
        },
        {
          "output_type": "display_data",
          "data": {
            "application/vnd.jupyter.widget-view+json": {
              "model_id": "bc7aec297f354c5aa57a4b1f4fdb9912",
              "version_minor": 0,
              "version_major": 2
            },
            "text/plain": [
              "Text(value='', description='condition', layout=Layout(height='30px', width='35%'))"
            ]
          },
          "metadata": {}
        },
        {
          "output_type": "display_data",
          "data": {
            "application/vnd.jupyter.widget-view+json": {
              "model_id": "c115513c65d443df8f0e2c619e4a841b",
              "version_minor": 0,
              "version_major": 2
            },
            "text/plain": [
              "Text(value='', description='replicate', layout=Layout(height='30px', width='35%'))"
            ]
          },
          "metadata": {}
        },
        {
          "output_type": "display_data",
          "data": {
            "image/png": "[encoded data removed]"
          },
          "metadata": {}
        },
        {
          "output_type": "display_data",
          "data": {
            "application/vnd.jupyter.widget-view+json": {
              "model_id": "395655dae360415b83fd3983df8f34f1",
              "version_minor": 0,
              "version_major": 2
            },
            "text/plain": [
              "Checkbox(value=False, description='Reporter.intensity.corrected.3.AGE', indent=False)"
            ]
          },
          "metadata": {}
        },
        {
          "output_type": "display_data",
          "data": {
            "application/vnd.jupyter.widget-view+json": {
              "model_id": "f23fd60812e440f7aaf35b087a437f61",
              "version_minor": 0,
              "version_major": 2
            },
            "text/plain": [
              "Text(value='', description='condition', layout=Layout(height='30px', width='35%'))"
            ]
          },
          "metadata": {}
        },
        {
          "output_type": "display_data",
          "data": {
            "application/vnd.jupyter.widget-view+json": {
              "model_id": "c6bc0ebd85f84686a00641194f2a3087",
              "version_minor": 0,
              "version_major": 2
            },
            "text/plain": [
              "Text(value='', description='replicate', layout=Layout(height='30px', width='35%'))"
            ]
          },
          "metadata": {}
        },
        {
          "output_type": "display_data",
          "data": {
            "image/png": "[encoded data removed]"
          },
          "metadata": {}
        },
        {
          "output_type": "display_data",
          "data": {
            "application/vnd.jupyter.widget-view+json": {
              "model_id": "d9a75a665632460d850095f1034d039e",
              "version_minor": 0,
              "version_major": 2
            },
            "text/plain": [
              "Checkbox(value=False, description='Reporter.intensity.corrected.4.AGE', indent=False)"
            ]
          },
          "metadata": {}
        },
        {
          "output_type": "display_data",
          "data": {
            "application/vnd.jupyter.widget-view+json": {
              "model_id": "eff9286dd8b44a14930573c3f891df0e",
              "version_minor": 0,
              "version_major": 2
            },
            "text/plain": [
              "Text(value='', description='condition', layout=Layout(height='30px', width='35%'))"
            ]
          },
          "metadata": {}
        },
        {
          "output_type": "display_data",
          "data": {
            "application/vnd.jupyter.widget-view+json": {
              "model_id": "f79baa6cc2ff4cf7986fda0c3509b009",
              "version_minor": 0,
              "version_major": 2
            },
            "text/plain": [
              "Text(value='', description='replicate', layout=Layout(height='30px', width='35%'))"
            ]
          },
          "metadata": {}
        },
        {
          "output_type": "display_data",
          "data": {
            "image/png": "[encoded data removed]"
          },
          "metadata": {}
        },
        {
          "output_type": "display_data",
          "data": {
            "application/vnd.jupyter.widget-view+json": {
              "model_id": "8717334d554140ae8e25caa827c91742",
              "version_minor": 0,
              "version_major": 2
            },
            "text/plain": [
              "Checkbox(value=False, description='Reporter.intensity.corrected.5.AGE', indent=False)"
            ]
          },
          "metadata": {}
        },
        {
          "output_type": "display_data",
          "data": {
            "application/vnd.jupyter.widget-view+json": {
              "model_id": "8f9f5c54550b43aeb9f1d075583a0a48",
              "version_minor": 0,
              "version_major": 2
            },
            "text/plain": [
              "Text(value='', description='condition', layout=Layout(height='30px', width='35%'))"
            ]
          },
          "metadata": {}
        },
        {
          "output_type": "display_data",
          "data": {
            "application/vnd.jupyter.widget-view+json": {
              "model_id": "a21e045fb548431dab681dac6c2ef58e",
              "version_minor": 0,
              "version_major": 2
            },
            "text/plain": [
              "Text(value='', description='replicate', layout=Layout(height='30px', width='35%'))"
            ]
          },
          "metadata": {}
        },
        {
          "output_type": "display_data",
          "data": {
            "image/png": "[encoded data removed]"
          },
          "metadata": {}
        },
        {
          "output_type": "display_data",
          "data": {
            "application/vnd.jupyter.widget-view+json": {
              "model_id": "4f86062eb97e4807b33002b21cfb1abb",
              "version_minor": 0,
              "version_major": 2
            },
            "text/plain": [
              "Checkbox(value=False, description='Reporter.intensity.corrected.6.AGE', indent=False)"
            ]
          },
          "metadata": {}
        },
        {
          "output_type": "display_data",
          "data": {
            "application/vnd.jupyter.widget-view+json": {
              "model_id": "cafb1407f1334e67935e9edb9289b025",
              "version_minor": 0,
              "version_major": 2
            },
            "text/plain": [
              "Text(value='', description='condition', layout=Layout(height='30px', width='35%'))"
            ]
          },
          "metadata": {}
        },
        {
          "output_type": "display_data",
          "data": {
            "application/vnd.jupyter.widget-view+json": {
              "model_id": "74178f6105ab414dba89841696cc0475",
              "version_minor": 0,
              "version_major": 2
            },
            "text/plain": [
              "Text(value='', description='replicate', layout=Layout(height='30px', width='35%'))"
            ]
          },
          "metadata": {}
        },
        {
          "output_type": "display_data",
          "data": {
            "image/png": "[encoded data removed]"
          },
          "metadata": {}
        },
        {
          "output_type": "display_data",
          "data": {
            "application/vnd.jupyter.widget-view+json": {
              "model_id": "a887d987f4db46d79cdcefb9c31cd484",
              "version_minor": 0,
              "version_major": 2
            },
            "text/plain": [
              "Checkbox(value=False, description='Reporter.intensity.corrected.7.AGE', indent=False)"
            ]
          },
          "metadata": {}
        },
        {
          "output_type": "display_data",
          "data": {
            "application/vnd.jupyter.widget-view+json": {
              "model_id": "67058b410187484ea8c2aab2091fa68e",
              "version_minor": 0,
              "version_major": 2
            },
            "text/plain": [
              "Text(value='', description='condition', layout=Layout(height='30px', width='35%'))"
            ]
          },
          "metadata": {}
        },
        {
          "output_type": "display_data",
          "data": {
            "application/vnd.jupyter.widget-view+json": {
              "model_id": "cf4433a9590d4b87b6bc4accb20cc1e1",
              "version_minor": 0,
              "version_major": 2
            },
            "text/plain": [
              "Text(value='', description='replicate', layout=Layout(height='30px', width='35%'))"
            ]
          },
          "metadata": {}
        },
        {
          "output_type": "display_data",
          "data": {
            "image/png": "[encoded data removed]"
          },
          "metadata": {}
        },
        {
          "output_type": "display_data",
          "data": {
            "application/vnd.jupyter.widget-view+json": {
              "model_id": "57fde35b33734fd1b2593eef789b9b40",
              "version_minor": 0,
              "version_major": 2
            },
            "text/plain": [
              "Checkbox(value=False, description='Reporter.intensity.corrected.8.AGE', indent=False)"
            ]
          },
          "metadata": {}
        },
        {
          "output_type": "display_data",
          "data": {
            "application/vnd.jupyter.widget-view+json": {
              "model_id": "541d1811e29d4af1b7c030cef303f1eb",
              "version_minor": 0,
              "version_major": 2
            },
            "text/plain": [
              "Text(value='', description='condition', layout=Layout(height='30px', width='35%'))"
            ]
          },
          "metadata": {}
        },
        {
          "output_type": "display_data",
          "data": {
            "application/vnd.jupyter.widget-view+json": {
              "model_id": "e1ae402b79c44f1bb52242dfe0a70430",
              "version_minor": 0,
              "version_major": 2
            },
            "text/plain": [
              "Text(value='', description='replicate', layout=Layout(height='30px', width='35%'))"
            ]
          },
          "metadata": {}
        },
        {
          "output_type": "display_data",
          "data": {
            "image/png": "[encoded data removed]"
          },
          "metadata": {}
        },
        {
          "output_type": "display_data",
          "data": {
            "application/vnd.jupyter.widget-view+json": {
              "model_id": "2cd7c821ce7042df95b23ea096ad9199",
              "version_minor": 0,
              "version_major": 2
            },
            "text/plain": [
              "Checkbox(value=False, description='Reporter.intensity.corrected.9.AGE', indent=False)"
            ]
          },
          "metadata": {}
        },
        {
          "output_type": "display_data",
          "data": {
            "application/vnd.jupyter.widget-view+json": {
              "model_id": "76700379dda14393aabac5925d353a65",
              "version_minor": 0,
              "version_major": 2
            },
            "text/plain": [
              "Text(value='', description='condition', layout=Layout(height='30px', width='35%'))"
            ]
          },
          "metadata": {}
        },
        {
          "output_type": "display_data",
          "data": {
            "application/vnd.jupyter.widget-view+json": {
              "model_id": "ce4b615de8ac48c4a157b868c7cdb9ed",
              "version_minor": 0,
              "version_major": 2
            },
            "text/plain": [
              "Text(value='', description='replicate', layout=Layout(height='30px', width='35%'))"
            ]
          },
          "metadata": {}
        },
        {
          "output_type": "display_data",
          "data": {
            "image/png": "[encoded data removed]"
          },
          "metadata": {}
        },
        {
          "output_type": "display_data",
          "data": {
            "application/vnd.jupyter.widget-view+json": {
              "model_id": "f63b250eb41d46d2895208406fe75045",
              "version_minor": 0,
              "version_major": 2
            },
            "text/plain": [
              "Checkbox(value=False, description='Reporter.intensity.corrected.10.AGE', indent=False)"
            ]
          },
          "metadata": {}
        },
        {
          "output_type": "display_data",
          "data": {
            "application/vnd.jupyter.widget-view+json": {
              "model_id": "084fdf0fda5c42d3aa46e6c8c80d0003",
              "version_minor": 0,
              "version_major": 2
            },
            "text/plain": [
              "Text(value='', description='condition', layout=Layout(height='30px', width='35%'))"
            ]
          },
          "metadata": {}
        },
        {
          "output_type": "display_data",
          "data": {
            "application/vnd.jupyter.widget-view+json": {
              "model_id": "5e158831041b485eacec9f1bdf736995",
              "version_minor": 0,
              "version_major": 2
            },
            "text/plain": [
              "Text(value='', description='replicate', layout=Layout(height='30px', width='35%'))"
            ]
          },
          "metadata": {}
        },
        {
          "output_type": "display_data",
          "data": {
            "image/png": "[encoded data removed]"
          },
          "metadata": {}
        },
        {
          "output_type": "display_data",
          "data": {
            "application/vnd.jupyter.widget-view+json": {
              "model_id": "62822aefbba44efba43716f25cfa05ff",
              "version_minor": 0,
              "version_major": 2
            },
            "text/plain": [
              "Checkbox(value=False, description='Reporter.intensity.corrected.11.AGE', indent=False)"
            ]
          },
          "metadata": {}
        },
        {
          "output_type": "display_data",
          "data": {
            "application/vnd.jupyter.widget-view+json": {
              "model_id": "c32f4d28e0004ef4a2a137cc1b5484d5",
              "version_minor": 0,
              "version_major": 2
            },
            "text/plain": [
              "Text(value='', description='condition', layout=Layout(height='30px', width='35%'))"
            ]
          },
          "metadata": {}
        },
        {
          "output_type": "display_data",
          "data": {
            "application/vnd.jupyter.widget-view+json": {
              "model_id": "97afd4804d3e4e789bd23878f013cb7f",
              "version_minor": 0,
              "version_major": 2
            },
            "text/plain": [
              "Text(value='', description='replicate', layout=Layout(height='30px', width='35%'))"
            ]
          },
          "metadata": {}
        },
        {
          "output_type": "display_data",
          "data": {
            "image/png": "[encoded data removed]"
          },
          "metadata": {}
        },
        {
          "output_type": "display_data",
          "data": {
            "application/vnd.jupyter.widget-view+json": {
              "model_id": "2b91e58d7b294128b11510c5b4e014d6",
              "version_minor": 0,
              "version_major": 2
            },
            "text/plain": [
              "Button(description='OK', style=ButtonStyle())"
            ]
          },
          "metadata": {}
        },
        {
          "output_type": "display_data",
          "data": {
            "application/vnd.jupyter.widget-view+json": {
              "model_id": "92eb5ae14cd64a039b0b8d03de47c3b7",
              "version_minor": 0,
              "version_major": 2
            },
            "text/plain": [
              "Output()"
            ]
          },
          "metadata": {}
        }
      ],
      "source": [
        "import pandas as pd\n",
        "df_colname_py = robjects.r(\"colname\")\n",
        "df_ncol_py = robjects.r(\"numColname\")\n",
        "experimental_design = pd.DataFrame(columns=[\"state\",\"label\",\"condition\",\"replicate\"], index=range(10)).fillna(\"False\")\n",
        "\n",
        "\n",
        "for i in range(0,df_ncol_py[0]):  \n",
        "  generate_checkbox(df_colname_py[i], i+1)\n",
        "  generate_text(i+1,\"condition\")\n",
        "  generate_text(i+1,\"replicate\")\n",
        "  r.assign(\"id\", i+1) #將檔案名稱python -> R\n",
        "  %R draw_hist(id)\n",
        "\n",
        "generate_button(0, \"OK\")"
      ]
    },
    {
      "cell_type": "markdown",
      "metadata": {
        "id": "ucxFLdaefIfW"
      },
      "source": [
        "#make se"
      ]
    },
    {
      "cell_type": "code",
      "execution_count": null,
      "metadata": {
        "colab": {
          "base_uri": "https://localhost:8080/"
        },
        "id": "il0s_hnWo7yU",
        "outputId": "39d8428d-f056-403b-ede1-2e0f1f4b0d34"
      },
      "outputs": [
        {
          "output_type": "stream",
          "name": "stdout",
          "text": [
            "Are there any duplicated gene names?  TRUE \n",
            "# A tibble: 12 × 2\n",
            "   Gene.names frequency\n",
            "   <chr>          <int>\n",
            " 1 \"\"                16\n",
            " 2 \"Arhgap17\"         2\n",
            " 3 \"Hist1h4b\"         2\n",
            " 4 \"Hnrnpa3\"          2\n",
            " 5 \"Ikbip\"            2\n",
            " 6 \"Pkm\"              2\n",
            " 7 \"Plec\"             2\n",
            " 8 \"Rtn4\"             2\n",
            " 9 \"Serbp1\"           2\n",
            "10 \"Tpm1\"             2\n",
            "11 \"Tpm3\"             2\n",
            "12 \"Tubb5\"            2\n"
          ]
        }
      ],
      "source": [
        "%%R\n",
        "# Are there any duplicated gene names?\n",
        "cat('Are there any duplicated gene names? ', data$Gene.names %>% duplicated() %>% any(), \"\\n\")\n",
        "\n",
        "if ( data$Gene.names %>% duplicated() %>% any() ){\n",
        "   # Make a table of duplicated gene names\n",
        "  print(data %>% group_by(Gene.names) %>% summarize(frequency = n()) %>% \n",
        "    arrange(desc(frequency)) %>% filter(frequency > 1))\n",
        "  \n",
        "  \n",
        "}\n",
        "# Make unique names using the annotation in the \"Gene.names\" column as primary names and the annotation in \"Protein.IDs\" as name for those that do not have an gene name.\n",
        "data_unique <- make_unique(data, \"Gene.names\", \"Protein.IDs\", delim = \";\")\n"
      ]
    },
    {
      "cell_type": "code",
      "execution_count": null,
      "metadata": {
        "colab": {
          "base_uri": "https://localhost:8080/"
        },
        "id": "2B3gKxtro7yU",
        "outputId": "f8aa5a76-479b-4682-83d3-fdd854ce1a71"
      },
      "outputs": [
        {
          "output_type": "stream",
          "name": "stdout",
          "text": [
            "class: SummarizedExperiment \n",
            "dim: 2230 9 \n",
            "metadata(0):\n",
            "assays(1): ''\n",
            "rownames(2230): A0A0G2JTR4 A0A0G2JV04 ... Gsto1 Pard3\n",
            "rowData names(102): Protein.IDs Majority.protein.IDs ... name ID\n",
            "colnames(9): ABC_1 ABC_2 ... CDE_2 CDE_3\n",
            "colData names(4): label ID condition replicate\n"
          ]
        }
      ],
      "source": [
        "%%R\n",
        "# Generate a SummarizedExperiment object using an experimental design\n",
        "LFQ_columns <- grep(\"Reporter.intensity.corrected.\", colnames(data_unique)) # get LFQ column numbers\n",
        "\n",
        "#experimental_design <- UbiLength_ExpDesign\n",
        "experimental_design <- read.csv('/content/experimental_design.csv',header=TRUE ,fileEncoding =\"UTF-8\")\n",
        "experimental_design$label = gsub(\" \", \".\", experimental_design$label)\n",
        "\n",
        "maxReplicate <- max(experimental_design$replicate) # max replicate\n",
        "experimental_design_condition <- unique(experimental_design$condition)\n",
        "\n",
        "data_se <- make_se(data_unique, LFQ_columns, experimental_design)\n",
        "\n",
        "# Let's have a look at the SummarizedExperiment object\n",
        "data_se"
      ]
    },
    {
      "cell_type": "markdown",
      "metadata": {
        "id": "hmmXGALxsbdB"
      },
      "source": [
        "#10 Filter on missing values "
      ]
    },
    {
      "cell_type": "code",
      "execution_count": null,
      "metadata": {
        "colab": {
          "base_uri": "https://localhost:8080/"
        },
        "id": "1rAw3q8-sbdG",
        "outputId": "a694e346-70ed-4b77-cbec-28063b8de1fc"
      },
      "outputs": [
        {
          "output_type": "stream",
          "name": "stdout",
          "text": [
            "  samples proteins\n",
            "1       0      897\n",
            "2       2       34\n",
            "3       4       22\n",
            "4       5        1\n",
            "5       6       34\n",
            "6       7       32\n",
            "7       8       31\n",
            "8       9     1179\n"
          ]
        }
      ],
      "source": [
        "%%R\n",
        "plot_frequency(data_se, plot= FALSE)"
      ]
    },
    {
      "cell_type": "code",
      "execution_count": null,
      "metadata": {
        "colab": {
          "base_uri": "https://localhost:8080/",
          "height": 496
        },
        "id": "Eyx8SPdRsbdG",
        "outputId": "cb57812b-9cab-4823-c043-049c3fdb7db7"
      },
      "outputs": [
        {
          "output_type": "display_data",
          "data": {
            "image/png": "[encoded data removed]"
          },
          "metadata": {}
        }
      ],
      "source": [
        "%%R\n",
        "# Plot a barplot of the protein identification overlap between samples\n",
        "pic10_1 <- plot_frequency(data_se, plot= TRUE)\n",
        "print(pic10_1)"
      ]
    },
    {
      "cell_type": "code",
      "execution_count": null,
      "metadata": {
        "colab": {
          "base_uri": "https://localhost:8080/",
          "height": 528,
          "referenced_widgets": [
            "a1f6dc0c9fe74998b90390a99cf6314b",
            "34ae9adc63ac4d3a8e8fd560e06fc2fc",
            "c3a857a55171484fbcaf5e3edc2f0698"
          ]
        },
        "id": "-hzeF1f4YKzp",
        "outputId": "15607093-529b-439e-bbc4-275d940804ae"
      },
      "outputs": [
        {
          "output_type": "display_data",
          "data": {
            "application/vnd.jupyter.widget-view+json": {
              "model_id": "a1f6dc0c9fe74998b90390a99cf6314b",
              "version_minor": 0,
              "version_major": 2
            },
            "text/plain": [
              "IntSlider(value=3, continuous_update=False, description='thr:', max=3)"
            ]
          },
          "metadata": {}
        },
        {
          "output_type": "display_data",
          "data": {
            "image/png": "[encoded data removed]"
          },
          "metadata": {}
        }
      ],
      "source": [
        "from IPython.display import clear_output\n",
        "\n",
        "maxReplicate_py = robjects.r(\"maxReplicate\")\n",
        "\n",
        "def draw_filter_missval_10_2(nThr_py):\n",
        "  r.assign(\"nThr\", nThr_py)\n",
        "  # Filter for proteins that are identified in all replicates of at least one condition\n",
        "  %R data_filt <- filter_missval(data_se, thr = nThr) #讓使用者選0~4(重複)\n",
        "  # Plot a barplot of the number of identified proteins per samples\n",
        "  %R pic10_2 <- plot_numbers(data_filt, plot=TRUE)\n",
        "  %R print(pic10_2)\n",
        "\n",
        "\n",
        "intSliderDataFilt = widgets.IntSlider(\n",
        "    value= 0,\n",
        "    min=  0,\n",
        "    max=  maxReplicate_py[0],\n",
        "    step= 1, #變化量\n",
        "    description='thr:',\n",
        "    disabled=False,\n",
        "    continuous_update=False,\n",
        "    orientation='horizontal',\n",
        "    readout=True,\n",
        "    readout_format='d'\n",
        ")\n",
        "def on_intSliderDataFilt_change(change):\n",
        "    clear_output()\n",
        "    display(intSliderDataFilt)\n",
        "    draw_filter_missval_10_2(change.new)\n",
        "    \n",
        "    \n",
        "display(intSliderDataFilt)\n",
        "draw_filter_missval_10_2(0)\n",
        "intSliderDataFilt.observe(on_intSliderDataFilt_change, names=\"value\")"
      ]
    },
    {
      "cell_type": "code",
      "execution_count": null,
      "metadata": {
        "colab": {
          "base_uri": "https://localhost:8080/",
          "height": 496
        },
        "id": "bh8nxGfDsbdH",
        "outputId": "ef3fd26d-6586-4055-ff00-4da94c21b925"
      },
      "outputs": [
        {
          "output_type": "display_data",
          "data": {
            "image/png": "[encoded data removed]"
          },
          "metadata": {}
        }
      ],
      "source": [
        "%%R\n",
        "# Plot a barplot of the protein identification overlap between samples\n",
        "pic10_3 <- plot_coverage(data_filt)\n",
        "print(pic10_3)"
      ]
    },
    {
      "cell_type": "markdown",
      "metadata": {
        "id": "58T2LqzTe20t"
      },
      "source": [
        "#11 Normalization "
      ]
    },
    {
      "cell_type": "code",
      "execution_count": null,
      "metadata": {
        "colab": {
          "base_uri": "https://localhost:8080/"
        },
        "id": "pN7TYzSNJotq",
        "outputId": "84d27192-f58b-453e-e585-04cb2f3b09f6"
      },
      "outputs": [
        {
          "output_type": "stream",
          "name": "stderr",
          "text": [
            "R[write to console]: vsn2: 2230 x 9 matrix (1 stratum). \n",
            "\n",
            "R[write to console]: Please use 'meanSdPlot' to verify the fit.\n",
            "\n"
          ]
        }
      ],
      "source": [
        "%%R\n",
        "# Normalize the data\n",
        "data_norm <- normalize_vsn(data_filt)"
      ]
    },
    {
      "cell_type": "code",
      "execution_count": null,
      "metadata": {
        "colab": {
          "base_uri": "https://localhost:8080/",
          "height": 571
        },
        "id": "Ejilzc5GRWCv",
        "outputId": "7d1bfa31-af62-42ed-eac7-e4aef1d9502b"
      },
      "outputs": [
        {
          "output_type": "stream",
          "name": "stderr",
          "text": [
            "R[write to console]: vsn2: 2230 x 9 matrix (1 stratum). \n",
            "\n",
            "R[write to console]: Please use 'meanSdPlot' to verify the fit.\n",
            "\n"
          ]
        },
        {
          "output_type": "display_data",
          "data": {
            "image/png": "[encoded data removed]"
          },
          "metadata": {}
        }
      ],
      "source": [
        "%%R\n",
        "# Normalize the data\n",
        "data_norm <- normalize_vsn(data_filt)\n",
        "\n",
        "# Visualize normalization by boxplots for all samples before and after normalization\n",
        "pic11_1 <- plot_normalization(data_filt, data_norm)\n",
        "print(pic11_1)"
      ]
    },
    {
      "cell_type": "markdown",
      "metadata": {
        "id": "aGUobJP7e7_U"
      },
      "source": [
        "#12 Impute data for missing values "
      ]
    },
    {
      "cell_type": "code",
      "execution_count": null,
      "metadata": {
        "colab": {
          "base_uri": "https://localhost:8080/",
          "height": 976
        },
        "id": "fWEjiQm9key_",
        "outputId": "640216a5-99bf-425a-c6b1-42057a99b8d9"
      },
      "outputs": [
        {
          "output_type": "display_data",
          "data": {
            "image/png": "[encoded data removed]"
          },
          "metadata": {}
        },
        {
          "output_type": "display_data",
          "data": {
            "image/png": "[encoded data removed]"
          },
          "metadata": {}
        }
      ],
      "source": [
        "%%R\n",
        "# Plot a heatmap of proteins with missing values\n",
        "pic12_1 <- plot_missval(data_filt)\n",
        "print(pic12_1)"
      ]
    },
    {
      "cell_type": "code",
      "execution_count": null,
      "metadata": {
        "colab": {
          "base_uri": "https://localhost:8080/",
          "height": 571
        },
        "id": "t1bM21JARjGA",
        "outputId": "e2003603-275d-45bf-acb9-214bbd4f277c"
      },
      "outputs": [
        {
          "output_type": "stream",
          "name": "stdout",
          "text": [
            "TableGrob (2 x 1) \"arrange\": 2 grobs\n",
            "  z     cells    name           grob\n",
            "1 1 (1-1,1-1) arrange gtable[layout]\n",
            "2 2 (2-2,1-1) arrange gtable[layout]\n"
          ]
        },
        {
          "output_type": "display_data",
          "data": {
            "image/png": "[encoded data removed]"
          },
          "metadata": {}
        }
      ],
      "source": [
        "%%R\n",
        "# Plot intensity distributions and cumulative fraction of proteins with and without missing values\n",
        "pic12_2 <- plot_detect(data_filt)\n",
        "print(pic12_2)"
      ]
    },
    {
      "cell_type": "code",
      "execution_count": null,
      "metadata": {
        "colab": {
          "base_uri": "https://localhost:8080/",
          "height": 515
        },
        "id": "PdZ9zq6TRmWY",
        "outputId": "b73eabb6-518c-4809-b179-26ad27e4af7d"
      },
      "outputs": [
        {
          "output_type": "stream",
          "name": "stdout",
          "text": [
            "[1] 0.162191\n"
          ]
        },
        {
          "output_type": "display_data",
          "data": {
            "image/png": "[encoded data removed]"
          },
          "metadata": {}
        }
      ],
      "source": [
        "%%R\n",
        "# All possible imputation methods are printed in an error, if an invalid function name is given.\n",
        "#impute(data_norm, fun = \"\")\n",
        "\n",
        "# Impute missing data using random draws from a Gaussian distribution centered around a minimal value (for MNAR)\n",
        "data_imp <- impute(data_norm, fun = \"MinProb\", q = 0.01)\n",
        "\n",
        "# Impute missing data using random draws from a manually defined left-shifted Gaussian distribution (for MNAR)\n",
        "data_imp_man <- impute(data_norm, fun = \"man\", shift = 1.8, scale = 0.3)\n",
        "\n",
        "# Impute missing data using the k-nearest neighbour approach (for MAR)\n",
        "data_imp_knn <- impute(data_norm, fun = \"knn\", rowmax = 0.9)\n",
        "\n",
        "# Plot intensity distributions before and after imputation\n",
        "pic12_3 <- plot_imputation(data_norm, data_imp)\n",
        "print(pic12_3)"
      ]
    },
    {
      "cell_type": "code",
      "execution_count": null,
      "metadata": {
        "colab": {
          "base_uri": "https://localhost:8080/",
          "height": 51,
          "referenced_widgets": [
            "31f89685f57545dfa202a9f97b0eb6b1",
            "c1be0841df7243f59dfc98135d366417",
            "3148133f020d4c3fb8cf1cb8954d0ae4"
          ]
        },
        "id": "GXoJyjvh7z5Z",
        "outputId": "0761e3e6-46a4-4376-c9e7-a96157293c82"
      },
      "outputs": [
        {
          "output_type": "display_data",
          "data": {
            "application/vnd.jupyter.widget-view+json": {
              "model_id": "31f89685f57545dfa202a9f97b0eb6b1",
              "version_minor": 0,
              "version_major": 2
            },
            "text/plain": [
              "Text(value='', description='control:', layout=Layout(height='30px', width='35%'))"
            ]
          },
          "metadata": {}
        }
      ],
      "source": [
        "def input_text(placeholder):\n",
        "  text = widgets.Text(\n",
        "      value='',\n",
        "      description=placeholder,\n",
        "      disabled=False,\n",
        "      layout = widgets.Layout(height=\"30px\", width=\"35%\")\n",
        "  )\n",
        "  def on_text_change(change):\n",
        "    controlname = text.value\n",
        "    #print(controlname)\n",
        "    r.assign(\"control\", controlname) #將檔案名稱python -> R\n",
        "\n",
        "  display(text)\n",
        "  text.observe(on_text_change, names=\"value\")\n",
        "\n",
        "import pandas as pd\n",
        "#df_colname = robjects.r('colname')\n",
        "#experimental_design = pd.DataFrame(columns=['state','label','condition','replicate'], index=range(10)).fillna(\"False\")\n",
        "input_text(\"control:\")"
      ]
    },
    {
      "cell_type": "code",
      "execution_count": null,
      "metadata": {
        "colab": {
          "base_uri": "https://localhost:8080/"
        },
        "id": "3HTZZMl7AtAp",
        "outputId": "21f2876f-c87f-4043-c530-dbf241bd4b7e"
      },
      "outputs": [
        {
          "output_type": "stream",
          "name": "stderr",
          "text": [
            "R[write to console]: Tested contrasts: ABC_vs_BCD, CDE_vs_BCD\n",
            "\n"
          ]
        }
      ],
      "source": [
        "%%R\n",
        "# Differential enrichment analysis  based on linear models and empherical Bayes statistics\n",
        "\n",
        "# Test every sample versus control\n",
        "data_diff <- test_diff(data_imp, type = \"control\", control = control) \n",
        "\n",
        "# Test all possible comparisons of samples\n",
        "#data_diff_all_contrasts <- test_diff(data_imp, type = \"all\")"
      ]
    },
    {
      "cell_type": "code",
      "execution_count": null,
      "metadata": {
        "colab": {
          "base_uri": "https://localhost:8080/"
        },
        "id": "vF3U9huvfShV",
        "outputId": "0e7594d8-f1a6-4c96-bfb8-e517730ddd87"
      },
      "outputs": [
        {
          "output_type": "stream",
          "name": "stdout",
          "text": [
            "[1] \"ABC_1\" \"ABC_2\" \"ABC_3\" \"BCD_1\" \"BCD_2\" \"BCD_3\" \"CDE_1\" \"CDE_2\" \"CDE_3\"\n"
          ]
        }
      ],
      "source": [
        "%%R\n",
        "# Denote significant proteins based on user defined cutoffs\n",
        "dep <- add_rejections(data_diff, alpha = 1, lfc = log2(1.5)) #alpha、lfc調整\n",
        "head(dep)\n",
        "typeof(dep)\n",
        "colnames(dep)"
      ]
    },
    {
      "cell_type": "markdown",
      "metadata": {
        "id": "ZxFYLeeQfZd8"
      },
      "source": [
        "#13 PCA plot   "
      ]
    },
    {
      "cell_type": "code",
      "execution_count": null,
      "metadata": {
        "colab": {
          "base_uri": "https://localhost:8080/",
          "height": 496
        },
        "id": "G_e1KkcJfXXe",
        "outputId": "fa6266e7-1f89-4441-dd0b-857cb4e5ea67"
      },
      "outputs": [
        {
          "output_type": "display_data",
          "data": {
            "image/png": "[encoded data removed]"
          },
          "metadata": {}
        }
      ],
      "source": [
        "%%R\n",
        "pic13_1 <- plot_pca(dep, x = 1, y = 2, n = 500, point_size = 4)\n",
        "print(pic13_1)"
      ]
    },
    {
      "cell_type": "markdown",
      "metadata": {
        "id": "5qYCtZqyfea0"
      },
      "source": [
        "#14 Correlation matrix "
      ]
    },
    {
      "cell_type": "code",
      "execution_count": null,
      "metadata": {
        "colab": {
          "base_uri": "https://localhost:8080/"
        },
        "id": "0CdyXXIHnxgo",
        "outputId": "8882f623-6ff1-418e-f5e8-b0bd67665ec2"
      },
      "outputs": [
        {
          "output_type": "stream",
          "name": "stdout",
          "text": [
            "class: SummarizedExperiment \n",
            "dim: 6 9 \n",
            "metadata(0):\n",
            "assays(1): ''\n",
            "rownames(6): A0A0G2JTR4 A0A0G2JV04 ... Aacs Aagab\n",
            "rowData names(117): name Protein.IDs ... CDE_vs_BCD_significant\n",
            "  significant\n",
            "colnames(9): ABC_1 ABC_2 ... CDE_2 CDE_3\n",
            "colData names(4): label ID condition replicate\n"
          ]
        }
      ],
      "source": [
        "%%R\n",
        "colnames(dep)\n",
        "head(dep)\n"
      ]
    },
    {
      "cell_type": "code",
      "execution_count": null,
      "metadata": {
        "colab": {
          "base_uri": "https://localhost:8080/",
          "height": 976
        },
        "id": "OfG4hLAyfvaE",
        "outputId": "54f3ed2b-79ce-452d-a12c-48c4daf69236"
      },
      "outputs": [
        {
          "output_type": "display_data",
          "data": {
            "image/png": "[encoded data removed]"
          },
          "metadata": {}
        },
        {
          "output_type": "display_data",
          "data": {
            "image/png": "[encoded data removed]"
          },
          "metadata": {}
        }
      ],
      "source": [
        "%%R\n",
        "# Plot the Pearson correlation matrix\n",
        "pic14_1 <- plot_cor(dep, significant = FALSE, lower = 0.9, upper = 1, pal = \"Reds\")\n",
        "print(pic14_1)"
      ]
    },
    {
      "cell_type": "markdown",
      "metadata": {
        "id": "FtpwADcDfejz"
      },
      "source": [
        "#15 Heatmap of all significant proteins"
      ]
    },
    {
      "cell_type": "code",
      "execution_count": null,
      "metadata": {
        "colab": {
          "base_uri": "https://localhost:8080/",
          "height": 976
        },
        "id": "xOTUgulsfzoN",
        "outputId": "755e68a8-af27-4fe7-c90a-2486140aacef"
      },
      "outputs": [
        {
          "output_type": "display_data",
          "data": {
            "image/png": "[encoded data removed]"
          },
          "metadata": {}
        },
        {
          "output_type": "display_data",
          "data": {
            "image/png": "[encoded data removed]"
          },
          "metadata": {}
        }
      ],
      "source": [
        "%%R\n",
        "# Plot a heatmap of all significant proteins with the data centered per protein\n",
        "pic15_1 <- plot_heatmap(dep, type = \"centered\", kmeans = TRUE, \n",
        "             k = 6, col_limit = 4, show_row_names = FALSE,\n",
        "             indicate = c(\"condition\", \"replicate\"))\n",
        "print(pic15_1)"
      ]
    },
    {
      "cell_type": "code",
      "execution_count": null,
      "metadata": {
        "colab": {
          "base_uri": "https://localhost:8080/",
          "height": 976
        },
        "id": "-iPFHZScf2sd",
        "outputId": "1be07e70-12ae-4dd8-95a3-387b1ee87097"
      },
      "outputs": [
        {
          "output_type": "display_data",
          "data": {
            "image/png": "[encoded data removed]"
          },
          "metadata": {}
        },
        {
          "output_type": "display_data",
          "data": {
            "image/png": "[encoded data removed]"
          },
          "metadata": {}
        }
      ],
      "source": [
        "%%R\n",
        "# Plot a heatmap of all significant proteins (rows) and the tested contrasts (columns)\n",
        "pic15_2 <- plot_heatmap(dep, type = \"contrast\", kmeans = TRUE, \n",
        "             k = 6, col_limit = 10, show_row_names = FALSE)\n",
        "print(pic15_2)"
      ]
    },
    {
      "cell_type": "markdown",
      "metadata": {
        "id": "Dkx3acvtfepU"
      },
      "source": [
        "#16 Volcano plots of specific cotrasts "
      ]
    },
    {
      "cell_type": "code",
      "execution_count": null,
      "metadata": {
        "colab": {
          "base_uri": "https://localhost:8080/",
          "height": 83,
          "referenced_widgets": [
            "8f3de839350f41a998f2078e1aac5c3e",
            "39f36da28b9d4bd18670302481c10758",
            "59766958451146528ef991d4fc0a70f4",
            "47751dd4aea646f9ad4b06742cde242c",
            "59c222c4aa03478b905c5988fb3c03ba",
            "778eee1140ea48bf8e2c42e4c823e170"
          ]
        },
        "id": "dhDXO5m7ChZB",
        "outputId": "b768c49c-786a-4d63-a099-8fbd71811d72"
      },
      "outputs": [
        {
          "output_type": "display_data",
          "data": {
            "application/vnd.jupyter.widget-view+json": {
              "model_id": "8f3de839350f41a998f2078e1aac5c3e",
              "version_minor": 0,
              "version_major": 2
            },
            "text/plain": [
              "Text(value='', description='contrast:', layout=Layout(height='30px', width='35%'))"
            ]
          },
          "metadata": {}
        },
        {
          "output_type": "display_data",
          "data": {
            "application/vnd.jupyter.widget-view+json": {
              "model_id": "47751dd4aea646f9ad4b06742cde242c",
              "version_minor": 0,
              "version_major": 2
            },
            "text/plain": [
              "Text(value='', description='control:', layout=Layout(height='30px', width='35%'))"
            ]
          },
          "metadata": {}
        }
      ],
      "source": [
        "def input_text1(placeholder):\n",
        "  text = widgets.Text(\n",
        "      value='',\n",
        "      description=placeholder,\n",
        "      disabled=False,\n",
        "      layout = widgets.Layout(height=\"30px\", width=\"35%\")\n",
        "  )\n",
        "  def on_text_change(change):\n",
        "    sample1 = text.value\n",
        "    #print(sample1)\n",
        "    r.assign(\"sample1\", sample1) #將檔案名稱python -> R\n",
        "\n",
        "  display(text)\n",
        "  text.observe(on_text_change, names=\"value\")\n",
        "  \n",
        "def input_text2(placeholder):\n",
        "  text = widgets.Text(\n",
        "      value='',\n",
        "      description=placeholder,\n",
        "      disabled=False,\n",
        "      layout = widgets.Layout(height=\"30px\", width=\"35%\")\n",
        "  )\n",
        "  def on_text_change(change):\n",
        "    sample2 = text.value\n",
        "    #print(sample2)\n",
        "    r.assign(\"sample2\", sample2) #將檔案名稱python -> R\n",
        "\n",
        "  display(text)\n",
        "  text.observe(on_text_change, names=\"value\")\n",
        "\n",
        "import pandas as pd\n",
        "\n",
        "\n",
        "input_text1(\"contrast:\")\n",
        "input_text2(\"control:\")"
      ]
    },
    {
      "cell_type": "code",
      "execution_count": null,
      "metadata": {
        "colab": {
          "base_uri": "https://localhost:8080/"
        },
        "id": "15TZiRXgCjT5",
        "outputId": "08bc3455-022f-4d32-b952-015addddb10c"
      },
      "outputs": [
        {
          "output_type": "stream",
          "name": "stdout",
          "text": [
            "[1] \"ABC_vs_BCD\"\n",
            "[1] \"character\"\n"
          ]
        }
      ],
      "source": [
        "%%R\n",
        "contrastSample <- paste(sample1,\"_vs_\",sample2)\n",
        "contrastSample <- gsub(\" \", \"\", contrastSample, fixed = TRUE)\n",
        "print(contrastSample)\n",
        "typeof(contrastSample)"
      ]
    },
    {
      "cell_type": "code",
      "execution_count": null,
      "metadata": {
        "colab": {
          "base_uri": "https://localhost:8080/",
          "height": 496
        },
        "id": "YpkwbZuIf5SV",
        "outputId": "db026b9a-e431-404b-9cbf-1b447d43c2db"
      },
      "outputs": [
        {
          "output_type": "display_data",
          "data": {
            "image/png": "[encoded data removed]"
          },
          "metadata": {}
        }
      ],
      "source": [
        "%%R\n",
        "# Plot a volcano plot for the contrast \"Ubi6 vs Ctrl\"\"\n",
        "pic16_1 <- plot_volcano(dep, contrast = contrastSample, label_size = 2, add_names = TRUE) #變數\n",
        "print(pic16_1)"
      ]
    },
    {
      "cell_type": "markdown",
      "metadata": {
        "id": "cuISwCNrfesN"
      },
      "source": [
        "#17 Barplots of a protein of interest "
      ]
    },
    {
      "cell_type": "code",
      "execution_count": null,
      "metadata": {
        "id": "jsfpcNIy86QL"
      },
      "outputs": [],
      "source": [
        "number = 2\n",
        "\n",
        "def generate_number_boundedIntText():\n",
        "  boundedIntText = widgets.BoundedIntText(\n",
        "      value=2,\n",
        "      min=1,\n",
        "      max=20,\n",
        "      step=1,\n",
        "      description=\"number:\",\n",
        "      disabled=False\n",
        "  )\n",
        "  def on_boundedIntText_change(change):\n",
        "    global number\n",
        "    number = change.new\n",
        "    print(number)\n",
        "  display(boundedIntText)\n",
        "  boundedIntText.observe(on_boundedIntText_change, names=\"value\")\n",
        "\n",
        "\n",
        "def generate_checkNumber_Button():\n",
        "  button = widgets.Button(\n",
        "   value = False,\n",
        "   description = \"ok\",\n",
        "   disabled = False,\n",
        "  )\n",
        "  def on_button_click(change):\n",
        "    global proteinData_py\n",
        "    proteinData_py = pd.DataFrame(columns=[\"protein\"], index=range(number)).fillna(\"False\")\n",
        "    for i in range(number):\n",
        "      generate_protein_text(i)\n",
        "    generate_checkProtein_Button()\n",
        "\n",
        "  display(button)\n",
        "  button.on_click(on_button_click)\n",
        "\n",
        "\n",
        "def generate_protein_text(id):\n",
        "\n",
        "  text = widgets.Text(\n",
        "      value=\"\", #Eif2b4\n",
        "      placeholder='Type something like Rps16',\n",
        "      description='protein:',\n",
        "      disabled=False\n",
        "  )\n",
        "  def on_text_change(change):\n",
        "    proteinData_py.at[id] = change.new\n",
        "    \n",
        "  display(text)\n",
        "  text.observe(on_text_change, names=\"value\")\n",
        "\n",
        "def generate_checkProtein_Button():\n",
        "  button = widgets.Button(\n",
        "   value = False,\n",
        "   description = \"check\",\n",
        "   disabled = False,\n",
        "  )\n",
        "  def on_button_click(change):\n",
        "    print(proteinData_py)\n",
        "    with localconverter(robjects.default_converter + pandas2ri.converter):\n",
        "      r_from_pd_df = robjects.conversion.py2rpy(proteinData_py)\n",
        "    r.assign(\"proteinData\", r_from_pd_df)\n",
        "  display(button)\n",
        "  button.on_click(on_button_click)"
      ]
    },
    {
      "cell_type": "code",
      "execution_count": null,
      "metadata": {
        "id": "uWQc4Z--89QD",
        "colab": {
          "base_uri": "https://localhost:8080/",
          "height": 484,
          "referenced_widgets": [
            "e038e5ac003f4672912b0c3dbb33bb04",
            "e405edc5a6804eb8a855c1f1aad244fc",
            "de5768101d9f4aecbc6fb67446a62dd4",
            "a53318b5b6354fa88bced41c9620429e",
            "270b306571024c07ba6f2ec568f66149",
            "fc59b1c2813c48bf9b0209cd02f75759",
            "d850ea5c0b6d42dfb935192e5ef592a5",
            "c16eb51b42324ea695858fcc16846792",
            "eef8c14853a34918a991bb3b2bca7216",
            "1cda50c2aaa64d4886aaee30e3c00937",
            "29796c241d3348ca92146cb261e96b27",
            "be45c53607f24fee8baf5704e3ec5e2b",
            "5f7ea3876d0144ddb04052aec56ee26f",
            "55b57be96feb4b61b553ae015f8cda99",
            "f01a40edb8ce4afab0e02c8226e431d6",
            "7ba92ca81c2d45e09a52158eff4a7f07",
            "c115f28621df4ead93136b1d3ca914eb",
            "c79cfd0e3e244884b5393632b03c328b",
            "0d00427bb1ed42399065b1b916581920",
            "26e26bafc6034108b7f675a9bcfd7ede",
            "53ba532148154228ad846e31512a4e1e",
            "954579fc18164661abafd5a287180db1",
            "0d771f1993b74218961e84e3253e8723",
            "7d51a08dbebd4bc48100a6c06e8f9757",
            "42dd8361dd41450e9346891db1258f3e",
            "6936fbca60fb40ceb4617a03af7938c7",
            "da8b6b3f5139413998f208aab1947905"
          ]
        },
        "outputId": "fdc43456-3202-4c18-caa4-b7922f7e9d3f"
      },
      "outputs": [
        {
          "output_type": "display_data",
          "data": {
            "application/vnd.jupyter.widget-view+json": {
              "model_id": "e038e5ac003f4672912b0c3dbb33bb04",
              "version_minor": 0,
              "version_major": 2
            },
            "text/plain": [
              "BoundedIntText(value=2, description='number:', max=20, min=1)"
            ]
          },
          "metadata": {}
        },
        {
          "output_type": "display_data",
          "data": {
            "application/vnd.jupyter.widget-view+json": {
              "model_id": "a53318b5b6354fa88bced41c9620429e",
              "version_minor": 0,
              "version_major": 2
            },
            "text/plain": [
              "Button(description='ok', style=ButtonStyle())"
            ]
          },
          "metadata": {}
        },
        {
          "output_type": "display_data",
          "data": {
            "application/vnd.jupyter.widget-view+json": {
              "model_id": "d850ea5c0b6d42dfb935192e5ef592a5",
              "version_minor": 0,
              "version_major": 2
            },
            "text/plain": [
              "Text(value='', description='protein:', placeholder='Type something like Rps16')"
            ]
          },
          "metadata": {}
        },
        {
          "output_type": "display_data",
          "data": {
            "application/vnd.jupyter.widget-view+json": {
              "model_id": "1cda50c2aaa64d4886aaee30e3c00937",
              "version_minor": 0,
              "version_major": 2
            },
            "text/plain": [
              "Text(value='', description='protein:', placeholder='Type something like Rps16')"
            ]
          },
          "metadata": {}
        },
        {
          "output_type": "display_data",
          "data": {
            "application/vnd.jupyter.widget-view+json": {
              "model_id": "5f7ea3876d0144ddb04052aec56ee26f",
              "version_minor": 0,
              "version_major": 2
            },
            "text/plain": [
              "Button(description='check', style=ButtonStyle())"
            ]
          },
          "metadata": {}
        },
        {
          "output_type": "stream",
          "name": "stdout",
          "text": [
            "  protein\n",
            "0   Rps16\n",
            "1  Eif2b4\n",
            "4\n",
            "1\n",
            "3\n"
          ]
        },
        {
          "output_type": "display_data",
          "data": {
            "application/vnd.jupyter.widget-view+json": {
              "model_id": "7ba92ca81c2d45e09a52158eff4a7f07",
              "version_minor": 0,
              "version_major": 2
            },
            "text/plain": [
              "Text(value='', description='protein:', placeholder='Type something like Rps16')"
            ]
          },
          "metadata": {}
        },
        {
          "output_type": "display_data",
          "data": {
            "application/vnd.jupyter.widget-view+json": {
              "model_id": "0d00427bb1ed42399065b1b916581920",
              "version_minor": 0,
              "version_major": 2
            },
            "text/plain": [
              "Text(value='', description='protein:', placeholder='Type something like Rps16')"
            ]
          },
          "metadata": {}
        },
        {
          "output_type": "display_data",
          "data": {
            "application/vnd.jupyter.widget-view+json": {
              "model_id": "954579fc18164661abafd5a287180db1",
              "version_minor": 0,
              "version_major": 2
            },
            "text/plain": [
              "Text(value='', description='protein:', placeholder='Type something like Rps16')"
            ]
          },
          "metadata": {}
        },
        {
          "output_type": "display_data",
          "data": {
            "application/vnd.jupyter.widget-view+json": {
              "model_id": "42dd8361dd41450e9346891db1258f3e",
              "version_minor": 0,
              "version_major": 2
            },
            "text/plain": [
              "Button(description='check', style=ButtonStyle())"
            ]
          },
          "metadata": {}
        },
        {
          "output_type": "stream",
          "name": "stdout",
          "text": [
            "  protein\n",
            "0   Rps16\n",
            "1  Eif2b4\n",
            "2  Eif2b2\n"
          ]
        }
      ],
      "source": [
        "import pandas as pd\n",
        "from rpy2.robjects.packages import importr\n",
        "from rpy2.robjects import pandas2ri\n",
        "from rpy2.robjects.conversion import localconverter\n",
        "\n",
        "generate_number_boundedIntText()\n",
        "generate_checkNumber_Button()"
      ]
    },
    {
      "cell_type": "code",
      "execution_count": null,
      "metadata": {
        "id": "rHCaOJ_Y9A3a",
        "colab": {
          "base_uri": "https://localhost:8080/",
          "height": 496
        },
        "outputId": "568c6b29-eb80-4c54-c34d-e686525c1baa"
      },
      "outputs": [
        {
          "output_type": "display_data",
          "data": {
            "image/png": "[encoded data removed]"
          },
          "metadata": {}
        }
      ],
      "source": [
        "%%R\n",
        "# Plot a barplot for USP15 and IKBKG\n",
        "pic17_1 <- plot_single(dep, proteins = c( proteinData[,1]) )  #Rps16 Eif2b4要給使用者輸入  #\tproteins: Character, The name(s) of the protein(s) to plot. #proteins = c(\"Rps16\", \"Eif2b4\"))\n",
        "print(pic17_1)                           "
      ]
    },
    {
      "cell_type": "code",
      "execution_count": null,
      "metadata": {
        "colab": {
          "base_uri": "https://localhost:8080/",
          "height": 561,
          "referenced_widgets": [
            "3b5a753bcd8a4c3fa6441abcefb1e428",
            "f7a7270e81714a2786c13a0c321a197c",
            "10d6c7f3c4cc4f06a1752381f687a711",
            "ce8e2cbd5da14eeba421b19dd5e36bf5",
            "2ac6445a70f24aa5bbe88d51fc7cb753",
            "971003bb0347427abfea15302ac6b88b"
          ]
        },
        "id": "4gCn4LcDf-yy",
        "outputId": "6c685673-a87f-45fe-8d87-2ea0dc4bf244"
      },
      "outputs": [
        {
          "output_type": "display_data",
          "data": {
            "application/vnd.jupyter.widget-view+json": {
              "model_id": "3b5a753bcd8a4c3fa6441abcefb1e428",
              "version_minor": 0,
              "version_major": 2
            },
            "text/plain": [
              "Text(value='', description='protein:', placeholder='Type something like Eif2b4')"
            ]
          },
          "metadata": {}
        },
        {
          "output_type": "display_data",
          "data": {
            "application/vnd.jupyter.widget-view+json": {
              "model_id": "ce8e2cbd5da14eeba421b19dd5e36bf5",
              "version_minor": 0,
              "version_major": 2
            },
            "text/plain": [
              "Button(description='OK', style=ButtonStyle())"
            ]
          },
          "metadata": {}
        },
        {
          "output_type": "display_data",
          "data": {
            "image/png": "[encoded data removed]"
          },
          "metadata": {}
        }
      ],
      "source": [
        "\n",
        "def generate_protein_pic17_2_text():\n",
        "\n",
        "  text = widgets.Text(\n",
        "      value=\"\", #Eif2b4\n",
        "      placeholder='Type something like Eif2b4',\n",
        "      description='protein:',\n",
        "      disabled=False\n",
        "  )\n",
        "  def on_text_change(change):\n",
        "    global protein_pic17_2_py\n",
        "    protein_pic17_2_py = change.new\n",
        "    \n",
        "  display(text)\n",
        "  text.observe(on_text_change, names=\"value\")\n",
        "\n",
        "def generate_checkProtein_pic17_2_Button():\n",
        "  button = widgets.Button(\n",
        "   value = False,\n",
        "   description = \"OK\",\n",
        "   disabled = False,\n",
        "  )\n",
        "  def on_button_click(change):\n",
        "    r.assign(\"protein_pic17_2\", protein_pic17_2_py)\n",
        "\n",
        "    # Plot a barplot for the protein USP15 with the data centered\n",
        "    %R pic17_2 <- plot_single(dep, proteins = protein_pic17_2, type = \"centered\") #要給使用者輸入\n",
        "    %R print(pic17_2)\n",
        "  display(button)\n",
        "  button.on_click(on_button_click)\n",
        "\n",
        "generate_protein_pic17_2_text()\n",
        "generate_checkProtein_pic17_2_Button()\n"
      ]
    },
    {
      "cell_type": "markdown",
      "metadata": {
        "id": "Sk4_ofgBfevb"
      },
      "source": [
        "#18 Frequency plot of significant proteins and overlap of conditions \n",
        "\n",
        "\n",
        "\n",
        " "
      ]
    },
    {
      "cell_type": "code",
      "execution_count": null,
      "metadata": {
        "colab": {
          "base_uri": "https://localhost:8080/",
          "height": 571
        },
        "id": "0gA4s5Y-gBEF",
        "outputId": "a4488ceb-9d23-4f1a-9919-0f8025fdc530"
      },
      "outputs": [
        {
          "output_type": "stream",
          "name": "stdout",
          "text": [
            "TableGrob (1 x 2) \"arrange\": 2 grobs\n",
            "  z     cells    name            grob\n",
            "1 1 (1-1,1-1) arrange  gtable[layout]\n",
            "2 2 (1-1,2-2) arrange gtable[core-fg]\n"
          ]
        },
        {
          "output_type": "display_data",
          "data": {
            "image/png": "[encoded data removed]"
          },
          "metadata": {}
        }
      ],
      "source": [
        "%%R\n",
        "# Plot a frequency plot of significant proteins for the different conditions\n",
        "pic18_1 <- plot_cond(dep)\n",
        "print(pic18_1)"
      ]
    },
    {
      "cell_type": "code",
      "execution_count": null,
      "metadata": {
        "colab": {
          "base_uri": "https://localhost:8080/"
        },
        "id": "4juTMMWCxfN8",
        "outputId": "6f1903ad-39d9-402c-c799-89e30f96f9e5"
      },
      "outputs": [
        {
          "name": "stdout",
          "output_type": "stream",
          "text": [
            "[1] 294\n"
          ]
        }
      ],
      "source": [
        "%%R\n",
        "# Generate a results table\n",
        "data_results <- get_results(dep)\n",
        "\n",
        "# Number of significant proteins\n",
        "data_results %>% filter(significant) %>% nrow()"
      ]
    },
    {
      "cell_type": "code",
      "execution_count": null,
      "metadata": {
        "colab": {
          "base_uri": "https://localhost:8080/"
        },
        "id": "QZANuzF4xjEs",
        "outputId": "844fdd63-813e-41d9-a2b2-4e18fe136008"
      },
      "outputs": [
        {
          "name": "stdout",
          "output_type": "stream",
          "text": [
            " [1] \"name\"                   \"ID\"                     \"ABC_vs_LA_p.val\"       \n",
            " [4] \"DMSO_vs_LA_p.val\"       \"ABC_vs_LA_p.adj\"        \"DMSO_vs_LA_p.adj\"      \n",
            " [7] \"ABC_vs_LA_significant\"  \"DMSO_vs_LA_significant\" \"significant\"           \n",
            "[10] \"ABC_vs_LA_ratio\"        \"DMSO_vs_LA_ratio\"       \"ABC_centered\"          \n",
            "[13] \"DMSO_centered\"          \"LA_centered\"           \n"
          ]
        }
      ],
      "source": [
        "%%R\n",
        "# Column names of the results table\n",
        "colnames(data_results)"
      ]
    },
    {
      "cell_type": "code",
      "execution_count": null,
      "metadata": {
        "id": "KIWf3Jzk0xt8"
      },
      "outputs": [],
      "source": [
        "%%R\n",
        "write.csv(data_results,\"dep_output.csv\", row.names = FALSE, quote=F)"
      ]
    }
  ],
  "metadata": {
    "colab": {
      "collapsed_sections": [
        "NJ8JsiLxdod0",
        "OYVHWo7EgRlk"
      ],
      "name": "DEP.ipynb",
      "provenance": []
    },
    "kernelspec": {
      "display_name": "Python 3",
      "name": "python3"
    },
    "language_info": {
      "name": "python"
    },
    "widgets": {
      "application/vnd.jupyter.widget-state+json": {
        "866f8ee73fcd47fdbe71a435b55f9b45": {
          "model_module": "@jupyter-widgets/controls",
          "model_name": "DropdownModel",
          "model_module_version": "1.5.0",
          "state": {
            "_options_labels": [
              "AGE",
              "FPS"
            ],
            "_view_name": "DropdownView",
            "style": "IPY_MODEL_0ab58f1990234740a1305c72b4792a68",
            "_dom_classes": [],
            "description": "Condition:",
            "_model_name": "DropdownModel",
            "index": 0,
            "_view_module": "@jupyter-widgets/controls",
            "_model_module_version": "1.5.0",
            "_view_count": null,
            "disabled": false,
            "_view_module_version": "1.5.0",
            "description_tooltip": null,
            "_model_module": "@jupyter-widgets/controls",
            "layout": "IPY_MODEL_b2edac0a0a7f4f79948563b3caee397b"
          }
        },
        "0ab58f1990234740a1305c72b4792a68": {
          "model_module": "@jupyter-widgets/controls",
          "model_name": "DescriptionStyleModel",
          "model_module_version": "1.5.0",
          "state": {
            "_view_name": "StyleView",
            "_model_name": "DescriptionStyleModel",
            "description_width": "",
            "_view_module": "@jupyter-widgets/base",
            "_model_module_version": "1.5.0",
            "_view_count": null,
            "_view_module_version": "1.2.0",
            "_model_module": "@jupyter-widgets/controls"
          }
        },
        "b2edac0a0a7f4f79948563b3caee397b": {
          "model_module": "@jupyter-widgets/base",
          "model_name": "LayoutModel",
          "model_module_version": "1.2.0",
          "state": {
            "_view_name": "LayoutView",
            "grid_template_rows": null,
            "right": null,
            "justify_content": null,
            "_view_module": "@jupyter-widgets/base",
            "overflow": null,
            "_model_module_version": "1.2.0",
            "_view_count": null,
            "flex_flow": null,
            "width": null,
            "min_width": null,
            "border": null,
            "align_items": null,
            "bottom": null,
            "_model_module": "@jupyter-widgets/base",
            "top": null,
            "grid_column": null,
            "overflow_y": null,
            "overflow_x": null,
            "grid_auto_flow": null,
            "grid_area": null,
            "grid_template_columns": null,
            "flex": null,
            "_model_name": "LayoutModel",
            "justify_items": null,
            "grid_row": null,
            "max_height": null,
            "align_content": null,
            "visibility": null,
            "align_self": null,
            "height": null,
            "min_height": null,
            "padding": null,
            "grid_auto_rows": null,
            "grid_gap": null,
            "max_width": null,
            "order": null,
            "_view_module_version": "1.2.0",
            "grid_template_areas": null,
            "object_position": null,
            "object_fit": null,
            "grid_auto_columns": null,
            "margin": null,
            "display": null,
            "left": null
          }
        },
        "dcbaf26286f846ebb46f7240b4733870": {
          "model_module": "@jupyter-widgets/controls",
          "model_name": "CheckboxModel",
          "model_module_version": "1.5.0",
          "state": {
            "_view_name": "CheckboxView",
            "style": "IPY_MODEL_0c8c48db23e941889969dd80694a84f8",
            "_dom_classes": [],
            "description": "Reporter.intensity.corrected.1.AGE",
            "_model_name": "CheckboxModel",
            "_view_module": "@jupyter-widgets/controls",
            "_model_module_version": "1.5.0",
            "value": true,
            "_view_count": null,
            "disabled": false,
            "_view_module_version": "1.5.0",
            "indent": false,
            "description_tooltip": null,
            "_model_module": "@jupyter-widgets/controls",
            "layout": "IPY_MODEL_dea4b7fa9df743ab8ef78f6c179431c5"
          }
        },
        "0c8c48db23e941889969dd80694a84f8": {
          "model_module": "@jupyter-widgets/controls",
          "model_name": "DescriptionStyleModel",
          "model_module_version": "1.5.0",
          "state": {
            "_view_name": "StyleView",
            "_model_name": "DescriptionStyleModel",
            "description_width": "",
            "_view_module": "@jupyter-widgets/base",
            "_model_module_version": "1.5.0",
            "_view_count": null,
            "_view_module_version": "1.2.0",
            "_model_module": "@jupyter-widgets/controls"
          }
        },
        "dea4b7fa9df743ab8ef78f6c179431c5": {
          "model_module": "@jupyter-widgets/base",
          "model_name": "LayoutModel",
          "model_module_version": "1.2.0",
          "state": {
            "_view_name": "LayoutView",
            "grid_template_rows": null,
            "right": null,
            "justify_content": null,
            "_view_module": "@jupyter-widgets/base",
            "overflow": null,
            "_model_module_version": "1.2.0",
            "_view_count": null,
            "flex_flow": null,
            "width": null,
            "min_width": null,
            "border": null,
            "align_items": null,
            "bottom": null,
            "_model_module": "@jupyter-widgets/base",
            "top": null,
            "grid_column": null,
            "overflow_y": null,
            "overflow_x": null,
            "grid_auto_flow": null,
            "grid_area": null,
            "grid_template_columns": null,
            "flex": null,
            "_model_name": "LayoutModel",
            "justify_items": null,
            "grid_row": null,
            "max_height": null,
            "align_content": null,
            "visibility": null,
            "align_self": null,
            "height": null,
            "min_height": null,
            "padding": null,
            "grid_auto_rows": null,
            "grid_gap": null,
            "max_width": null,
            "order": null,
            "_view_module_version": "1.2.0",
            "grid_template_areas": null,
            "object_position": null,
            "object_fit": null,
            "grid_auto_columns": null,
            "margin": null,
            "display": null,
            "left": null
          }
        },
        "3560e7ed5ba446d8a0f5ea72f59ea753": {
          "model_module": "@jupyter-widgets/controls",
          "model_name": "TextModel",
          "model_module_version": "1.5.0",
          "state": {
            "_view_name": "TextView",
            "style": "IPY_MODEL_08a88236e9b64abf86e98db3f879d2b0",
            "_dom_classes": [],
            "description": "condition",
            "_model_name": "TextModel",
            "placeholder": "​",
            "_view_module": "@jupyter-widgets/controls",
            "_model_module_version": "1.5.0",
            "value": "ABC",
            "_view_count": null,
            "disabled": false,
            "_view_module_version": "1.5.0",
            "continuous_update": true,
            "description_tooltip": null,
            "_model_module": "@jupyter-widgets/controls",
            "layout": "IPY_MODEL_8314482f3b434db88d36309de5c52510"
          }
        },
        "08a88236e9b64abf86e98db3f879d2b0": {
          "model_module": "@jupyter-widgets/controls",
          "model_name": "DescriptionStyleModel",
          "model_module_version": "1.5.0",
          "state": {
            "_view_name": "StyleView",
            "_model_name": "DescriptionStyleModel",
            "description_width": "",
            "_view_module": "@jupyter-widgets/base",
            "_model_module_version": "1.5.0",
            "_view_count": null,
            "_view_module_version": "1.2.0",
            "_model_module": "@jupyter-widgets/controls"
          }
        },
        "8314482f3b434db88d36309de5c52510": {
          "model_module": "@jupyter-widgets/base",
          "model_name": "LayoutModel",
          "model_module_version": "1.2.0",
          "state": {
            "_view_name": "LayoutView",
            "grid_template_rows": null,
            "right": null,
            "justify_content": null,
            "_view_module": "@jupyter-widgets/base",
            "overflow": null,
            "_model_module_version": "1.2.0",
            "_view_count": null,
            "flex_flow": null,
            "width": "35%",
            "min_width": null,
            "border": null,
            "align_items": null,
            "bottom": null,
            "_model_module": "@jupyter-widgets/base",
            "top": null,
            "grid_column": null,
            "overflow_y": null,
            "overflow_x": null,
            "grid_auto_flow": null,
            "grid_area": null,
            "grid_template_columns": null,
            "flex": null,
            "_model_name": "LayoutModel",
            "justify_items": null,
            "grid_row": null,
            "max_height": null,
            "align_content": null,
            "visibility": null,
            "align_self": null,
            "height": "30px",
            "min_height": null,
            "padding": null,
            "grid_auto_rows": null,
            "grid_gap": null,
            "max_width": null,
            "order": null,
            "_view_module_version": "1.2.0",
            "grid_template_areas": null,
            "object_position": null,
            "object_fit": null,
            "grid_auto_columns": null,
            "margin": null,
            "display": null,
            "left": null
          }
        },
        "b615cf7bfa1a4e1c96257299c81c1f42": {
          "model_module": "@jupyter-widgets/controls",
          "model_name": "TextModel",
          "model_module_version": "1.5.0",
          "state": {
            "_view_name": "TextView",
            "style": "IPY_MODEL_3de006166b564610af3baf2dd2f94c72",
            "_dom_classes": [],
            "description": "replicate",
            "_model_name": "TextModel",
            "placeholder": "​",
            "_view_module": "@jupyter-widgets/controls",
            "_model_module_version": "1.5.0",
            "value": "1",
            "_view_count": null,
            "disabled": false,
            "_view_module_version": "1.5.0",
            "continuous_update": true,
            "description_tooltip": null,
            "_model_module": "@jupyter-widgets/controls",
            "layout": "IPY_MODEL_0bbdaddbfef0485f8f326ec8ff69f34c"
          }
        },
        "3de006166b564610af3baf2dd2f94c72": {
          "model_module": "@jupyter-widgets/controls",
          "model_name": "DescriptionStyleModel",
          "model_module_version": "1.5.0",
          "state": {
            "_view_name": "StyleView",
            "_model_name": "DescriptionStyleModel",
            "description_width": "",
            "_view_module": "@jupyter-widgets/base",
            "_model_module_version": "1.5.0",
            "_view_count": null,
            "_view_module_version": "1.2.0",
            "_model_module": "@jupyter-widgets/controls"
          }
        },
        "0bbdaddbfef0485f8f326ec8ff69f34c": {
          "model_module": "@jupyter-widgets/base",
          "model_name": "LayoutModel",
          "model_module_version": "1.2.0",
          "state": {
            "_view_name": "LayoutView",
            "grid_template_rows": null,
            "right": null,
            "justify_content": null,
            "_view_module": "@jupyter-widgets/base",
            "overflow": null,
            "_model_module_version": "1.2.0",
            "_view_count": null,
            "flex_flow": null,
            "width": "35%",
            "min_width": null,
            "border": null,
            "align_items": null,
            "bottom": null,
            "_model_module": "@jupyter-widgets/base",
            "top": null,
            "grid_column": null,
            "overflow_y": null,
            "overflow_x": null,
            "grid_auto_flow": null,
            "grid_area": null,
            "grid_template_columns": null,
            "flex": null,
            "_model_name": "LayoutModel",
            "justify_items": null,
            "grid_row": null,
            "max_height": null,
            "align_content": null,
            "visibility": null,
            "align_self": null,
            "height": "30px",
            "min_height": null,
            "padding": null,
            "grid_auto_rows": null,
            "grid_gap": null,
            "max_width": null,
            "order": null,
            "_view_module_version": "1.2.0",
            "grid_template_areas": null,
            "object_position": null,
            "object_fit": null,
            "grid_auto_columns": null,
            "margin": null,
            "display": null,
            "left": null
          }
        },
        "94a9f17906344ab1b94cc276eac4ca33": {
          "model_module": "@jupyter-widgets/controls",
          "model_name": "CheckboxModel",
          "model_module_version": "1.5.0",
          "state": {
            "_view_name": "CheckboxView",
            "style": "IPY_MODEL_188743a305f942dbbcf218427fe667fd",
            "_dom_classes": [],
            "description": "Reporter.intensity.corrected.2.AGE",
            "_model_name": "CheckboxModel",
            "_view_module": "@jupyter-widgets/controls",
            "_model_module_version": "1.5.0",
            "value": true,
            "_view_count": null,
            "disabled": false,
            "_view_module_version": "1.5.0",
            "indent": false,
            "description_tooltip": null,
            "_model_module": "@jupyter-widgets/controls",
            "layout": "IPY_MODEL_e36fa45211c04a67b3f0e91a7406879e"
          }
        },
        "188743a305f942dbbcf218427fe667fd": {
          "model_module": "@jupyter-widgets/controls",
          "model_name": "DescriptionStyleModel",
          "model_module_version": "1.5.0",
          "state": {
            "_view_name": "StyleView",
            "_model_name": "DescriptionStyleModel",
            "description_width": "",
            "_view_module": "@jupyter-widgets/base",
            "_model_module_version": "1.5.0",
            "_view_count": null,
            "_view_module_version": "1.2.0",
            "_model_module": "@jupyter-widgets/controls"
          }
        },
        "e36fa45211c04a67b3f0e91a7406879e": {
          "model_module": "@jupyter-widgets/base",
          "model_name": "LayoutModel",
          "model_module_version": "1.2.0",
          "state": {
            "_view_name": "LayoutView",
            "grid_template_rows": null,
            "right": null,
            "justify_content": null,
            "_view_module": "@jupyter-widgets/base",
            "overflow": null,
            "_model_module_version": "1.2.0",
            "_view_count": null,
            "flex_flow": null,
            "width": null,
            "min_width": null,
            "border": null,
            "align_items": null,
            "bottom": null,
            "_model_module": "@jupyter-widgets/base",
            "top": null,
            "grid_column": null,
            "overflow_y": null,
            "overflow_x": null,
            "grid_auto_flow": null,
            "grid_area": null,
            "grid_template_columns": null,
            "flex": null,
            "_model_name": "LayoutModel",
            "justify_items": null,
            "grid_row": null,
            "max_height": null,
            "align_content": null,
            "visibility": null,
            "align_self": null,
            "height": null,
            "min_height": null,
            "padding": null,
            "grid_auto_rows": null,
            "grid_gap": null,
            "max_width": null,
            "order": null,
            "_view_module_version": "1.2.0",
            "grid_template_areas": null,
            "object_position": null,
            "object_fit": null,
            "grid_auto_columns": null,
            "margin": null,
            "display": null,
            "left": null
          }
        },
        "bc7aec297f354c5aa57a4b1f4fdb9912": {
          "model_module": "@jupyter-widgets/controls",
          "model_name": "TextModel",
          "model_module_version": "1.5.0",
          "state": {
            "_view_name": "TextView",
            "style": "IPY_MODEL_9b9d8209cc804bb19b3bb60dba1534a1",
            "_dom_classes": [],
            "description": "condition",
            "_model_name": "TextModel",
            "placeholder": "​",
            "_view_module": "@jupyter-widgets/controls",
            "_model_module_version": "1.5.0",
            "value": "ABC",
            "_view_count": null,
            "disabled": false,
            "_view_module_version": "1.5.0",
            "continuous_update": true,
            "description_tooltip": null,
            "_model_module": "@jupyter-widgets/controls",
            "layout": "IPY_MODEL_f02f9b967c1b4028a878fa1ef1d6b4cd"
          }
        },
        "9b9d8209cc804bb19b3bb60dba1534a1": {
          "model_module": "@jupyter-widgets/controls",
          "model_name": "DescriptionStyleModel",
          "model_module_version": "1.5.0",
          "state": {
            "_view_name": "StyleView",
            "_model_name": "DescriptionStyleModel",
            "description_width": "",
            "_view_module": "@jupyter-widgets/base",
            "_model_module_version": "1.5.0",
            "_view_count": null,
            "_view_module_version": "1.2.0",
            "_model_module": "@jupyter-widgets/controls"
          }
        },
        "f02f9b967c1b4028a878fa1ef1d6b4cd": {
          "model_module": "@jupyter-widgets/base",
          "model_name": "LayoutModel",
          "model_module_version": "1.2.0",
          "state": {
            "_view_name": "LayoutView",
            "grid_template_rows": null,
            "right": null,
            "justify_content": null,
            "_view_module": "@jupyter-widgets/base",
            "overflow": null,
            "_model_module_version": "1.2.0",
            "_view_count": null,
            "flex_flow": null,
            "width": "35%",
            "min_width": null,
            "border": null,
            "align_items": null,
            "bottom": null,
            "_model_module": "@jupyter-widgets/base",
            "top": null,
            "grid_column": null,
            "overflow_y": null,
            "overflow_x": null,
            "grid_auto_flow": null,
            "grid_area": null,
            "grid_template_columns": null,
            "flex": null,
            "_model_name": "LayoutModel",
            "justify_items": null,
            "grid_row": null,
            "max_height": null,
            "align_content": null,
            "visibility": null,
            "align_self": null,
            "height": "30px",
            "min_height": null,
            "padding": null,
            "grid_auto_rows": null,
            "grid_gap": null,
            "max_width": null,
            "order": null,
            "_view_module_version": "1.2.0",
            "grid_template_areas": null,
            "object_position": null,
            "object_fit": null,
            "grid_auto_columns": null,
            "margin": null,
            "display": null,
            "left": null
          }
        },
        "c115513c65d443df8f0e2c619e4a841b": {
          "model_module": "@jupyter-widgets/controls",
          "model_name": "TextModel",
          "model_module_version": "1.5.0",
          "state": {
            "_view_name": "TextView",
            "style": "IPY_MODEL_6fe5016788884e0da88f523f79ab71ee",
            "_dom_classes": [],
            "description": "replicate",
            "_model_name": "TextModel",
            "placeholder": "​",
            "_view_module": "@jupyter-widgets/controls",
            "_model_module_version": "1.5.0",
            "value": "2",
            "_view_count": null,
            "disabled": false,
            "_view_module_version": "1.5.0",
            "continuous_update": true,
            "description_tooltip": null,
            "_model_module": "@jupyter-widgets/controls",
            "layout": "IPY_MODEL_3cbac9c1d5db48bea8ae262ab737d787"
          }
        },
        "6fe5016788884e0da88f523f79ab71ee": {
          "model_module": "@jupyter-widgets/controls",
          "model_name": "DescriptionStyleModel",
          "model_module_version": "1.5.0",
          "state": {
            "_view_name": "StyleView",
            "_model_name": "DescriptionStyleModel",
            "description_width": "",
            "_view_module": "@jupyter-widgets/base",
            "_model_module_version": "1.5.0",
            "_view_count": null,
            "_view_module_version": "1.2.0",
            "_model_module": "@jupyter-widgets/controls"
          }
        },
        "3cbac9c1d5db48bea8ae262ab737d787": {
          "model_module": "@jupyter-widgets/base",
          "model_name": "LayoutModel",
          "model_module_version": "1.2.0",
          "state": {
            "_view_name": "LayoutView",
            "grid_template_rows": null,
            "right": null,
            "justify_content": null,
            "_view_module": "@jupyter-widgets/base",
            "overflow": null,
            "_model_module_version": "1.2.0",
            "_view_count": null,
            "flex_flow": null,
            "width": "35%",
            "min_width": null,
            "border": null,
            "align_items": null,
            "bottom": null,
            "_model_module": "@jupyter-widgets/base",
            "top": null,
            "grid_column": null,
            "overflow_y": null,
            "overflow_x": null,
            "grid_auto_flow": null,
            "grid_area": null,
            "grid_template_columns": null,
            "flex": null,
            "_model_name": "LayoutModel",
            "justify_items": null,
            "grid_row": null,
            "max_height": null,
            "align_content": null,
            "visibility": null,
            "align_self": null,
            "height": "30px",
            "min_height": null,
            "padding": null,
            "grid_auto_rows": null,
            "grid_gap": null,
            "max_width": null,
            "order": null,
            "_view_module_version": "1.2.0",
            "grid_template_areas": null,
            "object_position": null,
            "object_fit": null,
            "grid_auto_columns": null,
            "margin": null,
            "display": null,
            "left": null
          }
        },
        "395655dae360415b83fd3983df8f34f1": {
          "model_module": "@jupyter-widgets/controls",
          "model_name": "CheckboxModel",
          "model_module_version": "1.5.0",
          "state": {
            "_view_name": "CheckboxView",
            "style": "IPY_MODEL_4b2b9c4dbe354bac939b343baaaef599",
            "_dom_classes": [],
            "description": "Reporter.intensity.corrected.3.AGE",
            "_model_name": "CheckboxModel",
            "_view_module": "@jupyter-widgets/controls",
            "_model_module_version": "1.5.0",
            "value": false,
            "_view_count": null,
            "disabled": false,
            "_view_module_version": "1.5.0",
            "indent": false,
            "description_tooltip": null,
            "_model_module": "@jupyter-widgets/controls",
            "layout": "IPY_MODEL_fdf497e35a6f4b81ac58a5485512e524"
          }
        },
        "4b2b9c4dbe354bac939b343baaaef599": {
          "model_module": "@jupyter-widgets/controls",
          "model_name": "DescriptionStyleModel",
          "model_module_version": "1.5.0",
          "state": {
            "_view_name": "StyleView",
            "_model_name": "DescriptionStyleModel",
            "description_width": "",
            "_view_module": "@jupyter-widgets/base",
            "_model_module_version": "1.5.0",
            "_view_count": null,
            "_view_module_version": "1.2.0",
            "_model_module": "@jupyter-widgets/controls"
          }
        },
        "fdf497e35a6f4b81ac58a5485512e524": {
          "model_module": "@jupyter-widgets/base",
          "model_name": "LayoutModel",
          "model_module_version": "1.2.0",
          "state": {
            "_view_name": "LayoutView",
            "grid_template_rows": null,
            "right": null,
            "justify_content": null,
            "_view_module": "@jupyter-widgets/base",
            "overflow": null,
            "_model_module_version": "1.2.0",
            "_view_count": null,
            "flex_flow": null,
            "width": null,
            "min_width": null,
            "border": null,
            "align_items": null,
            "bottom": null,
            "_model_module": "@jupyter-widgets/base",
            "top": null,
            "grid_column": null,
            "overflow_y": null,
            "overflow_x": null,
            "grid_auto_flow": null,
            "grid_area": null,
            "grid_template_columns": null,
            "flex": null,
            "_model_name": "LayoutModel",
            "justify_items": null,
            "grid_row": null,
            "max_height": null,
            "align_content": null,
            "visibility": null,
            "align_self": null,
            "height": null,
            "min_height": null,
            "padding": null,
            "grid_auto_rows": null,
            "grid_gap": null,
            "max_width": null,
            "order": null,
            "_view_module_version": "1.2.0",
            "grid_template_areas": null,
            "object_position": null,
            "object_fit": null,
            "grid_auto_columns": null,
            "margin": null,
            "display": null,
            "left": null
          }
        },
        "f23fd60812e440f7aaf35b087a437f61": {
          "model_module": "@jupyter-widgets/controls",
          "model_name": "TextModel",
          "model_module_version": "1.5.0",
          "state": {
            "_view_name": "TextView",
            "style": "IPY_MODEL_8de1ee7077504894800b2d9a664b7ed5",
            "_dom_classes": [],
            "description": "condition",
            "_model_name": "TextModel",
            "placeholder": "​",
            "_view_module": "@jupyter-widgets/controls",
            "_model_module_version": "1.5.0",
            "value": "",
            "_view_count": null,
            "disabled": false,
            "_view_module_version": "1.5.0",
            "continuous_update": true,
            "description_tooltip": null,
            "_model_module": "@jupyter-widgets/controls",
            "layout": "IPY_MODEL_04ef0a23fad94b269a6f0131e665fe14"
          }
        },
        "8de1ee7077504894800b2d9a664b7ed5": {
          "model_module": "@jupyter-widgets/controls",
          "model_name": "DescriptionStyleModel",
          "model_module_version": "1.5.0",
          "state": {
            "_view_name": "StyleView",
            "_model_name": "DescriptionStyleModel",
            "description_width": "",
            "_view_module": "@jupyter-widgets/base",
            "_model_module_version": "1.5.0",
            "_view_count": null,
            "_view_module_version": "1.2.0",
            "_model_module": "@jupyter-widgets/controls"
          }
        },
        "04ef0a23fad94b269a6f0131e665fe14": {
          "model_module": "@jupyter-widgets/base",
          "model_name": "LayoutModel",
          "model_module_version": "1.2.0",
          "state": {
            "_view_name": "LayoutView",
            "grid_template_rows": null,
            "right": null,
            "justify_content": null,
            "_view_module": "@jupyter-widgets/base",
            "overflow": null,
            "_model_module_version": "1.2.0",
            "_view_count": null,
            "flex_flow": null,
            "width": "35%",
            "min_width": null,
            "border": null,
            "align_items": null,
            "bottom": null,
            "_model_module": "@jupyter-widgets/base",
            "top": null,
            "grid_column": null,
            "overflow_y": null,
            "overflow_x": null,
            "grid_auto_flow": null,
            "grid_area": null,
            "grid_template_columns": null,
            "flex": null,
            "_model_name": "LayoutModel",
            "justify_items": null,
            "grid_row": null,
            "max_height": null,
            "align_content": null,
            "visibility": null,
            "align_self": null,
            "height": "30px",
            "min_height": null,
            "padding": null,
            "grid_auto_rows": null,
            "grid_gap": null,
            "max_width": null,
            "order": null,
            "_view_module_version": "1.2.0",
            "grid_template_areas": null,
            "object_position": null,
            "object_fit": null,
            "grid_auto_columns": null,
            "margin": null,
            "display": null,
            "left": null
          }
        },
        "c6bc0ebd85f84686a00641194f2a3087": {
          "model_module": "@jupyter-widgets/controls",
          "model_name": "TextModel",
          "model_module_version": "1.5.0",
          "state": {
            "_view_name": "TextView",
            "style": "IPY_MODEL_5d875c55bba24cc1b010888a671c0f3b",
            "_dom_classes": [],
            "description": "replicate",
            "_model_name": "TextModel",
            "placeholder": "​",
            "_view_module": "@jupyter-widgets/controls",
            "_model_module_version": "1.5.0",
            "value": "",
            "_view_count": null,
            "disabled": false,
            "_view_module_version": "1.5.0",
            "continuous_update": true,
            "description_tooltip": null,
            "_model_module": "@jupyter-widgets/controls",
            "layout": "IPY_MODEL_80d020dc3a894095945cdfbb36cac20b"
          }
        },
        "5d875c55bba24cc1b010888a671c0f3b": {
          "model_module": "@jupyter-widgets/controls",
          "model_name": "DescriptionStyleModel",
          "model_module_version": "1.5.0",
          "state": {
            "_view_name": "StyleView",
            "_model_name": "DescriptionStyleModel",
            "description_width": "",
            "_view_module": "@jupyter-widgets/base",
            "_model_module_version": "1.5.0",
            "_view_count": null,
            "_view_module_version": "1.2.0",
            "_model_module": "@jupyter-widgets/controls"
          }
        },
        "80d020dc3a894095945cdfbb36cac20b": {
          "model_module": "@jupyter-widgets/base",
          "model_name": "LayoutModel",
          "model_module_version": "1.2.0",
          "state": {
            "_view_name": "LayoutView",
            "grid_template_rows": null,
            "right": null,
            "justify_content": null,
            "_view_module": "@jupyter-widgets/base",
            "overflow": null,
            "_model_module_version": "1.2.0",
            "_view_count": null,
            "flex_flow": null,
            "width": "35%",
            "min_width": null,
            "border": null,
            "align_items": null,
            "bottom": null,
            "_model_module": "@jupyter-widgets/base",
            "top": null,
            "grid_column": null,
            "overflow_y": null,
            "overflow_x": null,
            "grid_auto_flow": null,
            "grid_area": null,
            "grid_template_columns": null,
            "flex": null,
            "_model_name": "LayoutModel",
            "justify_items": null,
            "grid_row": null,
            "max_height": null,
            "align_content": null,
            "visibility": null,
            "align_self": null,
            "height": "30px",
            "min_height": null,
            "padding": null,
            "grid_auto_rows": null,
            "grid_gap": null,
            "max_width": null,
            "order": null,
            "_view_module_version": "1.2.0",
            "grid_template_areas": null,
            "object_position": null,
            "object_fit": null,
            "grid_auto_columns": null,
            "margin": null,
            "display": null,
            "left": null
          }
        },
        "d9a75a665632460d850095f1034d039e": {
          "model_module": "@jupyter-widgets/controls",
          "model_name": "CheckboxModel",
          "model_module_version": "1.5.0",
          "state": {
            "_view_name": "CheckboxView",
            "style": "IPY_MODEL_d4130ace59124649a85d45685a660604",
            "_dom_classes": [],
            "description": "Reporter.intensity.corrected.4.AGE",
            "_model_name": "CheckboxModel",
            "_view_module": "@jupyter-widgets/controls",
            "_model_module_version": "1.5.0",
            "value": false,
            "_view_count": null,
            "disabled": false,
            "_view_module_version": "1.5.0",
            "indent": false,
            "description_tooltip": null,
            "_model_module": "@jupyter-widgets/controls",
            "layout": "IPY_MODEL_19633c1b2e3548eb9b923352829842df"
          }
        },
        "d4130ace59124649a85d45685a660604": {
          "model_module": "@jupyter-widgets/controls",
          "model_name": "DescriptionStyleModel",
          "model_module_version": "1.5.0",
          "state": {
            "_view_name": "StyleView",
            "_model_name": "DescriptionStyleModel",
            "description_width": "",
            "_view_module": "@jupyter-widgets/base",
            "_model_module_version": "1.5.0",
            "_view_count": null,
            "_view_module_version": "1.2.0",
            "_model_module": "@jupyter-widgets/controls"
          }
        },
        "19633c1b2e3548eb9b923352829842df": {
          "model_module": "@jupyter-widgets/base",
          "model_name": "LayoutModel",
          "model_module_version": "1.2.0",
          "state": {
            "_view_name": "LayoutView",
            "grid_template_rows": null,
            "right": null,
            "justify_content": null,
            "_view_module": "@jupyter-widgets/base",
            "overflow": null,
            "_model_module_version": "1.2.0",
            "_view_count": null,
            "flex_flow": null,
            "width": null,
            "min_width": null,
            "border": null,
            "align_items": null,
            "bottom": null,
            "_model_module": "@jupyter-widgets/base",
            "top": null,
            "grid_column": null,
            "overflow_y": null,
            "overflow_x": null,
            "grid_auto_flow": null,
            "grid_area": null,
            "grid_template_columns": null,
            "flex": null,
            "_model_name": "LayoutModel",
            "justify_items": null,
            "grid_row": null,
            "max_height": null,
            "align_content": null,
            "visibility": null,
            "align_self": null,
            "height": null,
            "min_height": null,
            "padding": null,
            "grid_auto_rows": null,
            "grid_gap": null,
            "max_width": null,
            "order": null,
            "_view_module_version": "1.2.0",
            "grid_template_areas": null,
            "object_position": null,
            "object_fit": null,
            "grid_auto_columns": null,
            "margin": null,
            "display": null,
            "left": null
          }
        },
        "eff9286dd8b44a14930573c3f891df0e": {
          "model_module": "@jupyter-widgets/controls",
          "model_name": "TextModel",
          "model_module_version": "1.5.0",
          "state": {
            "_view_name": "TextView",
            "style": "IPY_MODEL_b05adf525ec84758a14070316b319dc9",
            "_dom_classes": [],
            "description": "condition",
            "_model_name": "TextModel",
            "placeholder": "​",
            "_view_module": "@jupyter-widgets/controls",
            "_model_module_version": "1.5.0",
            "value": "",
            "_view_count": null,
            "disabled": false,
            "_view_module_version": "1.5.0",
            "continuous_update": true,
            "description_tooltip": null,
            "_model_module": "@jupyter-widgets/controls",
            "layout": "IPY_MODEL_0ce25f9585724c3ea767a1fe444426fe"
          }
        },
        "b05adf525ec84758a14070316b319dc9": {
          "model_module": "@jupyter-widgets/controls",
          "model_name": "DescriptionStyleModel",
          "model_module_version": "1.5.0",
          "state": {
            "_view_name": "StyleView",
            "_model_name": "DescriptionStyleModel",
            "description_width": "",
            "_view_module": "@jupyter-widgets/base",
            "_model_module_version": "1.5.0",
            "_view_count": null,
            "_view_module_version": "1.2.0",
            "_model_module": "@jupyter-widgets/controls"
          }
        },
        "0ce25f9585724c3ea767a1fe444426fe": {
          "model_module": "@jupyter-widgets/base",
          "model_name": "LayoutModel",
          "model_module_version": "1.2.0",
          "state": {
            "_view_name": "LayoutView",
            "grid_template_rows": null,
            "right": null,
            "justify_content": null,
            "_view_module": "@jupyter-widgets/base",
            "overflow": null,
            "_model_module_version": "1.2.0",
            "_view_count": null,
            "flex_flow": null,
            "width": "35%",
            "min_width": null,
            "border": null,
            "align_items": null,
            "bottom": null,
            "_model_module": "@jupyter-widgets/base",
            "top": null,
            "grid_column": null,
            "overflow_y": null,
            "overflow_x": null,
            "grid_auto_flow": null,
            "grid_area": null,
            "grid_template_columns": null,
            "flex": null,
            "_model_name": "LayoutModel",
            "justify_items": null,
            "grid_row": null,
            "max_height": null,
            "align_content": null,
            "visibility": null,
            "align_self": null,
            "height": "30px",
            "min_height": null,
            "padding": null,
            "grid_auto_rows": null,
            "grid_gap": null,
            "max_width": null,
            "order": null,
            "_view_module_version": "1.2.0",
            "grid_template_areas": null,
            "object_position": null,
            "object_fit": null,
            "grid_auto_columns": null,
            "margin": null,
            "display": null,
            "left": null
          }
        },
        "f79baa6cc2ff4cf7986fda0c3509b009": {
          "model_module": "@jupyter-widgets/controls",
          "model_name": "TextModel",
          "model_module_version": "1.5.0",
          "state": {
            "_view_name": "TextView",
            "style": "IPY_MODEL_af9f8a2f431c433da6bc028c4dc91a32",
            "_dom_classes": [],
            "description": "replicate",
            "_model_name": "TextModel",
            "placeholder": "​",
            "_view_module": "@jupyter-widgets/controls",
            "_model_module_version": "1.5.0",
            "value": "",
            "_view_count": null,
            "disabled": false,
            "_view_module_version": "1.5.0",
            "continuous_update": true,
            "description_tooltip": null,
            "_model_module": "@jupyter-widgets/controls",
            "layout": "IPY_MODEL_1f472801093541d19d8be6458feeaa08"
          }
        },
        "af9f8a2f431c433da6bc028c4dc91a32": {
          "model_module": "@jupyter-widgets/controls",
          "model_name": "DescriptionStyleModel",
          "model_module_version": "1.5.0",
          "state": {
            "_view_name": "StyleView",
            "_model_name": "DescriptionStyleModel",
            "description_width": "",
            "_view_module": "@jupyter-widgets/base",
            "_model_module_version": "1.5.0",
            "_view_count": null,
            "_view_module_version": "1.2.0",
            "_model_module": "@jupyter-widgets/controls"
          }
        },
        "1f472801093541d19d8be6458feeaa08": {
          "model_module": "@jupyter-widgets/base",
          "model_name": "LayoutModel",
          "model_module_version": "1.2.0",
          "state": {
            "_view_name": "LayoutView",
            "grid_template_rows": null,
            "right": null,
            "justify_content": null,
            "_view_module": "@jupyter-widgets/base",
            "overflow": null,
            "_model_module_version": "1.2.0",
            "_view_count": null,
            "flex_flow": null,
            "width": "35%",
            "min_width": null,
            "border": null,
            "align_items": null,
            "bottom": null,
            "_model_module": "@jupyter-widgets/base",
            "top": null,
            "grid_column": null,
            "overflow_y": null,
            "overflow_x": null,
            "grid_auto_flow": null,
            "grid_area": null,
            "grid_template_columns": null,
            "flex": null,
            "_model_name": "LayoutModel",
            "justify_items": null,
            "grid_row": null,
            "max_height": null,
            "align_content": null,
            "visibility": null,
            "align_self": null,
            "height": "30px",
            "min_height": null,
            "padding": null,
            "grid_auto_rows": null,
            "grid_gap": null,
            "max_width": null,
            "order": null,
            "_view_module_version": "1.2.0",
            "grid_template_areas": null,
            "object_position": null,
            "object_fit": null,
            "grid_auto_columns": null,
            "margin": null,
            "display": null,
            "left": null
          }
        },
        "8717334d554140ae8e25caa827c91742": {
          "model_module": "@jupyter-widgets/controls",
          "model_name": "CheckboxModel",
          "model_module_version": "1.5.0",
          "state": {
            "_view_name": "CheckboxView",
            "style": "IPY_MODEL_337e05e8aa6945acbd3e248e45095f41",
            "_dom_classes": [],
            "description": "Reporter.intensity.corrected.5.AGE",
            "_model_name": "CheckboxModel",
            "_view_module": "@jupyter-widgets/controls",
            "_model_module_version": "1.5.0",
            "value": true,
            "_view_count": null,
            "disabled": false,
            "_view_module_version": "1.5.0",
            "indent": false,
            "description_tooltip": null,
            "_model_module": "@jupyter-widgets/controls",
            "layout": "IPY_MODEL_904caf9876154412bd40dc81f1251222"
          }
        },
        "337e05e8aa6945acbd3e248e45095f41": {
          "model_module": "@jupyter-widgets/controls",
          "model_name": "DescriptionStyleModel",
          "model_module_version": "1.5.0",
          "state": {
            "_view_name": "StyleView",
            "_model_name": "DescriptionStyleModel",
            "description_width": "",
            "_view_module": "@jupyter-widgets/base",
            "_model_module_version": "1.5.0",
            "_view_count": null,
            "_view_module_version": "1.2.0",
            "_model_module": "@jupyter-widgets/controls"
          }
        },
        "904caf9876154412bd40dc81f1251222": {
          "model_module": "@jupyter-widgets/base",
          "model_name": "LayoutModel",
          "model_module_version": "1.2.0",
          "state": {
            "_view_name": "LayoutView",
            "grid_template_rows": null,
            "right": null,
            "justify_content": null,
            "_view_module": "@jupyter-widgets/base",
            "overflow": null,
            "_model_module_version": "1.2.0",
            "_view_count": null,
            "flex_flow": null,
            "width": null,
            "min_width": null,
            "border": null,
            "align_items": null,
            "bottom": null,
            "_model_module": "@jupyter-widgets/base",
            "top": null,
            "grid_column": null,
            "overflow_y": null,
            "overflow_x": null,
            "grid_auto_flow": null,
            "grid_area": null,
            "grid_template_columns": null,
            "flex": null,
            "_model_name": "LayoutModel",
            "justify_items": null,
            "grid_row": null,
            "max_height": null,
            "align_content": null,
            "visibility": null,
            "align_self": null,
            "height": null,
            "min_height": null,
            "padding": null,
            "grid_auto_rows": null,
            "grid_gap": null,
            "max_width": null,
            "order": null,
            "_view_module_version": "1.2.0",
            "grid_template_areas": null,
            "object_position": null,
            "object_fit": null,
            "grid_auto_columns": null,
            "margin": null,
            "display": null,
            "left": null
          }
        },
        "8f9f5c54550b43aeb9f1d075583a0a48": {
          "model_module": "@jupyter-widgets/controls",
          "model_name": "TextModel",
          "model_module_version": "1.5.0",
          "state": {
            "_view_name": "TextView",
            "style": "IPY_MODEL_d08735976c9c44af988520cf795d5bf3",
            "_dom_classes": [],
            "description": "condition",
            "_model_name": "TextModel",
            "placeholder": "​",
            "_view_module": "@jupyter-widgets/controls",
            "_model_module_version": "1.5.0",
            "value": "ABC",
            "_view_count": null,
            "disabled": false,
            "_view_module_version": "1.5.0",
            "continuous_update": true,
            "description_tooltip": null,
            "_model_module": "@jupyter-widgets/controls",
            "layout": "IPY_MODEL_07ee06de37bb458295b9623d60839060"
          }
        },
        "d08735976c9c44af988520cf795d5bf3": {
          "model_module": "@jupyter-widgets/controls",
          "model_name": "DescriptionStyleModel",
          "model_module_version": "1.5.0",
          "state": {
            "_view_name": "StyleView",
            "_model_name": "DescriptionStyleModel",
            "description_width": "",
            "_view_module": "@jupyter-widgets/base",
            "_model_module_version": "1.5.0",
            "_view_count": null,
            "_view_module_version": "1.2.0",
            "_model_module": "@jupyter-widgets/controls"
          }
        },
        "07ee06de37bb458295b9623d60839060": {
          "model_module": "@jupyter-widgets/base",
          "model_name": "LayoutModel",
          "model_module_version": "1.2.0",
          "state": {
            "_view_name": "LayoutView",
            "grid_template_rows": null,
            "right": null,
            "justify_content": null,
            "_view_module": "@jupyter-widgets/base",
            "overflow": null,
            "_model_module_version": "1.2.0",
            "_view_count": null,
            "flex_flow": null,
            "width": "35%",
            "min_width": null,
            "border": null,
            "align_items": null,
            "bottom": null,
            "_model_module": "@jupyter-widgets/base",
            "top": null,
            "grid_column": null,
            "overflow_y": null,
            "overflow_x": null,
            "grid_auto_flow": null,
            "grid_area": null,
            "grid_template_columns": null,
            "flex": null,
            "_model_name": "LayoutModel",
            "justify_items": null,
            "grid_row": null,
            "max_height": null,
            "align_content": null,
            "visibility": null,
            "align_self": null,
            "height": "30px",
            "min_height": null,
            "padding": null,
            "grid_auto_rows": null,
            "grid_gap": null,
            "max_width": null,
            "order": null,
            "_view_module_version": "1.2.0",
            "grid_template_areas": null,
            "object_position": null,
            "object_fit": null,
            "grid_auto_columns": null,
            "margin": null,
            "display": null,
            "left": null
          }
        },
        "a21e045fb548431dab681dac6c2ef58e": {
          "model_module": "@jupyter-widgets/controls",
          "model_name": "TextModel",
          "model_module_version": "1.5.0",
          "state": {
            "_view_name": "TextView",
            "style": "IPY_MODEL_e680d05afd904c63809b640f7095cc4d",
            "_dom_classes": [],
            "description": "replicate",
            "_model_name": "TextModel",
            "placeholder": "​",
            "_view_module": "@jupyter-widgets/controls",
            "_model_module_version": "1.5.0",
            "value": "3",
            "_view_count": null,
            "disabled": false,
            "_view_module_version": "1.5.0",
            "continuous_update": true,
            "description_tooltip": null,
            "_model_module": "@jupyter-widgets/controls",
            "layout": "IPY_MODEL_5e2d3d4ba54d47e3b06df4dd977becfc"
          }
        },
        "e680d05afd904c63809b640f7095cc4d": {
          "model_module": "@jupyter-widgets/controls",
          "model_name": "DescriptionStyleModel",
          "model_module_version": "1.5.0",
          "state": {
            "_view_name": "StyleView",
            "_model_name": "DescriptionStyleModel",
            "description_width": "",
            "_view_module": "@jupyter-widgets/base",
            "_model_module_version": "1.5.0",
            "_view_count": null,
            "_view_module_version": "1.2.0",
            "_model_module": "@jupyter-widgets/controls"
          }
        },
        "5e2d3d4ba54d47e3b06df4dd977becfc": {
          "model_module": "@jupyter-widgets/base",
          "model_name": "LayoutModel",
          "model_module_version": "1.2.0",
          "state": {
            "_view_name": "LayoutView",
            "grid_template_rows": null,
            "right": null,
            "justify_content": null,
            "_view_module": "@jupyter-widgets/base",
            "overflow": null,
            "_model_module_version": "1.2.0",
            "_view_count": null,
            "flex_flow": null,
            "width": "35%",
            "min_width": null,
            "border": null,
            "align_items": null,
            "bottom": null,
            "_model_module": "@jupyter-widgets/base",
            "top": null,
            "grid_column": null,
            "overflow_y": null,
            "overflow_x": null,
            "grid_auto_flow": null,
            "grid_area": null,
            "grid_template_columns": null,
            "flex": null,
            "_model_name": "LayoutModel",
            "justify_items": null,
            "grid_row": null,
            "max_height": null,
            "align_content": null,
            "visibility": null,
            "align_self": null,
            "height": "30px",
            "min_height": null,
            "padding": null,
            "grid_auto_rows": null,
            "grid_gap": null,
            "max_width": null,
            "order": null,
            "_view_module_version": "1.2.0",
            "grid_template_areas": null,
            "object_position": null,
            "object_fit": null,
            "grid_auto_columns": null,
            "margin": null,
            "display": null,
            "left": null
          }
        },
        "4f86062eb97e4807b33002b21cfb1abb": {
          "model_module": "@jupyter-widgets/controls",
          "model_name": "CheckboxModel",
          "model_module_version": "1.5.0",
          "state": {
            "_view_name": "CheckboxView",
            "style": "IPY_MODEL_12101eca29e3477d835dbf5197cc2679",
            "_dom_classes": [],
            "description": "Reporter.intensity.corrected.6.AGE",
            "_model_name": "CheckboxModel",
            "_view_module": "@jupyter-widgets/controls",
            "_model_module_version": "1.5.0",
            "value": true,
            "_view_count": null,
            "disabled": false,
            "_view_module_version": "1.5.0",
            "indent": false,
            "description_tooltip": null,
            "_model_module": "@jupyter-widgets/controls",
            "layout": "IPY_MODEL_cbc0147ab9b84007b4a77f75b87a7663"
          }
        },
        "12101eca29e3477d835dbf5197cc2679": {
          "model_module": "@jupyter-widgets/controls",
          "model_name": "DescriptionStyleModel",
          "model_module_version": "1.5.0",
          "state": {
            "_view_name": "StyleView",
            "_model_name": "DescriptionStyleModel",
            "description_width": "",
            "_view_module": "@jupyter-widgets/base",
            "_model_module_version": "1.5.0",
            "_view_count": null,
            "_view_module_version": "1.2.0",
            "_model_module": "@jupyter-widgets/controls"
          }
        },
        "cbc0147ab9b84007b4a77f75b87a7663": {
          "model_module": "@jupyter-widgets/base",
          "model_name": "LayoutModel",
          "model_module_version": "1.2.0",
          "state": {
            "_view_name": "LayoutView",
            "grid_template_rows": null,
            "right": null,
            "justify_content": null,
            "_view_module": "@jupyter-widgets/base",
            "overflow": null,
            "_model_module_version": "1.2.0",
            "_view_count": null,
            "flex_flow": null,
            "width": null,
            "min_width": null,
            "border": null,
            "align_items": null,
            "bottom": null,
            "_model_module": "@jupyter-widgets/base",
            "top": null,
            "grid_column": null,
            "overflow_y": null,
            "overflow_x": null,
            "grid_auto_flow": null,
            "grid_area": null,
            "grid_template_columns": null,
            "flex": null,
            "_model_name": "LayoutModel",
            "justify_items": null,
            "grid_row": null,
            "max_height": null,
            "align_content": null,
            "visibility": null,
            "align_self": null,
            "height": null,
            "min_height": null,
            "padding": null,
            "grid_auto_rows": null,
            "grid_gap": null,
            "max_width": null,
            "order": null,
            "_view_module_version": "1.2.0",
            "grid_template_areas": null,
            "object_position": null,
            "object_fit": null,
            "grid_auto_columns": null,
            "margin": null,
            "display": null,
            "left": null
          }
        },
        "cafb1407f1334e67935e9edb9289b025": {
          "model_module": "@jupyter-widgets/controls",
          "model_name": "TextModel",
          "model_module_version": "1.5.0",
          "state": {
            "_view_name": "TextView",
            "style": "IPY_MODEL_9c438cf8a921471ca643d0a38057a6a5",
            "_dom_classes": [],
            "description": "condition",
            "_model_name": "TextModel",
            "placeholder": "​",
            "_view_module": "@jupyter-widgets/controls",
            "_model_module_version": "1.5.0",
            "value": "BCD",
            "_view_count": null,
            "disabled": false,
            "_view_module_version": "1.5.0",
            "continuous_update": true,
            "description_tooltip": null,
            "_model_module": "@jupyter-widgets/controls",
            "layout": "IPY_MODEL_9bc446d52f064dca83b08ece119cc38b"
          }
        },
        "9c438cf8a921471ca643d0a38057a6a5": {
          "model_module": "@jupyter-widgets/controls",
          "model_name": "DescriptionStyleModel",
          "model_module_version": "1.5.0",
          "state": {
            "_view_name": "StyleView",
            "_model_name": "DescriptionStyleModel",
            "description_width": "",
            "_view_module": "@jupyter-widgets/base",
            "_model_module_version": "1.5.0",
            "_view_count": null,
            "_view_module_version": "1.2.0",
            "_model_module": "@jupyter-widgets/controls"
          }
        },
        "9bc446d52f064dca83b08ece119cc38b": {
          "model_module": "@jupyter-widgets/base",
          "model_name": "LayoutModel",
          "model_module_version": "1.2.0",
          "state": {
            "_view_name": "LayoutView",
            "grid_template_rows": null,
            "right": null,
            "justify_content": null,
            "_view_module": "@jupyter-widgets/base",
            "overflow": null,
            "_model_module_version": "1.2.0",
            "_view_count": null,
            "flex_flow": null,
            "width": "35%",
            "min_width": null,
            "border": null,
            "align_items": null,
            "bottom": null,
            "_model_module": "@jupyter-widgets/base",
            "top": null,
            "grid_column": null,
            "overflow_y": null,
            "overflow_x": null,
            "grid_auto_flow": null,
            "grid_area": null,
            "grid_template_columns": null,
            "flex": null,
            "_model_name": "LayoutModel",
            "justify_items": null,
            "grid_row": null,
            "max_height": null,
            "align_content": null,
            "visibility": null,
            "align_self": null,
            "height": "30px",
            "min_height": null,
            "padding": null,
            "grid_auto_rows": null,
            "grid_gap": null,
            "max_width": null,
            "order": null,
            "_view_module_version": "1.2.0",
            "grid_template_areas": null,
            "object_position": null,
            "object_fit": null,
            "grid_auto_columns": null,
            "margin": null,
            "display": null,
            "left": null
          }
        },
        "74178f6105ab414dba89841696cc0475": {
          "model_module": "@jupyter-widgets/controls",
          "model_name": "TextModel",
          "model_module_version": "1.5.0",
          "state": {
            "_view_name": "TextView",
            "style": "IPY_MODEL_bf6d1ae589b9481a987a7968835ed54a",
            "_dom_classes": [],
            "description": "replicate",
            "_model_name": "TextModel",
            "placeholder": "​",
            "_view_module": "@jupyter-widgets/controls",
            "_model_module_version": "1.5.0",
            "value": "1",
            "_view_count": null,
            "disabled": false,
            "_view_module_version": "1.5.0",
            "continuous_update": true,
            "description_tooltip": null,
            "_model_module": "@jupyter-widgets/controls",
            "layout": "IPY_MODEL_e93332f19fd04495b979ea18816046e4"
          }
        },
        "bf6d1ae589b9481a987a7968835ed54a": {
          "model_module": "@jupyter-widgets/controls",
          "model_name": "DescriptionStyleModel",
          "model_module_version": "1.5.0",
          "state": {
            "_view_name": "StyleView",
            "_model_name": "DescriptionStyleModel",
            "description_width": "",
            "_view_module": "@jupyter-widgets/base",
            "_model_module_version": "1.5.0",
            "_view_count": null,
            "_view_module_version": "1.2.0",
            "_model_module": "@jupyter-widgets/controls"
          }
        },
        "e93332f19fd04495b979ea18816046e4": {
          "model_module": "@jupyter-widgets/base",
          "model_name": "LayoutModel",
          "model_module_version": "1.2.0",
          "state": {
            "_view_name": "LayoutView",
            "grid_template_rows": null,
            "right": null,
            "justify_content": null,
            "_view_module": "@jupyter-widgets/base",
            "overflow": null,
            "_model_module_version": "1.2.0",
            "_view_count": null,
            "flex_flow": null,
            "width": "35%",
            "min_width": null,
            "border": null,
            "align_items": null,
            "bottom": null,
            "_model_module": "@jupyter-widgets/base",
            "top": null,
            "grid_column": null,
            "overflow_y": null,
            "overflow_x": null,
            "grid_auto_flow": null,
            "grid_area": null,
            "grid_template_columns": null,
            "flex": null,
            "_model_name": "LayoutModel",
            "justify_items": null,
            "grid_row": null,
            "max_height": null,
            "align_content": null,
            "visibility": null,
            "align_self": null,
            "height": "30px",
            "min_height": null,
            "padding": null,
            "grid_auto_rows": null,
            "grid_gap": null,
            "max_width": null,
            "order": null,
            "_view_module_version": "1.2.0",
            "grid_template_areas": null,
            "object_position": null,
            "object_fit": null,
            "grid_auto_columns": null,
            "margin": null,
            "display": null,
            "left": null
          }
        },
        "a887d987f4db46d79cdcefb9c31cd484": {
          "model_module": "@jupyter-widgets/controls",
          "model_name": "CheckboxModel",
          "model_module_version": "1.5.0",
          "state": {
            "_view_name": "CheckboxView",
            "style": "IPY_MODEL_9328c7a21d914b1a98eb0e53bddea97f",
            "_dom_classes": [],
            "description": "Reporter.intensity.corrected.7.AGE",
            "_model_name": "CheckboxModel",
            "_view_module": "@jupyter-widgets/controls",
            "_model_module_version": "1.5.0",
            "value": true,
            "_view_count": null,
            "disabled": false,
            "_view_module_version": "1.5.0",
            "indent": false,
            "description_tooltip": null,
            "_model_module": "@jupyter-widgets/controls",
            "layout": "IPY_MODEL_39091c16e851411ca1f92b883cac62e3"
          }
        },
        "9328c7a21d914b1a98eb0e53bddea97f": {
          "model_module": "@jupyter-widgets/controls",
          "model_name": "DescriptionStyleModel",
          "model_module_version": "1.5.0",
          "state": {
            "_view_name": "StyleView",
            "_model_name": "DescriptionStyleModel",
            "description_width": "",
            "_view_module": "@jupyter-widgets/base",
            "_model_module_version": "1.5.0",
            "_view_count": null,
            "_view_module_version": "1.2.0",
            "_model_module": "@jupyter-widgets/controls"
          }
        },
        "39091c16e851411ca1f92b883cac62e3": {
          "model_module": "@jupyter-widgets/base",
          "model_name": "LayoutModel",
          "model_module_version": "1.2.0",
          "state": {
            "_view_name": "LayoutView",
            "grid_template_rows": null,
            "right": null,
            "justify_content": null,
            "_view_module": "@jupyter-widgets/base",
            "overflow": null,
            "_model_module_version": "1.2.0",
            "_view_count": null,
            "flex_flow": null,
            "width": null,
            "min_width": null,
            "border": null,
            "align_items": null,
            "bottom": null,
            "_model_module": "@jupyter-widgets/base",
            "top": null,
            "grid_column": null,
            "overflow_y": null,
            "overflow_x": null,
            "grid_auto_flow": null,
            "grid_area": null,
            "grid_template_columns": null,
            "flex": null,
            "_model_name": "LayoutModel",
            "justify_items": null,
            "grid_row": null,
            "max_height": null,
            "align_content": null,
            "visibility": null,
            "align_self": null,
            "height": null,
            "min_height": null,
            "padding": null,
            "grid_auto_rows": null,
            "grid_gap": null,
            "max_width": null,
            "order": null,
            "_view_module_version": "1.2.0",
            "grid_template_areas": null,
            "object_position": null,
            "object_fit": null,
            "grid_auto_columns": null,
            "margin": null,
            "display": null,
            "left": null
          }
        },
        "67058b410187484ea8c2aab2091fa68e": {
          "model_module": "@jupyter-widgets/controls",
          "model_name": "TextModel",
          "model_module_version": "1.5.0",
          "state": {
            "_view_name": "TextView",
            "style": "IPY_MODEL_8bd00fe3f5e546678379fbd245151c52",
            "_dom_classes": [],
            "description": "condition",
            "_model_name": "TextModel",
            "placeholder": "​",
            "_view_module": "@jupyter-widgets/controls",
            "_model_module_version": "1.5.0",
            "value": "BCD",
            "_view_count": null,
            "disabled": false,
            "_view_module_version": "1.5.0",
            "continuous_update": true,
            "description_tooltip": null,
            "_model_module": "@jupyter-widgets/controls",
            "layout": "IPY_MODEL_b6a6f1f791d74131966aea967a2aba57"
          }
        },
        "8bd00fe3f5e546678379fbd245151c52": {
          "model_module": "@jupyter-widgets/controls",
          "model_name": "DescriptionStyleModel",
          "model_module_version": "1.5.0",
          "state": {
            "_view_name": "StyleView",
            "_model_name": "DescriptionStyleModel",
            "description_width": "",
            "_view_module": "@jupyter-widgets/base",
            "_model_module_version": "1.5.0",
            "_view_count": null,
            "_view_module_version": "1.2.0",
            "_model_module": "@jupyter-widgets/controls"
          }
        },
        "b6a6f1f791d74131966aea967a2aba57": {
          "model_module": "@jupyter-widgets/base",
          "model_name": "LayoutModel",
          "model_module_version": "1.2.0",
          "state": {
            "_view_name": "LayoutView",
            "grid_template_rows": null,
            "right": null,
            "justify_content": null,
            "_view_module": "@jupyter-widgets/base",
            "overflow": null,
            "_model_module_version": "1.2.0",
            "_view_count": null,
            "flex_flow": null,
            "width": "35%",
            "min_width": null,
            "border": null,
            "align_items": null,
            "bottom": null,
            "_model_module": "@jupyter-widgets/base",
            "top": null,
            "grid_column": null,
            "overflow_y": null,
            "overflow_x": null,
            "grid_auto_flow": null,
            "grid_area": null,
            "grid_template_columns": null,
            "flex": null,
            "_model_name": "LayoutModel",
            "justify_items": null,
            "grid_row": null,
            "max_height": null,
            "align_content": null,
            "visibility": null,
            "align_self": null,
            "height": "30px",
            "min_height": null,
            "padding": null,
            "grid_auto_rows": null,
            "grid_gap": null,
            "max_width": null,
            "order": null,
            "_view_module_version": "1.2.0",
            "grid_template_areas": null,
            "object_position": null,
            "object_fit": null,
            "grid_auto_columns": null,
            "margin": null,
            "display": null,
            "left": null
          }
        },
        "cf4433a9590d4b87b6bc4accb20cc1e1": {
          "model_module": "@jupyter-widgets/controls",
          "model_name": "TextModel",
          "model_module_version": "1.5.0",
          "state": {
            "_view_name": "TextView",
            "style": "IPY_MODEL_4b5b7890d96b45dc84eda4a970b85c38",
            "_dom_classes": [],
            "description": "replicate",
            "_model_name": "TextModel",
            "placeholder": "​",
            "_view_module": "@jupyter-widgets/controls",
            "_model_module_version": "1.5.0",
            "value": "2",
            "_view_count": null,
            "disabled": false,
            "_view_module_version": "1.5.0",
            "continuous_update": true,
            "description_tooltip": null,
            "_model_module": "@jupyter-widgets/controls",
            "layout": "IPY_MODEL_69940324d71140d6a4d757951b933f9a"
          }
        },
        "4b5b7890d96b45dc84eda4a970b85c38": {
          "model_module": "@jupyter-widgets/controls",
          "model_name": "DescriptionStyleModel",
          "model_module_version": "1.5.0",
          "state": {
            "_view_name": "StyleView",
            "_model_name": "DescriptionStyleModel",
            "description_width": "",
            "_view_module": "@jupyter-widgets/base",
            "_model_module_version": "1.5.0",
            "_view_count": null,
            "_view_module_version": "1.2.0",
            "_model_module": "@jupyter-widgets/controls"
          }
        },
        "69940324d71140d6a4d757951b933f9a": {
          "model_module": "@jupyter-widgets/base",
          "model_name": "LayoutModel",
          "model_module_version": "1.2.0",
          "state": {
            "_view_name": "LayoutView",
            "grid_template_rows": null,
            "right": null,
            "justify_content": null,
            "_view_module": "@jupyter-widgets/base",
            "overflow": null,
            "_model_module_version": "1.2.0",
            "_view_count": null,
            "flex_flow": null,
            "width": "35%",
            "min_width": null,
            "border": null,
            "align_items": null,
            "bottom": null,
            "_model_module": "@jupyter-widgets/base",
            "top": null,
            "grid_column": null,
            "overflow_y": null,
            "overflow_x": null,
            "grid_auto_flow": null,
            "grid_area": null,
            "grid_template_columns": null,
            "flex": null,
            "_model_name": "LayoutModel",
            "justify_items": null,
            "grid_row": null,
            "max_height": null,
            "align_content": null,
            "visibility": null,
            "align_self": null,
            "height": "30px",
            "min_height": null,
            "padding": null,
            "grid_auto_rows": null,
            "grid_gap": null,
            "max_width": null,
            "order": null,
            "_view_module_version": "1.2.0",
            "grid_template_areas": null,
            "object_position": null,
            "object_fit": null,
            "grid_auto_columns": null,
            "margin": null,
            "display": null,
            "left": null
          }
        },
        "57fde35b33734fd1b2593eef789b9b40": {
          "model_module": "@jupyter-widgets/controls",
          "model_name": "CheckboxModel",
          "model_module_version": "1.5.0",
          "state": {
            "_view_name": "CheckboxView",
            "style": "IPY_MODEL_58f68cea27774536ac649b9d3245efca",
            "_dom_classes": [],
            "description": "Reporter.intensity.corrected.8.AGE",
            "_model_name": "CheckboxModel",
            "_view_module": "@jupyter-widgets/controls",
            "_model_module_version": "1.5.0",
            "value": true,
            "_view_count": null,
            "disabled": false,
            "_view_module_version": "1.5.0",
            "indent": false,
            "description_tooltip": null,
            "_model_module": "@jupyter-widgets/controls",
            "layout": "IPY_MODEL_952986d6175448b08b0250f782dce9e5"
          }
        },
        "58f68cea27774536ac649b9d3245efca": {
          "model_module": "@jupyter-widgets/controls",
          "model_name": "DescriptionStyleModel",
          "model_module_version": "1.5.0",
          "state": {
            "_view_name": "StyleView",
            "_model_name": "DescriptionStyleModel",
            "description_width": "",
            "_view_module": "@jupyter-widgets/base",
            "_model_module_version": "1.5.0",
            "_view_count": null,
            "_view_module_version": "1.2.0",
            "_model_module": "@jupyter-widgets/controls"
          }
        },
        "952986d6175448b08b0250f782dce9e5": {
          "model_module": "@jupyter-widgets/base",
          "model_name": "LayoutModel",
          "model_module_version": "1.2.0",
          "state": {
            "_view_name": "LayoutView",
            "grid_template_rows": null,
            "right": null,
            "justify_content": null,
            "_view_module": "@jupyter-widgets/base",
            "overflow": null,
            "_model_module_version": "1.2.0",
            "_view_count": null,
            "flex_flow": null,
            "width": null,
            "min_width": null,
            "border": null,
            "align_items": null,
            "bottom": null,
            "_model_module": "@jupyter-widgets/base",
            "top": null,
            "grid_column": null,
            "overflow_y": null,
            "overflow_x": null,
            "grid_auto_flow": null,
            "grid_area": null,
            "grid_template_columns": null,
            "flex": null,
            "_model_name": "LayoutModel",
            "justify_items": null,
            "grid_row": null,
            "max_height": null,
            "align_content": null,
            "visibility": null,
            "align_self": null,
            "height": null,
            "min_height": null,
            "padding": null,
            "grid_auto_rows": null,
            "grid_gap": null,
            "max_width": null,
            "order": null,
            "_view_module_version": "1.2.0",
            "grid_template_areas": null,
            "object_position": null,
            "object_fit": null,
            "grid_auto_columns": null,
            "margin": null,
            "display": null,
            "left": null
          }
        },
        "541d1811e29d4af1b7c030cef303f1eb": {
          "model_module": "@jupyter-widgets/controls",
          "model_name": "TextModel",
          "model_module_version": "1.5.0",
          "state": {
            "_view_name": "TextView",
            "style": "IPY_MODEL_9fa65efa5790469fbba8dd7509f5f8c0",
            "_dom_classes": [],
            "description": "condition",
            "_model_name": "TextModel",
            "placeholder": "​",
            "_view_module": "@jupyter-widgets/controls",
            "_model_module_version": "1.5.0",
            "value": "BCD",
            "_view_count": null,
            "disabled": false,
            "_view_module_version": "1.5.0",
            "continuous_update": true,
            "description_tooltip": null,
            "_model_module": "@jupyter-widgets/controls",
            "layout": "IPY_MODEL_7749f579157e42ffa643c071bd212ae4"
          }
        },
        "9fa65efa5790469fbba8dd7509f5f8c0": {
          "model_module": "@jupyter-widgets/controls",
          "model_name": "DescriptionStyleModel",
          "model_module_version": "1.5.0",
          "state": {
            "_view_name": "StyleView",
            "_model_name": "DescriptionStyleModel",
            "description_width": "",
            "_view_module": "@jupyter-widgets/base",
            "_model_module_version": "1.5.0",
            "_view_count": null,
            "_view_module_version": "1.2.0",
            "_model_module": "@jupyter-widgets/controls"
          }
        },
        "7749f579157e42ffa643c071bd212ae4": {
          "model_module": "@jupyter-widgets/base",
          "model_name": "LayoutModel",
          "model_module_version": "1.2.0",
          "state": {
            "_view_name": "LayoutView",
            "grid_template_rows": null,
            "right": null,
            "justify_content": null,
            "_view_module": "@jupyter-widgets/base",
            "overflow": null,
            "_model_module_version": "1.2.0",
            "_view_count": null,
            "flex_flow": null,
            "width": "35%",
            "min_width": null,
            "border": null,
            "align_items": null,
            "bottom": null,
            "_model_module": "@jupyter-widgets/base",
            "top": null,
            "grid_column": null,
            "overflow_y": null,
            "overflow_x": null,
            "grid_auto_flow": null,
            "grid_area": null,
            "grid_template_columns": null,
            "flex": null,
            "_model_name": "LayoutModel",
            "justify_items": null,
            "grid_row": null,
            "max_height": null,
            "align_content": null,
            "visibility": null,
            "align_self": null,
            "height": "30px",
            "min_height": null,
            "padding": null,
            "grid_auto_rows": null,
            "grid_gap": null,
            "max_width": null,
            "order": null,
            "_view_module_version": "1.2.0",
            "grid_template_areas": null,
            "object_position": null,
            "object_fit": null,
            "grid_auto_columns": null,
            "margin": null,
            "display": null,
            "left": null
          }
        },
        "e1ae402b79c44f1bb52242dfe0a70430": {
          "model_module": "@jupyter-widgets/controls",
          "model_name": "TextModel",
          "model_module_version": "1.5.0",
          "state": {
            "_view_name": "TextView",
            "style": "IPY_MODEL_a3d9df3d463247c99eb537c0ee049523",
            "_dom_classes": [],
            "description": "replicate",
            "_model_name": "TextModel",
            "placeholder": "​",
            "_view_module": "@jupyter-widgets/controls",
            "_model_module_version": "1.5.0",
            "value": "3",
            "_view_count": null,
            "disabled": false,
            "_view_module_version": "1.5.0",
            "continuous_update": true,
            "description_tooltip": null,
            "_model_module": "@jupyter-widgets/controls",
            "layout": "IPY_MODEL_d77e252c4f8c4c4796d7d24e18487144"
          }
        },
        "a3d9df3d463247c99eb537c0ee049523": {
          "model_module": "@jupyter-widgets/controls",
          "model_name": "DescriptionStyleModel",
          "model_module_version": "1.5.0",
          "state": {
            "_view_name": "StyleView",
            "_model_name": "DescriptionStyleModel",
            "description_width": "",
            "_view_module": "@jupyter-widgets/base",
            "_model_module_version": "1.5.0",
            "_view_count": null,
            "_view_module_version": "1.2.0",
            "_model_module": "@jupyter-widgets/controls"
          }
        },
        "d77e252c4f8c4c4796d7d24e18487144": {
          "model_module": "@jupyter-widgets/base",
          "model_name": "LayoutModel",
          "model_module_version": "1.2.0",
          "state": {
            "_view_name": "LayoutView",
            "grid_template_rows": null,
            "right": null,
            "justify_content": null,
            "_view_module": "@jupyter-widgets/base",
            "overflow": null,
            "_model_module_version": "1.2.0",
            "_view_count": null,
            "flex_flow": null,
            "width": "35%",
            "min_width": null,
            "border": null,
            "align_items": null,
            "bottom": null,
            "_model_module": "@jupyter-widgets/base",
            "top": null,
            "grid_column": null,
            "overflow_y": null,
            "overflow_x": null,
            "grid_auto_flow": null,
            "grid_area": null,
            "grid_template_columns": null,
            "flex": null,
            "_model_name": "LayoutModel",
            "justify_items": null,
            "grid_row": null,
            "max_height": null,
            "align_content": null,
            "visibility": null,
            "align_self": null,
            "height": "30px",
            "min_height": null,
            "padding": null,
            "grid_auto_rows": null,
            "grid_gap": null,
            "max_width": null,
            "order": null,
            "_view_module_version": "1.2.0",
            "grid_template_areas": null,
            "object_position": null,
            "object_fit": null,
            "grid_auto_columns": null,
            "margin": null,
            "display": null,
            "left": null
          }
        },
        "2cd7c821ce7042df95b23ea096ad9199": {
          "model_module": "@jupyter-widgets/controls",
          "model_name": "CheckboxModel",
          "model_module_version": "1.5.0",
          "state": {
            "_view_name": "CheckboxView",
            "style": "IPY_MODEL_752d2002387043c59e5adc8a196b49a4",
            "_dom_classes": [],
            "description": "Reporter.intensity.corrected.9.AGE",
            "_model_name": "CheckboxModel",
            "_view_module": "@jupyter-widgets/controls",
            "_model_module_version": "1.5.0",
            "value": true,
            "_view_count": null,
            "disabled": false,
            "_view_module_version": "1.5.0",
            "indent": false,
            "description_tooltip": null,
            "_model_module": "@jupyter-widgets/controls",
            "layout": "IPY_MODEL_318a398606044cab9e0a52b078d5e8f2"
          }
        },
        "752d2002387043c59e5adc8a196b49a4": {
          "model_module": "@jupyter-widgets/controls",
          "model_name": "DescriptionStyleModel",
          "model_module_version": "1.5.0",
          "state": {
            "_view_name": "StyleView",
            "_model_name": "DescriptionStyleModel",
            "description_width": "",
            "_view_module": "@jupyter-widgets/base",
            "_model_module_version": "1.5.0",
            "_view_count": null,
            "_view_module_version": "1.2.0",
            "_model_module": "@jupyter-widgets/controls"
          }
        },
        "318a398606044cab9e0a52b078d5e8f2": {
          "model_module": "@jupyter-widgets/base",
          "model_name": "LayoutModel",
          "model_module_version": "1.2.0",
          "state": {
            "_view_name": "LayoutView",
            "grid_template_rows": null,
            "right": null,
            "justify_content": null,
            "_view_module": "@jupyter-widgets/base",
            "overflow": null,
            "_model_module_version": "1.2.0",
            "_view_count": null,
            "flex_flow": null,
            "width": null,
            "min_width": null,
            "border": null,
            "align_items": null,
            "bottom": null,
            "_model_module": "@jupyter-widgets/base",
            "top": null,
            "grid_column": null,
            "overflow_y": null,
            "overflow_x": null,
            "grid_auto_flow": null,
            "grid_area": null,
            "grid_template_columns": null,
            "flex": null,
            "_model_name": "LayoutModel",
            "justify_items": null,
            "grid_row": null,
            "max_height": null,
            "align_content": null,
            "visibility": null,
            "align_self": null,
            "height": null,
            "min_height": null,
            "padding": null,
            "grid_auto_rows": null,
            "grid_gap": null,
            "max_width": null,
            "order": null,
            "_view_module_version": "1.2.0",
            "grid_template_areas": null,
            "object_position": null,
            "object_fit": null,
            "grid_auto_columns": null,
            "margin": null,
            "display": null,
            "left": null
          }
        },
        "76700379dda14393aabac5925d353a65": {
          "model_module": "@jupyter-widgets/controls",
          "model_name": "TextModel",
          "model_module_version": "1.5.0",
          "state": {
            "_view_name": "TextView",
            "style": "IPY_MODEL_ac384391097f4cdf8d7ffe2bce5a4074",
            "_dom_classes": [],
            "description": "condition",
            "_model_name": "TextModel",
            "placeholder": "​",
            "_view_module": "@jupyter-widgets/controls",
            "_model_module_version": "1.5.0",
            "value": "CDE",
            "_view_count": null,
            "disabled": false,
            "_view_module_version": "1.5.0",
            "continuous_update": true,
            "description_tooltip": null,
            "_model_module": "@jupyter-widgets/controls",
            "layout": "IPY_MODEL_35abdf78bf2c4bafb38eb47e66ea3bbc"
          }
        },
        "ac384391097f4cdf8d7ffe2bce5a4074": {
          "model_module": "@jupyter-widgets/controls",
          "model_name": "DescriptionStyleModel",
          "model_module_version": "1.5.0",
          "state": {
            "_view_name": "StyleView",
            "_model_name": "DescriptionStyleModel",
            "description_width": "",
            "_view_module": "@jupyter-widgets/base",
            "_model_module_version": "1.5.0",
            "_view_count": null,
            "_view_module_version": "1.2.0",
            "_model_module": "@jupyter-widgets/controls"
          }
        },
        "35abdf78bf2c4bafb38eb47e66ea3bbc": {
          "model_module": "@jupyter-widgets/base",
          "model_name": "LayoutModel",
          "model_module_version": "1.2.0",
          "state": {
            "_view_name": "LayoutView",
            "grid_template_rows": null,
            "right": null,
            "justify_content": null,
            "_view_module": "@jupyter-widgets/base",
            "overflow": null,
            "_model_module_version": "1.2.0",
            "_view_count": null,
            "flex_flow": null,
            "width": "35%",
            "min_width": null,
            "border": null,
            "align_items": null,
            "bottom": null,
            "_model_module": "@jupyter-widgets/base",
            "top": null,
            "grid_column": null,
            "overflow_y": null,
            "overflow_x": null,
            "grid_auto_flow": null,
            "grid_area": null,
            "grid_template_columns": null,
            "flex": null,
            "_model_name": "LayoutModel",
            "justify_items": null,
            "grid_row": null,
            "max_height": null,
            "align_content": null,
            "visibility": null,
            "align_self": null,
            "height": "30px",
            "min_height": null,
            "padding": null,
            "grid_auto_rows": null,
            "grid_gap": null,
            "max_width": null,
            "order": null,
            "_view_module_version": "1.2.0",
            "grid_template_areas": null,
            "object_position": null,
            "object_fit": null,
            "grid_auto_columns": null,
            "margin": null,
            "display": null,
            "left": null
          }
        },
        "ce4b615de8ac48c4a157b868c7cdb9ed": {
          "model_module": "@jupyter-widgets/controls",
          "model_name": "TextModel",
          "model_module_version": "1.5.0",
          "state": {
            "_view_name": "TextView",
            "style": "IPY_MODEL_657f36b5de84436d8a767e4c2aaa4587",
            "_dom_classes": [],
            "description": "replicate",
            "_model_name": "TextModel",
            "placeholder": "​",
            "_view_module": "@jupyter-widgets/controls",
            "_model_module_version": "1.5.0",
            "value": "1",
            "_view_count": null,
            "disabled": false,
            "_view_module_version": "1.5.0",
            "continuous_update": true,
            "description_tooltip": null,
            "_model_module": "@jupyter-widgets/controls",
            "layout": "IPY_MODEL_35173245884d48f286b38c89dff8c23c"
          }
        },
        "657f36b5de84436d8a767e4c2aaa4587": {
          "model_module": "@jupyter-widgets/controls",
          "model_name": "DescriptionStyleModel",
          "model_module_version": "1.5.0",
          "state": {
            "_view_name": "StyleView",
            "_model_name": "DescriptionStyleModel",
            "description_width": "",
            "_view_module": "@jupyter-widgets/base",
            "_model_module_version": "1.5.0",
            "_view_count": null,
            "_view_module_version": "1.2.0",
            "_model_module": "@jupyter-widgets/controls"
          }
        },
        "35173245884d48f286b38c89dff8c23c": {
          "model_module": "@jupyter-widgets/base",
          "model_name": "LayoutModel",
          "model_module_version": "1.2.0",
          "state": {
            "_view_name": "LayoutView",
            "grid_template_rows": null,
            "right": null,
            "justify_content": null,
            "_view_module": "@jupyter-widgets/base",
            "overflow": null,
            "_model_module_version": "1.2.0",
            "_view_count": null,
            "flex_flow": null,
            "width": "35%",
            "min_width": null,
            "border": null,
            "align_items": null,
            "bottom": null,
            "_model_module": "@jupyter-widgets/base",
            "top": null,
            "grid_column": null,
            "overflow_y": null,
            "overflow_x": null,
            "grid_auto_flow": null,
            "grid_area": null,
            "grid_template_columns": null,
            "flex": null,
            "_model_name": "LayoutModel",
            "justify_items": null,
            "grid_row": null,
            "max_height": null,
            "align_content": null,
            "visibility": null,
            "align_self": null,
            "height": "30px",
            "min_height": null,
            "padding": null,
            "grid_auto_rows": null,
            "grid_gap": null,
            "max_width": null,
            "order": null,
            "_view_module_version": "1.2.0",
            "grid_template_areas": null,
            "object_position": null,
            "object_fit": null,
            "grid_auto_columns": null,
            "margin": null,
            "display": null,
            "left": null
          }
        },
        "f63b250eb41d46d2895208406fe75045": {
          "model_module": "@jupyter-widgets/controls",
          "model_name": "CheckboxModel",
          "model_module_version": "1.5.0",
          "state": {
            "_view_name": "CheckboxView",
            "style": "IPY_MODEL_5e10b34e88fc4f57a8a62558589a84c5",
            "_dom_classes": [],
            "description": "Reporter.intensity.corrected.10.AGE",
            "_model_name": "CheckboxModel",
            "_view_module": "@jupyter-widgets/controls",
            "_model_module_version": "1.5.0",
            "value": true,
            "_view_count": null,
            "disabled": false,
            "_view_module_version": "1.5.0",
            "indent": false,
            "description_tooltip": null,
            "_model_module": "@jupyter-widgets/controls",
            "layout": "IPY_MODEL_a3832a6e844f4160a64fe09ed2c14b38"
          }
        },
        "5e10b34e88fc4f57a8a62558589a84c5": {
          "model_module": "@jupyter-widgets/controls",
          "model_name": "DescriptionStyleModel",
          "model_module_version": "1.5.0",
          "state": {
            "_view_name": "StyleView",
            "_model_name": "DescriptionStyleModel",
            "description_width": "",
            "_view_module": "@jupyter-widgets/base",
            "_model_module_version": "1.5.0",
            "_view_count": null,
            "_view_module_version": "1.2.0",
            "_model_module": "@jupyter-widgets/controls"
          }
        },
        "a3832a6e844f4160a64fe09ed2c14b38": {
          "model_module": "@jupyter-widgets/base",
          "model_name": "LayoutModel",
          "model_module_version": "1.2.0",
          "state": {
            "_view_name": "LayoutView",
            "grid_template_rows": null,
            "right": null,
            "justify_content": null,
            "_view_module": "@jupyter-widgets/base",
            "overflow": null,
            "_model_module_version": "1.2.0",
            "_view_count": null,
            "flex_flow": null,
            "width": null,
            "min_width": null,
            "border": null,
            "align_items": null,
            "bottom": null,
            "_model_module": "@jupyter-widgets/base",
            "top": null,
            "grid_column": null,
            "overflow_y": null,
            "overflow_x": null,
            "grid_auto_flow": null,
            "grid_area": null,
            "grid_template_columns": null,
            "flex": null,
            "_model_name": "LayoutModel",
            "justify_items": null,
            "grid_row": null,
            "max_height": null,
            "align_content": null,
            "visibility": null,
            "align_self": null,
            "height": null,
            "min_height": null,
            "padding": null,
            "grid_auto_rows": null,
            "grid_gap": null,
            "max_width": null,
            "order": null,
            "_view_module_version": "1.2.0",
            "grid_template_areas": null,
            "object_position": null,
            "object_fit": null,
            "grid_auto_columns": null,
            "margin": null,
            "display": null,
            "left": null
          }
        },
        "084fdf0fda5c42d3aa46e6c8c80d0003": {
          "model_module": "@jupyter-widgets/controls",
          "model_name": "TextModel",
          "model_module_version": "1.5.0",
          "state": {
            "_view_name": "TextView",
            "style": "IPY_MODEL_6bf4d8e07a944716aab6b08e2b093927",
            "_dom_classes": [],
            "description": "condition",
            "_model_name": "TextModel",
            "placeholder": "​",
            "_view_module": "@jupyter-widgets/controls",
            "_model_module_version": "1.5.0",
            "value": "CDE",
            "_view_count": null,
            "disabled": false,
            "_view_module_version": "1.5.0",
            "continuous_update": true,
            "description_tooltip": null,
            "_model_module": "@jupyter-widgets/controls",
            "layout": "IPY_MODEL_5918a58039cb4741b9788ceca1de47ae"
          }
        },
        "6bf4d8e07a944716aab6b08e2b093927": {
          "model_module": "@jupyter-widgets/controls",
          "model_name": "DescriptionStyleModel",
          "model_module_version": "1.5.0",
          "state": {
            "_view_name": "StyleView",
            "_model_name": "DescriptionStyleModel",
            "description_width": "",
            "_view_module": "@jupyter-widgets/base",
            "_model_module_version": "1.5.0",
            "_view_count": null,
            "_view_module_version": "1.2.0",
            "_model_module": "@jupyter-widgets/controls"
          }
        },
        "5918a58039cb4741b9788ceca1de47ae": {
          "model_module": "@jupyter-widgets/base",
          "model_name": "LayoutModel",
          "model_module_version": "1.2.0",
          "state": {
            "_view_name": "LayoutView",
            "grid_template_rows": null,
            "right": null,
            "justify_content": null,
            "_view_module": "@jupyter-widgets/base",
            "overflow": null,
            "_model_module_version": "1.2.0",
            "_view_count": null,
            "flex_flow": null,
            "width": "35%",
            "min_width": null,
            "border": null,
            "align_items": null,
            "bottom": null,
            "_model_module": "@jupyter-widgets/base",
            "top": null,
            "grid_column": null,
            "overflow_y": null,
            "overflow_x": null,
            "grid_auto_flow": null,
            "grid_area": null,
            "grid_template_columns": null,
            "flex": null,
            "_model_name": "LayoutModel",
            "justify_items": null,
            "grid_row": null,
            "max_height": null,
            "align_content": null,
            "visibility": null,
            "align_self": null,
            "height": "30px",
            "min_height": null,
            "padding": null,
            "grid_auto_rows": null,
            "grid_gap": null,
            "max_width": null,
            "order": null,
            "_view_module_version": "1.2.0",
            "grid_template_areas": null,
            "object_position": null,
            "object_fit": null,
            "grid_auto_columns": null,
            "margin": null,
            "display": null,
            "left": null
          }
        },
        "5e158831041b485eacec9f1bdf736995": {
          "model_module": "@jupyter-widgets/controls",
          "model_name": "TextModel",
          "model_module_version": "1.5.0",
          "state": {
            "_view_name": "TextView",
            "style": "IPY_MODEL_f165ce21e50449e4b9da7c26a64afcae",
            "_dom_classes": [],
            "description": "replicate",
            "_model_name": "TextModel",
            "placeholder": "​",
            "_view_module": "@jupyter-widgets/controls",
            "_model_module_version": "1.5.0",
            "value": "2",
            "_view_count": null,
            "disabled": false,
            "_view_module_version": "1.5.0",
            "continuous_update": true,
            "description_tooltip": null,
            "_model_module": "@jupyter-widgets/controls",
            "layout": "IPY_MODEL_4b803d9a548a4c7cae22715f04827e85"
          }
        },
        "f165ce21e50449e4b9da7c26a64afcae": {
          "model_module": "@jupyter-widgets/controls",
          "model_name": "DescriptionStyleModel",
          "model_module_version": "1.5.0",
          "state": {
            "_view_name": "StyleView",
            "_model_name": "DescriptionStyleModel",
            "description_width": "",
            "_view_module": "@jupyter-widgets/base",
            "_model_module_version": "1.5.0",
            "_view_count": null,
            "_view_module_version": "1.2.0",
            "_model_module": "@jupyter-widgets/controls"
          }
        },
        "4b803d9a548a4c7cae22715f04827e85": {
          "model_module": "@jupyter-widgets/base",
          "model_name": "LayoutModel",
          "model_module_version": "1.2.0",
          "state": {
            "_view_name": "LayoutView",
            "grid_template_rows": null,
            "right": null,
            "justify_content": null,
            "_view_module": "@jupyter-widgets/base",
            "overflow": null,
            "_model_module_version": "1.2.0",
            "_view_count": null,
            "flex_flow": null,
            "width": "35%",
            "min_width": null,
            "border": null,
            "align_items": null,
            "bottom": null,
            "_model_module": "@jupyter-widgets/base",
            "top": null,
            "grid_column": null,
            "overflow_y": null,
            "overflow_x": null,
            "grid_auto_flow": null,
            "grid_area": null,
            "grid_template_columns": null,
            "flex": null,
            "_model_name": "LayoutModel",
            "justify_items": null,
            "grid_row": null,
            "max_height": null,
            "align_content": null,
            "visibility": null,
            "align_self": null,
            "height": "30px",
            "min_height": null,
            "padding": null,
            "grid_auto_rows": null,
            "grid_gap": null,
            "max_width": null,
            "order": null,
            "_view_module_version": "1.2.0",
            "grid_template_areas": null,
            "object_position": null,
            "object_fit": null,
            "grid_auto_columns": null,
            "margin": null,
            "display": null,
            "left": null
          }
        },
        "62822aefbba44efba43716f25cfa05ff": {
          "model_module": "@jupyter-widgets/controls",
          "model_name": "CheckboxModel",
          "model_module_version": "1.5.0",
          "state": {
            "_view_name": "CheckboxView",
            "style": "IPY_MODEL_af450f043f724c638ebf8c531922e143",
            "_dom_classes": [],
            "description": "Reporter.intensity.corrected.11.AGE",
            "_model_name": "CheckboxModel",
            "_view_module": "@jupyter-widgets/controls",
            "_model_module_version": "1.5.0",
            "value": true,
            "_view_count": null,
            "disabled": false,
            "_view_module_version": "1.5.0",
            "indent": false,
            "description_tooltip": null,
            "_model_module": "@jupyter-widgets/controls",
            "layout": "IPY_MODEL_767cc626b4f7462bbd642a0b0e938e20"
          }
        },
        "af450f043f724c638ebf8c531922e143": {
          "model_module": "@jupyter-widgets/controls",
          "model_name": "DescriptionStyleModel",
          "model_module_version": "1.5.0",
          "state": {
            "_view_name": "StyleView",
            "_model_name": "DescriptionStyleModel",
            "description_width": "",
            "_view_module": "@jupyter-widgets/base",
            "_model_module_version": "1.5.0",
            "_view_count": null,
            "_view_module_version": "1.2.0",
            "_model_module": "@jupyter-widgets/controls"
          }
        },
        "767cc626b4f7462bbd642a0b0e938e20": {
          "model_module": "@jupyter-widgets/base",
          "model_name": "LayoutModel",
          "model_module_version": "1.2.0",
          "state": {
            "_view_name": "LayoutView",
            "grid_template_rows": null,
            "right": null,
            "justify_content": null,
            "_view_module": "@jupyter-widgets/base",
            "overflow": null,
            "_model_module_version": "1.2.0",
            "_view_count": null,
            "flex_flow": null,
            "width": null,
            "min_width": null,
            "border": null,
            "align_items": null,
            "bottom": null,
            "_model_module": "@jupyter-widgets/base",
            "top": null,
            "grid_column": null,
            "overflow_y": null,
            "overflow_x": null,
            "grid_auto_flow": null,
            "grid_area": null,
            "grid_template_columns": null,
            "flex": null,
            "_model_name": "LayoutModel",
            "justify_items": null,
            "grid_row": null,
            "max_height": null,
            "align_content": null,
            "visibility": null,
            "align_self": null,
            "height": null,
            "min_height": null,
            "padding": null,
            "grid_auto_rows": null,
            "grid_gap": null,
            "max_width": null,
            "order": null,
            "_view_module_version": "1.2.0",
            "grid_template_areas": null,
            "object_position": null,
            "object_fit": null,
            "grid_auto_columns": null,
            "margin": null,
            "display": null,
            "left": null
          }
        },
        "c32f4d28e0004ef4a2a137cc1b5484d5": {
          "model_module": "@jupyter-widgets/controls",
          "model_name": "TextModel",
          "model_module_version": "1.5.0",
          "state": {
            "_view_name": "TextView",
            "style": "IPY_MODEL_b40958bef9cb4f0b8f4fb82548007603",
            "_dom_classes": [],
            "description": "condition",
            "_model_name": "TextModel",
            "placeholder": "​",
            "_view_module": "@jupyter-widgets/controls",
            "_model_module_version": "1.5.0",
            "value": "CDE",
            "_view_count": null,
            "disabled": false,
            "_view_module_version": "1.5.0",
            "continuous_update": true,
            "description_tooltip": null,
            "_model_module": "@jupyter-widgets/controls",
            "layout": "IPY_MODEL_4f48f1c2be144914bdd3e738152f837c"
          }
        },
        "b40958bef9cb4f0b8f4fb82548007603": {
          "model_module": "@jupyter-widgets/controls",
          "model_name": "DescriptionStyleModel",
          "model_module_version": "1.5.0",
          "state": {
            "_view_name": "StyleView",
            "_model_name": "DescriptionStyleModel",
            "description_width": "",
            "_view_module": "@jupyter-widgets/base",
            "_model_module_version": "1.5.0",
            "_view_count": null,
            "_view_module_version": "1.2.0",
            "_model_module": "@jupyter-widgets/controls"
          }
        },
        "4f48f1c2be144914bdd3e738152f837c": {
          "model_module": "@jupyter-widgets/base",
          "model_name": "LayoutModel",
          "model_module_version": "1.2.0",
          "state": {
            "_view_name": "LayoutView",
            "grid_template_rows": null,
            "right": null,
            "justify_content": null,
            "_view_module": "@jupyter-widgets/base",
            "overflow": null,
            "_model_module_version": "1.2.0",
            "_view_count": null,
            "flex_flow": null,
            "width": "35%",
            "min_width": null,
            "border": null,
            "align_items": null,
            "bottom": null,
            "_model_module": "@jupyter-widgets/base",
            "top": null,
            "grid_column": null,
            "overflow_y": null,
            "overflow_x": null,
            "grid_auto_flow": null,
            "grid_area": null,
            "grid_template_columns": null,
            "flex": null,
            "_model_name": "LayoutModel",
            "justify_items": null,
            "grid_row": null,
            "max_height": null,
            "align_content": null,
            "visibility": null,
            "align_self": null,
            "height": "30px",
            "min_height": null,
            "padding": null,
            "grid_auto_rows": null,
            "grid_gap": null,
            "max_width": null,
            "order": null,
            "_view_module_version": "1.2.0",
            "grid_template_areas": null,
            "object_position": null,
            "object_fit": null,
            "grid_auto_columns": null,
            "margin": null,
            "display": null,
            "left": null
          }
        },
        "97afd4804d3e4e789bd23878f013cb7f": {
          "model_module": "@jupyter-widgets/controls",
          "model_name": "TextModel",
          "model_module_version": "1.5.0",
          "state": {
            "_view_name": "TextView",
            "style": "IPY_MODEL_277d69d3ebf145a9914cf03043dc69f9",
            "_dom_classes": [],
            "description": "replicate",
            "_model_name": "TextModel",
            "placeholder": "​",
            "_view_module": "@jupyter-widgets/controls",
            "_model_module_version": "1.5.0",
            "value": "3",
            "_view_count": null,
            "disabled": false,
            "_view_module_version": "1.5.0",
            "continuous_update": true,
            "description_tooltip": null,
            "_model_module": "@jupyter-widgets/controls",
            "layout": "IPY_MODEL_5f89905675474afbbbcfe4426d83f618"
          }
        },
        "277d69d3ebf145a9914cf03043dc69f9": {
          "model_module": "@jupyter-widgets/controls",
          "model_name": "DescriptionStyleModel",
          "model_module_version": "1.5.0",
          "state": {
            "_view_name": "StyleView",
            "_model_name": "DescriptionStyleModel",
            "description_width": "",
            "_view_module": "@jupyter-widgets/base",
            "_model_module_version": "1.5.0",
            "_view_count": null,
            "_view_module_version": "1.2.0",
            "_model_module": "@jupyter-widgets/controls"
          }
        },
        "5f89905675474afbbbcfe4426d83f618": {
          "model_module": "@jupyter-widgets/base",
          "model_name": "LayoutModel",
          "model_module_version": "1.2.0",
          "state": {
            "_view_name": "LayoutView",
            "grid_template_rows": null,
            "right": null,
            "justify_content": null,
            "_view_module": "@jupyter-widgets/base",
            "overflow": null,
            "_model_module_version": "1.2.0",
            "_view_count": null,
            "flex_flow": null,
            "width": "35%",
            "min_width": null,
            "border": null,
            "align_items": null,
            "bottom": null,
            "_model_module": "@jupyter-widgets/base",
            "top": null,
            "grid_column": null,
            "overflow_y": null,
            "overflow_x": null,
            "grid_auto_flow": null,
            "grid_area": null,
            "grid_template_columns": null,
            "flex": null,
            "_model_name": "LayoutModel",
            "justify_items": null,
            "grid_row": null,
            "max_height": null,
            "align_content": null,
            "visibility": null,
            "align_self": null,
            "height": "30px",
            "min_height": null,
            "padding": null,
            "grid_auto_rows": null,
            "grid_gap": null,
            "max_width": null,
            "order": null,
            "_view_module_version": "1.2.0",
            "grid_template_areas": null,
            "object_position": null,
            "object_fit": null,
            "grid_auto_columns": null,
            "margin": null,
            "display": null,
            "left": null
          }
        },
        "2b91e58d7b294128b11510c5b4e014d6": {
          "model_module": "@jupyter-widgets/controls",
          "model_name": "ButtonModel",
          "model_module_version": "1.5.0",
          "state": {
            "_view_name": "ButtonView",
            "style": "IPY_MODEL_52bdfe4e117e49c0836c883a19540091",
            "_dom_classes": [],
            "description": "OK",
            "_model_name": "ButtonModel",
            "button_style": "",
            "_view_module": "@jupyter-widgets/controls",
            "_model_module_version": "1.5.0",
            "tooltip": "",
            "_view_count": null,
            "disabled": false,
            "_view_module_version": "1.5.0",
            "layout": "IPY_MODEL_6c5cdd694db0414e835ca7902554c11e",
            "_model_module": "@jupyter-widgets/controls",
            "icon": ""
          }
        },
        "52bdfe4e117e49c0836c883a19540091": {
          "model_module": "@jupyter-widgets/controls",
          "model_name": "ButtonStyleModel",
          "model_module_version": "1.5.0",
          "state": {
            "_view_name": "StyleView",
            "_model_name": "ButtonStyleModel",
            "_view_module": "@jupyter-widgets/base",
            "_model_module_version": "1.5.0",
            "_view_count": null,
            "button_color": null,
            "font_weight": "",
            "_view_module_version": "1.2.0",
            "_model_module": "@jupyter-widgets/controls"
          }
        },
        "6c5cdd694db0414e835ca7902554c11e": {
          "model_module": "@jupyter-widgets/base",
          "model_name": "LayoutModel",
          "model_module_version": "1.2.0",
          "state": {
            "_view_name": "LayoutView",
            "grid_template_rows": null,
            "right": null,
            "justify_content": null,
            "_view_module": "@jupyter-widgets/base",
            "overflow": null,
            "_model_module_version": "1.2.0",
            "_view_count": null,
            "flex_flow": null,
            "width": null,
            "min_width": null,
            "border": null,
            "align_items": null,
            "bottom": null,
            "_model_module": "@jupyter-widgets/base",
            "top": null,
            "grid_column": null,
            "overflow_y": null,
            "overflow_x": null,
            "grid_auto_flow": null,
            "grid_area": null,
            "grid_template_columns": null,
            "flex": null,
            "_model_name": "LayoutModel",
            "justify_items": null,
            "grid_row": null,
            "max_height": null,
            "align_content": null,
            "visibility": null,
            "align_self": null,
            "height": null,
            "min_height": null,
            "padding": null,
            "grid_auto_rows": null,
            "grid_gap": null,
            "max_width": null,
            "order": null,
            "_view_module_version": "1.2.0",
            "grid_template_areas": null,
            "object_position": null,
            "object_fit": null,
            "grid_auto_columns": null,
            "margin": null,
            "display": null,
            "left": null
          }
        },
        "92eb5ae14cd64a039b0b8d03de47c3b7": {
          "model_module": "@jupyter-widgets/output",
          "model_name": "OutputModel",
          "model_module_version": "1.0.0",
          "state": {
            "_view_name": "OutputView",
            "msg_id": "",
            "_dom_classes": [],
            "_model_name": "OutputModel",
            "outputs": [
              {
                "output_type": "stream",
                "name": "stdout",
                "text": [
                  "   state                                label condition replicate\n",
                  "1   True   Reporter.intensity.corrected.1.AGE       ABC         1\n",
                  "2   True   Reporter.intensity.corrected.2.AGE       ABC         2\n",
                  "5   True   Reporter.intensity.corrected.5.AGE       ABC         3\n",
                  "6   True   Reporter.intensity.corrected.6.AGE       BCD         1\n",
                  "7   True   Reporter.intensity.corrected.7.AGE       BCD         2\n",
                  "8   True   Reporter.intensity.corrected.8.AGE       BCD         3\n",
                  "9   True   Reporter.intensity.corrected.9.AGE       CDE         1\n",
                  "10  True  Reporter.intensity.corrected.10.AGE       CDE         2\n",
                  "11  True  Reporter.intensity.corrected.11.AGE       CDE         3\n"
                ]
              },
              {
                "output_type": "display_data",
                "data": {
                  "application/vnd.jupyter.widget-view+json": {
                    "model_id": "a242e133780842328fbae3655587a4a6",
                    "version_minor": 0,
                    "version_major": 2
                  },
                  "text/plain": "Button(description='check again', style=ButtonStyle())"
                },
                "metadata": {}
              },
              {
                "output_type": "display_data",
                "data": {
                  "application/vnd.jupyter.widget-view+json": {
                    "model_id": "b41374e649ae412bbe728fc799a6e305",
                    "version_minor": 0,
                    "version_major": 2
                  },
                  "text/plain": "Output()"
                },
                "metadata": {}
              }
            ],
            "_view_module": "@jupyter-widgets/output",
            "_model_module_version": "1.0.0",
            "_view_count": null,
            "_view_module_version": "1.0.0",
            "layout": "IPY_MODEL_c3a18749ee6e4defb90e79fe878c8897",
            "_model_module": "@jupyter-widgets/output"
          }
        },
        "c3a18749ee6e4defb90e79fe878c8897": {
          "model_module": "@jupyter-widgets/base",
          "model_name": "LayoutModel",
          "model_module_version": "1.2.0",
          "state": {
            "_view_name": "LayoutView",
            "grid_template_rows": null,
            "right": null,
            "justify_content": null,
            "_view_module": "@jupyter-widgets/base",
            "overflow": null,
            "_model_module_version": "1.2.0",
            "_view_count": null,
            "flex_flow": null,
            "width": null,
            "min_width": null,
            "border": null,
            "align_items": null,
            "bottom": null,
            "_model_module": "@jupyter-widgets/base",
            "top": null,
            "grid_column": null,
            "overflow_y": null,
            "overflow_x": null,
            "grid_auto_flow": null,
            "grid_area": null,
            "grid_template_columns": null,
            "flex": null,
            "_model_name": "LayoutModel",
            "justify_items": null,
            "grid_row": null,
            "max_height": null,
            "align_content": null,
            "visibility": null,
            "align_self": null,
            "height": null,
            "min_height": null,
            "padding": null,
            "grid_auto_rows": null,
            "grid_gap": null,
            "max_width": null,
            "order": null,
            "_view_module_version": "1.2.0",
            "grid_template_areas": null,
            "object_position": null,
            "object_fit": null,
            "grid_auto_columns": null,
            "margin": null,
            "display": null,
            "left": null
          }
        },
        "a242e133780842328fbae3655587a4a6": {
          "model_module": "@jupyter-widgets/controls",
          "model_name": "ButtonModel",
          "model_module_version": "1.5.0",
          "state": {
            "_view_name": "ButtonView",
            "style": "IPY_MODEL_5e2d1e48ba604556bc4f202b3a184c62",
            "_dom_classes": [],
            "description": "check again",
            "_model_name": "ButtonModel",
            "button_style": "",
            "_view_module": "@jupyter-widgets/controls",
            "_model_module_version": "1.5.0",
            "tooltip": "",
            "_view_count": null,
            "disabled": false,
            "_view_module_version": "1.5.0",
            "layout": "IPY_MODEL_b1fcd1502204445f9e98d8c96df2f6b8",
            "_model_module": "@jupyter-widgets/controls",
            "icon": ""
          }
        },
        "5e2d1e48ba604556bc4f202b3a184c62": {
          "model_module": "@jupyter-widgets/controls",
          "model_name": "ButtonStyleModel",
          "model_module_version": "1.5.0",
          "state": {
            "_view_name": "StyleView",
            "_model_name": "ButtonStyleModel",
            "_view_module": "@jupyter-widgets/base",
            "_model_module_version": "1.5.0",
            "_view_count": null,
            "button_color": null,
            "font_weight": "",
            "_view_module_version": "1.2.0",
            "_model_module": "@jupyter-widgets/controls"
          }
        },
        "b1fcd1502204445f9e98d8c96df2f6b8": {
          "model_module": "@jupyter-widgets/base",
          "model_name": "LayoutModel",
          "model_module_version": "1.2.0",
          "state": {
            "_view_name": "LayoutView",
            "grid_template_rows": null,
            "right": null,
            "justify_content": null,
            "_view_module": "@jupyter-widgets/base",
            "overflow": null,
            "_model_module_version": "1.2.0",
            "_view_count": null,
            "flex_flow": null,
            "width": null,
            "min_width": null,
            "border": null,
            "align_items": null,
            "bottom": null,
            "_model_module": "@jupyter-widgets/base",
            "top": null,
            "grid_column": null,
            "overflow_y": null,
            "overflow_x": null,
            "grid_auto_flow": null,
            "grid_area": null,
            "grid_template_columns": null,
            "flex": null,
            "_model_name": "LayoutModel",
            "justify_items": null,
            "grid_row": null,
            "max_height": null,
            "align_content": null,
            "visibility": null,
            "align_self": null,
            "height": null,
            "min_height": null,
            "padding": null,
            "grid_auto_rows": null,
            "grid_gap": null,
            "max_width": null,
            "order": null,
            "_view_module_version": "1.2.0",
            "grid_template_areas": null,
            "object_position": null,
            "object_fit": null,
            "grid_auto_columns": null,
            "margin": null,
            "display": null,
            "left": null
          }
        },
        "b41374e649ae412bbe728fc799a6e305": {
          "model_module": "@jupyter-widgets/output",
          "model_name": "OutputModel",
          "model_module_version": "1.0.0",
          "state": {
            "_view_name": "OutputView",
            "msg_id": "",
            "_dom_classes": [],
            "_model_name": "OutputModel",
            "outputs": [
              {
                "output_type": "stream",
                "name": "stdout",
                "text": [
                  "save to experimental_design.csv\n"
                ]
              }
            ],
            "_view_module": "@jupyter-widgets/output",
            "_model_module_version": "1.0.0",
            "_view_count": null,
            "_view_module_version": "1.0.0",
            "layout": "IPY_MODEL_8f630aa5c00848e5bc99ffdb0330a40f",
            "_model_module": "@jupyter-widgets/output"
          }
        },
        "8f630aa5c00848e5bc99ffdb0330a40f": {
          "model_module": "@jupyter-widgets/base",
          "model_name": "LayoutModel",
          "model_module_version": "1.2.0",
          "state": {
            "_view_name": "LayoutView",
            "grid_template_rows": null,
            "right": null,
            "justify_content": null,
            "_view_module": "@jupyter-widgets/base",
            "overflow": null,
            "_model_module_version": "1.2.0",
            "_view_count": null,
            "flex_flow": null,
            "width": null,
            "min_width": null,
            "border": null,
            "align_items": null,
            "bottom": null,
            "_model_module": "@jupyter-widgets/base",
            "top": null,
            "grid_column": null,
            "overflow_y": null,
            "overflow_x": null,
            "grid_auto_flow": null,
            "grid_area": null,
            "grid_template_columns": null,
            "flex": null,
            "_model_name": "LayoutModel",
            "justify_items": null,
            "grid_row": null,
            "max_height": null,
            "align_content": null,
            "visibility": null,
            "align_self": null,
            "height": null,
            "min_height": null,
            "padding": null,
            "grid_auto_rows": null,
            "grid_gap": null,
            "max_width": null,
            "order": null,
            "_view_module_version": "1.2.0",
            "grid_template_areas": null,
            "object_position": null,
            "object_fit": null,
            "grid_auto_columns": null,
            "margin": null,
            "display": null,
            "left": null
          }
        },
        "a1f6dc0c9fe74998b90390a99cf6314b": {
          "model_module": "@jupyter-widgets/controls",
          "model_name": "IntSliderModel",
          "model_module_version": "1.5.0",
          "state": {
            "_view_name": "IntSliderView",
            "style": "IPY_MODEL_34ae9adc63ac4d3a8e8fd560e06fc2fc",
            "_dom_classes": [],
            "description": "thr:",
            "step": 1,
            "_model_name": "IntSliderModel",
            "orientation": "horizontal",
            "max": 3,
            "_view_module": "@jupyter-widgets/controls",
            "_model_module_version": "1.5.0",
            "value": 3,
            "_view_count": null,
            "disabled": false,
            "_view_module_version": "1.5.0",
            "min": 0,
            "continuous_update": false,
            "readout_format": "d",
            "description_tooltip": null,
            "readout": true,
            "_model_module": "@jupyter-widgets/controls",
            "layout": "IPY_MODEL_c3a857a55171484fbcaf5e3edc2f0698"
          }
        },
        "34ae9adc63ac4d3a8e8fd560e06fc2fc": {
          "model_module": "@jupyter-widgets/controls",
          "model_name": "SliderStyleModel",
          "model_module_version": "1.5.0",
          "state": {
            "_view_name": "StyleView",
            "handle_color": null,
            "_model_name": "SliderStyleModel",
            "description_width": "",
            "_view_module": "@jupyter-widgets/base",
            "_model_module_version": "1.5.0",
            "_view_count": null,
            "_view_module_version": "1.2.0",
            "_model_module": "@jupyter-widgets/controls"
          }
        },
        "c3a857a55171484fbcaf5e3edc2f0698": {
          "model_module": "@jupyter-widgets/base",
          "model_name": "LayoutModel",
          "model_module_version": "1.2.0",
          "state": {
            "_view_name": "LayoutView",
            "grid_template_rows": null,
            "right": null,
            "justify_content": null,
            "_view_module": "@jupyter-widgets/base",
            "overflow": null,
            "_model_module_version": "1.2.0",
            "_view_count": null,
            "flex_flow": null,
            "width": null,
            "min_width": null,
            "border": null,
            "align_items": null,
            "bottom": null,
            "_model_module": "@jupyter-widgets/base",
            "top": null,
            "grid_column": null,
            "overflow_y": null,
            "overflow_x": null,
            "grid_auto_flow": null,
            "grid_area": null,
            "grid_template_columns": null,
            "flex": null,
            "_model_name": "LayoutModel",
            "justify_items": null,
            "grid_row": null,
            "max_height": null,
            "align_content": null,
            "visibility": null,
            "align_self": null,
            "height": null,
            "min_height": null,
            "padding": null,
            "grid_auto_rows": null,
            "grid_gap": null,
            "max_width": null,
            "order": null,
            "_view_module_version": "1.2.0",
            "grid_template_areas": null,
            "object_position": null,
            "object_fit": null,
            "grid_auto_columns": null,
            "margin": null,
            "display": null,
            "left": null
          }
        },
        "31f89685f57545dfa202a9f97b0eb6b1": {
          "model_module": "@jupyter-widgets/controls",
          "model_name": "TextModel",
          "model_module_version": "1.5.0",
          "state": {
            "_view_name": "TextView",
            "style": "IPY_MODEL_c1be0841df7243f59dfc98135d366417",
            "_dom_classes": [],
            "description": "control:",
            "_model_name": "TextModel",
            "placeholder": "​",
            "_view_module": "@jupyter-widgets/controls",
            "_model_module_version": "1.5.0",
            "value": "BCD",
            "_view_count": null,
            "disabled": false,
            "_view_module_version": "1.5.0",
            "continuous_update": true,
            "description_tooltip": null,
            "_model_module": "@jupyter-widgets/controls",
            "layout": "IPY_MODEL_3148133f020d4c3fb8cf1cb8954d0ae4"
          }
        },
        "c1be0841df7243f59dfc98135d366417": {
          "model_module": "@jupyter-widgets/controls",
          "model_name": "DescriptionStyleModel",
          "model_module_version": "1.5.0",
          "state": {
            "_view_name": "StyleView",
            "_model_name": "DescriptionStyleModel",
            "description_width": "",
            "_view_module": "@jupyter-widgets/base",
            "_model_module_version": "1.5.0",
            "_view_count": null,
            "_view_module_version": "1.2.0",
            "_model_module": "@jupyter-widgets/controls"
          }
        },
        "3148133f020d4c3fb8cf1cb8954d0ae4": {
          "model_module": "@jupyter-widgets/base",
          "model_name": "LayoutModel",
          "model_module_version": "1.2.0",
          "state": {
            "_view_name": "LayoutView",
            "grid_template_rows": null,
            "right": null,
            "justify_content": null,
            "_view_module": "@jupyter-widgets/base",
            "overflow": null,
            "_model_module_version": "1.2.0",
            "_view_count": null,
            "flex_flow": null,
            "width": "35%",
            "min_width": null,
            "border": null,
            "align_items": null,
            "bottom": null,
            "_model_module": "@jupyter-widgets/base",
            "top": null,
            "grid_column": null,
            "overflow_y": null,
            "overflow_x": null,
            "grid_auto_flow": null,
            "grid_area": null,
            "grid_template_columns": null,
            "flex": null,
            "_model_name": "LayoutModel",
            "justify_items": null,
            "grid_row": null,
            "max_height": null,
            "align_content": null,
            "visibility": null,
            "align_self": null,
            "height": "30px",
            "min_height": null,
            "padding": null,
            "grid_auto_rows": null,
            "grid_gap": null,
            "max_width": null,
            "order": null,
            "_view_module_version": "1.2.0",
            "grid_template_areas": null,
            "object_position": null,
            "object_fit": null,
            "grid_auto_columns": null,
            "margin": null,
            "display": null,
            "left": null
          }
        },
        "8f3de839350f41a998f2078e1aac5c3e": {
          "model_module": "@jupyter-widgets/controls",
          "model_name": "TextModel",
          "model_module_version": "1.5.0",
          "state": {
            "_view_name": "TextView",
            "style": "IPY_MODEL_39f36da28b9d4bd18670302481c10758",
            "_dom_classes": [],
            "description": "contrast:",
            "_model_name": "TextModel",
            "placeholder": "​",
            "_view_module": "@jupyter-widgets/controls",
            "_model_module_version": "1.5.0",
            "value": "ABC",
            "_view_count": null,
            "disabled": false,
            "_view_module_version": "1.5.0",
            "continuous_update": true,
            "description_tooltip": null,
            "_model_module": "@jupyter-widgets/controls",
            "layout": "IPY_MODEL_59766958451146528ef991d4fc0a70f4"
          }
        },
        "39f36da28b9d4bd18670302481c10758": {
          "model_module": "@jupyter-widgets/controls",
          "model_name": "DescriptionStyleModel",
          "model_module_version": "1.5.0",
          "state": {
            "_view_name": "StyleView",
            "_model_name": "DescriptionStyleModel",
            "description_width": "",
            "_view_module": "@jupyter-widgets/base",
            "_model_module_version": "1.5.0",
            "_view_count": null,
            "_view_module_version": "1.2.0",
            "_model_module": "@jupyter-widgets/controls"
          }
        },
        "59766958451146528ef991d4fc0a70f4": {
          "model_module": "@jupyter-widgets/base",
          "model_name": "LayoutModel",
          "model_module_version": "1.2.0",
          "state": {
            "_view_name": "LayoutView",
            "grid_template_rows": null,
            "right": null,
            "justify_content": null,
            "_view_module": "@jupyter-widgets/base",
            "overflow": null,
            "_model_module_version": "1.2.0",
            "_view_count": null,
            "flex_flow": null,
            "width": "35%",
            "min_width": null,
            "border": null,
            "align_items": null,
            "bottom": null,
            "_model_module": "@jupyter-widgets/base",
            "top": null,
            "grid_column": null,
            "overflow_y": null,
            "overflow_x": null,
            "grid_auto_flow": null,
            "grid_area": null,
            "grid_template_columns": null,
            "flex": null,
            "_model_name": "LayoutModel",
            "justify_items": null,
            "grid_row": null,
            "max_height": null,
            "align_content": null,
            "visibility": null,
            "align_self": null,
            "height": "30px",
            "min_height": null,
            "padding": null,
            "grid_auto_rows": null,
            "grid_gap": null,
            "max_width": null,
            "order": null,
            "_view_module_version": "1.2.0",
            "grid_template_areas": null,
            "object_position": null,
            "object_fit": null,
            "grid_auto_columns": null,
            "margin": null,
            "display": null,
            "left": null
          }
        },
        "47751dd4aea646f9ad4b06742cde242c": {
          "model_module": "@jupyter-widgets/controls",
          "model_name": "TextModel",
          "model_module_version": "1.5.0",
          "state": {
            "_view_name": "TextView",
            "style": "IPY_MODEL_59c222c4aa03478b905c5988fb3c03ba",
            "_dom_classes": [],
            "description": "control:",
            "_model_name": "TextModel",
            "placeholder": "​",
            "_view_module": "@jupyter-widgets/controls",
            "_model_module_version": "1.5.0",
            "value": "BCD",
            "_view_count": null,
            "disabled": false,
            "_view_module_version": "1.5.0",
            "continuous_update": true,
            "description_tooltip": null,
            "_model_module": "@jupyter-widgets/controls",
            "layout": "IPY_MODEL_778eee1140ea48bf8e2c42e4c823e170"
          }
        },
        "59c222c4aa03478b905c5988fb3c03ba": {
          "model_module": "@jupyter-widgets/controls",
          "model_name": "DescriptionStyleModel",
          "model_module_version": "1.5.0",
          "state": {
            "_view_name": "StyleView",
            "_model_name": "DescriptionStyleModel",
            "description_width": "",
            "_view_module": "@jupyter-widgets/base",
            "_model_module_version": "1.5.0",
            "_view_count": null,
            "_view_module_version": "1.2.0",
            "_model_module": "@jupyter-widgets/controls"
          }
        },
        "778eee1140ea48bf8e2c42e4c823e170": {
          "model_module": "@jupyter-widgets/base",
          "model_name": "LayoutModel",
          "model_module_version": "1.2.0",
          "state": {
            "_view_name": "LayoutView",
            "grid_template_rows": null,
            "right": null,
            "justify_content": null,
            "_view_module": "@jupyter-widgets/base",
            "overflow": null,
            "_model_module_version": "1.2.0",
            "_view_count": null,
            "flex_flow": null,
            "width": "35%",
            "min_width": null,
            "border": null,
            "align_items": null,
            "bottom": null,
            "_model_module": "@jupyter-widgets/base",
            "top": null,
            "grid_column": null,
            "overflow_y": null,
            "overflow_x": null,
            "grid_auto_flow": null,
            "grid_area": null,
            "grid_template_columns": null,
            "flex": null,
            "_model_name": "LayoutModel",
            "justify_items": null,
            "grid_row": null,
            "max_height": null,
            "align_content": null,
            "visibility": null,
            "align_self": null,
            "height": "30px",
            "min_height": null,
            "padding": null,
            "grid_auto_rows": null,
            "grid_gap": null,
            "max_width": null,
            "order": null,
            "_view_module_version": "1.2.0",
            "grid_template_areas": null,
            "object_position": null,
            "object_fit": null,
            "grid_auto_columns": null,
            "margin": null,
            "display": null,
            "left": null
          }
        },
        "e038e5ac003f4672912b0c3dbb33bb04": {
          "model_module": "@jupyter-widgets/controls",
          "model_name": "BoundedIntTextModel",
          "model_module_version": "1.5.0",
          "state": {
            "_view_name": "IntTextView",
            "style": "IPY_MODEL_e405edc5a6804eb8a855c1f1aad244fc",
            "_dom_classes": [],
            "description": "number:",
            "_model_name": "BoundedIntTextModel",
            "max": 20,
            "_view_module": "@jupyter-widgets/controls",
            "_model_module_version": "1.5.0",
            "value": 3,
            "_view_count": null,
            "disabled": false,
            "_view_module_version": "1.5.0",
            "min": 1,
            "continuous_update": false,
            "step": 1,
            "description_tooltip": null,
            "_model_module": "@jupyter-widgets/controls",
            "layout": "IPY_MODEL_de5768101d9f4aecbc6fb67446a62dd4"
          }
        },
        "e405edc5a6804eb8a855c1f1aad244fc": {
          "model_module": "@jupyter-widgets/controls",
          "model_name": "DescriptionStyleModel",
          "model_module_version": "1.5.0",
          "state": {
            "_view_name": "StyleView",
            "_model_name": "DescriptionStyleModel",
            "description_width": "",
            "_view_module": "@jupyter-widgets/base",
            "_model_module_version": "1.5.0",
            "_view_count": null,
            "_view_module_version": "1.2.0",
            "_model_module": "@jupyter-widgets/controls"
          }
        },
        "de5768101d9f4aecbc6fb67446a62dd4": {
          "model_module": "@jupyter-widgets/base",
          "model_name": "LayoutModel",
          "model_module_version": "1.2.0",
          "state": {
            "_view_name": "LayoutView",
            "grid_template_rows": null,
            "right": null,
            "justify_content": null,
            "_view_module": "@jupyter-widgets/base",
            "overflow": null,
            "_model_module_version": "1.2.0",
            "_view_count": null,
            "flex_flow": null,
            "width": null,
            "min_width": null,
            "border": null,
            "align_items": null,
            "bottom": null,
            "_model_module": "@jupyter-widgets/base",
            "top": null,
            "grid_column": null,
            "overflow_y": null,
            "overflow_x": null,
            "grid_auto_flow": null,
            "grid_area": null,
            "grid_template_columns": null,
            "flex": null,
            "_model_name": "LayoutModel",
            "justify_items": null,
            "grid_row": null,
            "max_height": null,
            "align_content": null,
            "visibility": null,
            "align_self": null,
            "height": null,
            "min_height": null,
            "padding": null,
            "grid_auto_rows": null,
            "grid_gap": null,
            "max_width": null,
            "order": null,
            "_view_module_version": "1.2.0",
            "grid_template_areas": null,
            "object_position": null,
            "object_fit": null,
            "grid_auto_columns": null,
            "margin": null,
            "display": null,
            "left": null
          }
        },
        "a53318b5b6354fa88bced41c9620429e": {
          "model_module": "@jupyter-widgets/controls",
          "model_name": "ButtonModel",
          "model_module_version": "1.5.0",
          "state": {
            "_view_name": "ButtonView",
            "style": "IPY_MODEL_270b306571024c07ba6f2ec568f66149",
            "_dom_classes": [],
            "description": "ok",
            "_model_name": "ButtonModel",
            "button_style": "",
            "_view_module": "@jupyter-widgets/controls",
            "_model_module_version": "1.5.0",
            "tooltip": "",
            "_view_count": null,
            "disabled": false,
            "_view_module_version": "1.5.0",
            "layout": "IPY_MODEL_fc59b1c2813c48bf9b0209cd02f75759",
            "_model_module": "@jupyter-widgets/controls",
            "icon": ""
          }
        },
        "270b306571024c07ba6f2ec568f66149": {
          "model_module": "@jupyter-widgets/controls",
          "model_name": "ButtonStyleModel",
          "model_module_version": "1.5.0",
          "state": {
            "_view_name": "StyleView",
            "_model_name": "ButtonStyleModel",
            "_view_module": "@jupyter-widgets/base",
            "_model_module_version": "1.5.0",
            "_view_count": null,
            "button_color": null,
            "font_weight": "",
            "_view_module_version": "1.2.0",
            "_model_module": "@jupyter-widgets/controls"
          }
        },
        "fc59b1c2813c48bf9b0209cd02f75759": {
          "model_module": "@jupyter-widgets/base",
          "model_name": "LayoutModel",
          "model_module_version": "1.2.0",
          "state": {
            "_view_name": "LayoutView",
            "grid_template_rows": null,
            "right": null,
            "justify_content": null,
            "_view_module": "@jupyter-widgets/base",
            "overflow": null,
            "_model_module_version": "1.2.0",
            "_view_count": null,
            "flex_flow": null,
            "width": null,
            "min_width": null,
            "border": null,
            "align_items": null,
            "bottom": null,
            "_model_module": "@jupyter-widgets/base",
            "top": null,
            "grid_column": null,
            "overflow_y": null,
            "overflow_x": null,
            "grid_auto_flow": null,
            "grid_area": null,
            "grid_template_columns": null,
            "flex": null,
            "_model_name": "LayoutModel",
            "justify_items": null,
            "grid_row": null,
            "max_height": null,
            "align_content": null,
            "visibility": null,
            "align_self": null,
            "height": null,
            "min_height": null,
            "padding": null,
            "grid_auto_rows": null,
            "grid_gap": null,
            "max_width": null,
            "order": null,
            "_view_module_version": "1.2.0",
            "grid_template_areas": null,
            "object_position": null,
            "object_fit": null,
            "grid_auto_columns": null,
            "margin": null,
            "display": null,
            "left": null
          }
        },
        "d850ea5c0b6d42dfb935192e5ef592a5": {
          "model_module": "@jupyter-widgets/controls",
          "model_name": "TextModel",
          "model_module_version": "1.5.0",
          "state": {
            "_view_name": "TextView",
            "style": "IPY_MODEL_c16eb51b42324ea695858fcc16846792",
            "_dom_classes": [],
            "description": "protein:",
            "_model_name": "TextModel",
            "placeholder": "Type something like Rps16",
            "_view_module": "@jupyter-widgets/controls",
            "_model_module_version": "1.5.0",
            "value": "Rps16",
            "_view_count": null,
            "disabled": false,
            "_view_module_version": "1.5.0",
            "continuous_update": true,
            "description_tooltip": null,
            "_model_module": "@jupyter-widgets/controls",
            "layout": "IPY_MODEL_eef8c14853a34918a991bb3b2bca7216"
          }
        },
        "c16eb51b42324ea695858fcc16846792": {
          "model_module": "@jupyter-widgets/controls",
          "model_name": "DescriptionStyleModel",
          "model_module_version": "1.5.0",
          "state": {
            "_view_name": "StyleView",
            "_model_name": "DescriptionStyleModel",
            "description_width": "",
            "_view_module": "@jupyter-widgets/base",
            "_model_module_version": "1.5.0",
            "_view_count": null,
            "_view_module_version": "1.2.0",
            "_model_module": "@jupyter-widgets/controls"
          }
        },
        "eef8c14853a34918a991bb3b2bca7216": {
          "model_module": "@jupyter-widgets/base",
          "model_name": "LayoutModel",
          "model_module_version": "1.2.0",
          "state": {
            "_view_name": "LayoutView",
            "grid_template_rows": null,
            "right": null,
            "justify_content": null,
            "_view_module": "@jupyter-widgets/base",
            "overflow": null,
            "_model_module_version": "1.2.0",
            "_view_count": null,
            "flex_flow": null,
            "width": null,
            "min_width": null,
            "border": null,
            "align_items": null,
            "bottom": null,
            "_model_module": "@jupyter-widgets/base",
            "top": null,
            "grid_column": null,
            "overflow_y": null,
            "overflow_x": null,
            "grid_auto_flow": null,
            "grid_area": null,
            "grid_template_columns": null,
            "flex": null,
            "_model_name": "LayoutModel",
            "justify_items": null,
            "grid_row": null,
            "max_height": null,
            "align_content": null,
            "visibility": null,
            "align_self": null,
            "height": null,
            "min_height": null,
            "padding": null,
            "grid_auto_rows": null,
            "grid_gap": null,
            "max_width": null,
            "order": null,
            "_view_module_version": "1.2.0",
            "grid_template_areas": null,
            "object_position": null,
            "object_fit": null,
            "grid_auto_columns": null,
            "margin": null,
            "display": null,
            "left": null
          }
        },
        "1cda50c2aaa64d4886aaee30e3c00937": {
          "model_module": "@jupyter-widgets/controls",
          "model_name": "TextModel",
          "model_module_version": "1.5.0",
          "state": {
            "_view_name": "TextView",
            "style": "IPY_MODEL_29796c241d3348ca92146cb261e96b27",
            "_dom_classes": [],
            "description": "protein:",
            "_model_name": "TextModel",
            "placeholder": "Type something like Rps16",
            "_view_module": "@jupyter-widgets/controls",
            "_model_module_version": "1.5.0",
            "value": "Eif2b4",
            "_view_count": null,
            "disabled": false,
            "_view_module_version": "1.5.0",
            "continuous_update": true,
            "description_tooltip": null,
            "_model_module": "@jupyter-widgets/controls",
            "layout": "IPY_MODEL_be45c53607f24fee8baf5704e3ec5e2b"
          }
        },
        "29796c241d3348ca92146cb261e96b27": {
          "model_module": "@jupyter-widgets/controls",
          "model_name": "DescriptionStyleModel",
          "model_module_version": "1.5.0",
          "state": {
            "_view_name": "StyleView",
            "_model_name": "DescriptionStyleModel",
            "description_width": "",
            "_view_module": "@jupyter-widgets/base",
            "_model_module_version": "1.5.0",
            "_view_count": null,
            "_view_module_version": "1.2.0",
            "_model_module": "@jupyter-widgets/controls"
          }
        },
        "be45c53607f24fee8baf5704e3ec5e2b": {
          "model_module": "@jupyter-widgets/base",
          "model_name": "LayoutModel",
          "model_module_version": "1.2.0",
          "state": {
            "_view_name": "LayoutView",
            "grid_template_rows": null,
            "right": null,
            "justify_content": null,
            "_view_module": "@jupyter-widgets/base",
            "overflow": null,
            "_model_module_version": "1.2.0",
            "_view_count": null,
            "flex_flow": null,
            "width": null,
            "min_width": null,
            "border": null,
            "align_items": null,
            "bottom": null,
            "_model_module": "@jupyter-widgets/base",
            "top": null,
            "grid_column": null,
            "overflow_y": null,
            "overflow_x": null,
            "grid_auto_flow": null,
            "grid_area": null,
            "grid_template_columns": null,
            "flex": null,
            "_model_name": "LayoutModel",
            "justify_items": null,
            "grid_row": null,
            "max_height": null,
            "align_content": null,
            "visibility": null,
            "align_self": null,
            "height": null,
            "min_height": null,
            "padding": null,
            "grid_auto_rows": null,
            "grid_gap": null,
            "max_width": null,
            "order": null,
            "_view_module_version": "1.2.0",
            "grid_template_areas": null,
            "object_position": null,
            "object_fit": null,
            "grid_auto_columns": null,
            "margin": null,
            "display": null,
            "left": null
          }
        },
        "5f7ea3876d0144ddb04052aec56ee26f": {
          "model_module": "@jupyter-widgets/controls",
          "model_name": "ButtonModel",
          "model_module_version": "1.5.0",
          "state": {
            "_view_name": "ButtonView",
            "style": "IPY_MODEL_55b57be96feb4b61b553ae015f8cda99",
            "_dom_classes": [],
            "description": "check",
            "_model_name": "ButtonModel",
            "button_style": "",
            "_view_module": "@jupyter-widgets/controls",
            "_model_module_version": "1.5.0",
            "tooltip": "",
            "_view_count": null,
            "disabled": false,
            "_view_module_version": "1.5.0",
            "layout": "IPY_MODEL_f01a40edb8ce4afab0e02c8226e431d6",
            "_model_module": "@jupyter-widgets/controls",
            "icon": ""
          }
        },
        "55b57be96feb4b61b553ae015f8cda99": {
          "model_module": "@jupyter-widgets/controls",
          "model_name": "ButtonStyleModel",
          "model_module_version": "1.5.0",
          "state": {
            "_view_name": "StyleView",
            "_model_name": "ButtonStyleModel",
            "_view_module": "@jupyter-widgets/base",
            "_model_module_version": "1.5.0",
            "_view_count": null,
            "button_color": null,
            "font_weight": "",
            "_view_module_version": "1.2.0",
            "_model_module": "@jupyter-widgets/controls"
          }
        },
        "f01a40edb8ce4afab0e02c8226e431d6": {
          "model_module": "@jupyter-widgets/base",
          "model_name": "LayoutModel",
          "model_module_version": "1.2.0",
          "state": {
            "_view_name": "LayoutView",
            "grid_template_rows": null,
            "right": null,
            "justify_content": null,
            "_view_module": "@jupyter-widgets/base",
            "overflow": null,
            "_model_module_version": "1.2.0",
            "_view_count": null,
            "flex_flow": null,
            "width": null,
            "min_width": null,
            "border": null,
            "align_items": null,
            "bottom": null,
            "_model_module": "@jupyter-widgets/base",
            "top": null,
            "grid_column": null,
            "overflow_y": null,
            "overflow_x": null,
            "grid_auto_flow": null,
            "grid_area": null,
            "grid_template_columns": null,
            "flex": null,
            "_model_name": "LayoutModel",
            "justify_items": null,
            "grid_row": null,
            "max_height": null,
            "align_content": null,
            "visibility": null,
            "align_self": null,
            "height": null,
            "min_height": null,
            "padding": null,
            "grid_auto_rows": null,
            "grid_gap": null,
            "max_width": null,
            "order": null,
            "_view_module_version": "1.2.0",
            "grid_template_areas": null,
            "object_position": null,
            "object_fit": null,
            "grid_auto_columns": null,
            "margin": null,
            "display": null,
            "left": null
          }
        },
        "7ba92ca81c2d45e09a52158eff4a7f07": {
          "model_module": "@jupyter-widgets/controls",
          "model_name": "TextModel",
          "model_module_version": "1.5.0",
          "state": {
            "_view_name": "TextView",
            "style": "IPY_MODEL_c115f28621df4ead93136b1d3ca914eb",
            "_dom_classes": [],
            "description": "protein:",
            "_model_name": "TextModel",
            "placeholder": "Type something like Rps16",
            "_view_module": "@jupyter-widgets/controls",
            "_model_module_version": "1.5.0",
            "value": "Rps16",
            "_view_count": null,
            "disabled": false,
            "_view_module_version": "1.5.0",
            "continuous_update": true,
            "description_tooltip": null,
            "_model_module": "@jupyter-widgets/controls",
            "layout": "IPY_MODEL_c79cfd0e3e244884b5393632b03c328b"
          }
        },
        "c115f28621df4ead93136b1d3ca914eb": {
          "model_module": "@jupyter-widgets/controls",
          "model_name": "DescriptionStyleModel",
          "model_module_version": "1.5.0",
          "state": {
            "_view_name": "StyleView",
            "_model_name": "DescriptionStyleModel",
            "description_width": "",
            "_view_module": "@jupyter-widgets/base",
            "_model_module_version": "1.5.0",
            "_view_count": null,
            "_view_module_version": "1.2.0",
            "_model_module": "@jupyter-widgets/controls"
          }
        },
        "c79cfd0e3e244884b5393632b03c328b": {
          "model_module": "@jupyter-widgets/base",
          "model_name": "LayoutModel",
          "model_module_version": "1.2.0",
          "state": {
            "_view_name": "LayoutView",
            "grid_template_rows": null,
            "right": null,
            "justify_content": null,
            "_view_module": "@jupyter-widgets/base",
            "overflow": null,
            "_model_module_version": "1.2.0",
            "_view_count": null,
            "flex_flow": null,
            "width": null,
            "min_width": null,
            "border": null,
            "align_items": null,
            "bottom": null,
            "_model_module": "@jupyter-widgets/base",
            "top": null,
            "grid_column": null,
            "overflow_y": null,
            "overflow_x": null,
            "grid_auto_flow": null,
            "grid_area": null,
            "grid_template_columns": null,
            "flex": null,
            "_model_name": "LayoutModel",
            "justify_items": null,
            "grid_row": null,
            "max_height": null,
            "align_content": null,
            "visibility": null,
            "align_self": null,
            "height": null,
            "min_height": null,
            "padding": null,
            "grid_auto_rows": null,
            "grid_gap": null,
            "max_width": null,
            "order": null,
            "_view_module_version": "1.2.0",
            "grid_template_areas": null,
            "object_position": null,
            "object_fit": null,
            "grid_auto_columns": null,
            "margin": null,
            "display": null,
            "left": null
          }
        },
        "0d00427bb1ed42399065b1b916581920": {
          "model_module": "@jupyter-widgets/controls",
          "model_name": "TextModel",
          "model_module_version": "1.5.0",
          "state": {
            "_view_name": "TextView",
            "style": "IPY_MODEL_26e26bafc6034108b7f675a9bcfd7ede",
            "_dom_classes": [],
            "description": "protein:",
            "_model_name": "TextModel",
            "placeholder": "Type something like Rps16",
            "_view_module": "@jupyter-widgets/controls",
            "_model_module_version": "1.5.0",
            "value": "Eif2b4",
            "_view_count": null,
            "disabled": false,
            "_view_module_version": "1.5.0",
            "continuous_update": true,
            "description_tooltip": null,
            "_model_module": "@jupyter-widgets/controls",
            "layout": "IPY_MODEL_53ba532148154228ad846e31512a4e1e"
          }
        },
        "26e26bafc6034108b7f675a9bcfd7ede": {
          "model_module": "@jupyter-widgets/controls",
          "model_name": "DescriptionStyleModel",
          "model_module_version": "1.5.0",
          "state": {
            "_view_name": "StyleView",
            "_model_name": "DescriptionStyleModel",
            "description_width": "",
            "_view_module": "@jupyter-widgets/base",
            "_model_module_version": "1.5.0",
            "_view_count": null,
            "_view_module_version": "1.2.0",
            "_model_module": "@jupyter-widgets/controls"
          }
        },
        "53ba532148154228ad846e31512a4e1e": {
          "model_module": "@jupyter-widgets/base",
          "model_name": "LayoutModel",
          "model_module_version": "1.2.0",
          "state": {
            "_view_name": "LayoutView",
            "grid_template_rows": null,
            "right": null,
            "justify_content": null,
            "_view_module": "@jupyter-widgets/base",
            "overflow": null,
            "_model_module_version": "1.2.0",
            "_view_count": null,
            "flex_flow": null,
            "width": null,
            "min_width": null,
            "border": null,
            "align_items": null,
            "bottom": null,
            "_model_module": "@jupyter-widgets/base",
            "top": null,
            "grid_column": null,
            "overflow_y": null,
            "overflow_x": null,
            "grid_auto_flow": null,
            "grid_area": null,
            "grid_template_columns": null,
            "flex": null,
            "_model_name": "LayoutModel",
            "justify_items": null,
            "grid_row": null,
            "max_height": null,
            "align_content": null,
            "visibility": null,
            "align_self": null,
            "height": null,
            "min_height": null,
            "padding": null,
            "grid_auto_rows": null,
            "grid_gap": null,
            "max_width": null,
            "order": null,
            "_view_module_version": "1.2.0",
            "grid_template_areas": null,
            "object_position": null,
            "object_fit": null,
            "grid_auto_columns": null,
            "margin": null,
            "display": null,
            "left": null
          }
        },
        "954579fc18164661abafd5a287180db1": {
          "model_module": "@jupyter-widgets/controls",
          "model_name": "TextModel",
          "model_module_version": "1.5.0",
          "state": {
            "_view_name": "TextView",
            "style": "IPY_MODEL_0d771f1993b74218961e84e3253e8723",
            "_dom_classes": [],
            "description": "protein:",
            "_model_name": "TextModel",
            "placeholder": "Type something like Rps16",
            "_view_module": "@jupyter-widgets/controls",
            "_model_module_version": "1.5.0",
            "value": "Eif2b2",
            "_view_count": null,
            "disabled": false,
            "_view_module_version": "1.5.0",
            "continuous_update": true,
            "description_tooltip": null,
            "_model_module": "@jupyter-widgets/controls",
            "layout": "IPY_MODEL_7d51a08dbebd4bc48100a6c06e8f9757"
          }
        },
        "0d771f1993b74218961e84e3253e8723": {
          "model_module": "@jupyter-widgets/controls",
          "model_name": "DescriptionStyleModel",
          "model_module_version": "1.5.0",
          "state": {
            "_view_name": "StyleView",
            "_model_name": "DescriptionStyleModel",
            "description_width": "",
            "_view_module": "@jupyter-widgets/base",
            "_model_module_version": "1.5.0",
            "_view_count": null,
            "_view_module_version": "1.2.0",
            "_model_module": "@jupyter-widgets/controls"
          }
        },
        "7d51a08dbebd4bc48100a6c06e8f9757": {
          "model_module": "@jupyter-widgets/base",
          "model_name": "LayoutModel",
          "model_module_version": "1.2.0",
          "state": {
            "_view_name": "LayoutView",
            "grid_template_rows": null,
            "right": null,
            "justify_content": null,
            "_view_module": "@jupyter-widgets/base",
            "overflow": null,
            "_model_module_version": "1.2.0",
            "_view_count": null,
            "flex_flow": null,
            "width": null,
            "min_width": null,
            "border": null,
            "align_items": null,
            "bottom": null,
            "_model_module": "@jupyter-widgets/base",
            "top": null,
            "grid_column": null,
            "overflow_y": null,
            "overflow_x": null,
            "grid_auto_flow": null,
            "grid_area": null,
            "grid_template_columns": null,
            "flex": null,
            "_model_name": "LayoutModel",
            "justify_items": null,
            "grid_row": null,
            "max_height": null,
            "align_content": null,
            "visibility": null,
            "align_self": null,
            "height": null,
            "min_height": null,
            "padding": null,
            "grid_auto_rows": null,
            "grid_gap": null,
            "max_width": null,
            "order": null,
            "_view_module_version": "1.2.0",
            "grid_template_areas": null,
            "object_position": null,
            "object_fit": null,
            "grid_auto_columns": null,
            "margin": null,
            "display": null,
            "left": null
          }
        },
        "42dd8361dd41450e9346891db1258f3e": {
          "model_module": "@jupyter-widgets/controls",
          "model_name": "ButtonModel",
          "model_module_version": "1.5.0",
          "state": {
            "_view_name": "ButtonView",
            "style": "IPY_MODEL_6936fbca60fb40ceb4617a03af7938c7",
            "_dom_classes": [],
            "description": "check",
            "_model_name": "ButtonModel",
            "button_style": "",
            "_view_module": "@jupyter-widgets/controls",
            "_model_module_version": "1.5.0",
            "tooltip": "",
            "_view_count": null,
            "disabled": false,
            "_view_module_version": "1.5.0",
            "layout": "IPY_MODEL_da8b6b3f5139413998f208aab1947905",
            "_model_module": "@jupyter-widgets/controls",
            "icon": ""
          }
        },
        "6936fbca60fb40ceb4617a03af7938c7": {
          "model_module": "@jupyter-widgets/controls",
          "model_name": "ButtonStyleModel",
          "model_module_version": "1.5.0",
          "state": {
            "_view_name": "StyleView",
            "_model_name": "ButtonStyleModel",
            "_view_module": "@jupyter-widgets/base",
            "_model_module_version": "1.5.0",
            "_view_count": null,
            "button_color": null,
            "font_weight": "",
            "_view_module_version": "1.2.0",
            "_model_module": "@jupyter-widgets/controls"
          }
        },
        "da8b6b3f5139413998f208aab1947905": {
          "model_module": "@jupyter-widgets/base",
          "model_name": "LayoutModel",
          "model_module_version": "1.2.0",
          "state": {
            "_view_name": "LayoutView",
            "grid_template_rows": null,
            "right": null,
            "justify_content": null,
            "_view_module": "@jupyter-widgets/base",
            "overflow": null,
            "_model_module_version": "1.2.0",
            "_view_count": null,
            "flex_flow": null,
            "width": null,
            "min_width": null,
            "border": null,
            "align_items": null,
            "bottom": null,
            "_model_module": "@jupyter-widgets/base",
            "top": null,
            "grid_column": null,
            "overflow_y": null,
            "overflow_x": null,
            "grid_auto_flow": null,
            "grid_area": null,
            "grid_template_columns": null,
            "flex": null,
            "_model_name": "LayoutModel",
            "justify_items": null,
            "grid_row": null,
            "max_height": null,
            "align_content": null,
            "visibility": null,
            "align_self": null,
            "height": null,
            "min_height": null,
            "padding": null,
            "grid_auto_rows": null,
            "grid_gap": null,
            "max_width": null,
            "order": null,
            "_view_module_version": "1.2.0",
            "grid_template_areas": null,
            "object_position": null,
            "object_fit": null,
            "grid_auto_columns": null,
            "margin": null,
            "display": null,
            "left": null
          }
        },
        "3b5a753bcd8a4c3fa6441abcefb1e428": {
          "model_module": "@jupyter-widgets/controls",
          "model_name": "TextModel",
          "model_module_version": "1.5.0",
          "state": {
            "_view_name": "TextView",
            "style": "IPY_MODEL_f7a7270e81714a2786c13a0c321a197c",
            "_dom_classes": [],
            "description": "protein:",
            "_model_name": "TextModel",
            "placeholder": "Type something like Eif2b4",
            "_view_module": "@jupyter-widgets/controls",
            "_model_module_version": "1.5.0",
            "value": "Eif2b4",
            "_view_count": null,
            "disabled": false,
            "_view_module_version": "1.5.0",
            "continuous_update": true,
            "description_tooltip": null,
            "_model_module": "@jupyter-widgets/controls",
            "layout": "IPY_MODEL_10d6c7f3c4cc4f06a1752381f687a711"
          }
        },
        "f7a7270e81714a2786c13a0c321a197c": {
          "model_module": "@jupyter-widgets/controls",
          "model_name": "DescriptionStyleModel",
          "model_module_version": "1.5.0",
          "state": {
            "_view_name": "StyleView",
            "_model_name": "DescriptionStyleModel",
            "description_width": "",
            "_view_module": "@jupyter-widgets/base",
            "_model_module_version": "1.5.0",
            "_view_count": null,
            "_view_module_version": "1.2.0",
            "_model_module": "@jupyter-widgets/controls"
          }
        },
        "10d6c7f3c4cc4f06a1752381f687a711": {
          "model_module": "@jupyter-widgets/base",
          "model_name": "LayoutModel",
          "model_module_version": "1.2.0",
          "state": {
            "_view_name": "LayoutView",
            "grid_template_rows": null,
            "right": null,
            "justify_content": null,
            "_view_module": "@jupyter-widgets/base",
            "overflow": null,
            "_model_module_version": "1.2.0",
            "_view_count": null,
            "flex_flow": null,
            "width": null,
            "min_width": null,
            "border": null,
            "align_items": null,
            "bottom": null,
            "_model_module": "@jupyter-widgets/base",
            "top": null,
            "grid_column": null,
            "overflow_y": null,
            "overflow_x": null,
            "grid_auto_flow": null,
            "grid_area": null,
            "grid_template_columns": null,
            "flex": null,
            "_model_name": "LayoutModel",
            "justify_items": null,
            "grid_row": null,
            "max_height": null,
            "align_content": null,
            "visibility": null,
            "align_self": null,
            "height": null,
            "min_height": null,
            "padding": null,
            "grid_auto_rows": null,
            "grid_gap": null,
            "max_width": null,
            "order": null,
            "_view_module_version": "1.2.0",
            "grid_template_areas": null,
            "object_position": null,
            "object_fit": null,
            "grid_auto_columns": null,
            "margin": null,
            "display": null,
            "left": null
          }
        },
        "ce8e2cbd5da14eeba421b19dd5e36bf5": {
          "model_module": "@jupyter-widgets/controls",
          "model_name": "ButtonModel",
          "model_module_version": "1.5.0",
          "state": {
            "_view_name": "ButtonView",
            "style": "IPY_MODEL_2ac6445a70f24aa5bbe88d51fc7cb753",
            "_dom_classes": [],
            "description": "OK",
            "_model_name": "ButtonModel",
            "button_style": "",
            "_view_module": "@jupyter-widgets/controls",
            "_model_module_version": "1.5.0",
            "tooltip": "",
            "_view_count": null,
            "disabled": false,
            "_view_module_version": "1.5.0",
            "layout": "IPY_MODEL_971003bb0347427abfea15302ac6b88b",
            "_model_module": "@jupyter-widgets/controls",
            "icon": ""
          }
        },
        "2ac6445a70f24aa5bbe88d51fc7cb753": {
          "model_module": "@jupyter-widgets/controls",
          "model_name": "ButtonStyleModel",
          "model_module_version": "1.5.0",
          "state": {
            "_view_name": "StyleView",
            "_model_name": "ButtonStyleModel",
            "_view_module": "@jupyter-widgets/base",
            "_model_module_version": "1.5.0",
            "_view_count": null,
            "button_color": null,
            "font_weight": "",
            "_view_module_version": "1.2.0",
            "_model_module": "@jupyter-widgets/controls"
          }
        },
        "971003bb0347427abfea15302ac6b88b": {
          "model_module": "@jupyter-widgets/base",
          "model_name": "LayoutModel",
          "model_module_version": "1.2.0",
          "state": {
            "_view_name": "LayoutView",
            "grid_template_rows": null,
            "right": null,
            "justify_content": null,
            "_view_module": "@jupyter-widgets/base",
            "overflow": null,
            "_model_module_version": "1.2.0",
            "_view_count": null,
            "flex_flow": null,
            "width": null,
            "min_width": null,
            "border": null,
            "align_items": null,
            "bottom": null,
            "_model_module": "@jupyter-widgets/base",
            "top": null,
            "grid_column": null,
            "overflow_y": null,
            "overflow_x": null,
            "grid_auto_flow": null,
            "grid_area": null,
            "grid_template_columns": null,
            "flex": null,
            "_model_name": "LayoutModel",
            "justify_items": null,
            "grid_row": null,
            "max_height": null,
            "align_content": null,
            "visibility": null,
            "align_self": null,
            "height": null,
            "min_height": null,
            "padding": null,
            "grid_auto_rows": null,
            "grid_gap": null,
            "max_width": null,
            "order": null,
            "_view_module_version": "1.2.0",
            "grid_template_areas": null,
            "object_position": null,
            "object_fit": null,
            "grid_auto_columns": null,
            "margin": null,
            "display": null,
            "left": null
          }
        }
      }
    }
  },
  "nbformat": 4,
  "nbformat_minor": 0
}