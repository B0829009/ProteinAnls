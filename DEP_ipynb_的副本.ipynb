{
  "nbformat": 4,
  "nbformat_minor": 0,
  "metadata": {
    "colab": {
      "name": "DEP.ipynb 的副本",
      "provenance": [],
      "collapsed_sections": [
        "NJ8JsiLxdod0",
        "OYVHWo7EgRlk",
        "gT6BKJ7hNOlM",
        "ucxFLdaefIfW",
        "5qYCtZqyfea0",
        "FtpwADcDfejz",
        "Dkx3acvtfepU",
        "cuISwCNrfesN",
        "z3E0uLMZeT4m"
      ]
    },
    "kernelspec": {
      "name": "python3",
      "display_name": "Python 3"
    },
    "language_info": {
      "name": "python"
    },
    "widgets": {
      "application/vnd.jupyter.widget-state+json": {
        "2f36a60270614a9596eeeaf6c97b2f48": {
          "model_module": "@jupyter-widgets/controls",
          "model_name": "RadioButtonsModel",
          "model_module_version": "1.5.0",
          "state": {
            "_options_labels": [
              "AGE",
              "FPS"
            ],
            "_view_name": "RadioButtonsView",
            "style": "IPY_MODEL_ed25128a80b24c00a11a0e1d00976b80",
            "_dom_classes": [],
            "description": "condition:",
            "_model_name": "RadioButtonsModel",
            "index": 0,
            "_view_module": "@jupyter-widgets/controls",
            "_model_module_version": "1.5.0",
            "_view_count": null,
            "disabled": false,
            "_view_module_version": "1.5.0",
            "description_tooltip": null,
            "_model_module": "@jupyter-widgets/controls",
            "layout": "IPY_MODEL_a672e64d28254df683c8fcf1f062a198"
          }
        },
        "ed25128a80b24c00a11a0e1d00976b80": {
          "model_module": "@jupyter-widgets/controls",
          "model_name": "DescriptionStyleModel",
          "model_module_version": "1.5.0",
          "state": {
            "_view_name": "StyleView",
            "_model_name": "DescriptionStyleModel",
            "description_width": "",
            "_view_module": "@jupyter-widgets/base",
            "_model_module_version": "1.5.0",
            "_view_count": null,
            "_view_module_version": "1.2.0",
            "_model_module": "@jupyter-widgets/controls"
          }
        },
        "a672e64d28254df683c8fcf1f062a198": {
          "model_module": "@jupyter-widgets/base",
          "model_name": "LayoutModel",
          "model_module_version": "1.2.0",
          "state": {
            "_view_name": "LayoutView",
            "grid_template_rows": null,
            "right": null,
            "justify_content": null,
            "_view_module": "@jupyter-widgets/base",
            "overflow": null,
            "_model_module_version": "1.2.0",
            "_view_count": null,
            "flex_flow": null,
            "width": null,
            "min_width": null,
            "border": null,
            "align_items": null,
            "bottom": null,
            "_model_module": "@jupyter-widgets/base",
            "top": null,
            "grid_column": null,
            "overflow_y": null,
            "overflow_x": null,
            "grid_auto_flow": null,
            "grid_area": null,
            "grid_template_columns": null,
            "flex": null,
            "_model_name": "LayoutModel",
            "justify_items": null,
            "grid_row": null,
            "max_height": null,
            "align_content": null,
            "visibility": null,
            "align_self": null,
            "height": null,
            "min_height": null,
            "padding": null,
            "grid_auto_rows": null,
            "grid_gap": null,
            "max_width": null,
            "order": null,
            "_view_module_version": "1.2.0",
            "grid_template_areas": null,
            "object_position": null,
            "object_fit": null,
            "grid_auto_columns": null,
            "margin": null,
            "display": null,
            "left": null
          }
        },
        "603daa24f7684ce6ad541bae47efd7c3": {
          "model_module": "@jupyter-widgets/controls",
          "model_name": "CheckboxModel",
          "model_module_version": "1.5.0",
          "state": {
            "_view_name": "CheckboxView",
            "style": "IPY_MODEL_8671eef1aaf2407c8206699fdf8c7fd2",
            "_dom_classes": [],
            "description": "Reporter.intensity.corrected.1.AGE",
            "_model_name": "CheckboxModel",
            "_view_module": "@jupyter-widgets/controls",
            "_model_module_version": "1.5.0",
            "value": true,
            "_view_count": null,
            "disabled": false,
            "_view_module_version": "1.5.0",
            "indent": false,
            "description_tooltip": null,
            "_model_module": "@jupyter-widgets/controls",
            "layout": "IPY_MODEL_3fc4ca088ebb4b9297784d7d0e1f0697"
          }
        },
        "8671eef1aaf2407c8206699fdf8c7fd2": {
          "model_module": "@jupyter-widgets/controls",
          "model_name": "DescriptionStyleModel",
          "model_module_version": "1.5.0",
          "state": {
            "_view_name": "StyleView",
            "_model_name": "DescriptionStyleModel",
            "description_width": "",
            "_view_module": "@jupyter-widgets/base",
            "_model_module_version": "1.5.0",
            "_view_count": null,
            "_view_module_version": "1.2.0",
            "_model_module": "@jupyter-widgets/controls"
          }
        },
        "3fc4ca088ebb4b9297784d7d0e1f0697": {
          "model_module": "@jupyter-widgets/base",
          "model_name": "LayoutModel",
          "model_module_version": "1.2.0",
          "state": {
            "_view_name": "LayoutView",
            "grid_template_rows": null,
            "right": null,
            "justify_content": null,
            "_view_module": "@jupyter-widgets/base",
            "overflow": null,
            "_model_module_version": "1.2.0",
            "_view_count": null,
            "flex_flow": null,
            "width": null,
            "min_width": null,
            "border": null,
            "align_items": null,
            "bottom": null,
            "_model_module": "@jupyter-widgets/base",
            "top": null,
            "grid_column": null,
            "overflow_y": null,
            "overflow_x": null,
            "grid_auto_flow": null,
            "grid_area": null,
            "grid_template_columns": null,
            "flex": null,
            "_model_name": "LayoutModel",
            "justify_items": null,
            "grid_row": null,
            "max_height": null,
            "align_content": null,
            "visibility": null,
            "align_self": null,
            "height": null,
            "min_height": null,
            "padding": null,
            "grid_auto_rows": null,
            "grid_gap": null,
            "max_width": null,
            "order": null,
            "_view_module_version": "1.2.0",
            "grid_template_areas": null,
            "object_position": null,
            "object_fit": null,
            "grid_auto_columns": null,
            "margin": null,
            "display": null,
            "left": null
          }
        },
        "ab0ee9c6422f40f690ccf52a2cd3b45c": {
          "model_module": "@jupyter-widgets/controls",
          "model_name": "TextModel",
          "model_module_version": "1.5.0",
          "state": {
            "_view_name": "TextView",
            "style": "IPY_MODEL_39563d7c2ba64bcea716ed09ccca8798",
            "_dom_classes": [],
            "description": "condition",
            "_model_name": "TextModel",
            "placeholder": "​",
            "_view_module": "@jupyter-widgets/controls",
            "_model_module_version": "1.5.0",
            "value": "QW",
            "_view_count": null,
            "disabled": false,
            "_view_module_version": "1.5.0",
            "continuous_update": true,
            "description_tooltip": null,
            "_model_module": "@jupyter-widgets/controls",
            "layout": "IPY_MODEL_5cb565a3c22444509b0a9d0ea32c4703"
          }
        },
        "39563d7c2ba64bcea716ed09ccca8798": {
          "model_module": "@jupyter-widgets/controls",
          "model_name": "DescriptionStyleModel",
          "model_module_version": "1.5.0",
          "state": {
            "_view_name": "StyleView",
            "_model_name": "DescriptionStyleModel",
            "description_width": "",
            "_view_module": "@jupyter-widgets/base",
            "_model_module_version": "1.5.0",
            "_view_count": null,
            "_view_module_version": "1.2.0",
            "_model_module": "@jupyter-widgets/controls"
          }
        },
        "5cb565a3c22444509b0a9d0ea32c4703": {
          "model_module": "@jupyter-widgets/base",
          "model_name": "LayoutModel",
          "model_module_version": "1.2.0",
          "state": {
            "_view_name": "LayoutView",
            "grid_template_rows": null,
            "right": null,
            "justify_content": null,
            "_view_module": "@jupyter-widgets/base",
            "overflow": null,
            "_model_module_version": "1.2.0",
            "_view_count": null,
            "flex_flow": null,
            "width": "35%",
            "min_width": null,
            "border": null,
            "align_items": null,
            "bottom": null,
            "_model_module": "@jupyter-widgets/base",
            "top": null,
            "grid_column": null,
            "overflow_y": null,
            "overflow_x": null,
            "grid_auto_flow": null,
            "grid_area": null,
            "grid_template_columns": null,
            "flex": null,
            "_model_name": "LayoutModel",
            "justify_items": null,
            "grid_row": null,
            "max_height": null,
            "align_content": null,
            "visibility": null,
            "align_self": null,
            "height": "30px",
            "min_height": null,
            "padding": null,
            "grid_auto_rows": null,
            "grid_gap": null,
            "max_width": null,
            "order": null,
            "_view_module_version": "1.2.0",
            "grid_template_areas": null,
            "object_position": null,
            "object_fit": null,
            "grid_auto_columns": null,
            "margin": null,
            "display": null,
            "left": null
          }
        },
        "97ad428407b54640ac5b87d8dee1d673": {
          "model_module": "@jupyter-widgets/controls",
          "model_name": "TextModel",
          "model_module_version": "1.5.0",
          "state": {
            "_view_name": "TextView",
            "style": "IPY_MODEL_f52450268eae4e11b7b994ab9f35105b",
            "_dom_classes": [],
            "description": "replicate",
            "_model_name": "TextModel",
            "placeholder": "​",
            "_view_module": "@jupyter-widgets/controls",
            "_model_module_version": "1.5.0",
            "value": "1",
            "_view_count": null,
            "disabled": false,
            "_view_module_version": "1.5.0",
            "continuous_update": true,
            "description_tooltip": null,
            "_model_module": "@jupyter-widgets/controls",
            "layout": "IPY_MODEL_046091a3ec914db6a205d245843857ec"
          }
        },
        "f52450268eae4e11b7b994ab9f35105b": {
          "model_module": "@jupyter-widgets/controls",
          "model_name": "DescriptionStyleModel",
          "model_module_version": "1.5.0",
          "state": {
            "_view_name": "StyleView",
            "_model_name": "DescriptionStyleModel",
            "description_width": "",
            "_view_module": "@jupyter-widgets/base",
            "_model_module_version": "1.5.0",
            "_view_count": null,
            "_view_module_version": "1.2.0",
            "_model_module": "@jupyter-widgets/controls"
          }
        },
        "046091a3ec914db6a205d245843857ec": {
          "model_module": "@jupyter-widgets/base",
          "model_name": "LayoutModel",
          "model_module_version": "1.2.0",
          "state": {
            "_view_name": "LayoutView",
            "grid_template_rows": null,
            "right": null,
            "justify_content": null,
            "_view_module": "@jupyter-widgets/base",
            "overflow": null,
            "_model_module_version": "1.2.0",
            "_view_count": null,
            "flex_flow": null,
            "width": "35%",
            "min_width": null,
            "border": null,
            "align_items": null,
            "bottom": null,
            "_model_module": "@jupyter-widgets/base",
            "top": null,
            "grid_column": null,
            "overflow_y": null,
            "overflow_x": null,
            "grid_auto_flow": null,
            "grid_area": null,
            "grid_template_columns": null,
            "flex": null,
            "_model_name": "LayoutModel",
            "justify_items": null,
            "grid_row": null,
            "max_height": null,
            "align_content": null,
            "visibility": null,
            "align_self": null,
            "height": "30px",
            "min_height": null,
            "padding": null,
            "grid_auto_rows": null,
            "grid_gap": null,
            "max_width": null,
            "order": null,
            "_view_module_version": "1.2.0",
            "grid_template_areas": null,
            "object_position": null,
            "object_fit": null,
            "grid_auto_columns": null,
            "margin": null,
            "display": null,
            "left": null
          }
        },
        "a9dc3e461720481d8172dd019ea9c9d3": {
          "model_module": "@jupyter-widgets/controls",
          "model_name": "CheckboxModel",
          "model_module_version": "1.5.0",
          "state": {
            "_view_name": "CheckboxView",
            "style": "IPY_MODEL_887af14aea3c4cff9ef4fee4fe873aff",
            "_dom_classes": [],
            "description": "Reporter.intensity.corrected.2.AGE",
            "_model_name": "CheckboxModel",
            "_view_module": "@jupyter-widgets/controls",
            "_model_module_version": "1.5.0",
            "value": true,
            "_view_count": null,
            "disabled": false,
            "_view_module_version": "1.5.0",
            "indent": false,
            "description_tooltip": null,
            "_model_module": "@jupyter-widgets/controls",
            "layout": "IPY_MODEL_d00fbe1c4de340dbabd07b2b15d23536"
          }
        },
        "887af14aea3c4cff9ef4fee4fe873aff": {
          "model_module": "@jupyter-widgets/controls",
          "model_name": "DescriptionStyleModel",
          "model_module_version": "1.5.0",
          "state": {
            "_view_name": "StyleView",
            "_model_name": "DescriptionStyleModel",
            "description_width": "",
            "_view_module": "@jupyter-widgets/base",
            "_model_module_version": "1.5.0",
            "_view_count": null,
            "_view_module_version": "1.2.0",
            "_model_module": "@jupyter-widgets/controls"
          }
        },
        "d00fbe1c4de340dbabd07b2b15d23536": {
          "model_module": "@jupyter-widgets/base",
          "model_name": "LayoutModel",
          "model_module_version": "1.2.0",
          "state": {
            "_view_name": "LayoutView",
            "grid_template_rows": null,
            "right": null,
            "justify_content": null,
            "_view_module": "@jupyter-widgets/base",
            "overflow": null,
            "_model_module_version": "1.2.0",
            "_view_count": null,
            "flex_flow": null,
            "width": null,
            "min_width": null,
            "border": null,
            "align_items": null,
            "bottom": null,
            "_model_module": "@jupyter-widgets/base",
            "top": null,
            "grid_column": null,
            "overflow_y": null,
            "overflow_x": null,
            "grid_auto_flow": null,
            "grid_area": null,
            "grid_template_columns": null,
            "flex": null,
            "_model_name": "LayoutModel",
            "justify_items": null,
            "grid_row": null,
            "max_height": null,
            "align_content": null,
            "visibility": null,
            "align_self": null,
            "height": null,
            "min_height": null,
            "padding": null,
            "grid_auto_rows": null,
            "grid_gap": null,
            "max_width": null,
            "order": null,
            "_view_module_version": "1.2.0",
            "grid_template_areas": null,
            "object_position": null,
            "object_fit": null,
            "grid_auto_columns": null,
            "margin": null,
            "display": null,
            "left": null
          }
        },
        "e7625889281a4eb5bceabba6b2971dad": {
          "model_module": "@jupyter-widgets/controls",
          "model_name": "TextModel",
          "model_module_version": "1.5.0",
          "state": {
            "_view_name": "TextView",
            "style": "IPY_MODEL_8908b58e4d8e4589947db6a9a15d6964",
            "_dom_classes": [],
            "description": "condition",
            "_model_name": "TextModel",
            "placeholder": "​",
            "_view_module": "@jupyter-widgets/controls",
            "_model_module_version": "1.5.0",
            "value": "QW",
            "_view_count": null,
            "disabled": false,
            "_view_module_version": "1.5.0",
            "continuous_update": true,
            "description_tooltip": null,
            "_model_module": "@jupyter-widgets/controls",
            "layout": "IPY_MODEL_c7ed405fc58c4c73aa5acb4ad7488917"
          }
        },
        "8908b58e4d8e4589947db6a9a15d6964": {
          "model_module": "@jupyter-widgets/controls",
          "model_name": "DescriptionStyleModel",
          "model_module_version": "1.5.0",
          "state": {
            "_view_name": "StyleView",
            "_model_name": "DescriptionStyleModel",
            "description_width": "",
            "_view_module": "@jupyter-widgets/base",
            "_model_module_version": "1.5.0",
            "_view_count": null,
            "_view_module_version": "1.2.0",
            "_model_module": "@jupyter-widgets/controls"
          }
        },
        "c7ed405fc58c4c73aa5acb4ad7488917": {
          "model_module": "@jupyter-widgets/base",
          "model_name": "LayoutModel",
          "model_module_version": "1.2.0",
          "state": {
            "_view_name": "LayoutView",
            "grid_template_rows": null,
            "right": null,
            "justify_content": null,
            "_view_module": "@jupyter-widgets/base",
            "overflow": null,
            "_model_module_version": "1.2.0",
            "_view_count": null,
            "flex_flow": null,
            "width": "35%",
            "min_width": null,
            "border": null,
            "align_items": null,
            "bottom": null,
            "_model_module": "@jupyter-widgets/base",
            "top": null,
            "grid_column": null,
            "overflow_y": null,
            "overflow_x": null,
            "grid_auto_flow": null,
            "grid_area": null,
            "grid_template_columns": null,
            "flex": null,
            "_model_name": "LayoutModel",
            "justify_items": null,
            "grid_row": null,
            "max_height": null,
            "align_content": null,
            "visibility": null,
            "align_self": null,
            "height": "30px",
            "min_height": null,
            "padding": null,
            "grid_auto_rows": null,
            "grid_gap": null,
            "max_width": null,
            "order": null,
            "_view_module_version": "1.2.0",
            "grid_template_areas": null,
            "object_position": null,
            "object_fit": null,
            "grid_auto_columns": null,
            "margin": null,
            "display": null,
            "left": null
          }
        },
        "4cd6cecd4b534f41be465fa2d3b3b7cc": {
          "model_module": "@jupyter-widgets/controls",
          "model_name": "TextModel",
          "model_module_version": "1.5.0",
          "state": {
            "_view_name": "TextView",
            "style": "IPY_MODEL_1deb9f583da142f38c6043eaba86e0d5",
            "_dom_classes": [],
            "description": "replicate",
            "_model_name": "TextModel",
            "placeholder": "​",
            "_view_module": "@jupyter-widgets/controls",
            "_model_module_version": "1.5.0",
            "value": "2",
            "_view_count": null,
            "disabled": false,
            "_view_module_version": "1.5.0",
            "continuous_update": true,
            "description_tooltip": null,
            "_model_module": "@jupyter-widgets/controls",
            "layout": "IPY_MODEL_272ef6f5ffa242a48eefb2a4873644c7"
          }
        },
        "1deb9f583da142f38c6043eaba86e0d5": {
          "model_module": "@jupyter-widgets/controls",
          "model_name": "DescriptionStyleModel",
          "model_module_version": "1.5.0",
          "state": {
            "_view_name": "StyleView",
            "_model_name": "DescriptionStyleModel",
            "description_width": "",
            "_view_module": "@jupyter-widgets/base",
            "_model_module_version": "1.5.0",
            "_view_count": null,
            "_view_module_version": "1.2.0",
            "_model_module": "@jupyter-widgets/controls"
          }
        },
        "272ef6f5ffa242a48eefb2a4873644c7": {
          "model_module": "@jupyter-widgets/base",
          "model_name": "LayoutModel",
          "model_module_version": "1.2.0",
          "state": {
            "_view_name": "LayoutView",
            "grid_template_rows": null,
            "right": null,
            "justify_content": null,
            "_view_module": "@jupyter-widgets/base",
            "overflow": null,
            "_model_module_version": "1.2.0",
            "_view_count": null,
            "flex_flow": null,
            "width": "35%",
            "min_width": null,
            "border": null,
            "align_items": null,
            "bottom": null,
            "_model_module": "@jupyter-widgets/base",
            "top": null,
            "grid_column": null,
            "overflow_y": null,
            "overflow_x": null,
            "grid_auto_flow": null,
            "grid_area": null,
            "grid_template_columns": null,
            "flex": null,
            "_model_name": "LayoutModel",
            "justify_items": null,
            "grid_row": null,
            "max_height": null,
            "align_content": null,
            "visibility": null,
            "align_self": null,
            "height": "30px",
            "min_height": null,
            "padding": null,
            "grid_auto_rows": null,
            "grid_gap": null,
            "max_width": null,
            "order": null,
            "_view_module_version": "1.2.0",
            "grid_template_areas": null,
            "object_position": null,
            "object_fit": null,
            "grid_auto_columns": null,
            "margin": null,
            "display": null,
            "left": null
          }
        },
        "9ebd8201c4624a2aac32ee3c32934d24": {
          "model_module": "@jupyter-widgets/controls",
          "model_name": "CheckboxModel",
          "model_module_version": "1.5.0",
          "state": {
            "_view_name": "CheckboxView",
            "style": "IPY_MODEL_22b98ef7db8d418a966ff38b3dfb9777",
            "_dom_classes": [],
            "description": "Reporter.intensity.corrected.3.AGE",
            "_model_name": "CheckboxModel",
            "_view_module": "@jupyter-widgets/controls",
            "_model_module_version": "1.5.0",
            "value": false,
            "_view_count": null,
            "disabled": false,
            "_view_module_version": "1.5.0",
            "indent": false,
            "description_tooltip": null,
            "_model_module": "@jupyter-widgets/controls",
            "layout": "IPY_MODEL_c8f81c09aba8410ab7905c5ec5b9d3a6"
          }
        },
        "22b98ef7db8d418a966ff38b3dfb9777": {
          "model_module": "@jupyter-widgets/controls",
          "model_name": "DescriptionStyleModel",
          "model_module_version": "1.5.0",
          "state": {
            "_view_name": "StyleView",
            "_model_name": "DescriptionStyleModel",
            "description_width": "",
            "_view_module": "@jupyter-widgets/base",
            "_model_module_version": "1.5.0",
            "_view_count": null,
            "_view_module_version": "1.2.0",
            "_model_module": "@jupyter-widgets/controls"
          }
        },
        "c8f81c09aba8410ab7905c5ec5b9d3a6": {
          "model_module": "@jupyter-widgets/base",
          "model_name": "LayoutModel",
          "model_module_version": "1.2.0",
          "state": {
            "_view_name": "LayoutView",
            "grid_template_rows": null,
            "right": null,
            "justify_content": null,
            "_view_module": "@jupyter-widgets/base",
            "overflow": null,
            "_model_module_version": "1.2.0",
            "_view_count": null,
            "flex_flow": null,
            "width": null,
            "min_width": null,
            "border": null,
            "align_items": null,
            "bottom": null,
            "_model_module": "@jupyter-widgets/base",
            "top": null,
            "grid_column": null,
            "overflow_y": null,
            "overflow_x": null,
            "grid_auto_flow": null,
            "grid_area": null,
            "grid_template_columns": null,
            "flex": null,
            "_model_name": "LayoutModel",
            "justify_items": null,
            "grid_row": null,
            "max_height": null,
            "align_content": null,
            "visibility": null,
            "align_self": null,
            "height": null,
            "min_height": null,
            "padding": null,
            "grid_auto_rows": null,
            "grid_gap": null,
            "max_width": null,
            "order": null,
            "_view_module_version": "1.2.0",
            "grid_template_areas": null,
            "object_position": null,
            "object_fit": null,
            "grid_auto_columns": null,
            "margin": null,
            "display": null,
            "left": null
          }
        },
        "6a8d283a4646434ebedb32b237bed899": {
          "model_module": "@jupyter-widgets/controls",
          "model_name": "TextModel",
          "model_module_version": "1.5.0",
          "state": {
            "_view_name": "TextView",
            "style": "IPY_MODEL_1bfd5735647a4b3aacdce6cf2a10ec9e",
            "_dom_classes": [],
            "description": "condition",
            "_model_name": "TextModel",
            "placeholder": "​",
            "_view_module": "@jupyter-widgets/controls",
            "_model_module_version": "1.5.0",
            "value": "",
            "_view_count": null,
            "disabled": false,
            "_view_module_version": "1.5.0",
            "continuous_update": true,
            "description_tooltip": null,
            "_model_module": "@jupyter-widgets/controls",
            "layout": "IPY_MODEL_95b58916102b42218294d5a6c3df21a6"
          }
        },
        "1bfd5735647a4b3aacdce6cf2a10ec9e": {
          "model_module": "@jupyter-widgets/controls",
          "model_name": "DescriptionStyleModel",
          "model_module_version": "1.5.0",
          "state": {
            "_view_name": "StyleView",
            "_model_name": "DescriptionStyleModel",
            "description_width": "",
            "_view_module": "@jupyter-widgets/base",
            "_model_module_version": "1.5.0",
            "_view_count": null,
            "_view_module_version": "1.2.0",
            "_model_module": "@jupyter-widgets/controls"
          }
        },
        "95b58916102b42218294d5a6c3df21a6": {
          "model_module": "@jupyter-widgets/base",
          "model_name": "LayoutModel",
          "model_module_version": "1.2.0",
          "state": {
            "_view_name": "LayoutView",
            "grid_template_rows": null,
            "right": null,
            "justify_content": null,
            "_view_module": "@jupyter-widgets/base",
            "overflow": null,
            "_model_module_version": "1.2.0",
            "_view_count": null,
            "flex_flow": null,
            "width": "35%",
            "min_width": null,
            "border": null,
            "align_items": null,
            "bottom": null,
            "_model_module": "@jupyter-widgets/base",
            "top": null,
            "grid_column": null,
            "overflow_y": null,
            "overflow_x": null,
            "grid_auto_flow": null,
            "grid_area": null,
            "grid_template_columns": null,
            "flex": null,
            "_model_name": "LayoutModel",
            "justify_items": null,
            "grid_row": null,
            "max_height": null,
            "align_content": null,
            "visibility": null,
            "align_self": null,
            "height": "30px",
            "min_height": null,
            "padding": null,
            "grid_auto_rows": null,
            "grid_gap": null,
            "max_width": null,
            "order": null,
            "_view_module_version": "1.2.0",
            "grid_template_areas": null,
            "object_position": null,
            "object_fit": null,
            "grid_auto_columns": null,
            "margin": null,
            "display": null,
            "left": null
          }
        },
        "bc6c9ecf771341219312e71d7c0af87a": {
          "model_module": "@jupyter-widgets/controls",
          "model_name": "TextModel",
          "model_module_version": "1.5.0",
          "state": {
            "_view_name": "TextView",
            "style": "IPY_MODEL_9a8818b74c7c4b73b7a80a74c9cb80f0",
            "_dom_classes": [],
            "description": "replicate",
            "_model_name": "TextModel",
            "placeholder": "​",
            "_view_module": "@jupyter-widgets/controls",
            "_model_module_version": "1.5.0",
            "value": "",
            "_view_count": null,
            "disabled": false,
            "_view_module_version": "1.5.0",
            "continuous_update": true,
            "description_tooltip": null,
            "_model_module": "@jupyter-widgets/controls",
            "layout": "IPY_MODEL_4f1bb06d5cc04fc5a58ecc9e1c0a6f5d"
          }
        },
        "9a8818b74c7c4b73b7a80a74c9cb80f0": {
          "model_module": "@jupyter-widgets/controls",
          "model_name": "DescriptionStyleModel",
          "model_module_version": "1.5.0",
          "state": {
            "_view_name": "StyleView",
            "_model_name": "DescriptionStyleModel",
            "description_width": "",
            "_view_module": "@jupyter-widgets/base",
            "_model_module_version": "1.5.0",
            "_view_count": null,
            "_view_module_version": "1.2.0",
            "_model_module": "@jupyter-widgets/controls"
          }
        },
        "4f1bb06d5cc04fc5a58ecc9e1c0a6f5d": {
          "model_module": "@jupyter-widgets/base",
          "model_name": "LayoutModel",
          "model_module_version": "1.2.0",
          "state": {
            "_view_name": "LayoutView",
            "grid_template_rows": null,
            "right": null,
            "justify_content": null,
            "_view_module": "@jupyter-widgets/base",
            "overflow": null,
            "_model_module_version": "1.2.0",
            "_view_count": null,
            "flex_flow": null,
            "width": "35%",
            "min_width": null,
            "border": null,
            "align_items": null,
            "bottom": null,
            "_model_module": "@jupyter-widgets/base",
            "top": null,
            "grid_column": null,
            "overflow_y": null,
            "overflow_x": null,
            "grid_auto_flow": null,
            "grid_area": null,
            "grid_template_columns": null,
            "flex": null,
            "_model_name": "LayoutModel",
            "justify_items": null,
            "grid_row": null,
            "max_height": null,
            "align_content": null,
            "visibility": null,
            "align_self": null,
            "height": "30px",
            "min_height": null,
            "padding": null,
            "grid_auto_rows": null,
            "grid_gap": null,
            "max_width": null,
            "order": null,
            "_view_module_version": "1.2.0",
            "grid_template_areas": null,
            "object_position": null,
            "object_fit": null,
            "grid_auto_columns": null,
            "margin": null,
            "display": null,
            "left": null
          }
        },
        "4b5526f98296460a92c724f73753e6dc": {
          "model_module": "@jupyter-widgets/controls",
          "model_name": "CheckboxModel",
          "model_module_version": "1.5.0",
          "state": {
            "_view_name": "CheckboxView",
            "style": "IPY_MODEL_47bddcd95cdc47c0b482e1d7e9a41ea7",
            "_dom_classes": [],
            "description": "Reporter.intensity.corrected.4.AGE",
            "_model_name": "CheckboxModel",
            "_view_module": "@jupyter-widgets/controls",
            "_model_module_version": "1.5.0",
            "value": false,
            "_view_count": null,
            "disabled": false,
            "_view_module_version": "1.5.0",
            "indent": false,
            "description_tooltip": null,
            "_model_module": "@jupyter-widgets/controls",
            "layout": "IPY_MODEL_37855c64a36f461384ac5b8646d285e1"
          }
        },
        "47bddcd95cdc47c0b482e1d7e9a41ea7": {
          "model_module": "@jupyter-widgets/controls",
          "model_name": "DescriptionStyleModel",
          "model_module_version": "1.5.0",
          "state": {
            "_view_name": "StyleView",
            "_model_name": "DescriptionStyleModel",
            "description_width": "",
            "_view_module": "@jupyter-widgets/base",
            "_model_module_version": "1.5.0",
            "_view_count": null,
            "_view_module_version": "1.2.0",
            "_model_module": "@jupyter-widgets/controls"
          }
        },
        "37855c64a36f461384ac5b8646d285e1": {
          "model_module": "@jupyter-widgets/base",
          "model_name": "LayoutModel",
          "model_module_version": "1.2.0",
          "state": {
            "_view_name": "LayoutView",
            "grid_template_rows": null,
            "right": null,
            "justify_content": null,
            "_view_module": "@jupyter-widgets/base",
            "overflow": null,
            "_model_module_version": "1.2.0",
            "_view_count": null,
            "flex_flow": null,
            "width": null,
            "min_width": null,
            "border": null,
            "align_items": null,
            "bottom": null,
            "_model_module": "@jupyter-widgets/base",
            "top": null,
            "grid_column": null,
            "overflow_y": null,
            "overflow_x": null,
            "grid_auto_flow": null,
            "grid_area": null,
            "grid_template_columns": null,
            "flex": null,
            "_model_name": "LayoutModel",
            "justify_items": null,
            "grid_row": null,
            "max_height": null,
            "align_content": null,
            "visibility": null,
            "align_self": null,
            "height": null,
            "min_height": null,
            "padding": null,
            "grid_auto_rows": null,
            "grid_gap": null,
            "max_width": null,
            "order": null,
            "_view_module_version": "1.2.0",
            "grid_template_areas": null,
            "object_position": null,
            "object_fit": null,
            "grid_auto_columns": null,
            "margin": null,
            "display": null,
            "left": null
          }
        },
        "e699e5adb08449c19e63c4023e60ccc1": {
          "model_module": "@jupyter-widgets/controls",
          "model_name": "TextModel",
          "model_module_version": "1.5.0",
          "state": {
            "_view_name": "TextView",
            "style": "IPY_MODEL_46ca3b7231e440a4a7fa94f65d523857",
            "_dom_classes": [],
            "description": "condition",
            "_model_name": "TextModel",
            "placeholder": "​",
            "_view_module": "@jupyter-widgets/controls",
            "_model_module_version": "1.5.0",
            "value": "",
            "_view_count": null,
            "disabled": false,
            "_view_module_version": "1.5.0",
            "continuous_update": true,
            "description_tooltip": null,
            "_model_module": "@jupyter-widgets/controls",
            "layout": "IPY_MODEL_870b9da133494b7cbc82ba615ccef426"
          }
        },
        "46ca3b7231e440a4a7fa94f65d523857": {
          "model_module": "@jupyter-widgets/controls",
          "model_name": "DescriptionStyleModel",
          "model_module_version": "1.5.0",
          "state": {
            "_view_name": "StyleView",
            "_model_name": "DescriptionStyleModel",
            "description_width": "",
            "_view_module": "@jupyter-widgets/base",
            "_model_module_version": "1.5.0",
            "_view_count": null,
            "_view_module_version": "1.2.0",
            "_model_module": "@jupyter-widgets/controls"
          }
        },
        "870b9da133494b7cbc82ba615ccef426": {
          "model_module": "@jupyter-widgets/base",
          "model_name": "LayoutModel",
          "model_module_version": "1.2.0",
          "state": {
            "_view_name": "LayoutView",
            "grid_template_rows": null,
            "right": null,
            "justify_content": null,
            "_view_module": "@jupyter-widgets/base",
            "overflow": null,
            "_model_module_version": "1.2.0",
            "_view_count": null,
            "flex_flow": null,
            "width": "35%",
            "min_width": null,
            "border": null,
            "align_items": null,
            "bottom": null,
            "_model_module": "@jupyter-widgets/base",
            "top": null,
            "grid_column": null,
            "overflow_y": null,
            "overflow_x": null,
            "grid_auto_flow": null,
            "grid_area": null,
            "grid_template_columns": null,
            "flex": null,
            "_model_name": "LayoutModel",
            "justify_items": null,
            "grid_row": null,
            "max_height": null,
            "align_content": null,
            "visibility": null,
            "align_self": null,
            "height": "30px",
            "min_height": null,
            "padding": null,
            "grid_auto_rows": null,
            "grid_gap": null,
            "max_width": null,
            "order": null,
            "_view_module_version": "1.2.0",
            "grid_template_areas": null,
            "object_position": null,
            "object_fit": null,
            "grid_auto_columns": null,
            "margin": null,
            "display": null,
            "left": null
          }
        },
        "506f83bb55454bca96d945b95861c4dc": {
          "model_module": "@jupyter-widgets/controls",
          "model_name": "TextModel",
          "model_module_version": "1.5.0",
          "state": {
            "_view_name": "TextView",
            "style": "IPY_MODEL_160c70966ed942ae9430d9b8a59a4632",
            "_dom_classes": [],
            "description": "replicate",
            "_model_name": "TextModel",
            "placeholder": "​",
            "_view_module": "@jupyter-widgets/controls",
            "_model_module_version": "1.5.0",
            "value": "",
            "_view_count": null,
            "disabled": false,
            "_view_module_version": "1.5.0",
            "continuous_update": true,
            "description_tooltip": null,
            "_model_module": "@jupyter-widgets/controls",
            "layout": "IPY_MODEL_d18198490cd44b4298217805644fb039"
          }
        },
        "160c70966ed942ae9430d9b8a59a4632": {
          "model_module": "@jupyter-widgets/controls",
          "model_name": "DescriptionStyleModel",
          "model_module_version": "1.5.0",
          "state": {
            "_view_name": "StyleView",
            "_model_name": "DescriptionStyleModel",
            "description_width": "",
            "_view_module": "@jupyter-widgets/base",
            "_model_module_version": "1.5.0",
            "_view_count": null,
            "_view_module_version": "1.2.0",
            "_model_module": "@jupyter-widgets/controls"
          }
        },
        "d18198490cd44b4298217805644fb039": {
          "model_module": "@jupyter-widgets/base",
          "model_name": "LayoutModel",
          "model_module_version": "1.2.0",
          "state": {
            "_view_name": "LayoutView",
            "grid_template_rows": null,
            "right": null,
            "justify_content": null,
            "_view_module": "@jupyter-widgets/base",
            "overflow": null,
            "_model_module_version": "1.2.0",
            "_view_count": null,
            "flex_flow": null,
            "width": "35%",
            "min_width": null,
            "border": null,
            "align_items": null,
            "bottom": null,
            "_model_module": "@jupyter-widgets/base",
            "top": null,
            "grid_column": null,
            "overflow_y": null,
            "overflow_x": null,
            "grid_auto_flow": null,
            "grid_area": null,
            "grid_template_columns": null,
            "flex": null,
            "_model_name": "LayoutModel",
            "justify_items": null,
            "grid_row": null,
            "max_height": null,
            "align_content": null,
            "visibility": null,
            "align_self": null,
            "height": "30px",
            "min_height": null,
            "padding": null,
            "grid_auto_rows": null,
            "grid_gap": null,
            "max_width": null,
            "order": null,
            "_view_module_version": "1.2.0",
            "grid_template_areas": null,
            "object_position": null,
            "object_fit": null,
            "grid_auto_columns": null,
            "margin": null,
            "display": null,
            "left": null
          }
        },
        "080b9b6928b04853ae6baa3f6b808a31": {
          "model_module": "@jupyter-widgets/controls",
          "model_name": "CheckboxModel",
          "model_module_version": "1.5.0",
          "state": {
            "_view_name": "CheckboxView",
            "style": "IPY_MODEL_0f7d7fe1a26d4d8a90931562a52c0396",
            "_dom_classes": [],
            "description": "Reporter.intensity.corrected.5.AGE",
            "_model_name": "CheckboxModel",
            "_view_module": "@jupyter-widgets/controls",
            "_model_module_version": "1.5.0",
            "value": true,
            "_view_count": null,
            "disabled": false,
            "_view_module_version": "1.5.0",
            "indent": false,
            "description_tooltip": null,
            "_model_module": "@jupyter-widgets/controls",
            "layout": "IPY_MODEL_c2e8925c88f649deac26788e13ff9556"
          }
        },
        "0f7d7fe1a26d4d8a90931562a52c0396": {
          "model_module": "@jupyter-widgets/controls",
          "model_name": "DescriptionStyleModel",
          "model_module_version": "1.5.0",
          "state": {
            "_view_name": "StyleView",
            "_model_name": "DescriptionStyleModel",
            "description_width": "",
            "_view_module": "@jupyter-widgets/base",
            "_model_module_version": "1.5.0",
            "_view_count": null,
            "_view_module_version": "1.2.0",
            "_model_module": "@jupyter-widgets/controls"
          }
        },
        "c2e8925c88f649deac26788e13ff9556": {
          "model_module": "@jupyter-widgets/base",
          "model_name": "LayoutModel",
          "model_module_version": "1.2.0",
          "state": {
            "_view_name": "LayoutView",
            "grid_template_rows": null,
            "right": null,
            "justify_content": null,
            "_view_module": "@jupyter-widgets/base",
            "overflow": null,
            "_model_module_version": "1.2.0",
            "_view_count": null,
            "flex_flow": null,
            "width": null,
            "min_width": null,
            "border": null,
            "align_items": null,
            "bottom": null,
            "_model_module": "@jupyter-widgets/base",
            "top": null,
            "grid_column": null,
            "overflow_y": null,
            "overflow_x": null,
            "grid_auto_flow": null,
            "grid_area": null,
            "grid_template_columns": null,
            "flex": null,
            "_model_name": "LayoutModel",
            "justify_items": null,
            "grid_row": null,
            "max_height": null,
            "align_content": null,
            "visibility": null,
            "align_self": null,
            "height": null,
            "min_height": null,
            "padding": null,
            "grid_auto_rows": null,
            "grid_gap": null,
            "max_width": null,
            "order": null,
            "_view_module_version": "1.2.0",
            "grid_template_areas": null,
            "object_position": null,
            "object_fit": null,
            "grid_auto_columns": null,
            "margin": null,
            "display": null,
            "left": null
          }
        },
        "f45c861513a647059369cbb7e256673e": {
          "model_module": "@jupyter-widgets/controls",
          "model_name": "TextModel",
          "model_module_version": "1.5.0",
          "state": {
            "_view_name": "TextView",
            "style": "IPY_MODEL_54111ab2ae7e403bac5652e1958548bf",
            "_dom_classes": [],
            "description": "condition",
            "_model_name": "TextModel",
            "placeholder": "​",
            "_view_module": "@jupyter-widgets/controls",
            "_model_module_version": "1.5.0",
            "value": "QW",
            "_view_count": null,
            "disabled": false,
            "_view_module_version": "1.5.0",
            "continuous_update": true,
            "description_tooltip": null,
            "_model_module": "@jupyter-widgets/controls",
            "layout": "IPY_MODEL_796aed4f10914160a5a3679743d307ff"
          }
        },
        "54111ab2ae7e403bac5652e1958548bf": {
          "model_module": "@jupyter-widgets/controls",
          "model_name": "DescriptionStyleModel",
          "model_module_version": "1.5.0",
          "state": {
            "_view_name": "StyleView",
            "_model_name": "DescriptionStyleModel",
            "description_width": "",
            "_view_module": "@jupyter-widgets/base",
            "_model_module_version": "1.5.0",
            "_view_count": null,
            "_view_module_version": "1.2.0",
            "_model_module": "@jupyter-widgets/controls"
          }
        },
        "796aed4f10914160a5a3679743d307ff": {
          "model_module": "@jupyter-widgets/base",
          "model_name": "LayoutModel",
          "model_module_version": "1.2.0",
          "state": {
            "_view_name": "LayoutView",
            "grid_template_rows": null,
            "right": null,
            "justify_content": null,
            "_view_module": "@jupyter-widgets/base",
            "overflow": null,
            "_model_module_version": "1.2.0",
            "_view_count": null,
            "flex_flow": null,
            "width": "35%",
            "min_width": null,
            "border": null,
            "align_items": null,
            "bottom": null,
            "_model_module": "@jupyter-widgets/base",
            "top": null,
            "grid_column": null,
            "overflow_y": null,
            "overflow_x": null,
            "grid_auto_flow": null,
            "grid_area": null,
            "grid_template_columns": null,
            "flex": null,
            "_model_name": "LayoutModel",
            "justify_items": null,
            "grid_row": null,
            "max_height": null,
            "align_content": null,
            "visibility": null,
            "align_self": null,
            "height": "30px",
            "min_height": null,
            "padding": null,
            "grid_auto_rows": null,
            "grid_gap": null,
            "max_width": null,
            "order": null,
            "_view_module_version": "1.2.0",
            "grid_template_areas": null,
            "object_position": null,
            "object_fit": null,
            "grid_auto_columns": null,
            "margin": null,
            "display": null,
            "left": null
          }
        },
        "c829b6ed4aa24684a9619082bf74f9b9": {
          "model_module": "@jupyter-widgets/controls",
          "model_name": "TextModel",
          "model_module_version": "1.5.0",
          "state": {
            "_view_name": "TextView",
            "style": "IPY_MODEL_011cd4077bdc496bbb342e37dd080d0d",
            "_dom_classes": [],
            "description": "replicate",
            "_model_name": "TextModel",
            "placeholder": "​",
            "_view_module": "@jupyter-widgets/controls",
            "_model_module_version": "1.5.0",
            "value": "3",
            "_view_count": null,
            "disabled": false,
            "_view_module_version": "1.5.0",
            "continuous_update": true,
            "description_tooltip": null,
            "_model_module": "@jupyter-widgets/controls",
            "layout": "IPY_MODEL_f4fd2cb76a6b4eca80f133801eaa9b43"
          }
        },
        "011cd4077bdc496bbb342e37dd080d0d": {
          "model_module": "@jupyter-widgets/controls",
          "model_name": "DescriptionStyleModel",
          "model_module_version": "1.5.0",
          "state": {
            "_view_name": "StyleView",
            "_model_name": "DescriptionStyleModel",
            "description_width": "",
            "_view_module": "@jupyter-widgets/base",
            "_model_module_version": "1.5.0",
            "_view_count": null,
            "_view_module_version": "1.2.0",
            "_model_module": "@jupyter-widgets/controls"
          }
        },
        "f4fd2cb76a6b4eca80f133801eaa9b43": {
          "model_module": "@jupyter-widgets/base",
          "model_name": "LayoutModel",
          "model_module_version": "1.2.0",
          "state": {
            "_view_name": "LayoutView",
            "grid_template_rows": null,
            "right": null,
            "justify_content": null,
            "_view_module": "@jupyter-widgets/base",
            "overflow": null,
            "_model_module_version": "1.2.0",
            "_view_count": null,
            "flex_flow": null,
            "width": "35%",
            "min_width": null,
            "border": null,
            "align_items": null,
            "bottom": null,
            "_model_module": "@jupyter-widgets/base",
            "top": null,
            "grid_column": null,
            "overflow_y": null,
            "overflow_x": null,
            "grid_auto_flow": null,
            "grid_area": null,
            "grid_template_columns": null,
            "flex": null,
            "_model_name": "LayoutModel",
            "justify_items": null,
            "grid_row": null,
            "max_height": null,
            "align_content": null,
            "visibility": null,
            "align_self": null,
            "height": "30px",
            "min_height": null,
            "padding": null,
            "grid_auto_rows": null,
            "grid_gap": null,
            "max_width": null,
            "order": null,
            "_view_module_version": "1.2.0",
            "grid_template_areas": null,
            "object_position": null,
            "object_fit": null,
            "grid_auto_columns": null,
            "margin": null,
            "display": null,
            "left": null
          }
        },
        "8e6397ef474b4531b9a540f46be33cce": {
          "model_module": "@jupyter-widgets/controls",
          "model_name": "CheckboxModel",
          "model_module_version": "1.5.0",
          "state": {
            "_view_name": "CheckboxView",
            "style": "IPY_MODEL_fa27d17b6191454bb449e95e81e5b773",
            "_dom_classes": [],
            "description": "Reporter.intensity.corrected.6.AGE",
            "_model_name": "CheckboxModel",
            "_view_module": "@jupyter-widgets/controls",
            "_model_module_version": "1.5.0",
            "value": true,
            "_view_count": null,
            "disabled": false,
            "_view_module_version": "1.5.0",
            "indent": false,
            "description_tooltip": null,
            "_model_module": "@jupyter-widgets/controls",
            "layout": "IPY_MODEL_9cedb4b28a8845669f040434bafd67fc"
          }
        },
        "fa27d17b6191454bb449e95e81e5b773": {
          "model_module": "@jupyter-widgets/controls",
          "model_name": "DescriptionStyleModel",
          "model_module_version": "1.5.0",
          "state": {
            "_view_name": "StyleView",
            "_model_name": "DescriptionStyleModel",
            "description_width": "",
            "_view_module": "@jupyter-widgets/base",
            "_model_module_version": "1.5.0",
            "_view_count": null,
            "_view_module_version": "1.2.0",
            "_model_module": "@jupyter-widgets/controls"
          }
        },
        "9cedb4b28a8845669f040434bafd67fc": {
          "model_module": "@jupyter-widgets/base",
          "model_name": "LayoutModel",
          "model_module_version": "1.2.0",
          "state": {
            "_view_name": "LayoutView",
            "grid_template_rows": null,
            "right": null,
            "justify_content": null,
            "_view_module": "@jupyter-widgets/base",
            "overflow": null,
            "_model_module_version": "1.2.0",
            "_view_count": null,
            "flex_flow": null,
            "width": null,
            "min_width": null,
            "border": null,
            "align_items": null,
            "bottom": null,
            "_model_module": "@jupyter-widgets/base",
            "top": null,
            "grid_column": null,
            "overflow_y": null,
            "overflow_x": null,
            "grid_auto_flow": null,
            "grid_area": null,
            "grid_template_columns": null,
            "flex": null,
            "_model_name": "LayoutModel",
            "justify_items": null,
            "grid_row": null,
            "max_height": null,
            "align_content": null,
            "visibility": null,
            "align_self": null,
            "height": null,
            "min_height": null,
            "padding": null,
            "grid_auto_rows": null,
            "grid_gap": null,
            "max_width": null,
            "order": null,
            "_view_module_version": "1.2.0",
            "grid_template_areas": null,
            "object_position": null,
            "object_fit": null,
            "grid_auto_columns": null,
            "margin": null,
            "display": null,
            "left": null
          }
        },
        "8be52b69940a462fa94cc37cfff0856d": {
          "model_module": "@jupyter-widgets/controls",
          "model_name": "TextModel",
          "model_module_version": "1.5.0",
          "state": {
            "_view_name": "TextView",
            "style": "IPY_MODEL_20c257b2198045469204a78545d77fbc",
            "_dom_classes": [],
            "description": "condition",
            "_model_name": "TextModel",
            "placeholder": "​",
            "_view_module": "@jupyter-widgets/controls",
            "_model_module_version": "1.5.0",
            "value": "AS",
            "_view_count": null,
            "disabled": false,
            "_view_module_version": "1.5.0",
            "continuous_update": true,
            "description_tooltip": null,
            "_model_module": "@jupyter-widgets/controls",
            "layout": "IPY_MODEL_5dc68bb90a9a48adaefc302121ecf5e1"
          }
        },
        "20c257b2198045469204a78545d77fbc": {
          "model_module": "@jupyter-widgets/controls",
          "model_name": "DescriptionStyleModel",
          "model_module_version": "1.5.0",
          "state": {
            "_view_name": "StyleView",
            "_model_name": "DescriptionStyleModel",
            "description_width": "",
            "_view_module": "@jupyter-widgets/base",
            "_model_module_version": "1.5.0",
            "_view_count": null,
            "_view_module_version": "1.2.0",
            "_model_module": "@jupyter-widgets/controls"
          }
        },
        "5dc68bb90a9a48adaefc302121ecf5e1": {
          "model_module": "@jupyter-widgets/base",
          "model_name": "LayoutModel",
          "model_module_version": "1.2.0",
          "state": {
            "_view_name": "LayoutView",
            "grid_template_rows": null,
            "right": null,
            "justify_content": null,
            "_view_module": "@jupyter-widgets/base",
            "overflow": null,
            "_model_module_version": "1.2.0",
            "_view_count": null,
            "flex_flow": null,
            "width": "35%",
            "min_width": null,
            "border": null,
            "align_items": null,
            "bottom": null,
            "_model_module": "@jupyter-widgets/base",
            "top": null,
            "grid_column": null,
            "overflow_y": null,
            "overflow_x": null,
            "grid_auto_flow": null,
            "grid_area": null,
            "grid_template_columns": null,
            "flex": null,
            "_model_name": "LayoutModel",
            "justify_items": null,
            "grid_row": null,
            "max_height": null,
            "align_content": null,
            "visibility": null,
            "align_self": null,
            "height": "30px",
            "min_height": null,
            "padding": null,
            "grid_auto_rows": null,
            "grid_gap": null,
            "max_width": null,
            "order": null,
            "_view_module_version": "1.2.0",
            "grid_template_areas": null,
            "object_position": null,
            "object_fit": null,
            "grid_auto_columns": null,
            "margin": null,
            "display": null,
            "left": null
          }
        },
        "fc64159ba1dc46338fcc7a5566429c8f": {
          "model_module": "@jupyter-widgets/controls",
          "model_name": "TextModel",
          "model_module_version": "1.5.0",
          "state": {
            "_view_name": "TextView",
            "style": "IPY_MODEL_c989c81933904eefb4958e68f2dd4381",
            "_dom_classes": [],
            "description": "replicate",
            "_model_name": "TextModel",
            "placeholder": "​",
            "_view_module": "@jupyter-widgets/controls",
            "_model_module_version": "1.5.0",
            "value": "1",
            "_view_count": null,
            "disabled": false,
            "_view_module_version": "1.5.0",
            "continuous_update": true,
            "description_tooltip": null,
            "_model_module": "@jupyter-widgets/controls",
            "layout": "IPY_MODEL_6ddac49f9d6149c3823b0d80ae715969"
          }
        },
        "c989c81933904eefb4958e68f2dd4381": {
          "model_module": "@jupyter-widgets/controls",
          "model_name": "DescriptionStyleModel",
          "model_module_version": "1.5.0",
          "state": {
            "_view_name": "StyleView",
            "_model_name": "DescriptionStyleModel",
            "description_width": "",
            "_view_module": "@jupyter-widgets/base",
            "_model_module_version": "1.5.0",
            "_view_count": null,
            "_view_module_version": "1.2.0",
            "_model_module": "@jupyter-widgets/controls"
          }
        },
        "6ddac49f9d6149c3823b0d80ae715969": {
          "model_module": "@jupyter-widgets/base",
          "model_name": "LayoutModel",
          "model_module_version": "1.2.0",
          "state": {
            "_view_name": "LayoutView",
            "grid_template_rows": null,
            "right": null,
            "justify_content": null,
            "_view_module": "@jupyter-widgets/base",
            "overflow": null,
            "_model_module_version": "1.2.0",
            "_view_count": null,
            "flex_flow": null,
            "width": "35%",
            "min_width": null,
            "border": null,
            "align_items": null,
            "bottom": null,
            "_model_module": "@jupyter-widgets/base",
            "top": null,
            "grid_column": null,
            "overflow_y": null,
            "overflow_x": null,
            "grid_auto_flow": null,
            "grid_area": null,
            "grid_template_columns": null,
            "flex": null,
            "_model_name": "LayoutModel",
            "justify_items": null,
            "grid_row": null,
            "max_height": null,
            "align_content": null,
            "visibility": null,
            "align_self": null,
            "height": "30px",
            "min_height": null,
            "padding": null,
            "grid_auto_rows": null,
            "grid_gap": null,
            "max_width": null,
            "order": null,
            "_view_module_version": "1.2.0",
            "grid_template_areas": null,
            "object_position": null,
            "object_fit": null,
            "grid_auto_columns": null,
            "margin": null,
            "display": null,
            "left": null
          }
        },
        "d81772e9568145b2a35bfd84c8d6bf55": {
          "model_module": "@jupyter-widgets/controls",
          "model_name": "CheckboxModel",
          "model_module_version": "1.5.0",
          "state": {
            "_view_name": "CheckboxView",
            "style": "IPY_MODEL_91bf3a0ab1d44723bd8a7bb09258b0ff",
            "_dom_classes": [],
            "description": "Reporter.intensity.corrected.7.AGE",
            "_model_name": "CheckboxModel",
            "_view_module": "@jupyter-widgets/controls",
            "_model_module_version": "1.5.0",
            "value": true,
            "_view_count": null,
            "disabled": false,
            "_view_module_version": "1.5.0",
            "indent": false,
            "description_tooltip": null,
            "_model_module": "@jupyter-widgets/controls",
            "layout": "IPY_MODEL_c576688db4c2400bacbd3d6a2687194e"
          }
        },
        "91bf3a0ab1d44723bd8a7bb09258b0ff": {
          "model_module": "@jupyter-widgets/controls",
          "model_name": "DescriptionStyleModel",
          "model_module_version": "1.5.0",
          "state": {
            "_view_name": "StyleView",
            "_model_name": "DescriptionStyleModel",
            "description_width": "",
            "_view_module": "@jupyter-widgets/base",
            "_model_module_version": "1.5.0",
            "_view_count": null,
            "_view_module_version": "1.2.0",
            "_model_module": "@jupyter-widgets/controls"
          }
        },
        "c576688db4c2400bacbd3d6a2687194e": {
          "model_module": "@jupyter-widgets/base",
          "model_name": "LayoutModel",
          "model_module_version": "1.2.0",
          "state": {
            "_view_name": "LayoutView",
            "grid_template_rows": null,
            "right": null,
            "justify_content": null,
            "_view_module": "@jupyter-widgets/base",
            "overflow": null,
            "_model_module_version": "1.2.0",
            "_view_count": null,
            "flex_flow": null,
            "width": null,
            "min_width": null,
            "border": null,
            "align_items": null,
            "bottom": null,
            "_model_module": "@jupyter-widgets/base",
            "top": null,
            "grid_column": null,
            "overflow_y": null,
            "overflow_x": null,
            "grid_auto_flow": null,
            "grid_area": null,
            "grid_template_columns": null,
            "flex": null,
            "_model_name": "LayoutModel",
            "justify_items": null,
            "grid_row": null,
            "max_height": null,
            "align_content": null,
            "visibility": null,
            "align_self": null,
            "height": null,
            "min_height": null,
            "padding": null,
            "grid_auto_rows": null,
            "grid_gap": null,
            "max_width": null,
            "order": null,
            "_view_module_version": "1.2.0",
            "grid_template_areas": null,
            "object_position": null,
            "object_fit": null,
            "grid_auto_columns": null,
            "margin": null,
            "display": null,
            "left": null
          }
        },
        "a0cbc9ea68014bbaae68873ba3494d9b": {
          "model_module": "@jupyter-widgets/controls",
          "model_name": "TextModel",
          "model_module_version": "1.5.0",
          "state": {
            "_view_name": "TextView",
            "style": "IPY_MODEL_83a0915469cd4d0f8fd73b82b6cece29",
            "_dom_classes": [],
            "description": "condition",
            "_model_name": "TextModel",
            "placeholder": "​",
            "_view_module": "@jupyter-widgets/controls",
            "_model_module_version": "1.5.0",
            "value": "AS",
            "_view_count": null,
            "disabled": false,
            "_view_module_version": "1.5.0",
            "continuous_update": true,
            "description_tooltip": null,
            "_model_module": "@jupyter-widgets/controls",
            "layout": "IPY_MODEL_97a52c1bc060439eb2b18ffaaa44926b"
          }
        },
        "83a0915469cd4d0f8fd73b82b6cece29": {
          "model_module": "@jupyter-widgets/controls",
          "model_name": "DescriptionStyleModel",
          "model_module_version": "1.5.0",
          "state": {
            "_view_name": "StyleView",
            "_model_name": "DescriptionStyleModel",
            "description_width": "",
            "_view_module": "@jupyter-widgets/base",
            "_model_module_version": "1.5.0",
            "_view_count": null,
            "_view_module_version": "1.2.0",
            "_model_module": "@jupyter-widgets/controls"
          }
        },
        "97a52c1bc060439eb2b18ffaaa44926b": {
          "model_module": "@jupyter-widgets/base",
          "model_name": "LayoutModel",
          "model_module_version": "1.2.0",
          "state": {
            "_view_name": "LayoutView",
            "grid_template_rows": null,
            "right": null,
            "justify_content": null,
            "_view_module": "@jupyter-widgets/base",
            "overflow": null,
            "_model_module_version": "1.2.0",
            "_view_count": null,
            "flex_flow": null,
            "width": "35%",
            "min_width": null,
            "border": null,
            "align_items": null,
            "bottom": null,
            "_model_module": "@jupyter-widgets/base",
            "top": null,
            "grid_column": null,
            "overflow_y": null,
            "overflow_x": null,
            "grid_auto_flow": null,
            "grid_area": null,
            "grid_template_columns": null,
            "flex": null,
            "_model_name": "LayoutModel",
            "justify_items": null,
            "grid_row": null,
            "max_height": null,
            "align_content": null,
            "visibility": null,
            "align_self": null,
            "height": "30px",
            "min_height": null,
            "padding": null,
            "grid_auto_rows": null,
            "grid_gap": null,
            "max_width": null,
            "order": null,
            "_view_module_version": "1.2.0",
            "grid_template_areas": null,
            "object_position": null,
            "object_fit": null,
            "grid_auto_columns": null,
            "margin": null,
            "display": null,
            "left": null
          }
        },
        "bda43e4e4def459cb6a686bfee85f152": {
          "model_module": "@jupyter-widgets/controls",
          "model_name": "TextModel",
          "model_module_version": "1.5.0",
          "state": {
            "_view_name": "TextView",
            "style": "IPY_MODEL_2ab7e4f26df74b26bca970d65d816cfe",
            "_dom_classes": [],
            "description": "replicate",
            "_model_name": "TextModel",
            "placeholder": "​",
            "_view_module": "@jupyter-widgets/controls",
            "_model_module_version": "1.5.0",
            "value": "2",
            "_view_count": null,
            "disabled": false,
            "_view_module_version": "1.5.0",
            "continuous_update": true,
            "description_tooltip": null,
            "_model_module": "@jupyter-widgets/controls",
            "layout": "IPY_MODEL_ded986747d91421c832ca65885857fee"
          }
        },
        "2ab7e4f26df74b26bca970d65d816cfe": {
          "model_module": "@jupyter-widgets/controls",
          "model_name": "DescriptionStyleModel",
          "model_module_version": "1.5.0",
          "state": {
            "_view_name": "StyleView",
            "_model_name": "DescriptionStyleModel",
            "description_width": "",
            "_view_module": "@jupyter-widgets/base",
            "_model_module_version": "1.5.0",
            "_view_count": null,
            "_view_module_version": "1.2.0",
            "_model_module": "@jupyter-widgets/controls"
          }
        },
        "ded986747d91421c832ca65885857fee": {
          "model_module": "@jupyter-widgets/base",
          "model_name": "LayoutModel",
          "model_module_version": "1.2.0",
          "state": {
            "_view_name": "LayoutView",
            "grid_template_rows": null,
            "right": null,
            "justify_content": null,
            "_view_module": "@jupyter-widgets/base",
            "overflow": null,
            "_model_module_version": "1.2.0",
            "_view_count": null,
            "flex_flow": null,
            "width": "35%",
            "min_width": null,
            "border": null,
            "align_items": null,
            "bottom": null,
            "_model_module": "@jupyter-widgets/base",
            "top": null,
            "grid_column": null,
            "overflow_y": null,
            "overflow_x": null,
            "grid_auto_flow": null,
            "grid_area": null,
            "grid_template_columns": null,
            "flex": null,
            "_model_name": "LayoutModel",
            "justify_items": null,
            "grid_row": null,
            "max_height": null,
            "align_content": null,
            "visibility": null,
            "align_self": null,
            "height": "30px",
            "min_height": null,
            "padding": null,
            "grid_auto_rows": null,
            "grid_gap": null,
            "max_width": null,
            "order": null,
            "_view_module_version": "1.2.0",
            "grid_template_areas": null,
            "object_position": null,
            "object_fit": null,
            "grid_auto_columns": null,
            "margin": null,
            "display": null,
            "left": null
          }
        },
        "3dd47702c0cf433c94671f4868255af6": {
          "model_module": "@jupyter-widgets/controls",
          "model_name": "CheckboxModel",
          "model_module_version": "1.5.0",
          "state": {
            "_view_name": "CheckboxView",
            "style": "IPY_MODEL_256b559baf614bbbbc4b9742bf53eb05",
            "_dom_classes": [],
            "description": "Reporter.intensity.corrected.8.AGE",
            "_model_name": "CheckboxModel",
            "_view_module": "@jupyter-widgets/controls",
            "_model_module_version": "1.5.0",
            "value": true,
            "_view_count": null,
            "disabled": false,
            "_view_module_version": "1.5.0",
            "indent": false,
            "description_tooltip": null,
            "_model_module": "@jupyter-widgets/controls",
            "layout": "IPY_MODEL_27e3b3e963a34d8f8fff29818e63f045"
          }
        },
        "256b559baf614bbbbc4b9742bf53eb05": {
          "model_module": "@jupyter-widgets/controls",
          "model_name": "DescriptionStyleModel",
          "model_module_version": "1.5.0",
          "state": {
            "_view_name": "StyleView",
            "_model_name": "DescriptionStyleModel",
            "description_width": "",
            "_view_module": "@jupyter-widgets/base",
            "_model_module_version": "1.5.0",
            "_view_count": null,
            "_view_module_version": "1.2.0",
            "_model_module": "@jupyter-widgets/controls"
          }
        },
        "27e3b3e963a34d8f8fff29818e63f045": {
          "model_module": "@jupyter-widgets/base",
          "model_name": "LayoutModel",
          "model_module_version": "1.2.0",
          "state": {
            "_view_name": "LayoutView",
            "grid_template_rows": null,
            "right": null,
            "justify_content": null,
            "_view_module": "@jupyter-widgets/base",
            "overflow": null,
            "_model_module_version": "1.2.0",
            "_view_count": null,
            "flex_flow": null,
            "width": null,
            "min_width": null,
            "border": null,
            "align_items": null,
            "bottom": null,
            "_model_module": "@jupyter-widgets/base",
            "top": null,
            "grid_column": null,
            "overflow_y": null,
            "overflow_x": null,
            "grid_auto_flow": null,
            "grid_area": null,
            "grid_template_columns": null,
            "flex": null,
            "_model_name": "LayoutModel",
            "justify_items": null,
            "grid_row": null,
            "max_height": null,
            "align_content": null,
            "visibility": null,
            "align_self": null,
            "height": null,
            "min_height": null,
            "padding": null,
            "grid_auto_rows": null,
            "grid_gap": null,
            "max_width": null,
            "order": null,
            "_view_module_version": "1.2.0",
            "grid_template_areas": null,
            "object_position": null,
            "object_fit": null,
            "grid_auto_columns": null,
            "margin": null,
            "display": null,
            "left": null
          }
        },
        "81130dc4bc364ad5ba046efff23be96f": {
          "model_module": "@jupyter-widgets/controls",
          "model_name": "TextModel",
          "model_module_version": "1.5.0",
          "state": {
            "_view_name": "TextView",
            "style": "IPY_MODEL_993fb24d9d10447a9968db97c7b514cc",
            "_dom_classes": [],
            "description": "condition",
            "_model_name": "TextModel",
            "placeholder": "​",
            "_view_module": "@jupyter-widgets/controls",
            "_model_module_version": "1.5.0",
            "value": "AS",
            "_view_count": null,
            "disabled": false,
            "_view_module_version": "1.5.0",
            "continuous_update": true,
            "description_tooltip": null,
            "_model_module": "@jupyter-widgets/controls",
            "layout": "IPY_MODEL_82b02feef6fd4bd59b2f2f0f0ef87c46"
          }
        },
        "993fb24d9d10447a9968db97c7b514cc": {
          "model_module": "@jupyter-widgets/controls",
          "model_name": "DescriptionStyleModel",
          "model_module_version": "1.5.0",
          "state": {
            "_view_name": "StyleView",
            "_model_name": "DescriptionStyleModel",
            "description_width": "",
            "_view_module": "@jupyter-widgets/base",
            "_model_module_version": "1.5.0",
            "_view_count": null,
            "_view_module_version": "1.2.0",
            "_model_module": "@jupyter-widgets/controls"
          }
        },
        "82b02feef6fd4bd59b2f2f0f0ef87c46": {
          "model_module": "@jupyter-widgets/base",
          "model_name": "LayoutModel",
          "model_module_version": "1.2.0",
          "state": {
            "_view_name": "LayoutView",
            "grid_template_rows": null,
            "right": null,
            "justify_content": null,
            "_view_module": "@jupyter-widgets/base",
            "overflow": null,
            "_model_module_version": "1.2.0",
            "_view_count": null,
            "flex_flow": null,
            "width": "35%",
            "min_width": null,
            "border": null,
            "align_items": null,
            "bottom": null,
            "_model_module": "@jupyter-widgets/base",
            "top": null,
            "grid_column": null,
            "overflow_y": null,
            "overflow_x": null,
            "grid_auto_flow": null,
            "grid_area": null,
            "grid_template_columns": null,
            "flex": null,
            "_model_name": "LayoutModel",
            "justify_items": null,
            "grid_row": null,
            "max_height": null,
            "align_content": null,
            "visibility": null,
            "align_self": null,
            "height": "30px",
            "min_height": null,
            "padding": null,
            "grid_auto_rows": null,
            "grid_gap": null,
            "max_width": null,
            "order": null,
            "_view_module_version": "1.2.0",
            "grid_template_areas": null,
            "object_position": null,
            "object_fit": null,
            "grid_auto_columns": null,
            "margin": null,
            "display": null,
            "left": null
          }
        },
        "0ebae42d893544e8963931d754862292": {
          "model_module": "@jupyter-widgets/controls",
          "model_name": "TextModel",
          "model_module_version": "1.5.0",
          "state": {
            "_view_name": "TextView",
            "style": "IPY_MODEL_682c60e8c66b410b80474358177f1b1f",
            "_dom_classes": [],
            "description": "replicate",
            "_model_name": "TextModel",
            "placeholder": "​",
            "_view_module": "@jupyter-widgets/controls",
            "_model_module_version": "1.5.0",
            "value": "3",
            "_view_count": null,
            "disabled": false,
            "_view_module_version": "1.5.0",
            "continuous_update": true,
            "description_tooltip": null,
            "_model_module": "@jupyter-widgets/controls",
            "layout": "IPY_MODEL_9bab5ce6003947238361016815fce42b"
          }
        },
        "682c60e8c66b410b80474358177f1b1f": {
          "model_module": "@jupyter-widgets/controls",
          "model_name": "DescriptionStyleModel",
          "model_module_version": "1.5.0",
          "state": {
            "_view_name": "StyleView",
            "_model_name": "DescriptionStyleModel",
            "description_width": "",
            "_view_module": "@jupyter-widgets/base",
            "_model_module_version": "1.5.0",
            "_view_count": null,
            "_view_module_version": "1.2.0",
            "_model_module": "@jupyter-widgets/controls"
          }
        },
        "9bab5ce6003947238361016815fce42b": {
          "model_module": "@jupyter-widgets/base",
          "model_name": "LayoutModel",
          "model_module_version": "1.2.0",
          "state": {
            "_view_name": "LayoutView",
            "grid_template_rows": null,
            "right": null,
            "justify_content": null,
            "_view_module": "@jupyter-widgets/base",
            "overflow": null,
            "_model_module_version": "1.2.0",
            "_view_count": null,
            "flex_flow": null,
            "width": "35%",
            "min_width": null,
            "border": null,
            "align_items": null,
            "bottom": null,
            "_model_module": "@jupyter-widgets/base",
            "top": null,
            "grid_column": null,
            "overflow_y": null,
            "overflow_x": null,
            "grid_auto_flow": null,
            "grid_area": null,
            "grid_template_columns": null,
            "flex": null,
            "_model_name": "LayoutModel",
            "justify_items": null,
            "grid_row": null,
            "max_height": null,
            "align_content": null,
            "visibility": null,
            "align_self": null,
            "height": "30px",
            "min_height": null,
            "padding": null,
            "grid_auto_rows": null,
            "grid_gap": null,
            "max_width": null,
            "order": null,
            "_view_module_version": "1.2.0",
            "grid_template_areas": null,
            "object_position": null,
            "object_fit": null,
            "grid_auto_columns": null,
            "margin": null,
            "display": null,
            "left": null
          }
        },
        "f624169f57934c00aacc85b3192131ea": {
          "model_module": "@jupyter-widgets/controls",
          "model_name": "CheckboxModel",
          "model_module_version": "1.5.0",
          "state": {
            "_view_name": "CheckboxView",
            "style": "IPY_MODEL_4620142637564fbba21573b9694a8fe5",
            "_dom_classes": [],
            "description": "Reporter.intensity.corrected.9.AGE",
            "_model_name": "CheckboxModel",
            "_view_module": "@jupyter-widgets/controls",
            "_model_module_version": "1.5.0",
            "value": true,
            "_view_count": null,
            "disabled": false,
            "_view_module_version": "1.5.0",
            "indent": false,
            "description_tooltip": null,
            "_model_module": "@jupyter-widgets/controls",
            "layout": "IPY_MODEL_89bb7416abe346d08a662490217e84c0"
          }
        },
        "4620142637564fbba21573b9694a8fe5": {
          "model_module": "@jupyter-widgets/controls",
          "model_name": "DescriptionStyleModel",
          "model_module_version": "1.5.0",
          "state": {
            "_view_name": "StyleView",
            "_model_name": "DescriptionStyleModel",
            "description_width": "",
            "_view_module": "@jupyter-widgets/base",
            "_model_module_version": "1.5.0",
            "_view_count": null,
            "_view_module_version": "1.2.0",
            "_model_module": "@jupyter-widgets/controls"
          }
        },
        "89bb7416abe346d08a662490217e84c0": {
          "model_module": "@jupyter-widgets/base",
          "model_name": "LayoutModel",
          "model_module_version": "1.2.0",
          "state": {
            "_view_name": "LayoutView",
            "grid_template_rows": null,
            "right": null,
            "justify_content": null,
            "_view_module": "@jupyter-widgets/base",
            "overflow": null,
            "_model_module_version": "1.2.0",
            "_view_count": null,
            "flex_flow": null,
            "width": null,
            "min_width": null,
            "border": null,
            "align_items": null,
            "bottom": null,
            "_model_module": "@jupyter-widgets/base",
            "top": null,
            "grid_column": null,
            "overflow_y": null,
            "overflow_x": null,
            "grid_auto_flow": null,
            "grid_area": null,
            "grid_template_columns": null,
            "flex": null,
            "_model_name": "LayoutModel",
            "justify_items": null,
            "grid_row": null,
            "max_height": null,
            "align_content": null,
            "visibility": null,
            "align_self": null,
            "height": null,
            "min_height": null,
            "padding": null,
            "grid_auto_rows": null,
            "grid_gap": null,
            "max_width": null,
            "order": null,
            "_view_module_version": "1.2.0",
            "grid_template_areas": null,
            "object_position": null,
            "object_fit": null,
            "grid_auto_columns": null,
            "margin": null,
            "display": null,
            "left": null
          }
        },
        "213a992fced14c7f88c62126742dbc23": {
          "model_module": "@jupyter-widgets/controls",
          "model_name": "TextModel",
          "model_module_version": "1.5.0",
          "state": {
            "_view_name": "TextView",
            "style": "IPY_MODEL_8607ff480602456d8cc8971baca9ed93",
            "_dom_classes": [],
            "description": "condition",
            "_model_name": "TextModel",
            "placeholder": "​",
            "_view_module": "@jupyter-widgets/controls",
            "_model_module_version": "1.5.0",
            "value": "ZX",
            "_view_count": null,
            "disabled": false,
            "_view_module_version": "1.5.0",
            "continuous_update": true,
            "description_tooltip": null,
            "_model_module": "@jupyter-widgets/controls",
            "layout": "IPY_MODEL_9141c470aedb4ba6b364c28666c56f8a"
          }
        },
        "8607ff480602456d8cc8971baca9ed93": {
          "model_module": "@jupyter-widgets/controls",
          "model_name": "DescriptionStyleModel",
          "model_module_version": "1.5.0",
          "state": {
            "_view_name": "StyleView",
            "_model_name": "DescriptionStyleModel",
            "description_width": "",
            "_view_module": "@jupyter-widgets/base",
            "_model_module_version": "1.5.0",
            "_view_count": null,
            "_view_module_version": "1.2.0",
            "_model_module": "@jupyter-widgets/controls"
          }
        },
        "9141c470aedb4ba6b364c28666c56f8a": {
          "model_module": "@jupyter-widgets/base",
          "model_name": "LayoutModel",
          "model_module_version": "1.2.0",
          "state": {
            "_view_name": "LayoutView",
            "grid_template_rows": null,
            "right": null,
            "justify_content": null,
            "_view_module": "@jupyter-widgets/base",
            "overflow": null,
            "_model_module_version": "1.2.0",
            "_view_count": null,
            "flex_flow": null,
            "width": "35%",
            "min_width": null,
            "border": null,
            "align_items": null,
            "bottom": null,
            "_model_module": "@jupyter-widgets/base",
            "top": null,
            "grid_column": null,
            "overflow_y": null,
            "overflow_x": null,
            "grid_auto_flow": null,
            "grid_area": null,
            "grid_template_columns": null,
            "flex": null,
            "_model_name": "LayoutModel",
            "justify_items": null,
            "grid_row": null,
            "max_height": null,
            "align_content": null,
            "visibility": null,
            "align_self": null,
            "height": "30px",
            "min_height": null,
            "padding": null,
            "grid_auto_rows": null,
            "grid_gap": null,
            "max_width": null,
            "order": null,
            "_view_module_version": "1.2.0",
            "grid_template_areas": null,
            "object_position": null,
            "object_fit": null,
            "grid_auto_columns": null,
            "margin": null,
            "display": null,
            "left": null
          }
        },
        "131c1be4143e49bb8695a2f34f631885": {
          "model_module": "@jupyter-widgets/controls",
          "model_name": "TextModel",
          "model_module_version": "1.5.0",
          "state": {
            "_view_name": "TextView",
            "style": "IPY_MODEL_ce93bb1f640846a9ba09319b32ed4fa9",
            "_dom_classes": [],
            "description": "replicate",
            "_model_name": "TextModel",
            "placeholder": "​",
            "_view_module": "@jupyter-widgets/controls",
            "_model_module_version": "1.5.0",
            "value": "1",
            "_view_count": null,
            "disabled": false,
            "_view_module_version": "1.5.0",
            "continuous_update": true,
            "description_tooltip": null,
            "_model_module": "@jupyter-widgets/controls",
            "layout": "IPY_MODEL_acf68ae29e6c44b6b55404212d183291"
          }
        },
        "ce93bb1f640846a9ba09319b32ed4fa9": {
          "model_module": "@jupyter-widgets/controls",
          "model_name": "DescriptionStyleModel",
          "model_module_version": "1.5.0",
          "state": {
            "_view_name": "StyleView",
            "_model_name": "DescriptionStyleModel",
            "description_width": "",
            "_view_module": "@jupyter-widgets/base",
            "_model_module_version": "1.5.0",
            "_view_count": null,
            "_view_module_version": "1.2.0",
            "_model_module": "@jupyter-widgets/controls"
          }
        },
        "acf68ae29e6c44b6b55404212d183291": {
          "model_module": "@jupyter-widgets/base",
          "model_name": "LayoutModel",
          "model_module_version": "1.2.0",
          "state": {
            "_view_name": "LayoutView",
            "grid_template_rows": null,
            "right": null,
            "justify_content": null,
            "_view_module": "@jupyter-widgets/base",
            "overflow": null,
            "_model_module_version": "1.2.0",
            "_view_count": null,
            "flex_flow": null,
            "width": "35%",
            "min_width": null,
            "border": null,
            "align_items": null,
            "bottom": null,
            "_model_module": "@jupyter-widgets/base",
            "top": null,
            "grid_column": null,
            "overflow_y": null,
            "overflow_x": null,
            "grid_auto_flow": null,
            "grid_area": null,
            "grid_template_columns": null,
            "flex": null,
            "_model_name": "LayoutModel",
            "justify_items": null,
            "grid_row": null,
            "max_height": null,
            "align_content": null,
            "visibility": null,
            "align_self": null,
            "height": "30px",
            "min_height": null,
            "padding": null,
            "grid_auto_rows": null,
            "grid_gap": null,
            "max_width": null,
            "order": null,
            "_view_module_version": "1.2.0",
            "grid_template_areas": null,
            "object_position": null,
            "object_fit": null,
            "grid_auto_columns": null,
            "margin": null,
            "display": null,
            "left": null
          }
        },
        "33932a77ec184dab871e3b2007d96da8": {
          "model_module": "@jupyter-widgets/controls",
          "model_name": "CheckboxModel",
          "model_module_version": "1.5.0",
          "state": {
            "_view_name": "CheckboxView",
            "style": "IPY_MODEL_4613dd185de94a67b9ace1c3d3a1b2e6",
            "_dom_classes": [],
            "description": "Reporter.intensity.corrected.10.AGE",
            "_model_name": "CheckboxModel",
            "_view_module": "@jupyter-widgets/controls",
            "_model_module_version": "1.5.0",
            "value": true,
            "_view_count": null,
            "disabled": false,
            "_view_module_version": "1.5.0",
            "indent": false,
            "description_tooltip": null,
            "_model_module": "@jupyter-widgets/controls",
            "layout": "IPY_MODEL_cf577b97a5df45a3b067dd07f476566d"
          }
        },
        "4613dd185de94a67b9ace1c3d3a1b2e6": {
          "model_module": "@jupyter-widgets/controls",
          "model_name": "DescriptionStyleModel",
          "model_module_version": "1.5.0",
          "state": {
            "_view_name": "StyleView",
            "_model_name": "DescriptionStyleModel",
            "description_width": "",
            "_view_module": "@jupyter-widgets/base",
            "_model_module_version": "1.5.0",
            "_view_count": null,
            "_view_module_version": "1.2.0",
            "_model_module": "@jupyter-widgets/controls"
          }
        },
        "cf577b97a5df45a3b067dd07f476566d": {
          "model_module": "@jupyter-widgets/base",
          "model_name": "LayoutModel",
          "model_module_version": "1.2.0",
          "state": {
            "_view_name": "LayoutView",
            "grid_template_rows": null,
            "right": null,
            "justify_content": null,
            "_view_module": "@jupyter-widgets/base",
            "overflow": null,
            "_model_module_version": "1.2.0",
            "_view_count": null,
            "flex_flow": null,
            "width": null,
            "min_width": null,
            "border": null,
            "align_items": null,
            "bottom": null,
            "_model_module": "@jupyter-widgets/base",
            "top": null,
            "grid_column": null,
            "overflow_y": null,
            "overflow_x": null,
            "grid_auto_flow": null,
            "grid_area": null,
            "grid_template_columns": null,
            "flex": null,
            "_model_name": "LayoutModel",
            "justify_items": null,
            "grid_row": null,
            "max_height": null,
            "align_content": null,
            "visibility": null,
            "align_self": null,
            "height": null,
            "min_height": null,
            "padding": null,
            "grid_auto_rows": null,
            "grid_gap": null,
            "max_width": null,
            "order": null,
            "_view_module_version": "1.2.0",
            "grid_template_areas": null,
            "object_position": null,
            "object_fit": null,
            "grid_auto_columns": null,
            "margin": null,
            "display": null,
            "left": null
          }
        },
        "7177e99a2ed54ab2af959ebaa8bceb20": {
          "model_module": "@jupyter-widgets/controls",
          "model_name": "TextModel",
          "model_module_version": "1.5.0",
          "state": {
            "_view_name": "TextView",
            "style": "IPY_MODEL_2fb90738d89c4acdbe518d096a551361",
            "_dom_classes": [],
            "description": "condition",
            "_model_name": "TextModel",
            "placeholder": "​",
            "_view_module": "@jupyter-widgets/controls",
            "_model_module_version": "1.5.0",
            "value": "ZX",
            "_view_count": null,
            "disabled": false,
            "_view_module_version": "1.5.0",
            "continuous_update": true,
            "description_tooltip": null,
            "_model_module": "@jupyter-widgets/controls",
            "layout": "IPY_MODEL_a511c464ba8747a5aa2698feaa8982bf"
          }
        },
        "2fb90738d89c4acdbe518d096a551361": {
          "model_module": "@jupyter-widgets/controls",
          "model_name": "DescriptionStyleModel",
          "model_module_version": "1.5.0",
          "state": {
            "_view_name": "StyleView",
            "_model_name": "DescriptionStyleModel",
            "description_width": "",
            "_view_module": "@jupyter-widgets/base",
            "_model_module_version": "1.5.0",
            "_view_count": null,
            "_view_module_version": "1.2.0",
            "_model_module": "@jupyter-widgets/controls"
          }
        },
        "a511c464ba8747a5aa2698feaa8982bf": {
          "model_module": "@jupyter-widgets/base",
          "model_name": "LayoutModel",
          "model_module_version": "1.2.0",
          "state": {
            "_view_name": "LayoutView",
            "grid_template_rows": null,
            "right": null,
            "justify_content": null,
            "_view_module": "@jupyter-widgets/base",
            "overflow": null,
            "_model_module_version": "1.2.0",
            "_view_count": null,
            "flex_flow": null,
            "width": "35%",
            "min_width": null,
            "border": null,
            "align_items": null,
            "bottom": null,
            "_model_module": "@jupyter-widgets/base",
            "top": null,
            "grid_column": null,
            "overflow_y": null,
            "overflow_x": null,
            "grid_auto_flow": null,
            "grid_area": null,
            "grid_template_columns": null,
            "flex": null,
            "_model_name": "LayoutModel",
            "justify_items": null,
            "grid_row": null,
            "max_height": null,
            "align_content": null,
            "visibility": null,
            "align_self": null,
            "height": "30px",
            "min_height": null,
            "padding": null,
            "grid_auto_rows": null,
            "grid_gap": null,
            "max_width": null,
            "order": null,
            "_view_module_version": "1.2.0",
            "grid_template_areas": null,
            "object_position": null,
            "object_fit": null,
            "grid_auto_columns": null,
            "margin": null,
            "display": null,
            "left": null
          }
        },
        "1801be95c784481c82e2bdddcd2f5c7c": {
          "model_module": "@jupyter-widgets/controls",
          "model_name": "TextModel",
          "model_module_version": "1.5.0",
          "state": {
            "_view_name": "TextView",
            "style": "IPY_MODEL_30a948e1d3c64d6b9e07ca0e388ca846",
            "_dom_classes": [],
            "description": "replicate",
            "_model_name": "TextModel",
            "placeholder": "​",
            "_view_module": "@jupyter-widgets/controls",
            "_model_module_version": "1.5.0",
            "value": "2",
            "_view_count": null,
            "disabled": false,
            "_view_module_version": "1.5.0",
            "continuous_update": true,
            "description_tooltip": null,
            "_model_module": "@jupyter-widgets/controls",
            "layout": "IPY_MODEL_4d79d6e8711b4698bf605f9cb80cfcbf"
          }
        },
        "30a948e1d3c64d6b9e07ca0e388ca846": {
          "model_module": "@jupyter-widgets/controls",
          "model_name": "DescriptionStyleModel",
          "model_module_version": "1.5.0",
          "state": {
            "_view_name": "StyleView",
            "_model_name": "DescriptionStyleModel",
            "description_width": "",
            "_view_module": "@jupyter-widgets/base",
            "_model_module_version": "1.5.0",
            "_view_count": null,
            "_view_module_version": "1.2.0",
            "_model_module": "@jupyter-widgets/controls"
          }
        },
        "4d79d6e8711b4698bf605f9cb80cfcbf": {
          "model_module": "@jupyter-widgets/base",
          "model_name": "LayoutModel",
          "model_module_version": "1.2.0",
          "state": {
            "_view_name": "LayoutView",
            "grid_template_rows": null,
            "right": null,
            "justify_content": null,
            "_view_module": "@jupyter-widgets/base",
            "overflow": null,
            "_model_module_version": "1.2.0",
            "_view_count": null,
            "flex_flow": null,
            "width": "35%",
            "min_width": null,
            "border": null,
            "align_items": null,
            "bottom": null,
            "_model_module": "@jupyter-widgets/base",
            "top": null,
            "grid_column": null,
            "overflow_y": null,
            "overflow_x": null,
            "grid_auto_flow": null,
            "grid_area": null,
            "grid_template_columns": null,
            "flex": null,
            "_model_name": "LayoutModel",
            "justify_items": null,
            "grid_row": null,
            "max_height": null,
            "align_content": null,
            "visibility": null,
            "align_self": null,
            "height": "30px",
            "min_height": null,
            "padding": null,
            "grid_auto_rows": null,
            "grid_gap": null,
            "max_width": null,
            "order": null,
            "_view_module_version": "1.2.0",
            "grid_template_areas": null,
            "object_position": null,
            "object_fit": null,
            "grid_auto_columns": null,
            "margin": null,
            "display": null,
            "left": null
          }
        },
        "1f2e9cd01eb749c2835d7564ee90247b": {
          "model_module": "@jupyter-widgets/controls",
          "model_name": "CheckboxModel",
          "model_module_version": "1.5.0",
          "state": {
            "_view_name": "CheckboxView",
            "style": "IPY_MODEL_fe600ca9a726484093f1c4386e63d2f5",
            "_dom_classes": [],
            "description": "Reporter.intensity.corrected.11.AGE",
            "_model_name": "CheckboxModel",
            "_view_module": "@jupyter-widgets/controls",
            "_model_module_version": "1.5.0",
            "value": true,
            "_view_count": null,
            "disabled": false,
            "_view_module_version": "1.5.0",
            "indent": false,
            "description_tooltip": null,
            "_model_module": "@jupyter-widgets/controls",
            "layout": "IPY_MODEL_882d8133fae546c39a8a1659fb4c71fd"
          }
        },
        "fe600ca9a726484093f1c4386e63d2f5": {
          "model_module": "@jupyter-widgets/controls",
          "model_name": "DescriptionStyleModel",
          "model_module_version": "1.5.0",
          "state": {
            "_view_name": "StyleView",
            "_model_name": "DescriptionStyleModel",
            "description_width": "",
            "_view_module": "@jupyter-widgets/base",
            "_model_module_version": "1.5.0",
            "_view_count": null,
            "_view_module_version": "1.2.0",
            "_model_module": "@jupyter-widgets/controls"
          }
        },
        "882d8133fae546c39a8a1659fb4c71fd": {
          "model_module": "@jupyter-widgets/base",
          "model_name": "LayoutModel",
          "model_module_version": "1.2.0",
          "state": {
            "_view_name": "LayoutView",
            "grid_template_rows": null,
            "right": null,
            "justify_content": null,
            "_view_module": "@jupyter-widgets/base",
            "overflow": null,
            "_model_module_version": "1.2.0",
            "_view_count": null,
            "flex_flow": null,
            "width": null,
            "min_width": null,
            "border": null,
            "align_items": null,
            "bottom": null,
            "_model_module": "@jupyter-widgets/base",
            "top": null,
            "grid_column": null,
            "overflow_y": null,
            "overflow_x": null,
            "grid_auto_flow": null,
            "grid_area": null,
            "grid_template_columns": null,
            "flex": null,
            "_model_name": "LayoutModel",
            "justify_items": null,
            "grid_row": null,
            "max_height": null,
            "align_content": null,
            "visibility": null,
            "align_self": null,
            "height": null,
            "min_height": null,
            "padding": null,
            "grid_auto_rows": null,
            "grid_gap": null,
            "max_width": null,
            "order": null,
            "_view_module_version": "1.2.0",
            "grid_template_areas": null,
            "object_position": null,
            "object_fit": null,
            "grid_auto_columns": null,
            "margin": null,
            "display": null,
            "left": null
          }
        },
        "0f2c789d17324f60a88b6a54e0447c4e": {
          "model_module": "@jupyter-widgets/controls",
          "model_name": "TextModel",
          "model_module_version": "1.5.0",
          "state": {
            "_view_name": "TextView",
            "style": "IPY_MODEL_e63632542abb49788d89c78a05018064",
            "_dom_classes": [],
            "description": "condition",
            "_model_name": "TextModel",
            "placeholder": "​",
            "_view_module": "@jupyter-widgets/controls",
            "_model_module_version": "1.5.0",
            "value": "ZX",
            "_view_count": null,
            "disabled": false,
            "_view_module_version": "1.5.0",
            "continuous_update": true,
            "description_tooltip": null,
            "_model_module": "@jupyter-widgets/controls",
            "layout": "IPY_MODEL_91dcbf2c5c284b6db5384e0b7b385ebd"
          }
        },
        "e63632542abb49788d89c78a05018064": {
          "model_module": "@jupyter-widgets/controls",
          "model_name": "DescriptionStyleModel",
          "model_module_version": "1.5.0",
          "state": {
            "_view_name": "StyleView",
            "_model_name": "DescriptionStyleModel",
            "description_width": "",
            "_view_module": "@jupyter-widgets/base",
            "_model_module_version": "1.5.0",
            "_view_count": null,
            "_view_module_version": "1.2.0",
            "_model_module": "@jupyter-widgets/controls"
          }
        },
        "91dcbf2c5c284b6db5384e0b7b385ebd": {
          "model_module": "@jupyter-widgets/base",
          "model_name": "LayoutModel",
          "model_module_version": "1.2.0",
          "state": {
            "_view_name": "LayoutView",
            "grid_template_rows": null,
            "right": null,
            "justify_content": null,
            "_view_module": "@jupyter-widgets/base",
            "overflow": null,
            "_model_module_version": "1.2.0",
            "_view_count": null,
            "flex_flow": null,
            "width": "35%",
            "min_width": null,
            "border": null,
            "align_items": null,
            "bottom": null,
            "_model_module": "@jupyter-widgets/base",
            "top": null,
            "grid_column": null,
            "overflow_y": null,
            "overflow_x": null,
            "grid_auto_flow": null,
            "grid_area": null,
            "grid_template_columns": null,
            "flex": null,
            "_model_name": "LayoutModel",
            "justify_items": null,
            "grid_row": null,
            "max_height": null,
            "align_content": null,
            "visibility": null,
            "align_self": null,
            "height": "30px",
            "min_height": null,
            "padding": null,
            "grid_auto_rows": null,
            "grid_gap": null,
            "max_width": null,
            "order": null,
            "_view_module_version": "1.2.0",
            "grid_template_areas": null,
            "object_position": null,
            "object_fit": null,
            "grid_auto_columns": null,
            "margin": null,
            "display": null,
            "left": null
          }
        },
        "8c42b1902c2b4055bfbb3a650a4d9cf7": {
          "model_module": "@jupyter-widgets/controls",
          "model_name": "TextModel",
          "model_module_version": "1.5.0",
          "state": {
            "_view_name": "TextView",
            "style": "IPY_MODEL_694c2496ff044f30a4db54d24a88cbde",
            "_dom_classes": [],
            "description": "replicate",
            "_model_name": "TextModel",
            "placeholder": "​",
            "_view_module": "@jupyter-widgets/controls",
            "_model_module_version": "1.5.0",
            "value": "3",
            "_view_count": null,
            "disabled": false,
            "_view_module_version": "1.5.0",
            "continuous_update": true,
            "description_tooltip": null,
            "_model_module": "@jupyter-widgets/controls",
            "layout": "IPY_MODEL_50c43778dc45470c821427559f085668"
          }
        },
        "694c2496ff044f30a4db54d24a88cbde": {
          "model_module": "@jupyter-widgets/controls",
          "model_name": "DescriptionStyleModel",
          "model_module_version": "1.5.0",
          "state": {
            "_view_name": "StyleView",
            "_model_name": "DescriptionStyleModel",
            "description_width": "",
            "_view_module": "@jupyter-widgets/base",
            "_model_module_version": "1.5.0",
            "_view_count": null,
            "_view_module_version": "1.2.0",
            "_model_module": "@jupyter-widgets/controls"
          }
        },
        "50c43778dc45470c821427559f085668": {
          "model_module": "@jupyter-widgets/base",
          "model_name": "LayoutModel",
          "model_module_version": "1.2.0",
          "state": {
            "_view_name": "LayoutView",
            "grid_template_rows": null,
            "right": null,
            "justify_content": null,
            "_view_module": "@jupyter-widgets/base",
            "overflow": null,
            "_model_module_version": "1.2.0",
            "_view_count": null,
            "flex_flow": null,
            "width": "35%",
            "min_width": null,
            "border": null,
            "align_items": null,
            "bottom": null,
            "_model_module": "@jupyter-widgets/base",
            "top": null,
            "grid_column": null,
            "overflow_y": null,
            "overflow_x": null,
            "grid_auto_flow": null,
            "grid_area": null,
            "grid_template_columns": null,
            "flex": null,
            "_model_name": "LayoutModel",
            "justify_items": null,
            "grid_row": null,
            "max_height": null,
            "align_content": null,
            "visibility": null,
            "align_self": null,
            "height": "30px",
            "min_height": null,
            "padding": null,
            "grid_auto_rows": null,
            "grid_gap": null,
            "max_width": null,
            "order": null,
            "_view_module_version": "1.2.0",
            "grid_template_areas": null,
            "object_position": null,
            "object_fit": null,
            "grid_auto_columns": null,
            "margin": null,
            "display": null,
            "left": null
          }
        },
        "269258446aaf4b2eb70d8526385c9b99": {
          "model_module": "@jupyter-widgets/controls",
          "model_name": "ButtonModel",
          "model_module_version": "1.5.0",
          "state": {
            "_view_name": "ButtonView",
            "style": "IPY_MODEL_fa45401bf18944f895e9bb85fd53f010",
            "_dom_classes": [],
            "description": "OK",
            "_model_name": "ButtonModel",
            "button_style": "",
            "_view_module": "@jupyter-widgets/controls",
            "_model_module_version": "1.5.0",
            "tooltip": "",
            "_view_count": null,
            "disabled": false,
            "_view_module_version": "1.5.0",
            "layout": "IPY_MODEL_a78529a69cc44e5b9ca8d827d7156ffe",
            "_model_module": "@jupyter-widgets/controls",
            "icon": ""
          }
        },
        "fa45401bf18944f895e9bb85fd53f010": {
          "model_module": "@jupyter-widgets/controls",
          "model_name": "ButtonStyleModel",
          "model_module_version": "1.5.0",
          "state": {
            "_view_name": "StyleView",
            "_model_name": "ButtonStyleModel",
            "_view_module": "@jupyter-widgets/base",
            "_model_module_version": "1.5.0",
            "_view_count": null,
            "button_color": null,
            "font_weight": "",
            "_view_module_version": "1.2.0",
            "_model_module": "@jupyter-widgets/controls"
          }
        },
        "a78529a69cc44e5b9ca8d827d7156ffe": {
          "model_module": "@jupyter-widgets/base",
          "model_name": "LayoutModel",
          "model_module_version": "1.2.0",
          "state": {
            "_view_name": "LayoutView",
            "grid_template_rows": null,
            "right": null,
            "justify_content": null,
            "_view_module": "@jupyter-widgets/base",
            "overflow": null,
            "_model_module_version": "1.2.0",
            "_view_count": null,
            "flex_flow": null,
            "width": null,
            "min_width": null,
            "border": null,
            "align_items": null,
            "bottom": null,
            "_model_module": "@jupyter-widgets/base",
            "top": null,
            "grid_column": null,
            "overflow_y": null,
            "overflow_x": null,
            "grid_auto_flow": null,
            "grid_area": null,
            "grid_template_columns": null,
            "flex": null,
            "_model_name": "LayoutModel",
            "justify_items": null,
            "grid_row": null,
            "max_height": null,
            "align_content": null,
            "visibility": null,
            "align_self": null,
            "height": null,
            "min_height": null,
            "padding": null,
            "grid_auto_rows": null,
            "grid_gap": null,
            "max_width": null,
            "order": null,
            "_view_module_version": "1.2.0",
            "grid_template_areas": null,
            "object_position": null,
            "object_fit": null,
            "grid_auto_columns": null,
            "margin": null,
            "display": null,
            "left": null
          }
        },
        "6fb0af3fc8a54554803ef273c761b4fa": {
          "model_module": "@jupyter-widgets/output",
          "model_name": "OutputModel",
          "model_module_version": "1.0.0",
          "state": {
            "_view_name": "OutputView",
            "msg_id": "",
            "_dom_classes": [],
            "_model_name": "OutputModel",
            "outputs": [
              {
                "output_type": "stream",
                "name": "stdout",
                "text": [
                  "   state                                label condition replicate\n",
                  "1   True   Reporter.intensity.corrected.1.AGE        QW         1\n",
                  "2   True   Reporter.intensity.corrected.2.AGE        QW         2\n",
                  "5   True   Reporter.intensity.corrected.5.AGE        QW         3\n",
                  "6   True   Reporter.intensity.corrected.6.AGE        AS         1\n",
                  "7   True   Reporter.intensity.corrected.7.AGE        AS         2\n",
                  "8   True   Reporter.intensity.corrected.8.AGE        AS         3\n",
                  "9   True   Reporter.intensity.corrected.9.AGE        ZX         1\n",
                  "10  True  Reporter.intensity.corrected.10.AGE        ZX         2\n",
                  "11  True  Reporter.intensity.corrected.11.AGE        ZX         3\n"
                ]
              },
              {
                "output_type": "display_data",
                "data": {
                  "application/vnd.jupyter.widget-view+json": {
                    "model_id": "cd82b7438d6f461f9691aae1ffbca7e7",
                    "version_minor": 0,
                    "version_major": 2
                  },
                  "text/plain": "Button(description='check again', style=ButtonStyle())"
                },
                "metadata": {}
              },
              {
                "output_type": "display_data",
                "data": {
                  "application/vnd.jupyter.widget-view+json": {
                    "model_id": "d969675acd094cffb572bc9a4837f791",
                    "version_minor": 0,
                    "version_major": 2
                  },
                  "text/plain": "Output()"
                },
                "metadata": {}
              }
            ],
            "_view_module": "@jupyter-widgets/output",
            "_model_module_version": "1.0.0",
            "_view_count": null,
            "_view_module_version": "1.0.0",
            "layout": "IPY_MODEL_7704e9363a8548b99b3b2d4c8a8fb699",
            "_model_module": "@jupyter-widgets/output"
          }
        },
        "7704e9363a8548b99b3b2d4c8a8fb699": {
          "model_module": "@jupyter-widgets/base",
          "model_name": "LayoutModel",
          "model_module_version": "1.2.0",
          "state": {
            "_view_name": "LayoutView",
            "grid_template_rows": null,
            "right": null,
            "justify_content": null,
            "_view_module": "@jupyter-widgets/base",
            "overflow": null,
            "_model_module_version": "1.2.0",
            "_view_count": null,
            "flex_flow": null,
            "width": null,
            "min_width": null,
            "border": null,
            "align_items": null,
            "bottom": null,
            "_model_module": "@jupyter-widgets/base",
            "top": null,
            "grid_column": null,
            "overflow_y": null,
            "overflow_x": null,
            "grid_auto_flow": null,
            "grid_area": null,
            "grid_template_columns": null,
            "flex": null,
            "_model_name": "LayoutModel",
            "justify_items": null,
            "grid_row": null,
            "max_height": null,
            "align_content": null,
            "visibility": null,
            "align_self": null,
            "height": null,
            "min_height": null,
            "padding": null,
            "grid_auto_rows": null,
            "grid_gap": null,
            "max_width": null,
            "order": null,
            "_view_module_version": "1.2.0",
            "grid_template_areas": null,
            "object_position": null,
            "object_fit": null,
            "grid_auto_columns": null,
            "margin": null,
            "display": null,
            "left": null
          }
        },
        "cd82b7438d6f461f9691aae1ffbca7e7": {
          "model_module": "@jupyter-widgets/controls",
          "model_name": "ButtonModel",
          "model_module_version": "1.5.0",
          "state": {
            "_view_name": "ButtonView",
            "style": "IPY_MODEL_ac6570ea40424931b5ecc44c747d7171",
            "_dom_classes": [],
            "description": "check again",
            "_model_name": "ButtonModel",
            "button_style": "",
            "_view_module": "@jupyter-widgets/controls",
            "_model_module_version": "1.5.0",
            "tooltip": "",
            "_view_count": null,
            "disabled": false,
            "_view_module_version": "1.5.0",
            "layout": "IPY_MODEL_122adaf7373b4ab998dce7c6cbcea372",
            "_model_module": "@jupyter-widgets/controls",
            "icon": ""
          }
        },
        "ac6570ea40424931b5ecc44c747d7171": {
          "model_module": "@jupyter-widgets/controls",
          "model_name": "ButtonStyleModel",
          "model_module_version": "1.5.0",
          "state": {
            "_view_name": "StyleView",
            "_model_name": "ButtonStyleModel",
            "_view_module": "@jupyter-widgets/base",
            "_model_module_version": "1.5.0",
            "_view_count": null,
            "button_color": null,
            "font_weight": "",
            "_view_module_version": "1.2.0",
            "_model_module": "@jupyter-widgets/controls"
          }
        },
        "122adaf7373b4ab998dce7c6cbcea372": {
          "model_module": "@jupyter-widgets/base",
          "model_name": "LayoutModel",
          "model_module_version": "1.2.0",
          "state": {
            "_view_name": "LayoutView",
            "grid_template_rows": null,
            "right": null,
            "justify_content": null,
            "_view_module": "@jupyter-widgets/base",
            "overflow": null,
            "_model_module_version": "1.2.0",
            "_view_count": null,
            "flex_flow": null,
            "width": null,
            "min_width": null,
            "border": null,
            "align_items": null,
            "bottom": null,
            "_model_module": "@jupyter-widgets/base",
            "top": null,
            "grid_column": null,
            "overflow_y": null,
            "overflow_x": null,
            "grid_auto_flow": null,
            "grid_area": null,
            "grid_template_columns": null,
            "flex": null,
            "_model_name": "LayoutModel",
            "justify_items": null,
            "grid_row": null,
            "max_height": null,
            "align_content": null,
            "visibility": null,
            "align_self": null,
            "height": null,
            "min_height": null,
            "padding": null,
            "grid_auto_rows": null,
            "grid_gap": null,
            "max_width": null,
            "order": null,
            "_view_module_version": "1.2.0",
            "grid_template_areas": null,
            "object_position": null,
            "object_fit": null,
            "grid_auto_columns": null,
            "margin": null,
            "display": null,
            "left": null
          }
        },
        "d969675acd094cffb572bc9a4837f791": {
          "model_module": "@jupyter-widgets/output",
          "model_name": "OutputModel",
          "model_module_version": "1.0.0",
          "state": {
            "_view_name": "OutputView",
            "msg_id": "",
            "_dom_classes": [],
            "_model_name": "OutputModel",
            "outputs": [
              {
                "output_type": "stream",
                "name": "stdout",
                "text": [
                  "save to experimental_design.csv\n"
                ]
              }
            ],
            "_view_module": "@jupyter-widgets/output",
            "_model_module_version": "1.0.0",
            "_view_count": null,
            "_view_module_version": "1.0.0",
            "layout": "IPY_MODEL_dd190e0c93bd4b569959e2a27a7e6f75",
            "_model_module": "@jupyter-widgets/output"
          }
        },
        "dd190e0c93bd4b569959e2a27a7e6f75": {
          "model_module": "@jupyter-widgets/base",
          "model_name": "LayoutModel",
          "model_module_version": "1.2.0",
          "state": {
            "_view_name": "LayoutView",
            "grid_template_rows": null,
            "right": null,
            "justify_content": null,
            "_view_module": "@jupyter-widgets/base",
            "overflow": null,
            "_model_module_version": "1.2.0",
            "_view_count": null,
            "flex_flow": null,
            "width": null,
            "min_width": null,
            "border": null,
            "align_items": null,
            "bottom": null,
            "_model_module": "@jupyter-widgets/base",
            "top": null,
            "grid_column": null,
            "overflow_y": null,
            "overflow_x": null,
            "grid_auto_flow": null,
            "grid_area": null,
            "grid_template_columns": null,
            "flex": null,
            "_model_name": "LayoutModel",
            "justify_items": null,
            "grid_row": null,
            "max_height": null,
            "align_content": null,
            "visibility": null,
            "align_self": null,
            "height": null,
            "min_height": null,
            "padding": null,
            "grid_auto_rows": null,
            "grid_gap": null,
            "max_width": null,
            "order": null,
            "_view_module_version": "1.2.0",
            "grid_template_areas": null,
            "object_position": null,
            "object_fit": null,
            "grid_auto_columns": null,
            "margin": null,
            "display": null,
            "left": null
          }
        },
        "4c9dd8044f344ced88477994ce74d5e7": {
          "model_module": "@jupyter-widgets/controls",
          "model_name": "TextModel",
          "model_module_version": "1.5.0",
          "state": {
            "_view_name": "TextView",
            "style": "IPY_MODEL_e4b1003be3884f4f9cd61fa40b101607",
            "_dom_classes": [],
            "description": "control:",
            "_model_name": "TextModel",
            "placeholder": "​",
            "_view_module": "@jupyter-widgets/controls",
            "_model_module_version": "1.5.0",
            "value": "QW",
            "_view_count": null,
            "disabled": false,
            "_view_module_version": "1.5.0",
            "continuous_update": true,
            "description_tooltip": null,
            "_model_module": "@jupyter-widgets/controls",
            "layout": "IPY_MODEL_432a402619d648dcb8cc32652ed217ae"
          }
        },
        "e4b1003be3884f4f9cd61fa40b101607": {
          "model_module": "@jupyter-widgets/controls",
          "model_name": "DescriptionStyleModel",
          "model_module_version": "1.5.0",
          "state": {
            "_view_name": "StyleView",
            "_model_name": "DescriptionStyleModel",
            "description_width": "",
            "_view_module": "@jupyter-widgets/base",
            "_model_module_version": "1.5.0",
            "_view_count": null,
            "_view_module_version": "1.2.0",
            "_model_module": "@jupyter-widgets/controls"
          }
        },
        "432a402619d648dcb8cc32652ed217ae": {
          "model_module": "@jupyter-widgets/base",
          "model_name": "LayoutModel",
          "model_module_version": "1.2.0",
          "state": {
            "_view_name": "LayoutView",
            "grid_template_rows": null,
            "right": null,
            "justify_content": null,
            "_view_module": "@jupyter-widgets/base",
            "overflow": null,
            "_model_module_version": "1.2.0",
            "_view_count": null,
            "flex_flow": null,
            "width": "35%",
            "min_width": null,
            "border": null,
            "align_items": null,
            "bottom": null,
            "_model_module": "@jupyter-widgets/base",
            "top": null,
            "grid_column": null,
            "overflow_y": null,
            "overflow_x": null,
            "grid_auto_flow": null,
            "grid_area": null,
            "grid_template_columns": null,
            "flex": null,
            "_model_name": "LayoutModel",
            "justify_items": null,
            "grid_row": null,
            "max_height": null,
            "align_content": null,
            "visibility": null,
            "align_self": null,
            "height": "30px",
            "min_height": null,
            "padding": null,
            "grid_auto_rows": null,
            "grid_gap": null,
            "max_width": null,
            "order": null,
            "_view_module_version": "1.2.0",
            "grid_template_areas": null,
            "object_position": null,
            "object_fit": null,
            "grid_auto_columns": null,
            "margin": null,
            "display": null,
            "left": null
          }
        },
        "772ba89c8f014ffbb81e65335ea790be": {
          "model_module": "@jupyter-widgets/controls",
          "model_name": "TextModel",
          "model_module_version": "1.5.0",
          "state": {
            "_view_name": "TextView",
            "style": "IPY_MODEL_f59358892b4a406aba470bf52ee13841",
            "_dom_classes": [],
            "description": "sample1:",
            "_model_name": "TextModel",
            "placeholder": "​",
            "_view_module": "@jupyter-widgets/controls",
            "_model_module_version": "1.5.0",
            "value": "AS",
            "_view_count": null,
            "disabled": false,
            "_view_module_version": "1.5.0",
            "continuous_update": true,
            "description_tooltip": null,
            "_model_module": "@jupyter-widgets/controls",
            "layout": "IPY_MODEL_a5b9e5dcf8284229accdb8c072331491"
          }
        },
        "f59358892b4a406aba470bf52ee13841": {
          "model_module": "@jupyter-widgets/controls",
          "model_name": "DescriptionStyleModel",
          "model_module_version": "1.5.0",
          "state": {
            "_view_name": "StyleView",
            "_model_name": "DescriptionStyleModel",
            "description_width": "",
            "_view_module": "@jupyter-widgets/base",
            "_model_module_version": "1.5.0",
            "_view_count": null,
            "_view_module_version": "1.2.0",
            "_model_module": "@jupyter-widgets/controls"
          }
        },
        "a5b9e5dcf8284229accdb8c072331491": {
          "model_module": "@jupyter-widgets/base",
          "model_name": "LayoutModel",
          "model_module_version": "1.2.0",
          "state": {
            "_view_name": "LayoutView",
            "grid_template_rows": null,
            "right": null,
            "justify_content": null,
            "_view_module": "@jupyter-widgets/base",
            "overflow": null,
            "_model_module_version": "1.2.0",
            "_view_count": null,
            "flex_flow": null,
            "width": "35%",
            "min_width": null,
            "border": null,
            "align_items": null,
            "bottom": null,
            "_model_module": "@jupyter-widgets/base",
            "top": null,
            "grid_column": null,
            "overflow_y": null,
            "overflow_x": null,
            "grid_auto_flow": null,
            "grid_area": null,
            "grid_template_columns": null,
            "flex": null,
            "_model_name": "LayoutModel",
            "justify_items": null,
            "grid_row": null,
            "max_height": null,
            "align_content": null,
            "visibility": null,
            "align_self": null,
            "height": "30px",
            "min_height": null,
            "padding": null,
            "grid_auto_rows": null,
            "grid_gap": null,
            "max_width": null,
            "order": null,
            "_view_module_version": "1.2.0",
            "grid_template_areas": null,
            "object_position": null,
            "object_fit": null,
            "grid_auto_columns": null,
            "margin": null,
            "display": null,
            "left": null
          }
        },
        "8e3bf2c215e64f40bbd5dab3e8703673": {
          "model_module": "@jupyter-widgets/controls",
          "model_name": "TextModel",
          "model_module_version": "1.5.0",
          "state": {
            "_view_name": "TextView",
            "style": "IPY_MODEL_b4e3e73b2be649d09049bd9a31e52241",
            "_dom_classes": [],
            "description": "sample2:",
            "_model_name": "TextModel",
            "placeholder": "​",
            "_view_module": "@jupyter-widgets/controls",
            "_model_module_version": "1.5.0",
            "value": "QW",
            "_view_count": null,
            "disabled": false,
            "_view_module_version": "1.5.0",
            "continuous_update": true,
            "description_tooltip": null,
            "_model_module": "@jupyter-widgets/controls",
            "layout": "IPY_MODEL_38cd0212f424454999a82219997072d0"
          }
        },
        "b4e3e73b2be649d09049bd9a31e52241": {
          "model_module": "@jupyter-widgets/controls",
          "model_name": "DescriptionStyleModel",
          "model_module_version": "1.5.0",
          "state": {
            "_view_name": "StyleView",
            "_model_name": "DescriptionStyleModel",
            "description_width": "",
            "_view_module": "@jupyter-widgets/base",
            "_model_module_version": "1.5.0",
            "_view_count": null,
            "_view_module_version": "1.2.0",
            "_model_module": "@jupyter-widgets/controls"
          }
        },
        "38cd0212f424454999a82219997072d0": {
          "model_module": "@jupyter-widgets/base",
          "model_name": "LayoutModel",
          "model_module_version": "1.2.0",
          "state": {
            "_view_name": "LayoutView",
            "grid_template_rows": null,
            "right": null,
            "justify_content": null,
            "_view_module": "@jupyter-widgets/base",
            "overflow": null,
            "_model_module_version": "1.2.0",
            "_view_count": null,
            "flex_flow": null,
            "width": "35%",
            "min_width": null,
            "border": null,
            "align_items": null,
            "bottom": null,
            "_model_module": "@jupyter-widgets/base",
            "top": null,
            "grid_column": null,
            "overflow_y": null,
            "overflow_x": null,
            "grid_auto_flow": null,
            "grid_area": null,
            "grid_template_columns": null,
            "flex": null,
            "_model_name": "LayoutModel",
            "justify_items": null,
            "grid_row": null,
            "max_height": null,
            "align_content": null,
            "visibility": null,
            "align_self": null,
            "height": "30px",
            "min_height": null,
            "padding": null,
            "grid_auto_rows": null,
            "grid_gap": null,
            "max_width": null,
            "order": null,
            "_view_module_version": "1.2.0",
            "grid_template_areas": null,
            "object_position": null,
            "object_fit": null,
            "grid_auto_columns": null,
            "margin": null,
            "display": null,
            "left": null
          }
        }
      }
    }
  },
  "cells": [
    {
      "cell_type": "markdown",
      "metadata": {
        "id": "h3iSZem3_XaV"
      },
      "source": [
        "# **connect to drive**"
      ]
    },
    {
      "cell_type": "code",
      "metadata": {
        "id": "yQQEkCa6-mBm",
        "colab": {
          "base_uri": "https://localhost:8080/"
        },
        "outputId": "2c6eb980-718e-4105-e6d5-7008b7af1882"
      },
      "source": [
        "from google.colab import drive\n",
        "drive.mount('/content/drive')"
      ],
      "execution_count": 71,
      "outputs": [
        {
          "output_type": "stream",
          "name": "stdout",
          "text": [
            "Drive already mounted at /content/drive; to attempt to forcibly remount, call drive.mount(\"/content/drive\", force_remount=True).\n"
          ]
        }
      ]
    },
    {
      "cell_type": "markdown",
      "metadata": {
        "id": "NJ8JsiLxdod0"
      },
      "source": [
        "#library"
      ]
    },
    {
      "cell_type": "code",
      "metadata": {
        "id": "qqgRU19l-0fO"
      },
      "source": [
        "%reload_ext rpy2.ipython"
      ],
      "execution_count": 72,
      "outputs": []
    },
    {
      "cell_type": "code",
      "metadata": {
        "id": "2tCeI1Ka-0kC",
        "colab": {
          "base_uri": "https://localhost:8080/"
        },
        "outputId": "ed144a35-dd86-48ea-a77c-7e2a54e09d18"
      },
      "source": [
        "%%R\n",
        "lib_loc <- \"/content/drive/MyDrive/Colab_Notebooks/r_lib\"\n",
        "lib_loc"
      ],
      "execution_count": 73,
      "outputs": [
        {
          "output_type": "stream",
          "name": "stdout",
          "text": [
            "[1] \"/content/drive/MyDrive/Colab_Notebooks/r_lib\"\n"
          ]
        }
      ]
    },
    {
      "cell_type": "code",
      "metadata": {
        "id": "00cGl2Hednqk",
        "colab": {
          "base_uri": "https://localhost:8080/"
        },
        "outputId": "f93e544d-4487-40b4-ab0c-2c404bf4b937"
      },
      "source": [
        "!apt-get update\n",
        "!apt-get install r-cran-tmvtnorm"
      ],
      "execution_count": 74,
      "outputs": [
        {
          "output_type": "stream",
          "name": "stdout",
          "text": [
            "\r0% [Working]\r            \rIgn:1 https://developer.download.nvidia.com/compute/cuda/repos/ubuntu1804/x86_64  InRelease\n",
            "\r0% [Connecting to archive.ubuntu.com] [Connecting to security.ubuntu.com] [Conn\r                                                                               \rIgn:2 https://developer.download.nvidia.com/compute/machine-learning/repos/ubuntu1804/x86_64  InRelease\n",
            "\r0% [Connecting to archive.ubuntu.com] [Connecting to security.ubuntu.com] [Conn\r                                                                               \rHit:3 https://developer.download.nvidia.com/compute/cuda/repos/ubuntu1804/x86_64  Release\n",
            "\r0% [Connecting to archive.ubuntu.com] [Connecting to security.ubuntu.com] [Conn\r                                                                               \rGet:4 https://cloud.r-project.org/bin/linux/ubuntu bionic-cran40/ InRelease [3,626 B]\n",
            "Hit:5 https://developer.download.nvidia.com/compute/machine-learning/repos/ubuntu1804/x86_64  Release\n",
            "Get:6 http://security.ubuntu.com/ubuntu bionic-security InRelease [88.7 kB]\n",
            "Hit:7 http://ppa.launchpad.net/c2d4u.team/c2d4u4.0+/ubuntu bionic InRelease\n",
            "Hit:8 http://archive.ubuntu.com/ubuntu bionic InRelease\n",
            "Get:9 http://archive.ubuntu.com/ubuntu bionic-updates InRelease [88.7 kB]\n",
            "Hit:11 http://ppa.launchpad.net/cran/libgit2/ubuntu bionic InRelease\n",
            "Hit:12 http://ppa.launchpad.net/deadsnakes/ppa/ubuntu bionic InRelease\n",
            "Get:13 http://archive.ubuntu.com/ubuntu bionic-backports InRelease [74.6 kB]\n",
            "Hit:14 http://ppa.launchpad.net/graphics-drivers/ppa/ubuntu bionic InRelease\n",
            "Get:16 http://archive.ubuntu.com/ubuntu bionic-updates/main amd64 Packages [3,002 kB]\n",
            "Get:17 http://archive.ubuntu.com/ubuntu bionic-updates/universe amd64 Packages [2,247 kB]\n",
            "Fetched 5,504 kB in 6s (941 kB/s)\n",
            "Reading package lists... Done\n",
            "Reading package lists... Done\n",
            "Building dependency tree       \n",
            "Reading state information... Done\n",
            "r-cran-tmvtnorm is already the newest version (1.4-10-1cran2.1804.0).\n",
            "The following packages were automatically installed and are no longer required:\n",
            "  cuda-command-line-tools-10-0 cuda-command-line-tools-10-1\n",
            "  cuda-command-line-tools-11-0 cuda-compiler-10-0 cuda-compiler-10-1\n",
            "  cuda-compiler-11-0 cuda-cuobjdump-10-0 cuda-cuobjdump-10-1\n",
            "  cuda-cuobjdump-11-0 cuda-cupti-10-0 cuda-cupti-10-1 cuda-cupti-11-0\n",
            "  cuda-cupti-dev-11-0 cuda-documentation-10-0 cuda-documentation-10-1\n",
            "  cuda-documentation-11-0 cuda-documentation-11-1 cuda-gdb-10-0 cuda-gdb-10-1\n",
            "  cuda-gdb-11-0 cuda-gpu-library-advisor-10-0 cuda-gpu-library-advisor-10-1\n",
            "  cuda-libraries-10-0 cuda-libraries-10-1 cuda-libraries-11-0\n",
            "  cuda-memcheck-10-0 cuda-memcheck-10-1 cuda-memcheck-11-0 cuda-nsight-10-0\n",
            "  cuda-nsight-10-1 cuda-nsight-11-0 cuda-nsight-11-1 cuda-nsight-compute-10-0\n",
            "  cuda-nsight-compute-10-1 cuda-nsight-compute-11-0 cuda-nsight-compute-11-1\n",
            "  cuda-nsight-systems-10-1 cuda-nsight-systems-11-0 cuda-nsight-systems-11-1\n",
            "  cuda-nvcc-10-0 cuda-nvcc-10-1 cuda-nvcc-11-0 cuda-nvdisasm-10-0\n",
            "  cuda-nvdisasm-10-1 cuda-nvdisasm-11-0 cuda-nvml-dev-10-0 cuda-nvml-dev-10-1\n",
            "  cuda-nvml-dev-11-0 cuda-nvprof-10-0 cuda-nvprof-10-1 cuda-nvprof-11-0\n",
            "  cuda-nvprune-10-0 cuda-nvprune-10-1 cuda-nvprune-11-0 cuda-nvtx-10-0\n",
            "  cuda-nvtx-10-1 cuda-nvtx-11-0 cuda-nvvp-10-0 cuda-nvvp-10-1 cuda-nvvp-11-0\n",
            "  cuda-nvvp-11-1 cuda-samples-10-0 cuda-samples-10-1 cuda-samples-11-0\n",
            "  cuda-samples-11-1 cuda-sanitizer-11-0 cuda-sanitizer-api-10-1\n",
            "  cuda-toolkit-10-0 cuda-toolkit-10-1 cuda-toolkit-11-0 cuda-toolkit-11-1\n",
            "  cuda-tools-10-0 cuda-tools-10-1 cuda-tools-11-0 cuda-tools-11-1\n",
            "  cuda-visual-tools-10-0 cuda-visual-tools-10-1 cuda-visual-tools-11-0\n",
            "  cuda-visual-tools-11-1 default-jre dkms freeglut3 freeglut3-dev\n",
            "  keyboard-configuration libargon2-0 libcap2 libcryptsetup12\n",
            "  libdevmapper1.02.1 libfontenc1 libidn11 libip4tc0 libjansson4\n",
            "  libnvidia-cfg1-510 libnvidia-common-460 libnvidia-common-510\n",
            "  libnvidia-extra-510 libnvidia-fbc1-510 libnvidia-gl-510 libpam-systemd\n",
            "  libpolkit-agent-1-0 libpolkit-backend-1-0 libpolkit-gobject-1-0 libxfont2\n",
            "  libxi-dev libxkbfile1 libxmu-dev libxmu-headers libxnvctrl0 libxtst6\n",
            "  nsight-compute-2020.2.1 nsight-compute-2022.1.0 nsight-systems-2020.3.2\n",
            "  nsight-systems-2020.3.4 nsight-systems-2021.5.2 nvidia-dkms-510\n",
            "  nvidia-kernel-common-510 nvidia-kernel-source-510 nvidia-modprobe\n",
            "  nvidia-settings openjdk-11-jre policykit-1 policykit-1-gnome python3-xkit\n",
            "  screen-resolution-extra systemd systemd-sysv udev x11-xkb-utils\n",
            "  xserver-common xserver-xorg-core-hwe-18.04 xserver-xorg-video-nvidia-510\n",
            "Use 'apt autoremove' to remove them.\n",
            "0 upgraded, 0 newly installed, 0 to remove and 62 not upgraded.\n"
          ]
        }
      ]
    },
    {
      "cell_type": "code",
      "metadata": {
        "id": "LHyoqHpkduwD"
      },
      "source": [
        "%%R\n",
        "library(DEP, lib=lib_loc)\n",
        "library(\"dplyr\")\n",
        "library(gridExtra,lib=lib_loc)\n",
        "library(fdrtool,lib=lib_loc)\n",
        "library(ggrepel,lib=lib_loc)"
      ],
      "execution_count": 75,
      "outputs": []
    },
    {
      "cell_type": "markdown",
      "metadata": {
        "id": "OYVHWo7EgRlk"
      },
      "source": [
        "#widgets"
      ]
    },
    {
      "cell_type": "code",
      "metadata": {
        "id": "-yoCqJa9gpuI"
      },
      "source": [
        "import ipywidgets as widgets\n",
        "\n",
        "#generate_checkbox(description, id)\n",
        "def generate_checkbox(description, id):\n",
        "  check_box = widgets.Checkbox(\n",
        "        value=False, \n",
        "        description=description,\n",
        "        disabled=False, \n",
        "        indent=False, \n",
        "  )\n",
        "  def on_checkbox_change(change):\n",
        "    \n",
        "    if(check_box.value):\n",
        "        experimental_design.at[id, 'state'] = \"True\"\n",
        "        experimental_design.at[id, 'label'] = df_colname_py[id-1]\n",
        "    else :\n",
        "        experimental_design.at[id, 'state'] = \"False\"\n",
        "    #print(check_box.value)\n",
        "  display(check_box)\n",
        "  check_box.observe(on_checkbox_change, names=\"value\")"
      ],
      "execution_count": 76,
      "outputs": []
    },
    {
      "cell_type": "code",
      "metadata": {
        "id": "sHn5fLqBgvoH"
      },
      "source": [
        "#text\n",
        "def generate_text(id, placeholder):\n",
        "\n",
        "  text = widgets.Text(\n",
        "      value='',\n",
        "      #placeholder=placeholder,\n",
        "      description=placeholder,\n",
        "      disabled=False,\n",
        "      layout = widgets.Layout(height=\"30px\", width=\"35%\")\n",
        "  )\n",
        "  def on_text_change(change):\n",
        "    experimental_design.at[id, placeholder] = text.value\n",
        "    #print(experimental_design)\n",
        "\n",
        "  display(text)\n",
        "  text.observe(on_text_change, names=\"value\")"
      ],
      "execution_count": 77,
      "outputs": []
    },
    {
      "cell_type": "markdown",
      "metadata": {
        "id": "FStNRGUdgVLc"
      },
      "source": [
        "generate_button(count,description)\n"
      ]
    },
    {
      "cell_type": "code",
      "metadata": {
        "id": "6BR5y0Qrk3CJ"
      },
      "source": [
        "def generate_button(count,description):\n",
        "  button = widgets.Button(description=description)\n",
        "  output = widgets.Output()\n",
        "  display(button, output)\n",
        "  def on_button_clicked(b):\n",
        "      with output:\n",
        "          if(count):\n",
        "            print(\"save to experimental_design.csv\")\n",
        "            \n",
        "            temp = experimental_design[(experimental_design.state != \"False\")]\n",
        "            temp = temp.drop(\"state\", axis=1)\n",
        "            temp.to_csv(\"experimental_design.csv\", index=False)\n",
        "          else :\n",
        "              temp = experimental_design[(experimental_design.state != \"False\")]\n",
        "              print(temp)\n",
        "              generate_button(1,\"check again\")\n",
        "  button.on_click(on_button_clicked)"
      ],
      "execution_count": 78,
      "outputs": []
    },
    {
      "cell_type": "markdown",
      "metadata": {
        "id": "_2c-2Uq2iH5o"
      },
      "source": [
        "#選擇檔案"
      ]
    },
    {
      "cell_type": "code",
      "metadata": {
        "colab": {
          "resources": {
            "http://localhost:8080/nbextensions/google.colab/files.js": {
              "data": "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",
              "ok": true,
              "headers": [
                [
                  "content-type",
                  "application/javascript"
                ]
              ],
              "status": 200,
              "status_text": ""
            }
          },
          "base_uri": "https://localhost:8080/",
          "height": 75
        },
        "id": "W9_JPa9_NOlN",
        "outputId": "f3560a08-bcad-430b-8a9a-cea5a4aa7133"
      },
      "source": [
        "#上傳檔案到colab\n",
        "from google.colab import files\n",
        "from rpy2.robjects import r\n",
        "import rpy2.robjects as robjects\n",
        "\n",
        "file=files.upload()\n",
        "\n",
        "if (file):\n",
        "  filename = next(iter(file))\n",
        "  if (filename.count(\".txt\") | filename.count(\".csv\")):  \n",
        "    r = robjects.r\n",
        "    r.assign('filename', filename) #將檔案名稱python -> R\n",
        "  else :\n",
        "    print(\"請再次執行此儲存格，並選擇.csv或.txt檔\")\n",
        "#else if ()\n",
        "else:\n",
        "  print(\"請再次執行此儲存格，並選擇一個檔案\")"
      ],
      "execution_count": 79,
      "outputs": [
        {
          "output_type": "display_data",
          "data": {
            "text/html": [
              "\n",
              "     <input type=\"file\" id=\"files-084cadf4-edf3-4660-862e-dcde2423f6e7\" name=\"files[]\" multiple disabled\n",
              "        style=\"border:none\" />\n",
              "     <output id=\"result-084cadf4-edf3-4660-862e-dcde2423f6e7\">\n",
              "      Upload widget is only available when the cell has been executed in the\n",
              "      current browser session. Please rerun this cell to enable.\n",
              "      </output>\n",
              "      <script src=\"/nbextensions/google.colab/files.js\"></script> "
            ],
            "text/plain": [
              "<IPython.core.display.HTML object>"
            ]
          },
          "metadata": {}
        },
        {
          "output_type": "stream",
          "name": "stdout",
          "text": [
            "Saving proteinGroups_HsinYuan_Rat.txt to proteinGroups_HsinYuan_Rat.txt\n"
          ]
        }
      ]
    },
    {
      "cell_type": "markdown",
      "metadata": {
        "id": "gT6BKJ7hNOlM"
      },
      "source": [
        "#DEP data"
      ]
    },
    {
      "cell_type": "code",
      "metadata": {
        "id": "4vlxvW_sNOlN",
        "colab": {
          "base_uri": "https://localhost:8080/"
        },
        "outputId": "b187d035-1532-4efd-afc9-c25686998921"
      },
      "source": [
        "%%R\n",
        "# Loading a package required for data handling\n",
        "library(\"dplyr\")\n",
        "library(stringr)\n",
        "\n",
        "# The data is provided with the package\n",
        "file_type <- str_extract_all(filename,'\\\\b(.txt|.csv)\\\\b') #確認檔案為csv還是txt\n",
        "if (file_type == \".csv\"){\n",
        "  data <- read.csv(file = filename, header=TRUE  ,fileEncoding =\"UTF-8\")  \n",
        "}\n",
        "else {\n",
        "   data <- read.csv(file = filename, header=TRUE ,sep=\"\\t\" ,fileEncoding =\"UTF-8\") \n",
        "}\n",
        "\n",
        "cat(\"file's row * column =\", dim(data), \"\\n\")\n",
        "cat(\"**colnames: \\n\")\n",
        "print(colnames(data))\n",
        "#print(head(data[,'Reporter.intensity.count.1']))\n",
        "#data$Reporter.intensity.count.[1:10] = 2^data$Reporter.intensity.count.[1:10]\n",
        "#data$Reporter.intensity.count[1-10] = 2^data$Reporter.intensity.count[1-10]\n",
        "\n",
        "\n",
        "if ( \"Reverse\" %in% names(data) ){\n",
        "  data <- filter(data, Reverse != \"+\")  \n",
        "}\n",
        "if ( \"Potential.contaminant\" %in% names(data) ){\n",
        "  data <- filter(data, Potential.contaminant != \"+\") \n",
        "}\n",
        "# We filter for contaminant proteins and decoy database hits, which are indicated by \"+\" in the columns \"Potential.contaminants\" and \"Reverse\", respectively. \n",
        "\n",
        "print(head(data))"
      ],
      "execution_count": 80,
      "outputs": [
        {
          "output_type": "stream",
          "name": "stdout",
          "text": [
            "file's row * column = 2291 122 \n",
            "**colnames: \n",
            "  [1] \"Protein.IDs\"                         \n",
            "  [2] \"Majority.protein.IDs\"                \n",
            "  [3] \"Peptide.counts..all.\"                \n",
            "  [4] \"Peptide.counts..razor.unique.\"       \n",
            "  [5] \"Peptide.counts..unique.\"             \n",
            "  [6] \"Protein.names\"                       \n",
            "  [7] \"Gene.names\"                          \n",
            "  [8] \"Fasta.headers\"                       \n",
            "  [9] \"Number.of.proteins\"                  \n",
            " [10] \"Peptides\"                            \n",
            " [11] \"Razor...unique.peptides\"             \n",
            " [12] \"Unique.peptides\"                     \n",
            " [13] \"Peptides.AGE\"                        \n",
            " [14] \"Peptides.FPS\"                        \n",
            " [15] \"Razor...unique.peptides.AGE\"         \n",
            " [16] \"Razor...unique.peptides.FPS\"         \n",
            " [17] \"Unique.peptides.AGE\"                 \n",
            " [18] \"Unique.peptides.FPS\"                 \n",
            " [19] \"Sequence.coverage....\"               \n",
            " [20] \"Unique...razor.sequence.coverage....\"\n",
            " [21] \"Unique.sequence.coverage....\"        \n",
            " [22] \"Mol..weight..kDa.\"                   \n",
            " [23] \"Sequence.length\"                     \n",
            " [24] \"Sequence.lengths\"                    \n",
            " [25] \"Fraction.average\"                    \n",
            " [26] \"Fraction.1\"                          \n",
            " [27] \"Fraction.2\"                          \n",
            " [28] \"Fraction.3\"                          \n",
            " [29] \"Fraction.4\"                          \n",
            " [30] \"Fraction.5\"                          \n",
            " [31] \"Fraction.6\"                          \n",
            " [32] \"Fraction.7\"                          \n",
            " [33] \"Fraction.8\"                          \n",
            " [34] \"Q.value\"                             \n",
            " [35] \"Score\"                               \n",
            " [36] \"Identification.type.AGE\"             \n",
            " [37] \"Identification.type.FPS\"             \n",
            " [38] \"Reporter.intensity.corrected.1.AGE\"  \n",
            " [39] \"Reporter.intensity.corrected.2.AGE\"  \n",
            " [40] \"Reporter.intensity.corrected.3.AGE\"  \n",
            " [41] \"Reporter.intensity.corrected.4.AGE\"  \n",
            " [42] \"Reporter.intensity.corrected.5.AGE\"  \n",
            " [43] \"Reporter.intensity.corrected.6.AGE\"  \n",
            " [44] \"Reporter.intensity.corrected.7.AGE\"  \n",
            " [45] \"Reporter.intensity.corrected.8.AGE\"  \n",
            " [46] \"Reporter.intensity.corrected.9.AGE\"  \n",
            " [47] \"Reporter.intensity.corrected.10.AGE\" \n",
            " [48] \"Reporter.intensity.corrected.11.AGE\" \n",
            " [49] \"Reporter.intensity.corrected.1.FPS\"  \n",
            " [50] \"Reporter.intensity.corrected.2.FPS\"  \n",
            " [51] \"Reporter.intensity.corrected.3.FPS\"  \n",
            " [52] \"Reporter.intensity.corrected.4.FPS\"  \n",
            " [53] \"Reporter.intensity.corrected.5.FPS\"  \n",
            " [54] \"Reporter.intensity.corrected.6.FPS\"  \n",
            " [55] \"Reporter.intensity.corrected.7.FPS\"  \n",
            " [56] \"Reporter.intensity.corrected.8.FPS\"  \n",
            " [57] \"Reporter.intensity.corrected.9.FPS\"  \n",
            " [58] \"Reporter.intensity.corrected.10.FPS\" \n",
            " [59] \"Reporter.intensity.corrected.11.FPS\" \n",
            " [60] \"Reporter.intensity.1.AGE\"            \n",
            " [61] \"Reporter.intensity.2.AGE\"            \n",
            " [62] \"Reporter.intensity.3.AGE\"            \n",
            " [63] \"Reporter.intensity.4.AGE\"            \n",
            " [64] \"Reporter.intensity.5.AGE\"            \n",
            " [65] \"Reporter.intensity.6.AGE\"            \n",
            " [66] \"Reporter.intensity.7.AGE\"            \n",
            " [67] \"Reporter.intensity.8.AGE\"            \n",
            " [68] \"Reporter.intensity.9.AGE\"            \n",
            " [69] \"Reporter.intensity.10.AGE\"           \n",
            " [70] \"Reporter.intensity.11.AGE\"           \n",
            " [71] \"Reporter.intensity.1.FPS\"            \n",
            " [72] \"Reporter.intensity.2.FPS\"            \n",
            " [73] \"Reporter.intensity.3.FPS\"            \n",
            " [74] \"Reporter.intensity.4.FPS\"            \n",
            " [75] \"Reporter.intensity.5.FPS\"            \n",
            " [76] \"Reporter.intensity.6.FPS\"            \n",
            " [77] \"Reporter.intensity.7.FPS\"            \n",
            " [78] \"Reporter.intensity.8.FPS\"            \n",
            " [79] \"Reporter.intensity.9.FPS\"            \n",
            " [80] \"Reporter.intensity.10.FPS\"           \n",
            " [81] \"Reporter.intensity.11.FPS\"           \n",
            " [82] \"Reporter.intensity.count.1.AGE\"      \n",
            " [83] \"Reporter.intensity.count.2.AGE\"      \n",
            " [84] \"Reporter.intensity.count.3.AGE\"      \n",
            " [85] \"Reporter.intensity.count.4.AGE\"      \n",
            " [86] \"Reporter.intensity.count.5.AGE\"      \n",
            " [87] \"Reporter.intensity.count.6.AGE\"      \n",
            " [88] \"Reporter.intensity.count.7.AGE\"      \n",
            " [89] \"Reporter.intensity.count.8.AGE\"      \n",
            " [90] \"Reporter.intensity.count.9.AGE\"      \n",
            " [91] \"Reporter.intensity.count.10.AGE\"     \n",
            " [92] \"Reporter.intensity.count.11.AGE\"     \n",
            " [93] \"Reporter.intensity.count.1.FPS\"      \n",
            " [94] \"Reporter.intensity.count.2.FPS\"      \n",
            " [95] \"Reporter.intensity.count.3.FPS\"      \n",
            " [96] \"Reporter.intensity.count.4.FPS\"      \n",
            " [97] \"Reporter.intensity.count.5.FPS\"      \n",
            " [98] \"Reporter.intensity.count.6.FPS\"      \n",
            " [99] \"Reporter.intensity.count.7.FPS\"      \n",
            "[100] \"Reporter.intensity.count.8.FPS\"      \n",
            "[101] \"Reporter.intensity.count.9.FPS\"      \n",
            "[102] \"Reporter.intensity.count.10.FPS\"     \n",
            "[103] \"Reporter.intensity.count.11.FPS\"     \n",
            "[104] \"Sequence.coverage.AGE....\"           \n",
            "[105] \"Sequence.coverage.FPS....\"           \n",
            "[106] \"Intensity\"                           \n",
            "[107] \"Intensity.AGE\"                       \n",
            "[108] \"Intensity.FPS\"                       \n",
            "[109] \"MS.MS.count\"                         \n",
            "[110] \"Only.identified.by.site\"             \n",
            "[111] \"Reverse\"                             \n",
            "[112] \"Potential.contaminant\"               \n",
            "[113] \"id\"                                  \n",
            "[114] \"Peptide.IDs\"                         \n",
            "[115] \"Peptide.is.razor\"                    \n",
            "[116] \"Mod..peptide.IDs\"                    \n",
            "[117] \"Evidence.IDs\"                        \n",
            "[118] \"MS.MS.IDs\"                           \n",
            "[119] \"Best.MS.MS\"                          \n",
            "[120] \"Oxidation..M..site.IDs\"              \n",
            "[121] \"Oxidation..M..site.positions\"        \n",
            "[122] \"Taxonomy.IDs\"                        \n",
            "        Protein.IDs Majority.protein.IDs Peptide.counts..all.\n",
            "1 A0A0G2JTR4;F1LXF1           A0A0G2JTR4                  6;1\n",
            "2        A0A0G2JV04           A0A0G2JV04                    3\n",
            "3        A0A0G2K2P5           A0A0G2K2P5                   27\n",
            "4            A0JPJ7               A0JPJ7                   16\n",
            "5            A0JPM9               A0JPM9                    9\n",
            "6            A0JPQ9               A0JPQ9                    4\n",
            "  Peptide.counts..razor.unique. Peptide.counts..unique.\n",
            "1                           6;1                     6;1\n",
            "2                             3                       3\n",
            "3                            27                      27\n",
            "4                            16                      16\n",
            "5                             9                       9\n",
            "6                             4                       4\n",
            "                                         Protein.names Gene.names\n",
            "1                                                                \n",
            "2                                                                \n",
            "3                                                                \n",
            "4                                    Obg-like ATPase 1       Ola1\n",
            "5 Eukaryotic translation initiation factor 3 subunit J      Eif3j\n",
            "6                Chitinase domain-containing protein 1      Chid1\n",
            "                                                                                                              Fasta.headers\n",
            "1     sp|A0A0G2JTR4|ABR_RAT Active breakpoint cluster region-related protein OS=Rattus norvegicus OX=10116 GN=Abr PE=1 SV=2\n",
            "2       sp|A0A0G2JV04|GGA3_RAT ADP-ribosylation factor-binding protein GGA3 OS=Rattus norvegicus OX=10116 GN=Gga3 PE=1 SV=1\n",
            "3                         sp|A0A0G2K2P5|ZO1_RAT Tight junction protein ZO-1 OS=Rattus norvegicus OX=10116 GN=Tjp1 PE=1 SV=1\n",
            "4                                      sp|A0JPJ7|OLA1_RAT Obg-like ATPase 1 OS=Rattus norvegicus OX=10116 GN=Ola1 PE=2 SV=1\n",
            "5 sp|A0JPM9|EIF3J_RAT Eukaryotic translation initiation factor 3 subunit J OS=Rattus norvegicus OX=10116 GN=Eif3j PE=1 SV=1\n",
            "6                sp|A0JPQ9|CHID1_RAT Chitinase domain-containing protein 1 OS=Rattus norvegicus OX=10116 GN=Chid1 PE=2 SV=2\n",
            "  Number.of.proteins Peptides Razor...unique.peptides Unique.peptides\n",
            "1                  2        6                       6               6\n",
            "2                  1        3                       3               3\n",
            "3                  1       27                      27              27\n",
            "4                  1       16                      16              16\n",
            "5                  1        9                       9               9\n",
            "6                  1        4                       4               4\n",
            "  Peptides.AGE Peptides.FPS Razor...unique.peptides.AGE\n",
            "1            6            3                           6\n",
            "2            3            3                           3\n",
            "3           24           25                          24\n",
            "4           13           15                          13\n",
            "5            8            9                           8\n",
            "6            2            4                           2\n",
            "  Razor...unique.peptides.FPS Unique.peptides.AGE Unique.peptides.FPS\n",
            "1                           3                   6                   3\n",
            "2                           3                   3                   3\n",
            "3                          25                  24                  25\n",
            "4                          15                  13                  15\n",
            "5                           9                   8                   9\n",
            "6                           4                   2                   4\n",
            "  Sequence.coverage.... Unique...razor.sequence.coverage....\n",
            "1                   9.9                                  9.9\n",
            "2                   4.5                                  4.5\n",
            "3                  21.6                                 21.6\n",
            "4                  49.0                                 49.0\n",
            "5                  47.5                                 47.5\n",
            "6                  12.5                                 12.5\n",
            "  Unique.sequence.coverage.... Mol..weight..kDa. Sequence.length\n",
            "1                          9.9            97.692             859\n",
            "2                          4.5            78.758             727\n",
            "3                         21.6           197.150            1765\n",
            "4                         49.0            44.535             396\n",
            "5                         47.5            29.187             259\n",
            "6                         12.5            44.874             393\n",
            "  Sequence.lengths Fraction.average Fraction.1 Fraction.2 Fraction.3 Fraction.4\n",
            "1         859;1062             5.57          2         NA          1         NA\n",
            "2              727             4.29          3          2         NA          2\n",
            "3             1765             3.98         16          9         12         15\n",
            "4              396             4.33         12          4         10          7\n",
            "5              259             3.09         11         13          8          4\n",
            "6              393             2.22          5          2         NA         NA\n",
            "  Fraction.5 Fraction.6 Fraction.7 Fraction.8 Q.value   Score\n",
            "1          3          2          2          4       0  53.863\n",
            "2          3         NA          2          2       0  17.827\n",
            "3          9          4          5         11       0 277.910\n",
            "4          3         NA          7         12       0 156.560\n",
            "5          1         NA          2          5       0 146.060\n",
            "6          1          1         NA         NA       0  64.592\n",
            "  Identification.type.AGE Identification.type.FPS\n",
            "1                By MS/MS                By MS/MS\n",
            "2                By MS/MS                By MS/MS\n",
            "3                By MS/MS                By MS/MS\n",
            "4                By MS/MS                By MS/MS\n",
            "5                By MS/MS                By MS/MS\n",
            "6                By MS/MS                By MS/MS\n",
            "  Reporter.intensity.corrected.1.AGE Reporter.intensity.corrected.2.AGE\n",
            "1                                  0                                  0\n",
            "2                            7074700                            7091600\n",
            "3                            5848100                           15410000\n",
            "4                           27483000                           34467000\n",
            "5                           16887000                           17952000\n",
            "6                                  0                                  0\n",
            "  Reporter.intensity.corrected.3.AGE Reporter.intensity.corrected.4.AGE\n",
            "1                                  0                                0.0\n",
            "2                              26476                                0.0\n",
            "3                             778560                            92235.0\n",
            "4                             311890                            70126.0\n",
            "5                             124690                             5509.4\n",
            "6                                  0                                0.0\n",
            "  Reporter.intensity.corrected.5.AGE Reporter.intensity.corrected.6.AGE\n",
            "1                                  0                                  0\n",
            "2                            6511800                            6909600\n",
            "3                           15826000                           28320000\n",
            "4                           34691000                           36309000\n",
            "5                           16586000                           15803000\n",
            "6                                  0                                  0\n",
            "  Reporter.intensity.corrected.7.AGE Reporter.intensity.corrected.8.AGE\n",
            "1                                  0                                  0\n",
            "2                            7801800                            8447700\n",
            "3                           31143000                           47157000\n",
            "4                           51045000                           50738000\n",
            "5                           20890000                           18815000\n",
            "6                                  0                                  0\n",
            "  Reporter.intensity.corrected.9.AGE Reporter.intensity.corrected.10.AGE\n",
            "1                                  0                                   0\n",
            "2                            5749900                             8107900\n",
            "3                           45007000                            47121000\n",
            "4                           46722000                            48610000\n",
            "5                           19977000                            18546000\n",
            "6                                  0                                   0\n",
            "  Reporter.intensity.corrected.11.AGE Reporter.intensity.corrected.1.FPS\n",
            "1                                   0                            2658000\n",
            "2                             6288700                            8265200\n",
            "3                            46679000                           17112000\n",
            "4                            47976000                           51699000\n",
            "5                            18568000                           12163000\n",
            "6                                   0                                  0\n",
            "  Reporter.intensity.corrected.2.FPS Reporter.intensity.corrected.3.FPS\n",
            "1                            2968900                              41936\n",
            "2                            7903400                              25990\n",
            "3                           18186000                             120030\n",
            "4                           49736000                             292160\n",
            "5                           11835000                              30458\n",
            "6                                  0                                  0\n",
            "  Reporter.intensity.corrected.4.FPS Reporter.intensity.corrected.5.FPS\n",
            "1                            3004600                              34137\n",
            "2                            7738500                              90027\n",
            "3                           16851000                             132680\n",
            "4                           45449000                             538440\n",
            "5                           11464000                             108810\n",
            "6                                  0                                  0\n",
            "  Reporter.intensity.corrected.6.FPS Reporter.intensity.corrected.7.FPS\n",
            "1                            3077900                            3165800\n",
            "2                           10910000                           10222000\n",
            "3                           22854000                           22882000\n",
            "4                           48300000                           46741000\n",
            "5                            9858100                           10490000\n",
            "6                                  0                                  0\n",
            "  Reporter.intensity.corrected.8.FPS Reporter.intensity.corrected.9.FPS\n",
            "1                            3256600                            3072900\n",
            "2                           10701000                           10343000\n",
            "3                           38080000                           37370000\n",
            "4                           50310000                           50706000\n",
            "5                           11929000                           11429000\n",
            "6                                  0                                  0\n",
            "  Reporter.intensity.corrected.10.FPS Reporter.intensity.corrected.11.FPS\n",
            "1                             4331200                             3605900\n",
            "2                            11791000                             9286400\n",
            "3                            47273000                            36897000\n",
            "4                            57170000                            44861000\n",
            "5                            12786000                            10786000\n",
            "6                                   0                                   0\n",
            "  Reporter.intensity.1.AGE Reporter.intensity.2.AGE Reporter.intensity.3.AGE\n",
            "1                        0                        0                        0\n",
            "2                  6587400                  6590200                   603330\n",
            "3                  5445800                 14322000                  1350200\n",
            "4                 25591000                 32030000                  2539000\n",
            "5                 15724000                 16684000                  1449900\n",
            "6                        0                        0                        0\n",
            "  Reporter.intensity.4.AGE Reporter.intensity.5.AGE Reporter.intensity.6.AGE\n",
            "1                        0                        0                        0\n",
            "2                   479130                  6277900                  6639100\n",
            "3                  1372300                 15264000                 27176000\n",
            "4                  2235600                 33422000                 35033000\n",
            "5                  1459800                 16016000                 15189000\n",
            "6                        0                        0                        0\n",
            "  Reporter.intensity.7.AGE Reporter.intensity.8.AGE Reporter.intensity.9.AGE\n",
            "1                        0                        0                        0\n",
            "2                  7782700                  8501200                  5958400\n",
            "3                 30722000                 46995000                 45240000\n",
            "4                 50788000                 50795000                 47766000\n",
            "5                 20936000                 18970000                 20313000\n",
            "6                        0                        0                        0\n",
            "  Reporter.intensity.10.AGE Reporter.intensity.11.AGE Reporter.intensity.1.FPS\n",
            "1                         0                         0                  2475100\n",
            "2                   7932600                   6049800                  7695400\n",
            "3                  46022000                  44978000                 15934000\n",
            "4                  47563000                  46242000                 48139000\n",
            "5                  18124000                  17956000                 11325000\n",
            "6                         0                         0                        0\n",
            "  Reporter.intensity.2.FPS Reporter.intensity.3.FPS Reporter.intensity.4.FPS\n",
            "1                  2770400                   222700                  3063800\n",
            "2                  7374100                   541910                  7953600\n",
            "3                 16964000                  1267800                 17191000\n",
            "4                 46393000                  3842000                 46567000\n",
            "5                 11042000                   861850                 11698000\n",
            "6                        0                        0                        0\n",
            "  Reporter.intensity.5.FPS Reporter.intensity.6.FPS Reporter.intensity.7.FPS\n",
            "1                   114000                  3135100                  3044600\n",
            "2                   339170                 10914000                  9842700\n",
            "3                   440450                 22950000                 22058000\n",
            "4                  1552200                 49074000                 45119000\n",
            "5                   366760                 10188000                 10127000\n",
            "6                        0                        0                        0\n",
            "  Reporter.intensity.8.FPS Reporter.intensity.9.FPS Reporter.intensity.10.FPS\n",
            "1                  3334200                  3149100                   4185800\n",
            "2                 10923000                 10479000                  11471000\n",
            "3                 38224000                 37366000                  45791000\n",
            "4                 51255000                 51204000                  55552000\n",
            "5                 12050000                 11563000                  12452000\n",
            "6                        0                        0                         0\n",
            "  Reporter.intensity.11.FPS Reporter.intensity.count.1.AGE\n",
            "1                   3461900                              0\n",
            "2                   8990900                              2\n",
            "3                  35608000                              2\n",
            "4                  43457000                              4\n",
            "5                  10425000                              2\n",
            "6                         0                              0\n",
            "  Reporter.intensity.count.2.AGE Reporter.intensity.count.3.AGE\n",
            "1                              0                              0\n",
            "2                              2                              2\n",
            "3                              3                              3\n",
            "4                              4                              3\n",
            "5                              2                              1\n",
            "6                              0                              0\n",
            "  Reporter.intensity.count.4.AGE Reporter.intensity.count.5.AGE\n",
            "1                              0                              0\n",
            "2                              0                              2\n",
            "3                              2                              3\n",
            "4                              1                              4\n",
            "5                              1                              2\n",
            "6                              0                              0\n",
            "  Reporter.intensity.count.6.AGE Reporter.intensity.count.7.AGE\n",
            "1                              0                              0\n",
            "2                              2                              2\n",
            "3                              5                              5\n",
            "4                              6                              6\n",
            "5                              2                              2\n",
            "6                              0                              0\n",
            "  Reporter.intensity.count.8.AGE Reporter.intensity.count.9.AGE\n",
            "1                              0                              0\n",
            "2                              2                              2\n",
            "3                              7                              7\n",
            "4                              6                              6\n",
            "5                              2                              2\n",
            "6                              0                              0\n",
            "  Reporter.intensity.count.10.AGE Reporter.intensity.count.11.AGE\n",
            "1                               0                               0\n",
            "2                               2                               2\n",
            "3                               7                               7\n",
            "4                               6                               6\n",
            "5                               2                               2\n",
            "6                               0                               0\n",
            "  Reporter.intensity.count.1.FPS Reporter.intensity.count.2.FPS\n",
            "1                              1                              1\n",
            "2                              3                              3\n",
            "3                              3                              3\n",
            "4                              6                              6\n",
            "5                              2                              2\n",
            "6                              0                              0\n",
            "  Reporter.intensity.count.3.FPS Reporter.intensity.count.4.FPS\n",
            "1                              1                              1\n",
            "2                              1                              3\n",
            "3                              2                              3\n",
            "4                              6                              6\n",
            "5                              1                              2\n",
            "6                              0                              0\n",
            "  Reporter.intensity.count.5.FPS Reporter.intensity.count.6.FPS\n",
            "1                              1                              1\n",
            "2                              3                              3\n",
            "3                              3                              5\n",
            "4                              6                              8\n",
            "5                              2                              2\n",
            "6                              0                              0\n",
            "  Reporter.intensity.count.7.FPS Reporter.intensity.count.8.FPS\n",
            "1                              1                              1\n",
            "2                              3                              3\n",
            "3                              5                              7\n",
            "4                              8                              8\n",
            "5                              2                              2\n",
            "6                              0                              0\n",
            "  Reporter.intensity.count.9.FPS Reporter.intensity.count.10.FPS\n",
            "1                              1                               1\n",
            "2                              3                               3\n",
            "3                              7                               7\n",
            "4                              8                               8\n",
            "5                              2                               2\n",
            "6                              0                               0\n",
            "  Reporter.intensity.count.11.FPS Sequence.coverage.AGE....\n",
            "1                               1                       9.9\n",
            "2                               3                       4.5\n",
            "3                               7                      19.0\n",
            "4                               8                      40.4\n",
            "5                               2                      39.0\n",
            "6                               0                       5.9\n",
            "  Sequence.coverage.FPS....  Intensity Intensity.AGE Intensity.FPS MS.MS.count\n",
            "1                       3.6 5.6230e+09    2.2871e+09    3.3359e+09          12\n",
            "2                       4.5 1.3575e+09    7.5912e+08    5.9841e+08           8\n",
            "3                      20.3 2.1167e+10    1.0784e+10    1.0383e+10          85\n",
            "4                      45.7 2.2423e+10    1.2815e+10    9.6072e+09          60\n",
            "5                      47.5 1.5586e+10    7.4333e+09    8.1528e+09          38\n",
            "6                      12.5 1.5637e+09    6.5869e+08    9.0502e+08           9\n",
            "  Only.identified.by.site Reverse Potential.contaminant id\n",
            "1                                                        0\n",
            "2                                                        1\n",
            "3                                                        2\n",
            "4                                                        3\n",
            "5                                                        4\n",
            "6                                                        5\n",
            "                                                                                                                                   Peptide.IDs\n",
            "1                                                                                                               1059;5945;6021;6034;8068;11452\n",
            "2                                                                                                                                260;3254;6677\n",
            "3 183;367;1203;1850;2115;2306;2383;2692;3055;3785;3856;3995;4832;4876;6121;6583;7499;9323;9721;11278;11623;12048;12142;13600;13688;14350;14642\n",
            "4                                                          413;1675;2989;3956;5067;5613;5667;5885;6290;7623;9079;10534;11411;11608;14260;14496\n",
            "5                                                                                                 0;1859;4764;6075;6373;7617;10144;12879;13535\n",
            "6                                                                                                                        277;11531;12458;14011\n",
            "                                                                                                                        Peptide.is.razor\n",
            "1                                                                                                          True;True;True;True;True;True\n",
            "2                                                                                                                         True;True;True\n",
            "3 True;True;True;True;True;True;True;True;True;True;True;True;True;True;True;True;True;True;True;True;True;True;True;True;True;True;True\n",
            "4                                                        True;True;True;True;True;True;True;True;True;True;True;True;True;True;True;True\n",
            "5                                                                                           True;True;True;True;True;True;True;True;True\n",
            "6                                                                                                                    True;True;True;True\n",
            "                                                                                                                               Mod..peptide.IDs\n",
            "1                                                                                                                1093;6135;6214;6227;8312;11852\n",
            "2                                                                                                                                 267;3354;6886\n",
            "3 186;378;1248;1912;2184;2380;2457;2777;3148;3904;3977;4119;4976;5023;6317;6788;7727;9667;10074;11675;12027;12468;12565;14069;14159;14835;15134\n",
            "4                                                           425;1733;3079;4080;5222;5785;5839;6070;6488;7854;9417;10906;11809;12011;14743;14983\n",
            "5                                                                                                  0;1921;4907;6270;6572;7848;10503;13320;13997\n",
            "6                                                                                                                         284;11932;12888;14488\n",
            "                                                                                                                                                                                                                                                                                                                                                                                                                                                                               Evidence.IDs\n",
            "1                                                                                                                                                                                                                                                                                                                                                                                                        5671;31823;31824;31825;31826;32277;32278;32279;32280;32281;32338;42567;59285;59286\n",
            "2                                                                                                                                                                                                                                                                                                                                                                                                          1485;1486;1487;17138;17139;17140;17141;17142;17143;35705;35706;35707;35708;35709\n",
            "3 1041;1042;2059;2060;2061;6461;6462;6463;6464;9953;9954;9955;11285;11286;12216;12602;12603;14182;14183;14184;16093;16094;20067;20068;20069;20070;20448;21198;21199;21200;21201;25553;25554;25790;25791;25792;25793;25794;25795;25796;25797;25798;25799;25800;32824;32825;32826;32827;35086;35087;35088;35089;35090;39876;39877;39878;39879;49242;50949;50950;58414;58415;58416;58417;60198;62545;62546;63243;63244;63245;71573;71574;71575;71576;72101;72102;72103;75379;75380;75381;77031\n",
            "4                                                                                                                                                       2281;2282;2283;2284;9031;9032;15631;15632;15633;15634;21010;21011;21012;21013;21014;26915;26916;26917;29993;29994;29995;29996;29997;29998;29999;30273;30274;31530;31531;31532;33678;33679;40483;40484;48133;54592;54593;54594;54595;54596;54597;54598;54599;59041;59042;59043;59044;59045;59046;59047;59048;59049;60007;74959;76202\n",
            "5                                                                                                                                                                                                                                      0;1;2;3;9982;9983;9984;25165;25166;25167;25168;25169;32606;32607;32608;32609;34096;34097;34098;34099;34100;34101;40457;40458;40459;40460;40461;40462;40463;52875;52876;67187;71191;71192;71193;71194;71195;71196;71197;71198;71199;71200;71201;71202\n",
            "6                                                                                                                                                                                                                                                                                                                                                                                                                                       1582;1583;59674;59675;59676;59677;59678;64844;73631\n",
            "                                                                                                                                                                                                                                                                                                                                                                                                                                                                                                        MS.MS.IDs\n",
            "1                                                                                                                                                                                                                                                                                                                                                                                                                                            6032;6033;6034;33634;33635;34095;34096;34097;34156;44727;62081;62082\n",
            "2                                                                                                                                                                                                                                                                                                                                                                                                                                                                  1627;18190;18191;18192;18193;18194;37815;37816\n",
            "3 1152;1153;2266;2267;2268;2269;2270;6820;6821;6822;6823;6824;6825;6826;10577;10578;10579;12033;12034;13021;13417;15129;15130;15131;15132;15133;17102;17103;17104;17105;21361;21362;21363;21364;21764;22541;22542;22543;22544;27037;27038;27263;27264;27265;27266;27267;27268;27269;27270;27271;34671;34672;34673;37133;37134;37135;37136;37137;37138;41960;41961;41962;51593;53374;61155;61156;61157;61158;61159;63054;65522;65523;66313;66314;75221;75222;75223;75799;75800;75801;75802;79238;79239;79240;80991\n",
            "4                                                                                                                                                2503;2504;2505;2506;2507;9571;9572;16622;16623;16624;16625;16626;22351;22352;22353;22354;22355;28488;28489;28490;31718;31719;31720;31721;31722;32035;32036;33331;33332;35567;35568;42590;42591;42592;42593;50427;57153;57154;57155;57156;57157;57158;57159;57160;57161;57162;61835;61836;61837;61838;61839;61840;61841;61842;61843;61844;61845;62814;78804;80103\n",
            "5                                                                                                                                                                                                                                                                                         0;1;2;10609;10610;26649;26650;26651;34438;34439;34440;34441;36023;36024;36025;36026;36027;36028;42569;42570;42571;42572;42573;55403;70520;70521;74784;74785;74786;74787;74788;74789;74790;74791;74792;74793;74794;74795\n",
            "6                                                                                                                                                                                                                                                                                                                                                                                                                                                             1739;1740;62477;62478;62479;62480;62481;67960;77407\n",
            "                                                                                                                                                      Best.MS.MS\n",
            "1                                                                                                                             6032;33634;34095;34156;44727;62081\n",
            "2                                                                                                                                               1627;18190;37816\n",
            "3 1153;2269;6826;10578;12033;13021;13417;15130;17105;21361;21764;22542;27037;27266;34671;37136;41960;51593;53374;61157;63054;65522;66313;75222;75799;79238;80991\n",
            "4                                                                  2503;9571;16624;22351;28490;31718;32035;33331;35568;42592;50427;57157;61835;62814;78804;80103\n",
            "5                                                                                                              1;10610;26651;34441;36025;42569;55403;70520;74790\n",
            "6                                                                                                                                         1739;62478;67960;77407\n",
            "  Oxidation..M..site.IDs Oxidation..M..site.positions Taxonomy.IDs\n",
            "1                                                            -1;-1\n",
            "2                                                               -1\n",
            "3                                                               -1\n",
            "4                                                               -1\n",
            "5                                                               -1\n",
            "6                                                               -1\n"
          ]
        }
      ]
    },
    {
      "cell_type": "code",
      "source": [
        "%%R\n",
        "df <- data[ , grepl( \"Reporter.intensity.corrected\" , names( data) )] \n",
        "conditionColumn <- colnames(df)\n",
        "print(conditionColumn)\n",
        "condition <- gsub(\"Reporter.intensity.corrected.[0-9]+.\", \"\", conditionColumn)\n",
        "condition <- unique(condition)\n",
        "print(condition)\n",
        "\n",
        "numCondition <- length(condition)\n",
        "print(numCondition)"
      ],
      "metadata": {
        "colab": {
          "base_uri": "https://localhost:8080/"
        },
        "id": "CqKTV9XBxa9N",
        "outputId": "3cf51c60-2e15-425b-9271-323357c5f47f"
      },
      "execution_count": 81,
      "outputs": [
        {
          "output_type": "stream",
          "name": "stdout",
          "text": [
            " [1] \"Reporter.intensity.corrected.1.AGE\"  \"Reporter.intensity.corrected.2.AGE\" \n",
            " [3] \"Reporter.intensity.corrected.3.AGE\"  \"Reporter.intensity.corrected.4.AGE\" \n",
            " [5] \"Reporter.intensity.corrected.5.AGE\"  \"Reporter.intensity.corrected.6.AGE\" \n",
            " [7] \"Reporter.intensity.corrected.7.AGE\"  \"Reporter.intensity.corrected.8.AGE\" \n",
            " [9] \"Reporter.intensity.corrected.9.AGE\"  \"Reporter.intensity.corrected.10.AGE\"\n",
            "[11] \"Reporter.intensity.corrected.11.AGE\" \"Reporter.intensity.corrected.1.FPS\" \n",
            "[13] \"Reporter.intensity.corrected.2.FPS\"  \"Reporter.intensity.corrected.3.FPS\" \n",
            "[15] \"Reporter.intensity.corrected.4.FPS\"  \"Reporter.intensity.corrected.5.FPS\" \n",
            "[17] \"Reporter.intensity.corrected.6.FPS\"  \"Reporter.intensity.corrected.7.FPS\" \n",
            "[19] \"Reporter.intensity.corrected.8.FPS\"  \"Reporter.intensity.corrected.9.FPS\" \n",
            "[21] \"Reporter.intensity.corrected.10.FPS\" \"Reporter.intensity.corrected.11.FPS\"\n",
            "[1] \"AGE\" \"FPS\"\n",
            "[1] 2\n"
          ]
        }
      ]
    },
    {
      "cell_type": "code",
      "source": [
        "import ipywidgets as widgets\n",
        "\n",
        "numCondition_py = robjects.r(\"numCondition\")\n",
        "condition_py = robjects.r(\"condition\")\n",
        "\n",
        "radiobuttonCondition = widgets.RadioButtons(\n",
        "    options= condition_py,\n",
        "    description='condition:',\n",
        "    disabled=False\n",
        ")\n",
        "def on_radiobuttonCondition_change(change):\n",
        "    r.assign(\"conditionName\", change.new)\n",
        "    \n",
        "r.assign(\"conditionName\", condition_py[0])\n",
        "display(radiobuttonCondition)\n",
        "radiobuttonCondition.observe(on_radiobuttonCondition_change, names=\"value\")"
      ],
      "metadata": {
        "colab": {
          "base_uri": "https://localhost:8080/",
          "height": 0,
          "referenced_widgets": [
            "2f36a60270614a9596eeeaf6c97b2f48",
            "ed25128a80b24c00a11a0e1d00976b80",
            "a672e64d28254df683c8fcf1f062a198"
          ]
        },
        "id": "5vKQ7h5CxU-9",
        "outputId": "94f596ac-67bd-4f3e-fb55-0af8fdf97270"
      },
      "execution_count": 82,
      "outputs": [
        {
          "output_type": "display_data",
          "data": {
            "application/vnd.jupyter.widget-view+json": {
              "model_id": "2f36a60270614a9596eeeaf6c97b2f48",
              "version_minor": 0,
              "version_major": 2
            },
            "text/plain": [
              "RadioButtons(description='condition:', options=('AGE', 'FPS'), value='AGE')"
            ]
          },
          "metadata": {}
        }
      ]
    },
    {
      "cell_type": "code",
      "metadata": {
        "id": "0rEIxkoVg-DO",
        "colab": {
          "base_uri": "https://localhost:8080/"
        },
        "outputId": "6545139e-5f03-4f11-8ea6-c5d0365f3b2b"
      },
      "source": [
        "%%R\n",
        "cat(\"condition: \", conditionName)\n",
        "\n",
        "df <- data[ , grepl( \"Reporter.intensity.corrected\" , names( data) )]\n",
        "df <- df[, grepl(conditionName, names(df))]\n",
        "\n",
        "df = log2(df)\n",
        "colname <- colnames(df)\n",
        "numColname <- length(colname)\n",
        "\n",
        "draw_hist <- function(id) {\n",
        "  hist(x=df[,id], \n",
        "      breaks=25,\n",
        "      xlim=c(0,max(df)),\n",
        "      main=colname[id], # 圖片的名稱\n",
        "      xlab=\"\", \n",
        "      ylab=\"\"\n",
        "      )\n",
        "}"
      ],
      "execution_count": 83,
      "outputs": [
        {
          "output_type": "stream",
          "name": "stdout",
          "text": [
            "condition:  AGE"
          ]
        }
      ]
    },
    {
      "cell_type": "markdown",
      "metadata": {
        "id": "_Vm7tjKxn0TU"
      },
      "source": [
        "#experimental_design"
      ]
    },
    {
      "cell_type": "code",
      "metadata": {
        "colab": {
          "base_uri": "https://localhost:8080/",
          "height": 1000,
          "referenced_widgets": [
            "603daa24f7684ce6ad541bae47efd7c3",
            "8671eef1aaf2407c8206699fdf8c7fd2",
            "3fc4ca088ebb4b9297784d7d0e1f0697",
            "ab0ee9c6422f40f690ccf52a2cd3b45c",
            "39563d7c2ba64bcea716ed09ccca8798",
            "5cb565a3c22444509b0a9d0ea32c4703",
            "97ad428407b54640ac5b87d8dee1d673",
            "f52450268eae4e11b7b994ab9f35105b",
            "046091a3ec914db6a205d245843857ec",
            "a9dc3e461720481d8172dd019ea9c9d3",
            "887af14aea3c4cff9ef4fee4fe873aff",
            "d00fbe1c4de340dbabd07b2b15d23536",
            "e7625889281a4eb5bceabba6b2971dad",
            "8908b58e4d8e4589947db6a9a15d6964",
            "c7ed405fc58c4c73aa5acb4ad7488917",
            "4cd6cecd4b534f41be465fa2d3b3b7cc",
            "1deb9f583da142f38c6043eaba86e0d5",
            "272ef6f5ffa242a48eefb2a4873644c7",
            "9ebd8201c4624a2aac32ee3c32934d24",
            "22b98ef7db8d418a966ff38b3dfb9777",
            "c8f81c09aba8410ab7905c5ec5b9d3a6",
            "6a8d283a4646434ebedb32b237bed899",
            "1bfd5735647a4b3aacdce6cf2a10ec9e",
            "95b58916102b42218294d5a6c3df21a6",
            "bc6c9ecf771341219312e71d7c0af87a",
            "9a8818b74c7c4b73b7a80a74c9cb80f0",
            "4f1bb06d5cc04fc5a58ecc9e1c0a6f5d",
            "4b5526f98296460a92c724f73753e6dc",
            "47bddcd95cdc47c0b482e1d7e9a41ea7",
            "37855c64a36f461384ac5b8646d285e1",
            "e699e5adb08449c19e63c4023e60ccc1",
            "46ca3b7231e440a4a7fa94f65d523857",
            "870b9da133494b7cbc82ba615ccef426",
            "506f83bb55454bca96d945b95861c4dc",
            "160c70966ed942ae9430d9b8a59a4632",
            "d18198490cd44b4298217805644fb039",
            "080b9b6928b04853ae6baa3f6b808a31",
            "0f7d7fe1a26d4d8a90931562a52c0396",
            "c2e8925c88f649deac26788e13ff9556",
            "f45c861513a647059369cbb7e256673e",
            "54111ab2ae7e403bac5652e1958548bf",
            "796aed4f10914160a5a3679743d307ff",
            "c829b6ed4aa24684a9619082bf74f9b9",
            "011cd4077bdc496bbb342e37dd080d0d",
            "f4fd2cb76a6b4eca80f133801eaa9b43",
            "8e6397ef474b4531b9a540f46be33cce",
            "fa27d17b6191454bb449e95e81e5b773",
            "9cedb4b28a8845669f040434bafd67fc",
            "8be52b69940a462fa94cc37cfff0856d",
            "20c257b2198045469204a78545d77fbc",
            "5dc68bb90a9a48adaefc302121ecf5e1",
            "fc64159ba1dc46338fcc7a5566429c8f",
            "c989c81933904eefb4958e68f2dd4381",
            "6ddac49f9d6149c3823b0d80ae715969",
            "d81772e9568145b2a35bfd84c8d6bf55",
            "91bf3a0ab1d44723bd8a7bb09258b0ff",
            "c576688db4c2400bacbd3d6a2687194e",
            "a0cbc9ea68014bbaae68873ba3494d9b",
            "83a0915469cd4d0f8fd73b82b6cece29",
            "97a52c1bc060439eb2b18ffaaa44926b",
            "bda43e4e4def459cb6a686bfee85f152",
            "2ab7e4f26df74b26bca970d65d816cfe",
            "ded986747d91421c832ca65885857fee",
            "3dd47702c0cf433c94671f4868255af6",
            "256b559baf614bbbbc4b9742bf53eb05",
            "27e3b3e963a34d8f8fff29818e63f045",
            "81130dc4bc364ad5ba046efff23be96f",
            "993fb24d9d10447a9968db97c7b514cc",
            "82b02feef6fd4bd59b2f2f0f0ef87c46",
            "0ebae42d893544e8963931d754862292",
            "682c60e8c66b410b80474358177f1b1f",
            "9bab5ce6003947238361016815fce42b",
            "f624169f57934c00aacc85b3192131ea",
            "4620142637564fbba21573b9694a8fe5",
            "89bb7416abe346d08a662490217e84c0",
            "213a992fced14c7f88c62126742dbc23",
            "8607ff480602456d8cc8971baca9ed93",
            "9141c470aedb4ba6b364c28666c56f8a",
            "131c1be4143e49bb8695a2f34f631885",
            "ce93bb1f640846a9ba09319b32ed4fa9",
            "acf68ae29e6c44b6b55404212d183291",
            "33932a77ec184dab871e3b2007d96da8",
            "4613dd185de94a67b9ace1c3d3a1b2e6",
            "cf577b97a5df45a3b067dd07f476566d",
            "7177e99a2ed54ab2af959ebaa8bceb20",
            "2fb90738d89c4acdbe518d096a551361",
            "a511c464ba8747a5aa2698feaa8982bf",
            "1801be95c784481c82e2bdddcd2f5c7c",
            "30a948e1d3c64d6b9e07ca0e388ca846",
            "4d79d6e8711b4698bf605f9cb80cfcbf",
            "1f2e9cd01eb749c2835d7564ee90247b",
            "fe600ca9a726484093f1c4386e63d2f5",
            "882d8133fae546c39a8a1659fb4c71fd",
            "0f2c789d17324f60a88b6a54e0447c4e",
            "e63632542abb49788d89c78a05018064",
            "91dcbf2c5c284b6db5384e0b7b385ebd",
            "8c42b1902c2b4055bfbb3a650a4d9cf7",
            "694c2496ff044f30a4db54d24a88cbde",
            "50c43778dc45470c821427559f085668",
            "269258446aaf4b2eb70d8526385c9b99",
            "fa45401bf18944f895e9bb85fd53f010",
            "a78529a69cc44e5b9ca8d827d7156ffe",
            "6fb0af3fc8a54554803ef273c761b4fa",
            "7704e9363a8548b99b3b2d4c8a8fb699",
            "cd82b7438d6f461f9691aae1ffbca7e7",
            "ac6570ea40424931b5ecc44c747d7171",
            "122adaf7373b4ab998dce7c6cbcea372",
            "d969675acd094cffb572bc9a4837f791",
            "dd190e0c93bd4b569959e2a27a7e6f75"
          ]
        },
        "id": "tY2zicX6JFxP",
        "outputId": "46dd7715-192a-471a-f872-72a8aedfa2b2"
      },
      "source": [
        "import pandas as pd\n",
        "df_colname_py = robjects.r('colname')\n",
        "df_ncol_py = robjects.r('numColname')\n",
        "experimental_design = pd.DataFrame(columns=['state','label','condition','replicate'], index=range(10)).fillna(\"False\")\n",
        "\n",
        "\n",
        "for i in range(0,df_ncol_py[0]):  \n",
        "  generate_checkbox(df_colname_py[i], i+1)\n",
        "  generate_text(i+1,\"condition\")\n",
        "  generate_text(i+1,\"replicate\")\n",
        "  r.assign('id', i+1) #將檔案名稱python -> R\n",
        "  %R draw_hist(id)\n",
        "\n",
        "generate_button(0, \"OK\")"
      ],
      "execution_count": 84,
      "outputs": [
        {
          "output_type": "display_data",
          "data": {
            "application/vnd.jupyter.widget-view+json": {
              "model_id": "603daa24f7684ce6ad541bae47efd7c3",
              "version_minor": 0,
              "version_major": 2
            },
            "text/plain": [
              "Checkbox(value=False, description='Reporter.intensity.corrected.1.AGE', indent=False)"
            ]
          },
          "metadata": {}
        },
        {
          "output_type": "display_data",
          "data": {
            "application/vnd.jupyter.widget-view+json": {
              "model_id": "ab0ee9c6422f40f690ccf52a2cd3b45c",
              "version_minor": 0,
              "version_major": 2
            },
            "text/plain": [
              "Text(value='', description='condition', layout=Layout(height='30px', width='35%'))"
            ]
          },
          "metadata": {}
        },
        {
          "output_type": "display_data",
          "data": {
            "application/vnd.jupyter.widget-view+json": {
              "model_id": "97ad428407b54640ac5b87d8dee1d673",
              "version_minor": 0,
              "version_major": 2
            },
            "text/plain": [
              "Text(value='', description='replicate', layout=Layout(height='30px', width='35%'))"
            ]
          },
          "metadata": {}
        },
        {
          "output_type": "display_data",
          "data": {
            "image/png": "[encoded data removed]"
          },
          "metadata": {}
        },
        {
          "output_type": "display_data",
          "data": {
            "application/vnd.jupyter.widget-view+json": {
              "model_id": "a9dc3e461720481d8172dd019ea9c9d3",
              "version_minor": 0,
              "version_major": 2
            },
            "text/plain": [
              "Checkbox(value=False, description='Reporter.intensity.corrected.2.AGE', indent=False)"
            ]
          },
          "metadata": {}
        },
        {
          "output_type": "display_data",
          "data": {
            "application/vnd.jupyter.widget-view+json": {
              "model_id": "e7625889281a4eb5bceabba6b2971dad",
              "version_minor": 0,
              "version_major": 2
            },
            "text/plain": [
              "Text(value='', description='condition', layout=Layout(height='30px', width='35%'))"
            ]
          },
          "metadata": {}
        },
        {
          "output_type": "display_data",
          "data": {
            "application/vnd.jupyter.widget-view+json": {
              "model_id": "4cd6cecd4b534f41be465fa2d3b3b7cc",
              "version_minor": 0,
              "version_major": 2
            },
            "text/plain": [
              "Text(value='', description='replicate', layout=Layout(height='30px', width='35%'))"
            ]
          },
          "metadata": {}
        },
        {
          "output_type": "display_data",
          "data": {
            "image/png": "[encoded data removed]"
          },
          "metadata": {}
        },
        {
          "output_type": "display_data",
          "data": {
            "application/vnd.jupyter.widget-view+json": {
              "model_id": "9ebd8201c4624a2aac32ee3c32934d24",
              "version_minor": 0,
              "version_major": 2
            },
            "text/plain": [
              "Checkbox(value=False, description='Reporter.intensity.corrected.3.AGE', indent=False)"
            ]
          },
          "metadata": {}
        },
        {
          "output_type": "display_data",
          "data": {
            "application/vnd.jupyter.widget-view+json": {
              "model_id": "6a8d283a4646434ebedb32b237bed899",
              "version_minor": 0,
              "version_major": 2
            },
            "text/plain": [
              "Text(value='', description='condition', layout=Layout(height='30px', width='35%'))"
            ]
          },
          "metadata": {}
        },
        {
          "output_type": "display_data",
          "data": {
            "application/vnd.jupyter.widget-view+json": {
              "model_id": "bc6c9ecf771341219312e71d7c0af87a",
              "version_minor": 0,
              "version_major": 2
            },
            "text/plain": [
              "Text(value='', description='replicate', layout=Layout(height='30px', width='35%'))"
            ]
          },
          "metadata": {}
        },
        {
          "output_type": "display_data",
          "data": {
            "image/png": "[encoded data removed]"
          },
          "metadata": {}
        },
        {
          "output_type": "display_data",
          "data": {
            "application/vnd.jupyter.widget-view+json": {
              "model_id": "4b5526f98296460a92c724f73753e6dc",
              "version_minor": 0,
              "version_major": 2
            },
            "text/plain": [
              "Checkbox(value=False, description='Reporter.intensity.corrected.4.AGE', indent=False)"
            ]
          },
          "metadata": {}
        },
        {
          "output_type": "display_data",
          "data": {
            "application/vnd.jupyter.widget-view+json": {
              "model_id": "e699e5adb08449c19e63c4023e60ccc1",
              "version_minor": 0,
              "version_major": 2
            },
            "text/plain": [
              "Text(value='', description='condition', layout=Layout(height='30px', width='35%'))"
            ]
          },
          "metadata": {}
        },
        {
          "output_type": "display_data",
          "data": {
            "application/vnd.jupyter.widget-view+json": {
              "model_id": "506f83bb55454bca96d945b95861c4dc",
              "version_minor": 0,
              "version_major": 2
            },
            "text/plain": [
              "Text(value='', description='replicate', layout=Layout(height='30px', width='35%'))"
            ]
          },
          "metadata": {}
        },
        {
          "output_type": "display_data",
          "data": {
            "image/png": "[encoded data removed]"
          },
          "metadata": {}
        },
        {
          "output_type": "display_data",
          "data": {
            "application/vnd.jupyter.widget-view+json": {
              "model_id": "080b9b6928b04853ae6baa3f6b808a31",
              "version_minor": 0,
              "version_major": 2
            },
            "text/plain": [
              "Checkbox(value=False, description='Reporter.intensity.corrected.5.AGE', indent=False)"
            ]
          },
          "metadata": {}
        },
        {
          "output_type": "display_data",
          "data": {
            "application/vnd.jupyter.widget-view+json": {
              "model_id": "f45c861513a647059369cbb7e256673e",
              "version_minor": 0,
              "version_major": 2
            },
            "text/plain": [
              "Text(value='', description='condition', layout=Layout(height='30px', width='35%'))"
            ]
          },
          "metadata": {}
        },
        {
          "output_type": "display_data",
          "data": {
            "application/vnd.jupyter.widget-view+json": {
              "model_id": "c829b6ed4aa24684a9619082bf74f9b9",
              "version_minor": 0,
              "version_major": 2
            },
            "text/plain": [
              "Text(value='', description='replicate', layout=Layout(height='30px', width='35%'))"
            ]
          },
          "metadata": {}
        },
        {
          "output_type": "display_data",
          "data": {
            "image/png": "[encoded data removed]"
          },
          "metadata": {}
        },
        {
          "output_type": "display_data",
          "data": {
            "application/vnd.jupyter.widget-view+json": {
              "model_id": "8e6397ef474b4531b9a540f46be33cce",
              "version_minor": 0,
              "version_major": 2
            },
            "text/plain": [
              "Checkbox(value=False, description='Reporter.intensity.corrected.6.AGE', indent=False)"
            ]
          },
          "metadata": {}
        },
        {
          "output_type": "display_data",
          "data": {
            "application/vnd.jupyter.widget-view+json": {
              "model_id": "8be52b69940a462fa94cc37cfff0856d",
              "version_minor": 0,
              "version_major": 2
            },
            "text/plain": [
              "Text(value='', description='condition', layout=Layout(height='30px', width='35%'))"
            ]
          },
          "metadata": {}
        },
        {
          "output_type": "display_data",
          "data": {
            "application/vnd.jupyter.widget-view+json": {
              "model_id": "fc64159ba1dc46338fcc7a5566429c8f",
              "version_minor": 0,
              "version_major": 2
            },
            "text/plain": [
              "Text(value='', description='replicate', layout=Layout(height='30px', width='35%'))"
            ]
          },
          "metadata": {}
        },
        {
          "output_type": "display_data",
          "data": {
            "image/png": "[encoded data removed]"
          },
          "metadata": {}
        },
        {
          "output_type": "display_data",
          "data": {
            "application/vnd.jupyter.widget-view+json": {
              "model_id": "d81772e9568145b2a35bfd84c8d6bf55",
              "version_minor": 0,
              "version_major": 2
            },
            "text/plain": [
              "Checkbox(value=False, description='Reporter.intensity.corrected.7.AGE', indent=False)"
            ]
          },
          "metadata": {}
        },
        {
          "output_type": "display_data",
          "data": {
            "application/vnd.jupyter.widget-view+json": {
              "model_id": "a0cbc9ea68014bbaae68873ba3494d9b",
              "version_minor": 0,
              "version_major": 2
            },
            "text/plain": [
              "Text(value='', description='condition', layout=Layout(height='30px', width='35%'))"
            ]
          },
          "metadata": {}
        },
        {
          "output_type": "display_data",
          "data": {
            "application/vnd.jupyter.widget-view+json": {
              "model_id": "bda43e4e4def459cb6a686bfee85f152",
              "version_minor": 0,
              "version_major": 2
            },
            "text/plain": [
              "Text(value='', description='replicate', layout=Layout(height='30px', width='35%'))"
            ]
          },
          "metadata": {}
        },
        {
          "output_type": "display_data",
          "data": {
            "image/png": "[encoded data removed]"
          },
          "metadata": {}
        },
        {
          "output_type": "display_data",
          "data": {
            "application/vnd.jupyter.widget-view+json": {
              "model_id": "3dd47702c0cf433c94671f4868255af6",
              "version_minor": 0,
              "version_major": 2
            },
            "text/plain": [
              "Checkbox(value=False, description='Reporter.intensity.corrected.8.AGE', indent=False)"
            ]
          },
          "metadata": {}
        },
        {
          "output_type": "display_data",
          "data": {
            "application/vnd.jupyter.widget-view+json": {
              "model_id": "81130dc4bc364ad5ba046efff23be96f",
              "version_minor": 0,
              "version_major": 2
            },
            "text/plain": [
              "Text(value='', description='condition', layout=Layout(height='30px', width='35%'))"
            ]
          },
          "metadata": {}
        },
        {
          "output_type": "display_data",
          "data": {
            "application/vnd.jupyter.widget-view+json": {
              "model_id": "0ebae42d893544e8963931d754862292",
              "version_minor": 0,
              "version_major": 2
            },
            "text/plain": [
              "Text(value='', description='replicate', layout=Layout(height='30px', width='35%'))"
            ]
          },
          "metadata": {}
        },
        {
          "output_type": "display_data",
          "data": {
            "image/png": "[encoded data removed]"
          },
          "metadata": {}
        },
        {
          "output_type": "display_data",
          "data": {
            "application/vnd.jupyter.widget-view+json": {
              "model_id": "f624169f57934c00aacc85b3192131ea",
              "version_minor": 0,
              "version_major": 2
            },
            "text/plain": [
              "Checkbox(value=False, description='Reporter.intensity.corrected.9.AGE', indent=False)"
            ]
          },
          "metadata": {}
        },
        {
          "output_type": "display_data",
          "data": {
            "application/vnd.jupyter.widget-view+json": {
              "model_id": "213a992fced14c7f88c62126742dbc23",
              "version_minor": 0,
              "version_major": 2
            },
            "text/plain": [
              "Text(value='', description='condition', layout=Layout(height='30px', width='35%'))"
            ]
          },
          "metadata": {}
        },
        {
          "output_type": "display_data",
          "data": {
            "application/vnd.jupyter.widget-view+json": {
              "model_id": "131c1be4143e49bb8695a2f34f631885",
              "version_minor": 0,
              "version_major": 2
            },
            "text/plain": [
              "Text(value='', description='replicate', layout=Layout(height='30px', width='35%'))"
            ]
          },
          "metadata": {}
        },
        {
          "output_type": "display_data",
          "data": {
            "image/png": "[encoded data removed]"
          },
          "metadata": {}
        },
        {
          "output_type": "display_data",
          "data": {
            "application/vnd.jupyter.widget-view+json": {
              "model_id": "33932a77ec184dab871e3b2007d96da8",
              "version_minor": 0,
              "version_major": 2
            },
            "text/plain": [
              "Checkbox(value=False, description='Reporter.intensity.corrected.10.AGE', indent=False)"
            ]
          },
          "metadata": {}
        },
        {
          "output_type": "display_data",
          "data": {
            "application/vnd.jupyter.widget-view+json": {
              "model_id": "7177e99a2ed54ab2af959ebaa8bceb20",
              "version_minor": 0,
              "version_major": 2
            },
            "text/plain": [
              "Text(value='', description='condition', layout=Layout(height='30px', width='35%'))"
            ]
          },
          "metadata": {}
        },
        {
          "output_type": "display_data",
          "data": {
            "application/vnd.jupyter.widget-view+json": {
              "model_id": "1801be95c784481c82e2bdddcd2f5c7c",
              "version_minor": 0,
              "version_major": 2
            },
            "text/plain": [
              "Text(value='', description='replicate', layout=Layout(height='30px', width='35%'))"
            ]
          },
          "metadata": {}
        },
        {
          "output_type": "display_data",
          "data": {
            "image/png": "[encoded data removed]"
          },
          "metadata": {}
        },
        {
          "output_type": "display_data",
          "data": {
            "application/vnd.jupyter.widget-view+json": {
              "model_id": "1f2e9cd01eb749c2835d7564ee90247b",
              "version_minor": 0,
              "version_major": 2
            },
            "text/plain": [
              "Checkbox(value=False, description='Reporter.intensity.corrected.11.AGE', indent=False)"
            ]
          },
          "metadata": {}
        },
        {
          "output_type": "display_data",
          "data": {
            "application/vnd.jupyter.widget-view+json": {
              "model_id": "0f2c789d17324f60a88b6a54e0447c4e",
              "version_minor": 0,
              "version_major": 2
            },
            "text/plain": [
              "Text(value='', description='condition', layout=Layout(height='30px', width='35%'))"
            ]
          },
          "metadata": {}
        },
        {
          "output_type": "display_data",
          "data": {
            "application/vnd.jupyter.widget-view+json": {
              "model_id": "8c42b1902c2b4055bfbb3a650a4d9cf7",
              "version_minor": 0,
              "version_major": 2
            },
            "text/plain": [
              "Text(value='', description='replicate', layout=Layout(height='30px', width='35%'))"
            ]
          },
          "metadata": {}
        },
        {
          "output_type": "display_data",
          "data": {
            "image/png": "[encoded data removed]"
          },
          "metadata": {}
        },
        {
          "output_type": "display_data",
          "data": {
            "application/vnd.jupyter.widget-view+json": {
              "model_id": "269258446aaf4b2eb70d8526385c9b99",
              "version_minor": 0,
              "version_major": 2
            },
            "text/plain": [
              "Button(description='OK', style=ButtonStyle())"
            ]
          },
          "metadata": {}
        },
        {
          "output_type": "display_data",
          "data": {
            "application/vnd.jupyter.widget-view+json": {
              "model_id": "6fb0af3fc8a54554803ef273c761b4fa",
              "version_minor": 0,
              "version_major": 2
            },
            "text/plain": [
              "Output()"
            ]
          },
          "metadata": {}
        }
      ]
    },
    {
      "cell_type": "markdown",
      "metadata": {
        "id": "ucxFLdaefIfW"
      },
      "source": [
        "#make se"
      ]
    },
    {
      "cell_type": "code",
      "metadata": {
        "colab": {
          "base_uri": "https://localhost:8080/"
        },
        "id": "il0s_hnWo7yU",
        "outputId": "d0f3d7e7-b5c0-4028-94da-a1baf0f8f243"
      },
      "source": [
        "%%R\n",
        "# Are there any duplicated gene names?\n",
        "cat('Are there any duplicated gene names? ', data$Gene.names %>% duplicated() %>% any(), \"\\n\")\n",
        "\n",
        "if ( data$Gene.names %>% duplicated() %>% any() ){\n",
        "   # Make a table of duplicated gene names\n",
        "  print(data %>% group_by(Gene.names) %>% summarize(frequency = n()) %>% \n",
        "    arrange(desc(frequency)) %>% filter(frequency > 1))\n",
        "  \n",
        "  \n",
        "}\n",
        "# Make unique names using the annotation in the \"Gene.names\" column as primary names and the annotation in \"Protein.IDs\" as name for those that do not have an gene name.\n",
        "data_unique <- make_unique(data, \"Gene.names\", \"Protein.IDs\", delim = \";\")\n"
      ],
      "execution_count": 85,
      "outputs": [
        {
          "output_type": "stream",
          "name": "stdout",
          "text": [
            "Are there any duplicated gene names?  TRUE \n",
            "# A tibble: 12 × 2\n",
            "   Gene.names frequency\n",
            "   <chr>          <int>\n",
            " 1 \"\"                16\n",
            " 2 \"Arhgap17\"         2\n",
            " 3 \"Hist1h4b\"         2\n",
            " 4 \"Hnrnpa3\"          2\n",
            " 5 \"Ikbip\"            2\n",
            " 6 \"Pkm\"              2\n",
            " 7 \"Plec\"             2\n",
            " 8 \"Rtn4\"             2\n",
            " 9 \"Serbp1\"           2\n",
            "10 \"Tpm1\"             2\n",
            "11 \"Tpm3\"             2\n",
            "12 \"Tubb5\"            2\n"
          ]
        }
      ]
    },
    {
      "cell_type": "code",
      "metadata": {
        "colab": {
          "base_uri": "https://localhost:8080/"
        },
        "id": "2B3gKxtro7yU",
        "outputId": "22b5094d-e9cf-426c-ec0f-359474bc2fc3"
      },
      "source": [
        "%%R\n",
        "# Generate a SummarizedExperiment object using an experimental design\n",
        "LFQ_columns <- grep(\"Reporter.intensity.corrected.\", colnames(data_unique)) # get LFQ column numbers\n",
        "\n",
        "#experimental_design <- UbiLength_ExpDesign\n",
        "experimental_design <- read.csv('/content/experimental_design.csv',header=TRUE ,fileEncoding =\"UTF-8\")\n",
        "experimental_design$label = gsub(\" \", \".\", experimental_design$label)\n",
        "\n",
        "data_se <- make_se(data_unique, LFQ_columns, experimental_design)\n",
        "# Generate a SummarizedExperiment object by parsing condition information from the column names\n",
        "LFQ_columns <- grep(\"Reporter.intensity.corrected.\", colnames(data_unique)) # get LFQ column numbers\n",
        "data_se_parsed <- make_se_parse(data_unique, LFQ_columns)\n",
        "\n",
        "# Let's have a look at the SummarizedExperiment object\n",
        "data_se"
      ],
      "execution_count": 86,
      "outputs": [
        {
          "output_type": "stream",
          "name": "stdout",
          "text": [
            "class: SummarizedExperiment \n",
            "dim: 2230 9 \n",
            "metadata(0):\n",
            "assays(1): ''\n",
            "rownames(2230): A0A0G2JTR4 A0A0G2JV04 ... Gsto1 Pard3\n",
            "rowData names(102): Protein.IDs Majority.protein.IDs ... name ID\n",
            "colnames(9): QW_1 QW_2 ... ZX_2 ZX_3\n",
            "colData names(4): label ID condition replicate\n"
          ]
        }
      ]
    },
    {
      "cell_type": "markdown",
      "metadata": {
        "id": "hmmXGALxsbdB"
      },
      "source": [
        "#10 Filter on missing values "
      ]
    },
    {
      "cell_type": "code",
      "metadata": {
        "id": "1rAw3q8-sbdG",
        "colab": {
          "base_uri": "https://localhost:8080/"
        },
        "outputId": "b64aeaf1-a23e-4126-8a98-2e725da05ea7"
      },
      "source": [
        "%%R\n",
        "plot_frequency(data_se, plot= FALSE)"
      ],
      "execution_count": 87,
      "outputs": [
        {
          "output_type": "stream",
          "name": "stdout",
          "text": [
            "  samples proteins\n",
            "1       0      897\n",
            "2       2       34\n",
            "3       4       22\n",
            "4       5        1\n",
            "5       6       34\n",
            "6       7       32\n",
            "7       8       31\n",
            "8       9     1179\n"
          ]
        }
      ]
    },
    {
      "cell_type": "code",
      "metadata": {
        "id": "Eyx8SPdRsbdG",
        "colab": {
          "base_uri": "https://localhost:8080/",
          "height": 0
        },
        "outputId": "fabf2724-6ff6-4e08-ab03-fc72e955aa29"
      },
      "source": [
        "%%R\n",
        "# Plot a barplot of the protein identification overlap between samples\n",
        "pic10_1 <- plot_frequency(data_se, plot= TRUE)\n",
        "print(pic10_1)"
      ],
      "execution_count": 88,
      "outputs": [
        {
          "output_type": "display_data",
          "data": {
            "image/png": "[encoded data removed]"
          },
          "metadata": {}
        }
      ]
    },
    {
      "cell_type": "code",
      "metadata": {
        "id": "hV915Ym9sbdH",
        "colab": {
          "base_uri": "https://localhost:8080/",
          "height": 0
        },
        "outputId": "a24bd694-cb45-4837-af86-3f0c5400e1d6"
      },
      "source": [
        "%%R\n",
        "# Filter for proteins that are identified in all replicates of at least one condition\n",
        "data_filt <- filter_missval(data_se, thr = 3) #讓使用者選0~4(重複)\n",
        "\n",
        "# Less stringent filtering:\n",
        "# Filter for proteins that are identified in 2 out of 3 replicates of at least one condition\n",
        "data_filt2 <- filter_missval(data_se, thr = 1)\n",
        "\n",
        "# Plot a barplot of the number of identified proteins per samples\n",
        "pic10_2 <- plot_numbers(data_filt, plot=TRUE)\n",
        "print(pic10_2)"
      ],
      "execution_count": 89,
      "outputs": [
        {
          "output_type": "display_data",
          "data": {
            "image/png": "[encoded data removed]"
          },
          "metadata": {}
        }
      ]
    },
    {
      "cell_type": "code",
      "metadata": {
        "id": "bh8nxGfDsbdH",
        "colab": {
          "base_uri": "https://localhost:8080/",
          "height": 0
        },
        "outputId": "190c6c70-d918-4588-81c7-e4d8a2d45b7f"
      },
      "source": [
        "%%R\n",
        "# Plot a barplot of the protein identification overlap between samples\n",
        "pic10_3 <- plot_coverage(data_filt)\n",
        "print(pic10_3)"
      ],
      "execution_count": 90,
      "outputs": [
        {
          "output_type": "display_data",
          "data": {
            "image/png": "[encoded data removed]"
          },
          "metadata": {}
        }
      ]
    },
    {
      "cell_type": "markdown",
      "metadata": {
        "id": "58T2LqzTe20t"
      },
      "source": [
        "#11 Normalization "
      ]
    },
    {
      "cell_type": "code",
      "metadata": {
        "id": "pN7TYzSNJotq",
        "colab": {
          "base_uri": "https://localhost:8080/"
        },
        "outputId": "ad4f2900-3361-4774-ce6c-39b2c13bc28e"
      },
      "source": [
        "%%R\n",
        "# Normalize the data\n",
        "data_norm <- normalize_vsn(data_filt)"
      ],
      "execution_count": 91,
      "outputs": [
        {
          "output_type": "stream",
          "name": "stderr",
          "text": [
            "R[write to console]: vsn2: 2230 x 9 matrix (1 stratum). \n",
            "\n",
            "R[write to console]: Please use 'meanSdPlot' to verify the fit.\n",
            "\n"
          ]
        }
      ]
    },
    {
      "cell_type": "code",
      "metadata": {
        "id": "Ejilzc5GRWCv",
        "colab": {
          "base_uri": "https://localhost:8080/",
          "height": 0
        },
        "outputId": "b3152311-3321-438f-f0f4-c123242a7c68"
      },
      "source": [
        "%%R\n",
        "# Normalize the data\n",
        "data_norm <- normalize_vsn(data_filt)\n",
        "\n",
        "# Visualize normalization by boxplots for all samples before and after normalization\n",
        "pic11_1 <- plot_normalization(data_filt, data_norm)\n",
        "print(pic11_1)"
      ],
      "execution_count": 92,
      "outputs": [
        {
          "output_type": "stream",
          "name": "stderr",
          "text": [
            "R[write to console]: vsn2: 2230 x 9 matrix (1 stratum). \n",
            "\n",
            "R[write to console]: Please use 'meanSdPlot' to verify the fit.\n",
            "\n"
          ]
        },
        {
          "output_type": "display_data",
          "data": {
            "image/png": "[encoded data removed]"
          },
          "metadata": {}
        }
      ]
    },
    {
      "cell_type": "markdown",
      "metadata": {
        "id": "aGUobJP7e7_U"
      },
      "source": [
        "#12 Impute data for missing values "
      ]
    },
    {
      "cell_type": "code",
      "metadata": {
        "id": "fWEjiQm9key_",
        "colab": {
          "base_uri": "https://localhost:8080/",
          "height": 977
        },
        "outputId": "d31ed689-883e-4059-f107-2df4b17215bd"
      },
      "source": [
        "%%R\n",
        "# Plot a heatmap of proteins with missing values\n",
        "pic12_1 <- plot_missval(data_filt)\n",
        "print(pic12_1)"
      ],
      "execution_count": 93,
      "outputs": [
        {
          "output_type": "display_data",
          "data": {
            "image/png": "[encoded data removed]"
          },
          "metadata": {}
        },
        {
          "output_type": "display_data",
          "data": {
            "image/png": "[encoded data removed]"
          },
          "metadata": {}
        }
      ]
    },
    {
      "cell_type": "code",
      "metadata": {
        "id": "t1bM21JARjGA",
        "colab": {
          "base_uri": "https://localhost:8080/",
          "height": 566
        },
        "outputId": "92ac26ba-cda9-4613-c369-77387c55793e"
      },
      "source": [
        "%%R\n",
        "# Plot intensity distributions and cumulative fraction of proteins with and without missing values\n",
        "pic12_2 <- plot_detect(data_filt)\n",
        "print(pic12_2)"
      ],
      "execution_count": 94,
      "outputs": [
        {
          "output_type": "stream",
          "name": "stdout",
          "text": [
            "TableGrob (2 x 1) \"arrange\": 2 grobs\n",
            "  z     cells    name           grob\n",
            "1 1 (1-1,1-1) arrange gtable[layout]\n",
            "2 2 (2-2,1-1) arrange gtable[layout]\n"
          ]
        },
        {
          "output_type": "display_data",
          "data": {
            "image/png": "[encoded data removed]"
          },
          "metadata": {}
        }
      ]
    },
    {
      "cell_type": "code",
      "metadata": {
        "id": "PdZ9zq6TRmWY",
        "colab": {
          "base_uri": "https://localhost:8080/",
          "height": 514
        },
        "outputId": "b98f40ef-b240-4a5f-d9b8-1e5ab20e0847"
      },
      "source": [
        "%%R\n",
        "# All possible imputation methods are printed in an error, if an invalid function name is given.\n",
        "#impute(data_norm, fun = \"\")\n",
        "\n",
        "# Impute missing data using random draws from a Gaussian distribution centered around a minimal value (for MNAR)\n",
        "data_imp <- impute(data_norm, fun = \"MinProb\", q = 0.01)\n",
        "\n",
        "# Impute missing data using random draws from a manually defined left-shifted Gaussian distribution (for MNAR)\n",
        "data_imp_man <- impute(data_norm, fun = \"man\", shift = 1.8, scale = 0.3)\n",
        "\n",
        "# Impute missing data using the k-nearest neighbour approach (for MAR)\n",
        "data_imp_knn <- impute(data_norm, fun = \"knn\", rowmax = 0.9)\n",
        "\n",
        "# Plot intensity distributions before and after imputation\n",
        "pic12_3 <- plot_imputation(data_norm, data_imp)\n",
        "print(pic12_3)"
      ],
      "execution_count": 95,
      "outputs": [
        {
          "output_type": "stream",
          "name": "stdout",
          "text": [
            "[1] 0.162191\n"
          ]
        },
        {
          "output_type": "display_data",
          "data": {
            "image/png": "[encoded data removed]"
          },
          "metadata": {}
        }
      ]
    },
    {
      "cell_type": "code",
      "source": [
        "def input_text(placeholder):\n",
        "  text = widgets.Text(\n",
        "      value='',\n",
        "      description=placeholder,\n",
        "      disabled=False,\n",
        "      layout = widgets.Layout(height=\"30px\", width=\"35%\")\n",
        "  )\n",
        "  def on_text_change(change):\n",
        "    controlname = text.value\n",
        "    #print(controlname)\n",
        "    r.assign(\"control\", controlname) #將檔案名稱python -> R\n",
        "\n",
        "  display(text)\n",
        "  text.observe(on_text_change, names=\"value\")\n",
        "\n",
        "import pandas as pd\n",
        "#df_colname = robjects.r('colname')\n",
        "#experimental_design = pd.DataFrame(columns=['state','label','condition','replicate'], index=range(10)).fillna(\"False\")\n",
        "input_text(\"control:\")"
      ],
      "metadata": {
        "colab": {
          "base_uri": "https://localhost:8080/",
          "height": 51,
          "referenced_widgets": [
            "4c9dd8044f344ced88477994ce74d5e7",
            "e4b1003be3884f4f9cd61fa40b101607",
            "432a402619d648dcb8cc32652ed217ae"
          ]
        },
        "id": "VwliAr61HNUU",
        "outputId": "f9f7cb82-e4e5-4e9d-91bb-55b0f4a32781"
      },
      "execution_count": 96,
      "outputs": [
        {
          "output_type": "display_data",
          "data": {
            "application/vnd.jupyter.widget-view+json": {
              "model_id": "4c9dd8044f344ced88477994ce74d5e7",
              "version_minor": 0,
              "version_major": 2
            },
            "text/plain": [
              "Text(value='', description='control:', layout=Layout(height='30px', width='35%'))"
            ]
          },
          "metadata": {}
        }
      ]
    },
    {
      "cell_type": "code",
      "metadata": {
        "id": "GXoJyjvh7z5Z",
        "colab": {
          "base_uri": "https://localhost:8080/"
        },
        "outputId": "60d9844b-9ce9-4fc3-ec59-0ae628308cb7"
      },
      "source": [
        "%%R\n",
        "# Differential enrichment analysis  based on linear models and empherical Bayes statistics\n",
        "\n",
        "# Test every sample versus control\n",
        "data_diff <- test_diff(data_imp, type = \"control\", control = control) \n",
        "\n",
        "# Test all possible comparisons of samples\n",
        "#data_diff_all_contrasts <- test_diff(data_imp, type = \"all\")"
      ],
      "execution_count": 113,
      "outputs": [
        {
          "output_type": "stream",
          "name": "stderr",
          "text": [
            "R[write to console]: Tested contrasts: AS_vs_QW, ZX_vs_QW\n",
            "\n",
            "R[write to console]: Tested contrasts: QW_vs_AS, QW_vs_ZX, AS_vs_ZX\n",
            "\n"
          ]
        },
        {
          "output_type": "stream",
          "name": "stdout",
          "text": [
            "class: SummarizedExperiment \n",
            "dim: 2230 9 \n",
            "metadata(0):\n",
            "assays(1): ''\n",
            "rownames(2230): A0A0G2JTR4 A0A0G2JV04 ... Zw10 Zwint\n",
            "rowData names(119): name Protein.IDs ... QW_vs_ZX_p.adj QW_vs_ZX_p.val\n",
            "colnames(9): QW_1 QW_2 ... ZX_2 ZX_3\n",
            "colData names(4): label ID condition replicate\n"
          ]
        }
      ]
    },
    {
      "cell_type": "code",
      "metadata": {
        "id": "vF3U9huvfShV",
        "colab": {
          "base_uri": "https://localhost:8080/"
        },
        "outputId": "e2d07dca-9cf7-4548-8c42-856cff68e1ef"
      },
      "source": [
        "%%R\n",
        "# Denote significant proteins based on user defined cutoffs\n",
        "dep <- add_rejections(data_diff, alpha = 1, lfc = log2(1.5)) #alpha、lfc調整\n",
        "head(dep)\n",
        "typeof(dep)\n",
        "colnames(dep)"
      ],
      "execution_count": 98,
      "outputs": [
        {
          "output_type": "stream",
          "name": "stdout",
          "text": [
            "[1] \"QW_1\" \"QW_2\" \"QW_3\" \"AS_1\" \"AS_2\" \"AS_3\" \"ZX_1\" \"ZX_2\" \"ZX_3\"\n"
          ]
        }
      ]
    },
    {
      "cell_type": "markdown",
      "metadata": {
        "id": "ZxFYLeeQfZd8"
      },
      "source": [
        "#13 PCA plot   "
      ]
    },
    {
      "cell_type": "code",
      "metadata": {
        "id": "G_e1KkcJfXXe",
        "colab": {
          "base_uri": "https://localhost:8080/",
          "height": 0
        },
        "outputId": "af1ee46a-d4e1-4b00-e64c-cf704b9904e2"
      },
      "source": [
        "%%R\n",
        "pic13_1 <- plot_pca(dep, x = 1, y = 2, n = 500, point_size = 4)\n",
        "print(pic13_1)"
      ],
      "execution_count": 99,
      "outputs": [
        {
          "output_type": "display_data",
          "data": {
            "image/png": "[encoded data removed]"
          },
          "metadata": {}
        }
      ]
    },
    {
      "cell_type": "markdown",
      "metadata": {
        "id": "5qYCtZqyfea0"
      },
      "source": [
        "#14 Correlation matrix "
      ]
    },
    {
      "cell_type": "code",
      "metadata": {
        "id": "0CdyXXIHnxgo",
        "colab": {
          "base_uri": "https://localhost:8080/"
        },
        "outputId": "67b5a672-843c-4128-f53e-30ae2745592d"
      },
      "source": [
        "%%R\n",
        "colnames(dep)\n",
        "head(dep)\n"
      ],
      "execution_count": 100,
      "outputs": [
        {
          "output_type": "stream",
          "name": "stdout",
          "text": [
            "class: SummarizedExperiment \n",
            "dim: 6 9 \n",
            "metadata(0):\n",
            "assays(1): ''\n",
            "rownames(6): A0A0G2JTR4 A0A0G2JV04 ... Aacs Aagab\n",
            "rowData names(117): name Protein.IDs ... ZX_vs_QW_significant\n",
            "  significant\n",
            "colnames(9): QW_1 QW_2 ... ZX_2 ZX_3\n",
            "colData names(4): label ID condition replicate\n"
          ]
        }
      ]
    },
    {
      "cell_type": "code",
      "metadata": {
        "id": "OfG4hLAyfvaE",
        "colab": {
          "base_uri": "https://localhost:8080/",
          "height": 0
        },
        "outputId": "9b65931b-6a2d-4ffa-a31f-874b71ca95ee"
      },
      "source": [
        "%%R\n",
        "# Plot the Pearson correlation matrix\n",
        "pic14_1 <- plot_cor(dep, significant = FALSE, lower = 0.9, upper = 1, pal = \"Reds\")\n",
        "print(pic14_1)"
      ],
      "execution_count": 101,
      "outputs": [
        {
          "output_type": "display_data",
          "data": {
            "image/png": "[encoded data removed]"
          },
          "metadata": {}
        },
        {
          "output_type": "display_data",
          "data": {
            "image/png": "[encoded data removed]"
          },
          "metadata": {}
        }
      ]
    },
    {
      "cell_type": "markdown",
      "metadata": {
        "id": "FtpwADcDfejz"
      },
      "source": [
        "#15 Heatmap of all significant proteins"
      ]
    },
    {
      "cell_type": "code",
      "metadata": {
        "id": "xOTUgulsfzoN",
        "colab": {
          "base_uri": "https://localhost:8080/",
          "height": 0
        },
        "outputId": "d92e5e20-3dfc-4989-e16f-c8bfe63fc94a"
      },
      "source": [
        "%%R\n",
        "# Plot a heatmap of all significant proteins with the data centered per protein\n",
        "pic15_1 <- plot_heatmap(dep, type = \"centered\", kmeans = TRUE, \n",
        "             k = 6, col_limit = 4, show_row_names = FALSE,\n",
        "             indicate = c(\"condition\", \"replicate\"))\n",
        "print(pic15_1)"
      ],
      "execution_count": 102,
      "outputs": [
        {
          "output_type": "display_data",
          "data": {
            "image/png": "[encoded data removed]"
          },
          "metadata": {}
        },
        {
          "output_type": "display_data",
          "data": {
            "image/png": "[encoded data removed]"
          },
          "metadata": {}
        }
      ]
    },
    {
      "cell_type": "code",
      "metadata": {
        "id": "-iPFHZScf2sd",
        "colab": {
          "base_uri": "https://localhost:8080/",
          "height": 0
        },
        "outputId": "e352207f-4a3d-4467-e9c2-c842c0efdd1a"
      },
      "source": [
        "%%R\n",
        "# Plot a heatmap of all significant proteins (rows) and the tested contrasts (columns)\n",
        "pic15_2 <- plot_heatmap(dep, type = \"contrast\", kmeans = TRUE, \n",
        "             k = 6, col_limit = 10, show_row_names = FALSE)\n",
        "print(pic15_2)"
      ],
      "execution_count": 103,
      "outputs": [
        {
          "output_type": "display_data",
          "data": {
            "image/png": "[encoded data removed]"
          },
          "metadata": {}
        },
        {
          "output_type": "display_data",
          "data": {
            "image/png": "[encoded data removed]"
          },
          "metadata": {}
        }
      ]
    },
    {
      "cell_type": "markdown",
      "metadata": {
        "id": "Dkx3acvtfepU"
      },
      "source": [
        "#16 Volcano plots of specific cotrasts "
      ]
    },
    {
      "cell_type": "code",
      "source": [
        "def input_text1(placeholder):\n",
        "  text = widgets.Text(\n",
        "      value='',\n",
        "      description=placeholder,\n",
        "      disabled=False,\n",
        "      layout = widgets.Layout(height=\"30px\", width=\"35%\")\n",
        "  )\n",
        "  def on_text_change(change):\n",
        "    sample1 = text.value\n",
        "    #print(sample1)\n",
        "    r.assign(\"sample1\", sample1) #將檔案名稱python -> R\n",
        "\n",
        "  display(text)\n",
        "  text.observe(on_text_change, names=\"value\")\n",
        "  \n",
        "def input_text2(placeholder):\n",
        "  text = widgets.Text(\n",
        "      value='',\n",
        "      description=placeholder,\n",
        "      disabled=False,\n",
        "      layout = widgets.Layout(height=\"30px\", width=\"35%\")\n",
        "  )\n",
        "  def on_text_change(change):\n",
        "    sample2 = text.value\n",
        "    #print(sample2)\n",
        "    r.assign(\"sample2\", sample2) #將檔案名稱python -> R\n",
        "\n",
        "  display(text)\n",
        "  text.observe(on_text_change, names=\"value\")\n",
        "\n",
        "import pandas as pd\n",
        "\n",
        "input_text1(\"sample1:\")\n",
        "input_text2(\"sample2:\")"
      ],
      "metadata": {
        "colab": {
          "base_uri": "https://localhost:8080/",
          "height": 83,
          "referenced_widgets": [
            "772ba89c8f014ffbb81e65335ea790be",
            "f59358892b4a406aba470bf52ee13841",
            "a5b9e5dcf8284229accdb8c072331491",
            "8e3bf2c215e64f40bbd5dab3e8703673",
            "b4e3e73b2be649d09049bd9a31e52241",
            "38cd0212f424454999a82219997072d0"
          ]
        },
        "id": "R7aA3PCzdmSZ",
        "outputId": "b5d2371e-d003-4f5f-afd3-abed8d745242"
      },
      "execution_count": 104,
      "outputs": [
        {
          "output_type": "display_data",
          "data": {
            "application/vnd.jupyter.widget-view+json": {
              "model_id": "772ba89c8f014ffbb81e65335ea790be",
              "version_minor": 0,
              "version_major": 2
            },
            "text/plain": [
              "Text(value='', description='sample1:', layout=Layout(height='30px', width='35%'))"
            ]
          },
          "metadata": {}
        },
        {
          "output_type": "display_data",
          "data": {
            "application/vnd.jupyter.widget-view+json": {
              "model_id": "8e3bf2c215e64f40bbd5dab3e8703673",
              "version_minor": 0,
              "version_major": 2
            },
            "text/plain": [
              "Text(value='', description='sample2:', layout=Layout(height='30px', width='35%'))"
            ]
          },
          "metadata": {}
        }
      ]
    },
    {
      "cell_type": "code",
      "source": [
        "%%R\n",
        "contrastSample <- paste(sample1,\"_vs_\",sample2)\n",
        "typeof(contrastSample)"
      ],
      "metadata": {
        "colab": {
          "base_uri": "https://localhost:8080/"
        },
        "id": "WQaDlDLa5zLn",
        "outputId": "da9ec8db-3197-4829-8fbe-f71f932c2522"
      },
      "execution_count": 108,
      "outputs": [
        {
          "output_type": "stream",
          "name": "stdout",
          "text": [
            "[1] \"character\"\n"
          ]
        }
      ]
    },
    {
      "cell_type": "code",
      "metadata": {
        "id": "YpkwbZuIf5SV",
        "colab": {
          "base_uri": "https://localhost:8080/",
          "height": 1000
        },
        "outputId": "91f2f327-9238-4330-a536-15354332926e"
      },
      "source": [
        "%%R\n",
        "# Plot a volcano plot for the contrast \"Ubi6 vs Ctrl\"\"\n",
        "pic16_1 <- plot_volcano(dep, contrast = contrastSample, label_size = 2, add_names = TRUE) #變數\n",
        "print(pic16_1)"
      ],
      "execution_count": 107,
      "outputs": [
        {
          "output_type": "stream",
          "name": "stderr",
          "text": [
            "R[write to console]: Error: Not a valid contrast, please run `plot_volcano()` with a valid contrast as argument\n",
            "Valid contrasts are: 'AS_vs_QW', 'ZX_vs_QW'\n",
            "\n",
            "R[write to console]: In addition: \n",
            "R[write to console]: Warning messages:\n",
            "\n",
            "R[write to console]: 1: \n",
            "R[write to console]: In vsnSample(v) :\n",
            "R[write to console]: \n",
            " \n",
            "R[write to console]:  897 rows were removed since they contained only NA elements.\n",
            "\n",
            "R[write to console]: 2: \n",
            "R[write to console]: In vsnSample(v) :\n",
            "R[write to console]: \n",
            " \n",
            "R[write to console]:  897 rows were removed since they contained only NA elements.\n",
            "\n",
            "R[write to console]: 3: Removed 897 row(s) containing missing values (geom_path). \n",
            "\n",
            "R[write to console]: 4: \n",
            "R[write to console]: In knnimp(x, k, maxmiss = rowmax, maxp = maxp) :\n",
            "R[write to console]: \n",
            " \n",
            "R[write to console]:  897 rows with more than 90 % entries missing;\n",
            " mean imputation used for these rows\n",
            "\n",
            "R[write to console]: 5: Use of `pca_df[[indicate[1]]]` is discouraged. Use `.data[[indicate[1]]]` instead. \n",
            "\n",
            "R[write to console]: 6: Use of `pca_df[[indicate[2]]]` is discouraged. Use `.data[[indicate[2]]]` instead. \n",
            "\n"
          ]
        },
        {
          "output_type": "stream",
          "name": "stdout",
          "text": [
            "\n",
            "Error: Not a valid contrast, please run `plot_volcano()` with a valid contrast as argument\n",
            "Valid contrasts are: 'AS_vs_QW', 'ZX_vs_QW'\n"
          ]
        },
        {
          "output_type": "error",
          "ename": "RInterpreterError",
          "evalue": "ignored",
          "traceback": [
            "\u001b[0;31m---------------------------------------------------------------------------\u001b[0m",
            "\u001b[0;31mRRuntimeError\u001b[0m                             Traceback (most recent call last)",
            "\u001b[0;32m/usr/local/lib/python3.7/dist-packages/rpy2/ipython/rmagic.py\u001b[0m in \u001b[0;36meval\u001b[0;34m(self, code)\u001b[0m\n\u001b[1;32m    267\u001b[0m                 \u001b[0;31m# Need the newline in case the last line in code is a comment.\u001b[0m\u001b[0;34m\u001b[0m\u001b[0;34m\u001b[0m\u001b[0;34m\u001b[0m\u001b[0m\n\u001b[0;32m--> 268\u001b[0;31m                 \u001b[0mvalue\u001b[0m\u001b[0;34m,\u001b[0m \u001b[0mvisible\u001b[0m \u001b[0;34m=\u001b[0m \u001b[0mro\u001b[0m\u001b[0;34m.\u001b[0m\u001b[0mr\u001b[0m\u001b[0;34m(\u001b[0m\u001b[0;34m\"withVisible({%s\\n})\"\u001b[0m \u001b[0;34m%\u001b[0m \u001b[0mcode\u001b[0m\u001b[0;34m)\u001b[0m\u001b[0;34m\u001b[0m\u001b[0;34m\u001b[0m\u001b[0m\n\u001b[0m\u001b[1;32m    269\u001b[0m             \u001b[0;32mexcept\u001b[0m \u001b[0;34m(\u001b[0m\u001b[0mri\u001b[0m\u001b[0;34m.\u001b[0m\u001b[0membedded\u001b[0m\u001b[0;34m.\u001b[0m\u001b[0mRRuntimeError\u001b[0m\u001b[0;34m,\u001b[0m \u001b[0mValueError\u001b[0m\u001b[0;34m)\u001b[0m \u001b[0;32mas\u001b[0m \u001b[0mexception\u001b[0m\u001b[0;34m:\u001b[0m\u001b[0;34m\u001b[0m\u001b[0;34m\u001b[0m\u001b[0m\n",
            "\u001b[0;32m/usr/local/lib/python3.7/dist-packages/rpy2/robjects/__init__.py\u001b[0m in \u001b[0;36m__call__\u001b[0;34m(self, string)\u001b[0m\n\u001b[1;32m    437\u001b[0m         \u001b[0mp\u001b[0m \u001b[0;34m=\u001b[0m \u001b[0mrinterface\u001b[0m\u001b[0;34m.\u001b[0m\u001b[0mparse\u001b[0m\u001b[0;34m(\u001b[0m\u001b[0mstring\u001b[0m\u001b[0;34m)\u001b[0m\u001b[0;34m\u001b[0m\u001b[0;34m\u001b[0m\u001b[0m\n\u001b[0;32m--> 438\u001b[0;31m         \u001b[0mres\u001b[0m \u001b[0;34m=\u001b[0m \u001b[0mself\u001b[0m\u001b[0;34m.\u001b[0m\u001b[0meval\u001b[0m\u001b[0;34m(\u001b[0m\u001b[0mp\u001b[0m\u001b[0;34m)\u001b[0m\u001b[0;34m\u001b[0m\u001b[0;34m\u001b[0m\u001b[0m\n\u001b[0m\u001b[1;32m    439\u001b[0m         \u001b[0;32mreturn\u001b[0m \u001b[0mconversion\u001b[0m\u001b[0;34m.\u001b[0m\u001b[0mrpy2py\u001b[0m\u001b[0;34m(\u001b[0m\u001b[0mres\u001b[0m\u001b[0;34m)\u001b[0m\u001b[0;34m\u001b[0m\u001b[0;34m\u001b[0m\u001b[0m\n",
            "\u001b[0;32m/usr/local/lib/python3.7/dist-packages/rpy2/robjects/functions.py\u001b[0m in \u001b[0;36m__call__\u001b[0;34m(self, *args, **kwargs)\u001b[0m\n\u001b[1;32m    198\u001b[0m         return (super(SignatureTranslatedFunction, self)\n\u001b[0;32m--> 199\u001b[0;31m                 .__call__(*args, **kwargs))\n\u001b[0m\u001b[1;32m    200\u001b[0m \u001b[0;34m\u001b[0m\u001b[0m\n",
            "\u001b[0;32m/usr/local/lib/python3.7/dist-packages/rpy2/robjects/functions.py\u001b[0m in \u001b[0;36m__call__\u001b[0;34m(self, *args, **kwargs)\u001b[0m\n\u001b[1;32m    124\u001b[0m                 \u001b[0mnew_kwargs\u001b[0m\u001b[0;34m[\u001b[0m\u001b[0mk\u001b[0m\u001b[0;34m]\u001b[0m \u001b[0;34m=\u001b[0m \u001b[0mconversion\u001b[0m\u001b[0;34m.\u001b[0m\u001b[0mpy2rpy\u001b[0m\u001b[0;34m(\u001b[0m\u001b[0mv\u001b[0m\u001b[0;34m)\u001b[0m\u001b[0;34m\u001b[0m\u001b[0;34m\u001b[0m\u001b[0m\n\u001b[0;32m--> 125\u001b[0;31m         \u001b[0mres\u001b[0m \u001b[0;34m=\u001b[0m \u001b[0msuper\u001b[0m\u001b[0;34m(\u001b[0m\u001b[0mFunction\u001b[0m\u001b[0;34m,\u001b[0m \u001b[0mself\u001b[0m\u001b[0;34m)\u001b[0m\u001b[0;34m.\u001b[0m\u001b[0m__call__\u001b[0m\u001b[0;34m(\u001b[0m\u001b[0;34m*\u001b[0m\u001b[0mnew_args\u001b[0m\u001b[0;34m,\u001b[0m \u001b[0;34m**\u001b[0m\u001b[0mnew_kwargs\u001b[0m\u001b[0;34m)\u001b[0m\u001b[0;34m\u001b[0m\u001b[0;34m\u001b[0m\u001b[0m\n\u001b[0m\u001b[1;32m    126\u001b[0m         \u001b[0mres\u001b[0m \u001b[0;34m=\u001b[0m \u001b[0mconversion\u001b[0m\u001b[0;34m.\u001b[0m\u001b[0mrpy2py\u001b[0m\u001b[0;34m(\u001b[0m\u001b[0mres\u001b[0m\u001b[0;34m)\u001b[0m\u001b[0;34m\u001b[0m\u001b[0;34m\u001b[0m\u001b[0m\n",
            "\u001b[0;32m/usr/local/lib/python3.7/dist-packages/rpy2/rinterface_lib/conversion.py\u001b[0m in \u001b[0;36m_\u001b[0;34m(*args, **kwargs)\u001b[0m\n\u001b[1;32m     44\u001b[0m     \u001b[0;32mdef\u001b[0m \u001b[0m_\u001b[0m\u001b[0;34m(\u001b[0m\u001b[0;34m*\u001b[0m\u001b[0margs\u001b[0m\u001b[0;34m,\u001b[0m \u001b[0;34m**\u001b[0m\u001b[0mkwargs\u001b[0m\u001b[0;34m)\u001b[0m\u001b[0;34m:\u001b[0m\u001b[0;34m\u001b[0m\u001b[0;34m\u001b[0m\u001b[0m\n\u001b[0;32m---> 45\u001b[0;31m         \u001b[0mcdata\u001b[0m \u001b[0;34m=\u001b[0m \u001b[0mfunction\u001b[0m\u001b[0;34m(\u001b[0m\u001b[0;34m*\u001b[0m\u001b[0margs\u001b[0m\u001b[0;34m,\u001b[0m \u001b[0;34m**\u001b[0m\u001b[0mkwargs\u001b[0m\u001b[0;34m)\u001b[0m\u001b[0;34m\u001b[0m\u001b[0;34m\u001b[0m\u001b[0m\n\u001b[0m\u001b[1;32m     46\u001b[0m         \u001b[0;31m# TODO: test cdata is of the expected CType\u001b[0m\u001b[0;34m\u001b[0m\u001b[0;34m\u001b[0m\u001b[0;34m\u001b[0m\u001b[0m\n",
            "\u001b[0;32m/usr/local/lib/python3.7/dist-packages/rpy2/rinterface.py\u001b[0m in \u001b[0;36m__call__\u001b[0;34m(self, *args, **kwargs)\u001b[0m\n\u001b[1;32m    679\u001b[0m             \u001b[0;32mif\u001b[0m \u001b[0merror_occured\u001b[0m\u001b[0;34m[\u001b[0m\u001b[0;36m0\u001b[0m\u001b[0;34m]\u001b[0m\u001b[0;34m:\u001b[0m\u001b[0;34m\u001b[0m\u001b[0;34m\u001b[0m\u001b[0m\n\u001b[0;32m--> 680\u001b[0;31m                 \u001b[0;32mraise\u001b[0m \u001b[0membedded\u001b[0m\u001b[0;34m.\u001b[0m\u001b[0mRRuntimeError\u001b[0m\u001b[0;34m(\u001b[0m\u001b[0m_rinterface\u001b[0m\u001b[0;34m.\u001b[0m\u001b[0m_geterrmessage\u001b[0m\u001b[0;34m(\u001b[0m\u001b[0;34m)\u001b[0m\u001b[0;34m)\u001b[0m\u001b[0;34m\u001b[0m\u001b[0;34m\u001b[0m\u001b[0m\n\u001b[0m\u001b[1;32m    681\u001b[0m         \u001b[0;32mreturn\u001b[0m \u001b[0mres\u001b[0m\u001b[0;34m\u001b[0m\u001b[0;34m\u001b[0m\u001b[0m\n",
            "\u001b[0;31mRRuntimeError\u001b[0m: Error: Not a valid contrast, please run `plot_volcano()` with a valid contrast as argument\nValid contrasts are: 'AS_vs_QW', 'ZX_vs_QW'\n",
            "\nDuring handling of the above exception, another exception occurred:\n",
            "\u001b[0;31mRInterpreterError\u001b[0m                         Traceback (most recent call last)",
            "\u001b[0;32m<ipython-input-107-65e64bdce378>\u001b[0m in \u001b[0;36m<module>\u001b[0;34m()\u001b[0m\n\u001b[0;32m----> 1\u001b[0;31m \u001b[0mget_ipython\u001b[0m\u001b[0;34m(\u001b[0m\u001b[0;34m)\u001b[0m\u001b[0;34m.\u001b[0m\u001b[0mrun_cell_magic\u001b[0m\u001b[0;34m(\u001b[0m\u001b[0;34m'R'\u001b[0m\u001b[0;34m,\u001b[0m \u001b[0;34m''\u001b[0m\u001b[0;34m,\u001b[0m \u001b[0;34m'# Plot a volcano plot for the contrast \"Ubi6 vs Ctrl\"\"\\npic16_1 <- plot_volcano(dep, contrast = contrastSample, label_size = 2, add_names = TRUE) #變數\\nprint(pic16_1)'\u001b[0m\u001b[0;34m)\u001b[0m\u001b[0;34m\u001b[0m\u001b[0;34m\u001b[0m\u001b[0m\n\u001b[0m",
            "\u001b[0;32m/usr/local/lib/python3.7/dist-packages/IPython/core/interactiveshell.py\u001b[0m in \u001b[0;36mrun_cell_magic\u001b[0;34m(self, magic_name, line, cell)\u001b[0m\n\u001b[1;32m   2115\u001b[0m             \u001b[0mmagic_arg_s\u001b[0m \u001b[0;34m=\u001b[0m \u001b[0mself\u001b[0m\u001b[0;34m.\u001b[0m\u001b[0mvar_expand\u001b[0m\u001b[0;34m(\u001b[0m\u001b[0mline\u001b[0m\u001b[0;34m,\u001b[0m \u001b[0mstack_depth\u001b[0m\u001b[0;34m)\u001b[0m\u001b[0;34m\u001b[0m\u001b[0;34m\u001b[0m\u001b[0m\n\u001b[1;32m   2116\u001b[0m             \u001b[0;32mwith\u001b[0m \u001b[0mself\u001b[0m\u001b[0;34m.\u001b[0m\u001b[0mbuiltin_trap\u001b[0m\u001b[0;34m:\u001b[0m\u001b[0;34m\u001b[0m\u001b[0;34m\u001b[0m\u001b[0m\n\u001b[0;32m-> 2117\u001b[0;31m                 \u001b[0mresult\u001b[0m \u001b[0;34m=\u001b[0m \u001b[0mfn\u001b[0m\u001b[0;34m(\u001b[0m\u001b[0mmagic_arg_s\u001b[0m\u001b[0;34m,\u001b[0m \u001b[0mcell\u001b[0m\u001b[0;34m)\u001b[0m\u001b[0;34m\u001b[0m\u001b[0;34m\u001b[0m\u001b[0m\n\u001b[0m\u001b[1;32m   2118\u001b[0m             \u001b[0;32mreturn\u001b[0m \u001b[0mresult\u001b[0m\u001b[0;34m\u001b[0m\u001b[0;34m\u001b[0m\u001b[0m\n\u001b[1;32m   2119\u001b[0m \u001b[0;34m\u001b[0m\u001b[0m\n",
            "\u001b[0;32m<decorator-gen-119>\u001b[0m in \u001b[0;36mR\u001b[0;34m(self, line, cell, local_ns)\u001b[0m\n",
            "\u001b[0;32m/usr/local/lib/python3.7/dist-packages/IPython/core/magic.py\u001b[0m in \u001b[0;36m<lambda>\u001b[0;34m(f, *a, **k)\u001b[0m\n\u001b[1;32m    186\u001b[0m     \u001b[0;31m# but it's overkill for just that one bit of state.\u001b[0m\u001b[0;34m\u001b[0m\u001b[0;34m\u001b[0m\u001b[0;34m\u001b[0m\u001b[0m\n\u001b[1;32m    187\u001b[0m     \u001b[0;32mdef\u001b[0m \u001b[0mmagic_deco\u001b[0m\u001b[0;34m(\u001b[0m\u001b[0marg\u001b[0m\u001b[0;34m)\u001b[0m\u001b[0;34m:\u001b[0m\u001b[0;34m\u001b[0m\u001b[0;34m\u001b[0m\u001b[0m\n\u001b[0;32m--> 188\u001b[0;31m         \u001b[0mcall\u001b[0m \u001b[0;34m=\u001b[0m \u001b[0;32mlambda\u001b[0m \u001b[0mf\u001b[0m\u001b[0;34m,\u001b[0m \u001b[0;34m*\u001b[0m\u001b[0ma\u001b[0m\u001b[0;34m,\u001b[0m \u001b[0;34m**\u001b[0m\u001b[0mk\u001b[0m\u001b[0;34m:\u001b[0m \u001b[0mf\u001b[0m\u001b[0;34m(\u001b[0m\u001b[0;34m*\u001b[0m\u001b[0ma\u001b[0m\u001b[0;34m,\u001b[0m \u001b[0;34m**\u001b[0m\u001b[0mk\u001b[0m\u001b[0;34m)\u001b[0m\u001b[0;34m\u001b[0m\u001b[0;34m\u001b[0m\u001b[0m\n\u001b[0m\u001b[1;32m    189\u001b[0m \u001b[0;34m\u001b[0m\u001b[0m\n\u001b[1;32m    190\u001b[0m         \u001b[0;32mif\u001b[0m \u001b[0mcallable\u001b[0m\u001b[0;34m(\u001b[0m\u001b[0marg\u001b[0m\u001b[0;34m)\u001b[0m\u001b[0;34m:\u001b[0m\u001b[0;34m\u001b[0m\u001b[0;34m\u001b[0m\u001b[0m\n",
            "\u001b[0;32m/usr/local/lib/python3.7/dist-packages/rpy2/ipython/rmagic.py\u001b[0m in \u001b[0;36mR\u001b[0;34m(self, line, cell, local_ns)\u001b[0m\n\u001b[1;32m    781\u001b[0m             \u001b[0;32mif\u001b[0m \u001b[0;32mnot\u001b[0m \u001b[0me\u001b[0m\u001b[0;34m.\u001b[0m\u001b[0mstdout\u001b[0m\u001b[0;34m.\u001b[0m\u001b[0mendswith\u001b[0m\u001b[0;34m(\u001b[0m\u001b[0me\u001b[0m\u001b[0;34m.\u001b[0m\u001b[0merr\u001b[0m\u001b[0;34m)\u001b[0m\u001b[0;34m:\u001b[0m\u001b[0;34m\u001b[0m\u001b[0;34m\u001b[0m\u001b[0m\n\u001b[1;32m    782\u001b[0m                 \u001b[0mprint\u001b[0m\u001b[0;34m(\u001b[0m\u001b[0me\u001b[0m\u001b[0;34m.\u001b[0m\u001b[0merr\u001b[0m\u001b[0;34m)\u001b[0m\u001b[0;34m\u001b[0m\u001b[0;34m\u001b[0m\u001b[0m\n\u001b[0;32m--> 783\u001b[0;31m             \u001b[0;32mraise\u001b[0m \u001b[0me\u001b[0m\u001b[0;34m\u001b[0m\u001b[0;34m\u001b[0m\u001b[0m\n\u001b[0m\u001b[1;32m    784\u001b[0m         \u001b[0;32mfinally\u001b[0m\u001b[0;34m:\u001b[0m\u001b[0;34m\u001b[0m\u001b[0;34m\u001b[0m\u001b[0m\n\u001b[1;32m    785\u001b[0m             \u001b[0;32mif\u001b[0m \u001b[0mself\u001b[0m\u001b[0;34m.\u001b[0m\u001b[0mdevice\u001b[0m \u001b[0;32min\u001b[0m \u001b[0;34m[\u001b[0m\u001b[0;34m'png'\u001b[0m\u001b[0;34m,\u001b[0m \u001b[0;34m'svg'\u001b[0m\u001b[0;34m]\u001b[0m\u001b[0;34m:\u001b[0m\u001b[0;34m\u001b[0m\u001b[0;34m\u001b[0m\u001b[0m\n",
            "\u001b[0;32m/usr/local/lib/python3.7/dist-packages/rpy2/ipython/rmagic.py\u001b[0m in \u001b[0;36mR\u001b[0;34m(self, line, cell, local_ns)\u001b[0m\n\u001b[1;32m    761\u001b[0m                     \u001b[0mreturn_output\u001b[0m \u001b[0;34m=\u001b[0m \u001b[0;32mFalse\u001b[0m\u001b[0;34m\u001b[0m\u001b[0;34m\u001b[0m\u001b[0m\n\u001b[1;32m    762\u001b[0m             \u001b[0;32melse\u001b[0m\u001b[0;34m:\u001b[0m\u001b[0;34m\u001b[0m\u001b[0;34m\u001b[0m\u001b[0m\n\u001b[0;32m--> 763\u001b[0;31m                 \u001b[0mtext_result\u001b[0m\u001b[0;34m,\u001b[0m \u001b[0mresult\u001b[0m\u001b[0;34m,\u001b[0m \u001b[0mvisible\u001b[0m \u001b[0;34m=\u001b[0m \u001b[0mself\u001b[0m\u001b[0;34m.\u001b[0m\u001b[0meval\u001b[0m\u001b[0;34m(\u001b[0m\u001b[0mcode\u001b[0m\u001b[0;34m)\u001b[0m\u001b[0;34m\u001b[0m\u001b[0;34m\u001b[0m\u001b[0m\n\u001b[0m\u001b[1;32m    764\u001b[0m                 \u001b[0mtext_output\u001b[0m \u001b[0;34m+=\u001b[0m \u001b[0mtext_result\u001b[0m\u001b[0;34m\u001b[0m\u001b[0;34m\u001b[0m\u001b[0m\n\u001b[1;32m    765\u001b[0m                 \u001b[0;32mif\u001b[0m \u001b[0mvisible\u001b[0m\u001b[0;34m:\u001b[0m\u001b[0;34m\u001b[0m\u001b[0;34m\u001b[0m\u001b[0m\n",
            "\u001b[0;32m/usr/local/lib/python3.7/dist-packages/rpy2/ipython/rmagic.py\u001b[0m in \u001b[0;36meval\u001b[0;34m(self, code)\u001b[0m\n\u001b[1;32m    271\u001b[0m                 \u001b[0mwarning_or_other_msg\u001b[0m \u001b[0;34m=\u001b[0m \u001b[0mself\u001b[0m\u001b[0;34m.\u001b[0m\u001b[0mflush\u001b[0m\u001b[0;34m(\u001b[0m\u001b[0;34m)\u001b[0m\u001b[0;34m\u001b[0m\u001b[0;34m\u001b[0m\u001b[0m\n\u001b[1;32m    272\u001b[0m                 raise RInterpreterError(code, str(exception),\n\u001b[0;32m--> 273\u001b[0;31m                                         warning_or_other_msg)\n\u001b[0m\u001b[1;32m    274\u001b[0m             \u001b[0mtext_output\u001b[0m \u001b[0;34m=\u001b[0m \u001b[0mself\u001b[0m\u001b[0;34m.\u001b[0m\u001b[0mflush\u001b[0m\u001b[0;34m(\u001b[0m\u001b[0;34m)\u001b[0m\u001b[0;34m\u001b[0m\u001b[0;34m\u001b[0m\u001b[0m\n\u001b[1;32m    275\u001b[0m             \u001b[0;32mreturn\u001b[0m \u001b[0mtext_output\u001b[0m\u001b[0;34m,\u001b[0m \u001b[0mvalue\u001b[0m\u001b[0;34m,\u001b[0m \u001b[0mvisible\u001b[0m\u001b[0;34m[\u001b[0m\u001b[0;36m0\u001b[0m\u001b[0;34m]\u001b[0m\u001b[0;34m\u001b[0m\u001b[0;34m\u001b[0m\u001b[0m\n",
            "\u001b[0;31mRInterpreterError\u001b[0m: Failed to parse and evaluate line '# Plot a volcano plot for the contrast \"Ubi6 vs Ctrl\"\"\\npic16_1 <- plot_volcano(dep, contrast = contrastSample, label_size = 2, add_names = TRUE) #變數\\nprint(pic16_1)'.\nR error message: \"Error: Not a valid contrast, please run `plot_volcano()` with a valid contrast as argument\\nValid contrasts are: 'AS_vs_QW', 'ZX_vs_QW'\""
          ]
        }
      ]
    },
    {
      "cell_type": "markdown",
      "metadata": {
        "id": "cuISwCNrfesN"
      },
      "source": [
        "#17 Barplots of a protein of interest "
      ]
    },
    {
      "cell_type": "code",
      "metadata": {
        "id": "E1yWGUjdf70m",
        "colab": {
          "base_uri": "https://localhost:8080/",
          "height": 497
        },
        "outputId": "8fd1f0fe-2d5a-46d2-e0d7-0d0757dd016a"
      },
      "source": [
        "%%R\n",
        "# Plot a barplot for USP15 and IKBKG\n",
        "pic17_1 <- plot_single(dep, proteins = c(\"Rps16\", \"Eif2b4\"))  #Rps16 Eif2b4要給使用者輸入  #\tproteins: Character, The name(s) of the protein(s) to plot.\n",
        "print(pic17_1)                            #給使用輸幾個"
      ],
      "execution_count": null,
      "outputs": [
        {
          "output_type": "display_data",
          "data": {
            "image/png": "[encoded data removed]"
          },
          "metadata": {}
        }
      ]
    },
    {
      "cell_type": "code",
      "metadata": {
        "id": "4gCn4LcDf-yy",
        "colab": {
          "base_uri": "https://localhost:8080/",
          "height": 497
        },
        "outputId": "d383af33-fbbd-4723-eaa0-903f3a84e1c0"
      },
      "source": [
        "%%R\n",
        "# Plot a barplot for the protein USP15 with the data centered\n",
        "pic17_2 <- plot_single(dep, proteins = \"Eif2b4\", type = \"centered\") #要給使用者輸入\n",
        "print(pic17_2)"
      ],
      "execution_count": null,
      "outputs": [
        {
          "output_type": "display_data",
          "data": {
            "image/png": "[encoded data removed]"
          },
          "metadata": {}
        }
      ]
    },
    {
      "cell_type": "markdown",
      "metadata": {
        "id": "Sk4_ofgBfevb"
      },
      "source": [
        "#18 Frequency plot of significant proteins and overlap of conditions \n",
        "\n",
        "\n",
        "\n",
        " "
      ]
    },
    {
      "cell_type": "code",
      "metadata": {
        "id": "0gA4s5Y-gBEF",
        "colab": {
          "base_uri": "https://localhost:8080/",
          "height": 1000
        },
        "outputId": "dd559b3f-9a5d-47c1-db17-1d4320e7ad0a"
      },
      "source": [
        "%%R\n",
        "# Plot a frequency plot of significant proteins for the different conditions\n",
        "pic18_1 <- plot_cond(dep)\n",
        "print(pic18_1)"
      ],
      "execution_count": null,
      "outputs": [
        {
          "output_type": "stream",
          "name": "stderr",
          "text": [
            "R[write to console]: Error in apply(mat, 1, function(x) { : dim(X) must have a positive length\n",
            "\n",
            "R[write to console]: In addition: \n",
            "R[write to console]: Warning messages:\n",
            "\n",
            "R[write to console]: 1: \n",
            "R[write to console]: In vsnSample(v) :\n",
            "R[write to console]: \n",
            " \n",
            "R[write to console]:  69 rows were removed since they contained only NA elements.\n",
            "\n",
            "R[write to console]: 2: \n",
            "R[write to console]: In vsnSample(v) :\n",
            "R[write to console]: \n",
            " \n",
            "R[write to console]:  69 rows were removed since they contained only NA elements.\n",
            "\n",
            "R[write to console]: 3: Removed 69 row(s) containing missing values (geom_path). \n",
            "\n",
            "R[write to console]: 4: \n",
            "R[write to console]: In knnimp(x, k, maxmiss = rowmax, maxp = maxp) :\n",
            "R[write to console]: \n",
            " \n",
            "R[write to console]:  69 rows with more than 90 % entries missing;\n",
            " mean imputation used for these rows\n",
            "\n",
            "R[write to console]: 5: Use of `pca_df[[indicate[1]]]` is discouraged. Use `.data[[indicate[1]]]` instead. \n",
            "\n",
            "R[write to console]: 6: Use of `pca_df[[indicate[2]]]` is discouraged. Use `.data[[indicate[2]]]` instead. \n",
            "\n"
          ]
        },
        {
          "output_type": "stream",
          "name": "stdout",
          "text": [
            "\n",
            "Error in apply(mat, 1, function(x) { : dim(X) must have a positive length\n"
          ]
        },
        {
          "output_type": "error",
          "ename": "RInterpreterError",
          "evalue": "ignored",
          "traceback": [
            "\u001b[0;31m---------------------------------------------------------------------------\u001b[0m",
            "\u001b[0;31mRRuntimeError\u001b[0m                             Traceback (most recent call last)",
            "\u001b[0;32m/usr/local/lib/python3.7/dist-packages/rpy2/ipython/rmagic.py\u001b[0m in \u001b[0;36meval\u001b[0;34m(self, code)\u001b[0m\n\u001b[1;32m    267\u001b[0m                 \u001b[0;31m# Need the newline in case the last line in code is a comment.\u001b[0m\u001b[0;34m\u001b[0m\u001b[0;34m\u001b[0m\u001b[0;34m\u001b[0m\u001b[0m\n\u001b[0;32m--> 268\u001b[0;31m                 \u001b[0mvalue\u001b[0m\u001b[0;34m,\u001b[0m \u001b[0mvisible\u001b[0m \u001b[0;34m=\u001b[0m \u001b[0mro\u001b[0m\u001b[0;34m.\u001b[0m\u001b[0mr\u001b[0m\u001b[0;34m(\u001b[0m\u001b[0;34m\"withVisible({%s\\n})\"\u001b[0m \u001b[0;34m%\u001b[0m \u001b[0mcode\u001b[0m\u001b[0;34m)\u001b[0m\u001b[0;34m\u001b[0m\u001b[0;34m\u001b[0m\u001b[0m\n\u001b[0m\u001b[1;32m    269\u001b[0m             \u001b[0;32mexcept\u001b[0m \u001b[0;34m(\u001b[0m\u001b[0mri\u001b[0m\u001b[0;34m.\u001b[0m\u001b[0membedded\u001b[0m\u001b[0;34m.\u001b[0m\u001b[0mRRuntimeError\u001b[0m\u001b[0;34m,\u001b[0m \u001b[0mValueError\u001b[0m\u001b[0;34m)\u001b[0m \u001b[0;32mas\u001b[0m \u001b[0mexception\u001b[0m\u001b[0;34m:\u001b[0m\u001b[0;34m\u001b[0m\u001b[0;34m\u001b[0m\u001b[0m\n",
            "\u001b[0;32m/usr/local/lib/python3.7/dist-packages/rpy2/robjects/__init__.py\u001b[0m in \u001b[0;36m__call__\u001b[0;34m(self, string)\u001b[0m\n\u001b[1;32m    437\u001b[0m         \u001b[0mp\u001b[0m \u001b[0;34m=\u001b[0m \u001b[0mrinterface\u001b[0m\u001b[0;34m.\u001b[0m\u001b[0mparse\u001b[0m\u001b[0;34m(\u001b[0m\u001b[0mstring\u001b[0m\u001b[0;34m)\u001b[0m\u001b[0;34m\u001b[0m\u001b[0;34m\u001b[0m\u001b[0m\n\u001b[0;32m--> 438\u001b[0;31m         \u001b[0mres\u001b[0m \u001b[0;34m=\u001b[0m \u001b[0mself\u001b[0m\u001b[0;34m.\u001b[0m\u001b[0meval\u001b[0m\u001b[0;34m(\u001b[0m\u001b[0mp\u001b[0m\u001b[0;34m)\u001b[0m\u001b[0;34m\u001b[0m\u001b[0;34m\u001b[0m\u001b[0m\n\u001b[0m\u001b[1;32m    439\u001b[0m         \u001b[0;32mreturn\u001b[0m \u001b[0mconversion\u001b[0m\u001b[0;34m.\u001b[0m\u001b[0mrpy2py\u001b[0m\u001b[0;34m(\u001b[0m\u001b[0mres\u001b[0m\u001b[0;34m)\u001b[0m\u001b[0;34m\u001b[0m\u001b[0;34m\u001b[0m\u001b[0m\n",
            "\u001b[0;32m/usr/local/lib/python3.7/dist-packages/rpy2/robjects/functions.py\u001b[0m in \u001b[0;36m__call__\u001b[0;34m(self, *args, **kwargs)\u001b[0m\n\u001b[1;32m    198\u001b[0m         return (super(SignatureTranslatedFunction, self)\n\u001b[0;32m--> 199\u001b[0;31m                 .__call__(*args, **kwargs))\n\u001b[0m\u001b[1;32m    200\u001b[0m \u001b[0;34m\u001b[0m\u001b[0m\n",
            "\u001b[0;32m/usr/local/lib/python3.7/dist-packages/rpy2/robjects/functions.py\u001b[0m in \u001b[0;36m__call__\u001b[0;34m(self, *args, **kwargs)\u001b[0m\n\u001b[1;32m    124\u001b[0m                 \u001b[0mnew_kwargs\u001b[0m\u001b[0;34m[\u001b[0m\u001b[0mk\u001b[0m\u001b[0;34m]\u001b[0m \u001b[0;34m=\u001b[0m \u001b[0mconversion\u001b[0m\u001b[0;34m.\u001b[0m\u001b[0mpy2rpy\u001b[0m\u001b[0;34m(\u001b[0m\u001b[0mv\u001b[0m\u001b[0;34m)\u001b[0m\u001b[0;34m\u001b[0m\u001b[0;34m\u001b[0m\u001b[0m\n\u001b[0;32m--> 125\u001b[0;31m         \u001b[0mres\u001b[0m \u001b[0;34m=\u001b[0m \u001b[0msuper\u001b[0m\u001b[0;34m(\u001b[0m\u001b[0mFunction\u001b[0m\u001b[0;34m,\u001b[0m \u001b[0mself\u001b[0m\u001b[0;34m)\u001b[0m\u001b[0;34m.\u001b[0m\u001b[0m__call__\u001b[0m\u001b[0;34m(\u001b[0m\u001b[0;34m*\u001b[0m\u001b[0mnew_args\u001b[0m\u001b[0;34m,\u001b[0m \u001b[0;34m**\u001b[0m\u001b[0mnew_kwargs\u001b[0m\u001b[0;34m)\u001b[0m\u001b[0;34m\u001b[0m\u001b[0;34m\u001b[0m\u001b[0m\n\u001b[0m\u001b[1;32m    126\u001b[0m         \u001b[0mres\u001b[0m \u001b[0;34m=\u001b[0m \u001b[0mconversion\u001b[0m\u001b[0;34m.\u001b[0m\u001b[0mrpy2py\u001b[0m\u001b[0;34m(\u001b[0m\u001b[0mres\u001b[0m\u001b[0;34m)\u001b[0m\u001b[0;34m\u001b[0m\u001b[0;34m\u001b[0m\u001b[0m\n",
            "\u001b[0;32m/usr/local/lib/python3.7/dist-packages/rpy2/rinterface_lib/conversion.py\u001b[0m in \u001b[0;36m_\u001b[0;34m(*args, **kwargs)\u001b[0m\n\u001b[1;32m     44\u001b[0m     \u001b[0;32mdef\u001b[0m \u001b[0m_\u001b[0m\u001b[0;34m(\u001b[0m\u001b[0;34m*\u001b[0m\u001b[0margs\u001b[0m\u001b[0;34m,\u001b[0m \u001b[0;34m**\u001b[0m\u001b[0mkwargs\u001b[0m\u001b[0;34m)\u001b[0m\u001b[0;34m:\u001b[0m\u001b[0;34m\u001b[0m\u001b[0;34m\u001b[0m\u001b[0m\n\u001b[0;32m---> 45\u001b[0;31m         \u001b[0mcdata\u001b[0m \u001b[0;34m=\u001b[0m \u001b[0mfunction\u001b[0m\u001b[0;34m(\u001b[0m\u001b[0;34m*\u001b[0m\u001b[0margs\u001b[0m\u001b[0;34m,\u001b[0m \u001b[0;34m**\u001b[0m\u001b[0mkwargs\u001b[0m\u001b[0;34m)\u001b[0m\u001b[0;34m\u001b[0m\u001b[0;34m\u001b[0m\u001b[0m\n\u001b[0m\u001b[1;32m     46\u001b[0m         \u001b[0;31m# TODO: test cdata is of the expected CType\u001b[0m\u001b[0;34m\u001b[0m\u001b[0;34m\u001b[0m\u001b[0;34m\u001b[0m\u001b[0m\n",
            "\u001b[0;32m/usr/local/lib/python3.7/dist-packages/rpy2/rinterface.py\u001b[0m in \u001b[0;36m__call__\u001b[0;34m(self, *args, **kwargs)\u001b[0m\n\u001b[1;32m    679\u001b[0m             \u001b[0;32mif\u001b[0m \u001b[0merror_occured\u001b[0m\u001b[0;34m[\u001b[0m\u001b[0;36m0\u001b[0m\u001b[0;34m]\u001b[0m\u001b[0;34m:\u001b[0m\u001b[0;34m\u001b[0m\u001b[0;34m\u001b[0m\u001b[0m\n\u001b[0;32m--> 680\u001b[0;31m                 \u001b[0;32mraise\u001b[0m \u001b[0membedded\u001b[0m\u001b[0;34m.\u001b[0m\u001b[0mRRuntimeError\u001b[0m\u001b[0;34m(\u001b[0m\u001b[0m_rinterface\u001b[0m\u001b[0;34m.\u001b[0m\u001b[0m_geterrmessage\u001b[0m\u001b[0;34m(\u001b[0m\u001b[0;34m)\u001b[0m\u001b[0;34m)\u001b[0m\u001b[0;34m\u001b[0m\u001b[0;34m\u001b[0m\u001b[0m\n\u001b[0m\u001b[1;32m    681\u001b[0m         \u001b[0;32mreturn\u001b[0m \u001b[0mres\u001b[0m\u001b[0;34m\u001b[0m\u001b[0;34m\u001b[0m\u001b[0m\n",
            "\u001b[0;31mRRuntimeError\u001b[0m: Error in apply(mat, 1, function(x) { : dim(X) must have a positive length\n",
            "\nDuring handling of the above exception, another exception occurred:\n",
            "\u001b[0;31mRInterpreterError\u001b[0m                         Traceback (most recent call last)",
            "\u001b[0;32m<ipython-input-36-831bc568d163>\u001b[0m in \u001b[0;36m<module>\u001b[0;34m()\u001b[0m\n\u001b[0;32m----> 1\u001b[0;31m \u001b[0mget_ipython\u001b[0m\u001b[0;34m(\u001b[0m\u001b[0;34m)\u001b[0m\u001b[0;34m.\u001b[0m\u001b[0mrun_cell_magic\u001b[0m\u001b[0;34m(\u001b[0m\u001b[0;34m'R'\u001b[0m\u001b[0;34m,\u001b[0m \u001b[0;34m''\u001b[0m\u001b[0;34m,\u001b[0m \u001b[0;34m'# Plot a frequency plot of significant proteins for the different conditions\\npic18_1 <- plot_cond(dep)\\nprint(pic18_1)'\u001b[0m\u001b[0;34m)\u001b[0m\u001b[0;34m\u001b[0m\u001b[0;34m\u001b[0m\u001b[0m\n\u001b[0m",
            "\u001b[0;32m/usr/local/lib/python3.7/dist-packages/IPython/core/interactiveshell.py\u001b[0m in \u001b[0;36mrun_cell_magic\u001b[0;34m(self, magic_name, line, cell)\u001b[0m\n\u001b[1;32m   2115\u001b[0m             \u001b[0mmagic_arg_s\u001b[0m \u001b[0;34m=\u001b[0m \u001b[0mself\u001b[0m\u001b[0;34m.\u001b[0m\u001b[0mvar_expand\u001b[0m\u001b[0;34m(\u001b[0m\u001b[0mline\u001b[0m\u001b[0;34m,\u001b[0m \u001b[0mstack_depth\u001b[0m\u001b[0;34m)\u001b[0m\u001b[0;34m\u001b[0m\u001b[0;34m\u001b[0m\u001b[0m\n\u001b[1;32m   2116\u001b[0m             \u001b[0;32mwith\u001b[0m \u001b[0mself\u001b[0m\u001b[0;34m.\u001b[0m\u001b[0mbuiltin_trap\u001b[0m\u001b[0;34m:\u001b[0m\u001b[0;34m\u001b[0m\u001b[0;34m\u001b[0m\u001b[0m\n\u001b[0;32m-> 2117\u001b[0;31m                 \u001b[0mresult\u001b[0m \u001b[0;34m=\u001b[0m \u001b[0mfn\u001b[0m\u001b[0;34m(\u001b[0m\u001b[0mmagic_arg_s\u001b[0m\u001b[0;34m,\u001b[0m \u001b[0mcell\u001b[0m\u001b[0;34m)\u001b[0m\u001b[0;34m\u001b[0m\u001b[0;34m\u001b[0m\u001b[0m\n\u001b[0m\u001b[1;32m   2118\u001b[0m             \u001b[0;32mreturn\u001b[0m \u001b[0mresult\u001b[0m\u001b[0;34m\u001b[0m\u001b[0;34m\u001b[0m\u001b[0m\n\u001b[1;32m   2119\u001b[0m \u001b[0;34m\u001b[0m\u001b[0m\n",
            "\u001b[0;32m<decorator-gen-119>\u001b[0m in \u001b[0;36mR\u001b[0;34m(self, line, cell, local_ns)\u001b[0m\n",
            "\u001b[0;32m/usr/local/lib/python3.7/dist-packages/IPython/core/magic.py\u001b[0m in \u001b[0;36m<lambda>\u001b[0;34m(f, *a, **k)\u001b[0m\n\u001b[1;32m    186\u001b[0m     \u001b[0;31m# but it's overkill for just that one bit of state.\u001b[0m\u001b[0;34m\u001b[0m\u001b[0;34m\u001b[0m\u001b[0;34m\u001b[0m\u001b[0m\n\u001b[1;32m    187\u001b[0m     \u001b[0;32mdef\u001b[0m \u001b[0mmagic_deco\u001b[0m\u001b[0;34m(\u001b[0m\u001b[0marg\u001b[0m\u001b[0;34m)\u001b[0m\u001b[0;34m:\u001b[0m\u001b[0;34m\u001b[0m\u001b[0;34m\u001b[0m\u001b[0m\n\u001b[0;32m--> 188\u001b[0;31m         \u001b[0mcall\u001b[0m \u001b[0;34m=\u001b[0m \u001b[0;32mlambda\u001b[0m \u001b[0mf\u001b[0m\u001b[0;34m,\u001b[0m \u001b[0;34m*\u001b[0m\u001b[0ma\u001b[0m\u001b[0;34m,\u001b[0m \u001b[0;34m**\u001b[0m\u001b[0mk\u001b[0m\u001b[0;34m:\u001b[0m \u001b[0mf\u001b[0m\u001b[0;34m(\u001b[0m\u001b[0;34m*\u001b[0m\u001b[0ma\u001b[0m\u001b[0;34m,\u001b[0m \u001b[0;34m**\u001b[0m\u001b[0mk\u001b[0m\u001b[0;34m)\u001b[0m\u001b[0;34m\u001b[0m\u001b[0;34m\u001b[0m\u001b[0m\n\u001b[0m\u001b[1;32m    189\u001b[0m \u001b[0;34m\u001b[0m\u001b[0m\n\u001b[1;32m    190\u001b[0m         \u001b[0;32mif\u001b[0m \u001b[0mcallable\u001b[0m\u001b[0;34m(\u001b[0m\u001b[0marg\u001b[0m\u001b[0;34m)\u001b[0m\u001b[0;34m:\u001b[0m\u001b[0;34m\u001b[0m\u001b[0;34m\u001b[0m\u001b[0m\n",
            "\u001b[0;32m/usr/local/lib/python3.7/dist-packages/rpy2/ipython/rmagic.py\u001b[0m in \u001b[0;36mR\u001b[0;34m(self, line, cell, local_ns)\u001b[0m\n\u001b[1;32m    781\u001b[0m             \u001b[0;32mif\u001b[0m \u001b[0;32mnot\u001b[0m \u001b[0me\u001b[0m\u001b[0;34m.\u001b[0m\u001b[0mstdout\u001b[0m\u001b[0;34m.\u001b[0m\u001b[0mendswith\u001b[0m\u001b[0;34m(\u001b[0m\u001b[0me\u001b[0m\u001b[0;34m.\u001b[0m\u001b[0merr\u001b[0m\u001b[0;34m)\u001b[0m\u001b[0;34m:\u001b[0m\u001b[0;34m\u001b[0m\u001b[0;34m\u001b[0m\u001b[0m\n\u001b[1;32m    782\u001b[0m                 \u001b[0mprint\u001b[0m\u001b[0;34m(\u001b[0m\u001b[0me\u001b[0m\u001b[0;34m.\u001b[0m\u001b[0merr\u001b[0m\u001b[0;34m)\u001b[0m\u001b[0;34m\u001b[0m\u001b[0;34m\u001b[0m\u001b[0m\n\u001b[0;32m--> 783\u001b[0;31m             \u001b[0;32mraise\u001b[0m \u001b[0me\u001b[0m\u001b[0;34m\u001b[0m\u001b[0;34m\u001b[0m\u001b[0m\n\u001b[0m\u001b[1;32m    784\u001b[0m         \u001b[0;32mfinally\u001b[0m\u001b[0;34m:\u001b[0m\u001b[0;34m\u001b[0m\u001b[0;34m\u001b[0m\u001b[0m\n\u001b[1;32m    785\u001b[0m             \u001b[0;32mif\u001b[0m \u001b[0mself\u001b[0m\u001b[0;34m.\u001b[0m\u001b[0mdevice\u001b[0m \u001b[0;32min\u001b[0m \u001b[0;34m[\u001b[0m\u001b[0;34m'png'\u001b[0m\u001b[0;34m,\u001b[0m \u001b[0;34m'svg'\u001b[0m\u001b[0;34m]\u001b[0m\u001b[0;34m:\u001b[0m\u001b[0;34m\u001b[0m\u001b[0;34m\u001b[0m\u001b[0m\n",
            "\u001b[0;32m/usr/local/lib/python3.7/dist-packages/rpy2/ipython/rmagic.py\u001b[0m in \u001b[0;36mR\u001b[0;34m(self, line, cell, local_ns)\u001b[0m\n\u001b[1;32m    761\u001b[0m                     \u001b[0mreturn_output\u001b[0m \u001b[0;34m=\u001b[0m \u001b[0;32mFalse\u001b[0m\u001b[0;34m\u001b[0m\u001b[0;34m\u001b[0m\u001b[0m\n\u001b[1;32m    762\u001b[0m             \u001b[0;32melse\u001b[0m\u001b[0;34m:\u001b[0m\u001b[0;34m\u001b[0m\u001b[0;34m\u001b[0m\u001b[0m\n\u001b[0;32m--> 763\u001b[0;31m                 \u001b[0mtext_result\u001b[0m\u001b[0;34m,\u001b[0m \u001b[0mresult\u001b[0m\u001b[0;34m,\u001b[0m \u001b[0mvisible\u001b[0m \u001b[0;34m=\u001b[0m \u001b[0mself\u001b[0m\u001b[0;34m.\u001b[0m\u001b[0meval\u001b[0m\u001b[0;34m(\u001b[0m\u001b[0mcode\u001b[0m\u001b[0;34m)\u001b[0m\u001b[0;34m\u001b[0m\u001b[0;34m\u001b[0m\u001b[0m\n\u001b[0m\u001b[1;32m    764\u001b[0m                 \u001b[0mtext_output\u001b[0m \u001b[0;34m+=\u001b[0m \u001b[0mtext_result\u001b[0m\u001b[0;34m\u001b[0m\u001b[0;34m\u001b[0m\u001b[0m\n\u001b[1;32m    765\u001b[0m                 \u001b[0;32mif\u001b[0m \u001b[0mvisible\u001b[0m\u001b[0;34m:\u001b[0m\u001b[0;34m\u001b[0m\u001b[0;34m\u001b[0m\u001b[0m\n",
            "\u001b[0;32m/usr/local/lib/python3.7/dist-packages/rpy2/ipython/rmagic.py\u001b[0m in \u001b[0;36meval\u001b[0;34m(self, code)\u001b[0m\n\u001b[1;32m    271\u001b[0m                 \u001b[0mwarning_or_other_msg\u001b[0m \u001b[0;34m=\u001b[0m \u001b[0mself\u001b[0m\u001b[0;34m.\u001b[0m\u001b[0mflush\u001b[0m\u001b[0;34m(\u001b[0m\u001b[0;34m)\u001b[0m\u001b[0;34m\u001b[0m\u001b[0;34m\u001b[0m\u001b[0m\n\u001b[1;32m    272\u001b[0m                 raise RInterpreterError(code, str(exception),\n\u001b[0;32m--> 273\u001b[0;31m                                         warning_or_other_msg)\n\u001b[0m\u001b[1;32m    274\u001b[0m             \u001b[0mtext_output\u001b[0m \u001b[0;34m=\u001b[0m \u001b[0mself\u001b[0m\u001b[0;34m.\u001b[0m\u001b[0mflush\u001b[0m\u001b[0;34m(\u001b[0m\u001b[0;34m)\u001b[0m\u001b[0;34m\u001b[0m\u001b[0;34m\u001b[0m\u001b[0m\n\u001b[1;32m    275\u001b[0m             \u001b[0;32mreturn\u001b[0m \u001b[0mtext_output\u001b[0m\u001b[0;34m,\u001b[0m \u001b[0mvalue\u001b[0m\u001b[0;34m,\u001b[0m \u001b[0mvisible\u001b[0m\u001b[0;34m[\u001b[0m\u001b[0;36m0\u001b[0m\u001b[0;34m]\u001b[0m\u001b[0;34m\u001b[0m\u001b[0;34m\u001b[0m\u001b[0m\n",
            "\u001b[0;31mRInterpreterError\u001b[0m: Failed to parse and evaluate line '# Plot a frequency plot of significant proteins for the different conditions\\npic18_1 <- plot_cond(dep)\\nprint(pic18_1)'.\nR error message: 'Error in apply(mat, 1, function(x) { : dim(X) must have a positive length'"
          ]
        }
      ]
    },
    {
      "cell_type": "code",
      "metadata": {
        "id": "4juTMMWCxfN8"
      },
      "source": [
        "%%R\n",
        "# Generate a results table\n",
        "data_results <- get_results(dep)\n",
        "\n",
        "# Number of significant proteins\n",
        "data_results %>% filter(significant) %>% nrow()"
      ],
      "execution_count": null,
      "outputs": []
    },
    {
      "cell_type": "code",
      "metadata": {
        "id": "QZANuzF4xjEs"
      },
      "source": [
        "%%R\n",
        "# Column names of the results table\n",
        "colnames(data_results)"
      ],
      "execution_count": null,
      "outputs": []
    },
    {
      "cell_type": "code",
      "metadata": {
        "id": "KIWf3Jzk0xt8"
      },
      "source": [
        "%%R\n",
        "write.csv(data_results,\"dep_output.csv\", row.names = FALSE, quote=F)"
      ],
      "execution_count": null,
      "outputs": []
    },
    {
      "cell_type": "markdown",
      "metadata": {
        "id": "0u4fkLU4feyV"
      },
      "source": [
        "#19 LFQ-based DEP analysis (不確定) "
      ]
    },
    {
      "cell_type": "code",
      "metadata": {
        "id": "vg4VrFKogZB2"
      },
      "source": [
        "%%R\n",
        "# The data is provided with the package \n",
        "data <- read.csv('/content/proteinGroups_mouse_LA.txt', header=TRUE , sep=\"\\t\",fileEncoding =\"UTF-8\")\n",
        "experimental_design <- read.csv('/content/drive/MyDrive/Colab_Notebooks/exp_design_LA.csv',header=TRUE ,fileEncoding =\"UTF-8\")\n",
        "\n",
        "\n",
        "# The wrapper function performs the full analysis\n",
        "data_results <- LFQ( data, experimental_design, fun = \"MinProb\", \n",
        "            type = \"control\", control = \"LA\", \n",
        "            #filter = c(\"significant\"),\n",
        "            name=\"Gene.names\", ids= \"Protein.IDs\", alpha = 0.05, lfc = 1)"
      ],
      "execution_count": null,
      "outputs": []
    },
    {
      "cell_type": "code",
      "metadata": {
        "id": "eKkIJi5iggqS"
      },
      "source": [
        "%%R\n",
        "# See all objects saved within the results object\n",
        "names(data_results)"
      ],
      "execution_count": null,
      "outputs": []
    },
    {
      "cell_type": "code",
      "metadata": {
        "id": "Y8ZpEMpJglqZ"
      },
      "source": [
        "%%R\n",
        "# Extract the results table\n",
        "results_table <- data_results$results\n",
        "\n",
        "# Number of significant proteins\n",
        "results_table %>% filter(significant) %>% nrow()"
      ],
      "execution_count": null,
      "outputs": []
    },
    {
      "cell_type": "code",
      "metadata": {
        "id": "EhQ0nsFGgFgm"
      },
      "source": [
        "%%R\n",
        "# Extract the sign object\n",
        "full_data <- data_results$dep\n",
        "\n",
        "# Use the full data to generate a heatmap\n",
        "pic19_1 <- plot_heatmap(full_data, type = \"contrast\", kmeans = TRUE, \n",
        "             k = 6, col_limit = 4, show_row_names = FALSE)\n",
        "print(pic19_1)"
      ],
      "execution_count": null,
      "outputs": []
    },
    {
      "cell_type": "markdown",
      "metadata": {
        "id": "z3E0uLMZeT4m"
      },
      "source": [
        "#DEP data"
      ]
    },
    {
      "cell_type": "code",
      "metadata": {
        "id": "hR1r2r092cfj"
      },
      "source": [
        "#上傳檔案到colab\n",
        "from google.colab import files\n",
        "from rpy2.robjects import r\n",
        "import rpy2.robjects as robjects\n",
        "\n",
        "file=files.upload()\n",
        "\n",
        "if (file):\n",
        "  filename = next(iter(file))\n",
        "  if (filename.count(\".txt\") | filename.count(\".csv\")):  \n",
        "    r = robjects.r\n",
        "    r.assign('filename', filename) #將檔案名稱python -> R\n",
        "  else :\n",
        "    print(\"請再次執行此儲存格，並選擇.csv或.txt檔\")\n",
        "#else if ()\n",
        "else:\n",
        "  print(\"請再次執行此儲存格，並選擇一個檔案\")"
      ],
      "execution_count": null,
      "outputs": []
    },
    {
      "cell_type": "code",
      "metadata": {
        "id": "R55oVh9fQ7uU"
      },
      "source": [
        "%%R\n",
        "# Loading a package required for data handling\n",
        "library(\"dplyr\")\n",
        "library(stringr)\n",
        "\n",
        "# The data is provided with the package\n",
        "file_type <- str_extract_all(filename,'\\\\b(.txt|.csv)\\\\b') #確認檔案為csv還是txt\n",
        "if (file_type == \".csv\"){\n",
        "  data <- read.csv(file = filename, header=TRUE  ,fileEncoding =\"UTF-8\")  \n",
        "}\n",
        "else {\n",
        "   data <- read.csv(file = filename, header=TRUE ,sep=\"\\t\" ,fileEncoding =\"UTF-8\") \n",
        "}\n",
        "\n",
        "cat(\"file's row * column =\", dim(data), \"\\n\")\n",
        "cat(\"**colnames: \\n\")\n",
        "print(colnames(data))\n",
        "#print(head(data[,'Reporter.intensity.count.1']))\n",
        "#data$Reporter.intensity.count.[1:10] = 2^data$Reporter.intensity.count.[1:10]\n",
        "#data$Reporter.intensity.count[1-10] = 2^data$Reporter.intensity.count[1-10]\n",
        "\n",
        "\n",
        "\n",
        "if ( \"Reverse\" %in% names(data) ){\n",
        "  data <- filter(data, Reverse != \"+\")  \n",
        "}\n",
        "if ( \"Potential.contaminant\" %in% names(data) ){\n",
        "  data <- filter(data, Potential.contaminant != \"+\") \n",
        "}\n",
        "# We filter for contaminant proteins and decoy database hits, which are indicated by \"+\" in the columns \"Potential.contaminants\" and \"Reverse\", respectively. \n",
        "\n",
        "print(head(data))"
      ],
      "execution_count": null,
      "outputs": []
    },
    {
      "cell_type": "code",
      "metadata": {
        "id": "s6j4h2VJDGsi"
      },
      "source": [
        "%%R\n",
        "# Are there any duplicated gene names?\n",
        "cat('Are there any duplicated gene names? ', data$Gene.names %>% duplicated() %>% any(), \"\\n\")\n",
        "\n",
        "if ( data$Gene.names %>% duplicated() %>% any() ){\n",
        "   # Make a table of duplicated gene names\n",
        "  print(data %>% group_by(Gene.names) %>% summarize(frequency = n()) %>% \n",
        "    arrange(desc(frequency)) %>% filter(frequency > 1))\n",
        "  \n",
        "  \n",
        "}\n",
        "# Make unique names using the annotation in the \"Gene.names\" column as primary names and the annotation in \"Protein.IDs\" as name for those that do not have an gene name.\n",
        "data_unique <- make_unique(data, \"Gene.names\", \"Protein.IDs\", delim = \";\")\n"
      ],
      "execution_count": null,
      "outputs": []
    },
    {
      "cell_type": "code",
      "metadata": {
        "id": "Lh3RrH-TCPvo"
      },
      "source": [
        "%%R\n",
        "# Generate a SummarizedExperiment object using an experimental design\n",
        "LFQ_columns <- grep(\"Reporter.intensity.corrected.\", colnames(data_unique)) # get LFQ column numbers\n",
        "\n",
        "#experimental_design <- UbiLength_ExpDesign\n",
        "experimental_design <- read.csv('/content/drive/MyDrive/Colab_Notebooks/exp_design_LA.csv',header=TRUE ,fileEncoding =\"UTF-8\")\n",
        "experimental_design$label = gsub(\" \", \".\", experimental_design$label)\n",
        "\n",
        "data_se <- make_se(data_unique, LFQ_columns, experimental_design)\n",
        "# Generate a SummarizedExperiment object by parsing condition information from the column names\n",
        "LFQ_columns <- grep(\"Reporter.intensity.corrected.\", colnames(data_unique)) # get LFQ column numbers\n",
        "data_se_parsed <- make_se_parse(data_unique, LFQ_columns)\n",
        "\n",
        "# Let's have a look at the SummarizedExperiment object\n",
        "data_se"
      ],
      "execution_count": null,
      "outputs": []
    },
    {
      "cell_type": "code",
      "metadata": {
        "id": "aekHS3OAZFts"
      },
      "source": [
        "%%R\n",
        "plot_frequency(data_se, plot= FALSE)"
      ],
      "execution_count": null,
      "outputs": []
    },
    {
      "cell_type": "code",
      "metadata": {
        "id": "-5vdkchoRH90"
      },
      "source": [
        "%%R\n",
        "# Plot a barplot of the protein identification overlap between samples\n",
        "pic10_1 <- plot_frequency(data_se, plot= TRUE)\n",
        "print(pic10_1)"
      ],
      "execution_count": null,
      "outputs": []
    },
    {
      "cell_type": "code",
      "metadata": {
        "id": "OI1EtIwpRVzu"
      },
      "source": [
        "%%R\n",
        "# Filter for proteins that are identified in all replicates of at least one condition\n",
        "data_filt <- filter_missval(data_se, thr = 4) #讓使用者選0~4(重複)\n",
        "\n",
        "# Less stringent filtering:\n",
        "# Filter for proteins that are identified in 2 out of 3 replicates of at least one condition\n",
        "data_filt2 <- filter_missval(data_se, thr = 1)\n",
        "\n",
        "# Plot a barplot of the number of identified proteins per samples\n",
        "pic10_2 <- plot_numbers(data_filt, plot=TRUE)\n",
        "print(pic10_2)"
      ],
      "execution_count": null,
      "outputs": []
    },
    {
      "cell_type": "code",
      "metadata": {
        "id": "lKcGDgqhjFjw"
      },
      "source": [
        "%%R\n",
        "# Plot a barplot of the protein identification overlap between samples\n",
        "pic10_3 <- plot_coverage(data_filt)\n",
        "print(pic10_3)"
      ],
      "execution_count": null,
      "outputs": []
    }
  ]
}