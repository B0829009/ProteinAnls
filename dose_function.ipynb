{
  "nbformat": 4,
  "nbformat_minor": 0,
  "metadata": {
    "colab": {
      "name": "dose_function.ipynb",
      "provenance": [],
      "collapsed_sections": [
        "VOeBz4cmKMql"
      ]
    },
    "kernelspec": {
      "display_name": "Python 3",
      "name": "python3"
    },
    "language_info": {
      "name": "python"
    },
    "widgets": {
      "application/vnd.jupyter.widget-state+json": {
        "6e3b956e26064d32b4c0d6d8d0497e83": {
          "model_module": "@jupyter-widgets/controls",
          "model_name": "RadioButtonsModel",
          "model_module_version": "1.5.0",
          "state": {
            "_options_labels": [
              "mouse",
              "rat",
              "human"
            ],
            "_view_name": "RadioButtonsView",
            "style": "IPY_MODEL_8b26205bce5044a1bd8c6a233b7f6a0c",
            "_dom_classes": [],
            "description": "物種:",
            "_model_name": "RadioButtonsModel",
            "index": 1,
            "_view_module": "@jupyter-widgets/controls",
            "_model_module_version": "1.5.0",
            "_view_count": null,
            "disabled": false,
            "_view_module_version": "1.5.0",
            "description_tooltip": null,
            "_model_module": "@jupyter-widgets/controls",
            "layout": "IPY_MODEL_d1042bc1ab584d9db2836515950b6e40"
          }
        },
        "8b26205bce5044a1bd8c6a233b7f6a0c": {
          "model_module": "@jupyter-widgets/controls",
          "model_name": "DescriptionStyleModel",
          "model_module_version": "1.5.0",
          "state": {
            "_view_name": "StyleView",
            "_model_name": "DescriptionStyleModel",
            "description_width": "",
            "_view_module": "@jupyter-widgets/base",
            "_model_module_version": "1.5.0",
            "_view_count": null,
            "_view_module_version": "1.2.0",
            "_model_module": "@jupyter-widgets/controls"
          }
        },
        "d1042bc1ab584d9db2836515950b6e40": {
          "model_module": "@jupyter-widgets/base",
          "model_name": "LayoutModel",
          "model_module_version": "1.2.0",
          "state": {
            "_view_name": "LayoutView",
            "grid_template_rows": null,
            "right": null,
            "justify_content": null,
            "_view_module": "@jupyter-widgets/base",
            "overflow": null,
            "_model_module_version": "1.2.0",
            "_view_count": null,
            "flex_flow": null,
            "width": null,
            "min_width": null,
            "border": null,
            "align_items": null,
            "bottom": null,
            "_model_module": "@jupyter-widgets/base",
            "top": null,
            "grid_column": null,
            "overflow_y": null,
            "overflow_x": null,
            "grid_auto_flow": null,
            "grid_area": null,
            "grid_template_columns": null,
            "flex": null,
            "_model_name": "LayoutModel",
            "justify_items": null,
            "grid_row": null,
            "max_height": null,
            "align_content": null,
            "visibility": null,
            "align_self": null,
            "height": null,
            "min_height": null,
            "padding": null,
            "grid_auto_rows": null,
            "grid_gap": null,
            "max_width": null,
            "order": null,
            "_view_module_version": "1.2.0",
            "grid_template_areas": null,
            "object_position": null,
            "object_fit": null,
            "grid_auto_columns": null,
            "margin": null,
            "display": null,
            "left": null
          }
        },
        "915d67ea71c8448097494e40b04b3b7d": {
          "model_module": "@jupyter-widgets/controls",
          "model_name": "RadioButtonsModel",
          "model_module_version": "1.5.0",
          "state": {
            "_options_labels": [
              "BCD_vs_ABC_ratio",
              "CDE_vs_ABC_ratio"
            ],
            "_view_name": "RadioButtonsView",
            "style": "IPY_MODEL_9ac414ff2c98432cb57e48c3cf317a62",
            "_dom_classes": [],
            "description": "Ratio:",
            "_model_name": "RadioButtonsModel",
            "index": 0,
            "_view_module": "@jupyter-widgets/controls",
            "_model_module_version": "1.5.0",
            "_view_count": null,
            "disabled": false,
            "_view_module_version": "1.5.0",
            "description_tooltip": null,
            "_model_module": "@jupyter-widgets/controls",
            "layout": "IPY_MODEL_75ee1194dce84cd19a4439886e38300a"
          }
        },
        "9ac414ff2c98432cb57e48c3cf317a62": {
          "model_module": "@jupyter-widgets/controls",
          "model_name": "DescriptionStyleModel",
          "model_module_version": "1.5.0",
          "state": {
            "_view_name": "StyleView",
            "_model_name": "DescriptionStyleModel",
            "description_width": "",
            "_view_module": "@jupyter-widgets/base",
            "_model_module_version": "1.5.0",
            "_view_count": null,
            "_view_module_version": "1.2.0",
            "_model_module": "@jupyter-widgets/controls"
          }
        },
        "75ee1194dce84cd19a4439886e38300a": {
          "model_module": "@jupyter-widgets/base",
          "model_name": "LayoutModel",
          "model_module_version": "1.2.0",
          "state": {
            "_view_name": "LayoutView",
            "grid_template_rows": null,
            "right": null,
            "justify_content": null,
            "_view_module": "@jupyter-widgets/base",
            "overflow": null,
            "_model_module_version": "1.2.0",
            "_view_count": null,
            "flex_flow": null,
            "width": null,
            "min_width": null,
            "border": null,
            "align_items": null,
            "bottom": null,
            "_model_module": "@jupyter-widgets/base",
            "top": null,
            "grid_column": null,
            "overflow_y": null,
            "overflow_x": null,
            "grid_auto_flow": null,
            "grid_area": null,
            "grid_template_columns": null,
            "flex": null,
            "_model_name": "LayoutModel",
            "justify_items": null,
            "grid_row": null,
            "max_height": null,
            "align_content": null,
            "visibility": null,
            "align_self": null,
            "height": null,
            "min_height": null,
            "padding": null,
            "grid_auto_rows": null,
            "grid_gap": null,
            "max_width": null,
            "order": null,
            "_view_module_version": "1.2.0",
            "grid_template_areas": null,
            "object_position": null,
            "object_fit": null,
            "grid_auto_columns": null,
            "margin": null,
            "display": null,
            "left": null
          }
        },
        "5cc4119409274c43bca54b7242a11cef": {
          "model_module": "@jupyter-widgets/controls",
          "model_name": "ButtonModel",
          "model_module_version": "1.5.0",
          "state": {
            "_view_name": "ButtonView",
            "style": "IPY_MODEL_5f69d7c44db4489db8224a9f0c1ccb74",
            "_dom_classes": [],
            "description": "開始畫圖",
            "_model_name": "ButtonModel",
            "button_style": "",
            "_view_module": "@jupyter-widgets/controls",
            "_model_module_version": "1.5.0",
            "tooltip": "",
            "_view_count": null,
            "disabled": false,
            "_view_module_version": "1.5.0",
            "layout": "IPY_MODEL_af1ea28efcd14ffda9d2016d23b23e3f",
            "_model_module": "@jupyter-widgets/controls",
            "icon": ""
          }
        },
        "5f69d7c44db4489db8224a9f0c1ccb74": {
          "model_module": "@jupyter-widgets/controls",
          "model_name": "ButtonStyleModel",
          "model_module_version": "1.5.0",
          "state": {
            "_view_name": "StyleView",
            "_model_name": "ButtonStyleModel",
            "_view_module": "@jupyter-widgets/base",
            "_model_module_version": "1.5.0",
            "_view_count": null,
            "button_color": null,
            "font_weight": "",
            "_view_module_version": "1.2.0",
            "_model_module": "@jupyter-widgets/controls"
          }
        },
        "af1ea28efcd14ffda9d2016d23b23e3f": {
          "model_module": "@jupyter-widgets/base",
          "model_name": "LayoutModel",
          "model_module_version": "1.2.0",
          "state": {
            "_view_name": "LayoutView",
            "grid_template_rows": null,
            "right": null,
            "justify_content": null,
            "_view_module": "@jupyter-widgets/base",
            "overflow": null,
            "_model_module_version": "1.2.0",
            "_view_count": null,
            "flex_flow": null,
            "width": null,
            "min_width": null,
            "border": null,
            "align_items": null,
            "bottom": null,
            "_model_module": "@jupyter-widgets/base",
            "top": null,
            "grid_column": null,
            "overflow_y": null,
            "overflow_x": null,
            "grid_auto_flow": null,
            "grid_area": null,
            "grid_template_columns": null,
            "flex": null,
            "_model_name": "LayoutModel",
            "justify_items": null,
            "grid_row": null,
            "max_height": null,
            "align_content": null,
            "visibility": null,
            "align_self": null,
            "height": null,
            "min_height": null,
            "padding": null,
            "grid_auto_rows": null,
            "grid_gap": null,
            "max_width": null,
            "order": null,
            "_view_module_version": "1.2.0",
            "grid_template_areas": null,
            "object_position": null,
            "object_fit": null,
            "grid_auto_columns": null,
            "margin": null,
            "display": null,
            "left": null
          }
        },
        "1dbd12ea3b4c44b186a126b9d6e4176d": {
          "model_module": "@jupyter-widgets/output",
          "model_name": "OutputModel",
          "model_module_version": "1.0.0",
          "state": {
            "_view_name": "OutputView",
            "msg_id": "",
            "_dom_classes": [],
            "_model_name": "OutputModel",
            "outputs": [],
            "_view_module": "@jupyter-widgets/output",
            "_model_module_version": "1.0.0",
            "_view_count": null,
            "_view_module_version": "1.0.0",
            "layout": "IPY_MODEL_392a4148a9ae4a76833d109efa99509b",
            "_model_module": "@jupyter-widgets/output"
          }
        },
        "392a4148a9ae4a76833d109efa99509b": {
          "model_module": "@jupyter-widgets/base",
          "model_name": "LayoutModel",
          "model_module_version": "1.2.0",
          "state": {
            "_view_name": "LayoutView",
            "grid_template_rows": null,
            "right": null,
            "justify_content": null,
            "_view_module": "@jupyter-widgets/base",
            "overflow": null,
            "_model_module_version": "1.2.0",
            "_view_count": null,
            "flex_flow": null,
            "width": null,
            "min_width": null,
            "border": null,
            "align_items": null,
            "bottom": null,
            "_model_module": "@jupyter-widgets/base",
            "top": null,
            "grid_column": null,
            "overflow_y": null,
            "overflow_x": null,
            "grid_auto_flow": null,
            "grid_area": null,
            "grid_template_columns": null,
            "flex": null,
            "_model_name": "LayoutModel",
            "justify_items": null,
            "grid_row": null,
            "max_height": null,
            "align_content": null,
            "visibility": null,
            "align_self": null,
            "height": null,
            "min_height": null,
            "padding": null,
            "grid_auto_rows": null,
            "grid_gap": null,
            "max_width": null,
            "order": null,
            "_view_module_version": "1.2.0",
            "grid_template_areas": null,
            "object_position": null,
            "object_fit": null,
            "grid_auto_columns": null,
            "margin": null,
            "display": null,
            "left": null
          }
        },
        "cdf3ee3a9f554860967b9d65d1e1b838": {
          "model_module": "@jupyter-widgets/controls",
          "model_name": "FloatSliderModel",
          "model_module_version": "1.5.0",
          "state": {
            "_view_name": "FloatSliderView",
            "style": "IPY_MODEL_e0e8516b126d4de6a7201c2a0be1d025",
            "_dom_classes": [],
            "description": "pvalue:",
            "step": 0.001,
            "_model_name": "FloatSliderModel",
            "orientation": "horizontal",
            "max": 1,
            "_view_module": "@jupyter-widgets/controls",
            "_model_module_version": "1.5.0",
            "value": 0.495,
            "_view_count": null,
            "disabled": false,
            "_view_module_version": "1.5.0",
            "min": 0.001,
            "continuous_update": false,
            "readout_format": ".2",
            "description_tooltip": null,
            "readout": true,
            "_model_module": "@jupyter-widgets/controls",
            "layout": "IPY_MODEL_395fd529838f4051be3380e50473b578"
          }
        },
        "e0e8516b126d4de6a7201c2a0be1d025": {
          "model_module": "@jupyter-widgets/controls",
          "model_name": "SliderStyleModel",
          "model_module_version": "1.5.0",
          "state": {
            "_view_name": "StyleView",
            "handle_color": null,
            "_model_name": "SliderStyleModel",
            "description_width": "",
            "_view_module": "@jupyter-widgets/base",
            "_model_module_version": "1.5.0",
            "_view_count": null,
            "_view_module_version": "1.2.0",
            "_model_module": "@jupyter-widgets/controls"
          }
        },
        "395fd529838f4051be3380e50473b578": {
          "model_module": "@jupyter-widgets/base",
          "model_name": "LayoutModel",
          "model_module_version": "1.2.0",
          "state": {
            "_view_name": "LayoutView",
            "grid_template_rows": null,
            "right": null,
            "justify_content": null,
            "_view_module": "@jupyter-widgets/base",
            "overflow": null,
            "_model_module_version": "1.2.0",
            "_view_count": null,
            "flex_flow": null,
            "width": null,
            "min_width": null,
            "border": null,
            "align_items": null,
            "bottom": null,
            "_model_module": "@jupyter-widgets/base",
            "top": null,
            "grid_column": null,
            "overflow_y": null,
            "overflow_x": null,
            "grid_auto_flow": null,
            "grid_area": null,
            "grid_template_columns": null,
            "flex": null,
            "_model_name": "LayoutModel",
            "justify_items": null,
            "grid_row": null,
            "max_height": null,
            "align_content": null,
            "visibility": null,
            "align_self": null,
            "height": null,
            "min_height": null,
            "padding": null,
            "grid_auto_rows": null,
            "grid_gap": null,
            "max_width": null,
            "order": null,
            "_view_module_version": "1.2.0",
            "grid_template_areas": null,
            "object_position": null,
            "object_fit": null,
            "grid_auto_columns": null,
            "margin": null,
            "display": null,
            "left": null
          }
        }
      }
    }
  },
  "cells": [
    {
      "cell_type": "markdown",
      "metadata": {
        "id": "VOeBz4cmKMql"
      },
      "source": [
        "#connect to google drive"
      ]
    },
    {
      "cell_type": "code",
      "metadata": {
        "colab": {
          "base_uri": "https://localhost:8080/"
        },
        "id": "Tw_TUx72_rls",
        "outputId": "86b73fbf-436a-4dcb-c63a-361953e1be58"
      },
      "source": [
        "#@title\n",
        "from google.colab import drive\n",
        "drive.mount('/content/drive')"
      ],
      "execution_count": null,
      "outputs": [
        {
          "output_type": "stream",
          "name": "stdout",
          "text": [
            "Drive already mounted at /content/drive; to attempt to forcibly remount, call drive.mount(\"/content/drive\", force_remount=True).\n"
          ]
        }
      ]
    },
    {
      "cell_type": "markdown",
      "metadata": {
        "id": "3QKvmZKdKfxu"
      },
      "source": [
        "#load package from google drive"
      ]
    },
    {
      "cell_type": "code",
      "metadata": {
        "id": "EBSbwSEMKQcB"
      },
      "source": [
        "#@title\n",
        "%reload_ext rpy2.ipython"
      ],
      "execution_count": null,
      "outputs": []
    },
    {
      "cell_type": "code",
      "metadata": {
        "colab": {
          "base_uri": "https://localhost:8080/"
        },
        "id": "y0WcQ2ACKf3J",
        "outputId": "2b9bddbe-e56d-4ec9-fc9d-4e59fca8e67d"
      },
      "source": [
        "#@title\n",
        "%%R\n",
        "lib_loc <- \"/content/drive/MyDrive/Colab_Notebooks/r_lib\"\n",
        "lib_loc"
      ],
      "execution_count": null,
      "outputs": [
        {
          "output_type": "stream",
          "name": "stdout",
          "text": [
            "[1] \"/content/drive/MyDrive/Colab_Notebooks/r_lib\"\n"
          ]
        }
      ]
    },
    {
      "cell_type": "code",
      "metadata": {
        "colab": {
          "base_uri": "https://localhost:8080/"
        },
        "collapsed": true,
        "id": "TKB98Z0RKf5g",
        "outputId": "04191c15-e1ea-4ffd-cbe4-d82c3b5af81d"
      },
      "source": [
        "#@title\n",
        "%%R\n",
        "library(biomaRt, lib=lib_loc)\n",
        "library(DOSE, lib=lib_loc)\n",
        "library(enrichplot, lib=lib_loc)\n",
        "library(clusterProfiler, lib=lib_loc)\n",
        "library(cowplot, lib=lib_loc)"
      ],
      "execution_count": null,
      "outputs": [
        {
          "output_type": "stream",
          "name": "stderr",
          "text": [
            "R[write to console]: \n",
            "\n",
            "R[write to console]: DOSE v3.20.1  For help: https://yulab-smu.top/biomedical-knowledge-mining-book/\n",
            "\n",
            "If you use DOSE in published research, please cite:\n",
            "Guangchuang Yu, Li-Gen Wang, Guang-Rong Yan, Qing-Yu He. DOSE: an R/Bioconductor package for Disease Ontology Semantic and Enrichment analysis. Bioinformatics 2015, 31(4):608-609\n",
            "\n",
            "\n",
            "R[write to console]: clusterProfiler v4.2.2  For help: https://yulab-smu.top/biomedical-knowledge-mining-book/\n",
            "\n",
            "If you use clusterProfiler in published research, please cite:\n",
            "T Wu, E Hu, S Xu, M Chen, P Guo, Z Dai, T Feng, L Zhou, W Tang, L Zhan, X Fu, S Liu, X Bo, and G Yu. clusterProfiler 4.0: A universal enrichment tool for interpreting omics data. The Innovation. 2021, 2(3):100141\n",
            "\n",
            "R[write to console]: \n",
            "Attaching package: ‘clusterProfiler’\n",
            "\n",
            "\n",
            "R[write to console]: The following object is masked from ‘package:biomaRt’:\n",
            "\n",
            "    select\n",
            "\n",
            "\n",
            "R[write to console]: The following object is masked from ‘package:stats’:\n",
            "\n",
            "    filter\n",
            "\n",
            "\n"
          ]
        }
      ]
    },
    {
      "cell_type": "code",
      "metadata": {
        "colab": {
          "base_uri": "https://localhost:8080/"
        },
        "collapsed": true,
        "id": "PdUIk0cOKf_O",
        "outputId": "b57532a1-b610-48e0-ffb3-e6a77a3c0aab"
      },
      "source": [
        "#@title\n",
        "%%R  \n",
        "library(BiocGenerics, lib=lib_loc) \n",
        "library(S4Vectors, lib=lib_loc) #TRanges\n",
        "library(IRanges, lib=lib_loc) #AnnotationDbi\n",
        "library(Biobase, lib=lib_loc) \n",
        "library(AnnotationDbi, lib=lib_loc)\n",
        "library(org.Hs.eg.db, lib=lib_loc)"
      ],
      "execution_count": null,
      "outputs": [
        {
          "output_type": "stream",
          "name": "stderr",
          "text": [
            "R[write to console]: \n",
            "Attaching package: ‘BiocGenerics’\n",
            "\n",
            "\n",
            "R[write to console]: The following objects are masked from ‘package:stats’:\n",
            "\n",
            "    IQR, mad, sd, var, xtabs\n",
            "\n",
            "\n",
            "R[write to console]: The following objects are masked from ‘package:base’:\n",
            "\n",
            "    anyDuplicated, append, as.data.frame, basename, cbind, colnames,\n",
            "    dirname, do.call, duplicated, eval, evalq, Filter, Find, get, grep,\n",
            "    grepl, intersect, is.unsorted, lapply, Map, mapply, match, mget,\n",
            "    order, paste, pmax, pmax.int, pmin, pmin.int, Position, rank,\n",
            "    rbind, Reduce, rownames, sapply, setdiff, sort, table, tapply,\n",
            "    union, unique, unsplit, which.max, which.min\n",
            "\n",
            "\n",
            "R[write to console]: Loading required package: stats4\n",
            "\n",
            "R[write to console]: \n",
            "Attaching package: ‘S4Vectors’\n",
            "\n",
            "\n",
            "R[write to console]: The following object is masked from ‘package:clusterProfiler’:\n",
            "\n",
            "    rename\n",
            "\n",
            "\n",
            "R[write to console]: The following objects are masked from ‘package:base’:\n",
            "\n",
            "    expand.grid, I, unname\n",
            "\n",
            "\n",
            "R[write to console]: \n",
            "Attaching package: ‘IRanges’\n",
            "\n",
            "\n",
            "R[write to console]: The following object is masked from ‘package:clusterProfiler’:\n",
            "\n",
            "    slice\n",
            "\n",
            "\n",
            "R[write to console]: Welcome to Bioconductor\n",
            "\n",
            "    Vignettes contain introductory material; view with\n",
            "    'browseVignettes()'. To cite Bioconductor, see\n",
            "    'citation(\"Biobase\")', and for packages 'citation(\"pkgname\")'.\n",
            "\n",
            "\n",
            "R[write to console]: \n",
            "Attaching package: ‘AnnotationDbi’\n",
            "\n",
            "\n",
            "R[write to console]: The following object is masked from ‘package:clusterProfiler’:\n",
            "\n",
            "    select\n",
            "\n",
            "\n",
            "R[write to console]: \n",
            "\n"
          ]
        }
      ]
    },
    {
      "cell_type": "code",
      "metadata": {
        "colab": {
          "base_uri": "https://localhost:8080/"
        },
        "id": "BDtEEEi-WrHe",
        "outputId": "19d420e6-a10a-47be-8051-9ed74191ecdf"
      },
      "source": [
        "#@title\n",
        "%%R\n",
        "library(ggnewscale, lib=lib_loc)\n",
        "library(ggupset, lib=lib_loc)\n",
        "library(ggridges, lib=lib_loc)\n",
        "library(europepmc, lib=lib_loc)\n",
        "library(ggplot2)\n",
        "library(httr)\n",
        "library(dplyr) "
      ],
      "execution_count": null,
      "outputs": [
        {
          "output_type": "stream",
          "name": "stderr",
          "text": [
            "R[write to console]: \n",
            "Attaching package: ‘httr’\n",
            "\n",
            "\n",
            "R[write to console]: The following object is masked from ‘package:Biobase’:\n",
            "\n",
            "    content\n",
            "\n",
            "\n",
            "R[write to console]: \n",
            "Attaching package: ‘dplyr’\n",
            "\n",
            "\n",
            "R[write to console]: The following object is masked from ‘package:AnnotationDbi’:\n",
            "\n",
            "    select\n",
            "\n",
            "\n",
            "R[write to console]: The following object is masked from ‘package:Biobase’:\n",
            "\n",
            "    combine\n",
            "\n",
            "\n",
            "R[write to console]: The following objects are masked from ‘package:IRanges’:\n",
            "\n",
            "    collapse, desc, intersect, setdiff, slice, union\n",
            "\n",
            "\n",
            "R[write to console]: The following objects are masked from ‘package:S4Vectors’:\n",
            "\n",
            "    first, intersect, rename, setdiff, setequal, union\n",
            "\n",
            "\n",
            "R[write to console]: The following objects are masked from ‘package:BiocGenerics’:\n",
            "\n",
            "    combine, intersect, setdiff, union\n",
            "\n",
            "\n",
            "R[write to console]: The following object is masked from ‘package:biomaRt’:\n",
            "\n",
            "    select\n",
            "\n",
            "\n",
            "R[write to console]: The following objects are masked from ‘package:stats’:\n",
            "\n",
            "    filter, lag\n",
            "\n",
            "\n",
            "R[write to console]: The following objects are masked from ‘package:base’:\n",
            "\n",
            "    intersect, setdiff, setequal, union\n",
            "\n",
            "\n"
          ]
        }
      ]
    },
    {
      "cell_type": "markdown",
      "metadata": {
        "id": "zvQZEdEc35am"
      },
      "source": [
        "#選檔案\n"
      ]
    },
    {
      "cell_type": "code",
      "source": [
        "import ipywidgets as widgets\n",
        "from rpy2.robjects import r\n",
        "import rpy2.robjects as robjects\n",
        "\n",
        "radiobuttonSpecies = widgets.RadioButtons(\n",
        "    options= [\"mouse\", \"rat\", \"human\"],\n",
        "    description='物種:',\n",
        "    disabled=False\n",
        ")\n",
        "def on_radiobuttonSpecies_change(change):\n",
        "    r.assign(\"species\", change.new)\n",
        "    #print(change.new)\n",
        "r.assign(\"species\", \"mouse\")\n",
        "display(radiobuttonSpecies)\n",
        "radiobuttonSpecies.observe(on_radiobuttonSpecies_change, names=\"value\")"
      ],
      "metadata": {
        "colab": {
          "base_uri": "https://localhost:8080/",
          "height": 113,
          "referenced_widgets": [
            "6e3b956e26064d32b4c0d6d8d0497e83",
            "8b26205bce5044a1bd8c6a233b7f6a0c",
            "d1042bc1ab584d9db2836515950b6e40"
          ]
        },
        "id": "v531XdKaGm5-",
        "outputId": "20b3d824-1de2-4814-be59-ed8efce8c084"
      },
      "execution_count": null,
      "outputs": [
        {
          "output_type": "display_data",
          "data": {
            "application/vnd.jupyter.widget-view+json": {
              "model_id": "6e3b956e26064d32b4c0d6d8d0497e83",
              "version_minor": 0,
              "version_major": 2
            },
            "text/plain": [
              "RadioButtons(description='物種:', options=('mouse', 'rat', 'human'), value='mouse')"
            ]
          },
          "metadata": {}
        }
      ]
    },
    {
      "cell_type": "code",
      "metadata": {
        "colab": {
          "resources": {
            "http://localhost:8080/nbextensions/google.colab/files.js": {
              "data": "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",
              "ok": true,
              "headers": [
                [
                  "content-type",
                  "application/javascript"
                ]
              ],
              "status": 200,
              "status_text": ""
            }
          },
          "base_uri": "https://localhost:8080/",
          "height": 110
        },
        "outputId": "bf35f2a6-f0e2-4b90-92c5-28d133519742",
        "id": "MMNVMbKl35an"
      },
      "source": [
        "#上傳檔案到colab\n",
        "from google.colab import files\n",
        "\n",
        "\n",
        "!rm * -f #delete all temporary file \n",
        "\n",
        "file=files.upload()\n",
        "\n",
        "if (file):\n",
        "  filename = next(iter(file))\n",
        "  r = robjects.r\n",
        "  r.assign('filename', filename) #將檔案名稱python -> R\n",
        "else:\n",
        "  print(\"請再次執行此儲存格，並選擇一個檔案\")"
      ],
      "execution_count": null,
      "outputs": [
        {
          "output_type": "stream",
          "name": "stdout",
          "text": [
            "rm: cannot remove 'drive': Is a directory\n",
            "rm: cannot remove 'sample_data': Is a directory\n"
          ]
        },
        {
          "output_type": "display_data",
          "data": {
            "text/html": [
              "\n",
              "     <input type=\"file\" id=\"files-450e015c-4149-4e71-89e8-c484f2558fb8\" name=\"files[]\" multiple disabled\n",
              "        style=\"border:none\" />\n",
              "     <output id=\"result-450e015c-4149-4e71-89e8-c484f2558fb8\">\n",
              "      Upload widget is only available when the cell has been executed in the\n",
              "      current browser session. Please rerun this cell to enable.\n",
              "      </output>\n",
              "      <script src=\"/nbextensions/google.colab/files.js\"></script> "
            ],
            "text/plain": [
              "<IPython.core.display.HTML object>"
            ]
          },
          "metadata": {}
        },
        {
          "output_type": "stream",
          "name": "stdout",
          "text": [
            "Saving dep_output.csv to dep_output.csv\n"
          ]
        }
      ]
    },
    {
      "cell_type": "markdown",
      "metadata": {
        "id": "t_06zRfZ4KQU"
      },
      "source": [
        "#data"
      ]
    },
    {
      "cell_type": "code",
      "metadata": {
        "colab": {
          "base_uri": "https://localhost:8080/"
        },
        "outputId": "0420ae3d-e66b-41b8-fa79-fa3ce27d53b2",
        "id": "Ms64_oSk4KQU"
      },
      "source": [
        "%%R\n",
        "library(stringr)\n",
        "fileType <- str_extract_all(filename,'\\\\b(.txt|.csv)\\\\b') #確認檔案為csv還是txt\n",
        "print(fileType)\n",
        "if (fileType == \".txt\") {\n",
        "    d = read.table(file = filename, header=TRUE ,sep=\"\\t\" ,fileEncoding =\"UTF-8\")\n",
        "} \n",
        "else if (fileType == \".csv\")  {\n",
        "    d = read.csv(file = filename, header=TRUE, fileEncoding =\"UTF-8\")\n",
        "}\n",
        "else {\n",
        "    print(\"檔案格式錯誤, 請再選擇一次檔案\")\n",
        "}\n",
        "print(dim(d))\n",
        "print(colnames(d))\n",
        "d[,'ID'] <- sub(\"-.*\", \"\", d$ID)\n",
        "#write.csv(d[,'ID'], file=\"sub.csv\")\n",
        "#print(head(d))\n",
        "\n",
        "ratioCol <- grep( \"ratio$\" , colnames(d) )\n",
        "ratioColname <- colnames(d[ratioCol])\n",
        "numRatio <- length(ratioCol)\n",
        "print(numRatio)\n",
        "cat(\"ratio: \", ratioColname)"
      ],
      "execution_count": null,
      "outputs": [
        {
          "output_type": "stream",
          "name": "stdout",
          "text": [
            "[[1]]\n",
            "[1] \".csv\"\n",
            "\n",
            "[1] 1333   14\n",
            " [1] \"name\"                   \"ID\"                     \"BCD_vs_ABC_p.val\"      \n",
            " [4] \"CDE_vs_ABC_p.val\"       \"BCD_vs_ABC_p.adj\"       \"CDE_vs_ABC_p.adj\"      \n",
            " [7] \"BCD_vs_ABC_significant\" \"CDE_vs_ABC_significant\" \"significant\"           \n",
            "[10] \"BCD_vs_ABC_ratio\"       \"CDE_vs_ABC_ratio\"       \"ABC_centered\"          \n",
            "[13] \"BCD_centered\"           \"CDE_centered\"          \n",
            "[1] 2\n",
            "ratio:  BCD_vs_ABC_ratio CDE_vs_ABC_ratio"
          ]
        }
      ]
    },
    {
      "cell_type": "code",
      "source": [
        "numRatio_py = robjects.r(\"numRatio\")\n",
        "ratioColname_py = robjects.r(\"ratioColname\")\n",
        "\n",
        "radiobuttonRatio = widgets.RadioButtons(\n",
        "    options= ratioColname_py,\n",
        "    description='Ratio:',\n",
        "    disabled=False\n",
        ")\n",
        "def on_radiobuttonRatio_change(change):\n",
        "    r.assign(\"ratioName\", change.new)\n",
        "    \n",
        "r.assign(\"ratioName\", ratioColname_py[0])\n",
        "display(radiobuttonRatio)\n",
        "radiobuttonRatio.observe(on_radiobuttonRatio_change, names=\"value\")"
      ],
      "metadata": {
        "colab": {
          "base_uri": "https://localhost:8080/",
          "height": 81,
          "referenced_widgets": [
            "915d67ea71c8448097494e40b04b3b7d",
            "9ac414ff2c98432cb57e48c3cf317a62",
            "75ee1194dce84cd19a4439886e38300a"
          ]
        },
        "id": "h7uONu9Uy3EZ",
        "outputId": "c2a2a547-78b9-40e5-9428-4d3bf2d4aa90"
      },
      "execution_count": null,
      "outputs": [
        {
          "output_type": "display_data",
          "data": {
            "application/vnd.jupyter.widget-view+json": {
              "model_id": "915d67ea71c8448097494e40b04b3b7d",
              "version_minor": 0,
              "version_major": 2
            },
            "text/plain": [
              "RadioButtons(description='Ratio:', options=('BCD_vs_ABC_ratio', 'CDE_vs_ABC_ratio'), value='BCD_vs_ABC_ratio')"
            ]
          },
          "metadata": {}
        }
      ]
    },
    {
      "cell_type": "code",
      "metadata": {
        "colab": {
          "base_uri": "https://localhost:8080/"
        },
        "outputId": "85055e17-9c3d-456d-c233-3da80419be0f",
        "id": "szoeO6QE4KQV"
      },
      "source": [
        "%%R \n",
        "\n",
        "#連接網頁(uniprot -> entrez)\n",
        "ID_string <- paste(d$ID, collapse=' ')\n",
        "\n",
        "#送出資料\n",
        "library(httr)\n",
        "result_1 <- httr::POST(\"https://www.uniprot.org/uploadlists/\", body = list('uploadQuery'=ID_string , 'from'=\"ACC,ID\",'to'=\"P_ENTREZGENEID\")) #c(\"C0HK80 C0HKD9\")\n",
        "print(paste(\"result: \",result_1[1]))\n",
        "\n",
        "#得到轉換結果\n",
        "table_url <- paste0(result_1[1], \".tab\")\n",
        "result <- httr::GET(table_url)\n",
        "print(paste(\"result table: \", result[1]))\n",
        "\n",
        "#把得到的結果轉成table\n",
        "\n",
        "result_table <- content(result)\n",
        "uniprot_entrez <- read.table(text=result_table, col.names=c('ID_uniprot', 'GeneID_entrez'))\n",
        "uniprot_entrez <- uniprot_entrez[-c(1),]\n",
        "\n",
        "#去除重複 (因為uniprot可能會有多個entrez => 排序後選最小的)\n",
        "uniprot_entrez[, 2] <- as.numeric(uniprot_entrez[, 2])\n",
        "uniprot_entrez <- uniprot_entrez [ order(uniprot_entrez$ID_uniprot, uniprot_entrez$GeneID_entrez),]\n",
        "uniprot_entrez <- uniprot_entrez[!duplicated(uniprot_entrez$ID_uniprot),]\n",
        "\n",
        "cat(\"row * colmun =\",dim(uniprot_entrez), \"\\n\")\n",
        "print(head(uniprot_entrez))\n",
        "#write.table(uniprot_entrez, file=\"uniprot_entrez.csv\", quote=FALSE, row.names=F)\n",
        "write.csv(uniprot_entrez, file=\"uniprot_entrez.csv\")"
      ],
      "execution_count": null,
      "outputs": [
        {
          "output_type": "stream",
          "name": "stdout",
          "text": [
            "[1] \"result:  https://www.uniprot.org/mapping/M202202236320BA52A5CE8FCD097CB85A53697A354338D7B\"\n",
            "[1] \"result table:  https://www.uniprot.org/mapping/M202202236320BA52A5CE8FCD097CB85A53697A354338D7B.tab\"\n"
          ]
        },
        {
          "output_type": "stream",
          "name": "stderr",
          "text": [
            "R[write to console]: No encoding supplied: defaulting to UTF-8.\n",
            "\n"
          ]
        },
        {
          "output_type": "stream",
          "name": "stdout",
          "text": [
            "row * colmun = 1202 2 \n",
            "    ID_uniprot GeneID_entrez\n",
            "269 A0A0G2JV04        360658\n",
            "833     A0JPJ7        296488\n",
            "539     A0JPM9        691947\n",
            "914     A1A5S1        366276\n",
            "637     A2RRU1        690987\n",
            "873     A4L691        305963\n"
          ]
        }
      ]
    },
    {
      "cell_type": "markdown",
      "metadata": {
        "id": "QNXH0-8r4KQV"
      },
      "source": [
        "biomaRt\n"
      ]
    },
    {
      "cell_type": "code",
      "metadata": {
        "colab": {
          "base_uri": "https://localhost:8080/"
        },
        "outputId": "a2da389b-d6f3-4586-c077-90a19259344e",
        "id": "VCE_G8k-4KQV"
      },
      "source": [
        "%%R\n",
        "\n",
        "if (species != \"human\") {\n",
        "    \n",
        "    rat = useEnsembl(\"ensembl\", dataset = \"rnorvegicus_gene_ensembl\")\n",
        "    mouse = useEnsembl(\"ensembl\", dataset = \"mmusculus_gene_ensembl\")\n",
        "    human = useEnsembl(\"ensembl\", dataset = \"hsapiens_gene_ensembl\")\n",
        "\n",
        "    if (species == \"mouse\") { \n",
        "        #小鼠(entrezid) => 人類(entrez)\n",
        "        print(\"species => mouse\")\n",
        "        human_mouse_rat <- getLDS(mart=mouse, attributes=c(\"entrezgene_id\"), filters=\"entrezgene_id\" , values=uniprot_entrez[,\"GeneID_entrez\"], attributesL= c(\"entrezgene_id\"), martL = human, uniqueRows=T ) #values=uniprots_ID\n",
        "    }\n",
        "    else {  \n",
        "        #大鼠(entrezid) => 人類(entrez)\n",
        "        print(\"species => rat\")\n",
        "        human_mouse_rat <- getLDS(mart=rat, attributes=c(\"entrezgene_id\"), filters=\"entrezgene_id\" , values=uniprot_entrez[,\"GeneID_entrez\"], attributesL= c(\"entrezgene_id\"), martL = human, uniqueRows=T ) #values=uniprots_ID\n",
        "    }\n",
        "    print(dim(human_mouse_rat))\n",
        "}\n",
        "else {\n",
        "  print(\"species => human\")\n",
        "}"
      ],
      "execution_count": null,
      "outputs": [
        {
          "output_type": "stream",
          "name": "stderr",
          "text": [
            "R[write to console]: Ensembl site unresponsive, trying uswest mirror\n",
            "\n",
            "R[write to console]: Ensembl site unresponsive, trying asia mirror\n",
            "\n"
          ]
        },
        {
          "output_type": "stream",
          "name": "stdout",
          "text": [
            "[1] \"species => rat\"\n",
            "[1] 1127    2\n"
          ]
        }
      ]
    },
    {
      "cell_type": "code",
      "metadata": {
        "colab": {
          "base_uri": "https://localhost:8080/"
        },
        "outputId": "9a2f85fc-1c65-4901-a5b3-cf0199b1bf96",
        "id": "NXy1wNL34KQV"
      },
      "source": [
        "%%R\n",
        "#處理重複 (因為mouse, rat entrez 轉 human entrez 可能為一對多)\n",
        "if (species != \"human\") {\n",
        "  colnames(human_mouse_rat) <- c('GeneID_entrez','human')\n",
        "  human_mouse_rat <-human_mouse_rat[ order(human_mouse_rat$GeneID_entrez, human_mouse_rat$human),]\n",
        "  human_mouse_rat <- human_mouse_rat[!duplicated(human_mouse_rat$GeneID_entrez),]\n",
        "\n",
        "  print(dim(human_mouse_rat))\n",
        "  print(head(human_mouse_rat))   \n",
        "}"
      ],
      "execution_count": null,
      "outputs": [
        {
          "output_type": "stream",
          "name": "stdout",
          "text": [
            "[1] 1103    2\n",
            "     GeneID_entrez human\n",
            "953          24158    34\n",
            "1053         24159    47\n",
            "707          24170   118\n",
            "269          24185   207\n",
            "285          24189   226\n",
            "472          24192   231\n"
          ]
        }
      ]
    },
    {
      "cell_type": "code",
      "metadata": {
        "colab": {
          "base_uri": "https://localhost:8080/"
        },
        "outputId": "b9caf619-41e7-4b6b-9047-392288de9e0a",
        "id": "uWrQ7JmV4KQV"
      },
      "source": [
        "%%R \n",
        "#inner join d(origin data), human_mouse_rat(GeneID, human), uniprot_entrez(ID_uniprot, GeneID_entrez) \n",
        "library(dplyr) \n",
        "\n",
        "#temp:entrez(mmu_or_rat)、entrez(human)、ID(uniprot)\n",
        "if (species != \"human\") {\n",
        "  temp <- inner_join( uniprot_entrez, human_mouse_rat, by=\"GeneID_entrez\")\n",
        "  colnames(temp) <- c('ID', 'GeneID', 'human_entrez')\n",
        "  temp[, \"ID\"] <- as.character(temp[, \"ID\"])\n",
        "  head(temp)\n",
        "\n",
        "  #data\n",
        "  data <- inner_join(temp, d, by=\"ID\")\n",
        "}\n",
        "else {\n",
        "    #human join d, uniprot_entrez\n",
        "    data <- inner_join(uniprot_entrez, d, by=\"ID_uniprot\")\n",
        "}\n",
        "#print(head(data))\n",
        "\n",
        "cat(\"uniprot_entrez:\",dim(uniprot_entrez), \"\\n\") #(human, mouse, rat)uniprot、entrez\n",
        "if (species != \"human\") {\n",
        "  cat(\"human_mouse_rat(entrez老鼠_entrez人類):\",dim(human_mouse_rat), \"\\n\") #(mouse, rat)entrez、人類entrez\n",
        "  cat(\"temp(uniport(老鼠)_entrez(老鼠)_entrez(人類))\", dim(temp), \"\\n\")#老鼠uniprot、老鼠entrez、人類entrez\n",
        "}\n",
        "cat(\"data:\",dim(data), \"\\n\")\n",
        "\n",
        "#write.table(uniprot_entrez, file=\"data.csv\", quote=FALSE, row.name=F)\n",
        "#write.table(human_mouse, file=\"data.csv\", quote=FALSE, row.name=F)\n",
        "write.table(data, file=\"dep_output_result.txt\", quote=F, row.name=F, sep = \"\\t\")\n",
        "write.csv(data, file=\"dep_output_result.csv\")"
      ],
      "execution_count": null,
      "outputs": [
        {
          "output_type": "stream",
          "name": "stdout",
          "text": [
            "uniprot_entrez: 1202 2 \n",
            "human_mouse_rat(entrez老鼠_entrez人類): 1103 2 \n",
            "temp(uniport(老鼠)_entrez(老鼠)_entrez(人類)) 1103 3 \n",
            "data: 1106 16 \n"
          ]
        }
      ]
    },
    {
      "cell_type": "code",
      "metadata": {
        "colab": {
          "base_uri": "https://localhost:8080/"
        },
        "outputId": "451b89af-4355-4f06-9718-140850135e80",
        "id": "BfD771cy4KQV"
      },
      "source": [
        "%%R\n",
        "#geneList\n",
        "print(colnames(data))\n",
        "## feature 1: numeric vector\n",
        "#geneList = data[,'LA_vs_DMSO_ratio'] #-log(pValue) #要改LA_vs_DMSO_ratio\n",
        "geneList = data[,ratioName] #-log(pValue)\n",
        "## feature 2: named vector\n",
        "names(geneList) = as.character(data[, 'human_entrez']) \n",
        "\n",
        "## feature 3: decreasing orde\n",
        "geneList = sort(geneList, decreasing = TRUE)\n",
        "head(geneList)\n"
      ],
      "execution_count": null,
      "outputs": [
        {
          "output_type": "stream",
          "name": "stdout",
          "text": [
            " [1] \"ID\"                     \"GeneID\"                 \"human_entrez\"          \n",
            " [4] \"name\"                   \"BCD_vs_ABC_p.val\"       \"CDE_vs_ABC_p.val\"      \n",
            " [7] \"BCD_vs_ABC_p.adj\"       \"CDE_vs_ABC_p.adj\"       \"BCD_vs_ABC_significant\"\n",
            "[10] \"CDE_vs_ABC_significant\" \"significant\"            \"BCD_vs_ABC_ratio\"      \n",
            "[13] \"CDE_vs_ABC_ratio\"       \"ABC_centered\"           \"BCD_centered\"          \n",
            "[16] \"CDE_centered\"          \n",
            " 4763  5763  9124  2778  7905 79031 \n",
            " 7.58  7.12  6.31  5.94  5.77  5.54 \n"
          ]
        }
      ]
    },
    {
      "cell_type": "code",
      "metadata": {
        "colab": {
          "base_uri": "https://localhost:8080/"
        },
        "outputId": "d0a64380-902a-4133-ef39-f426e6d41564",
        "id": "HwVmaw5X4KQV"
      },
      "source": [
        "%%R\n",
        "de <- names(geneList)[abs(log(geneList)) > 1]\n",
        "edo <- enrichDGN(de)\n",
        "edo2 <- gseDO(geneList, pvalueCutoff=1)\n",
        "edox <- setReadable(edo, 'org.Hs.eg.db', 'ENTREZID')"
      ],
      "execution_count": null,
      "outputs": [
        {
          "output_type": "stream",
          "name": "stderr",
          "text": [
            "R[write to console]: preparing geneSet collections...\n",
            "\n",
            "R[write to console]: GSEA analysis...\n",
            "\n",
            "R[write to console]: leading edge analysis...\n",
            "\n",
            "R[write to console]: done...\n",
            "\n"
          ]
        }
      ]
    },
    {
      "cell_type": "markdown",
      "metadata": {
        "id": "T4OacVqeWlna"
      },
      "source": [
        "#圖"
      ]
    },
    {
      "cell_type": "markdown",
      "metadata": {
        "id": "2nM03I9hb7LJ"
      },
      "source": [
        "1.Bar Plot"
      ]
    },
    {
      "cell_type": "code",
      "metadata": {
        "id": "uoWAHg_Sbl78"
      },
      "source": [
        "%%R\n",
        "barplot_1 <- function(){\n",
        "    pic1 <- barplot(edo,x = \"Count\", color=\"p.adjust\", showCategory=20)+ xlab(\"Count\")\n",
        "    print(pic1)\n",
        "    save_plot(\"pic1.png\", pic1, base_height = 10, base_aspect_ratio = 1)\n",
        "}"
      ],
      "execution_count": null,
      "outputs": []
    },
    {
      "cell_type": "markdown",
      "metadata": {
        "id": "yZzEBT0q-OSs"
      },
      "source": [
        "2.Dot Plot"
      ]
    },
    {
      "cell_type": "code",
      "metadata": {
        "id": "Z-KPTmIv76AZ"
      },
      "source": [
        "%%R\n",
        "dotplot_2 <- function(){\n",
        "   pic2_1 <- dotplot(edo, showCategory=30) + ggtitle(\"dotplot for ORA\")\n",
        "   pic2_2 <- dotplot(edo2, showCategory=30) + ggtitle(\"dotplot for GSEA\")\n",
        "   print(pic2_1)\n",
        "   print(pic2_2)\n",
        "   save_plot(\"pic2_1.png\", pic2_1, base_height = 10, base_aspect_ratio = 1)\n",
        "   save_plot(\"pic2_2.png\", pic2_2, base_height = 10, base_aspect_ratio = 1)\n",
        "}\n"
      ],
      "execution_count": null,
      "outputs": []
    },
    {
      "cell_type": "markdown",
      "metadata": {
        "id": "yXPWAy7ICnBK"
      },
      "source": [
        " 3.Gene-Concept Network"
      ]
    },
    {
      "cell_type": "code",
      "metadata": {
        "id": "SpNbeG3rE7NC"
      },
      "source": [
        "%%R \n",
        "gene_concept_network_3 <- function(){\n",
        "    pic3_1 <- cnetplot(edox, foldChange=geneList)\n",
        "    ## categorySize can be scaled by 'pvalue' or 'geneNum'\n",
        "    pic3_2 <- cnetplot(edox, categorySize=\"pvalue\", foldChange=geneList)\n",
        "    pic3_3 <- cnetplot(edox, foldChange=geneList, circular = TRUE, colorEdge = TRUE)\n",
        "    print(pic3_1)\n",
        "    print(pic3_2)\n",
        "    print(pic3_3)\n",
        "    pic3_4 <- cnetplot(edox, node_label=\"category\") \n",
        "    pic3_5 <- cnetplot(edox, node_label=\"gene\") \n",
        "    pic3_6 <- cnetplot(edox, node_label=\"all\") \n",
        "    pic3_7 <- cnetplot(edox, node_label=\"none\") \n",
        "    print(pic3_4)\n",
        "    print(pic3_5)\n",
        "    print(pic3_6)\n",
        "    print(pic3_7)\n",
        "    save_plot(\"pic3_1.png\", pic3_1, base_height = 10, base_aspect_ratio = 1)\n",
        "    save_plot(\"pic3_2.png\", pic3_2, base_height = 10, base_aspect_ratio = 1)\n",
        "    save_plot(\"pic3_3.png\", pic3_3, base_height = 10, base_aspect_ratio = 1)\n",
        "    save_plot(\"pic3_4.png\", pic3_4, base_height = 10, base_aspect_ratio = 1)\n",
        "    save_plot(\"pic3_5.png\", pic3_5, base_height = 10, base_aspect_ratio = 1)\n",
        "    save_plot(\"pic3_6.png\", pic3_6, base_height = 10, base_aspect_ratio = 1)\n",
        "    save_plot(\"pic3_7.png\", pic3_7, base_height = 10, base_aspect_ratio = 1)\n",
        "}"
      ],
      "execution_count": null,
      "outputs": []
    },
    {
      "cell_type": "markdown",
      "metadata": {
        "id": "5HIHYLhKC6dT"
      },
      "source": [
        "4.Heatmap-like functional classification"
      ]
    },
    {
      "cell_type": "code",
      "metadata": {
        "id": "0sGrMd3ADTTj"
      },
      "source": [
        "%%R\n",
        "heatmap_like_functional_classification_4 <- function(){\n",
        "    pic4_1 <- heatplot(edox)\n",
        "    pic4_2 <- heatplot(edox, foldChange=geneList)\n",
        "    cowplot::plot_grid(pic4_1, pic4_2, ncol=1, labels=LETTERS[1:2])\n",
        "    pic4_1 <- pic4_1 + coord_flip()\n",
        "    pic4_2 <- pic4_2 + coord_flip()\n",
        "    print(pic4_1)\n",
        "    print(pic4_2)\n",
        "    save_plot(\"pic4_1.png\", pic4_1, base_height = 70, base_aspect_ratio = 0.5,limitsize = FALSE)\n",
        "    save_plot(\"pic4_2.png\", pic4_2, base_height = 10, base_aspect_ratio = 3,limitsize = FALSE)\n",
        "}"
      ],
      "execution_count": null,
      "outputs": []
    },
    {
      "cell_type": "markdown",
      "metadata": {
        "id": "cABmbn9WVtLe"
      },
      "source": [
        "5 Enrichment Map"
      ]
    },
    {
      "cell_type": "code",
      "metadata": {
        "id": "nil7eBV8VD9E"
      },
      "source": [
        "%%R\n",
        "enrichment_map_5 <- function(){\n",
        "  edo <- pairwise_termsim(edo)\n",
        "  pic5_1 <- emapplot(edo)\n",
        "  pic5_2 <- emapplot(edo, cex_category=1.5)\n",
        "  pic5_3 <- emapplot(edo, layout=\"kk\")\n",
        "  pic5_4 <- emapplot(edo, cex_category=1.5,layout=\"kk\") \n",
        "  enrichment <- cowplot::plot_grid(pic5_1, pic5_2, pic5_3, pic5_4,labels=LETTERS[1:4])\n",
        "  print(pic5_1)\n",
        "  print(pic5_2)\n",
        "  print(pic5_3)\n",
        "  print(pic5_4) \n",
        "  save_plot(\"pic5_1.png\", pic5_1, base_height = 10, base_aspect_ratio = 1)\n",
        "  save_plot(\"pic5_2.png\", pic5_2, base_height = 10, base_aspect_ratio = 1)\n",
        "  save_plot(\"pic5_3.png\", pic5_3, base_height = 10, base_aspect_ratio = 1)\n",
        "  save_plot(\"pic5_4.png\", pic5_4, base_height = 10, base_aspect_ratio = 1) \n",
        "}\n"
      ],
      "execution_count": null,
      "outputs": []
    },
    {
      "cell_type": "markdown",
      "metadata": {
        "id": "OBrhLgljVw8K"
      },
      "source": [
        "6 Biological theme comparison"
      ]
    },
    {
      "cell_type": "code",
      "metadata": {
        "id": "hOWYZj_qln7G"
      },
      "source": [
        "%%R\n",
        "biological_theme_comparison_6 <- function() {\n",
        "  library(clusterProfiler, lib=lib_loc)\n",
        "  xx <- compareCluster(data, fun=\"enrichKEGG\",\n",
        "            organism=\"hsa\", pvalueCutoff=0.05) #pvalueCutoff正常為0.05\n",
        "  xx <- pairwise_termsim(xx)                     \n",
        "  pic6_1 <- emapplot(xx)\n",
        "  pic6_2 <- emapplot(xx, legend_n=2) \n",
        "  pic6_3 <- emapplot(xx, pie=\"count\")\n",
        "  pic6_4 <- emapplot(xx, pie=\"count\", cex_category=1.5, layout=\"kk\")\n",
        "  #cowplot::plot_grid(p1, p2, p3, p4, ncol=2, labels=LETTERS[1:4])\n",
        "  print(pic6_1)\n",
        "  print(pic6_2)\n",
        "  print(pic6_3)\n",
        "  print(pic6_4)\n",
        "  save_plot(\"pic6_1.png\", pic6_1, base_height = 10, base_aspect_ratio = 1)\n",
        "  save_plot(\"pic6_2.png\", pic6_2, base_height = 10, base_aspect_ratio = 1)\n",
        "  save_plot(\"pic6_3.png\", pic6_3, base_height = 10, base_aspect_ratio = 1)\n",
        "  save_plot(\"pic6_4.png\", pic6_4, base_height = 10, base_aspect_ratio = 1)\n",
        "}\n"
      ],
      "execution_count": null,
      "outputs": []
    },
    {
      "cell_type": "markdown",
      "metadata": {
        "id": "BgOkxF3OV2OS"
      },
      "source": [
        "7 UpSet Plot"
      ]
    },
    {
      "cell_type": "code",
      "source": [
        "%%R\n",
        "upSet_plot_7_1 <- function() {\n",
        "    pic7_1 <- upsetplot(edo)\n",
        "\n",
        "    print(pic7_1)\n",
        "    save_plot(\"pic7_1.png\", pic7_1, base_height = 10, base_aspect_ratio = 1.5)\n",
        "}"
      ],
      "metadata": {
        "id": "OQB6vpglCpVV"
      },
      "execution_count": null,
      "outputs": []
    },
    {
      "cell_type": "code",
      "source": [
        "%%R\n",
        "upSet_plot_7_2 <- function(change){\n",
        "   \n",
        "    kk2 <- gseKEGG(  geneList = geneList,\n",
        "              organism     = 'hsa',\n",
        "              minGSSize    = 120,\n",
        "              pvalueCutoff = change,\n",
        "              verbose      = FALSE)\n",
        "    if (length(kk2[,2]) < 1) {\n",
        "        print(\"no term enriched under specific pvalueCutoff\")\n",
        "    }\n",
        "    else {\n",
        "      #print(length(kk2))\n",
        "      pic7_2 <- upsetplot(kk2, n = 10)\n",
        "      print(pic7_2)\n",
        "      save_plot(\"pic7_2.png\", pic7_2, base_height = 10, base_aspect_ratio = 1.5) \n",
        "    } \n",
        "}"
      ],
      "metadata": {
        "id": "JQNdsGyrLAKr"
      },
      "execution_count": null,
      "outputs": []
    },
    {
      "cell_type": "code",
      "source": [
        "import ipywidgets as widgets\n",
        "from rpy2.robjects import r\n",
        "import rpy2.robjects as robjects\n",
        "from IPython.display import clear_output\n",
        "\n",
        "def upSet_plot_7_2_py():\n",
        "  slider = widgets.FloatSlider(\n",
        "        value=0.05,\n",
        "        min=0.001,\n",
        "        max=1,\n",
        "        step=0.001,\n",
        "        description='pvalue:',\n",
        "        disabled=False,\n",
        "        continuous_update=False,\n",
        "        orientation='horizontal',\n",
        "        readout=True,\n",
        "        readout_format='.2',\n",
        "  )\n",
        "    #slide.observe(on_slider_change, names=\"value\") \n",
        "  def on_slider_change(change):\n",
        "    clear_output()\n",
        "    display(slider)\n",
        "    r.assign(\"change_new\", change.new)\n",
        "    #print(change.new)\n",
        "    %R upSet_plot_7_1()\n",
        "    %R upSet_plot_7_2(change_new)   \n",
        "\n",
        "  display(slider)\n",
        "  %R upSet_plot_7_2(0.05)\n",
        "  slider.observe(on_slider_change, names=\"value\")"
      ],
      "metadata": {
        "id": "htH5BcP-w9cb"
      },
      "execution_count": null,
      "outputs": []
    },
    {
      "cell_type": "markdown",
      "metadata": {
        "id": "Uqes_mHxV7-z"
      },
      "source": [
        "8 ridgeline plot for expression distribution of GSEA result (X軸)"
      ]
    },
    {
      "cell_type": "code",
      "metadata": {
        "id": "QhgPmouzIqVZ"
      },
      "source": [
        "%%R\n",
        "ridgeline_plot_for_expression_distribution_of_GSEA_result_8 <- function(){\n",
        "    pic8 <- ridgeplot(edo2) + xlab(\"expression distributions of enriched genes (log2FC)\")\n",
        "    print(pic8)\n",
        "    save_plot(\"pic8.pdf\", pic8, base_height = 20, base_aspect_ratio = 0.6)\n",
        "}"
      ],
      "execution_count": null,
      "outputs": []
    },
    {
      "cell_type": "markdown",
      "metadata": {
        "id": "0I3cG9xTV_fL"
      },
      "source": [
        "9 running score and preranked list of GSEA result"
      ]
    },
    {
      "cell_type": "code",
      "metadata": {
        "id": "3t0n8N4eDQwV"
      },
      "source": [
        "%%R\n",
        "running_score_and_preranked_list_of_GSEA_result_9 <- function(){\n",
        "  pic9_1 <- gseaplot(edo2, geneSetID = 1, by = \"runningScore\", title = edo2$Description[1])\n",
        "  pic9_2 <- gseaplot(edo2, geneSetID = 1, by = \"preranked\", title = edo2$Description[1])\n",
        "  pic9_3 <- gseaplot(edo2, geneSetID = 1, title = edo2$Description[1])\n",
        "  \n",
        "  #cowplot::plot_grid(pic9_1, pic9_2, pic9_3, ncol=1, labels=LETTERS[1:3])\n",
        "  pic9_4 <- gseaplot2(edo2, geneSetID = 1, title = edo2$Description[1])\n",
        " \n",
        "  pic9_5 <- gseaplot2(edo2, geneSetID = 1:3)\n",
        "  pic9_6 <- gseaplot2(edo2, geneSetID = 1:3, pvalue_table = TRUE,\n",
        "          color = c(\"#E495A5\", \"#86B875\", \"#7DB0DD\"), ES_geom = \"dot\")\n",
        "  \n",
        "  pic9_7 <- gseaplot2(edo2, geneSetID = 1:3, subplots = 1) + xlab(\"Rank\")\n",
        "  pic9_8 <- gseaplot2(edo2, geneSetID = 1:3, subplots = 1:2) + xlab(\"Rank\")\n",
        "  #pic9_7_8 <- cowplot::plot_grid(pic9_7, pic9_8, ncol=1, labels=LETTERS[1:2])\n",
        "\n",
        "  pic9_9 <- gsearank(edo2, 1, title = edo2[1, \"Description\"])\n",
        "\n",
        "  pic9_10 <- lapply(1:3, function(i){\n",
        "    anno <- edo2[i, c(\"NES\", \"pvalue\", \"p.adjust\")]\n",
        "    lab <- paste0(names(anno), \"=\",  round(anno, 3), collapse=\"\\n\")\n",
        "    gsearank(edo2, i, edo2[i, 2]) + xlab(\"Rank\")+ \n",
        "      annotate(\"text\", 5000, edo2[i, \"enrichmentScore\"]* .75, label =lab, hjust=0, vjust=0)})\n",
        "\n",
        "#plot_grid(plotlist=pp, ncol=1)\n",
        "  print(pic9_1)\n",
        "  print(pic9_2)\n",
        "  print(pic9_3)\n",
        "  print(pic9_4)\n",
        "  print(pic9_5)\n",
        "  print(pic9_6)\n",
        "  print(pic9_7)\n",
        "  print(pic9_8)\n",
        "  print(pic9_9)\n",
        "  print(pic9_10)\n",
        "  save_plot(\"pic9_1.png\", pic9_1, base_height = 10, base_aspect_ratio = 1)\n",
        "  save_plot(\"pic9_2.png\", pic9_2, base_height = 10, base_aspect_ratio = 1)\n",
        "  save_plot(\"pic9_3.png\", pic9_3, base_height = 10, base_aspect_ratio = 1)\n",
        "  save_plot(\"pic9_4.png\", pic9_4, base_height = 10, base_aspect_ratio = 1)\n",
        "  save_plot(\"pic9_5.png\", pic9_5, base_height = 10, base_aspect_ratio = 1)\n",
        "  save_plot(\"pic9_6.png\", pic9_6, base_height = 10, base_aspect_ratio = 1)\n",
        "  save_plot(\"pic9_7.png\", pic9_7, base_height = 10, base_aspect_ratio = 1)\n",
        "  save_plot(\"pic9_8.png\", pic9_8, base_height = 10, base_aspect_ratio = 1)\n",
        "  save_plot(\"pic9_9.png\", pic9_9, base_height = 10, base_aspect_ratio = 1)\n",
        "  #save_plot(\"pic9_10.png\", pic9_10, base_height = 10, base_aspect_ratio = 1)\n",
        "  \n",
        "}"
      ],
      "execution_count": null,
      "outputs": []
    },
    {
      "cell_type": "markdown",
      "metadata": {
        "id": "zHPr2iAG30td"
      },
      "source": [
        "#開始畫圖"
      ]
    },
    {
      "cell_type": "code",
      "metadata": {
        "colab": {
          "base_uri": "https://localhost:8080/",
          "referenced_widgets": [
            "5cc4119409274c43bca54b7242a11cef",
            "5f69d7c44db4489db8224a9f0c1ccb74",
            "af1ea28efcd14ffda9d2016d23b23e3f",
            "1dbd12ea3b4c44b186a126b9d6e4176d",
            "392a4148a9ae4a76833d109efa99509b"
          ],
          "height": 49
        },
        "id": "Iv-8P2om_fzL",
        "outputId": "6f4a79e5-f577-4e25-8dae-22c3fc185f91"
      },
      "source": [
        "import ipywidgets as widgets\n",
        "from IPython.display import display, HTML\n",
        "output = widgets.Output()\n",
        "\n",
        "@output.capture(clear_output=True,wait=True) # based on https://github.com/jupyter-widgets/ipywidgets/issues/1846 and https://ipywidgets.readthedocs.io/en/latest/examples/Output%20Widget.html\n",
        "def draw(b):\n",
        "   if (filename):\n",
        "      \n",
        "      print (\"1. barplot\")\n",
        "      %R barplot_1()\n",
        "      print (\"2. dotplot\")\n",
        "      %R dotplot_2()\n",
        "      print (\"3. Gene-Concept Network\")\n",
        "      %R gene_concept_network_3()\n",
        "      print (\"4. Heatmap-like functional classification\")\n",
        "      %R heatmap_like_functional_classification_4()\n",
        "      print (\"5. Enrichment Map\")\n",
        "      %R enrichment_map_5()\n",
        "      print (\"6. Biological theme comparison\")\n",
        "      %R biological_theme_comparison_6()\n",
        "      \n",
        "      print (\"8. ridgeline plot for expression distribution of GSEA result\")\n",
        "      %R ridgeline_plot_for_expression_distribution_of_GSEA_result_8()\n",
        "      print (\"9. running score and preranked list of GSEA result\")\n",
        "      %R running_score_and_preranked_list_of_GSEA_result_9()\n",
        "     #%R print(barplot(edo,x = \"Count\", color=\"p.adjust\", showCategory=20)+ xlab(\"Count\"))\n",
        "     \n",
        "      print(\"還有一張圖!!!\")\n",
        "   else:\n",
        "      print(\"請選擇檔案\")\n",
        "        \n",
        "\n",
        "        \n",
        "run_button = widgets.Button(\n",
        "      description = '開始畫圖'\n",
        ")\n",
        "\n",
        "run_button.on_click(draw)\n",
        "display(run_button)\n",
        "output"
      ],
      "execution_count": null,
      "outputs": [
        {
          "output_type": "display_data",
          "data": {
            "application/vnd.jupyter.widget-view+json": {
              "model_id": "5cc4119409274c43bca54b7242a11cef",
              "version_minor": 0,
              "version_major": 2
            },
            "text/plain": [
              "Button(description='開始畫圖', style=ButtonStyle())"
            ]
          },
          "metadata": {}
        },
        {
          "output_type": "display_data",
          "data": {
            "application/vnd.jupyter.widget-view+json": {
              "model_id": "1dbd12ea3b4c44b186a126b9d6e4176d",
              "version_minor": 0,
              "version_major": 2
            },
            "text/plain": [
              "Output()"
            ]
          },
          "metadata": {}
        }
      ]
    },
    {
      "cell_type": "code",
      "source": [
        "print (\"7. UpSet Plot\")\n",
        "%R upSet_plot_7_1()\n",
        "upSet_plot_7_2_py()"
      ],
      "metadata": {
        "colab": {
          "base_uri": "https://localhost:8080/",
          "height": 1000,
          "referenced_widgets": [
            "cdf3ee3a9f554860967b9d65d1e1b838",
            "e0e8516b126d4de6a7201c2a0be1d025",
            "395fd529838f4051be3380e50473b578"
          ]
        },
        "id": "4ToAXDOzdHYI",
        "outputId": "dd24435f-779d-4513-852a-44acabf12a81"
      },
      "execution_count": null,
      "outputs": [
        {
          "output_type": "display_data",
          "data": {
            "application/vnd.jupyter.widget-view+json": {
              "model_id": "cdf3ee3a9f554860967b9d65d1e1b838",
              "version_minor": 0,
              "version_major": 2
            },
            "text/plain": [
              "FloatSlider(value=0.495, continuous_update=False, description='pvalue:', max=1.0, min=0.001, readout_format='.…"
            ]
          },
          "metadata": {}
        },
        {
          "output_type": "display_data",
          "data": {
            "image/png": "[encoded data removed]"
          },
          "metadata": {}
        },
        {
          "output_type": "stream",
          "name": "stderr",
          "text": [
            "R[write to console]: geom_path: Each group consists of only one observation. Do you need to adjust\n",
            "the group aesthetic?\n",
            "\n",
            "R[write to console]: geom_path: Each group consists of only one observation. Do you need to adjust\n",
            "the group aesthetic?\n",
            "\n",
            "R[write to console]: geom_path: Each group consists of only one observation. Do you need to adjust\n",
            "the group aesthetic?\n",
            "\n",
            "R[write to console]: geom_path: Each group consists of only one observation. Do you need to adjust\n",
            "the group aesthetic?\n",
            "\n"
          ]
        },
        {
          "output_type": "display_data",
          "data": {
            "image/png": "[encoded data removed]"
          },
          "metadata": {}
        }
      ]
    }
  ]
}