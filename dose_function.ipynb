{
  "nbformat": 4,
  "nbformat_minor": 0,
  "metadata": {
    "colab": {
      "name": "dose_function.ipynb",
      "provenance": [],
      "collapsed_sections": [
        "VOeBz4cmKMql",
        "t_06zRfZ4KQU"
      ]
    },
    "kernelspec": {
      "display_name": "Python 3",
      "name": "python3"
    },
    "language_info": {
      "name": "python"
    },
    "widgets": {
      "application/vnd.jupyter.widget-state+json": {
        "220b3a9f9cef4c579c0602e5bb43900e": {
          "model_module": "@jupyter-widgets/controls",
          "model_name": "RadioButtonsModel",
          "model_module_version": "1.5.0",
          "state": {
            "_options_labels": [
              "mouse",
              "rat",
              "human"
            ],
            "_view_name": "RadioButtonsView",
            "style": "IPY_MODEL_8c24d98f2eec42ba8541e7a646ed2f32",
            "_dom_classes": [],
            "description": "物種:",
            "_model_name": "RadioButtonsModel",
            "index": 1,
            "_view_module": "@jupyter-widgets/controls",
            "_model_module_version": "1.5.0",
            "_view_count": null,
            "disabled": false,
            "_view_module_version": "1.5.0",
            "description_tooltip": null,
            "_model_module": "@jupyter-widgets/controls",
            "layout": "IPY_MODEL_c1654043ed64429081cd87bd1b94c8a8"
          }
        },
        "8c24d98f2eec42ba8541e7a646ed2f32": {
          "model_module": "@jupyter-widgets/controls",
          "model_name": "DescriptionStyleModel",
          "model_module_version": "1.5.0",
          "state": {
            "_view_name": "StyleView",
            "_model_name": "DescriptionStyleModel",
            "description_width": "",
            "_view_module": "@jupyter-widgets/base",
            "_model_module_version": "1.5.0",
            "_view_count": null,
            "_view_module_version": "1.2.0",
            "_model_module": "@jupyter-widgets/controls"
          }
        },
        "c1654043ed64429081cd87bd1b94c8a8": {
          "model_module": "@jupyter-widgets/base",
          "model_name": "LayoutModel",
          "model_module_version": "1.2.0",
          "state": {
            "_view_name": "LayoutView",
            "grid_template_rows": null,
            "right": null,
            "justify_content": null,
            "_view_module": "@jupyter-widgets/base",
            "overflow": null,
            "_model_module_version": "1.2.0",
            "_view_count": null,
            "flex_flow": null,
            "width": null,
            "min_width": null,
            "border": null,
            "align_items": null,
            "bottom": null,
            "_model_module": "@jupyter-widgets/base",
            "top": null,
            "grid_column": null,
            "overflow_y": null,
            "overflow_x": null,
            "grid_auto_flow": null,
            "grid_area": null,
            "grid_template_columns": null,
            "flex": null,
            "_model_name": "LayoutModel",
            "justify_items": null,
            "grid_row": null,
            "max_height": null,
            "align_content": null,
            "visibility": null,
            "align_self": null,
            "height": null,
            "min_height": null,
            "padding": null,
            "grid_auto_rows": null,
            "grid_gap": null,
            "max_width": null,
            "order": null,
            "_view_module_version": "1.2.0",
            "grid_template_areas": null,
            "object_position": null,
            "object_fit": null,
            "grid_auto_columns": null,
            "margin": null,
            "display": null,
            "left": null
          }
        },
        "45d733abeb1e46389f6a12ed8386154c": {
          "model_module": "@jupyter-widgets/controls",
          "model_name": "RadioButtonsModel",
          "model_module_version": "1.5.0",
          "state": {
            "_options_labels": [
              "BCD_vs_ABC_ratio",
              "CDE_vs_ABC_ratio"
            ],
            "_view_name": "RadioButtonsView",
            "style": "IPY_MODEL_22c58ebff0a048cdb04837a55d8666f9",
            "_dom_classes": [],
            "description": "Ratio:",
            "_model_name": "RadioButtonsModel",
            "index": 0,
            "_view_module": "@jupyter-widgets/controls",
            "_model_module_version": "1.5.0",
            "_view_count": null,
            "disabled": false,
            "_view_module_version": "1.5.0",
            "description_tooltip": null,
            "_model_module": "@jupyter-widgets/controls",
            "layout": "IPY_MODEL_425d830f8ee9444b8d88d31e5c80f61d"
          }
        },
        "22c58ebff0a048cdb04837a55d8666f9": {
          "model_module": "@jupyter-widgets/controls",
          "model_name": "DescriptionStyleModel",
          "model_module_version": "1.5.0",
          "state": {
            "_view_name": "StyleView",
            "_model_name": "DescriptionStyleModel",
            "description_width": "",
            "_view_module": "@jupyter-widgets/base",
            "_model_module_version": "1.5.0",
            "_view_count": null,
            "_view_module_version": "1.2.0",
            "_model_module": "@jupyter-widgets/controls"
          }
        },
        "425d830f8ee9444b8d88d31e5c80f61d": {
          "model_module": "@jupyter-widgets/base",
          "model_name": "LayoutModel",
          "model_module_version": "1.2.0",
          "state": {
            "_view_name": "LayoutView",
            "grid_template_rows": null,
            "right": null,
            "justify_content": null,
            "_view_module": "@jupyter-widgets/base",
            "overflow": null,
            "_model_module_version": "1.2.0",
            "_view_count": null,
            "flex_flow": null,
            "width": null,
            "min_width": null,
            "border": null,
            "align_items": null,
            "bottom": null,
            "_model_module": "@jupyter-widgets/base",
            "top": null,
            "grid_column": null,
            "overflow_y": null,
            "overflow_x": null,
            "grid_auto_flow": null,
            "grid_area": null,
            "grid_template_columns": null,
            "flex": null,
            "_model_name": "LayoutModel",
            "justify_items": null,
            "grid_row": null,
            "max_height": null,
            "align_content": null,
            "visibility": null,
            "align_self": null,
            "height": null,
            "min_height": null,
            "padding": null,
            "grid_auto_rows": null,
            "grid_gap": null,
            "max_width": null,
            "order": null,
            "_view_module_version": "1.2.0",
            "grid_template_areas": null,
            "object_position": null,
            "object_fit": null,
            "grid_auto_columns": null,
            "margin": null,
            "display": null,
            "left": null
          }
        },
        "4b99d82b52a84c72bfa1ee819e4075dc": {
          "model_module": "@jupyter-widgets/controls",
          "model_name": "ButtonModel",
          "model_module_version": "1.5.0",
          "state": {
            "_view_name": "ButtonView",
            "style": "IPY_MODEL_6de5b6e4f8b84f698b8458441d424391",
            "_dom_classes": [],
            "description": "開始畫圖",
            "_model_name": "ButtonModel",
            "button_style": "",
            "_view_module": "@jupyter-widgets/controls",
            "_model_module_version": "1.5.0",
            "tooltip": "",
            "_view_count": null,
            "disabled": false,
            "_view_module_version": "1.5.0",
            "layout": "IPY_MODEL_7bf81e2b34f74248a7f5b2d3e222cdf1",
            "_model_module": "@jupyter-widgets/controls",
            "icon": ""
          }
        },
        "6de5b6e4f8b84f698b8458441d424391": {
          "model_module": "@jupyter-widgets/controls",
          "model_name": "ButtonStyleModel",
          "model_module_version": "1.5.0",
          "state": {
            "_view_name": "StyleView",
            "_model_name": "ButtonStyleModel",
            "_view_module": "@jupyter-widgets/base",
            "_model_module_version": "1.5.0",
            "_view_count": null,
            "button_color": null,
            "font_weight": "",
            "_view_module_version": "1.2.0",
            "_model_module": "@jupyter-widgets/controls"
          }
        },
        "7bf81e2b34f74248a7f5b2d3e222cdf1": {
          "model_module": "@jupyter-widgets/base",
          "model_name": "LayoutModel",
          "model_module_version": "1.2.0",
          "state": {
            "_view_name": "LayoutView",
            "grid_template_rows": null,
            "right": null,
            "justify_content": null,
            "_view_module": "@jupyter-widgets/base",
            "overflow": null,
            "_model_module_version": "1.2.0",
            "_view_count": null,
            "flex_flow": null,
            "width": null,
            "min_width": null,
            "border": null,
            "align_items": null,
            "bottom": null,
            "_model_module": "@jupyter-widgets/base",
            "top": null,
            "grid_column": null,
            "overflow_y": null,
            "overflow_x": null,
            "grid_auto_flow": null,
            "grid_area": null,
            "grid_template_columns": null,
            "flex": null,
            "_model_name": "LayoutModel",
            "justify_items": null,
            "grid_row": null,
            "max_height": null,
            "align_content": null,
            "visibility": null,
            "align_self": null,
            "height": null,
            "min_height": null,
            "padding": null,
            "grid_auto_rows": null,
            "grid_gap": null,
            "max_width": null,
            "order": null,
            "_view_module_version": "1.2.0",
            "grid_template_areas": null,
            "object_position": null,
            "object_fit": null,
            "grid_auto_columns": null,
            "margin": null,
            "display": null,
            "left": null
          }
        },
        "052a76c0308b4f4e9d7f622d4b278ae7": {
          "model_module": "@jupyter-widgets/output",
          "model_name": "OutputModel",
          "model_module_version": "1.0.0",
          "state": {
            "_view_name": "OutputView",
            "msg_id": "1d0be5bf5b904e19c2627c2fb3e2e4b0",
            "_dom_classes": [],
            "_model_name": "OutputModel",
            "outputs": [
              {
                "output_type": "stream",
                "name": "stdout",
                "text": [
                  "1. barplot\n"
                ]
              },
              {
                "output_type": "display_data",
                "data": {
                  "image/png": "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\n"
                },
                "metadata": {}
              },
              {
                "output_type": "stream",
                "name": "stdout",
                "text": [
                  "2. dotplot\n"
                ]
              },
              {
                "output_type": "display_data",
                "data": {
                  "image/png": "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\n"
                },
                "metadata": {}
              },
              {
                "output_type": "display_data",
                "data": {
                  "image/png": "iVBORw0KGgoAAAANSUhEUgAAAeAAAAHgCAIAAADytinCAAAgAElEQVR4nOydeVxTx/r/J+yCrAER2XfKooD7cgUVXIq2iuCCIlqt2Ftt7c8rba23VW/Vqvi1lda61br3KooLuNSViitQoIKgqIAooAQIAUL2zO+Pac9Nk5NDcgIJgXm//COeM8/McybhycmcZz4PA0IIMBgMBtP9MNC1AxgMBoMhBwdoDAaD6abgAI3BYDDdFBygMRgMppuCAzQGTJ06NTU1VdnZ9PT0+vp6ZWdfvXrFYDDa2trUNf/mm2+YTGZycrK63gIAzp8/HxkZaWVlZW5u7ufnl5KSQjhQV1eXmJjo4uLi4ODg4uKSmJhIjG5vb29oaGgkQ9++fWW73bx5s42NzenTp2m4hMF0BThAYzrgyy+/pAjQtM1/+eWXHTt27NmzR90Of/jhh/nz58+ZM+fJkyccDufEiRP5+fkxMTEoH2n+/Pl9+vR5/Pgxi8UqKipqbW2dO3cuYXv69GmxDLLfK1KpdP/+/Tt27Ni9ezetC8VgugCI6ZUcPnzYy8vLz89vyZIlkyZN2rZtG4QwJydn+PDhfn5+b7311vr16yUSycyZMwEAnp6eBw4cqKysZDAYO3funDRp0qBBg5KSktrb21++fAkAaG1t7dBcdvTp06ebmJgMGDDgww8/JDV8+fKloaFhWlqag4NDWVkZYdja2mppablnzx7Z3tra2urq6tBre3v7c+fOEaeam5tfvnyJXjOZzDNnziibkMzMzClTpkgkEk9Pz6dPn2o4vRhMp4ADdG+ktrbWxMTk9u3bEMLs7GwjI6Nt27Y1NTWhH/gQwvr6ejc3t6NHj0IIAQDFxcUQQhSL//3vf0MIhUJheHj4//3f/xEBukNzOYKCgtLT0yGEpIbopnvNmjUSiUTW6saNGwCAlpYWZZe2fPny/v37b9269ffffxeLxbKnqAP022+/nZGRASH8z3/+869//UvVqcRguhK8xNEbyc7Odnd3Hz16NAAgIiIiODgYAHD9+nV7e/vY2FgAgIODw7x58zIzMxVt33vvPQCAsbFxTExMdnY2cVxFc0VIDRkMBgBg3rx5BgZ/+4g2NTVZWFhYWlqi/3755Zf9/+LmzZsAgJ07d+7cuTMvL2/atGk2NjZz5swpLy8nzGfNmmUmw4oVK9DxqqqqwsLCadOmoQs8cuSIQCBQbS4xmC4EB+jeSENDg52dHfFfBwcHAMDr16/RCwSTyXzz5o2irY2NDXphZWXFZrOJ4yqaK0JhKHsc0a9fPy6XS4y7evXqoqKioqIiS0tLFFIZDEZ8fPzJkydramry8/PNzMwiIiJ4PB5qf/LkSb4MaWlp6Pju3bubmprs7e1tbGwCAwMbGxtPnTqlivMYTJeCA3RvxM7OrrGxkfhvXV0dAMDJyUn2aR6LxXJyclK0JaKnXJRX0VwRCkN0Hy3L0KFDmUzmTz/9hP5raWmJbp/RjXZdXd2xY8eIxv7+/lu3bn39+jVah1GGUCg8cOBAYWFh818cP34cPyrEdAdwgO6N/OMf/6isrPztt98AAL/++uuTJ08AAOPHj29qajp79iwA4M2bN8ePH4+LiwMAGBsbNzU1EbZ79+4FALS1tZ09e3bChAnEcRXNFVFmSIqZmdmOHTu+/PLL7du3v3r1SiwWl5SULF68mMVieXp6AgA++OCDTZs2tba2AgCam5u3bNni6enp7e1N4cCpU6cGDBjw1ltvEUemTp1aVFT06NEjCisMRhvoehEcoxv27t3r6urq5uaWlJQ0Y8aMrVu3Qghv3749YsSIgICAwMDA1NRU1DIpKcnc3Pyrr75C96G7du0KCwtzdnZeuHAhn8+XzeKgNpdzgHhISGrIYrEAACwWi9T5K1euTJgwwcrKytTU1MfHZ+XKlTU1NehUQUHBu+++6+joaGVl5eDgkJCQ8OzZM3SKyWQaGBgY/p3bt2+PGTNm8+bNckPMmzdv+fLlGk0xBqMxDIjV7DCq8erVK1dX19bWVrn9HRgMpovASxwYDAbTTcEBGoPBYLopeIkDg8Fguin4DhqDwWC6KThAYzAYTDcFB2gMBoPppuAAjcFgMN0UI107gNEBfD5fKBSi58OK26lVAUKoZUNdDUob7Xurd2+oLIaGhhYWFpr308PAAbo3smvXLiaTKRKJIIQmJiY0ehAKhfQM+Xw+qmairiGEUCKR0DAEAHC5XHNzcxpxRCwWGxgYyCnqqYJEIhEKhX369FHXEGgwt0KhEACg5TeUx+OZmJgYGhqqayiVSqVSKfGGPnr0aOvWrTQc6NngAN0bMTY2RnL7UqmU3rZALpdL736Hw+GYmZmZmpqqayiVSoVCoZmZGY1BGxoamEwmjQAtEAiMjIxoRB+RSMTlcgnlP7WgPbdcLhcAQNuWnmFzc7OFhYWxsbG6hhKJRCwWE58EQlkQIwsO0BgMpsvhP27kP2826GNkHupoZEfnW7Z3ggM0BoPpQpozn735Nr/lxgviiN2ct1y3jTN0MtehV/pCt87iyM/P9/HxoWhw8OBBZaeKioqQLfFCdSi6pR6L+myHl6NKt0QnpN2q6zkG06XU7yp8+s5p2egMAGj6b9kfrrsEz5t15ZUe0a0DdGho6P3795WdhRB+9tlnnT5oF3ULOroc2p0QR7rOcwyGBoLnzS8+vKLs7KtPbmjTGT2lWwfooqKiESNGoBehoaFffPHFxIkTAwICfv31VwBAbGxsfX19cHDwy5cvs7KyBg4c6O3tHRUVhaSESSFtdvToUS8vLxcXl/nz5wsEAqLb9PT0gIAA1Ob+/fvE6/379/v5+Xl6ekZGRlKU6ti8ebOrq2toaOiFCxfkLkcoFCYmJnp7e3t6es6bNw8VZCLtlsFgrFq1ys3NzdfXF9XcIzpRnCXCc0dHR6JiU2ZmZlhYmHrzjsF0BqwDDynOci5WCJ5QVXLAgG4eoAmMjIyKi4sjIyOvXLny9ddfr1+/HgCwb98+ExOTkpISAwODpKSko0ePPn/+fMqUKUuXLiXtpKamRrFZVVXVypUrr1+//uLFCw6Hs2PHDqJbV1dXxU5YLNby5cuvXLlSWVnp4+OzceNG0rHKysq2bt2am5tbUFBQWloqd/b8+fNv3rx59uzZ8+fPnZycCgoKlHVbVVUVHBxcXV29du3a5ORk6lkiPP/000+PHz+ODp49e3b27NnodVNTU25ubm5uLpfLFYlEEolEKpWKaEHbEGXL0TAUi8X0DEUiEQCAniHKNKBhiAqK0xtUkzdFJ2+osilq/4OqKCUEgJv3WtYB6o9370RvHhJaWlpGR0cDAHx9fWtqamRPXbhwYfDgwQMHDgQAJCcnf/755yKRSLEH0mZXr14dPXo0qpZ04sQJQ0NDVC1JGQ4ODmw2G+W3jh8/Xtma72+//TZ27FhUW2/BggUPHjyQPdu/f//S0tKLFy9OmDAhNTUVHSTt1tTUNCkpCQAwd+7cRYsWNTQ0dDRPAAAwZ86ctWvXcjgcS0vLzMxMYknk8ePHW7ZsAQC4u7u3tbWhPwmJRKJKn3KgP0sahlKplM/n06uZDSFEqb40QCloNEakvQtDKpW2tbXRG5T23AIA6Nlq+IaSnhIJqTpkAMBnc4kpIv2bxehNgCbSdQ0NDeViSnNz8927dz08PNB/LSwsSAMZaTM2m21ra4uOmJubAwCoAzSEMDU1NTMzk8FgsNlsNzc30mZNTU1Et7KVVRFjxozZsWPHtm3bEhISZs6cmZaWZm5uTtotqtIEADAxMTE3N5etok3BgAEDhg8fnpGR4e3t7eHh4eXlhY6PGjXq3LlzAIC0tDRbW9telQdtY2OD86C7YlCKPOgmW/N2Stu+nkziz4TGR6I3oDcBmoIBAwZERUWhqqMERPFp6mb29vbEYjSbzW5rayN2fxkaGhI/u1paWtCLjIyM9PT0nJwca2vrw4cPHz58mNQlW1tbDoejzBMAQHx8fHx8fGNj4+zZs3ft2uXl5UXaLZvNRjdxQqGQy+UymUyiW2oSEhLS09N9fHyI9Q0MRstYT/JsOvmYooHFWGetOaOn6McaNCnGxsYikcjLyys6OvrevXsJCQlMJvO9995TdtuCmpWXlwMA8vLyVqxYAQBwcXG5fPnyo0ePJBLJ0qVLjx07ZmxsLBaLuVyuk5NTbW0tuivJyMhAndTV1bm7u1tbWzc3Nx89ehT9QHvy5El1dbXsWKNGjcrOzq6trRWLxT///LOcJzt37ly3bh2E0M7OztXVlcFgkHYLAOByuadPnwYAnDhxIigoSPFmHACQlZVFTAjyHAAQFxd3+/bt48eP4w1aGF3BnB9kNd5d2VmnL0cZWuG75g7Q4wBtbW09fvz4pqamqqqqAwcOnDx50tLS8o8//jh27Bhpe0dHxwMHDsTFxfn6+n7wwQfo1rJfv34ODg6TJ092cXExMzP75JNPULcuLi41NTXvv//+yJEjY2Ji/Pz8kBLN7NmzWSxWQEBAfHz8+vXrq6qqVq9erTjWoEGDVqxYMXjw4JCQkDFjxsitycydOzc/P9/d3d3Ly4vL5S5btoy0W5FIFBQUhBJINm7cuGfPHsWBIIRECCY8f/Dgga2tbWRkpIuLCz3xCgxGcxgmhh57J1uNI1kGdFga6rR2pPZd0ju0HaAVM8zy8vJCQkJWrFgxfvz48PDwnJwc1DIrK+u9996DEEZFRTk6Or569QoAcPTo0XfeeQcAgFLiNm/ebG9vP3z48P3790MIzczMpk2b9vHHHwMAQkND161b5+XlNXXq1BEjRqCnUjExMQ8fPnz69OnMmTPnzp2LcuD69u378uXLurq62bNnDx061NvbWyqVlpeXDx8+/Pbt2+vWrbtw4cL/+3//75tvvhkxYoSDg8PatWtNTEwqKir+/e9/FxcXb9u2zd/fn1g1Tk9PDw4Ofuutt27dunXz5s2ysrIxY8b07dt3xYoVKSkpVlZWOTk5Dg4OX3/9tZ2dXXx8fH19/fDhw4uLi52dnU1NTQMCAkaOHPn69euIiIjFixdzudyioqKcnJzHjx9bWFiEhoaeOXPGy8srICAA5YHExsay2WwzM7OXL1/u37+/qqrKxsbm008/ffny5YABA95++20tv78YjCym3ja+WXFu30XZTPtzLxUzIdD/2hyPPZOAgbb1BfUSqF3S09Ojo6OlUqlEIlm1atXt27cLCwsBABcvXoQQXrx4Ed2rvnr1ys7O7o8//kAP5aZPnw4hrKysZDKZFRUVYrF46tSpmzdvzsvL8/b2Rj1bW1u/fPmSOKLYmPChtLTUxsamtrZWIpEkJCSg9qQjfvPNNwsWLEBWCxYs2L59O2mzwsJC1MmLFy+srKyePHkCIfz++++HDx+OzipeYHFxsYGBwZ07dyCECQkJQUFBfD6fx+P17du3rq6OdBRkcuXKFTSNI0eOhBCyWCxTU1MIYX19vampaWVlJYRw8eLFs2bNcnNzy8nJIeZHlp07d0IIuVxua2srvfexra2NnmFzczOfz6dhKJFIeDwevUFZLJZUKqVhyOfzUcKcugiFQvT8gAa057atrU0TW3qGbDYbSdeqi1gslv0koM8kRg5tB+icnBxnZ+esrCzij62wsNDGxga9FolEDAajvr5+z5490dHR6GBra6uxsbFQKNy7d+8777yDDnK5XD6fTxGgFRsTPvz444/EqcuXL6P2pCM+f/7c3t4epXkymczq6mrSZkSA3r9//7Rp09BZHo9nYGDA4XBIL7C4uJjJZKKDa9eu/eCDD9BrHx+fgoIC0lGKi4utra3RwaKiIjc3NygToCGE7e3t6MU777xjZmaWmZlJOCYHDtAqggN0h+AA3aVoe4FSMcMMAGBtbY3OGhkZoWQyFVPiKKBoTJoDRzoi2mF49+5dkUjk7+/v6upKndLHYrHs7e3RazMzM3Nz8/r6etILBH9PHCQ8REmEykahyDWEf8//Gz169NSpU4uKiqhnCdMLgWIp90Et/ymbYWhgHtqvT4iDrj3CKEUHT5DkMsyio6MbGxshhAwGg8/nc7lcOzs7FVPiKEZRbEzsDCTNgSMdEQAQFxd3/vx5gUAwa9YsZc2IThwdHe/du4de8/n89vZ2R0fHtrY2xQt8/fo1hfOkozQ2NlKYqJj/h+nlNJ0oez7nPHoNAWAAYBXt4fL1WBBkpVvHMKRo+yGhYoYZAIDP5yPtiPT09MDAQHt7e9KUuEmTJt25c0c2JY5iIIrGpDlwpCMCAOLj469du5aVlRUXF0fRjOjk1q1bz549AwDs3r179OjRlpaWpBdIPUvUo8hCpNYpS9TDYAjqfyggojMAAD2ka7laVTr8cPvdOl15haFA23fQaMuyu7u7oaHh0KFDly1b9uzZMw8PjwcPHqxdu5bBYPz0009AJiWOx+NZW1t/++23AABnZ+d9+/ZNnjxZLBZHRUV98sknxcXFygZSbEycInLgbGxsli5dWlBQoGxEAICfn59UKnV2dnZ2dqZohnBxcTlw4EBsbKxQKHR1dSV2bCteIDXUo8hCpNYdOXIEJeq5urpu2LBhxowZq1evnjdvXodjYXoJwuqWF8uvKjtb/5/79pFeDGM9zrvtkTAghLr1oKioKC4uDt119ki64QWmpaWtWLGiV231xiWv6jbff7XmNwpz/6uzraI81B20E0teUfxS7LXgXQy9iPr6+ocPHwIAOByOQCBA+Qn0dIskEgk9Q6SaRsMQQigWi+kNCgAQCAQ0AjRSWaNXNFb7c4ueGyuzbSuieuwBAGj5vdb0H07qDgohpKdFh3Jtif/SE+3q8eAA3YuoqalBe9b79OnD5/PRn4QyKTJqUACiYYgCNI2/RpR1RPvPmPbXiVgsphHZIYQUMm/U0J5bNDnKbMXcDmZA2Mqn4TD6ZUNvimTfUBygSdF9gA4NDe1WP/87ne5zgWFhYbt27QIApKWlWVtb96olDisrK+0vcRDplWrRRUscHG9mG6iiMLf2d6ThcGctcZiYmKjbQ28APxPQHrSLE3bYIQbTIcRma2VYTfLUjicY1cEBWgd0SnFCDEYtrKI8bGP9lJ11+GyocT9cZrvbgQN0l6NucUJCbikyMvLx48cAgMLCwvDw8MTERFRTRrFDQFZuUc4Kg/E88DbpfbTjisEOa4Zp3x9Mh+AA3bWoW5ywurp6yZIlGRkZZWVl8fHxCxcuBAAYGxuXl5fHxMRcvXqVtEPScouyVtq9aEw3xdDa1PfcTN/MOPsFwTZTva2nePVbHh6Yl+S2Mwpry3VPdP+QsGejbnHCn376KSIiws/PDwCwePHijz76CBVzkUqlaK85aYfKqjISVhjMnzCAzVRvm6neuvYDoxL4DrprUbE4oaOj43vvvcflcpXJLdna2qJsXGqlJw8Pj+DgYEJcibDCYDD6CP7r7VpUKU6YnZ1dUVFRXV29a9cuR0dHQhSJkFsCABApYhRKT1V/wWaz0S027YrUGAymO4ADdNeibnFCZXJL1B2qLq6E0T5iNv/Vp9nlk07mMbbkMbY8m3mm9dZLXTuF0Q+6UYBG0kIlJSUuLi6a90aaa6xi4rCG+cWy5orFCYuKimbMmIE83LFjh1xxQkJuKSAg4MKFC4TcEgFptUPScouY7oCwuqXQ7ru6rQ84VyrREXZG+eOI4292/q5bxzB6ge7FkhAQQicnp9evX5eUlEyePBlVINQEsVjc3NwsJ+ypom6RhvJG1ObEWVIPtQMWS1IRzcWSnk471Zz1XLEBBCC4aJH5oH6Kp7poJ2GHtvQMsVhSl9Jd7qBjY2Pr6+uDg4NfvnxpbGy8YcMGT09PDw+PX3/9FQAwZMgQpKcMAMjMzAwLC5NL8lXMHSZyjYGSxGGCLVu2eHh4hIeH7927lyhiQrB//34/Pz9PT8/IyMiXL1+inkNDQ7/44ouJEycGBAQgDzscRd1saMW8ZlJnVLfFaB/+kybS6AwAYADA2oPr3WA6oLuk2e3bt+/SpUslJSUlJSV1dXUeHh6VlZV79+7dsGHDpEmTEhISjh8/jiTzz549O3v2bJTkm5KSMmfOHJQ7nJeX5+fn98MPPyxcuFB2nx5KHC4tLXV0dExMTJQb99GjR5s3by4rK7Ozs3v33XeNjP42ISwWa/ny5Y8fP/bw8FiyZMnGjRt3795tZGSEinlv3Ljx1KlT69evnzRpEvUo1GeJbGgIYUpKSkFBgYeHR1JS0s2bNwcOHLh9+/alS5eeOXOG1BkVbdFAtbW1aGaampqIanv0BH1QQTkahkgsicbvNqRmR2NEBJ/Pp3EHLRaLJRIJPTU7qVTKyaP6IcirbCadQ9pzi+ZH+2+oUCikIXUklUpRoUj0XyyWREp3CdCymJiYLFiwAAAwfPjwjRs3AgDmzJmzdu1aDodjaWmZmZl5//599PMcJflevXqVNHcYQZ2JfOvWrXHjxqGzS5cuTUlJkT3r4ODAZrP79OkDABg/fjyxImxpaYnu3H19fWtqajocRd1s6L179yrmNZM6o6It+gXa2NiYm5sL/i4pR0/8U0PVUHoBmoamJQG94I6CCG2pNjFfBP8qXELaOekc0p5bND/af0PRtxENQwThAI3RezzdMUBbWf1ZHo0ojTpgwIDhw4dnZGR4e3t7eHh4eXmVlJQQSb7KcocR1JnIbDabyWSi16hmiixylVjd3NzQccXirdSjqJgNTRTSJS0a279/f0VnVLRF3w0hISHffPMNACAtLc3S0rL3rEELBIK+fftqeQ1aKpXaDBxQq7yNWb++cik6CL1bg+7Tp4/ma9A0eugNdJc16A5JSEhIT08/deoUkaJA/L0pyx1GUGciW1lZEWfr6uTLsqFKrFevXkUFqyjcox5F3Wxo0rxmZc6oYkvhOabrsBjS32q8u7KzzHmB2nQGo490lwBNFD9V1iAuLu727dvp6enx8fFyp6hzh6kzkYcNG5adnd3Q0CAUCvft2yd3VvVKrNSj0MiGVsxrJnVGRVuMbjBgOH/9D9IzDksGWU/20rI7GL2juwRoovip3Posga2tbWRkpJeXF7HOQECdO0yaOEwwbNiwpKSksLCwiIiImJgYuV/Bs2fPRpVY4+Pj169fX1VVtXr1alL3qEehPjt37ly5bGjSvGZSZ1S0xeiKviOdg4oWyWnIue2Y4LFnkq5cwugTUH9ITk7+4YcfOr1bVGEIQnjz5s0hQ4Z0ev/dkJ07d0IIuVxua2srvR7a2troGTY3N/P5fBqGEomEx+PRG5TFYqGEAXUhcl3URSgUstls2SOiRh7399e88ibYkSO057atrU0TW3qGbDZbKBTSMER5I8R/0WcSI0d3uYPukNLS0kuXLs2bN69zu2WxWNbW1o8ePYIQHj16dOTIkZ3bPwaDMLIzMw93NPO1VZrVgcEo0B2zOBRZs2bN0aNHd+3aRa/IGwUODg6pqalTp06VSqWhoaE//fRT5/aPwWAwtNGPAL1p06ZNmzZ1UefJycnJycld1DmmBwBFUkkz38DC2MAcp4JhtIp+BGgMRicInze/+vpB0y9l6L/Wk736fRiO1e4xWkNv1qC1g6J6nIomqovwdXptb0wXwc1//TjoIBGdAQCcyxVPp52q20qeaITBdDo4QP8PCOFnn33W1SYEuLZ3dwZK4KuUm6SnXn2a3f4QS1BhtAEO0P9DVlFPUR4PkGnmUYvwyYLV7PSLtrs1LTerlZ1tOFisTWcwvRa8Bv0/CEU9Unk80oPUInxEz91Eze7Zs2eXLl0CALx584bL5SJVOYrdmxQgvWMahhKJRCAQ0JAughBKJBLammft7e1qtW8uoBKiay9jUV8+UlnS8twitSMtDyqVSvl8vlAoVNcQQiiVSolPgiZShT0YfAdNgpw8Xl5eXktLC+lBWStZET65ggOEmp2BgQFqIwuhSCcUClNTU0ePHi1XpfvChQuEmh1SQRo/fnxFRYXqtl02VT0WBk5XxnQD8B00CaTyeKQHbWxsCCtFET6CbqJm5+Pjg6Q50tLSLCwskJqdlsXPkICZltXseDyeubm5Wmp20rAB8tJZMpgH2FNfPlJz1fLc6kTNTiQSmZmZaa5mJyfFjkHgO2gSSOXxqDXzqMFqdnpH39EuFEJ09gtDtOkMptfSaQFaw0KrndgJbdLT05GinqI83vPnz9evX6+omYdE+O7du/f2228D5Zlz6qrZOTk5ZWVldYqaXUhICJPJPHv2bNfOXY+DYchw+SaC9JTLpgjSWoIYTKeDf1b8CYRw/fr1SFHv8uXLSB5PKBS6uroePHiwpaXFyMhI7iD4S4Rv0qRJZmZmJiYmKHPu9evXcp0TanY2NjZLly4tKCiQPTt37txFixa5u7sbGhoOHTp02bJlz54969evX1xcHI/Hs7a2/vbbbwEAs2fPPnr0aEBAgKur64YNG2bMmLF69eqUlBQ52759+yI1O2RbXV2NHmxqayJ7DhZDnfxLFtZ//YD93782qkzy7PfPcJt3cPY6RltoKLa0adMmFxeXQYMGff31197e3uhgZmZmSEiIl5fXhAkT6uvrIYRDhgw5ffo0OpuRkTF8+HDSZoWFhUQnJ0+eDAoKCggIiIiIKCsrgxDm5uYGBwcvX7583LhxYWFht27dQiaDBg1avXp1REREYGDg9evXY2NjBw4cuHz5cmXOIJM1a9ZER0f7+/tfvnwZQjh9+nQGgxEUFFRdXb1v3z5fX18PD4+IiIjq6mo5xyiuPS8vD70QCATz58/38vLy8PBISEhob28nvaKCgoKwsLD58+dHRUWpPplyVgSK/U+fPt3AwMDf3z8zM1O2JVazUxGkZicViAUvWyRtami2KarZqQ5Ws8MQaBSgS0tLbWxsamtrJRJJQkICiimvXr2ys7P7448/IISpqanTp0+HEH7zzTcLFixAVgsWLNi+fTtpMyIOvnjxwsrK6smTJxDC77//HgX0wsJCAMDFixchhBcvXvTz84MQFhcXGxgY3LlzB0KYkJAQFBTE5/N5PF7fvoYeu7wAACAASURBVH3r6upIR0EmV65cgRCmp6ePHDkSQshisUxNTSGE9fX1pqamlZWVEMLFixcnJydDsgBNeu1EgE5PT4+OjpZKpRKJZNWqVbdv3ya9ouLiYgsLi19++UWtyZS1IiDtH0JobW398uVLuTcOB2gV6US5UdXBARpDoFGA/vHHH9955x30+vLlyyim7NmzJzo6Gh1sbW01NjYWCoXPnz+3t7cXi8UikYjJZFZXV5M2I+Lg/v37p02bhs7yeDwDAwMOh1NYWGhjY4MOikQiBoNRX19fXFzMZDLRwbVr137wwQfotY+PT0FBAekoxcXF1tbW6GBRUZGbmxuUCdAQQnTDCyE8duwYMlcM0KTXTgTonJwcZ2fnrKwsIqaQXlFxcXGfPn2QILXqkylrRUDaP8QBGkKIA3RXDooDdJei0Ro0afYYaZqXl5eXi4vL3bt3RSKRv7+/q6sraTOiZ2V1YAm5USMjI3NzczabDf5ewtXc3Jx4LZFIlI2iWPVVds2HtFCsKtdOoJj9puyKiNK3qk+mrBX1jBGZfxgKhC9a3uzM55U2ci5XWE/xshjq5LhisJF9H137hcFo9pCQNHsMpXkppg3ExcWdP39eIBDMmjVLWTOiE0dHx3v37qHXRE5bW1tbY2MjhJDBYPD5fC6Xa2dnp/hEThbSUYhsOVJQNltOTo61tfXhw4cPHz6s+rXLEh8fHx8f39jYOHv27F27dpFe0YsXL4jkXNUns7GxUTGll7R/isvEIBp/Ka1IyCT+y7lUwblUUbvhjv+NuVbjyL+bMRitoVGaHWn2mLKipfHx8deuXcvKyoqLi6NoRnRCWgeWz+efOnUKAJCenh4YGEjcMypD9QqqRNVaFQvF0qgDS1HZVt3JJL1S6v4xirRcfyEbnWV5Mv4XXhnVFzkGowU0uoMmzR4jipbKpogBAPz8/KRSqbOzs7OzM0UzBFEHVjanDQDg4eGBtmkwGAxVqp9QjyILUbX2yJEjqDarbDabYqktdTPnUPab4hXRm0xFlM0YRikQ1G26R3G+5ssc16NTtOYOBqMIA0Koax9UpaioKC4uDt0kYjQhLS1txYoVaKs3sRyvFrR3BnM4HDMzMy1v9W5oaGAymXLrQu1F9Y/C5H/6yBFYu8ysX19DQ0N1R0TaQ7JKAKqjX1u9m5ubLSwsNN/qjT6TNBzo2eCNKr2Ix48fZ2RkAADQ436Un6BsDYcasVhMz1AikfD5fBr6TfDv4mfqoijV1vJHTYdWbaVvpH0N1BLxQCA1Oy3PLZpVerdctAeVSqU8Hk8gEKhriN5Q4pOAJb1IwQG6F9GnTx+0vlRRUUGkr9C4PQQASCQSeoYMBsPAwICGLYo79AYlNTQ06fjDb2hqbGBgIJcwo8mgqkB7bnXyhgIA6L2hUqkUyHhL41uwN6BPATo0NBSvb2iCu7t7UlISACAtLa1Pnz7oFqZPHzr5ZLQNhUKhiYmJlpc4uFyumZmZXAgwGOqiVJD/LywCHUzMzOgtcYjFYi3PLQp5Wh5UIBCYmppiNbsuAqvZdT4UD+gU1aBUL2bYYYfqVkfs5Zj62NrEUJV/dVgyyMACl/HG6BIcoDsZqEGVQn0cV69x2RpJcdZ541htOYLBkIMD9J8UFRWFhoampKRERkYGBQXduHFj5syZKPUNNVAs9IdMvvjii4kTJwYEBKA6hLJVChVLCJJCWsxQxZqEBKpXR8QQ9Am0D3wgX+AGAGAV5THw6VLjfubadwmD+Ru62WHe/dCV6FJxcbGpqemhQ4cghHv27Bk1ahRUopFE3SExLmmHcmAtjr/1zBOxfn5YsSDryeSTFe9dbEp/LBX/2RhrcXQI1uLoUvAd9P+wtbUdNWoUAMDLy2vs2LGmpqZmZmb9+/evq6tTVujP0tIyOjoaAODr61tT87e0LdISgqQoFjNUvSahih1iKDAwM7JfGOJ5KMbvUrznT1Ns4/wZhjijANMtwE9O/4dORJcAWTFD1WsSqtghBoPRR3CAVomuE11SfbjTp0/T7hCDwegjeIlDJbpOdEnZcDdv3iwvLy8pKenXrx9FTULFceleYu9F9Ib78l83y99Oz2NsKY85VbvhjrRNqGunMBgAcIBWEUK0yNfX94MPPpg9e7ayloTokoeHBxJdio+PX79+fVVV1erVq1Ucrl+/fgYGBnFxcTExMc3NzWi42bNnU3RIjPvgwQMNL7ZXwS9vKur//evtuZxLFQAAzsXnNV/dfvpuhpjVrmvXMBi8xPEXwcHBVVVV6PW6deuI448fP0YvYmJiYmJi5EyIR3Cyr69cuYJeTJ06lWhM6FZ/9tlnfn5+IpHI3d39yJEjwcHBFRUViYmJd+/elUqlERERPB4vISGBw+E4Ozvv3r37n//8540bNxITEyGEe/bsmTRpUlFR0cKFCxcsWJCbm3vx4sW9e/fOnDnz2bNnY8eORUNDCIkhCJFoDCnVH19XPNhy48XL1Tc9D8YonsJgtAm+g9YqLBZr+fLlV65cqays9PHx2bhxIwDg/Pnzb968efbs2fPnz52cnAoKCvbt22diYlJSUuLq6lpXV+fh4VFZWblmzZoNGzYAAIyMjIqLi6dPn56dnR0aGvrRRx8dP378wYMHBw8efP36NekQGFL4T5o4l8mTYRoOleCFDozOwXfQWgWlyiHRg/Hjx6PN2f379y8tLb148eKECRNSU1MBALLVv2Rz5ohoK5sRaG1tjQQNUEZgWFiY4hCIwsLCffv2AQD69OnD4XBQggdRxkUtkJACDUOxWNze3s7n89U1RGmhNFTTEC0tLYoH24qochAbH9Ua+VkzGAwaOj4QQolEouW5RW8obVvahlwul94UQQiJT4JQiL8OScABWquQ5t4pFjCUNSHNmaPICKRI73N2do6NjQUA3L9/38zMTCAQQAjpyQ8hiRwahu3t7cbGxjS0dSCEYrGYhiEAQCQSmZqaKgYRsTXVXkEza3OGsbGhoSENNTuJRCIQCLQ8t+jbi7Yt7TfUxMSEnpqdRCIh3lDaWno9GxygtYqy3Du5AoaLFi3q9CEAAP369YuKigIAlJWVmZqaSiQSqVRK789SVodMLfh8vrGxMT01O0A3+rS2tpIGaKMRrhRWln4OApHQyMiInpqdUCjU8tyiW2AtD8rj8eh948qp2eEATQpeg9YqpKlyigUMNcmZ0yS9r7dhaGPa//8NJT3lnhYNDPB+QoyOwQFaq5Cmys2dOzc/P9/d3d3Ly4vL5S5btkyTnDnqbDyMHC7fRDosHih3cMDaUf2Wh+vEHwxGFn2qSYjpLHBNQjnaH7Lacl4Kq1tMfWytJribev1ZS1AgENBe4sA1CanBNQlVAa9BYzDAfKCD+UAHXXuBwciDlzgwGAymm4IDNAaDwXRT8BIHpucihZzLFZyrVW1VTe3udlbj3Kyn+mCtZ4wege+gNUXdUq1Emdf8/Hy5ArKYTkT4sqV8Snp5zKk33+Zzz1a8+S7/6fSM8sknBRXNunYNg1EVHKA1AmpQqjU0NPT+/fud6w8GIeWLK5MucK5Uyh1vuVZVufgSFtnA6Au9NEB3WCI2PT09ODj4rbfeioyMRIJ29+/fDwgIQGeJ16qXat28ebOrq2toaOiFCxcIH0aMGAEAEAqFiYmJ3t7enp6e8+bN4/F4QOWisarb9ioa9j/k3KwmPdWaXf3m+wIt+4PB0KOXBmhqQbjq6uolS5ZkZGSUlZXFx8cvXLhQWT/UsnMEZWVlW7duzc3NLSgoKC0tletEUc2upqYmKSnp6NGjz58/nzJlytKlS4HKSniktr0NztVKipXm1hxcpxGjH/Teh4QUgnAFBQURERF+fn4AgMWLF3/00UekWmhykMrOIX777bexY8c6OTkBABYsWCC3P1BRzW7v3r2yRWM///xzomhsh0p4pLZoH0Fubi5SYrK3t29ubkaFrulpmEmlUlQ2V12Q+Bm606cxqIoyeEIe1SIG5+Lz5maVVqLRNi56Um1SqVTFUeSgPbdIroS2Le03tK2tjd4UAQCITwJWsyOl9wZoCkE4Fotlb2+PjpiZmZmbm9fX13fYIUWp1qamJltbW/Tazs5OzlBRzU71orEq2qLvBh8fH7SGc+PGDQsLC1T0HkV8deHz+fQ29XG5XBMTE3pqdiKRyMTERJXGRkZUH2yryZ4q7poTiUT01OzEYjGfz6e3N4/23KJvL9q29Azb2trMzMyoJ5wUOTU7Gj30BvCkkODo6EgUIuHz+e3t7Y6Ojmw2G92hACXiwhTY2toS0sBv3rxRbCCnZqdW0VhVbBF2dnbDhg0DADx48MDY2FgkEkmlUnoCnkKhkJ4hg8EwNDSkYSuVSlX31szbhuIdMunfV8V+pFIpva3eAAAkekXDkPbcoptQ7b+hRkZG9LZ6AxlvaXwL9gbwpJAQHR1969atZ8+eAQB27949evRoS0tLJyen2tpaJHeQkZGBWqooOzdq1Kjs7Oza2lqxWPzzzz/LnVVUsyOtUauiEp7q9W17MP2WhVGd/RALIWH0AxygSXBxcTlw4EBsbGxAQMCFCxfQaq+Li8v7778/cuTImJgYPz8/tIKmouwcyg8ZPHhwSEjImDFj5BZAFNXsSGvUqqiEp3p92x5MnyB79x8nkp5y+7/xFkP6a9kfDIYeWM2uN9JL1Ozabr96vT2XffYp+q/NOz6OHw+xGu+ueg9Yza5DsJpdl4LXoDE9lr5jXHzGuECBpL6yzsGjv4EZ/rRj9Ay8xIHp4TBMDQ3tzRimuKISRv/A9xSYnoOkRcC5XMkvawQMYPYW03qyl6GlSml5GEz3BAdoTA/hzXf51Suvyx10/z4a52xg9JfevsShNW05lArSTZzpeVR/cl0xOgMAXiy/+uqz37TvDwbTKfT2AE3Qpdpy6oreYaE7tWg+/+zNt/nKztZtuc+7WaNNfzBao7W1dfny5a6urr6+vkOGDDl37pwmvR0/fryzHOsselSA7lCjTlENTtYWacsBALZs2eLh4REeHr537160Zxr1/MUXX0ycODEgIIAQq1PskLSlrOgdMaLiKKTOKOrqaXKZPZL6HwupG7Tsf6QdTzBaZubMmSYmJhUVFU+fPt23b9+yZcvy85V+VVPT3t6+ffv2znWvE4A9iOLiYgMDgzt37kAIExISgoKC+Hw+j8fr27dvXV1dfX29qalpZWUlhHDx4sXJyckQwsLCQm9vbwhhXl4eelFSUmJtbV1bW8vn8ydNmoQOop6vXLkCIUxPTx85ciSEkLRD0pYsFsvU1FTWVdJRFJ158eKFlZXVkydPIITff//98OHD6V2mHDt37oQQcrnc1tZWelPd1tZGz7C5uRlpgKiLRCLh8XiKx8XN/FzwTYf/xK0CGoPy+XyxWEzDUCgUstlsGoZQg7lta2vTxJaeIZvNFgqFNAyRXAnxX/SZVIu8vDwvLy/ZN6i2thZJgH355ZejR4+OjIxcunSpQCC4dOnSu+++i9osXrz4yJEjN27cmDhx4ocffjh37tzIyMjW1tb58+dbWlouWLCAxrV0HT3tISGFRl1YWJiiGpwit27dGjduHFIXWrp0aUpKCjpuaWkZHR0NAPD19a2pqQEAkMrLkbZUfRQ5rl69SqqrR+8yb926tW7dOgBAYGBgY2MjhBAAIBAIVJvavwEhVFFYTtFQJBKhfeo0bBV31YuecVSxbXhSa+RhSWNQ2kAIGxsb6RnSnlvwl2SSNgdVV5pGFuKTQONz+OjRo2HDhsluI0J/UDdv3rx8+fLdu3cNDQ3nzJlz5MgRZ2dnOVtjY+OioqIzZ86Ym5snJCRcunTpiy++KC4uPnToEO1r6Qp6WoCm0KiDECqqwSnCZrOZTCZ6Lfu+yvaM9mor61CxpeqjyKFMV4/eZQ4dOvTIkSMAgP/+9782NjbohpQwV4v29nZ6hq2traampiqK0smC9DAVtyCKXI1VWcSxdrU3tlFbt08oFBoaGtLYSSgWi9vb2wmBQ7WgPbdIupOePCHtQVtaWszNzWlo0UkkEolEQnwSaHwkGAwGqVjugwcPxo0bh961iIiIvLw80j+xwMBAdMn9+vVrampSd3Tt0NMCNAUZGRmkanByWFlZEcpzdXV1mneoySikunovXryg51WfPn3QJ9XExASpaEqlUnpSbQYGBrQ13ujZMhgMiUSiaGg4wMpqgnvLdao56RPhbOpgQUOzGLlKw1upVIp0+9Q1BJrNLQBAX95QAACEkDCk8e4EBwevWbNGKBQSwb2goGDAgAGKHsp2TsR0WZ9hd1W86FEPCakhVYNTZNiwYdnZ2Q0NDUKhcN++fZp3CMhE71QchVRXr1MusydhM7WDlETzGDX0NzD6Qnh4+KBBg5YtW4Y+5L///ntsbGxtbe3IkSOzs7OROPCNGzdGjBhhZWWFfnpKJJK8vDzS3gwMDOgt93UpvShAk6rBKTYbNmxYUlJSWFhYRERETEwMxRe7ih0CMtE7FUch1dXrlMvsSfT7MNz6bW9lZ22m+Vgm+mvTH4zWOHXqVN++fX19fX18fFauXHno0KHw8PCIiIgpU6aMGzdu/Pjx/fr1mz9//rBhw2xsbGbOnLls2bLAwEDS+2U3NzcGgzF27FjtXwUFWM2OBKlUiuTDs7OzV69erewrVy9GIaXnqdlJWoVVyb82/SJf75E5P8jjx4lN/BYmk0njRzRWs+sQrGbXpfSiNWgVYbFYXl5e9+/fDwwMPHr06MiRI/V3lN6DoaWJ9/Fp/T4IazpRJqhoBgCYetsw5wb2HeUMAAB00hMwGN2DA7Q8Dg4OqampU6dOlUqloaGhP/30k/6O0tuw/IeL5T9cdO0FBtNp4ABNQnJycnJycs8YBYPB6C84QGN6Ds0XnjceK5U08wEARrZmzAXB1pM8de0UBkMf3WdxEBJuPXhECrBwXacARdKKBVlPp55q+qWUc6mCc6mi8Xhp+eSTle9dhBL8GByjr+A7aB2Dhes6hVdf3Go8QqKI1PBzsYmzpenHb2nfJQxGc3R/B01w//79gIAAudfKZOQopOCAEjm3zZs3u7q6hoaGXrhwgWiZlZU1cOBAb2/vqKgoFotFMaKiqhwA4OjRo15eXi4uLvPnz0dZ7opDFxYWhoeHJyYmIoEOORNCuE71cbGanRwSjuD1NqVV1Wu/vgu5Im36g8F0GlqXZ5KHkHC7d++ev78/Oki8JhWHI5WCIyCVcystLbWxsamtrZVIJAkJCcjk1atXdnZ2f/zxB4QwNTV1+vTpykYkVZWrrKxkMpkVFRVisXjq1KmbN29Wpm9nYWHxyy+/kJoQwnWqj4vV7ORgZz2jlrKrTi9CImfqgtXsOkSHana9AT1Y4lAUh6OWgiMVmfvtt9/Gjh2LTBYsWIB29F24cGHw4MEDBw4EACQnJ3/++ecikYh0RFJVuatXr44ePdrT0xMAcOLECUNDQ1NTU1IlOalUOmvWLNSPnElxcTHFlXaumt3169c//fRTAMCQIUMaGhrQQXoaZuAvaR4aiESi1tZWerakO9fbKuuprSQNfHrCchpCTLK60J5bTWxpGxKqMjQgPgm0P4eKCIXCzMzMnJycpqYmR0fHqKio6OhotClM79CDAK0oDkctBQfJ5NyamppsbW1RAzs7O/Siubn57t27xAqJhYUF+otSHJFUVY7NZhN9Ilks0qEBALa2tujzoWhCfaWdq2Y3duzYGzduAAAOHDjAZDLb29shhPT2j2kifmZqakpvJyGpmh0AwNCNzaK0NWSa2dnZaXknYXt7u7W1tbqGQIO5bW9vB2Sfqy4dlMPhmJuba76TUNkeUXXJycn58ssvs7OziSOpqalRUVE7d+586y39exTRjQK0oaEh0jcBAFArzFJLwZHKudna2hImb968QS8GDBgQFRV19uxZWXPSWy1SVTl7e3u0bA0AYLPZbW1tubm5pEpyRGhQNKGckk5WszM2NkZ/SIaGhkjiC0JII2zJXRQNQxq2yITU0HKMK7Wt6RAH2oN2ureqm2vZVvtvKD1DCn777bfIyEjF49euXQsMDHz8+LG/v56psnSj234nJ6fa2lqkJ5CRkUHRkloKjlTObdSoUdnZ2bW1tWKx+Oeff0Yto6Oj7927V15eDgDIy8ujkAIgVZWbNGnSnTt3Hj16JJFIli5deuzYsQ6V5BRNqOcEq9mpgpGdmeOKwcrO9v/XMANLtbWGMXoHj8cjjc4EH3/8MdQ36aFuFKBdXFzef//9kSNHxsTE+Pn5UUwltRQcqZwbSnIYPHhwSEjImDFj0AKCo6PjgQMH4uLifH19P/jgg9mzZ1P4pqgq5+zsvG/fvsmTJ7u4uJiZmX3yyScdKskpmnQ4J1jNThVct42ziw9QPM5MCHTZFKF9fzDa58SJE9QNfv311zt37lC3kUgkW7du7devH/pvS0tLbGzs7Nmz582bp6z4RteiwweUmoAWWyGEN2/eHDJkiG6d0Tt6WBbHn0hh48mypzMyUObG09iMptNP0BkWi4WzOLpo0O6TxZGUlNRhuFu/fj11J7W1tbdu3Ro9ejT6b2pq6rFjxyCEmzdvTk9P19BDGnSjNWjVwVJwGBIYwC4+gPQ+GtMbUCVnBj1jp8DJyQnleiEePnwYExMDAAgLC8vJyYmLi9PQSXXRywCNpeAwGIwcRGYXBQ4ODrT7p1fsUUO60Rq0WiQnJ1dWVr548eLcuXNEIhoGg+m1jBs3rlPayBIeHp6fnw8AyMvLGzRoEE3PNEBfAzQGQyB43ly74c7zhMyKxKw33+aLWe269gijA9BeMAomTpz4j3/8g7rNvXv3pk+fXlZWNn369IyMjCVLlmRmZsbFxVVWVr799tud56yq6OUSh4YUFRXFxcWh3DWdk5+fP2fOnG7ijD7yenvuy3/dJP7bePRR9SfXfc7E2k731aFXGO1jbm5+48aN8ePHK2vw3XffdZh2PXLkSLmNER0mh3Qp+A5ax2A1O01o+m+ZbHQmeDYjo73wjfb9weiWcePGye4hJJgwYUJJSQmhxaZH9MwAjdXseomaHWv/H8pO1X2Dv/Z6IxEREXw+/8SJEx9++OGsWbNWrlyZlZV15cqVoKAgXbtGC+1n9nU1WM1OmZpde3v7q1evXr16lZqaKhaLW1tbW1paxLSgbchms9vb22kYCoVCLpcre6T9BZtaxI5oyWKxRCIRjUHb29sFAgENQz6f39TURMNQrMHctra2tra2annQpqYmlC2uLgKBQPaT8N1332klPOgZPXANGqvZKVOzu3v3LqFmx2az0UF0408D2oZisRht6KcB0gNCiF6wqRs3NTQxDP9cc2xubqY3oiYQk6wutOcWaCALR3tQ2tqEAADik6DJJfdgemCAhljNToma3YQJE1DOUFpamr29fXt7u1QqJbpSCy6XS08Gj8PhmJmZ0VOzEwqFsppn4gDzV5QmDo5/Jr02NDQwmUwtq9lxuVwbGxt1DYEGc4uCHW1beobNzc0WFhbdR82uh9ED16CRnNvVq1cfPHiwdu1adJBCza7qL9hstuwmIlkcHR0JlTtlanYvX74kHRooV7PrcIGYdFwal98jMXIwt57speys/aIQbTqD6VY0NDTcvHnz1KlTt27d0uQGX+f0wACN1ex6j5pd/5Thyk4N+PdobXqC6Sbk5eXNmDHDwcFh/Pjx8fHxERERVlZW8+fPf/r0qa5do0MPDNBYza73qNlZjXPzyZghd9Ay0i0wd4GpJx2xfIxe89133w0bNkwukRkAcOzYMT8/v1OnTunEK01gQH0TSMVoTlpa2ooVK/R9Dfp/p9qEzVnPeaUNDEMD8yH9rSd5Moz+dueB16C7btDOWoNGn0kaDhD8/PPP7733HnWba9euTZgwQZNRtEwPfEiI6W0Y9DWxm6N/1Ywwncjr1687jM4AgKioKB6Pp0cPJHGAxmAwes+uXbtUbHnixAkK5ej6+vr33nvPzMyMx+OdOHFCKpUuXLjQ2NjYyMjo8OHDNH5LaUgPXIPGYDC9jdzcXBVbXrp0ieLsw4cPV69eferUqfDw8Bs3buzbty8uLu7EiRMhISFnzpzpDE/VAwdoDAaj9xDSCB1CnXUXFRUVEREhFAoLCgqGDh368OHD8PBwAEBYWFhRUVEnOKomnRagi4qKfHx8Oqu3zoLwirZ7mvdATX5+fjecNz2Cc6Wydv2duk332m5Tb1vBYFSivr5+/vz569evl9sVoRPBfrwGrWOwmh1tpO2iigUX2KefEEfsF4Z47Jssl8KBwchCnUHU1NT0/vvv//jjjwMGDAB/CfYHBATk5eWFhoZqy8f/0fkf5fv37xOyfsRrZVJtW7Zs8fDwCA8P37t3L7HlGiEUChMTE729vT09PefNm8fj8TpdxU1Ri05R3E7dHrCandao/fqubHQGADQcLK7/oUBX/mB0yMqVK1VsSSEYDQD47rvvqqur//nPf06fPv3cuXM6F+zvNDW7wsJCpMp27949f39/dJB4TSrVVlJSYm1tXVtby+fzJ02ahMwJ0tPTo6OjpVKpRCJZtWrV7du3aai4EV4RLwgUheVIxe3U6qGbq9lxOJzS0tLS0tItW7aIRKLW1lYOhyOiRUtLCz1DNpvN5XJpGAoEAjlDUgW7x1NOKtqyWCyhUEhjUC6XKxAIaBjyeLympiYahiIN5ralpUUTW3qGTU1NPB6PhqHcG6qhmh3aD6wKtKut6wTtLXEoSrXdunVr3LhxaKFn6dKlKSkpsu379+9fWlp68eLFCRMmpKamAgBKSkroqbiRoigsd+jQIVJxO9V76OZqdiUlJVu2bAEAuLu7t7a2SqVSQFeKDEIoFotpGEqlUj6fT0+6DELYoaFYLCa9Inpb3iGENLa3IKRSqfbnFgBAz1aTQXk8Hg1D8Pc3VCgU0usE4evr+9VXX61fv5662eHDh+ntHtIV2gvQilJtbDabKMTr7Ows137MmDE7duzYtm1bJUb7lQAAIABJREFUQkLCzJkz09LSAF0VN1IUheWUidup3oMyH7qJmt2oUaPOnTsHAEhLS7O1tdX3nYTWU7w4lyrkmpla9yFmmKChocHGxgbvJOyKQTtrJyGNj4QcX331VX19/Y8//qiswebNmxMTEzUcRct0/hq0oaEh+iYHAKDbPWVYWVkRCnN1dXWKDeLj47OzsysqKqqrqztMRFdXxU1RWE51cTtlPWA1O21Cqlfn+GG49j3BdAcYDMauXbtIBcgmTJhw5cqVzz77TPteaUjnB2gnJ6fa2lr0ZZ6RkUHRctiwYdnZ2Q0NDUKhcN++fXJnd+7cuW7dOgihnZ2dq6trh7c/6qq4KQrLqS5up6wHrGanTeziAzx//ttzG5+MGZaRHfxywvRsEhISJBLJvXv30tLS/vOf//z4449FRUXXrl1Di4d6R+cHaBcXl/fff3/kyJExMTF+fn5QuRjTsGHDkpKSwsLCIiIiYmJi5ELw3Llz8/Pz3d3dvby8uFzusmXLqMdVV8VNUVhOdXE7ZT1gNTstY78wZIhwdXDJ4pAn7w8Rp9jO8NO1RxjdY2BgMGLEiOXLl69du3bZsmWDBg3StUf00bGanVQqRYuz2dnZq1evzsvL06EzvYcepmbXIVjNrusG7T5qdj0SXab0s1gsa2vrR48eQQiPHj06cuRIHTqDwWB6DFKptK6urqysDD1U1190GaAdHBxSU1OnTp3q4eHBYrG+/PJLHTqDwWB6ACUlJYsWLTI0NBwwYEBgYKCjoyODwVixYkV1dbWuXaODjjfFJicnV1ZWvnjx4ty5c0Q+GQZDjbiRJ6holvLo5O1ieioSieTTTz8NCQlRfFTz/fffu7u779y5Uxd+aQTW4sDoEw0/FzceL225VoX+a/Our9NnI/qOGKBTpzC6B0K4aNGiI0eOULT5+OOP37x5s3HjRq15pTn6LStDqjBH6MMRZztLMU6VJIqusMUAAAAENStuVL53kYjOAIDmc0/LRh5p+m+Z7tzCdAu2bdtGHZ0RmzZtOn36tBb86Sz0O0CToqgP1ymKcRBC2onumthiEOz0x037i0lPPZ97XlhDZ1M1pmdQX1//6aefqtj4+++/p6c0oBP0PkAzGIxVq1a5ubn5+vrevHkTAEDowxHIHqFWmxsyZAhR+jczMzMsLIzoJDY2tr6+Pjg4+Pz587LqdKTScXKSdYSt7NZBVZTwlEncqaLDJ6eip+80HnlEcbbhYInWPMF0Nzrc8CVLdnY2hbp/eXn55MmTZ86cOXHiRBaL1dLSEhsbO3v27Hnz5iH1BS2j9wG6qqoqODi4urp67dq1ycnJ1I1ZLNby5cuvXLlSWVnp4+ODVqOMjY3Ly8tjYmKuXr2akJBw/Phx1Pjs2bOye1X27dtnYmJSUlLi5eVFtCftsKqqauXKldevX3/x4gWHw9mxYwdh6+rqSrgt14a0KyMjo+Li4sjIyCtXrnz99ddIC0bRtqamJikp6ejRo8+fP58yZcrSpUvlrgsN2tTUlJubm5ubi1TEJBKJVCqlp2FG2xBCKJFIaBhyLsrLbsjSlldLYQsAoOctytWlYSgWiyGE9AbV5E3RyRtKe4pkPwmEPgQNsrOz1Wp/+fJlZacEAsH+/ftPnz4dGBj48OFDnZe80vuHhKampqgE5Ny5cxctWkQtb+Tg4ECtNjdnzpy1a9dyOBxLS8vMzExlCyNEe9IOFSXrFFXNVFfCI5W4U1GHj/AT8ezZM6Q5ZW9vz+VypVIphJDeHwaSgaVhKJFI+Hy+2tJl0g62U4l5QrRNQxnt7e3qjQgAAABt46KxwwVNLLVLyqA9t+itpG1L25DP59ObIiAjYkdPS4+eLYUGTkhISHl5+dixY+3t7cePH3/48OGYmBgAQFhYWE5OTlxcHG0n6aH3AZrJZKK9iCYmJubm5mw2m6Jxh2pzAwYMGD58eEZGhre3t4eHh5eXF2k/RHvSDhUl6xQDtOpKeKQqgCrq8BF+IoYNG4YepKSlpdnY2OjXTkJqzN1tKbbtNTQ0WFtb452EXTFoZ+0kNDExoTE64uLFi2q1p74p8fPzu3Xr1ldffSW3cqKTkld6v8SB5LcBAEKhkMvlEvqlpHSoNgcASEhISE9PP3XqFIUWB9GetENVJOtUV8JTxVaZDh9tLeNuSL+PBlOctZ3uqzVPMN2NKVOmqNVeUZCWYNOmTehRlpOTE4fDQSWvAAB5eXk60fTQ+wDN5XJR3syJEyeCgoLs7OwoGqui9BYXF3f79u309PT4+HjZ48bGxmKxWO5HK2mHipJ1irY0lPAobNXV4dNH+n86XNkp2xl+1m97a9MZTLciODhYrfZjx45VdmrevHlbt26Ni4vLysqaP3++zkte6XeAFolEQUFBqPLhxo0b9+zZQ91eFaU3W1vbyMhILy8vOcl/a2vr8ePHu7i4PHjwgLpDRck6RVsaSngEmuvw6SPG/S18f59vNcFd7jgzIdDzUIxOXMJ0E+bMmaNW+3fffVfZKXd390uXLp06dSorK8va2trCwuLEiROnTp366aefZFcLtYeWSmvpFcnJyT/88IOuvehCdu7cCSHkcrmtra30emhra6Nn2NzczOfzaRhKJBIejycVS9nnn1b/60bl0ss1G+5wf3+tii2LxUJPRNWFz+ejfAx1EQqFtGvf0Z7btrY2TWzpGbLZbKFQSMNQLBbLfhLQZ5I28+bNUzHirVmzRpOBtIzePyTsdEpLSy9duoRq92G6GwxDhs00H5tpnbAvFNOT2LlzZ21tLVo+pmDy5Mn6Jcqm30scnc6aNWsmT578ww8/WFtb69oXDAajKnZ2dj///POECRMo2rzzzjvHjh3r9AyiLgUH6L+xadOm6urqqVOn6toRDAajHu7u7pmZmcq0kHbv3n369GnqJIJuCF7iwHR3oEjafOE5N79O2MK3HOho+66vkYN8QXQMBgDQp0+fNWvWpKSk3L59+9GjR83NzQ4ODoMGDRo6dKhuHvFpDA7QncbBgwcXLlzYPXvTXwTPm6vev9Ry80+19UYAqt6/7JM+3TbOX7eOYbotRkZGkZGRkZGRunakE9DLb5VuCOxUvbrO7U1/gUKJbHQmeBZ/tr3wjU5cwmC0CQ7QHaMoMicUChMTE729vT09PefNm8fj8ZRp3aWnpwcHB7/11luRkZGPHz9GHcpp0SlK6Mmq3yn2gCTuUlJSIiMjg4KCbty4MXPmzEGDBhH7U0gF9vQR9rmnitEZ8fr/cH1hTM9Hx1W9uz8sFsvV1fXx48ceHh5LliwxMjLavXv3qVOn9u7d++uvv0IIU1JSZsyY4e/v7+LiwufzS0pKRowYsX///jlz5lRXV4eEhOTl5fn5+f3www9Hjhy5f/9+VVXVkCFD8vLy3Nzcpk+fPnr0aBMTk9u3b2dkZAAAFi9e7Ovru2TJEtQbaQ8lJSWDBg3KyckZNWrUvHnz/vjjj99//x1C6ODg8PTpU0NDQ0WH0bXU1tYi+afi4uJPP/0Upa/Se6gtEAjoGfJ4PGNjYyMjldbW6j7Pafi2gPSU5SQPj7NKtxvI0dbWZmFhQWPju1gsNjAwoLF8KZFIBAIBUkpRF9pzi4RntfyGtre3m5qa0pArQdp7xCdh9+7dK1eupOGAIlVVVZcuXXr69CmHw2EymQEBAVOnTu3Xr1+ndK5l8Bp0B5Dq1fXv37+0tPTixYsTJkxITU0FAMiq6BEaclevXo2IiPDz8wMALF68+KOPPmppaVHUomtsbFQmoUfaAwDA1tZ21KhRAAAvLy9ra2v0p9W/f/+6urqwsDBSVTwAQGNjY25uLvJQJBIh6SWke6cuqAcahhBCtPVDlcYSvtIhWn+tUssBemJpKIjQk2qDEGp5bpEGkPbfUKRbS8MQQThAY3Q5ioqK1q9ff/bsWcVTiYmJ69evR393egQO0B0AyUTmxowZs2PHjm3btiUkJMycORNpeBIQGnIsFouohGtmZmZubl5fX6+oRacooUeEe9IewN8l7ojbNCR3R+owIiQk5JtvvgEApKWlWVpadn81O16IExuQV1GxedfX0tJSxUEFAkHfvn21rGYnlUpV91AWvVOz69Onj+ZqdjR6kGPv3r0UivBHjhw5cuRIVlYWkg/VF/AadAcoE5mLj4/Pzs6uqKiorq7etWuXrAkRCBwdHRsbG9FrPp/f3t7u6OhIqnWnTEKPtAd6DusjdvFKUzWYCYHa9ATTzdmzZ0+H9ToAAFOnTqUop9INwQG6A0hF5nbu3Llu3ToIoZ2dnaurK4PBINW6i46OvnXr1rNnzwAAu3fvHj16tKWlpaIWHVCQ0CN6I+2BhsN6ipGDuc+ZWMXj/T4Mt4sP0L4/mO5JQUHBsmXLVGw8efLkurq6LvWnE8EBugNIRebmzp2bn5/v7u7u5eXF5XKXLVtGqnXn4uJy4MCB2NjYgICACxcuoOVgRS06oCChR/RWU1Oj2AMNh7tocrSA7XTf4EeLHZJDrSZ7Wk3xtJsV4Hs21v37aNBzlK4xmrJu3Tq12m/YsKFrHOkCtCjMhKFCmxJ6+qtmR29QrGbXdYPqXM3u6dOnNOIel8ul6PPw4cMjRoyAEHI4nBkzZsyaNSshIYHeJ0FD8B10twBJ6KkumYjBYBBZWVk0rK5fv67s1Js3b65evYoemeq8aCwO0LoHS+hhMLRBT2jUheK++7PPPiMUlx4+fBgeHg4ACAsLKyoqouehJuAArXuwhB4GQxvqOtHKaGpqIj1+8uTJ4cOHu7q6Kp7SSdFYnAeNwWD0GGKjgFo4ODiQHr9w4QIA4P79+6WlpXv37kVFYwMCAvLy8kJDQzVylBbd+g66qKjIx6fb1c7Q0CvCPD8/vxteXTdEyhPXbbr37J3TVdPPVSX/KnzRomuPMN0ItM9WXfz9yVPsDx06dOjQoYMHDwYGBi5dulTnRWPxHbTOCA0Nld3VjSFFyhU9ffd0y/UX6L+tALD2FgXmLrAY6qRbxzDdhGnTpi1fvlxdq3HjxlE3uHbtGgAAFY2l6Vln0FV30HKCbQCArKysgQMHent7R0VFoa10hYWFssJvig0AAAwGY9WqVW5ubr6+vqjgmJyVotjb0KFDkfAQAODMmTMjRowAqinSKbqN6oWjrmRfEyh2K+cewebNm11dXUNDQ9FvKABAUVER8o3UE9LZUPEqSG31lPofC4noTFC7/o5OnMF0Q9zc3OLi4tQyWbVqlb4UvuqSO+iqqqqVK1cSgm07duxITExMSkq6efPmwIEDt2/fvnTp0jNnzhgbG5eXl6ekpMyZM6empkaxAeoqODh4+/bthw4dSk5OLi8vl7Wqrq5esmQJIfa2cOHC+/fvx8XFnTt3LjY2FgBw9uzZWbNmsVis5cuXEwJvGzdu3L179/nz59+8efPs2TMIYUpKSkFBgbOzs5zb1JrfpN3Kuke0LCsr27p1a2lpqaOjY2Jiolw/ip54eHgozoaKV0FqiwZ68eJFdnY2AKChoYHH44lEIgghiunqIhaL6RlKpVKhUKi6Mk5zdhXJwQvP21u4DGM1bi/4fL7qjQnEYjEStFPXEOkHaXlukSCU9t9QgUBAQ4tK+heEAzRGR2zYsIEQ7FWFNWvW0B5Ly3RJgFYUbDt06NDgwYMHDhwIAEhOTv7888+RdBYh/HbhwgXSBqampklJSQCAuXPnLlq0CKkIUcvFxcfHDx8+HMkGXbhw4euvv1ZRkW7fvn1ybhcWFlJcJmm3su4R/Pbbb2PHjnVycgIALFiwQHa3Iakne/fuVZwNFa+C1BYp0fB4vJqaGgAAkrJDmfBI005dNDGUSqWq20Ipue6dRCRmGKihYUTPWxQ+oPqSvMhQy3Ork0EBXSE6uU8CjUkmeOutt/773//K3hJRcOfOHT2qTNglAVpRsK25ufnu3bseHh7ooIWFBQq1hPCbsgZMJhM1MDExMTc3Ryk11HJxPj4+Li4ud+/eFYlE/v7+rq6uUDVFOkW3qSHtVtY9gqamJqJnxQ+Hoieks9G/f39VroLUFn03BAQEoHuHtLS0vn37dn81OwCA9SjXtktV8gcneVoy1cgZ5/P59PSgNVGz43K5Wp7b3qxmN3v2bGNj45kzZ1I3u337NtLp1Re6ZA1aUbBtwIABUVFRVX/BZrNRyCD+ZpQ1QPtlAQBCoZDL5TKZTNCRXBwAIC4u7vz582h9A6isSKfotqGhIXF3gISYZVHWrWIgsLW15XA46PWbNyS1muQ8IZ0NFa9C2UzqKY7LB1tGuskddPpshE6cwXRnYmNjKysr0Q9uRT7++GMWizV69Ggte6UhXRKgFQXboqOj7927V15eDgDIy8sjijMRKGvA5XJPnz4NADhx4kRQUJDc7acysbf4+Phr165lZWWhpwcqKtIpuu3k5FRbW4tuTIgHjwSq68aNGjUqOzu7trZWLBb//PPPcmcVPSGdDRWvosOp1i8MbUx9Ts9w/GSo1RQvAIDdrICgokWKIRuDAQB4eHgcPHiQzWafPHly48aNKSkpW7duPX/+fHt7+7fffksvY1rHdJHGx8mTJ11cXPr37z9//nwkiZKVlRUSEuLj4zN48OCcnBwIYXFxsbOzM2Gi2CA3NzckJGTVqlX+/v7+/v63b99WtMrIyAgJCfH394+Kinr+/DlxfODAgWPGjEGv6+vrhw8fjtrcvXvX0dHxX//6V319fUxMjKurq4eHR3x8PJINUnR75cr/z96ZxzVxrQ//BAhBtkBAAQmyilFQwbWoVVxQW22rCKVi1Vqtor/W1teL9aq3Vd+6tGrtKy21UpdW9Fap1qq4gFrcKog/0EJxQ9kElABhSwghybx/nHZubmYymRxIAuR8P/4RkvOc58lJeIiTOd/5aPDgwa+++uquXbuCg4MJgsjPzw8MDNQ1rVZ5JP/61788PT1FItGXX37p5+dHEERubi45D7US6mqwfxbUWC2wLIklWJakF7PLkno2+JqElkhSUtIHH3zQLY5Bk8DTP+zs7BCS1tbWurm5mf4YtIuLi6GBoBseg3ZwcOj4MWj4nkQooGfTpXcSYjAYjCWDdxJiuhyy/BctNyuV9a02ve2dJvj0GtQNDx1iMJ0BbtCYLoTsXs2zj7MaL5Zo3unyelC/Lydz/Z3NVRUGYy7wIQ79sLnQFHuwLEkXzdcq/gw7qNWdAQANp4v/CPpOdq/GLFVhMGYEN2g9EASxdu1aY8yMZUmaKOvlDyYcZRhwf9gPajn6bmAMpjti9AbN0uZz9+7dsLCw9evXT506VSQSwUuj08ZS7UiafqIRI0aQu/LPnDkTHh7OUAl1MHVMdHR0TU1NaGhoRUWFrrLXrFkTGRkZEhJy5cqVOXPmDB06lPp9NJYlMfPiq1y9YySH/jRBJRhM18HoDZq0+Tx58sTLyysvLw96kVJTU588efLKK68sXboUAGBjY1NQUBAZGZmRkfHZZ59t2rSJNhbakU6ePHn//v3Y2Nh33nkHAAD9RDNmzMjMzIyPjz969K8PYqdOnYqLi2OohDqYOiYlJcXW1rawsNDKykpX2bNmzcrKygoLC1u5cuXRo0dzcnIOHTr0/PlzMjWUJd2+fTsvL6+oqAhtiaAsKSMjo6SkJCgoCF6Vh2Vs10eaU613TMulchNUgsF0HYz+JSFLmw8AwMnJCSo6+/fvD50+1Nj9+/dT7UhAw0/01ltvbdiwobGx0cnJ6cyZM5rHEKiz+fv7aw2uqqrSGgOVIEC3zsnV1RXu7g8ICODz+fC8Tk9Pz+rqak9PTxjbRWRJDx48gPsh4Y4GuAWDYQMkA0qlEi1QpVLJ5XK4dJo0ZmgfeqbSlP4ULSn4+xxhQ1GpVFZWVggnUENPm4nXFq4q2s4G5KRQ2geVwgZBEIRarSbfCdS3BAaYoEGztPkAAMgdE9bW1tBxRY2ltSMBDT9R3759R48effLkycDAQD8/v4CAAIZKqIMDAgK0xpDhbMomFUvkU4B0EVlSr169vL29AQBPnz4lK0TYhQEAUKlUaIEcDsfKygotFqBWixxIEISVlRWCbrQjSZHX1iwvKAAA7QWFlhsyEOGvoCVgitPsYmNjY2Nj6+rq4uLiSJvPqVOnNMeQziPmWA8Pj1u3bsGHSDtSWVmZ5qsbHx+flpYWFBSkeXyDdrbExETqYK0xixYtgvcbVLYWbGRJepfoxIkTaWlp169f5/P5P/74448//sg+FuLr6wtVMklJSb169YIfYdAuhYkcqFAobG1tqTsJ+dP8qedvaOH8WgBaUqlUamdnZ+KdhEql0sRrC1ueiZO2tbXxeLyO7yS0scGn/NJg9GPQHbH50MbS2pE0iYmJuXHjRlpaWmxsLPNs1MHUMVwuV6lUSqXSjkiIsCxJL06TfPWOcX4t0ASVYDBdB6M36Llz5965c8fX1zcgIEAqlSYkJHh4eBw4cCAmJqZ///7Lly+nfs5liBUKhQcOHIiOjhaJROnp6bRnKLu6ukZGRgYEBJCCZl2zUQdTx/D5/EmTJgmFwtLSUpZlU4HndQwfPnzw4MHjxo3TMqOzXKK4uDixWCwSiWJjYzdt2lRaWpqYmNiR5e1SePzPMOYBTpN9XeZqX3IMg+nZ9ExZUkJCwpAhQ1asWNHpg3sGXVOWJPtD/OfQA7oCQ4uXcrx7YVkScyDAsqSeRQ/cqFJUVHT+/Pl58+Z1+mCMUbEf0nto2XLBWwO17nd/d0h4zQc8fwMuoYLB9Ax62oH5devWpaamJicn8/n6f58NGowxAbb9nAP//Xq/3ZNbbj5T1rVyPRwcxwlt3HoB1AvfYTDdmp7WoLdu3bp161ZjDMaYDK6ng+ucAeauAoMxPz3wEAcGg8H0DCyiQZMCOU1ImRztowgTMtO5SrwejFIir/z0xuPXfs7lfP74tZ+rt2erZXiPGcZC6WmHONhjSpkcVOJBcwiGAUVZ0z2/b8kfG84+aTj7pOlSaeBPb1gJDL5KFgbT3bGIT9AAAA6Hs3r16n79+vXv3/+3334DGjI5TZg9cFQjXXZ2tkgkot5OTU0NCAgQCoVvv/12W1ubphKPnE1rDKCT1dFK/mhjqZVrSv46cymNSdnKTOqdTZfLKlZfMX0xGIzZsZQGXVpaGhoaWl5evmHDhmXLltGOYfbAMRvptHJ99NFHly9fLisra2xs3L17N6nE8/Hx0TWGVlZHK/mjxtJWrin565Q1NDaKsqaG08W0D9X+WKhqMljHg8F0dyzlEAePx4Mairlz5y5atIh01GlC66sjz8BnNtJpkpmZOXbsWH9/fwDAsWPHrK2tm5ub9Y7h8XhUWR2gk/xRY3/44Qda0x4p+YMUFBQcOXIE3t/c3KxUKgEA1NrYoFQq0c57U6lUra2tCoWC+pDsXiVDYMOfz7khrsjOM2RVG4fDQdjhQhCESqUy8drCFxQ5tiMvqFwuNzSQIAiCIMh3ArbZ0WIpDdrNzQ06yWxtbe3t7SUSCXUMgwcO6DPSaSKRSMiR0G9H/UWljiEIgiqrA3SSP2qsLtMeKfkjF2HUqFEAgIKCAi6XC39DEPaAAQDUajVaoFKptLGxoTXj2NjbMgTa2NtaW1ujJYUbAhH6rFKpRLPZwW1yJl5b2GFNnLS9vd3a2hrNZqdWq8l3ArIysGdjKQ1aIpEQBMHhcBQKhVQqdXNzI/VyJAweOKDDSGdtbU1+7oBmagCAu7s7efxaIpG0tLRQPWHUMbdv36aV1VGhxuoy7Wm1pL59+0ZHRwMAKisr7ezs4G8I2uZplUqFFtjW1sblcmm3enNHCRkCnUM82tVKtKQtLS2mt9m1t7ebeG3h328TJ5XL5ba2th3f6o0sO0UgISHhpZde8vf3//bbb3/66Sc2IUePHo2Pjzd2YVQs5a+WVCo9ceIEAODYsWMhISG0H4GZPXC0RjovL6+qqiroQIAufADAtGnTbt68+eeff6pUqqVLlx45coRU4pGzUcfQyupoocZ2U4OdFtbOPM//M5L2IeH2CRwbS3mvYkzDhAkTWHZnmUy2a9cuY9dDi0W86dvb20NCQuBZFlu2bPnuu+9ohzF74GiNdEKh8L333ouIiJgxY0ZwcDA0T3l7e6ekpEyfPl0oFNrZ2a1atYpU4pFHrqljaGV1tHVSY7upwY6KcHuk+8JQrTs9PhzhlTjaLPVgujIZGRkTJkx499134+LiXnvtNfK/sAAApVK5ZMmS8ePHR0RErFy5EgCgUqkWLFgwduzY+Pj4qqoqAMClS5dmzpx54cKFWbNmwaglS5akpqbW1NRMnTp14sSJI0eO3Lt3LwBg2bJljx8/hl9imRoCY3ns2bOHIAipVNrc3Iw2Q0tLC1pgQ0ODXC7XM3ludfWOnLIPMp9/lSsrqIF3wi+j0JKKxWK1Wo0QKJfL4YXBDEWhUMCjagggry28kpmJk0okEoVCgRCoVCo13wnwPWkQmZmZAoEAVr5ixYrdu3eTD1VXV3/11VfwdlhYWH5+/pkzZyZOnEgQRGtrq7+//8GDBzMzM2fMmHH+/Pk33ngDjly8ePHhw4eTk5M/+ugjgiDkcjmc5P79+0OHDkV4jh3HUo5BY7oRDiM8HUZ4mrsKTDdg2LBh0JI6bNgw8lpLAIDevXvX1dVNnTrV3t6+qqqqtrb23r17ERERAAA7Ozt4EVFdTJ48effu3Y2NjdOnT1++fLmxnwIzFnGIA4PB9EjIa1/AEyLJ+w8fPnz37t3z58+fOnVq4MCB4O/LS2pFgf++FiI8TzE4OLiwsHDu3LmZmZkRERHm1SjiBo3BYLor+fn58Nyqq1evDh06FABw9+5dtVpdVVXl5+dnbW1dUFBw7949hUIBv4UCAEil0ps3b5IzODs7wwtPq1Sq3NxcAMCJEyfy8/OjoqL27t377NkzmUxmZWWFcNnyTgEf4sBgMN2VwYMHr1y5srKy0sHBAV7fOTw8vLm5OT4+Pjo6OioqKiQkZN26dYmJiVeuXDl27NhLL723xQiSAAAgAElEQVTk7e0dERFB/H0lqVGjRrm4uMyZM0cgEAwaNIggiIEDB7733ntcLre9vT0xMdHR0bFfv34cDmf8+PHXrl0z8RPsNg367t27MTEx8HKxJHfu3HnrrbeKi4tpH0WYkJlDhw51uvCIfAqdO233RVHRVLXllqK8qfH8U/6rgXZBLn3/NdbGHeWC05gej7Oz8w8//KB5D+y8jo6OeXl55J3whCitk+rOnTsHT3I/d+6c1rSaH7EBAHZ2dsx2B+PRvQ9xmN5I1+nTmvIpdH1a/6y91+9b8Xd3G88/BQA0nnvyYs//5vfeoyhv0huLwbAnLy9v1apVb7zxhrkL0UN3atDd1EinZZXTCiGfgi5xXVpaWmho6MCBAyMjIx88eECOXLNmTWRkZEhIyJUrV+bMmQNP04Yh1Bq6CxX/+M2g+zGWzJQpU86ePYsWO2zYsIcPH8KjIl2Z7tSgu6mRTtMqRw0hM9KK68rLy5csWXLy5Mn79+/HxsbCAyxw5KxZs7KyssLCwlauXHn06NGcnJxDhw49f/6ctoZuQVuxpPHCU9qH6tMeKOsN1vFgMN2dbnMMGnRnIx1plaOGFBQUkBPSiusmTJgQHBwMAFi8ePHKlSvhdilXV1d4LmdAQACfz4dCA09Pz+rq6vDwcNoaAAC3b99OSkoCALi7uzc0NMC9G/DUIkNRq9Vo+jGVSiWVSltbW6kPSf94xhAo+bOKO1iAYE2DUNUrbIAHNNFsdmq1uqGhASEp8trCE8KQY5Ff0JaWFrQlAgCQ7wRawSGmOzXo7mukI61y1BBNqOI6sVjs7u4O77Szs7O3t4enBGmOJOeBUbpqAAAEBQXBwyBXrlxxcHCA+7ioIic2yOVyNLeOVCrV6dYRODEE2rs7WfF4trZMxjtdNDY22tvbIzQRqGpDEK3BbXJwD4WhIK8t/OuFHNsRERWtnpAZtVqtUqnIdwLCDJZAd1qU7mukI1sDNYT5KXt4eJD7o+RyuUwm8/DwKCsrYwg5efKkLiueQCCAutGcnBx4FhGyZFKhUKAFcjgcXdZQ51HeDIEOA9wVyna0pAAALpeL0KChDxNNtMbhcEy8tvBDqOlfUBsbGzSbHdCoFuGv4KMZPzddpD8mpguPD0f47JpkaCIz0p2OQfcAIx01hPkpR0VFXbt2DZ6Et3fv3rFjxzo5MX3MBACwt+J1Nazsud6bX6Z9yG/vNGBlcHvF9HBUakJFGPrP3EUbRrdp0D3DSEcNYX7WQqHwwIED0dHRIpEoPT2dzaXB2VvxuiB910d4Jo7W+h0SbpvQe1mYeQrCYMwKh9xRg7EckpKSPvjgA5lMplarycPZBiGVStEOsDY2NtrZ2dEK+0naShtbbla2lTbaBbk4jffhejkCANRqtUKhQDtOWltb6+bmZmJhv1QqdXFxMTQQdGBt4X/vkGPRAhsaGhwcHDou7IfvSYNmeDT9eOPFEoNCPD4c0e+ryQaFmJfudAwaYyHw/Pg8P765q8BgzE+3OcSBwWAwlgb+BI3pWsgfSyS/PJLfrwNWnF6D3FyjB/D88adpjIWCGzSmq6CWKyv+z5Wab/M176z4x2+e/2ekcHskMN01RTGYrkJPO8Rx9+7doKAgY4d0BDLdnTt3TJm3i0O0q5/E/arVnSHPv8x9+vYZoMbfZmMsjp7WoLsR2GOnyfMdOQ2ndTpX648/EO+9a8p6MJiugLEaNFUpN2LEiJ9//hk+eubMmfDwcNphmlCtbLqUb1RHHfM8tCG6JqcWuWvXLlJUOHXq1OTkZF1ZSGjTQY+dQqGYP39+YGCgv7//vHnzoJ2AdmWoKdjHdmWIdvWz9XpU6OUfXAL4MzTGwjBKg6ZVysXHxx89ehQOOHXqVFxcHLN5jtbKRqt8Y3bU0c5DG0I7OW2RH3300bNnzzIyMn799dfm5uaEhARmhxxzhadPn37x4kVxcfGTJ0+8vLzy8vJok9KmYBnbxZHeqWYzTH6/ztiVYDBdCqN8SUirlHvrrbc2bNjQ2Njo5OR05syZ7OxsZvNc7969aa1sVOUbs6OOdh5dIdTJdRWZkpKycOFCpVJ5/PhxKysrXdVCmCv09PQsKio6d+7c5MmTd+7cCQDYt28fNSltCpaxcFV///33zz//HADg6+srkUg6Ij8jCAJNP6ZWq6VSqUwm07xT+vgFm9iWkjrCX9swxRI0sRx0v6BlVKvVtD4vNkmR1xagauE6khRZJ0AQBPlOMNdF/7o4RmnQtEq5vn37jh49+uTJk4GBgX5+fgEBAczmOV1WNqryjdlRRzuPrhDq5LqKHDZsmLOzs7W19eDBgxmqhTBXOG7cuN27d+/YsSM+Pn7OnDlJSUm0ST09PakpWMbCVQ0NDd2+fTsA4MyZM05OTnK5XK1WU6V6bGhtbUXT4LW0tNja2mpL6fqwOpGul7ujXhUJLQ0NDY6OjgitVqFQ2NjYoNnsWltb0apFXlt4gAs5Fi2wubm5V69eaDY7pVJJvhPQPIU9HqM0aF1Kufj4+LS0tKCgIKjIYDbPMVjZtKB11DHPwxzC5rmkp6fb2NjI5fL09PQZM2YwV6s3XWxsbGxsbF1dXVxcXHJyMm3SEydO0KZgEwtxdnZ2dnYGAFy6dInsO2iaRysrK7RAaLPTinUazeSxI+k1pA+ylNLGxgahQatUKmtra4St3vCjt4nXtuu8oGyAalwyEPl/Kj0boxyD1qWUi4mJuXHjRlpaWmxsLMMwCHsrG62jjnke5hC9z0UqlX744Ydff/31119//f7770ulUuZqmdPt2bNn48aNBEEIBAIfHx8Oh0OblDYFy9gujo2rndv8EOYxvRPCrHrh0/YxloVRGrQupZyrq2tkZGRAQAD87zmzeY69lY3WUcc8D3OI3ufy6aefzpw5c/DgwSNHjpw8efKGDRuYq2VON3fu3Dt37vj6+gYEBEil0oSEBNqktClYxnZ9hFsnMA/ou3GsaSrBYLoOprbZJSQkDBkyZMWKFaZMitGiS9nsVE1tjeefSm9Xyx/VN5x9Qg1xntjPd+802yAXbLPTGwiwzY4RbLNjoqio6Pz58/BEAgxGKZFXb7n1fNdtXQP40wP4rwb0WRrG4f3nqjcYjOVguga9bt261NTU5ORkPh+7bzCgtUBctvJSc1Y5wxgrB677O4M5PKzhwFgopmvQW7du3bp1q8nSYboy8seSwiEH9A6TnHioblX2/2U2xxb3aIwlgl0cGFNDtKvLEi6yHNx47smzf141aj0YTJcFN+j/glTN0Sru2FwSEKOX+gOFTVeYLkyuxfMvc9ueoOwDxGC6O7hBs4UgiLVr15q7ip5A4686rXW6EO/DKjuMJWJBDTo1NTUgIEAoFL799ttw479B1rfo6OiamprQ0FAPDw8tLV9ubu7gwYM/+OCDSZMmDRs27Pr16/BR5vmp9bC397F5Lvn5+cOGDZs/fz60i3QR2kuaWq4wfTFIizSflawDg+lhWEqDLi0t/eijjy5fvlxWVtbY2Lh7925DrW8pKSm2traFhYUff/yxlpaPy+UWFha++uqrV65c2bJly5IlS4AODR5DPeztfSyfC5fLffTo0YwZMzIzM42xpGgoHqP4g5oySwkVlo1iLA5L2TubmZk5duxYf39/AMCxY8esra1/+OEHqvWNzVRULV9TU5OLi8srr7wCAIiKinr8+LFYLGZ29VHr4fF4LO197J+LWq1+8803ycovX7788ccfAwBGjBhRW1sL75TL5WhLCtU8hqIQy/QPoqO2pNpaYIcsTqurM4OqlFxkQ0Fb2w7GIgeSnhkEmpub4Q3k92HPxlIatEQiIX1y0N9Ga31jMxVVy3f37l3y5G4bGxt7e3uJRMLs6qPWw97ex/65uLq6aprYxowZ8+uvvwIAfvrpJ1dX19bWVoIg0Gx2MpkMLbDNDdEX6urTW0moNLcgskcikbi4uKDZ7NBkSUqlUiaTQTWVoSCvbUdsdshJm5qa7O3t0WRJKpWKlNihvbI9Hktp0O7u7uRRYIlE0tLSQmt9YzbbkWhp+QAAdXV1UGAml8ulUqlAIGB29VHruX37Nkt7H8vnUldXp9WSevXq5e3tDQCwtbW1tra2srJSq9UI3QcAYGVlhRbI9UMxcAIAbHhctYJASwoAsLa2RmjQ8GkiJFWr1VDzZmgg6MDawido+qTIsQTxnxcU2+xosZRj0NOmTbt58+aff/6pUqmWLl165MgRQ61vXC5XqVRC3YGWlg8AIJfL4TeHaWlpgwYNcnd3Z56fWg97e1/Hn4sZ4Ym0ddhs8PhgeKdXgsF0fSzlE7S3t3dKSsr06dOVSuWUKVNWrVrF4/Gg9a21tZXP53/11VfMM/D5/EmTJgmFwgsXLowePToyMrKuro48EOHn55eTk7NhwwYOh7N//36gocGjnZ9aT1NTU2pqqkgk8vHx2bx58+zZsxMTExcuXGiM52JePDeNef7p7waFuL87xEjFYDBdGVPb7HoMmlq+u3fvxsTEFBcbfHqvuTCvzc5WZV3o9g37EPdFg/0PvKpWq7HNTm8gwDY7Rrqdzc5SDnF0LlDLN2/ePHMX0i2xcuAOylnAcrDzJN9+/2+KUevBYLosuEEbzLp166ZPn/7NN99gLR8yDqO8BmTqv5KAc5Sf/48zrJ3w1eowFgpu0AazdevW8vLymTNnkveEhYV1o+MbXQTnKX5DniYI5g7SNaDvv8b0/3WOrTfiWR8YTA8AN2iM2eD5893m0TToXoPcBt6c5735ZXwRQoyFgxu0qSE9eXfu3KEK8yyKhtPFj2b+TL2/taju/tgj8kf1pi8Jg+lS4AZtNsLCwrKzs81dhdlQNbQ9fuMEw3kV5R9dNl01GEyXBDdo/VBFcSNGjNAS2tEO02Tbtm0+Pj5hYWHp6enwnrt377700ksAAIVCMX/+/MDAQH9//3nz5sENu7SzUXV37GO7GrWHC5kHwCvJmqYYDKZrghu0HmhFcfHx8VpCO2Z33f3797/44ovbt2/n5eUVFRVppTh9+vSLFy+Ki4ufPHni5eWVl5dHOxut7o5lLKS9vb2pqampqUmlUhEEAU+BJ5DoeGDz1Qq9i9/4W1nnJjUlZllbM76gHcTg30zLAH8JowdaKR1VaMfsrrt69er48eOhKWnBggU5OTmaKTw9PYuKis6dOzd58uSdO3cCAPbt20edrXfv3lTdHctYWMm1a9dImx1pdzOxzQ4A0N7e3tLSIm/Ur7VreSbRstAh2+zq681wRBtZode9bHZNTU1ogUDjBTWXza6pqemdd97hcrk2NjY//vgj3JR06NAhaLYpLS1dunSpvb295o9Tpkz5+OOPoRLn+++/V6vV7777rp2dXWtr67Fjx2QymeaPcCPY4cOHk5OTb926pVKpdu3atXPnzpqaGjbl4QatB1pRHFVox+yuq6+vJ/1zAoG2jGLcuHG7d+/esWNHfHz8nDlzkpKSaGfz9PSk6u5YxsJKJk+efOfOHQBAUlKSu7u7uXYS2tnZ8Xi8RoGD3n7g7Ofm7u4Ob+OdhGwCQbfdSYj2ynaclJSUmJiY+Pj47du3//LLLzExMQCAd95555133lEqlbGxsQsXLnRwcND88fDhwzNnzly8ePEnn3ySm5vL5XITExMnTJjwr3/968qVK/b29po/vv766y9evMjMzITLW1NTExERERwczLI83KD1oEtKpyW0Y3bXubq6ks5cWmFebGxsbGxsXV1dXFxccnIy7WwnTpyg1d2xie2COE/yrTv+gLllOk/2M00xGIvljz/+mDFjBgAgPDz8+vXrsEFDvv/++7feeov8u0X+OHfu3MmTJ1+8ePH58+effPIJVK0qFIq8vLwVK1bAD0PkjwCAtWvXbtmyZdGiRQAALy8v8nMbG/AxaD3oEsVpCe2YfXJjxozJysqqqqpSKpUHDx7USrFnz56NGzcSBCEQCHx8fDgcDu1stLo7lrFdELe3Q5i7s8vrQfZhfUxUDaYb4jDSq/fSsN5Lw1xmBDKPdJs3CI7k+THt/tVUaRMEcfz4cfJ6F5o/JiUlrVmz5vjx42+88caRI0cAADU1NW+//famTZtg89X88fjx46NHj/bx8UF7jvgTtB50SelcXV01hXbM7rqhQ4d+8MEHw4cPd3FxWbp0aV5enuajc+fOXbRoka+vr7W19ciRIxMSEhwdHamzxcXFUXV3a9asYRPbBbFy4A64/NbDyT/pGuCb1IUupYjpgkhzq1nKkuqO/PXNvMeHI7QeGjZs2J07d0QiUW5ublhYGHl/bm5uSEgIeVhM80fyihmurq51dXX19fXvvffet99+27dvXwCA1o/wrK3s7OyioqJ9+/bpvbSeFthmh46m0K57YV6bHTwGDX9svv6s6tPrTb/912Vk+a8G+n4TpfVhBx+DZhMIuu0xaHPZ7KRS6bvvvqtSqfh8fkpKSl5e3ldffZWamnro0KGmpqaVK1fCYZo/lpSUrFq1yt3dXSKR7Nu3b8+ePadPn/b19QUALFq0KC8vT/PHN954A84wZcqUS5cu3bp16/PPP79+/frLL7+8YMGC6Oho5oJxg0akqKjolVde+eOPP7qjMqlLNGgCSE48rD/+oD7tAfmo/TCPPkvDei8LowbiBs0mEOAGzUi3043iQxworFu3LjU1NTk5uTt2566A/LGk7H8ymjJLte6X5b0oTbjY8nul7zdRVo5YYoexdHCDRmHr1q1bt241dxXdldb8mscRRxkG1P5YqKhsDvp5trULvpAoxqLBZ3FgTIqqtpW5O0OaLpeVLEoH+PAbxrIxRYPumv625cuXu7m5GeN8YbjHjxZyKUgKCwuFQiFyLs0JYd4OTmhs6nfk6R8EAABAcuqx5ORDoxaDwXRxTPoJukv5244fP37r1q1Zs2Z17rQEQaxdu7Zz5+zKeQ1C1ayQfFfAfrz4+z+MVwwG0/UxYoPuOv62tLS00NDQgQMHRkZGPnjwAAAwe/bshoaG119//ezZs2RtYWFha9asiYyMDAkJuXLlypw5c+D5y3AANQUMWb9+/dSpU0Ui0cWLFwEA0dHRNTU1oaGhFRUV1OJp4XK5mzdv9vf39/Pzg5OwXw0Szby0E3YFmi6VGjS+4cJTpVi/sgOD6akYq0F3EX8bAKC8vHzJkiUnT568f/9+bGzsO++8AwD45ZdfnJycLl26RF65ysbGpqCgYNasWVlZWWFhYStXrjx69GhOTs6hQ4eeP39OmwKGREZGZmRkfPbZZ5s2bQIApKSk2NraFhYW2tnZUYunpbq62s/Pr6SkZN26dZs3bwY6FHq0q0FC5vXx8aFOCGltba2srKysrFQoFCqVSq1WEwShQkKtViNEye7XGvQu4gAge1TXwaQqlQoAgBaInNH0a6v621Bo+qQdWSXNeQx6b1gIxjqLo4v42wAAmZmZEyZMgHaSxYsXr1y5sqmpydnZmVqzq6vrmDFjAAABAQF8Ph+eoenp6VldXZ2bm0tNAQBwcnKKiooCAPTv37+yslJzNtriabG1tV2wYAEAYPTo0bDt0rrxOjIhJDc3d+PGjQCAQYMGNTQ0wF8JhUKhax4GCIJACJSJDdaeNT6ra2+wJ5MiG9dIF4rJIAiioaEBLRD5RQEAtLW1mTgpsmIQACCT/fU/JLTsPR5jNegu4m8DAIjFYtKIZmdnZ29vX1NTQ9ugyS0b1tbW9vb25G2VSkWbQitEpVJpzkYQBLV4WshiyEnYrwbLCSHjx4+/cuUKACApKcnNzc30G1WUvu6Gdiy3/l72bm6gwxtVBAIB3qhijKSdtVGFvIHRxFiHONj427Kysp4+fVpeXk462Er/RiKReHl5nTx5Mi0tLTMzMycnZ8OGDQbFkoM9PDw03ccymczDw8PQp8OcghZdxSOn68iEXQT7cINX3k6k/dcdg7EcjNWgu46/LSoq6tq1a8XFxQCAvXv3jh071snJydCnw14Rx+VylUqlVCqlLb4j6ZgnJPMa+tRMieNYb4PGC+IGWtkb/NEMg+kxGKtBk/62wYMHjxs3Tuu//3Pnzr1z546vr29AQIBUKk1ISCBtcP3791++fDmULMfFxYnFYpFIFBsbu2nTptLS0sTERJaxJEKh8MCBA9HR0SKRKD09neHQLQPMKTTh8/mTJk0SCoV+fn7U4juSjnY1qHm1Dvd3KTg2Vn22j2U/3mvtS8YrBoPp+mBZkiViRllSQ63kxYLMpvP6HTde6yKEW8aTP2JZEptA0G2PQWNZEi14qzfGpHC4Vj77p/Gn+jMP670sTPh/XzZNSRhMlwXLkjAmRSVpkyQVNGYwffDx3/+K+7tDTFYSBtNlwQ0aYzpablU+GZNK+xABgOMIT89/jHKZGWTlgL8YxGAAwIc4MCajtUB8X0d3BgBwAJDeea6obMHdGYMhwQ3adFBVdhaEmihfdVnvqIrVV1rv15mgHAymW4AbNMYUSE49brpcxmZk9bZbxi4Gg+ku4AaNCIL9ThOql47WjQfoVHx6U7O06JmShl8fsxxZd/hPQqk2ajEYTHcBnweNSGFh4dChQ69fvz5mzJh58+bdu3fvf//3fwmC6N279+PHj1Uq1ZAhQ3777bchQ4bs2rXrxo0bv/zyy927d2NiYoqLi8VisY+Pz4MHD/z8/JYsWWJjY7N371444YULF6Kion7++ecvv/zy999/Ly8vHzx4cG5ubnBw8DfffHP48OHs7Gzm1NbW1tTJYc319fVwR+WVK1dWr14tl8sJgoD2JUORy+UGnZL89I1TTeefshwc8uQ9ro/2bk+CINrb221tUS5U2NjY6OzsjHAedHt7u7W1tZWVwZ9jlEqlXC5HO8fc0LXVDAQAIMeiBba0tNjZ2dnYGHy6AVTZkSdQJycnf/jhhwbNYAnnQeOzONBBsN9BdHnpqG48WhUfc+rw8HBd0rvi4uKkpCQAgLu7u1QqhUpMtRrl4yr87WI/XqlUsh/cUtNoK6DpiWq1WnMZDYK0phkE/PiC0NnhwqLtvDd0bTUDAQDIsciBcrkcbYmAhsTOoHeI5YAbNDoI9juILtEd1Y1Hq+JjTs1g0Rs1atThw4cBAElJSS4uLqbcSSi25bJskAQAgmAvGxftT3Md3EnI5/PxTkJjJO2snYRo/zfq8eBj0EaB2X7H3kuHoOLrmtI7+xGeLEfyo/xsBChdGIPpeeAGbRSY7XfsRXcIKr6OWPSMh/v8UJYjXWYEGrUSDKYbgRu0UWC23zF76TRBUPGxn9yU8AJdPBNH6x3mPLFfn4RwE9SDwXQL8FkcloiJbXaEUt18raL5+rO6HwvbnjJdU2XI46W8IFfah7DNjk0g6LbHoLHNjhb8JSHGiBAqovb7e6UJ+q8s7jqrf7+vo2y9Db6WAgbTg8ENGmMsVE1tJYvOSU4+Yhhj289ZMDvY9U2R4xjDLraCwVgCuEFjjALRrn4670zD2SfMwxTlTcqmNtydMRha8JeEGKNQ9dnvEn3dGVJ7sKD2UIGx68FguiO4QesH7TKGuiCddnfu3Ompcrv259KqzTfZfyVXsugc0YayjQ2D6dngBq0HgiDWrl1rjJnDwsKys7ONMbPZqU97YGhI46VSIxSCwXRvjNugdRnaqKa3/Pz8YcOGzZ8/PyoqauTIkSdPnoQjf/nll5deegnQSd2ys7NFIhEcRt5WKBTz588PDAz09/efN29ea2srWQz1oREjRvz888/w0TNnzoSHh1PHREdH19TUhIaGVlRUUMvWK5Yj2bZtm4+PT1hYWHp6Ork48KnR1kwrw6Nq6tjHmpLm38oNDWlivAgWBmOZGLdB29jYFBQUREZGZmRkfPbZZ5s2bQIAVFZWLly4MDU19cmTJ6+88srSpUsBAFwu99GjRzNmzMjMzIyJifn111/hDKdOnXrzzTfLy8uXLFly8uTJ+/fvx8bGvvPOO7oynj59+sWLF8XFxU+ePPHy8srLy2N4KD4+/ujRo2SiuLg46piUlBRbW9vCwkIrKytq2fAJzpo1KysrKywsbOXKlUePHs3JyTl06NDz58/J1Pfv3//iiy9u376dl5dXVFSkt2baJRKLxe+//35GRkZJSUlQUNCWLVvYx0JqamouXbp06dKlxsbGtrY2pVKpUqnakGAOVLYarDSSlzUyZ1QoFEqlEq1aAABaYHt7u0KhQAskCAItaUdeFCO9oAxAyyBCoEKh0AxEUzX1eIx+FgfV0Jaenk5relOr1W+++SYAIDY2dvTo0dD7k56e/tlnn2VkZNBK3ah4enoWFRWdO3du8uTJO3fuZH7I399/w4YNjY2NTk5OZ86cyc7Orqqq0hpDSo50lc0glvP0/EtAcfXq1fHjx0Mdx4IFC3JycpgL27dvHzUXrQOPZSzcR1BZWQn/a9KrVy+5XA5/JaCj0lDgq6PrUQRDnqqtnbkSgiAIgkD+NW5ra0OIUqvVSqUS2WZnjLVlDgR/W+JMlhRuIEJbIs0XFDdoWozeoKmGNl2mN1dXVyjeDQgIEAqFv//+e3t7+4ABA3x8fHRJ3aiMGzdu9+7dO3bsiI+PnzNnTlJSErk/ivpQ3759R48effLkycDAQD8/v4CAgICAAK0x5My6ymYQy5Gx9fX1rq5/bZATCAR6a6bN5enpSdXUsYyFfxvCw8OTk5MBAElJSXw+33g7CV8Ybge283Lm8/kMAzq4kxDNB93WsZ2EzM9IF5a5kxDb7Ggxw5eEukxvmr8/MTExp0+fhsc3gA6pm7W1NflJTfMDdWxsbFZW1tOnT8vLy2E/YngoPj4+LS3t559/JnUZusKZBXXMuLq6NjY2wtsvXrygDtBKSptLl6aOTSzLOjsL+8G9DQ1xfKmvMSrBYLo1ZmjQzKY3SGxs7KVLl86ePRsTEwN0SN28vLyqqqrgpwbyS8U9e/Zs3LiRIAiBQODj46PZ9GkfiomJuXHjRlpaWmxsLO0YLperVCqlUimbsnUxZsyYrKysqslxn40AACAASURBVKoqpVJ58OBBrUepSWlz0WrqWMaaGNc5wYaGuLzWM884xGA6ghl2EpKmt9bWVj6f/9VXX1HHBAcHq9Vqb29vb29voCF1UygUPj4+8PCrUCh87733IiIifHx8Jk+e/NtvvwEA5s6du2jRIl9fX2tr65EjRyYkJJBz0j7k6uoaGRlZV1cHjxhQxzg6Ok6aNEkoFF64cEFv2bqA53UMHz7cxcVl6dKlml9d6kpKzRUXF5eamioSiXx8fDZv3jx79uzExMQ1a9awiTUxDiO9XKODmTd5a+LxwXCuF8qRFowl0+f94S6v9zcoxH6owf+3My/YZgcSEhKGDBmyYsUKcxdiOkxgs2srafwjYC+bqZwn9gs8MdvGVc/BZWyzYxMIuu0xaASbnSVg6RtVioqKzp8/P2/ePHMX0tPg+fMH3mC1qr7fTtPbnTEYy8SiG/S6deumT5/+zTffoH3bjmHGcaxwyOOl/Fd1XiFF8KYo7MUHdgO0T2vBYDAQi7bZbd26devWreauoifDC3INTo9pzCiRHH8g3v8HvNMpytde5C6IH4TP3MBgmLHoBo0xDfyp/vyp/n7fvwIAaGxstLOzI488YjAYBjp6iIN0s2lCetpoH0WYkBlDbXMIKYxHD3baKevlz/559fFrPz9+/UT11ltqmcH7vzEYC8con6BN6WmDtjkGO0cXp6c67dqeNvwR+B35Y8OZ4qZLpYE/zwYGnxCBwVgunfAlIYfDWb16db9+/fr37w9PRiY9bZowK9aosjdaWR0AIDU1Fe4Ff/vtt9va2jRtc+RsVOsbbQraqnQZ+Kg6PWoxtKk1RX3UEHKt2OfVq9CjffompvLTG1r3NP1W/vyLHNrBGAyGHqJj5Ofn29jYHDhwgCCIQ4cO9e/fnyCI3NzcwMBA+Ci88ezZM4FAcO/ePYIgdu7cOWvWLM1JioqKXFxcqqqqVCpVfHw8DLl169aAAQPgAPJ2SUmJm5vb06dPlUrlzJkzt23bJhaLeTye5mw1NTU8Hq+kpIQgiMWLFy9btkxXCtqqCgoKrKysMjIyCIJIS0uLiIggCKKsrMzZ2fnhw4cEQXz99dejR4+mLYY2dUFBgYODw7///W/aEHKt2OeFI2/evEkQRHx8fEhIiFwub21tdXR0rK6upq0BUlpaeujQoUOHDn3yyScymayhoUEikciQaGhoYB5wG2yn/iuK+nd9fX1TUxNCRqlUihYok8nEYjFaYFNTU0tLC0Jgc3NzXV0dWlK9a8sQ2JFYtMC6urrm5maEwJaWFs0X9Msvv+xgL+qRdMIhDh6Pt3DhQvD3jjhS/6YJrQqOPLmdWfamSWZm5tixY/39/QEAx44ds7a2bm5u1hpDa32jTaFLUEc18GVmZlJ1etRieDweNTXQEPVRQwoK/nO1J5Z5AaNCLzw8nLYGAEBrayuctr29HdrLCFQ/HGIg5y/NG0IsciAELRDKXgjDN3PBQJOurZmSAiR5IaC8oAiLbAl0QoN2c3ODFjpbW1t7e3uJREIdw6BYA/pkb5pIJBJyJFTHURs0QRBU6xttCjaCOvgGotXpUYuhTQ00RH3UEE1Y5gWMCj1dNQAARCLRunXrAABJSUmOjo4yY+4kdJ0dLPlFe6t3L39Xa2trtLM4OrKTUC6XOzg4mH4noZHWliEQmGMnYa9evTq+kxBhBkugE45BSyQS+NdPoVBIpVI3NzfqGGbFGq3sjVZW5+7uTh6/lkgktAdYaa1vtCnYi99odXrUYnQJ58jWwKZ+vXmZQ3TVYGK81kfQ3LlW+5sJDAbDQCc0aKlUeuLECQDAsWPHQkJCaD8CMyvWaGVvtLK6adOm3bx5888//1SpVEuXLj1y5AhpmyNno7W+0aZgL36j1elRi6FNrQk1hHltafMyh+itwTQ4DPcMLVwseGsg/NF9YejQ0uU8P7xjE4MxgI426Pb29pCQEHiWxZYtW7777jvaYaTBrn///suXLyflyxBS9jZ48OBx48bB/92TsroZM2YEBwfDD+ne3t4pKSnTp08XCoV2dnarVq3i8/nQNkceuY6LixOLxSKRKDY2dtOmTaWlpYmJibQpmKvShNTpiUSi9PR0eGCXWgxtas15qCHMy0ublxm9NZiMXiHugf9+fSTx8UjiY/9DM2x9nc1SBgbTfcE2O0vEBDY7XSDvJMQ2OzaBANvsehYWLUvCYDCYrgxu0BgMBtNFwQ0ag8FguijdqUEXFhYKhUI2IztLh2QCk1EPliVhMJgOgnWjTJjAZNRTZUkAgLbSxqr/+3t7dQvHisMLcOn7rzE2vbX35mAwGAa69CdoqoqIy+Vu3rzZ39/fz8+PWWNEQjUH6dISff75535+fsOGDdu3bx/cXqhpfcKyJINoLRD/4b+39sAfjeefNqQ/eZH0v/l9ktqrzHNSNgbTXTG1/IM1VK9QQUEBj8f74YcfCIL47rvvxowZQ+jQCZGSJl32IqqWqLCwkM/nV1VVyeXyadOmwXDSZNQzZEkke/bsIQhCKpU2NzejvTotLS3MA4pjT1FlSaXvZzQ0NMjlcoSMKpWqtbUVqVhCLBar1WqEQLlcrlQqEQIVCgXcYYuA3rVlCOxILFqgRCJRKBQIgUqlUvOdAN+TGC267iEOqlfo8ePHtra2CxYsAACMHj16y5YtQLdOCEIrTgJ0WqJr165NnDgRbvVeunTpmjVrtIrpAbKk4uLi8+fPAwBevHghlUrb29sJgtDchMkeeJ4vw4D6NO3/ygAAZI/qnFSqtrY2pVJpaEaCIFQqFbLQRyaTIUSpVKr29naEE6jVarVarTbS2jIEgr/PhjZZUrVaLZfLFQqFoYEEQajVavKdgPCWsAS6boOm9Qo5O/+1G02vTghC6DAHUbVEEomEtIh4e3trFdMzZEkYDKZ70XUbtJZXSJdTwsPD49atW/A2qRMiB0Nz0PXr1/l8/o8//vjjjz/qSufs7EzalKqrq9lkoVZ4+/Zt2nS6ZEl6RRm0ecvKyhhCGJ5yUFAQPE6dlJTk4OAAdxIaaeOZ4K2B9T/d17rTYVBv+P8ME+8kbG1ttbe3N/FOQpVKZeJNfWbZSdje3m5nZ9fxnYQ2Nl23F5mRrvslIUuvELNOiL05aNSoUVlZWbW1tQqFIiUlhU0WLEtiwPvTsdQ7sc0OgzGIrtugWXqFmHVC7M1Bo0aNWrhwYXh4+IQJE2bMmKH1aQvLkgzFTuQWVvk/fRLCXWYG8l8N9PzHqPD6D7keKJ/RMBiLBcuS/oNarYZHirOyshITE3Nzc81dkbHAsiSWYFmSXrAsyah03U/QJkYsFvP5/D///JMgiNTU1IgIGt88BoPBmBJ8YP4vevfuvXPnzpkzZ6rV6rCwsP3795u7IgwGY+ngBv0fli1btmzZMnNXgcFgMH+BD3FgMBhMFwU3aBTYnE2BwWAwHQQ3aIMhCGLt2rXmrsLMEApV9Rc5uZzPczmfP5p+/EXS/xJKtbmLwmB6GmZo0AqFYv78+YGBgf7+/vPmzWttbQUAnD17dsiQIYGBgVOmTIF77WjtbrSxVN+bpkBuxIgRP//8M0x95syZ8PBwhkqog6ljoqOja2pqQkNDKyoqdJXNoJojYWPC06W4o8ZSK9Gy6HUuVcsvP/s4C95uvFhSvvJS2fuZnZ4Fg7F0TO9nSktLi4qKUqvVKpVq9erVN27cePbsmUAguHfvHvRIzJo1i9Bhd6PG6vK9kQK5Xbt2zZ49G6Z+9913t23bxlAJdTB1jFgs5vF4BEEwlK1LNUemZm/Coy4CNVZXJeQiaNFBm5007znVVHcbbG99VK83Ftvs9IJtdhgSM5zF4enpWVRUdO7cucmTJ+/cuRMAsG/fvuHDhw8ZMgQAsGzZsn/+85/Qy0W1u1Fj9+/fT+t7IwVyb7311oYNGxobG52cnM6cOaNpx6fO5u/vrzW4qqpKa0xtbS0MT09Ppy2bQTXn6ekJY9mb8GgVd1qxP/zwA20l5CJACgoK4OZytVrd3NwM/WHNzc2GvoINN0pp76+7UeLsqecdBfsssvwMPi8E0La8q9VqDoeDsMOFIAiVSoWwtgAApVKpVqMcL4IvKHIsWiB8QeVyuaGBsAGR7wTkV7ZnY4YGPW7cuN27d+/YsSM+Pn7OnDlJSUkNDQ2///47dOQDABwcHGATpNrdqLG6fG+kQK5v376jR48+efJkYGCgn59fQEAAQyXUwQEBAVpjyHA2ZWup5shY9iY8WvGeVqyuSshFgLi5uY0aNQoAUFBQwOVy4W8Iwh4wG3tb2vu59jy9symVShsbGwQzDkEQSqUSoVrw94ZAhD6rVCqtrKw015AlcJscWrVqtRo5EABg4qTt7e3W1tYImy2hkZV8JyAssiVgnvOgY2NjY2Nj6+rq4uLikpOT+/btO2XKlFOnTmmOqaurYxOry/em+dsYHx+flpYWFBQUFxfHPFtiYiJ1sNaYRYsWwfsNKlsL9iY8NrG6KtFqSX379o2OjgYAVFZW2tnZwd8QhM3TblMCn9Hd7zrRn6tvtra2Ni6Xi7bVm8PhoG31bmlpsbOzM/FWb6h5MzQQAKBSqZADAQAmTiqXy21tbTu+1RthkS0BM/zV2rNnz8aNGwmCEAgEPj4+HA4nKirq1q1bjx49AgDk5uYybMmnjdXre4uJiblx40ZaWlpsbCzzbNTB1DFcLlepVEqlUvZlU0Ew4THEdqQSBGx9nfts1N4K75sUxe2DLzmIwXQmZvgEPXfu3EWLFvn6+lpbW48cOTIhIcHR0fHAgQMxMTGtra18Pv+rr74yNDY6OlqhUPj4+NCeoezq6hoZGVlXV6dlr6fORh1Mm3HSpElCofDChQssy6ZCau2USuWUKVNWrVrV1NSUmpoqEol8fHw2b948e/bsxMTEhQsXsonl8XjIlaDh/o/hbpMDxCn32sUyrodDnxXhDiO9jJ0Ug7E0LMVml5CQMGTIkBUrVnT64O4IttmxBNvs9IJtdkbFIg7MFxUVnT9/ft68eZ0+GIPBYIxHz2/Q69atmz59+jfffMPn8zt3MAaDwRiVnt+gt27dWl5ePnPmzE4fjMFgMEal5zdoDAaD6abgBt0J3L17NygoyNxVmAdlbau5S8BgeixY2I9BQd3SXvHJledf/nXZRq91EX03jLHqhd9OGExngj9B/weqFQ9QvHHZ2dkikQg+pHmbhGqk02WV69Y2u8olmWR3BgBUb71Vsvh8p2fBYCwc3KD/ory8fMmSJSdPnrx//35sbOw777wDACgtLf3oo48uX75cVlbW2Ni4e/du5knEYvH777+fkZFRUlISFBS0ZcsWAACXy3306NGMGTMyM/8j5KTOTBtrY2NTUFAQGRmZkZHx2Wefbdq0iTa2srJy4cKFqampT548eeWVV5YuXaorb6fQcquy+exTrTvr/13UWiju3EQYjIWD/0/6F5mZmVQrHtUbl5+fzzBJ7969aY10WlY5YCabXX5+fkpKCgCgV69ejY2NUN3Q2Nho6Fo13i6nvb/2VpmzD71HiUSpVMpkMmT5GfzvAgLQcWgoHbTZIawt+HsHB1og+NtpZ8qkUqkUbYkIgiDfCQiCQ0sAN+i/oLXiUb1xzOgy0mlZ5YCZbHbe3t5QlpSdnW1nZ9fW1kYQBMLevFY+/VLYCRz0ziaTybhcLsLGs47Y7Nrb23k8HkITgao2NJtdW1sb2r7HtrY2hJ2WMBAAgByLFiiTyWxtbdFsdiqVinxBsSyJFtyg/4LWikf1xllbW5PaXOqHspMnT9Ia6aitwSw2uz59+kyZMgUAcP/+fR6Pp1Kp1Go1wq+l2/SgCrr7BZMDrPXNJpfLkW12ALX7NDc3ozVoAADyVm+FQoFWreYGaEMDAeoSISdtbW1F+4uLbXZswMeg/4LWikf1xnl5eVVVVUHpwcmTJ7Um6YiRrhvZ7LieDl5fT9S6M+Doa9YuKL/hGAxGF7hB/4VQKIRWPJFIlJ6eDg8Bk944oVBoZ2e3atUqoVD43nvvRUREzJgxIzg4WEs1FRcXJxaLRSJRbGzspk2bSktLExMTadNRZ+5IrIeHB7TZ9e/ff/ny5VTtdafj+k7I4PtLvD5+SfDWQK91EUOKl7nNHWTspBiMpWEpNjuMJthmxxJss9MLttkZFfwJGoPBYLoouEFjMBhMFwWfxYExGEKhar3zQtnGsfVy7BXiDqxQzo7AYDB6wQ0aYwDqVmXV5pvV27M17/RNntonIRzgLo3BdDYdOsRBewFAY8OsjuuIWO7OnTudJaVjWBmywk5MZxpUTW2P3zih1Z0BAGUrMkrePQfwl80YTGeD3qAJgli7dm0nlmJ2wsLCsrO1uw8CLFems9KZjPIPLjVlltI+VHuo4PmXt01bDgbT86Fp0FSnGq3CLTo6uqamJjQ0tKKiguqBUygU8+fPDwwM9Pf3nzdvXmtrK6DTxUFb25o1ayIjI0NCQq5cuTJnzpyhQ4eSJ9xQi6Fl27ZtPj4+YWFh6enp5J2Gprt79+5LL70EdDvkWNrmNFeGoUIyHe1aUe10tAWwj+0grUW1tT8WMgyo+MdvRJuqU3JhMJi/IP6bmpoaHo9XUlJCEMTixYuXLVtGEMStW7cGDBgAB5C3xWIxj8cjCKKsrMzZ2fnhw4cEQXz99dejR48mCCItLS0qKgput1+9evWNGzdohxUUFFhZWd28eZMgiPj4+JCQELlc3tra6ujoWF1dTVtMfn5+YGCgZs1FRUUuLi5VVVUqlSo+Ph4+ipAuNzcXxsJhGRkZ8IlEREToWhnakeTKMFdIpqOu1bNnzwQCwb1796CgY9asWboKYBmrxZ49ewiCkEqlzc3N1Edpqd6RcxtsZ/7XeLlU7zwNDQ1yuZxlUk1UKlVraytCIEEQYrFYrVYjBMrlcqVSiRCoUCgkEglCIEEQLS0tyIEdiUULlEgkCoUCIVCpVGq+E+B7EqOF9peEunxsDNB64Dw9PYuKis6dOzd58uSdO3cCAPbv308dBgBwdXUdM2YMACAgIIDP58MT1z09Paurq8PDw9kUc/Xq1fHjx3t5eQEAFixYkJOTo6sq5nSac1IdcrpWhjqSZYUk1LXat28f1U5HWwDLWLiP4Pfff//8888BAL6+vhKJBNotoPdOL83F+j+JS4qqVeHOzGPUarVUKpXJZGySakEQBPwvAgINDQ1oGdEMHgAAtVotkUjQkqKp3eALihbbkaQMWgK9Scl3ArKnsGej3aAJHU41Bmg9cOPGjdu9e/eOHTvi4+PnzJmTlJREOwz8t62NNMZBcxvLYurr60m7m0AgYKiKOZ3mnFSHnK5iqCNZVkhCXStaO52npye1AJax8G+DSCRav349AODKlSuOjo7w8wvs+HppEejfZubQx1nvvkSpVGpra4tms2tvb7e11aMzpaWxsdHBwcGUNjv48RBtl6ZcLkfbMAnVncixaIEtLS12dnY2NgafD6Zls0PzFPZ4tJeV1sfGrHCj9cABAGJjY2NjY+vq6uLi4pKTk2mHlZWVMRSnSw6nhaurKyneffHiBUNVzOmYYVkM+wo10VorWjvdiRMnaAtgEwsRCASjRo0CAOTk5HC53Pb2drVazfIXw2msz3OQwzyGP66f3tk4HI61tTXCb6NarWZfLRUul4vQoNVqNdpWbwAAh8NBq1ahUCAHAtROh5yUw+HY2NigbfUGGtUi/BW0BLQXhdapRqtw43K5SqVSKpXSeuD27NmzceNGgiAEAoGPjw+Hw6EdxlwcS8HbmDFjsrKyqqqqlErlwYMH4Z0I6TqlGKCxMswVktCuFdVOR1sAy9iOw5/q7xTJ9N8pQdxAbl+UD4wYDEYX2g2a1qlGq3Dj8/mTJk0SCoWVlZVUD9zcuXPv3Lnj6+sbEBAglUoTEhJodXHMsBS8wdMwhg8fPnjw4HHjxsG/zAjpOqUYoLEy5LFm2gpJqGtFa6ejLYBlbMfhcK2En73MMMBnl7aAFIPBdBBss7NEkG12zVcrHkQe1brTOcrP79tpvEBW5jZss9MLttlhSPBWb4wBOE3wGS5bLTnxUHKlBDQrbfs6Okf5u7wagHUcGIwxwA0aow810f5CCjgcrocD4ACrXjZub4fYzfZD+8CFwWDYgxs0RietheLq7dl1R4rIe9wXDe67LoIX5GrGqjAYywGf2oKhp+bb/MLBBzS7MwCg9mDBH/33ad2JwWCMBG7QnQyCTq8jBj6SznXj1R0tKluRoevRp2+fablY2lm5MBiMLnCD7iF0ohtP1dD2dN4Z5jHlc86qW5Wdkg6DwegCN2gjQrXK0XoBSdrb2yMjI7/44gvaWJYqPsBaAaiLuqOsjmA0nH5s6MwYDMYgcIM2FpWVlQsXLkxNTX3y5Mkrr7yydOlSvSErV67s37//mjVraGNtbGwKCgpmzZqVlZUVFha2cuXKo0eP5uTkHDp06Pnz5+QkYrH4/fffz8jIKCkpCQoK2rJli6GVN18tZzUsy+DWj8FgDAKfxWEs0tPTqVY5hvF79+59/PjxhQsXGGLZqPgYfITXrl3buHEjAGDQoEF1dXVwjxLVItZaLwUskFZI6urq2IzUBDqP0PxnBEFobqA3iPr6erRAZAiCQFgfGAi1RwiB4G9lkimTUv087CHfCdhmRwtu0MaC1iqna/Dz588//vjj119/HVrBdMWyUfExKABHjhx5+PBhAMBPP/3k4uIC9crkPCT1Djw2Tk+73o4IO+Wam5t5PB6ClE6tVre3tyNsQQQASCQSPp+PsJNQoVBYW1sj7CRUKpUymczZWY98lRaZTEZ9UdgAXaws9YSdlbSpqcne3h7BZqdSqVQqFflOQPMU9nhwgzYWtFa5Z8+e0XoB7ezs8vLypkyZ8ssvv8yePZs2luXHMQbrXq9evby9vQEAtra20KKpVqup3cdxtHfDr8V6EzlFeCN0Lg6HY2VlhRaoUqnQxHIAAGtra4QGDUtFSKpWq6G3z9BAMilCIHyCpk+KHEsQBBmI7N3u2eBj0MaC1ipH6wUEALi4uPTr1+/gwYMrVqwQi8UdMdKxt+7pwi1+EJthrnMGGDozBoMxCNygjQWtVY7WC0gyduzYuXPnLl++vCNGOvbWPV3Y+jp7bxzHPMZr1wQbN5T/SmMwGPZgm50lot9mpyZKEy6KU+7Rhnv+Y5Rg4yg0Fwe22ekF2+wwJPgTNIYOK47fvukBR1/Tutt5il//X+f47MDqZwzGFOAvCTE6cZs7yG3uIPmDOnlxA+CAXiI3ltJnDAbTKeAGjfkLok3VcKa4+XqFsq6V6+noPMWXP9UfWHHsRG52IjdzV4fBWCK4QWMAAKD5akXlxhvNWf/ZQ/h8123nKX799kzpNRB3ZwzGPBj3GHTHrwSIQKfI4dgAn52hGjmyvM71z3WEpitlDyKPanbnv+6/VFo46Hv5I1PvwcNgMBAjNmiCINauXWu8+c0L+eyQNXKd6J/rCGpZ+8PJPzEMKF95CeAzfTAYc4DSoKmyNFpJW3R0dE1NTWhoaEVFRVpaWmho6MCBAyMjIx88eAAAUCgU8+fPDwwM9Pf3nzdvHtylSh3GrHCjLYaWzz//3M/Pb9iwYfv27SO3UOsyxq1fv37q1KkikejixYu6RpLP7syZM6RGLjU1NSAgQCgUvv3221pugW3btvn4+ISFhaWnp8N7SP8c7VJQM9I+Wfaxuqj/6T7zgMaLJS03nzGPwWAwRoEwkJqaGh6PV1JSQhDE4sWLly1bRhDErVu3BgwYAAeQt8ViMY/HIwiirKzM2dn54cOHBEF8/fXXo0ePJggiLS0tKipKrVarVKrVq1ffuHGDdlhBQYGVldXNmzcJgoiPjw8JCZHL5a2trY6OjtXV1bTF5OfnBwYGatZcWFjI5/Orqqrkcvm0adPgo8+ePRMIBPfu3YPyilmzZpHpMjIyYIURERG6RpLPLjc3F05YUlLi5ub29OlTpVI5c+bMbdu2kQUUFRW5uLhUVVWpVKr4+Hg4ngykLgVtRtonyzJWiz179kDxUHNz85P5Z26D7cz/Kjff1JqhpaXF0HcOpKGhQS6XIwSqVCooD0FALBar1WqEQLlcrlQqEQIVCoVEIkEIJDqwti0tLR2JRQuUSCQKhQIhUKlUar4T4HsSo4XBXxIyyNJ0kZmZOWHChODgYADA4sWLV65c2dTU5OnpWVRUdO7cucmTJ+/cuRMAsH//fuowwKhwCw8PZ1PMtWvXJk6c6OXlBQBYunTpmjVrgG5jnJOTU1RUFACgf//+lZWVDCOpT3Ps2LH+/v4AgGPHjmnubrh69er48eNhAQsWLMjJydEMpC7Fvn37qBlpV55lLNxHcPny5Y8//hgAMGLECNLc1Ppcv4qsubyOanqCn9YRaG9vb25uRotF0+AB1iaTzoVBj8UM8tp2JBY5sLGxES0QAEC+E9Bcej0egxs0oVuWpguxWOzu7g5v29nZ2dvb19TUjBs3bvfu3Tt27IiPj58zZ05SUhLtMMCocGNZjEQicXP761QEaAsC7Ixx0BJHO5K6dUoikbi6/nU1VS0xWH19PfmQQCDQCqQuBW1GT09P6pNlGQv/NowfP/7KlSsAgAMHDri5uclkMoIgenk4y2hXTQNHHwG5gJCOyM94PB7aTkJkm11dXZ1AIDDxTkKZTMbn8w0NBB1YW5lMBijvPWMnbWxstLe37/hOQrQ9oj0eg49BQ1laZmZmTk7Ohg0b4J3W1ta0kjaIh4cH+flFLpfLZDIPDw8AQGxsbFZW1tOnT8vLy5OTk3UNM7QYKs7OzuQfeVKdDI1xpX8jkUhgF6PCcqS7uzt5wFcikWgeEHd1dSULePHiBTVWayloM+p6smxi4Ugul+vs7Ozs7AzVbrBhOU/U/yeWP8mX898AADhIIAeaKykypq8WvlimT4oWSJ0HQ8XgBk0rS6OVtHG5XKVSKZVKo6Kirl27VlxcDADYu3fv2LFjnZyc9uzZs3HjLJyKoAAACvpJREFURoIgBAKBj48Ph8OhHYZQDJVRo0ZlZWXV1tYqFIqUlBR4J3tjHO1I8tmRw6ZNm3bz5s0///xTpVItXbr0yJEj5ENjxozJysqqqqpSKpUHDx7Ump92KagZaZ8sy1gGBG8NZB7An+bvOFbIPAaDwRgDgxs0rSyNVtLG5/MnTZokFAorKysPHDgQHR0tEonS09PhwdO5c+feuXPH19c3ICBAKpUmJCQIhULqMIRiqMNGjRq1cOHC8PDwCRMmzJgxA/65Zm+Mox1JPjvygLK3t3dKSsr06dOFQqGdnd2qVavIGeBpJ8OHDx88ePC4ceM0/fq0S0GbkfbJsoxlwMqeO+DyWwwD+v2/KQB/vsFgzIGl2OzUarWVlRUAICsrKzExMTc319wVmROqza75asWDyKNawxh2EiLLz7DNTi/YZochsYit3mKxOCAgIDs7e9CgQampqREREeauqMvhNMFnhPwfkl8fN1+vUIpbuX0d+VF+/Gn+wAp/eMZgzIZFNOjevXvv3Llz5syZarU6LCxs//795q6oK8LhWQveFAneFJm7EAwG8xeWcogDo0lKSgo8T0ansF8fSqUS4TqhoAOHOAiCoL2CIhuQT7NTqVRWVlYIgfDK5eS5lQaBvLYdOc0OOalEInF0dEQ4xKH1gtbV1cFLzmM0wQ3actm/f39tbS3cumIyEhIS3nzzzUmTJpkso1qtHjVq1G+//ab3pKBOJDs7Ozk5WfOKvSYgKSkJAGDiI7kLFixYsWIFaTvAdC74iioYDAbTRbGIY9AYWkQiEfKWa2Refvnlvn37mjIjh8OJjo5G+D94R+jTp09kZKQpMwIAQkJCTJwRABAZGdmnTx/T57UQ8CEODAaD6aLgQxwYDAbTRcEN2lK4cOHC4MGD3dzcpk+f/vz5c61HlUrlmjVrrKyskAVshmY8ffr0wIEDXVxcIiMj4cZ0EyT96aefgoODXVxcJk2aBKUCJkgKycrK4nA40HJu7KRtbW0cDsfub958801jZwQAlJeXT5w40dHRcejQoXfv3u2UjBiDfdCY7khDQ4O7u/vvv//e3t6+fv36mJgYrQFvvPHGp59+am1tLRaLTZCxoqKCz+ffuHFDpVKtX79+4sSJJkj68OFDNze3P/74Q6lUJiYmRkVFmSApRC6Xh4WFeXh43L9/3wRJq6ur3d3dOyURy4wEQbz88ss7duxQKBQHDx5cuHBh52a3WHCDtgiOHz8+bdo0eLuhoYHH42lZ8/Pz8wmC6MQGzZyxoqLi+PHj8HZeXp63t7cJkpaUlJw/fx7evnXrVr9+/UyQFPLpp59+8sknISEhndWgmZM+ePBA65oVxs749OlToVAIDcCYTgQf4rAIHj16BK+EAADg8/kuLi5lZWWaA8LCwkyZUSgUxsbGwtuZmZnjxo0zQVI/P7/p06cDAJqamr777rvXX3/dBEnhgBMnTvzzn//slHRskjY0NMhkskmTJvXp0ycqKqpTjiAxZ7x3717//v2XLVvm5+c3efLkTjySY+HgBm0RyGQyeCkWiL29Pdx1ZvaMFy9e3Lt3L7wWjGmSJiYm8vn8J0+ebNq0yTRJly9fvnv37s4V0jMndXJyeu2115KTk8vLy0eMGBETE2PsjA0NDdnZ2XPnzi0pKZkxY0ZnHfXG4AZtETg4OGiqq1taWtB2eHduxqNHj3744YcZGRlCYef4ptkk3bFjh1QqfeONN+CBb2Mn/eGHH7y8vKZMmdLxROyTDho06LvvvhOJRHZ2dps3b3748GFVVZVRM/L5/AEDBkyaNInD4Xz44YcPHz40yzXGeh64QVsEIpGooKAA3q6srJRKpeQ1scyV8ddff92+fXtWVlZQUJBpkt67dw9e8cve3v7DDz8sLCykvbpN5yY9derUxYsXPT09PT09Hz58+PLLL589e9bYSaurq4uKiuBteEFhW1tbo2b09/eXSCTkjwRBoJk9MNqY+yA4xhQ0NTW5u7tfvny5vb19+fLlCxYsgPcfOXLk+fPn5LBO/JKQOWN9fb1QKIRXKO9EmJOeP3/e29u7uLiYIIhDhw55eHigXerboKSaIzvxS0LmpOfOnevXr19JSYlSqdywYcPo0aONnZEgiCFDhhw4cECtVn/11VcjRozoeEYMgc/isBwyMjIGDRokEAhmzpxZW1sL7/Tw8Lh+/XptbS15IVd4Q6uzdHrGAwcOcDgcngbkAOMlJQjiiy++8PX1dXFxGTZs2NWrVzslo96kJJ3YoPUm3bZtm7e3t5ub27Rp0zrrDyFzxuLi4mHDhrm4uIwdO/bBgwedkhGDt3pjMBhMFwUfg8ZgMJguCm7QGAwG00XBDRqDwWC6KLhBYzAYTBcFN2gMBoPpouAGjbEUCILYtWvXwIEDeTxenz59oqOjO0VSoVQqNd2eHh4eixcvbmlpYQg5dOgQAODOnTuduEkH0yPBDRpjKaxevfrbb79NSkqqra3Nz88PDg6OjIxsamrqlMmLi4vlcrlcLv/jjz8qKioYRB8EQaxduxYAEBYWlp2d3SnZMT0V3KAxFkFNTc3XX3994sSJKVOmODk5eXt7b9++/caNG87OzgCAs2fPDhkyJDAwcMqUKWKxGABw9+7dsLCw9evXT506VSQSXbx4Ec5DHamFh4fHm2++mZ+fD3/8/vvvg4OD/f39IyMjKyoqAADR0dE1NTWhoaFnzpwhL4adlpYWGho6cODAyMhIrILD/Aczb5TBYEzCpUuXgoODaR969uyZQCC4d+8eQRA7d+6cNWsWQRAFBQVWVlYZGRkEQaSlpUVEROga2d7eDgCoqKiAs1VWVo4fP/6TTz4hCKKmpobH48GNfIsXL162bBlBEGKxmMfjEQSRm/v/27t/18TBMA7gTyilYkkbUMm1FrtULBWl4CDFoVCS3alzoYOTW6BD/RMEl1AKri5ScLFCQScHRTOKg4NyHYq/kEhBEVFyw0ulXC13g/TS8/uZojyEJMPDy2v8PhpLbX5+ft7Z2Wk0GoZhqKq6kn9mw/8BK2hYC51OZzF8+vX19cebZDKZy+UCgYDf7yeiSCSSy+VYz+V5XpZlInK73S8vL0T0WSUReb1eQRB4nne73WdnZ7e3t0TkcDh0XWehQhcXF61Wa+m15fP58/NzlrZ8fX2tadqqNl7gu0PiFKwFp9PJmiwR8TzPhubd3NyMRqPpdFoqlRbZbNvb22ww4yJOc2NjYz6fE9FwOPxY6XA4iKherx8cHHS73ePj46urK5YeZxhGPB7PZrMcx+m67nK5ll5bv9+32+3s2GKxWK3WXq/H9l5gzWEFDWvh9PR0MBiUy2Ui4jiOLZ9ZiP7+/r4kST/f6Lq+t7e39CR/rBRFMRqNKorCPmYymYeHh3w+X6lUYrHYZ9cmiuIiPXkymYzHY1EUV3LX8N2hQcNaEAQhFotdXl4+PT2NRqPBYKCqajqdPjk5kWW5XC6zV+40TYtGo5+d5G8qFUWpVCqFQoGI2u324eHh7u7ucDhMpVLs3bvNzc3ZbPY+/F6W5WKxyKaM39/fh0IhnudX/QDge/rXm+AAX+fu7s7r9W5tbdlstnA4XK1W2fePj48+n+/o6CgQCLDwzFqtthhl+/74Y+VvPxIahpFIJPx+/3w+7/V6wWDQ4/FIklQqlURRVBTFMAxZlgVBUFV1Mdo1k8n4fD5W2Ww2v+p5gNkhbhQAwKSwxQEAYFJo0AAAJoUGDQBgUmjQAAAmhQYNAGBSaNAAACaFBg0AYFK/ALOKGe//axZjAAAAAElFTkSuQmCC\n"
                },
                "metadata": {}
              },
              {
                "output_type": "stream",
                "name": "stdout",
                "text": [
                  "3. Gene-Concept Network\n"
                ]
              }
            ],
            "_view_module": "@jupyter-widgets/output",
            "_model_module_version": "1.0.0",
            "_view_count": null,
            "_view_module_version": "1.0.0",
            "layout": "IPY_MODEL_6359e538c89d4d619387c703d2be73a7",
            "_model_module": "@jupyter-widgets/output"
          }
        },
        "6359e538c89d4d619387c703d2be73a7": {
          "model_module": "@jupyter-widgets/base",
          "model_name": "LayoutModel",
          "model_module_version": "1.2.0",
          "state": {
            "_view_name": "LayoutView",
            "grid_template_rows": null,
            "right": null,
            "justify_content": null,
            "_view_module": "@jupyter-widgets/base",
            "overflow": null,
            "_model_module_version": "1.2.0",
            "_view_count": null,
            "flex_flow": null,
            "width": null,
            "min_width": null,
            "border": null,
            "align_items": null,
            "bottom": null,
            "_model_module": "@jupyter-widgets/base",
            "top": null,
            "grid_column": null,
            "overflow_y": null,
            "overflow_x": null,
            "grid_auto_flow": null,
            "grid_area": null,
            "grid_template_columns": null,
            "flex": null,
            "_model_name": "LayoutModel",
            "justify_items": null,
            "grid_row": null,
            "max_height": null,
            "align_content": null,
            "visibility": null,
            "align_self": null,
            "height": null,
            "min_height": null,
            "padding": null,
            "grid_auto_rows": null,
            "grid_gap": null,
            "max_width": null,
            "order": null,
            "_view_module_version": "1.2.0",
            "grid_template_areas": null,
            "object_position": null,
            "object_fit": null,
            "grid_auto_columns": null,
            "margin": null,
            "display": null,
            "left": null
          }
        },
        "27daa77a56e14e4796bed0df0f393404": {
          "model_module": "@jupyter-widgets/controls",
          "model_name": "FloatSliderModel",
          "model_module_version": "1.5.0",
          "state": {
            "_view_name": "FloatSliderView",
            "style": "IPY_MODEL_5bf1b110c6344faba9e8e4bd5d06608b",
            "_dom_classes": [],
            "description": "pvalue:",
            "step": 0.001,
            "_model_name": "FloatSliderModel",
            "orientation": "horizontal",
            "max": 1,
            "_view_module": "@jupyter-widgets/controls",
            "_model_module_version": "1.5.0",
            "value": 0.496,
            "_view_count": null,
            "disabled": false,
            "_view_module_version": "1.5.0",
            "min": 0.001,
            "continuous_update": false,
            "readout_format": ".2",
            "description_tooltip": null,
            "readout": true,
            "_model_module": "@jupyter-widgets/controls",
            "layout": "IPY_MODEL_cea89daf415c4843ae20641075f291ba"
          }
        },
        "5bf1b110c6344faba9e8e4bd5d06608b": {
          "model_module": "@jupyter-widgets/controls",
          "model_name": "SliderStyleModel",
          "model_module_version": "1.5.0",
          "state": {
            "_view_name": "StyleView",
            "handle_color": null,
            "_model_name": "SliderStyleModel",
            "description_width": "",
            "_view_module": "@jupyter-widgets/base",
            "_model_module_version": "1.5.0",
            "_view_count": null,
            "_view_module_version": "1.2.0",
            "_model_module": "@jupyter-widgets/controls"
          }
        },
        "cea89daf415c4843ae20641075f291ba": {
          "model_module": "@jupyter-widgets/base",
          "model_name": "LayoutModel",
          "model_module_version": "1.2.0",
          "state": {
            "_view_name": "LayoutView",
            "grid_template_rows": null,
            "right": null,
            "justify_content": null,
            "_view_module": "@jupyter-widgets/base",
            "overflow": null,
            "_model_module_version": "1.2.0",
            "_view_count": null,
            "flex_flow": null,
            "width": null,
            "min_width": null,
            "border": null,
            "align_items": null,
            "bottom": null,
            "_model_module": "@jupyter-widgets/base",
            "top": null,
            "grid_column": null,
            "overflow_y": null,
            "overflow_x": null,
            "grid_auto_flow": null,
            "grid_area": null,
            "grid_template_columns": null,
            "flex": null,
            "_model_name": "LayoutModel",
            "justify_items": null,
            "grid_row": null,
            "max_height": null,
            "align_content": null,
            "visibility": null,
            "align_self": null,
            "height": null,
            "min_height": null,
            "padding": null,
            "grid_auto_rows": null,
            "grid_gap": null,
            "max_width": null,
            "order": null,
            "_view_module_version": "1.2.0",
            "grid_template_areas": null,
            "object_position": null,
            "object_fit": null,
            "grid_auto_columns": null,
            "margin": null,
            "display": null,
            "left": null
          }
        }
      }
    }
  },
  "cells": [
    {
      "cell_type": "markdown",
      "metadata": {
        "id": "VOeBz4cmKMql"
      },
      "source": [
        "#connect to google drive"
      ]
    },
    {
      "cell_type": "code",
      "metadata": {
        "colab": {
          "base_uri": "https://localhost:8080/"
        },
        "id": "Tw_TUx72_rls",
        "outputId": "480e561b-8d04-4cc6-99d3-0e8ebeb391dc"
      },
      "source": [
        "#@title\n",
        "from google.colab import drive\n",
        "drive.mount('/content/drive')"
      ],
      "execution_count": null,
      "outputs": [
        {
          "output_type": "stream",
          "name": "stdout",
          "text": [
            "Mounted at /content/drive\n"
          ]
        }
      ]
    },
    {
      "cell_type": "markdown",
      "metadata": {
        "id": "3QKvmZKdKfxu"
      },
      "source": [
        "#load package from google drive"
      ]
    },
    {
      "cell_type": "code",
      "metadata": {
        "id": "EBSbwSEMKQcB"
      },
      "source": [
        "#@title\n",
        "%reload_ext rpy2.ipython"
      ],
      "execution_count": null,
      "outputs": []
    },
    {
      "cell_type": "code",
      "metadata": {
        "colab": {
          "base_uri": "https://localhost:8080/"
        },
        "id": "y0WcQ2ACKf3J",
        "outputId": "77633009-1359-4546-8e23-4f9667f3ee12"
      },
      "source": [
        "#@title\n",
        "%%R\n",
        "#lib_loc <- \"/content/drive/MyDrive/Colab_Notebooks/r_lib\"\n",
        "lib_loc <- \"/content/drive/MyDrive/r_lib_new\"\n",
        "lib_loc"
      ],
      "execution_count": null,
      "outputs": [
        {
          "output_type": "stream",
          "name": "stdout",
          "text": [
            "[1] \"/content/drive/MyDrive/r_lib_new\"\n"
          ]
        }
      ]
    },
    {
      "cell_type": "code",
      "metadata": {
        "colab": {
          "base_uri": "https://localhost:8080/"
        },
        "collapsed": true,
        "id": "TKB98Z0RKf5g",
        "outputId": "6805bc04-99f8-4a70-a013-39bc45dede66"
      },
      "source": [
        "#@title\n",
        "%%R\n",
        "library(biomaRt, lib=lib_loc)\n",
        "library(DOSE, lib=lib_loc)\n",
        "library(enrichplot, lib=lib_loc)\n",
        "library(clusterProfiler, lib=lib_loc)\n",
        "library(cowplot, lib=lib_loc)"
      ],
      "execution_count": null,
      "outputs": [
        {
          "output_type": "stream",
          "name": "stderr",
          "text": [
            "R[write to console]: \n",
            "\n",
            "R[write to console]: DOSE v3.20.1  For help: https://yulab-smu.top/biomedical-knowledge-mining-book/\n",
            "\n",
            "If you use DOSE in published research, please cite:\n",
            "Guangchuang Yu, Li-Gen Wang, Guang-Rong Yan, Qing-Yu He. DOSE: an R/Bioconductor package for Disease Ontology Semantic and Enrichment analysis. Bioinformatics 2015, 31(4):608-609\n",
            "\n",
            "\n",
            "R[write to console]: clusterProfiler v4.2.2  For help: https://yulab-smu.top/biomedical-knowledge-mining-book/\n",
            "\n",
            "If you use clusterProfiler in published research, please cite:\n",
            "T Wu, E Hu, S Xu, M Chen, P Guo, Z Dai, T Feng, L Zhou, W Tang, L Zhan, X Fu, S Liu, X Bo, and G Yu. clusterProfiler 4.0: A universal enrichment tool for interpreting omics data. The Innovation. 2021, 2(3):100141\n",
            "\n",
            "R[write to console]: \n",
            "Attaching package: ‘clusterProfiler’\n",
            "\n",
            "\n",
            "R[write to console]: The following object is masked from ‘package:biomaRt’:\n",
            "\n",
            "    select\n",
            "\n",
            "\n",
            "R[write to console]: The following object is masked from ‘package:stats’:\n",
            "\n",
            "    filter\n",
            "\n",
            "\n"
          ]
        }
      ]
    },
    {
      "cell_type": "code",
      "metadata": {
        "colab": {
          "base_uri": "https://localhost:8080/"
        },
        "collapsed": true,
        "id": "PdUIk0cOKf_O",
        "outputId": "6167b5f4-3bdd-484f-dba2-96108ca1d3fe"
      },
      "source": [
        "#@title\n",
        "%%R  \n",
        "library(BiocGenerics, lib=lib_loc) \n",
        "library(S4Vectors, lib=lib_loc) #TRanges\n",
        "library(IRanges, lib=lib_loc) #AnnotationDbi\n",
        "library(Biobase, lib=lib_loc) \n",
        "library(AnnotationDbi, lib=lib_loc)\n",
        "library(org.Hs.eg.db, lib=lib_loc)"
      ],
      "execution_count": null,
      "outputs": [
        {
          "output_type": "stream",
          "name": "stderr",
          "text": [
            "R[write to console]: \n",
            "Attaching package: ‘BiocGenerics’\n",
            "\n",
            "\n",
            "R[write to console]: The following objects are masked from ‘package:stats’:\n",
            "\n",
            "    IQR, mad, sd, var, xtabs\n",
            "\n",
            "\n",
            "R[write to console]: The following objects are masked from ‘package:base’:\n",
            "\n",
            "    anyDuplicated, append, as.data.frame, basename, cbind, colnames,\n",
            "    dirname, do.call, duplicated, eval, evalq, Filter, Find, get, grep,\n",
            "    grepl, intersect, is.unsorted, lapply, Map, mapply, match, mget,\n",
            "    order, paste, pmax, pmax.int, pmin, pmin.int, Position, rank,\n",
            "    rbind, Reduce, rownames, sapply, setdiff, sort, table, tapply,\n",
            "    union, unique, unsplit, which.max, which.min\n",
            "\n",
            "\n",
            "R[write to console]: Loading required package: stats4\n",
            "\n",
            "R[write to console]: \n",
            "Attaching package: ‘S4Vectors’\n",
            "\n",
            "\n",
            "R[write to console]: The following object is masked from ‘package:clusterProfiler’:\n",
            "\n",
            "    rename\n",
            "\n",
            "\n",
            "R[write to console]: The following objects are masked from ‘package:base’:\n",
            "\n",
            "    expand.grid, I, unname\n",
            "\n",
            "\n",
            "R[write to console]: \n",
            "Attaching package: ‘IRanges’\n",
            "\n",
            "\n",
            "R[write to console]: The following object is masked from ‘package:clusterProfiler’:\n",
            "\n",
            "    slice\n",
            "\n",
            "\n",
            "R[write to console]: Welcome to Bioconductor\n",
            "\n",
            "    Vignettes contain introductory material; view with\n",
            "    'browseVignettes()'. To cite Bioconductor, see\n",
            "    'citation(\"Biobase\")', and for packages 'citation(\"pkgname\")'.\n",
            "\n",
            "\n",
            "R[write to console]: \n",
            "Attaching package: ‘AnnotationDbi’\n",
            "\n",
            "\n",
            "R[write to console]: The following object is masked from ‘package:clusterProfiler’:\n",
            "\n",
            "    select\n",
            "\n",
            "\n",
            "R[write to console]: \n",
            "\n"
          ]
        }
      ]
    },
    {
      "cell_type": "code",
      "metadata": {
        "colab": {
          "base_uri": "https://localhost:8080/"
        },
        "id": "BDtEEEi-WrHe",
        "outputId": "a267edc1-3e45-41d8-be51-0437452f29f0"
      },
      "source": [
        "#@title\n",
        "%%R\n",
        "library(ggnewscale, lib=lib_loc)\n",
        "library(ggupset, lib=lib_loc)\n",
        "library(ggridges, lib=lib_loc)\n",
        "library(europepmc, lib=lib_loc)\n",
        "library(ggplot2)\n",
        "library(httr)\n",
        "library(dplyr) "
      ],
      "execution_count": null,
      "outputs": [
        {
          "output_type": "stream",
          "name": "stderr",
          "text": [
            "R[write to console]: \n",
            "Attaching package: ‘httr’\n",
            "\n",
            "\n",
            "R[write to console]: The following object is masked from ‘package:Biobase’:\n",
            "\n",
            "    content\n",
            "\n",
            "\n",
            "R[write to console]: \n",
            "Attaching package: ‘dplyr’\n",
            "\n",
            "\n",
            "R[write to console]: The following object is masked from ‘package:AnnotationDbi’:\n",
            "\n",
            "    select\n",
            "\n",
            "\n",
            "R[write to console]: The following object is masked from ‘package:Biobase’:\n",
            "\n",
            "    combine\n",
            "\n",
            "\n",
            "R[write to console]: The following objects are masked from ‘package:IRanges’:\n",
            "\n",
            "    collapse, desc, intersect, setdiff, slice, union\n",
            "\n",
            "\n",
            "R[write to console]: The following objects are masked from ‘package:S4Vectors’:\n",
            "\n",
            "    first, intersect, rename, setdiff, setequal, union\n",
            "\n",
            "\n",
            "R[write to console]: The following objects are masked from ‘package:BiocGenerics’:\n",
            "\n",
            "    combine, intersect, setdiff, union\n",
            "\n",
            "\n",
            "R[write to console]: The following object is masked from ‘package:biomaRt’:\n",
            "\n",
            "    select\n",
            "\n",
            "\n",
            "R[write to console]: The following objects are masked from ‘package:stats’:\n",
            "\n",
            "    filter, lag\n",
            "\n",
            "\n",
            "R[write to console]: The following objects are masked from ‘package:base’:\n",
            "\n",
            "    intersect, setdiff, setequal, union\n",
            "\n",
            "\n"
          ]
        }
      ]
    },
    {
      "cell_type": "markdown",
      "metadata": {
        "id": "zvQZEdEc35am"
      },
      "source": [
        "#選檔案\n"
      ]
    },
    {
      "cell_type": "code",
      "source": [
        "import ipywidgets as widgets\n",
        "from rpy2.robjects import r\n",
        "import rpy2.robjects as robjects\n",
        "\n",
        "radiobuttonSpecies = widgets.RadioButtons(\n",
        "    options= [\"mouse\", \"rat\", \"human\"],\n",
        "    description='物種:',\n",
        "    disabled=False\n",
        ")\n",
        "def on_radiobuttonSpecies_change(change):\n",
        "    r.assign(\"species\", change.new)\n",
        "    #print(change.new)\n",
        "r.assign(\"species\", \"mouse\")\n",
        "display(radiobuttonSpecies)\n",
        "radiobuttonSpecies.observe(on_radiobuttonSpecies_change, names=\"value\")"
      ],
      "metadata": {
        "colab": {
          "base_uri": "https://localhost:8080/",
          "height": 113,
          "referenced_widgets": [
            "220b3a9f9cef4c579c0602e5bb43900e",
            "8c24d98f2eec42ba8541e7a646ed2f32",
            "c1654043ed64429081cd87bd1b94c8a8"
          ]
        },
        "id": "v531XdKaGm5-",
        "outputId": "cdc7d5af-9a8d-4952-a2d3-67365d3cd053"
      },
      "execution_count": null,
      "outputs": [
        {
          "output_type": "display_data",
          "data": {
            "application/vnd.jupyter.widget-view+json": {
              "model_id": "220b3a9f9cef4c579c0602e5bb43900e",
              "version_minor": 0,
              "version_major": 2
            },
            "text/plain": [
              "RadioButtons(description='物種:', options=('mouse', 'rat', 'human'), value='mouse')"
            ]
          },
          "metadata": {}
        }
      ]
    },
    {
      "cell_type": "code",
      "metadata": {
        "colab": {
          "resources": {
            "http://localhost:8080/nbextensions/google.colab/files.js": {
              "data": "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",
              "ok": true,
              "headers": [
                [
                  "content-type",
                  "application/javascript"
                ]
              ],
              "status": 200,
              "status_text": ""
            }
          },
          "base_uri": "https://localhost:8080/",
          "height": 110
        },
        "outputId": "52dbb130-a6ca-4615-a442-1366446f960e",
        "id": "MMNVMbKl35an"
      },
      "source": [
        "#上傳檔案到colab\n",
        "from google.colab import files\n",
        "\n",
        "\n",
        "!rm * -f #delete all temporary file \n",
        "\n",
        "file=files.upload()\n",
        "\n",
        "if (file):\n",
        "  filename = next(iter(file))\n",
        "  r = robjects.r\n",
        "  r.assign('filename', filename) #將檔案名稱python -> R\n",
        "else:\n",
        "  print(\"請再次執行此儲存格，並選擇一個檔案\")"
      ],
      "execution_count": null,
      "outputs": [
        {
          "output_type": "stream",
          "name": "stdout",
          "text": [
            "rm: cannot remove 'drive': Is a directory\n",
            "rm: cannot remove 'sample_data': Is a directory\n"
          ]
        },
        {
          "output_type": "display_data",
          "data": {
            "text/html": [
              "\n",
              "     <input type=\"file\" id=\"files-461f6133-7689-45c7-ad0d-238b81793a9b\" name=\"files[]\" multiple disabled\n",
              "        style=\"border:none\" />\n",
              "     <output id=\"result-461f6133-7689-45c7-ad0d-238b81793a9b\">\n",
              "      Upload widget is only available when the cell has been executed in the\n",
              "      current browser session. Please rerun this cell to enable.\n",
              "      </output>\n",
              "      <script src=\"/nbextensions/google.colab/files.js\"></script> "
            ],
            "text/plain": [
              "<IPython.core.display.HTML object>"
            ]
          },
          "metadata": {}
        },
        {
          "output_type": "stream",
          "name": "stdout",
          "text": [
            "Saving dep_output.csv to dep_output.csv\n"
          ]
        }
      ]
    },
    {
      "cell_type": "markdown",
      "metadata": {
        "id": "t_06zRfZ4KQU"
      },
      "source": [
        "#data"
      ]
    },
    {
      "cell_type": "code",
      "metadata": {
        "colab": {
          "base_uri": "https://localhost:8080/"
        },
        "outputId": "873bc6d0-6fdc-4d92-9b00-d3251e69ea2e",
        "id": "Ms64_oSk4KQU"
      },
      "source": [
        "%%R\n",
        "library(stringr)\n",
        "fileType <- str_extract_all(filename,'\\\\b(.txt|.csv)\\\\b') #確認檔案為csv還是txt\n",
        "print(fileType)\n",
        "if (fileType == \".txt\") {\n",
        "    d = read.table(file = filename, header=TRUE ,sep=\"\\t\" ,fileEncoding =\"UTF-8\")\n",
        "} \n",
        "else if (fileType == \".csv\")  {\n",
        "    d = read.csv(file = filename, header=TRUE, fileEncoding =\"UTF-8\")\n",
        "}\n",
        "else {\n",
        "    print(\"檔案格式錯誤, 請再選擇一次檔案\")\n",
        "}\n",
        "print(dim(d))\n",
        "print(colnames(d))\n",
        "d[,'ID'] <- sub(\"-.*\", \"\", d$ID)\n",
        "#write.csv(d[,'ID'], file=\"sub.csv\")\n",
        "#print(head(d))\n",
        "\n",
        "ratioCol <- grep( \"ratio$\" , colnames(d) )\n",
        "ratioColname <- colnames(d[ratioCol])\n",
        "numRatio <- length(ratioCol)\n",
        "print(numRatio)\n",
        "cat(\"ratio: \", ratioColname)"
      ],
      "execution_count": null,
      "outputs": [
        {
          "output_type": "stream",
          "name": "stdout",
          "text": [
            "[[1]]\n",
            "[1] \".csv\"\n",
            "\n",
            "[1] 1333   14\n",
            " [1] \"name\"                   \"ID\"                     \"BCD_vs_ABC_p.val\"      \n",
            " [4] \"CDE_vs_ABC_p.val\"       \"BCD_vs_ABC_p.adj\"       \"CDE_vs_ABC_p.adj\"      \n",
            " [7] \"BCD_vs_ABC_significant\" \"CDE_vs_ABC_significant\" \"significant\"           \n",
            "[10] \"BCD_vs_ABC_ratio\"       \"CDE_vs_ABC_ratio\"       \"ABC_centered\"          \n",
            "[13] \"BCD_centered\"           \"CDE_centered\"          \n",
            "[1] 2\n",
            "ratio:  BCD_vs_ABC_ratio CDE_vs_ABC_ratio"
          ]
        }
      ]
    },
    {
      "cell_type": "code",
      "source": [
        "numRatio_py = robjects.r(\"numRatio\")\n",
        "ratioColname_py = robjects.r(\"ratioColname\")\n",
        "\n",
        "radiobuttonRatio = widgets.RadioButtons(\n",
        "    options= ratioColname_py,\n",
        "    description='Ratio:',\n",
        "    disabled=False\n",
        ")\n",
        "def on_radiobuttonRatio_change(change):\n",
        "    r.assign(\"ratioName\", change.new)\n",
        "    \n",
        "r.assign(\"ratioName\", ratioColname_py[0])\n",
        "display(radiobuttonRatio)\n",
        "radiobuttonRatio.observe(on_radiobuttonRatio_change, names=\"value\")"
      ],
      "metadata": {
        "colab": {
          "base_uri": "https://localhost:8080/",
          "height": 81,
          "referenced_widgets": [
            "45d733abeb1e46389f6a12ed8386154c",
            "22c58ebff0a048cdb04837a55d8666f9",
            "425d830f8ee9444b8d88d31e5c80f61d"
          ]
        },
        "id": "h7uONu9Uy3EZ",
        "outputId": "4ce3d7d1-1c7a-4159-8326-f067a9d30887"
      },
      "execution_count": null,
      "outputs": [
        {
          "output_type": "display_data",
          "data": {
            "application/vnd.jupyter.widget-view+json": {
              "model_id": "45d733abeb1e46389f6a12ed8386154c",
              "version_minor": 0,
              "version_major": 2
            },
            "text/plain": [
              "RadioButtons(description='Ratio:', options=('BCD_vs_ABC_ratio', 'CDE_vs_ABC_ratio'), value='BCD_vs_ABC_ratio')"
            ]
          },
          "metadata": {}
        }
      ]
    },
    {
      "cell_type": "code",
      "metadata": {
        "colab": {
          "base_uri": "https://localhost:8080/"
        },
        "outputId": "c9738de9-129a-480e-a465-1dea411f6d48",
        "id": "szoeO6QE4KQV"
      },
      "source": [
        "%%R \n",
        "\n",
        "#連接網頁(uniprot -> entrez)\n",
        "ID_string <- paste(d$ID, collapse=' ')\n",
        "\n",
        "#送出資料\n",
        "library(httr)\n",
        "result_1 <- httr::POST(\"https://www.uniprot.org/uploadlists/\", body = list('uploadQuery'=ID_string , 'from'=\"ACC,ID\",'to'=\"P_ENTREZGENEID\")) #c(\"C0HK80 C0HKD9\")\n",
        "print(paste(\"result: \",result_1[1]))\n",
        "\n",
        "#得到轉換結果\n",
        "table_url <- paste0(result_1[1], \".tab\")\n",
        "result <- httr::GET(table_url)\n",
        "print(paste(\"result table: \", result[1]))\n",
        "\n",
        "#把得到的結果轉成table\n",
        "\n",
        "result_table <- content(result)\n",
        "uniprot_entrez <- read.table(text=result_table, col.names=c('ID_uniprot', 'GeneID_entrez'))\n",
        "uniprot_entrez <- uniprot_entrez[-c(1),]\n",
        "\n",
        "#去除重複 (因為uniprot可能會有多個entrez => 排序後選最小的)\n",
        "uniprot_entrez[, 2] <- as.numeric(uniprot_entrez[, 2])\n",
        "uniprot_entrez <- uniprot_entrez [ order(uniprot_entrez$ID_uniprot, uniprot_entrez$GeneID_entrez),]\n",
        "uniprot_entrez <- uniprot_entrez[!duplicated(uniprot_entrez$ID_uniprot),]\n",
        "\n",
        "cat(\"row * colmun =\",dim(uniprot_entrez), \"\\n\")\n",
        "print(head(uniprot_entrez))\n",
        "#write.table(uniprot_entrez, file=\"uniprot_entrez.csv\", quote=FALSE, row.names=F)\n",
        "write.csv(uniprot_entrez, file=\"uniprot_entrez.csv\")"
      ],
      "execution_count": null,
      "outputs": [
        {
          "output_type": "stream",
          "name": "stdout",
          "text": [
            "[1] \"result:  https://www.uniprot.org/mapping/M202202234ABAA9BC7178C81CEBC9459510EDDEA3431A5BF\"\n",
            "[1] \"result table:  https://www.uniprot.org/mapping/M202202234ABAA9BC7178C81CEBC9459510EDDEA3431A5BF.tab\"\n"
          ]
        },
        {
          "output_type": "stream",
          "name": "stderr",
          "text": [
            "R[write to console]: No encoding supplied: defaulting to UTF-8.\n",
            "\n"
          ]
        },
        {
          "output_type": "stream",
          "name": "stdout",
          "text": [
            "row * colmun = 1202 2 \n",
            "    ID_uniprot GeneID_entrez\n",
            "269 A0A0G2JV04        360658\n",
            "833     A0JPJ7        296488\n",
            "539     A0JPM9        691947\n",
            "914     A1A5S1        366276\n",
            "637     A2RRU1        690987\n",
            "873     A4L691        305963\n"
          ]
        }
      ]
    },
    {
      "cell_type": "markdown",
      "metadata": {
        "id": "QNXH0-8r4KQV"
      },
      "source": [
        "biomaRt\n"
      ]
    },
    {
      "cell_type": "code",
      "metadata": {
        "colab": {
          "base_uri": "https://localhost:8080/"
        },
        "outputId": "c4c5648a-0a98-4fb9-b1c9-73d550f8da70",
        "id": "VCE_G8k-4KQV"
      },
      "source": [
        "%%R\n",
        "\n",
        "if (species != \"human\") {\n",
        "    \n",
        "    rat = useEnsembl(\"ensembl\", dataset = \"rnorvegicus_gene_ensembl\")\n",
        "    mouse = useEnsembl(\"ensembl\", dataset = \"mmusculus_gene_ensembl\")\n",
        "    human = useEnsembl(\"ensembl\", dataset = \"hsapiens_gene_ensembl\")\n",
        "\n",
        "    if (species == \"mouse\") { \n",
        "        #小鼠(entrezid) => 人類(entrez)\n",
        "        print(\"species => mouse\")\n",
        "        human_mouse_rat <- getLDS(mart=mouse, attributes=c(\"entrezgene_id\"), filters=\"entrezgene_id\" , values=uniprot_entrez[,\"GeneID_entrez\"], attributesL= c(\"entrezgene_id\"), martL = human, uniqueRows=T ) #values=uniprots_ID\n",
        "    }\n",
        "    else {  \n",
        "        #大鼠(entrezid) => 人類(entrez)\n",
        "        print(\"species => rat\")\n",
        "        human_mouse_rat <- getLDS(mart=rat, attributes=c(\"entrezgene_id\"), filters=\"entrezgene_id\" , values=uniprot_entrez[,\"GeneID_entrez\"], attributesL= c(\"entrezgene_id\"), martL = human, uniqueRows=T ) #values=uniprots_ID\n",
        "    }\n",
        "    print(dim(human_mouse_rat))\n",
        "}\n",
        "else {\n",
        "  print(\"species => human\")\n",
        "}"
      ],
      "execution_count": null,
      "outputs": [
        {
          "output_type": "stream",
          "name": "stderr",
          "text": [
            "R[write to console]: Ensembl site unresponsive, trying uswest mirror\n",
            "\n",
            "R[write to console]: Ensembl site unresponsive, trying useast mirror\n",
            "\n"
          ]
        },
        {
          "output_type": "stream",
          "name": "stdout",
          "text": [
            "[1] \"species => rat\"\n",
            "[1] 1127    2\n"
          ]
        }
      ]
    },
    {
      "cell_type": "code",
      "metadata": {
        "colab": {
          "base_uri": "https://localhost:8080/"
        },
        "outputId": "dbb2b3b8-11f6-46ca-eff1-c561fc596754",
        "id": "NXy1wNL34KQV"
      },
      "source": [
        "%%R\n",
        "#處理重複 (因為mouse, rat entrez 轉 human entrez 可能為一對多)\n",
        "if (species != \"human\") {\n",
        "  colnames(human_mouse_rat) <- c('GeneID_entrez','human')\n",
        "  human_mouse_rat <-human_mouse_rat[ order(human_mouse_rat$GeneID_entrez, human_mouse_rat$human),]\n",
        "  human_mouse_rat <- human_mouse_rat[!duplicated(human_mouse_rat$GeneID_entrez),]\n",
        "\n",
        "  print(dim(human_mouse_rat))\n",
        "  print(head(human_mouse_rat))   \n",
        "}"
      ],
      "execution_count": null,
      "outputs": [
        {
          "output_type": "stream",
          "name": "stdout",
          "text": [
            "[1] 1103    2\n",
            "     GeneID_entrez human\n",
            "820          24158    34\n",
            "972          24159    47\n",
            "1074         24170   118\n",
            "385          24185   207\n",
            "270          24189   226\n",
            "500          24192   231\n"
          ]
        }
      ]
    },
    {
      "cell_type": "code",
      "metadata": {
        "colab": {
          "base_uri": "https://localhost:8080/"
        },
        "outputId": "ce5eff40-98b4-48a0-8bdc-2c8410233009",
        "id": "uWrQ7JmV4KQV"
      },
      "source": [
        "%%R \n",
        "#inner join d(origin data), human_mouse_rat(GeneID, human), uniprot_entrez(ID_uniprot, GeneID_entrez) \n",
        "library(dplyr) \n",
        "\n",
        "#temp:entrez(mmu_or_rat)、entrez(human)、ID(uniprot)\n",
        "if (species != \"human\") {\n",
        "  temp <- inner_join( uniprot_entrez, human_mouse_rat, by=\"GeneID_entrez\")\n",
        "  colnames(temp) <- c('ID', 'GeneID', 'human_entrez')\n",
        "  temp[, \"ID\"] <- as.character(temp[, \"ID\"])\n",
        "  head(temp)\n",
        "\n",
        "  #data\n",
        "  data <- inner_join(temp, d, by=\"ID\")\n",
        "}\n",
        "else {\n",
        "    #human join d, uniprot_entrez\n",
        "    data <- inner_join(uniprot_entrez, d, by=\"ID_uniprot\")\n",
        "}\n",
        "#print(head(data))\n",
        "\n",
        "cat(\"uniprot_entrez:\",dim(uniprot_entrez), \"\\n\") #(human, mouse, rat)uniprot、entrez\n",
        "if (species != \"human\") {\n",
        "  cat(\"human_mouse_rat(entrez老鼠_entrez人類):\",dim(human_mouse_rat), \"\\n\") #(mouse, rat)entrez、人類entrez\n",
        "  cat(\"temp(uniport(老鼠)_entrez(老鼠)_entrez(人類))\", dim(temp), \"\\n\")#老鼠uniprot、老鼠entrez、人類entrez\n",
        "}\n",
        "cat(\"data:\",dim(data), \"\\n\")\n",
        "\n",
        "#write.table(uniprot_entrez, file=\"data.csv\", quote=FALSE, row.name=F)\n",
        "#write.table(human_mouse, file=\"data.csv\", quote=FALSE, row.name=F)\n",
        "write.table(data, file=\"dep_output_result.txt\", quote=F, row.name=F, sep = \"\\t\")\n",
        "write.csv(data, file=\"dep_output_result.csv\")"
      ],
      "execution_count": null,
      "outputs": [
        {
          "output_type": "stream",
          "name": "stdout",
          "text": [
            "uniprot_entrez: 1202 2 \n",
            "human_mouse_rat(entrez老鼠_entrez人類): 1103 2 \n",
            "temp(uniport(老鼠)_entrez(老鼠)_entrez(人類)) 1103 3 \n",
            "data: 1106 16 \n"
          ]
        }
      ]
    },
    {
      "cell_type": "code",
      "metadata": {
        "colab": {
          "base_uri": "https://localhost:8080/"
        },
        "outputId": "63fdfc2d-9a68-49fb-d328-e310daa964cd",
        "id": "BfD771cy4KQV"
      },
      "source": [
        "%%R\n",
        "#geneList\n",
        "print(colnames(data))\n",
        "## feature 1: numeric vector\n",
        "#geneList = data[,'LA_vs_DMSO_ratio'] #-log(pValue) #要改LA_vs_DMSO_ratio\n",
        "geneList = data[,ratioName] #-log(pValue)\n",
        "## feature 2: named vector\n",
        "names(geneList) = as.character(data[, 'human_entrez']) \n",
        "\n",
        "## feature 3: decreasing orde\n",
        "geneList = sort(geneList, decreasing = TRUE)\n",
        "head(geneList)\n"
      ],
      "execution_count": null,
      "outputs": [
        {
          "output_type": "stream",
          "name": "stdout",
          "text": [
            " [1] \"ID\"                     \"GeneID\"                 \"human_entrez\"          \n",
            " [4] \"name\"                   \"BCD_vs_ABC_p.val\"       \"CDE_vs_ABC_p.val\"      \n",
            " [7] \"BCD_vs_ABC_p.adj\"       \"CDE_vs_ABC_p.adj\"       \"BCD_vs_ABC_significant\"\n",
            "[10] \"CDE_vs_ABC_significant\" \"significant\"            \"BCD_vs_ABC_ratio\"      \n",
            "[13] \"CDE_vs_ABC_ratio\"       \"ABC_centered\"           \"BCD_centered\"          \n",
            "[16] \"CDE_centered\"          \n",
            " 4763  5763  9124  2778  7905 79031 \n",
            " 7.58  7.12  6.31  5.94  5.77  5.54 \n"
          ]
        }
      ]
    },
    {
      "cell_type": "code",
      "metadata": {
        "colab": {
          "base_uri": "https://localhost:8080/"
        },
        "outputId": "524f23c5-6444-426c-f223-f0e1bdb90a58",
        "id": "HwVmaw5X4KQV"
      },
      "source": [
        "%%R\n",
        "de <- names(geneList)[abs(log(geneList)) > 1]\n",
        "edo <- enrichDGN(de)\n",
        "edo2 <- gseDO(geneList, pvalueCutoff=1)\n",
        "edox <- setReadable(edo, 'org.Hs.eg.db', 'ENTREZID')"
      ],
      "execution_count": null,
      "outputs": [
        {
          "output_type": "stream",
          "name": "stderr",
          "text": [
            "R[write to console]: preparing geneSet collections...\n",
            "\n",
            "R[write to console]: GSEA analysis...\n",
            "\n",
            "R[write to console]: leading edge analysis...\n",
            "\n",
            "R[write to console]: done...\n",
            "\n"
          ]
        }
      ]
    },
    {
      "cell_type": "markdown",
      "metadata": {
        "id": "T4OacVqeWlna"
      },
      "source": [
        "#圖"
      ]
    },
    {
      "cell_type": "markdown",
      "metadata": {
        "id": "2nM03I9hb7LJ"
      },
      "source": [
        "1.Bar Plot"
      ]
    },
    {
      "cell_type": "code",
      "metadata": {
        "id": "uoWAHg_Sbl78"
      },
      "source": [
        "%%R\n",
        "barplot_1 <- function(){\n",
        "    pic1 <- barplot(edo,x = \"Count\", color=\"p.adjust\", showCategory=20)+ xlab(\"Count\")\n",
        "    print(pic1)\n",
        "    save_plot(\"pic1.png\", pic1, base_height = 10, base_aspect_ratio = 1)\n",
        "}"
      ],
      "execution_count": null,
      "outputs": []
    },
    {
      "cell_type": "markdown",
      "metadata": {
        "id": "yZzEBT0q-OSs"
      },
      "source": [
        "2.Dot Plot"
      ]
    },
    {
      "cell_type": "code",
      "metadata": {
        "id": "Z-KPTmIv76AZ"
      },
      "source": [
        "%%R\n",
        "dotplot_2 <- function(){\n",
        "   pic2_1 <- dotplot(edo, showCategory=30) + ggtitle(\"dotplot for ORA\")\n",
        "   pic2_2 <- dotplot(edo2, showCategory=30) + ggtitle(\"dotplot for GSEA\")\n",
        "   print(pic2_1)\n",
        "   print(pic2_2)\n",
        "   save_plot(\"pic2_1.png\", pic2_1, base_height = 10, base_aspect_ratio = 1)\n",
        "   save_plot(\"pic2_2.png\", pic2_2, base_height = 10, base_aspect_ratio = 1)\n",
        "}\n"
      ],
      "execution_count": null,
      "outputs": []
    },
    {
      "cell_type": "markdown",
      "metadata": {
        "id": "yXPWAy7ICnBK"
      },
      "source": [
        " 3.Gene-Concept Network"
      ]
    },
    {
      "cell_type": "code",
      "metadata": {
        "id": "SpNbeG3rE7NC"
      },
      "source": [
        "%%R \n",
        "gene_concept_network_3 <- function(){\n",
        "    pic3_1 <- cnetplot(edox, foldChange=geneList)\n",
        "    ## categorySize can be scaled by 'pvalue' or 'geneNum'\n",
        "    pic3_2 <- cnetplot(edox, categorySize=\"pvalue\", foldChange=geneList)\n",
        "    pic3_3 <- cnetplot(edox, foldChange=geneList, circular = TRUE, colorEdge = TRUE)\n",
        "    print(pic3_1)\n",
        "    print(pic3_2)\n",
        "    print(pic3_3)\n",
        "    pic3_4 <- cnetplot(edox, node_label=\"category\") \n",
        "    pic3_5 <- cnetplot(edox, node_label=\"gene\") \n",
        "    pic3_6 <- cnetplot(edox, node_label=\"all\") \n",
        "    pic3_7 <- cnetplot(edox, node_label=\"none\") \n",
        "    print(pic3_4)\n",
        "    print(pic3_5)\n",
        "    print(pic3_6)\n",
        "    print(pic3_7)\n",
        "    save_plot(\"pic3_1.png\", pic3_1, base_height = 10, base_aspect_ratio = 1)\n",
        "    save_plot(\"pic3_2.png\", pic3_2, base_height = 10, base_aspect_ratio = 1)\n",
        "    save_plot(\"pic3_3.png\", pic3_3, base_height = 10, base_aspect_ratio = 1)\n",
        "    save_plot(\"pic3_4.png\", pic3_4, base_height = 10, base_aspect_ratio = 1)\n",
        "    save_plot(\"pic3_5.png\", pic3_5, base_height = 10, base_aspect_ratio = 1)\n",
        "    save_plot(\"pic3_6.png\", pic3_6, base_height = 10, base_aspect_ratio = 1)\n",
        "    save_plot(\"pic3_7.png\", pic3_7, base_height = 10, base_aspect_ratio = 1)\n",
        "}"
      ],
      "execution_count": null,
      "outputs": []
    },
    {
      "cell_type": "markdown",
      "metadata": {
        "id": "5HIHYLhKC6dT"
      },
      "source": [
        "4.Heatmap-like functional classification"
      ]
    },
    {
      "cell_type": "code",
      "metadata": {
        "id": "0sGrMd3ADTTj"
      },
      "source": [
        "%%R\n",
        "heatmap_like_functional_classification_4 <- function(){\n",
        "    pic4_1 <- heatplot(edox)\n",
        "    pic4_2 <- heatplot(edox, foldChange=geneList)\n",
        "    cowplot::plot_grid(pic4_1, pic4_2, ncol=1, labels=LETTERS[1:2])\n",
        "    pic4_1 <- pic4_1 + coord_flip()\n",
        "    pic4_2 <- pic4_2 + coord_flip()\n",
        "    print(pic4_1)\n",
        "    print(pic4_2)\n",
        "    save_plot(\"pic4_1.png\", pic4_1, base_height = 70, base_aspect_ratio = 0.5,limitsize = FALSE)\n",
        "    save_plot(\"pic4_2.png\", pic4_2, base_height = 10, base_aspect_ratio = 3,limitsize = FALSE)\n",
        "}"
      ],
      "execution_count": null,
      "outputs": []
    },
    {
      "cell_type": "markdown",
      "metadata": {
        "id": "cABmbn9WVtLe"
      },
      "source": [
        "5 Enrichment Map"
      ]
    },
    {
      "cell_type": "code",
      "metadata": {
        "id": "nil7eBV8VD9E"
      },
      "source": [
        "%%R\n",
        "enrichment_map_5 <- function(){\n",
        "  edo <- pairwise_termsim(edo)\n",
        "  pic5_1 <- emapplot(edo)\n",
        "  pic5_2 <- emapplot(edo, cex_category=1.5)\n",
        "  pic5_3 <- emapplot(edo, layout=\"kk\")\n",
        "  pic5_4 <- emapplot(edo, cex_category=1.5,layout=\"kk\") \n",
        "  enrichment <- cowplot::plot_grid(pic5_1, pic5_2, pic5_3, pic5_4,labels=LETTERS[1:4])\n",
        "  print(pic5_1)\n",
        "  print(pic5_2)\n",
        "  print(pic5_3)\n",
        "  print(pic5_4) \n",
        "  save_plot(\"pic5_1.png\", pic5_1, base_height = 10, base_aspect_ratio = 1)\n",
        "  save_plot(\"pic5_2.png\", pic5_2, base_height = 10, base_aspect_ratio = 1)\n",
        "  save_plot(\"pic5_3.png\", pic5_3, base_height = 10, base_aspect_ratio = 1)\n",
        "  save_plot(\"pic5_4.png\", pic5_4, base_height = 10, base_aspect_ratio = 1) \n",
        "}\n"
      ],
      "execution_count": null,
      "outputs": []
    },
    {
      "cell_type": "markdown",
      "metadata": {
        "id": "OBrhLgljVw8K"
      },
      "source": [
        "6 Biological theme comparison"
      ]
    },
    {
      "cell_type": "code",
      "metadata": {
        "id": "hOWYZj_qln7G"
      },
      "source": [
        "%%R\n",
        "biological_theme_comparison_6 <- function() {\n",
        "  library(clusterProfiler, lib=lib_loc)\n",
        "  xx <- compareCluster(data, fun=\"enrichKEGG\",\n",
        "            organism=\"hsa\", pvalueCutoff=0.05) #pvalueCutoff正常為0.05\n",
        "  xx <- pairwise_termsim(xx)                     \n",
        "  pic6_1 <- emapplot(xx)\n",
        "  pic6_2 <- emapplot(xx, legend_n=2) \n",
        "  pic6_3 <- emapplot(xx, pie=\"count\")\n",
        "  pic6_4 <- emapplot(xx, pie=\"count\", cex_category=1.5, layout=\"kk\")\n",
        "  #cowplot::plot_grid(p1, p2, p3, p4, ncol=2, labels=LETTERS[1:4])\n",
        "  print(pic6_1)\n",
        "  print(pic6_2)\n",
        "  print(pic6_3)\n",
        "  print(pic6_4)\n",
        "  save_plot(\"pic6_1.png\", pic6_1, base_height = 10, base_aspect_ratio = 1)\n",
        "  save_plot(\"pic6_2.png\", pic6_2, base_height = 10, base_aspect_ratio = 1)\n",
        "  save_plot(\"pic6_3.png\", pic6_3, base_height = 10, base_aspect_ratio = 1)\n",
        "  save_plot(\"pic6_4.png\", pic6_4, base_height = 10, base_aspect_ratio = 1)\n",
        "}\n"
      ],
      "execution_count": null,
      "outputs": []
    },
    {
      "cell_type": "markdown",
      "metadata": {
        "id": "BgOkxF3OV2OS"
      },
      "source": [
        "7 UpSet Plot"
      ]
    },
    {
      "cell_type": "code",
      "source": [
        "%%R\n",
        "upSet_plot_7_1 <- function() {\n",
        "    pic7_1 <- upsetplot(edo)\n",
        "\n",
        "    print(pic7_1)\n",
        "    save_plot(\"pic7_1.png\", pic7_1, base_height = 10, base_aspect_ratio = 1.5)\n",
        "}"
      ],
      "metadata": {
        "id": "OQB6vpglCpVV"
      },
      "execution_count": null,
      "outputs": []
    },
    {
      "cell_type": "code",
      "source": [
        "%%R\n",
        "upSet_plot_7_2 <- function(change){\n",
        "   \n",
        "    kk2 <- gseKEGG(  geneList = geneList,\n",
        "              organism     = 'hsa',\n",
        "              minGSSize    = 120,\n",
        "              pvalueCutoff = change,\n",
        "              verbose      = FALSE)\n",
        "    if (length(kk2[,2]) < 1) {\n",
        "        print(\"no term enriched under specific pvalueCutoff\")\n",
        "    }\n",
        "    else {\n",
        "      #print(length(kk2))\n",
        "      pic7_2 <- upsetplot(kk2, n = 10)\n",
        "      print(pic7_2)\n",
        "      save_plot(\"pic7_2.png\", pic7_2, base_height = 10, base_aspect_ratio = 1.5) \n",
        "    } \n",
        "}"
      ],
      "metadata": {
        "id": "JQNdsGyrLAKr"
      },
      "execution_count": 68,
      "outputs": []
    },
    {
      "cell_type": "code",
      "source": [
        "import ipywidgets as widgets\n",
        "from rpy2.robjects import r\n",
        "import rpy2.robjects as robjects\n",
        "from IPython.display import clear_output\n",
        "\n",
        "slider = widgets.FloatSlider(\n",
        "        value=0.05,\n",
        "        min=0.001,\n",
        "        max=1,\n",
        "        step=0.001,\n",
        "        description='pvalue:',\n",
        "        disabled=False,\n",
        "        continuous_update=False,\n",
        "        orientation='horizontal',\n",
        "        readout=True,\n",
        "        readout_format='.2',\n",
        ")\n",
        "    #slide.observe(on_slider_change, names=\"value\") \n",
        "def on_slider_change(change):\n",
        "    clear_output()\n",
        "    display(slider)\n",
        "    r.assign(\"change_new\", change.new)\n",
        "    #print(change.new)\n",
        "    %R upSet_plot_7_2(change_new)   \n",
        "\n",
        "display(slider)\n",
        "%R upSet_plot_7_2(0.05)\n",
        "slider.observe(on_slider_change, names=\"value\")"
      ],
      "metadata": {
        "id": "htH5BcP-w9cb",
        "colab": {
          "base_uri": "https://localhost:8080/",
          "height": 101,
          "referenced_widgets": [
            "27daa77a56e14e4796bed0df0f393404",
            "5bf1b110c6344faba9e8e4bd5d06608b",
            "cea89daf415c4843ae20641075f291ba"
          ]
        },
        "outputId": "d0689fbe-9293-45c0-d46c-e6dd488f7d24"
      },
      "execution_count": 70,
      "outputs": [
        {
          "output_type": "display_data",
          "data": {
            "application/vnd.jupyter.widget-view+json": {
              "model_id": "27daa77a56e14e4796bed0df0f393404",
              "version_minor": 0,
              "version_major": 2
            },
            "text/plain": [
              "FloatSlider(value=0.496, continuous_update=False, description='pvalue:', max=1.0, min=0.001, readout_format='.…"
            ]
          },
          "metadata": {}
        },
        {
          "output_type": "stream",
          "name": "stderr",
          "text": [
            "R[write to console]: no term enriched under specific pvalueCutoff...\n",
            "\n"
          ]
        },
        {
          "output_type": "stream",
          "name": "stdout",
          "text": [
            "[1] \"no term enriched under specific pvalueCutoff\"\n"
          ]
        }
      ]
    },
    {
      "cell_type": "markdown",
      "metadata": {
        "id": "Uqes_mHxV7-z"
      },
      "source": [
        "8 ridgeline plot for expression distribution of GSEA result (X軸)"
      ]
    },
    {
      "cell_type": "code",
      "metadata": {
        "id": "QhgPmouzIqVZ"
      },
      "source": [
        "%%R\n",
        "ridgeline_plot_for_expression_distribution_of_GSEA_result_8 <- function(){\n",
        "    pic8 <- ridgeplot(edo2) + xlab(\"expression distributions of enriched genes (log2FC)\")\n",
        "    print(pic8)\n",
        "    save_plot(\"pic8.pdf\", pic8, base_height = 20, base_aspect_ratio = 0.6)\n",
        "}"
      ],
      "execution_count": null,
      "outputs": []
    },
    {
      "cell_type": "markdown",
      "metadata": {
        "id": "0I3cG9xTV_fL"
      },
      "source": [
        "9 running score and preranked list of GSEA result"
      ]
    },
    {
      "cell_type": "code",
      "metadata": {
        "id": "3t0n8N4eDQwV"
      },
      "source": [
        "%%R\n",
        "running_score_and_preranked_list_of_GSEA_result_9 <- function(){\n",
        "  pic9_1 <- gseaplot(edo2, geneSetID = 1, by = \"runningScore\", title = edo2$Description[1])\n",
        "  pic9_2 <- gseaplot(edo2, geneSetID = 1, by = \"preranked\", title = edo2$Description[1])\n",
        "  pic9_3 <- gseaplot(edo2, geneSetID = 1, title = edo2$Description[1])\n",
        "  \n",
        "  #cowplot::plot_grid(pic9_1, pic9_2, pic9_3, ncol=1, labels=LETTERS[1:3])\n",
        "  pic9_4 <- gseaplot2(edo2, geneSetID = 1, title = edo2$Description[1])\n",
        " \n",
        "  pic9_5 <- gseaplot2(edo2, geneSetID = 1:3)\n",
        "  pic9_6 <- gseaplot2(edo2, geneSetID = 1:3, pvalue_table = TRUE,\n",
        "          color = c(\"#E495A5\", \"#86B875\", \"#7DB0DD\"), ES_geom = \"dot\")\n",
        "  \n",
        "  pic9_7 <- gseaplot2(edo2, geneSetID = 1:3, subplots = 1) + xlab(\"Rank\")\n",
        "  pic9_8 <- gseaplot2(edo2, geneSetID = 1:3, subplots = 1:2) + xlab(\"Rank\")\n",
        "  #pic9_7_8 <- cowplot::plot_grid(pic9_7, pic9_8, ncol=1, labels=LETTERS[1:2])\n",
        "\n",
        "  pic9_9 <- gsearank(edo2, 1, title = edo2[1, \"Description\"])\n",
        "\n",
        "  pic9_10 <- lapply(1:3, function(i){\n",
        "    anno <- edo2[i, c(\"NES\", \"pvalue\", \"p.adjust\")]\n",
        "    lab <- paste0(names(anno), \"=\",  round(anno, 3), collapse=\"\\n\")\n",
        "    gsearank(edo2, i, edo2[i, 2]) + xlab(\"Rank\")+ \n",
        "      annotate(\"text\", 5000, edo2[i, \"enrichmentScore\"]* .75, label =lab, hjust=0, vjust=0)})\n",
        "\n",
        "#plot_grid(plotlist=pp, ncol=1)\n",
        "  print(pic9_1)\n",
        "  print(pic9_2)\n",
        "  print(pic9_3)\n",
        "  print(pic9_4)\n",
        "  print(pic9_5)\n",
        "  print(pic9_6)\n",
        "  print(pic9_7)\n",
        "  print(pic9_8)\n",
        "  print(pic9_9)\n",
        "  print(pic9_10)\n",
        "  save_plot(\"pic9_1.png\", pic9_1, base_height = 10, base_aspect_ratio = 1)\n",
        "  save_plot(\"pic9_2.png\", pic9_2, base_height = 10, base_aspect_ratio = 1)\n",
        "  save_plot(\"pic9_3.png\", pic9_3, base_height = 10, base_aspect_ratio = 1)\n",
        "  save_plot(\"pic9_4.png\", pic9_4, base_height = 10, base_aspect_ratio = 1)\n",
        "  save_plot(\"pic9_5.png\", pic9_5, base_height = 10, base_aspect_ratio = 1)\n",
        "  save_plot(\"pic9_6.png\", pic9_6, base_height = 10, base_aspect_ratio = 1)\n",
        "  save_plot(\"pic9_7.png\", pic9_7, base_height = 10, base_aspect_ratio = 1)\n",
        "  save_plot(\"pic9_8.png\", pic9_8, base_height = 10, base_aspect_ratio = 1)\n",
        "  save_plot(\"pic9_9.png\", pic9_9, base_height = 10, base_aspect_ratio = 1)\n",
        "  #save_plot(\"pic9_10.png\", pic9_10, base_height = 10, base_aspect_ratio = 1)\n",
        "  \n",
        "}"
      ],
      "execution_count": null,
      "outputs": []
    },
    {
      "cell_type": "markdown",
      "metadata": {
        "id": "zHPr2iAG30td"
      },
      "source": [
        "#開始畫圖"
      ]
    },
    {
      "cell_type": "code",
      "metadata": {
        "colab": {
          "base_uri": "https://localhost:8080/",
          "referenced_widgets": [
            "4b99d82b52a84c72bfa1ee819e4075dc",
            "6de5b6e4f8b84f698b8458441d424391",
            "7bf81e2b34f74248a7f5b2d3e222cdf1",
            "052a76c0308b4f4e9d7f622d4b278ae7",
            "6359e538c89d4d619387c703d2be73a7"
          ],
          "height": 1000
        },
        "id": "Iv-8P2om_fzL",
        "outputId": "720c7cf9-02fd-418b-8d84-5c4f695dd11c"
      },
      "source": [
        "import ipywidgets as widgets\n",
        "from IPython.display import display, HTML\n",
        "output = widgets.Output()\n",
        "\n",
        "@output.capture(clear_output=True,wait=True) # based on https://github.com/jupyter-widgets/ipywidgets/issues/1846 and https://ipywidgets.readthedocs.io/en/latest/examples/Output%20Widget.html\n",
        "def draw(b):\n",
        "   if (filename):\n",
        "      \n",
        "      print (\"1. barplot\")\n",
        "      %R barplot_1()\n",
        "      print (\"2. dotplot\")\n",
        "      %R dotplot_2()\n",
        "      print (\"3. Gene-Concept Network\")\n",
        "      %R gene_concept_network_3()\n",
        "      print (\"4. Heatmap-like functional classification\")\n",
        "      %R heatmap_like_functional_classification_4()\n",
        "      print (\"5. Enrichment Map\")\n",
        "      %R enrichment_map_5()\n",
        "      print (\"6. Biological theme comparison\")\n",
        "      %R biological_theme_comparison_6()\n",
        "      print (\"7. UpSet Plot\")\n",
        "      %R upSet_plot_7_1()\n",
        "      display(slider)\n",
        "      %R upSet_plot_7()\n",
        "      print (\"8. ridgeline plot for expression distribution of GSEA result\")\n",
        "      %R ridgeline_plot_for_expression_distribution_of_GSEA_result_8()\n",
        "      print (\"9. running score and preranked list of GSEA result\")\n",
        "      %R running_score_and_preranked_list_of_GSEA_result_9()\n",
        "     #%R print(barplot(edo,x = \"Count\", color=\"p.adjust\", showCategory=20)+ xlab(\"Count\"))\n",
        "     \n",
        "      print(\"畫完了!!\")\n",
        "   else:\n",
        "      print(\"請選擇檔案\")\n",
        "        \n",
        "\n",
        "        \n",
        "run_button = widgets.Button(\n",
        "      description = '開始畫圖'\n",
        ")\n",
        "\n",
        "run_button.on_click(draw)\n",
        "display(run_button)\n",
        "output"
      ],
      "execution_count": null,
      "outputs": [
        {
          "output_type": "display_data",
          "data": {
            "application/vnd.jupyter.widget-view+json": {
              "model_id": "4b99d82b52a84c72bfa1ee819e4075dc",
              "version_minor": 0,
              "version_major": 2
            },
            "text/plain": [
              "Button(description='開始畫圖', style=ButtonStyle())"
            ]
          },
          "metadata": {}
        },
        {
          "output_type": "display_data",
          "data": {
            "application/vnd.jupyter.widget-view+json": {
              "model_id": "052a76c0308b4f4e9d7f622d4b278ae7",
              "version_minor": 0,
              "version_major": 2
            },
            "text/plain": [
              "Output()"
            ]
          },
          "metadata": {}
        }
      ]
    }
  ]
}