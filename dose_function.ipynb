{
  "nbformat": 4,
  "nbformat_minor": 0,
  "metadata": {
    "colab": {
      "name": "dose_function.ipynb",
      "provenance": [],
      "collapsed_sections": [
        "VOeBz4cmKMql",
        "3QKvmZKdKfxu"
      ],
      "include_colab_link": true
    },
    "kernelspec": {
      "display_name": "Python 3",
      "name": "python3"
    },
    "language_info": {
      "name": "python"
    },
    "widgets": {
      "application/vnd.jupyter.widget-state+json": {
        "47393d6b2ffd43828409dc89df18b78c": {
          "model_module": "@jupyter-widgets/controls",
          "model_name": "ButtonModel",
          "model_module_version": "1.5.0",
          "state": {
            "_view_name": "ButtonView",
            "style": "IPY_MODEL_0047c70b4668474bafb09cb87c1d294c",
            "_dom_classes": [],
            "description": "開始畫圖",
            "_model_name": "ButtonModel",
            "button_style": "",
            "_view_module": "@jupyter-widgets/controls",
            "_model_module_version": "1.5.0",
            "tooltip": "",
            "_view_count": null,
            "disabled": false,
            "_view_module_version": "1.5.0",
            "layout": "IPY_MODEL_8676450348b24df0b9dc1b3e2b7ec14a",
            "_model_module": "@jupyter-widgets/controls",
            "icon": ""
          }
        },
        "0047c70b4668474bafb09cb87c1d294c": {
          "model_module": "@jupyter-widgets/controls",
          "model_name": "ButtonStyleModel",
          "model_module_version": "1.5.0",
          "state": {
            "_view_name": "StyleView",
            "_model_name": "ButtonStyleModel",
            "_view_module": "@jupyter-widgets/base",
            "_model_module_version": "1.5.0",
            "_view_count": null,
            "button_color": null,
            "font_weight": "",
            "_view_module_version": "1.2.0",
            "_model_module": "@jupyter-widgets/controls"
          }
        },
        "8676450348b24df0b9dc1b3e2b7ec14a": {
          "model_module": "@jupyter-widgets/base",
          "model_name": "LayoutModel",
          "model_module_version": "1.2.0",
          "state": {
            "_view_name": "LayoutView",
            "grid_template_rows": null,
            "right": null,
            "justify_content": null,
            "_view_module": "@jupyter-widgets/base",
            "overflow": null,
            "_model_module_version": "1.2.0",
            "_view_count": null,
            "flex_flow": null,
            "width": null,
            "min_width": null,
            "border": null,
            "align_items": null,
            "bottom": null,
            "_model_module": "@jupyter-widgets/base",
            "top": null,
            "grid_column": null,
            "overflow_y": null,
            "overflow_x": null,
            "grid_auto_flow": null,
            "grid_area": null,
            "grid_template_columns": null,
            "flex": null,
            "_model_name": "LayoutModel",
            "justify_items": null,
            "grid_row": null,
            "max_height": null,
            "align_content": null,
            "visibility": null,
            "align_self": null,
            "height": null,
            "min_height": null,
            "padding": null,
            "grid_auto_rows": null,
            "grid_gap": null,
            "max_width": null,
            "order": null,
            "_view_module_version": "1.2.0",
            "grid_template_areas": null,
            "object_position": null,
            "object_fit": null,
            "grid_auto_columns": null,
            "margin": null,
            "display": null,
            "left": null
          }
        },
        "43bf396a48224114b8c548813b7ac314": {
          "model_module": "@jupyter-widgets/output",
          "model_name": "OutputModel",
          "model_module_version": "1.0.0",
          "state": {
            "_view_name": "OutputView",
            "msg_id": "",
            "_dom_classes": [],
            "_model_name": "OutputModel",
            "outputs": [],
            "_view_module": "@jupyter-widgets/output",
            "_model_module_version": "1.0.0",
            "_view_count": null,
            "_view_module_version": "1.0.0",
            "layout": "IPY_MODEL_ed4c9ac6e03f4b1e805a1a6849b025c8",
            "_model_module": "@jupyter-widgets/output"
          }
        },
        "ed4c9ac6e03f4b1e805a1a6849b025c8": {
          "model_module": "@jupyter-widgets/base",
          "model_name": "LayoutModel",
          "model_module_version": "1.2.0",
          "state": {
            "_view_name": "LayoutView",
            "grid_template_rows": null,
            "right": null,
            "justify_content": null,
            "_view_module": "@jupyter-widgets/base",
            "overflow": null,
            "_model_module_version": "1.2.0",
            "_view_count": null,
            "flex_flow": null,
            "width": null,
            "min_width": null,
            "border": null,
            "align_items": null,
            "bottom": null,
            "_model_module": "@jupyter-widgets/base",
            "top": null,
            "grid_column": null,
            "overflow_y": null,
            "overflow_x": null,
            "grid_auto_flow": null,
            "grid_area": null,
            "grid_template_columns": null,
            "flex": null,
            "_model_name": "LayoutModel",
            "justify_items": null,
            "grid_row": null,
            "max_height": null,
            "align_content": null,
            "visibility": null,
            "align_self": null,
            "height": null,
            "min_height": null,
            "padding": null,
            "grid_auto_rows": null,
            "grid_gap": null,
            "max_width": null,
            "order": null,
            "_view_module_version": "1.2.0",
            "grid_template_areas": null,
            "object_position": null,
            "object_fit": null,
            "grid_auto_columns": null,
            "margin": null,
            "display": null,
            "left": null
          }
        }
      }
    }
  },
  "cells": [
    {
      "cell_type": "markdown",
      "metadata": {
        "id": "view-in-github",
        "colab_type": "text"
      },
      "source": [
        "<a href=\"https://colab.research.google.com/github/B0829009/pa/blob/main/dose_function.ipynb\" target=\"_parent\"><img src=\"https://colab.research.google.com/assets/colab-badge.svg\" alt=\"Open In Colab\"/></a>"
      ]
    },
    {
      "cell_type": "markdown",
      "metadata": {
        "id": "VOeBz4cmKMql"
      },
      "source": [
        "#connect to google drive"
      ]
    },
    {
      "cell_type": "code",
      "metadata": {
        "colab": {
          "base_uri": "https://localhost:8080/"
        },
        "id": "Tw_TUx72_rls",
        "outputId": "e6d254ee-f35a-422f-d443-acc04699e8e1"
      },
      "source": [
        "#@title\n",
        "from google.colab import drive\n",
        "drive.mount('/content/drive')"
      ],
      "execution_count": null,
      "outputs": [
        {
          "output_type": "stream",
          "name": "stdout",
          "text": [
            "Mounted at /content/drive\n"
          ]
        }
      ]
    },
    {
      "cell_type": "markdown",
      "metadata": {
        "id": "3QKvmZKdKfxu"
      },
      "source": [
        "#load package from google drive"
      ]
    },
    {
      "cell_type": "code",
      "metadata": {
        "id": "EBSbwSEMKQcB"
      },
      "source": [
        "#@title\n",
        "%reload_ext rpy2.ipython"
      ],
      "execution_count": null,
      "outputs": []
    },
    {
      "cell_type": "code",
      "metadata": {
        "colab": {
          "base_uri": "https://localhost:8080/"
        },
        "id": "y0WcQ2ACKf3J",
        "outputId": "9c536826-5d6d-4135-86d7-a926f6218e76"
      },
      "source": [
        "#@title\n",
        "%%R\n",
        "lib_loc <- \"/content/drive/MyDrive/Colab_Notebooks/r_lib\"\n",
        "lib_loc"
      ],
      "execution_count": null,
      "outputs": [
        {
          "output_type": "stream",
          "name": "stdout",
          "text": [
            "[1] \"/content/drive/MyDrive/Colab_Notebooks/r_lib\"\n"
          ]
        }
      ]
    },
    {
      "cell_type": "code",
      "metadata": {
        "colab": {
          "base_uri": "https://localhost:8080/"
        },
        "collapsed": true,
        "id": "TKB98Z0RKf5g",
        "outputId": "c4e21ca3-3f35-436e-d626-663a5ee2054e"
      },
      "source": [
        "#@title\n",
        "%%R\n",
        "library(DOSE, lib=lib_loc)\n",
        "library(enrichplot, lib=lib_loc)\n",
        "library(clusterProfiler, lib=lib_loc)\n",
        "library(cowplot, lib=lib_loc)"
      ],
      "execution_count": null,
      "outputs": [
        {
          "output_type": "stream",
          "name": "stderr",
          "text": [
            "R[write to console]: \n",
            "\n",
            "R[write to console]: DOSE v3.18.3  For help: https://guangchuangyu.github.io/software/DOSE\n",
            "\n",
            "If you use DOSE in published research, please cite:\n",
            "Guangchuang Yu, Li-Gen Wang, Guang-Rong Yan, Qing-Yu He. DOSE: an R/Bioconductor package for Disease Ontology Semantic and Enrichment analysis. Bioinformatics 2015, 31(4):608-609\n",
            "\n",
            "\n",
            "R[write to console]: clusterProfiler v4.0.5  For help: https://yulab-smu.top/biomedical-knowledge-mining-book/\n",
            "\n",
            "If you use clusterProfiler in published research, please cite:\n",
            "T Wu, E Hu, S Xu, M Chen, P Guo, Z Dai, T Feng, L Zhou, W Tang, L Zhan, X Fu, S Liu, X Bo, and G Yu. clusterProfiler 4.0: A universal enrichment tool for interpreting omics data. The Innovation. 2021, 2(3):100141. doi: 10.1016/j.xinn.2021.100141\n",
            "\n",
            "R[write to console]: \n",
            "Attaching package: ‘clusterProfiler’\n",
            "\n",
            "\n",
            "R[write to console]: The following object is masked from ‘package:stats’:\n",
            "\n",
            "    filter\n",
            "\n",
            "\n"
          ]
        }
      ]
    },
    {
      "cell_type": "code",
      "metadata": {
        "colab": {
          "base_uri": "https://localhost:8080/"
        },
        "collapsed": true,
        "id": "PdUIk0cOKf_O",
        "outputId": "222754f0-ed0b-4c1b-b796-c8ca09925713"
      },
      "source": [
        "#@title\n",
        "%%R  \n",
        "library(BiocGenerics, lib=lib_loc) \n",
        "library(S4Vectors, lib=lib_loc) #TRanges\n",
        "library(IRanges, lib=lib_loc) #AnnotationDbi\n",
        "library(Biobase, lib=lib_loc) \n",
        "library(AnnotationDbi, lib=lib_loc)\n",
        "library(org.Hs.eg.db, lib=lib_loc)"
      ],
      "execution_count": null,
      "outputs": [
        {
          "output_type": "stream",
          "name": "stderr",
          "text": [
            "R[write to console]: Loading required package: parallel\n",
            "\n",
            "R[write to console]: \n",
            "Attaching package: ‘BiocGenerics’\n",
            "\n",
            "\n",
            "R[write to console]: The following objects are masked from ‘package:parallel’:\n",
            "\n",
            "    clusterApply, clusterApplyLB, clusterCall, clusterEvalQ,\n",
            "    clusterExport, clusterMap, parApply, parCapply, parLapply,\n",
            "    parLapplyLB, parRapply, parSapply, parSapplyLB\n",
            "\n",
            "\n",
            "R[write to console]: The following objects are masked from ‘package:stats’:\n",
            "\n",
            "    IQR, mad, sd, var, xtabs\n",
            "\n",
            "\n",
            "R[write to console]: The following objects are masked from ‘package:base’:\n",
            "\n",
            "    anyDuplicated, append, as.data.frame, basename, cbind, colnames,\n",
            "    dirname, do.call, duplicated, eval, evalq, Filter, Find, get, grep,\n",
            "    grepl, intersect, is.unsorted, lapply, Map, mapply, match, mget,\n",
            "    order, paste, pmax, pmax.int, pmin, pmin.int, Position, rank,\n",
            "    rbind, Reduce, rownames, sapply, setdiff, sort, table, tapply,\n",
            "    union, unique, unsplit, which.max, which.min\n",
            "\n",
            "\n",
            "R[write to console]: Loading required package: stats4\n",
            "\n",
            "R[write to console]: \n",
            "Attaching package: ‘S4Vectors’\n",
            "\n",
            "\n",
            "R[write to console]: The following object is masked from ‘package:clusterProfiler’:\n",
            "\n",
            "    rename\n",
            "\n",
            "\n",
            "R[write to console]: The following objects are masked from ‘package:base’:\n",
            "\n",
            "    expand.grid, I, unname\n",
            "\n",
            "\n",
            "R[write to console]: \n",
            "Attaching package: ‘IRanges’\n",
            "\n",
            "\n",
            "R[write to console]: The following object is masked from ‘package:clusterProfiler’:\n",
            "\n",
            "    slice\n",
            "\n",
            "\n",
            "R[write to console]: Welcome to Bioconductor\n",
            "\n",
            "    Vignettes contain introductory material; view with\n",
            "    'browseVignettes()'. To cite Bioconductor, see\n",
            "    'citation(\"Biobase\")', and for packages 'citation(\"pkgname\")'.\n",
            "\n",
            "\n",
            "R[write to console]: \n",
            "Attaching package: ‘AnnotationDbi’\n",
            "\n",
            "\n",
            "R[write to console]: The following object is masked from ‘package:clusterProfiler’:\n",
            "\n",
            "    select\n",
            "\n",
            "\n",
            "R[write to console]: \n",
            "\n"
          ]
        }
      ]
    },
    {
      "cell_type": "code",
      "metadata": {
        "colab": {
          "base_uri": "https://localhost:8080/"
        },
        "id": "BDtEEEi-WrHe",
        "outputId": "06658b1a-fd6b-4b74-dd9e-0ba4f3d81e53"
      },
      "source": [
        "#@title\n",
        "%%R\n",
        "library(ggnewscale, lib=lib_loc)\n",
        "library(ggupset, lib=lib_loc)\n",
        "library(ggridges, lib=lib_loc)\n",
        "library(europepmc, lib=lib_loc)\n",
        "library(ggplot2)\n",
        "library(httr)\n",
        "library(dplyr) "
      ],
      "execution_count": null,
      "outputs": [
        {
          "output_type": "stream",
          "name": "stderr",
          "text": [
            "R[write to console]: \n",
            "Attaching package: ‘httr’\n",
            "\n",
            "\n",
            "R[write to console]: The following object is masked from ‘package:Biobase’:\n",
            "\n",
            "    content\n",
            "\n",
            "\n",
            "R[write to console]: \n",
            "Attaching package: ‘dplyr’\n",
            "\n",
            "\n",
            "R[write to console]: The following object is masked from ‘package:AnnotationDbi’:\n",
            "\n",
            "    select\n",
            "\n",
            "\n",
            "R[write to console]: The following object is masked from ‘package:Biobase’:\n",
            "\n",
            "    combine\n",
            "\n",
            "\n",
            "R[write to console]: The following objects are masked from ‘package:IRanges’:\n",
            "\n",
            "    collapse, desc, intersect, setdiff, slice, union\n",
            "\n",
            "\n",
            "R[write to console]: The following objects are masked from ‘package:S4Vectors’:\n",
            "\n",
            "    first, intersect, rename, setdiff, setequal, union\n",
            "\n",
            "\n",
            "R[write to console]: The following objects are masked from ‘package:BiocGenerics’:\n",
            "\n",
            "    combine, intersect, setdiff, union\n",
            "\n",
            "\n",
            "R[write to console]: The following objects are masked from ‘package:stats’:\n",
            "\n",
            "    filter, lag\n",
            "\n",
            "\n",
            "R[write to console]: The following objects are masked from ‘package:base’:\n",
            "\n",
            "    intersect, setdiff, setequal, union\n",
            "\n",
            "\n"
          ]
        }
      ]
    },
    {
      "cell_type": "markdown",
      "metadata": {
        "id": "L6di46k-86zi"
      },
      "source": [
        "#選檔案\n"
      ]
    },
    {
      "cell_type": "code",
      "metadata": {
        "colab": {
          "resources": {
            "http://localhost:8080/nbextensions/google.colab/files.js": {
              "data": "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",
              "ok": true,
              "headers": [
                [
                  "content-type",
                  "application/javascript"
                ]
              ],
              "status": 200,
              "status_text": ""
            }
          },
          "base_uri": "https://localhost:8080/",
          "height": 75
        },
        "id": "YYzdn39wsxOv",
        "outputId": "09bf9279-2800-49b2-8b7a-c952567265f3"
      },
      "source": [
        "#上傳檔案到colab\n",
        "from google.colab import files\n",
        "from rpy2.robjects import r\n",
        "import rpy2.robjects as robjects\n",
        "\n",
        "file=files.upload()\n",
        "\n",
        "if (file):\n",
        "  filename = next(iter(file))\n",
        "  r = robjects.r\n",
        "  r.assign('filename', filename) #將檔案名稱python -> R\n",
        "else:\n",
        "  print(\"請再次執行此儲存格，並選擇一個檔案\")"
      ],
      "execution_count": null,
      "outputs": [
        {
          "output_type": "display_data",
          "data": {
            "text/html": [
              "\n",
              "     <input type=\"file\" id=\"files-0ff4f049-986e-4c9c-a03b-1bc427a75343\" name=\"files[]\" multiple disabled\n",
              "        style=\"border:none\" />\n",
              "     <output id=\"result-0ff4f049-986e-4c9c-a03b-1bc427a75343\">\n",
              "      Upload widget is only available when the cell has been executed in the\n",
              "      current browser session. Please rerun this cell to enable.\n",
              "      </output>\n",
              "      <script src=\"/nbextensions/google.colab/files.js\"></script> "
            ],
            "text/plain": [
              "<IPython.core.display.HTML object>"
            ]
          },
          "metadata": {}
        },
        {
          "output_type": "stream",
          "name": "stdout",
          "text": [
            "Saving new_test.csv to new_test.csv\n"
          ]
        }
      ]
    },
    {
      "cell_type": "markdown",
      "metadata": {
        "id": "mmxd802hWb00"
      },
      "source": [
        "#data"
      ]
    },
    {
      "cell_type": "code",
      "metadata": {
        "colab": {
          "base_uri": "https://localhost:8080/"
        },
        "id": "JLPrpeuN3V2B",
        "outputId": "5cd6be67-291c-42b0-ab94-10f61cf81af5"
      },
      "source": [
        "%%R\n",
        "filetype <- sub(\".*(txt).*\", replacement = \"\\\\1\", filename)\n",
        "filetype <- sub(\".*(csv).*\", replacement = \"\\\\1\", filename)\n",
        "print(filetype)\n",
        "if (filetype == \"txt\")\n",
        "  d = read.txt(file = filename, header=TRUE ,sep=\"\\t\" ,fileEncoding =\"UTF-8\")\n",
        "else if (filetype == \"csv\")\n",
        "  d = read.csv(file = filename, header=TRUE, fileEncoding =\"UTF-8\")\n",
        "else\n",
        "  print(\"檔案格式錯誤 請再試一遍\")\n",
        "\n",
        "print(dim(d))\n",
        "print(colnames(d))\n",
        "d[,'ID'] <- sub(\"-.*\", \"\", d$ID)\n",
        "#write.table(d[,'ID'], file=\"sub.csv\", quote = FALSE, row.names = F)\n",
        "print(head(d))"
      ],
      "execution_count": null,
      "outputs": [
        {
          "output_type": "stream",
          "name": "stdout",
          "text": [
            "[1] \"csv\"\n",
            "[1] 3749   18\n",
            " [1] \"name\"                   \"DMSO_1\"                 \"DMSO_2\"                \n",
            " [4] \"DMSO_3\"                 \"DMSO_4\"                 \"LA_1\"                  \n",
            " [7] \"LA_2\"                   \"LA_3\"                   \"LA_4\"                  \n",
            "[10] \"ID\"                     \"LA_vs_DMSO_p.val\"       \"LA_vs_DMSO_p.adj\"      \n",
            "[13] \"significant\"            \"LA_vs_DMSO_significant\" \"LA_vs_DMSO_ratio\"      \n",
            "[16] \"DMSO_centered\"          \"LA_centered\"            \"GeneID\"                \n",
            "   name   DMSO_1   DMSO_2   DMSO_3   DMSO_4     LA_1     LA_2     LA_3     LA_4\n",
            "1 Ifit3 23.82695 24.04958 24.01282 24.14250 25.23222 25.24583 25.17408 25.10332\n",
            "2 Tgtp1 18.92257 18.15192 18.58612 18.95540 19.94380 20.01441 19.69667 19.66601\n",
            "3 Oas1a 24.27161 24.37087 24.21992 24.34267 25.34469 25.40400 25.27210 25.24794\n",
            "4   Fyn 21.14772 20.86115 21.20696 20.87048 22.08221 22.43781 21.29188       NA\n",
            "5 Iigp1 24.48472 24.54531 24.58129 24.63386 25.37996 25.53448 25.27284 25.33561\n",
            "6  Zbp1 21.13596 20.96163 21.15505       NA 21.91555 22.06718 21.96280 21.84602\n",
            "      ID LA_vs_DMSO_p.val LA_vs_DMSO_p.adj significant LA_vs_DMSO_significant\n",
            "1 Q64345      9.15000e-08         2.72e-13        TRUE                   TRUE\n",
            "2 Q62293      1.39457e-04         6.59e-02        TRUE                   TRUE\n",
            "3 P11928      2.68000e-08         2.72e-13        TRUE                   TRUE\n",
            "4 P39688      2.33004e-03         6.30e-01       FALSE                  FALSE\n",
            "5 Q9QZ85      6.97000e-07         9.08e-08        TRUE                   TRUE\n",
            "6 Q9QY24      2.77000e-06         2.99e-05        TRUE                   TRUE\n",
            "  LA_vs_DMSO_ratio DMSO_centered LA_centered    GeneID\n",
            "1            1.180        -0.590       0.590     15959\n",
            "2            1.180        -0.588       0.588 100039796\n",
            "3            1.020        -0.508       0.508    246730\n",
            "4            0.964        -0.482       0.482     14360\n",
            "5            0.819        -0.410       0.410     60440\n",
            "6            0.817        -0.408       0.408     58203\n"
          ]
        }
      ]
    },
    {
      "cell_type": "code",
      "metadata": {
        "colab": {
          "base_uri": "https://localhost:8080/"
        },
        "id": "lfxUvG6X4IG1",
        "outputId": "0f554407-3b46-469f-b3e3-8ba2d2e59a39"
      },
      "source": [
        "#舊的 先不用跑\n",
        "\n",
        "%%R\n",
        "#d = read.csv('/content/drive/MyDrive/Colab_Notebooks/new_test.csv',header=TRUE , sep=\"\\t\",fileEncoding =\"UTF-8\") #選擇檔案  file.choose()\n",
        "d = read.csv(file=filename,header=TRUE ,fileEncoding =\"UTF-8\") #選擇檔案  file.choose()\n",
        "#print(head(d))\n",
        "print(dim(d))\n",
        "print(colnames(d))\n",
        "d[,'ID'] <- sub(\"-.*\", \"\", d$ID)\n",
        "#write.table(d[,'ID'], file=\"sub.csv\", quote = FALSE, row.names = F)\n",
        "print(head(d))"
      ],
      "execution_count": null,
      "outputs": [
        {
          "output_type": "stream",
          "name": "stdout",
          "text": [
            "[1] 3749   18\n",
            " [1] \"name\"                   \"DMSO_1\"                 \"DMSO_2\"                \n",
            " [4] \"DMSO_3\"                 \"DMSO_4\"                 \"LA_1\"                  \n",
            " [7] \"LA_2\"                   \"LA_3\"                   \"LA_4\"                  \n",
            "[10] \"ID\"                     \"LA_vs_DMSO_p.val\"       \"LA_vs_DMSO_p.adj\"      \n",
            "[13] \"significant\"            \"LA_vs_DMSO_significant\" \"LA_vs_DMSO_ratio\"      \n",
            "[16] \"DMSO_centered\"          \"LA_centered\"            \"GeneID\"                \n",
            "   name   DMSO_1   DMSO_2   DMSO_3   DMSO_4     LA_1     LA_2     LA_3     LA_4\n",
            "1 Ifit3 23.82695 24.04958 24.01282 24.14250 25.23222 25.24583 25.17408 25.10332\n",
            "2 Tgtp1 18.92257 18.15192 18.58612 18.95540 19.94380 20.01441 19.69667 19.66601\n",
            "3 Oas1a 24.27161 24.37087 24.21992 24.34267 25.34469 25.40400 25.27210 25.24794\n",
            "4   Fyn 21.14772 20.86115 21.20696 20.87048 22.08221 22.43781 21.29188       NA\n",
            "5 Iigp1 24.48472 24.54531 24.58129 24.63386 25.37996 25.53448 25.27284 25.33561\n",
            "6  Zbp1 21.13596 20.96163 21.15505       NA 21.91555 22.06718 21.96280 21.84602\n",
            "      ID LA_vs_DMSO_p.val LA_vs_DMSO_p.adj significant LA_vs_DMSO_significant\n",
            "1 Q64345      9.15000e-08         2.72e-13        TRUE                   TRUE\n",
            "2 Q62293      1.39457e-04         6.59e-02        TRUE                   TRUE\n",
            "3 P11928      2.68000e-08         2.72e-13        TRUE                   TRUE\n",
            "4 P39688      2.33004e-03         6.30e-01       FALSE                  FALSE\n",
            "5 Q9QZ85      6.97000e-07         9.08e-08        TRUE                   TRUE\n",
            "6 Q9QY24      2.77000e-06         2.99e-05        TRUE                   TRUE\n",
            "  LA_vs_DMSO_ratio DMSO_centered LA_centered    GeneID\n",
            "1            1.180        -0.590       0.590     15959\n",
            "2            1.180        -0.588       0.588 100039796\n",
            "3            1.020        -0.508       0.508    246730\n",
            "4            0.964        -0.482       0.482     14360\n",
            "5            0.819        -0.410       0.410     60440\n",
            "6            0.817        -0.408       0.408     58203\n"
          ]
        }
      ]
    },
    {
      "cell_type": "code",
      "metadata": {
        "colab": {
          "base_uri": "https://localhost:8080/"
        },
        "id": "LP0nBbX988nW",
        "outputId": "8c8080bd-631d-4a37-a334-4f983f3c3021"
      },
      "source": [
        "%%R \n",
        "\n",
        "#連接網頁(uniprot -> entrez)\n",
        "ID_string <- paste(d$ID, collapse=' ')\n",
        "\n",
        "#送出資料\n",
        "library(httr)\n",
        "result_1 <- httr::POST(\"https://www.uniprot.org/uploadlists/\", body = list('uploadQuery'=ID_string , 'from'=\"ACC,ID\",'to'=\"P_ENTREZGENEID\")) #c(\"C0HK80 C0HKD9\")\n",
        "print(paste(\"result: \",result_1[1]))\n",
        "\n",
        "#得到轉換結果\n",
        "table_url <- paste0(result_1[1], \".tab\")\n",
        "result <- httr::GET(table_url)\n",
        "print(paste(\"result table: \", result[1]))\n",
        "\n",
        "#把得到的結果轉成table\n",
        "\n",
        "result_table <- content(result)\n",
        "uniprot_entrez <- read.table(text=result_table, col.names=c('uniprot', 'entrez'))\n",
        "uniprot_entrez <- uniprot_entrez[-c(1),]\n",
        "\n",
        "#去除重複\n",
        "uniprot_entrez[, 2] <- as.numeric(uniprot_entrez[, 2])\n",
        "uniprot_entrez <-uniprot_entrez [ order(uniprot_entrez$uniprot, uniprot_entrez$entrez),]\n",
        "uniprot_entrez <- uniprot_entrez[!duplicated(uniprot_entrez$uniprot),]\n",
        "\n",
        "cat(\"row * colmun =\",dim(uniprot_entrez), \"\\n\")\n",
        "print(head(uniprot_entrez))\n",
        "write.table(uniprot_entrez, file=\"uniprot_entrez.csv\", quote=FALSE, row.names=F)"
      ],
      "execution_count": null,
      "outputs": [
        {
          "output_type": "stream",
          "name": "stdout",
          "text": [
            "[1] \"result:  https://www.uniprot.org/mapping/M202111114ABAA9BC7178C81CEBC9459510EDDEA32D096FQ\"\n",
            "[1] \"result table:  https://www.uniprot.org/mapping/M202111114ABAA9BC7178C81CEBC9459510EDDEA32D096FQ.tab\"\n"
          ]
        },
        {
          "output_type": "stream",
          "name": "stderr",
          "text": [
            "R[write to console]: No encoding supplied: defaulting to UTF-8.\n",
            "\n"
          ]
        },
        {
          "output_type": "stream",
          "name": "stdout",
          "text": [
            "row * colmun = 3602 2 \n",
            "     uniprot entrez\n",
            "849   A2A432  72584\n",
            "3643  A2A5N8 241764\n",
            "2475  A2A5R2  99371\n",
            "975   A2A8U2 230917\n",
            "1705  A2A8Z1 100273\n",
            "3390  A2ADY9  68817\n"
          ]
        }
      ]
    },
    {
      "cell_type": "markdown",
      "metadata": {
        "id": "PRz8UqY2c5Jm"
      },
      "source": [
        "biomaRt\n"
      ]
    },
    {
      "cell_type": "code",
      "metadata": {
        "id": "AC-o0kC9xVXz"
      },
      "source": [
        "%%R\n",
        "#老鼠(entrezid) => 人類(entrez)\n",
        "library(biomaRt, lib=lib_loc)\n",
        "\n",
        "mouse = useEnsembl(\"ensembl\", dataset = \"mmusculus_gene_ensembl\")\n",
        "human = useEnsembl(\"ensembl\", dataset = \"hsapiens_gene_ensembl\")\n",
        "\n",
        "human_mouse <- getLDS(mart=mouse, attributes=c(\"entrezgene_id\"), filters=\"entrezgene_id\" , values=uniprot_entrez[,\"entrez\"], attributesL= c(\"entrezgene_id\"), martL = human, uniqueRows=T ) #values=uniprots_ID\n",
        "\n"
      ],
      "execution_count": null,
      "outputs": []
    },
    {
      "cell_type": "code",
      "metadata": {
        "colab": {
          "base_uri": "https://localhost:8080/"
        },
        "id": "f_S5akCKb4lT",
        "outputId": "d557a18b-f11a-4749-b3b5-2a2f7eb8ac7f"
      },
      "source": [
        "%%R\n",
        "#處理重複\n",
        "colnames(human_mouse) <- c('entrez','human')\n",
        "human_mouse <-human_mouse[ order(human_mouse$entrez, human_mouse$human),]\n",
        "human_mouse <- human_mouse[!duplicated(human_mouse$entrez),]\n",
        "\n",
        "print(dim(human_mouse))\n",
        "print(head(human_mouse))"
      ],
      "execution_count": null,
      "outputs": [
        {
          "output_type": "stream",
          "name": "stdout",
          "text": [
            "[1] 3443    2\n",
            "     entrez human\n",
            "1818  11306    22\n",
            "1290  11308 10006\n",
            "3128  11363    33\n",
            "3514  11364    34\n",
            "2931  11370    37\n",
            "1245  11409    35\n"
          ]
        }
      ]
    },
    {
      "cell_type": "code",
      "metadata": {
        "colab": {
          "base_uri": "https://localhost:8080/"
        },
        "id": "GzsuTdgwsvqu",
        "outputId": "677694f0-bbae-4a4c-cf31-c1b28c3f0544"
      },
      "source": [
        "%%R \n",
        "#inner join d, human_mouse,uniprot_entrez \n",
        "library(dplyr) \n",
        "\n",
        "#temp:entrez(mmu)、human、ID(uniprot)\n",
        "temp <- inner_join( uniprot_entrez, human_mouse, by=\"entrez\")\n",
        "colnames(temp) <- c('ID', 'entrez', 'human')\n",
        "temp[, \"ID\"] <- as.character(temp[, \"ID\"])\n",
        "head(temp)\n",
        "\n",
        "#data\n",
        "data <- inner_join(temp, d, by=\"ID\")\n",
        "\n",
        "print(head(data))\n",
        "cat(\"uniprot_entrez:\",dim(uniprot_entrez), \"\\n\") #老鼠uniprot、老鼠entrez\n",
        "cat(\"human_mouse:\",dim(human_mouse), \"\\n\") #老鼠entrez、人類entrez\n",
        "cat(\"temp\", dim(temp), \"\\n\")#老鼠uniprot、老鼠entrez、人類entrez\n",
        "cat(\"data:\",dim(data), \"\\n\")\n",
        "\n",
        "#write.table(uniprot_entrez, file=\"data.csv\", quote=FALSE, row.name=F)\n",
        "#write.table(human_mouse, file=\"data.csv\", quote=FALSE, row.name=F)\n",
        "#write.table(data, file=\"data.csv\", quote=FALSE, row.name=F)"
      ],
      "execution_count": null,
      "outputs": [
        {
          "output_type": "stream",
          "name": "stdout",
          "text": [
            "      ID entrez  human    name   DMSO_1   DMSO_2   DMSO_3   DMSO_4     LA_1\n",
            "1 A2A5R2  99371  10564 Arfgef2 23.29912 22.79016 23.03723 23.18972 23.01623\n",
            "2 A2A8U2 230917 199953 Tmem201 21.95978 22.21181 22.00432 22.06360 22.07601\n",
            "3 A2A8Z1 100273 114883  Osbpl9 24.08747 24.15260 24.17161 23.98436 24.14774\n",
            "4 A2ADY9  68817   6248    Ddi2 22.84862 22.72420 22.93821 22.73486 22.52323\n",
            "5 A2AF47  75974 139818  Dock11 21.31911 21.09066 21.24871 21.34867 21.15521\n",
            "6 A2AGT5  75786   9793   Ckap5 24.16800 24.25111 24.22847 24.20439 24.18573\n",
            "      LA_2     LA_3     LA_4 LA_vs_DMSO_p.val LA_vs_DMSO_p.adj significant\n",
            "1 23.00096 23.06632 22.98203      0.545154493            0.973       FALSE\n",
            "2 22.29341 21.99556 22.19818      0.331773456            0.967       FALSE\n",
            "3 23.81327 24.26533 24.21237      0.915954050            0.978       FALSE\n",
            "4 22.66537 22.57378 22.60040      0.004813982            0.753       FALSE\n",
            "5 21.22370 21.15882 21.13767      0.198564857            0.959       FALSE\n",
            "6 24.30598 24.33213 24.30147      0.150691705            0.954       FALSE\n",
            "  LA_vs_DMSO_significant LA_vs_DMSO_ratio DMSO_centered LA_centered GeneID\n",
            "1                  FALSE          -0.0627       0.03130    -0.03130  99371\n",
            "2                  FALSE           0.0809      -0.04050     0.04050 230917\n",
            "3                  FALSE           0.0107      -0.00533     0.00533 100273\n",
            "4                  FALSE          -0.2210       0.11000    -0.11000  68817\n",
            "5                  FALSE          -0.0829       0.04150    -0.04150  75974\n",
            "6                  FALSE           0.0683      -0.03420     0.03420  75786\n",
            "uniprot_entrez: 3602 2 \n",
            "human_mouse: 3443 2 \n",
            "temp 3445 3 \n",
            "data: 3457 20 \n"
          ]
        }
      ]
    },
    {
      "cell_type": "code",
      "metadata": {
        "colab": {
          "base_uri": "https://localhost:8080/"
        },
        "id": "7YhHDIWK68H1",
        "outputId": "cf0f9e93-3365-458f-ac6d-dea1a030bd12"
      },
      "source": [
        "%%R\n",
        "#geneList\n",
        "print(colnames(data))\n",
        "## feature 1: numeric vector\n",
        "geneList = data[,'LA_vs_DMSO_ratio'] #-log(pValue)\n",
        "\n",
        "## feature 2: named vector\n",
        "names(geneList) = as.character(data[, 'human']) \n",
        "\n",
        "## feature 3: decreasing orde\n",
        "geneList = sort(geneList, decreasing = TRUE)\n",
        "head(geneList)\n"
      ],
      "execution_count": null,
      "outputs": [
        {
          "output_type": "stream",
          "name": "stdout",
          "text": [
            " [1] \"ID\"                     \"entrez\"                 \"human\"                 \n",
            " [4] \"name\"                   \"DMSO_1\"                 \"DMSO_2\"                \n",
            " [7] \"DMSO_3\"                 \"DMSO_4\"                 \"LA_1\"                  \n",
            "[10] \"LA_2\"                   \"LA_3\"                   \"LA_4\"                  \n",
            "[13] \"LA_vs_DMSO_p.val\"       \"LA_vs_DMSO_p.adj\"       \"significant\"           \n",
            "[16] \"LA_vs_DMSO_significant\" \"LA_vs_DMSO_ratio\"       \"DMSO_centered\"         \n",
            "[19] \"LA_centered\"            \"GeneID\"                \n",
            "  3437   4938   2534  81030 439996   9636 \n",
            " 1.180  1.020  0.964  0.817  0.802  0.798 \n"
          ]
        }
      ]
    },
    {
      "cell_type": "code",
      "metadata": {
        "colab": {
          "base_uri": "https://localhost:8080/"
        },
        "id": "R2fxPak43Ghq",
        "outputId": "7aa9b443-33b0-448a-8aee-4cab55ffe707"
      },
      "source": [
        "%%R\n",
        "de <- names(geneList)[abs(log(geneList)) > 1]\n",
        "edo <- enrichDGN(de)\n",
        "edo2 <- gseDO(geneList, pvalueCutoff=1)\n",
        "edox <- setReadable(edo, 'org.Hs.eg.db', 'ENTREZID')"
      ],
      "execution_count": null,
      "outputs": [
        {
          "output_type": "stream",
          "name": "stderr",
          "text": [
            "R[write to console]: preparing geneSet collections...\n",
            "\n",
            "R[write to console]: GSEA analysis...\n",
            "\n",
            "R[write to console]: leading edge analysis...\n",
            "\n",
            "R[write to console]: done...\n",
            "\n"
          ]
        }
      ]
    },
    {
      "cell_type": "markdown",
      "metadata": {
        "id": "T4OacVqeWlna"
      },
      "source": [
        "#圖"
      ]
    },
    {
      "cell_type": "markdown",
      "metadata": {
        "id": "2nM03I9hb7LJ"
      },
      "source": [
        "1.Bar Plot"
      ]
    },
    {
      "cell_type": "code",
      "metadata": {
        "id": "uoWAHg_Sbl78"
      },
      "source": [
        "%%R\n",
        "barplot_1 <- function(){\n",
        "    pic1 <- barplot(edo,x = \"Count\", color=\"p.adjust\", showCategory=20)+ xlab(\"Count\")\n",
        "    print(pic1)\n",
        "    save_plot(\"pic1.png\", pic1, base_height = 10, base_aspect_ratio = 1)\n",
        "}"
      ],
      "execution_count": null,
      "outputs": []
    },
    {
      "cell_type": "markdown",
      "metadata": {
        "id": "yZzEBT0q-OSs"
      },
      "source": [
        "2.Dot Plot"
      ]
    },
    {
      "cell_type": "code",
      "metadata": {
        "id": "Z-KPTmIv76AZ"
      },
      "source": [
        "%%R\n",
        "dotplot_2 <- function(){\n",
        "   pic2_1 <- dotplot(edo, showCategory=30) + ggtitle(\"dotplot for ORA\")\n",
        "   pic2_2 <- dotplot(edo2, showCategory=30) + ggtitle(\"dotplot for GSEA\")\n",
        "   print(pic2_1)\n",
        "   print(pic2_2)\n",
        "   save_plot(\"pic2_1.png\", pic2_1, base_height = 10, base_aspect_ratio = 1)\n",
        "   save_plot(\"pic2_2.png\", pic2_2, base_height = 10, base_aspect_ratio = 1)\n",
        "}\n"
      ],
      "execution_count": null,
      "outputs": []
    },
    {
      "cell_type": "markdown",
      "metadata": {
        "id": "yXPWAy7ICnBK"
      },
      "source": [
        " 3.Gene-Concept Network"
      ]
    },
    {
      "cell_type": "code",
      "metadata": {
        "id": "SpNbeG3rE7NC"
      },
      "source": [
        "%%R \n",
        "gene_concept_network_3 <- function(){\n",
        "    pic3_1 <- cnetplot(edox, foldChange=geneList)\n",
        "    ## categorySize can be scaled by 'pvalue' or 'geneNum'\n",
        "    pic3_2 <- cnetplot(edox, categorySize=\"pvalue\", foldChange=geneList)\n",
        "    pic3_3 <- cnetplot(edox, foldChange=geneList, circular = TRUE, colorEdge = TRUE)\n",
        "    print(pic3_1)\n",
        "    print(pic3_2)\n",
        "    print(pic3_3)\n",
        "    pic3_4 <- cnetplot(edox, node_label=\"category\") \n",
        "    pic3_5 <- cnetplot(edox, node_label=\"gene\") \n",
        "    pic3_6 <- cnetplot(edox, node_label=\"all\") \n",
        "    pic3_7 <- cnetplot(edox, node_label=\"none\") \n",
        "    print(pic3_4)\n",
        "    print(pic3_5)\n",
        "    print(pic3_6)\n",
        "    print(pic3_7)\n",
        "    save_plot(\"pic3_1.png\", pic3_1, base_height = 10, base_aspect_ratio = 1)\n",
        "    save_plot(\"pic3_2.png\", pic3_2, base_height = 10, base_aspect_ratio = 1)\n",
        "    save_plot(\"pic3_3.png\", pic3_3, base_height = 10, base_aspect_ratio = 1)\n",
        "    save_plot(\"pic3_4.png\", pic3_4, base_height = 10, base_aspect_ratio = 1)\n",
        "    save_plot(\"pic3_5.png\", pic3_5, base_height = 10, base_aspect_ratio = 1)\n",
        "    save_plot(\"pic3_6.png\", pic3_6, base_height = 10, base_aspect_ratio = 1)\n",
        "    save_plot(\"pic3_7.png\", pic3_7, base_height = 10, base_aspect_ratio = 1)\n",
        "}"
      ],
      "execution_count": null,
      "outputs": []
    },
    {
      "cell_type": "markdown",
      "metadata": {
        "id": "5HIHYLhKC6dT"
      },
      "source": [
        "4.Heatmap-like functional classification"
      ]
    },
    {
      "cell_type": "code",
      "metadata": {
        "id": "0sGrMd3ADTTj"
      },
      "source": [
        "%%R\n",
        "heatmap_like_functional_classification_4 <- function(){\n",
        "    pic4_1 <- heatplot(edox)\n",
        "    pic4_2 <- heatplot(edox, foldChange=geneList)\n",
        "    cowplot::plot_grid(pic4_1, pic4_2, ncol=1, labels=LETTERS[1:2])\n",
        "    pic4_1 <- pic4_1 + coord_flip()\n",
        "    pic4_2 <- pic4_2 + coord_flip()\n",
        "    print(pic4_1)\n",
        "    print(pic4_2)\n",
        "    save_plot(\"pic4_1.png\", pic4_1, base_height = 70, base_aspect_ratio = 0.5,limitsize = FALSE)\n",
        "    save_plot(\"pic4_2.png\", pic4_2, base_height = 10, base_aspect_ratio = 3,limitsize = FALSE)\n",
        "}"
      ],
      "execution_count": null,
      "outputs": []
    },
    {
      "cell_type": "markdown",
      "metadata": {
        "id": "cABmbn9WVtLe"
      },
      "source": [
        "5 Enrichment Map"
      ]
    },
    {
      "cell_type": "code",
      "metadata": {
        "id": "nil7eBV8VD9E"
      },
      "source": [
        "%%R\n",
        "enrichment_map_5 <- function(){\n",
        "  edo <- pairwise_termsim(edo)\n",
        "  pic5_1 <- emapplot(edo)\n",
        "  pic5_2 <- emapplot(edo, cex_category=1.5)\n",
        "  pic5_3 <- emapplot(edo, layout=\"kk\")\n",
        "  pic5_4 <- emapplot(edo, cex_category=1.5,layout=\"kk\") \n",
        "  enrichment <- cowplot::plot_grid(pic5_1, pic5_2, pic5_3, pic5_4,labels=LETTERS[1:4])\n",
        "  print(pic5_1)\n",
        "  print(pic5_2)\n",
        "  print(pic5_3)\n",
        "  print(pic5_4) \n",
        "  save_plot(\"pic5_1.png\", pic5_1, base_height = 10, base_aspect_ratio = 1)\n",
        "  save_plot(\"pic5_2.png\", pic5_2, base_height = 10, base_aspect_ratio = 1)\n",
        "  save_plot(\"pic5_3.png\", pic5_3, base_height = 10, base_aspect_ratio = 1)\n",
        "  save_plot(\"pic5_4.png\", pic5_4, base_height = 10, base_aspect_ratio = 1) \n",
        "}\n"
      ],
      "execution_count": null,
      "outputs": []
    },
    {
      "cell_type": "markdown",
      "metadata": {
        "id": "OBrhLgljVw8K"
      },
      "source": [
        "6 Biological theme comparison"
      ]
    },
    {
      "cell_type": "code",
      "metadata": {
        "id": "hOWYZj_qln7G"
      },
      "source": [
        "%%R\n",
        "biological_theme_comparison_6 <- function() {\n",
        "  library(clusterProfiler, lib=lib_loc)\n",
        "  xx <- compareCluster(data, fun=\"enrichKEGG\",\n",
        "            organism=\"hsa\", pvalueCutoff=0.05) #pvalueCutoff正常為0.05\n",
        "  xx <- pairwise_termsim(xx)                     \n",
        "  pic6_1 <- emapplot(xx)\n",
        "  pic6_2 <- emapplot(xx, legend_n=2) \n",
        "  pic6_3 <- emapplot(xx, pie=\"count\")\n",
        "  pic6_4 <- emapplot(xx, pie=\"count\", cex_category=1.5, layout=\"kk\")\n",
        "  #cowplot::plot_grid(p1, p2, p3, p4, ncol=2, labels=LETTERS[1:4])\n",
        "  print(pic6_1)\n",
        "  print(pic6_2)\n",
        "  print(pic6_3)\n",
        "  print(pic6_4)\n",
        "  save_plot(\"pic6_1.png\", pic6_1, base_height = 10, base_aspect_ratio = 1)\n",
        "  save_plot(\"pic6_2.png\", pic6_2, base_height = 10, base_aspect_ratio = 1)\n",
        "  save_plot(\"pic6_3.png\", pic6_3, base_height = 10, base_aspect_ratio = 1)\n",
        "  save_plot(\"pic6_4.png\", pic6_4, base_height = 10, base_aspect_ratio = 1)\n",
        "}\n"
      ],
      "execution_count": null,
      "outputs": []
    },
    {
      "cell_type": "markdown",
      "metadata": {
        "id": "BgOkxF3OV2OS"
      },
      "source": [
        "7 UpSet Plot"
      ]
    },
    {
      "cell_type": "code",
      "metadata": {
        "id": "WHgHo3Y7JqIV"
      },
      "source": [
        "%%R\n",
        "upSet_plot_7 <- function() {\n",
        "    pic7_1 <- upsetplot(edo)\n",
        "\n",
        "    kk2 <- gseKEGG(   geneList = geneList,\n",
        "               organism     = 'hsa',\n",
        "               minGSSize    = 120,\n",
        "               pvalueCutoff = 0.05,\n",
        "               verbose      = FALSE)\n",
        "    pic7_2 <- upsetplot(kk2, n = 10)\n",
        "    \n",
        "    print(pic7_1)\n",
        "    print(pic7_2)\n",
        "    save_plot(\"pic7_1.png\", pic7_1, base_height = 10, base_aspect_ratio = 1.5)\n",
        "    save_plot(\"pic7_2.png\", pic7_2, base_height = 10, base_aspect_ratio = 1.5)\n",
        "\n",
        "}"
      ],
      "execution_count": null,
      "outputs": []
    },
    {
      "cell_type": "markdown",
      "metadata": {
        "id": "Uqes_mHxV7-z"
      },
      "source": [
        "8 ridgeline plot for expression distribution of GSEA result (X軸)"
      ]
    },
    {
      "cell_type": "code",
      "metadata": {
        "id": "QhgPmouzIqVZ"
      },
      "source": [
        "%%R\n",
        "ridgeline_plot_for_expression_distribution_of_GSEA_result_8 <- function(){\n",
        "    pic8 <- ridgeplot(edo2) + xlab(\"expression distributions of enriched genes (log2FC)\")\n",
        "    print(pic8)\n",
        "    save_plot(\"pic8.pdf\", pic8, base_height = 20, base_aspect_ratio = 0.6)\n",
        "}"
      ],
      "execution_count": null,
      "outputs": []
    },
    {
      "cell_type": "markdown",
      "metadata": {
        "id": "0I3cG9xTV_fL"
      },
      "source": [
        "9 running score and preranked list of GSEA result"
      ]
    },
    {
      "cell_type": "code",
      "metadata": {
        "id": "3t0n8N4eDQwV"
      },
      "source": [
        "%%R\n",
        "running_score_and_preranked_list_of_GSEA_result_9 <- function(){\n",
        "  pic9_1 <- gseaplot(edo2, geneSetID = 1, by = \"runningScore\", title = edo2$Description[1])\n",
        "  pic9_2 <- gseaplot(edo2, geneSetID = 1, by = \"preranked\", title = edo2$Description[1])\n",
        "  pic9_3 <- gseaplot(edo2, geneSetID = 1, title = edo2$Description[1])\n",
        "  \n",
        "  #cowplot::plot_grid(pic9_1, pic9_2, pic9_3, ncol=1, labels=LETTERS[1:3])\n",
        "  pic9_4 <- gseaplot2(edo2, geneSetID = 1, title = edo2$Description[1])\n",
        " \n",
        "  pic9_5 <- gseaplot2(edo2, geneSetID = 1:3)\n",
        "  pic9_6 <- gseaplot2(edo2, geneSetID = 1:3, pvalue_table = TRUE,\n",
        "          color = c(\"#E495A5\", \"#86B875\", \"#7DB0DD\"), ES_geom = \"dot\")\n",
        "  \n",
        "  pic9_7 <- gseaplot2(edo2, geneSetID = 1:3, subplots = 1) + xlab(\"Rank\")\n",
        "  pic9_8 <- gseaplot2(edo2, geneSetID = 1:3, subplots = 1:2) + xlab(\"Rank\")\n",
        "  #pic9_7_8 <- cowplot::plot_grid(pic9_7, pic9_8, ncol=1, labels=LETTERS[1:2])\n",
        "\n",
        "  pic9_9 <- gsearank(edo2, 1, title = edo2[1, \"Description\"])\n",
        "\n",
        "  pic9_10 <- lapply(1:3, function(i){\n",
        "    anno <- edo2[i, c(\"NES\", \"pvalue\", \"p.adjust\")]\n",
        "    lab <- paste0(names(anno), \"=\",  round(anno, 3), collapse=\"\\n\")\n",
        "    gsearank(edo2, i, edo2[i, 2]) + xlab(\"Rank\")+ylab(\"???\")+ \n",
        "      annotate(\"text\", 5000, edo2[i, \"enrichmentScore\"]* .75, label =lab, hjust=0, vjust=0)})\n",
        "\n",
        "#plot_grid(plotlist=pp, ncol=1)\n",
        "  print(pic9_1)\n",
        "  print(pic9_2)\n",
        "  print(pic9_3)\n",
        "  print(pic9_4)\n",
        "  print(pic9_5)\n",
        "  print(pic9_6)\n",
        "  print(pic9_7)\n",
        "  print(pic9_8)\n",
        "  print(pic9_9)\n",
        "  print(pic9_10)\n",
        "  save_plot(\"pic9_1.png\", pic9_1, base_height = 10, base_aspect_ratio = 1)\n",
        "  save_plot(\"pic9_2.png\", pic9_2, base_height = 10, base_aspect_ratio = 1)\n",
        "  save_plot(\"pic9_3.png\", pic9_3, base_height = 10, base_aspect_ratio = 1)\n",
        "  save_plot(\"pic9_4.png\", pic9_4, base_height = 10, base_aspect_ratio = 1)\n",
        "  save_plot(\"pic9_5.png\", pic9_5, base_height = 10, base_aspect_ratio = 1)\n",
        "  save_plot(\"pic9_6.png\", pic9_6, base_height = 10, base_aspect_ratio = 1)\n",
        "  save_plot(\"pic9_7.png\", pic9_7, base_height = 10, base_aspect_ratio = 1)\n",
        "  save_plot(\"pic9_8.png\", pic9_8, base_height = 10, base_aspect_ratio = 1)\n",
        "  save_plot(\"pic9_9.png\", pic9_9, base_height = 10, base_aspect_ratio = 1)\n",
        "  #save_plot(\"pic9_10.png\", pic9_10, base_height = 10, base_aspect_ratio = 1)\n",
        "  \n",
        "}"
      ],
      "execution_count": null,
      "outputs": []
    },
    {
      "cell_type": "markdown",
      "metadata": {
        "id": "zHPr2iAG30td"
      },
      "source": [
        "#開始畫圖"
      ]
    },
    {
      "cell_type": "code",
      "metadata": {
        "colab": {
          "base_uri": "https://localhost:8080/",
          "referenced_widgets": [
            "47393d6b2ffd43828409dc89df18b78c",
            "0047c70b4668474bafb09cb87c1d294c",
            "8676450348b24df0b9dc1b3e2b7ec14a",
            "43bf396a48224114b8c548813b7ac314",
            "ed4c9ac6e03f4b1e805a1a6849b025c8"
          ]
        },
        "id": "Iv-8P2om_fzL",
        "outputId": "2fedadad-b3cb-45f4-a2ab-e899a2261b05"
      },
      "source": [
        "import ipywidgets as widgets\n",
        "from IPython.display import display, HTML\n",
        "output = widgets.Output()\n",
        "\n",
        "@output.capture(clear_output=True,wait=True) # based on https://github.com/jupyter-widgets/ipywidgets/issues/1846 and https://ipywidgets.readthedocs.io/en/latest/examples/Output%20Widget.html\n",
        "def draw(b):\n",
        "   if (filename):\n",
        "      \n",
        "      print (\"1. barplot\")\n",
        "      %R barplot_1()\n",
        "      print (\"2. dotplot\")\n",
        "      %R dotplot_2()\n",
        "      print (\"3. Gene-Concept Network\")\n",
        "      %R gene_concept_network_3()\n",
        "      print (\"4. Heatmap-like functional classification\")\n",
        "      %R heatmap_like_functional_classification_4()\n",
        "      print (\"5. Enrichment Map\")\n",
        "      %R enrichment_map_5()\n",
        "      print (\"6. Biological theme comparison\")\n",
        "      %R biological_theme_comparison_6()\n",
        "      print (\"7. UpSet Plot\")\n",
        "      %R upSet_plot_7()\n",
        "      print (\"8. ridgeline plot for expression distribution of GSEA result\")\n",
        "      %R ridgeline_plot_for_expression_distribution_of_GSEA_result_8()\n",
        "      print (\"9. running score and preranked list of GSEA result\")\n",
        "      %R running_score_and_preranked_list_of_GSEA_result_9()\n",
        "     #%R print(barplot(edo,x = \"Count\", color=\"p.adjust\", showCategory=20)+ xlab(\"Count\"))\n",
        "     \n",
        "      print(\"畫完了!!\")\n",
        "   else:\n",
        "      print(\"請選擇檔案\")\n",
        "        \n",
        "\n",
        "        \n",
        "run_button = widgets.Button(\n",
        "      description = '開始畫圖'\n",
        ")\n",
        "\n",
        "run_button.on_click(draw)\n",
        "display(run_button)\n",
        "output"
      ],
      "execution_count": null,
      "outputs": [
        {
          "output_type": "display_data",
          "data": {
            "application/vnd.jupyter.widget-view+json": {
              "model_id": "47393d6b2ffd43828409dc89df18b78c",
              "version_minor": 0,
              "version_major": 2
            },
            "text/plain": [
              "Button(description='開始畫圖', style=ButtonStyle())"
            ]
          },
          "metadata": {}
        },
        {
          "output_type": "display_data",
          "data": {
            "application/vnd.jupyter.widget-view+json": {
              "model_id": "43bf396a48224114b8c548813b7ac314",
              "version_minor": 0,
              "version_major": 2
            },
            "text/plain": [
              "Output()"
            ]
          },
          "metadata": {}
        }
      ]
    }
  ]
}